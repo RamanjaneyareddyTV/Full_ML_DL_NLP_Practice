{
 "cells": [
  {
   "cell_type": "markdown",
   "id": "5ebf7f67",
   "metadata": {},
   "source": [
    "## Importing Libraries"
   ]
  },
  {
   "cell_type": "code",
   "execution_count": 1,
   "id": "a7c32ba8",
   "metadata": {},
   "outputs": [],
   "source": [
    "import numpy as np \n",
    "import pandas as pd\n",
    "import seaborn as sns\n",
    "import matplotlib.pyplot as plt\n",
    "from sklearn.model_selection import train_test_split\n",
    "from sklearn.preprocessing import StandardScaler, OneHotEncoder\n",
    "from sklearn.impute import SimpleImputer\n",
    "from sklearn.pipeline import make_pipeline\n",
    "from sklearn.compose import make_column_transformer\n",
    "from scipy import stats\n",
    "from scipy.stats import norm, skew\n",
    "from sklearn.metrics import accuracy_score\n",
    "from numpy.random import seed\n",
    "from tensorflow.random import set_seed \n",
    "from tensorflow import keras\n",
    "from tensorflow.keras import layers\n",
    "import warnings\n",
    "warnings.filterwarnings(\"ignore\")\n",
    "from sklearn.linear_model import LogisticRegression\n",
    "from sklearn.svm import SVC, LinearSVC\n",
    "from sklearn.ensemble import RandomForestClassifier\n",
    "from sklearn.neighbors import KNeighborsClassifier\n",
    "from sklearn.naive_bayes import GaussianNB\n",
    "from sklearn.linear_model import Perceptron\n",
    "from sklearn.linear_model import SGDClassifier\n",
    "from sklearn.tree import DecisionTreeClassifier"
   ]
  },
  {
   "cell_type": "markdown",
   "id": "f3445ba7",
   "metadata": {},
   "source": [
    "# Data Visualization and Analysis"
   ]
  },
  {
   "cell_type": "markdown",
   "id": "47dfd77b",
   "metadata": {},
   "source": [
    "## Load Dataset"
   ]
  },
  {
   "cell_type": "code",
   "execution_count": 2,
   "id": "e9cc2460",
   "metadata": {},
   "outputs": [
    {
     "data": {
      "text/html": [
       "<div>\n",
       "<style scoped>\n",
       "    .dataframe tbody tr th:only-of-type {\n",
       "        vertical-align: middle;\n",
       "    }\n",
       "\n",
       "    .dataframe tbody tr th {\n",
       "        vertical-align: top;\n",
       "    }\n",
       "\n",
       "    .dataframe thead th {\n",
       "        text-align: right;\n",
       "    }\n",
       "</style>\n",
       "<table border=\"1\" class=\"dataframe\">\n",
       "  <thead>\n",
       "    <tr style=\"text-align: right;\">\n",
       "      <th></th>\n",
       "      <th>age</th>\n",
       "      <th>sex</th>\n",
       "      <th>cp</th>\n",
       "      <th>trtbps</th>\n",
       "      <th>chol</th>\n",
       "      <th>fbs</th>\n",
       "      <th>restecg</th>\n",
       "      <th>thalachh</th>\n",
       "      <th>exng</th>\n",
       "      <th>oldpeak</th>\n",
       "      <th>slp</th>\n",
       "      <th>caa</th>\n",
       "      <th>thall</th>\n",
       "      <th>output</th>\n",
       "    </tr>\n",
       "  </thead>\n",
       "  <tbody>\n",
       "    <tr>\n",
       "      <th>0</th>\n",
       "      <td>63</td>\n",
       "      <td>1</td>\n",
       "      <td>3</td>\n",
       "      <td>145</td>\n",
       "      <td>233</td>\n",
       "      <td>1</td>\n",
       "      <td>0</td>\n",
       "      <td>150</td>\n",
       "      <td>0</td>\n",
       "      <td>2.3</td>\n",
       "      <td>0</td>\n",
       "      <td>0</td>\n",
       "      <td>1</td>\n",
       "      <td>1</td>\n",
       "    </tr>\n",
       "    <tr>\n",
       "      <th>1</th>\n",
       "      <td>37</td>\n",
       "      <td>1</td>\n",
       "      <td>2</td>\n",
       "      <td>130</td>\n",
       "      <td>250</td>\n",
       "      <td>0</td>\n",
       "      <td>1</td>\n",
       "      <td>187</td>\n",
       "      <td>0</td>\n",
       "      <td>3.5</td>\n",
       "      <td>0</td>\n",
       "      <td>0</td>\n",
       "      <td>2</td>\n",
       "      <td>1</td>\n",
       "    </tr>\n",
       "    <tr>\n",
       "      <th>2</th>\n",
       "      <td>41</td>\n",
       "      <td>0</td>\n",
       "      <td>1</td>\n",
       "      <td>130</td>\n",
       "      <td>204</td>\n",
       "      <td>0</td>\n",
       "      <td>0</td>\n",
       "      <td>172</td>\n",
       "      <td>0</td>\n",
       "      <td>1.4</td>\n",
       "      <td>2</td>\n",
       "      <td>0</td>\n",
       "      <td>2</td>\n",
       "      <td>1</td>\n",
       "    </tr>\n",
       "    <tr>\n",
       "      <th>3</th>\n",
       "      <td>56</td>\n",
       "      <td>1</td>\n",
       "      <td>1</td>\n",
       "      <td>120</td>\n",
       "      <td>236</td>\n",
       "      <td>0</td>\n",
       "      <td>1</td>\n",
       "      <td>178</td>\n",
       "      <td>0</td>\n",
       "      <td>0.8</td>\n",
       "      <td>2</td>\n",
       "      <td>0</td>\n",
       "      <td>2</td>\n",
       "      <td>1</td>\n",
       "    </tr>\n",
       "    <tr>\n",
       "      <th>4</th>\n",
       "      <td>57</td>\n",
       "      <td>0</td>\n",
       "      <td>0</td>\n",
       "      <td>120</td>\n",
       "      <td>354</td>\n",
       "      <td>0</td>\n",
       "      <td>1</td>\n",
       "      <td>163</td>\n",
       "      <td>1</td>\n",
       "      <td>0.6</td>\n",
       "      <td>2</td>\n",
       "      <td>0</td>\n",
       "      <td>2</td>\n",
       "      <td>1</td>\n",
       "    </tr>\n",
       "  </tbody>\n",
       "</table>\n",
       "</div>"
      ],
      "text/plain": [
       "   age  sex  cp  trtbps  chol  fbs  restecg  thalachh  exng  oldpeak  slp  \\\n",
       "0   63    1   3     145   233    1        0       150     0      2.3    0   \n",
       "1   37    1   2     130   250    0        1       187     0      3.5    0   \n",
       "2   41    0   1     130   204    0        0       172     0      1.4    2   \n",
       "3   56    1   1     120   236    0        1       178     0      0.8    2   \n",
       "4   57    0   0     120   354    0        1       163     1      0.6    2   \n",
       "\n",
       "   caa  thall  output  \n",
       "0    0      1       1  \n",
       "1    0      2       1  \n",
       "2    0      2       1  \n",
       "3    0      2       1  \n",
       "4    0      2       1  "
      ]
     },
     "execution_count": 2,
     "metadata": {},
     "output_type": "execute_result"
    }
   ],
   "source": [
    "data = pd.read_csv(\"C:\\\\Users\\\\Harshita\\\\Downloads\\\\archive (2)\\\\heart.csv\")\n",
    "y=data.output\n",
    "X=data.copy()\n",
    "X.drop(['output'],axis=1,inplace=True)\n",
    "data.head()"
   ]
  },
  {
   "cell_type": "markdown",
   "id": "c58f8133",
   "metadata": {},
   "source": [
    "## Information of Data"
   ]
  },
  {
   "cell_type": "code",
   "execution_count": 3,
   "id": "4f0ba409",
   "metadata": {},
   "outputs": [
    {
     "name": "stdout",
     "output_type": "stream",
     "text": [
      "<class 'pandas.core.frame.DataFrame'>\n",
      "RangeIndex: 303 entries, 0 to 302\n",
      "Data columns (total 14 columns):\n",
      " #   Column    Non-Null Count  Dtype  \n",
      "---  ------    --------------  -----  \n",
      " 0   age       303 non-null    int64  \n",
      " 1   sex       303 non-null    int64  \n",
      " 2   cp        303 non-null    int64  \n",
      " 3   trtbps    303 non-null    int64  \n",
      " 4   chol      303 non-null    int64  \n",
      " 5   fbs       303 non-null    int64  \n",
      " 6   restecg   303 non-null    int64  \n",
      " 7   thalachh  303 non-null    int64  \n",
      " 8   exng      303 non-null    int64  \n",
      " 9   oldpeak   303 non-null    float64\n",
      " 10  slp       303 non-null    int64  \n",
      " 11  caa       303 non-null    int64  \n",
      " 12  thall     303 non-null    int64  \n",
      " 13  output    303 non-null    int64  \n",
      "dtypes: float64(1), int64(13)\n",
      "memory usage: 33.3 KB\n",
      "****************************************************************************************************\n",
      "Categorical features of our dataset :  ['sex', 'cp', 'fbs', 'restecg', 'exng', 'slp', 'caa', 'thall']\n",
      "\n",
      "\n",
      "Numerical features of our dataset :  ['age', 'trtbps', 'chol', 'thalachh', 'oldpeak']\n"
     ]
    }
   ],
   "source": [
    "data.info()\n",
    "print(\"*\"*100)\n",
    "categorical_cols=[cols for cols in X.columns if X[cols].nunique() <10 ]\n",
    "print(\"Categorical features of our dataset : \",categorical_cols)\n",
    "print(\"\\n\")\n",
    "numeric_cols=[cols for cols in X.columns if X[cols].nunique() >10 ]\n",
    "print(\"Numerical features of our dataset : \",numeric_cols)\n"
   ]
  },
  {
   "cell_type": "markdown",
   "id": "6d3e7890",
   "metadata": {},
   "source": [
    "### Observation :\n",
    "- Total 303 entries\n",
    "\n",
    "- Total 14 columns or features , among them 1 feature is our target(output)\n",
    "\n",
    "- There are no null value in our dataset\n",
    "\n",
    "- ['sex', 'cp', 'fbs', 'restecg', 'exng', 'slp', 'caa', 'thall'] is our categorical features\n",
    "\n",
    "- ['age', 'trtbps', 'chol', 'thalachh', 'oldpeak'] is our numerical features"
   ]
  },
  {
   "cell_type": "markdown",
   "id": "5711f251",
   "metadata": {},
   "source": [
    "## Target Analysis"
   ]
  },
  {
   "cell_type": "code",
   "execution_count": 4,
   "id": "52973f56",
   "metadata": {},
   "outputs": [
    {
     "data": {
      "image/png": "[encoded data removed]",
      "text/plain": [
       "<Figure size 432x288 with 1 Axes>"
      ]
     },
     "metadata": {},
     "output_type": "display_data"
    },
    {
     "data": {
      "image/png": "[encoded data removed]",
      "text/plain": [
       "<Figure size 576x432 with 1 Axes>"
      ]
     },
     "metadata": {
      "needs_background": "light"
     },
     "output_type": "display_data"
    }
   ],
   "source": [
    "def label_function(val):\n",
    "    return f'{val / 100 * len(data):.0f}\\n{val:.0f}%'\n",
    "labels = [\"0(low risk)\",\"1(high risk)\"]\n",
    "data.groupby('output').size().plot(kind='pie', autopct=label_function, textprops={'fontsize': 15}, colors=['#00FF00','#FF0000'],labels=labels)\n",
    "#plt.legend()\n",
    "plt.show()\n",
    "#print(\"*\"*80)\n",
    "\n",
    "\n",
    "counts = data[\"output\"].value_counts().sort_values()\n",
    "\n",
    "diag_cols = [\"0(low_risk)\", \"1(high_risk)\"]\n",
    "\n",
    "diag_counts = [counts[0], counts[1]]\n",
    "\n",
    "plt.figure(figsize = (8, 6))\n",
    "clrs = ['#FFA500' if (x < max(diag_counts)) else '#FF4500' for x in diag_counts ]\n",
    "sns.barplot(x = diag_cols, y = diag_counts, palette=clrs)\n",
    "plt.show()"
   ]
  },
  {
   "cell_type": "markdown",
   "id": "5599eaff",
   "metadata": {},
   "source": [
    "### Observation :\n",
    "look at the pie chart and barplot :\n",
    "\n",
    "- 54% people are in risk zone that means have a chance of heart attack\n",
    "\n",
    "- 46% people are in low risk zone that means have a less chance of heart attack\n",
    "\n",
    "- total people 303 , among them 165 people have a more chance in heart attack another 138 people have less chance."
   ]
  },
  {
   "cell_type": "markdown",
   "id": "350bd7ab",
   "metadata": {},
   "source": [
    "## Features Analysis"
   ]
  },
  {
   "cell_type": "code",
   "execution_count": 5,
   "id": "c86253de",
   "metadata": {},
   "outputs": [
    {
     "name": "stdout",
     "output_type": "stream",
     "text": [
      "   sex    output\n",
      "0    0  0.750000\n",
      "1    1  0.449275\n"
     ]
    }
   ],
   "source": [
    "print (data[[\"sex\", \"output\"]].groupby(['sex'], as_index=False).mean())"
   ]
  },
  {
   "cell_type": "code",
   "execution_count": 6,
   "id": "51e984d2",
   "metadata": {},
   "outputs": [
    {
     "name": "stdout",
     "output_type": "stream",
     "text": [
      "   cp    output\n",
      "0   0  0.272727\n",
      "1   1  0.820000\n",
      "2   2  0.793103\n",
      "3   3  0.695652\n"
     ]
    }
   ],
   "source": [
    "print (data[[\"cp\", \"output\"]].groupby(['cp'], as_index=False).mean())"
   ]
  },
  {
   "cell_type": "code",
   "execution_count": 7,
   "id": "394fd7cf",
   "metadata": {},
   "outputs": [
    {
     "name": "stdout",
     "output_type": "stream",
     "text": [
      "   fbs    output\n",
      "0    0  0.550388\n",
      "1    1  0.511111\n"
     ]
    }
   ],
   "source": [
    "print (data[[\"fbs\", \"output\"]].groupby(['fbs'], as_index=False).mean())"
   ]
  },
  {
   "cell_type": "code",
   "execution_count": 8,
   "id": "5a5e3960",
   "metadata": {},
   "outputs": [
    {
     "name": "stdout",
     "output_type": "stream",
     "text": [
      "   restecg    output\n",
      "0        0  0.462585\n",
      "1        1  0.631579\n",
      "2        2  0.250000\n"
     ]
    }
   ],
   "source": [
    "print (data[[\"restecg\", \"output\"]].groupby(['restecg'], as_index=False).mean())"
   ]
  },
  {
   "cell_type": "code",
   "execution_count": 9,
   "id": "7f1082a5",
   "metadata": {},
   "outputs": [
    {
     "name": "stdout",
     "output_type": "stream",
     "text": [
      "   exng    output\n",
      "0     0  0.696078\n",
      "1     1  0.232323\n"
     ]
    }
   ],
   "source": [
    "print (data[[\"exng\", \"output\"]].groupby(['exng'], as_index=False).mean())"
   ]
  },
  {
   "cell_type": "code",
   "execution_count": 10,
   "id": "eaaa63ce",
   "metadata": {},
   "outputs": [
    {
     "name": "stdout",
     "output_type": "stream",
     "text": [
      "   slp    output\n",
      "0    0  0.428571\n",
      "1    1  0.350000\n",
      "2    2  0.753521\n"
     ]
    }
   ],
   "source": [
    "print (data[[\"slp\", \"output\"]].groupby(['slp'], as_index=False).mean())"
   ]
  },
  {
   "cell_type": "code",
   "execution_count": 11,
   "id": "040c77f3",
   "metadata": {},
   "outputs": [
    {
     "name": "stdout",
     "output_type": "stream",
     "text": [
      "   caa    output\n",
      "0    0  0.742857\n",
      "1    1  0.323077\n",
      "2    2  0.184211\n",
      "3    3  0.150000\n",
      "4    4  0.800000\n"
     ]
    }
   ],
   "source": [
    "print (data[[\"caa\", \"output\"]].groupby(['caa'], as_index=False).mean())"
   ]
  },
  {
   "cell_type": "code",
   "execution_count": 12,
   "id": "592ae425",
   "metadata": {},
   "outputs": [
    {
     "name": "stdout",
     "output_type": "stream",
     "text": [
      "   thall    output\n",
      "0      0  0.500000\n",
      "1      1  0.333333\n",
      "2      2  0.783133\n",
      "3      3  0.239316\n"
     ]
    }
   ],
   "source": [
    "print (data[[\"thall\", \"output\"]].groupby(['thall'], as_index=False).mean())"
   ]
  },
  {
   "cell_type": "code",
   "execution_count": 13,
   "id": "8742f3f4",
   "metadata": {},
   "outputs": [
    {
     "name": "stdout",
     "output_type": "stream",
     "text": [
      "          cat_age    output\n",
      "0  (28.952, 38.6]  0.750000\n",
      "1    (38.6, 48.2]  0.704225\n",
      "2    (48.2, 57.8]  0.577320\n",
      "3    (57.8, 67.4]  0.377358\n",
      "4    (67.4, 77.0]  0.588235\n"
     ]
    }
   ],
   "source": [
    "data['cat_age'] = pd.cut(data['age'], 5)\n",
    "print (data[[\"cat_age\", \"output\"]].groupby(['cat_age'], as_index=False).mean())"
   ]
  },
  {
   "cell_type": "code",
   "execution_count": 14,
   "id": "826eacc8",
   "metadata": {},
   "outputs": [
    {
     "name": "stdout",
     "output_type": "stream",
     "text": [
      "        cat_trtbps    output\n",
      "0  (93.894, 115.2]  0.615385\n",
      "1   (115.2, 136.4]  0.560284\n",
      "2   (136.4, 157.6]  0.535714\n",
      "3   (157.6, 178.8]  0.380952\n",
      "4   (178.8, 200.0]  0.200000\n"
     ]
    }
   ],
   "source": [
    "data['cat_trtbps'] = pd.cut(data['trtbps'], 5)\n",
    "print (data[[\"cat_trtbps\", \"output\"]].groupby(['cat_trtbps'], as_index=False).mean())"
   ]
  },
  {
   "cell_type": "code",
   "execution_count": 15,
   "id": "516c52a9",
   "metadata": {},
   "outputs": [
    {
     "name": "stdout",
     "output_type": "stream",
     "text": [
      "     cat_thalachh    output\n",
      "0  (70.869, 97.2]  0.142857\n",
      "1   (97.2, 123.4]  0.297297\n",
      "2  (123.4, 149.6]  0.352273\n",
      "3  (149.6, 175.8]  0.678571\n",
      "4  (175.8, 202.0]  0.870968\n"
     ]
    }
   ],
   "source": [
    "data['cat_thalachh'] = pd.cut(data['thalachh'], 5)\n",
    "print (data[[\"cat_thalachh\", \"output\"]].groupby(['cat_thalachh'], as_index=False).mean())"
   ]
  },
  {
   "cell_type": "code",
   "execution_count": 16,
   "id": "8779297b",
   "metadata": {},
   "outputs": [
    {
     "name": "stdout",
     "output_type": "stream",
     "text": [
      "           cat_chol    output\n",
      "0  (125.562, 213.6]  0.611765\n",
      "1    (213.6, 301.2]  0.514286\n",
      "2    (301.2, 388.8]  0.526316\n",
      "3    (388.8, 476.4]  0.500000\n",
      "4    (476.4, 564.0]  1.000000\n"
     ]
    }
   ],
   "source": [
    "data['cat_chol'] = pd.cut(data['chol'], 5)\n",
    "print (data[[\"cat_chol\", \"output\"]].groupby(['cat_chol'], as_index=False).mean())"
   ]
  },
  {
   "cell_type": "code",
   "execution_count": 17,
   "id": "692800b4",
   "metadata": {},
   "outputs": [
    {
     "data": {
      "text/html": [
       "<div>\n",
       "<style scoped>\n",
       "    .dataframe tbody tr th:only-of-type {\n",
       "        vertical-align: middle;\n",
       "    }\n",
       "\n",
       "    .dataframe tbody tr th {\n",
       "        vertical-align: top;\n",
       "    }\n",
       "\n",
       "    .dataframe thead th {\n",
       "        text-align: right;\n",
       "    }\n",
       "</style>\n",
       "<table border=\"1\" class=\"dataframe\">\n",
       "  <thead>\n",
       "    <tr style=\"text-align: right;\">\n",
       "      <th></th>\n",
       "      <th>exng_fbs</th>\n",
       "      <th>output</th>\n",
       "    </tr>\n",
       "  </thead>\n",
       "  <tbody>\n",
       "    <tr>\n",
       "      <th>0</th>\n",
       "      <td>0</td>\n",
       "      <td>0.691429</td>\n",
       "    </tr>\n",
       "    <tr>\n",
       "      <th>1</th>\n",
       "      <td>1</td>\n",
       "      <td>0.375000</td>\n",
       "    </tr>\n",
       "    <tr>\n",
       "      <th>2</th>\n",
       "      <td>2</td>\n",
       "      <td>0.125000</td>\n",
       "    </tr>\n",
       "  </tbody>\n",
       "</table>\n",
       "</div>"
      ],
      "text/plain": [
       "   exng_fbs    output\n",
       "0         0  0.691429\n",
       "1         1  0.375000\n",
       "2         2  0.125000"
      ]
     },
     "execution_count": 17,
     "metadata": {},
     "output_type": "execute_result"
    }
   ],
   "source": [
    "x=[data]\n",
    "for dataset in x:\n",
    "    dataset['exng_fbs'] = dataset['fbs'] + dataset['exng'] \n",
    "data[['exng_fbs','output']].groupby(['exng_fbs'], as_index=False).mean().sort_values(by='output',ascending=False)"
   ]
  },
  {
   "cell_type": "markdown",
   "id": "f19381c6",
   "metadata": {},
   "source": [
    "## Categorical and Numerical Features Analysis"
   ]
  },
  {
   "cell_type": "code",
   "execution_count": 18,
   "id": "6bcdfcee",
   "metadata": {},
   "outputs": [
    {
     "data": {
      "text/plain": [
       "<seaborn.axisgrid.FacetGrid at 0x1fa453b10a0>"
      ]
     },
     "execution_count": 18,
     "metadata": {},
     "output_type": "execute_result"
    },
    {
     "data": {
      "image/png": "[encoded data removed]",
      "text/plain": [
       "<Figure size 402.375x360 with 1 Axes>"
      ]
     },
     "metadata": {
      "needs_background": "light"
     },
     "output_type": "display_data"
    }
   ],
   "source": [
    "sns.catplot(x=\"caa\", y=\"thalachh\", hue=\"output\", kind=\"swarm\", data=data)"
   ]
  },
  {
   "cell_type": "code",
   "execution_count": 19,
   "id": "c7f3ba6e",
   "metadata": {},
   "outputs": [
    {
     "data": {
      "text/plain": [
       "<seaborn.axisgrid.FacetGrid at 0x1fa45e4efd0>"
      ]
     },
     "execution_count": 19,
     "metadata": {},
     "output_type": "execute_result"
    },
    {
     "data": {
      "image/png": "[encoded data removed]",
      "text/plain": [
       "<Figure size 402.375x360 with 1 Axes>"
      ]
     },
     "metadata": {
      "needs_background": "light"
     },
     "output_type": "display_data"
    }
   ],
   "source": [
    "sns.catplot(x=\"fbs\", y=\"thalachh\", hue=\"output\", kind=\"swarm\", data=data)"
   ]
  },
  {
   "cell_type": "code",
   "execution_count": 20,
   "id": "e9d5ea7b",
   "metadata": {},
   "outputs": [
    {
     "data": {
      "text/plain": [
       "<seaborn.axisgrid.FacetGrid at 0x1fa4594c820>"
      ]
     },
     "execution_count": 20,
     "metadata": {},
     "output_type": "execute_result"
    },
    {
     "data": {
      "image/png": "[encoded data removed]",
      "text/plain": [
       "<Figure size 402.375x360 with 1 Axes>"
      ]
     },
     "metadata": {
      "needs_background": "light"
     },
     "output_type": "display_data"
    }
   ],
   "source": [
    "sns.catplot(x=\"fbs\", y=\"oldpeak\", hue=\"output\", kind=\"swarm\", data=data)"
   ]
  },
  {
   "cell_type": "markdown",
   "id": "b5aa048d",
   "metadata": {},
   "source": [
    "### Observation :\n",
    "\n",
    "- People who have high thalachh rate, are more chance to heart attack.\n",
    "\n",
    "- People who have less oldpeak, are more chance to heart attack."
   ]
  },
  {
   "cell_type": "markdown",
   "id": "316383d8",
   "metadata": {},
   "source": [
    "## Detect Outliers"
   ]
  },
  {
   "cell_type": "markdown",
   "id": "d501fa24",
   "metadata": {},
   "source": [
    "### Find z-score"
   ]
  },
  {
   "cell_type": "code",
   "execution_count": 21,
   "id": "c3e894e8",
   "metadata": {},
   "outputs": [
    {
     "name": "stdout",
     "output_type": "stream",
     "text": [
      "(array([ 28,  85, 204, 220, 221, 223, 246, 248, 272], dtype=int64), array([2, 2, 4, 2, 4, 1, 2, 1, 3], dtype=int64))\n",
      "value of z[28][2] =  3.2995550358497527\n"
     ]
    }
   ],
   "source": [
    "z = np.abs(stats.zscore(X[numeric_cols]))\n",
    "threshold = 3\n",
    "print(np.where(z >=threshold))\n",
    "print((\"value of z[28][2] = \"),(z[28][2]))"
   ]
  },
  {
   "cell_type": "markdown",
   "id": "9c6e5ea3",
   "metadata": {},
   "source": [
    "## Boxplot"
   ]
  },
  {
   "cell_type": "code",
   "execution_count": 22,
   "id": "162bd692",
   "metadata": {},
   "outputs": [
    {
     "data": {
      "text/plain": [
       "<AxesSubplot:xlabel='oldpeak'>"
      ]
     },
     "execution_count": 22,
     "metadata": {},
     "output_type": "execute_result"
    },
    {
     "data": {
      "image/png": "[encoded data removed]",
      "text/plain": [
       "<Figure size 1080x360 with 3 Axes>"
      ]
     },
     "metadata": {
      "needs_background": "light"
     },
     "output_type": "display_data"
    },
    {
     "data": {
      "image/png": "[encoded data removed]",
      "text/plain": [
       "<Figure size 1080x360 with 2 Axes>"
      ]
     },
     "metadata": {
      "needs_background": "light"
     },
     "output_type": "display_data"
    }
   ],
   "source": [
    "fig, (axis1,axis2,axis3) = plt.subplots(1,3,figsize=(15,5))\n",
    "sns.boxplot(x=X[\"age\"],ax=axis1)\n",
    "sns.boxplot(x=X[\"trtbps\"],ax=axis2)\n",
    "sns.boxplot(x=X[\"chol\"],ax=axis3)\n",
    "\n",
    "fig, (axis1,axis2) = plt.subplots(1,2,figsize=(15,5))\n",
    "sns.boxplot(x=X[\"thalachh\"],ax=axis1)\n",
    "sns.boxplot(x=X[\"oldpeak\"],ax=axis2)"
   ]
  },
  {
   "cell_type": "markdown",
   "id": "fc6c2841",
   "metadata": {},
   "source": [
    "### Observation :\n",
    "\n",
    "- Age feature don't have any outliers\n",
    "\n",
    "- All others numeric features contains outliers"
   ]
  },
  {
   "cell_type": "markdown",
   "id": "fa0d590e",
   "metadata": {},
   "source": [
    "# Apply Machine Learning Model"
   ]
  },
  {
   "cell_type": "markdown",
   "id": "996d6cbd",
   "metadata": {},
   "source": [
    "## Data Preprocessing"
   ]
  },
  {
   "cell_type": "code",
   "execution_count": 23,
   "id": "3a45ec85",
   "metadata": {},
   "outputs": [],
   "source": [
    "seed(2)\n",
    "features_num = [\"age\",\"trtbps\",\"chol\",\"thalachh\",\"oldpeak\"]\n",
    "\n",
    "features_cat = ['sex','exng','caa','cp','fbs','restecg','slp','thall']\n",
    "random_state=2\n",
    "\n",
    "transformer_num = make_pipeline(\n",
    "    StandardScaler(),\n",
    ")\n",
    "transformer_cat = make_pipeline(\n",
    "    OneHotEncoder(handle_unknown='ignore'),\n",
    ")\n",
    "\n",
    "preprocessor = make_column_transformer(\n",
    "    (transformer_num, features_num),\n",
    "    (transformer_cat, features_cat),\n",
    ")\n",
    "\n",
    "X_train, X_valid, y_train, y_valid =train_test_split(X, y, train_size=0.75)\n",
    "\n",
    "X_train = preprocessor.fit_transform(X_train)\n",
    "X_valid = preprocessor.transform(X_valid)"
   ]
  },
  {
   "cell_type": "markdown",
   "id": "12008d57",
   "metadata": {},
   "source": [
    "### Logistic Regression"
   ]
  },
  {
   "cell_type": "code",
   "execution_count": 24,
   "id": "c508d003",
   "metadata": {},
   "outputs": [
    {
     "name": "stdout",
     "output_type": "stream",
     "text": [
      "test accuracy score of  Logistic Regression =  93.42105263157895\n"
     ]
    }
   ],
   "source": [
    "logreg = LogisticRegression()\n",
    "logreg.fit(X_train,y_train)\n",
    "pred = logreg.predict(X_valid)\n",
    "print(\"test accuracy score of  Logistic Regression = \", accuracy_score(y_valid, pred)*100)\n",
    "a_log = round(accuracy_score(y_valid, pred) * 100, 2)\n"
   ]
  },
  {
   "cell_type": "markdown",
   "id": "f505872c",
   "metadata": {},
   "source": [
    "### Support Vector Machine"
   ]
  },
  {
   "cell_type": "code",
   "execution_count": 25,
   "id": "86558a77",
   "metadata": {},
   "outputs": [
    {
     "name": "stdout",
     "output_type": "stream",
     "text": [
      "test accuracy score of Support Vector Machine =  90.78947368421053\n"
     ]
    }
   ],
   "source": [
    "svc = SVC()\n",
    "svc.fit(X_train, y_train)\n",
    "pred = svc.predict(X_valid)\n",
    "print(\"test accuracy score of Support Vector Machine = \", accuracy_score(y_valid, pred)*100)\n",
    "a_svc = round(accuracy_score(y_valid, pred) * 100, 2)"
   ]
  },
  {
   "cell_type": "markdown",
   "id": "b94a086d",
   "metadata": {},
   "source": [
    "### Stochastic Gradient Descent"
   ]
  },
  {
   "cell_type": "code",
   "execution_count": 26,
   "id": "9283bc8c",
   "metadata": {},
   "outputs": [
    {
     "name": "stdout",
     "output_type": "stream",
     "text": [
      "test accuracy score of Stochastic Gradient Descentt =  82.89473684210526\n"
     ]
    }
   ],
   "source": [
    "sgd = SGDClassifier()\n",
    "sgd.fit(X_train, y_train)\n",
    "pred = sgd.predict(X_valid)\n",
    "print(\"test accuracy score of Stochastic Gradient Descentt = \", accuracy_score(y_valid, pred)*100)\n",
    "a_sgd = round(accuracy_score(y_valid, pred) * 100, 2)"
   ]
  },
  {
   "cell_type": "markdown",
   "id": "9c8b70c4",
   "metadata": {},
   "source": [
    "### Decision Tree Classifier"
   ]
  },
  {
   "cell_type": "code",
   "execution_count": 27,
   "id": "10c9847f",
   "metadata": {},
   "outputs": [
    {
     "name": "stdout",
     "output_type": "stream",
     "text": [
      "test accuracy score of Decision Tree =  81.57894736842105\n"
     ]
    }
   ],
   "source": [
    "decision_tree = DecisionTreeClassifier()\n",
    "decision_tree.fit(X_train, y_train)\n",
    "pred = decision_tree.predict(X_valid)\n",
    "print(\"test accuracy score of Decision Tree = \", accuracy_score(y_valid, pred)*100)\n",
    "a_decision_tree = round(accuracy_score(y_valid, pred) * 100, 2)"
   ]
  },
  {
   "cell_type": "markdown",
   "id": "d75a5a4f",
   "metadata": {},
   "source": [
    "### RandomForestClassifier"
   ]
  },
  {
   "cell_type": "code",
   "execution_count": 28,
   "id": "117d4140",
   "metadata": {},
   "outputs": [
    {
     "name": "stdout",
     "output_type": "stream",
     "text": [
      "test accuracy score of Random Forest =  86.8421052631579\n"
     ]
    }
   ],
   "source": [
    "random_forest = RandomForestClassifier(n_estimators=100, max_depth=3, random_state=2)\n",
    "random_forest.fit(X_train, y_train)\n",
    "pred = random_forest.predict(X_valid)\n",
    "random_forest.score(X_train, y_train)\n",
    "print(\"test accuracy score of Random Forest = \", accuracy_score(y_valid, pred)*100)\n",
    "a_random_forest = round(accuracy_score(y_valid, pred) * 100,2)"
   ]
  },
  {
   "cell_type": "markdown",
   "id": "a7ddc13f",
   "metadata": {},
   "source": [
    "### Linear SVC"
   ]
  },
  {
   "cell_type": "code",
   "execution_count": 29,
   "id": "bdf3e75f",
   "metadata": {},
   "outputs": [
    {
     "name": "stdout",
     "output_type": "stream",
     "text": [
      "test accuracy score of  Linear SVC =  90.78947368421053\n"
     ]
    }
   ],
   "source": [
    "linear_svc = LinearSVC()\n",
    "linear_svc.fit(X_train, y_train)\n",
    "pred = linear_svc.predict(X_valid)\n",
    "print(\"test accuracy score of  Linear SVC = \", accuracy_score(y_valid, pred)*100)\n",
    "a_linear_svc= round(accuracy_score(y_valid, pred) * 100, 2)"
   ]
  },
  {
   "cell_type": "markdown",
   "id": "6098523f",
   "metadata": {},
   "source": [
    "### KNN"
   ]
  },
  {
   "cell_type": "code",
   "execution_count": 30,
   "id": "49e12bf2",
   "metadata": {},
   "outputs": [
    {
     "name": "stdout",
     "output_type": "stream",
     "text": [
      "test accuracy score of KNN =  85.52631578947368\n"
     ]
    }
   ],
   "source": [
    "knn = KNeighborsClassifier()\n",
    "knn.fit(X_train, y_train)\n",
    "pred = knn.predict(X_valid)\n",
    "print(\"test accuracy score of KNN = \", accuracy_score(y_valid, pred)*100)\n",
    "a_knn = round(accuracy_score(y_valid, pred) * 100, 2)"
   ]
  },
  {
   "cell_type": "markdown",
   "id": "20d3b255",
   "metadata": {},
   "source": [
    "### Gaussian Naive Bayes"
   ]
  },
  {
   "cell_type": "code",
   "execution_count": 31,
   "id": "aff8180c",
   "metadata": {},
   "outputs": [
    {
     "name": "stdout",
     "output_type": "stream",
     "text": [
      "test accuracy score of Gaussian Naive Bayes =  77.63157894736842\n"
     ]
    }
   ],
   "source": [
    "gaussian = GaussianNB()\n",
    "gaussian.fit(X_train, y_train)\n",
    "pred = gaussian.predict(X_valid)\n",
    "print(\"test accuracy score of Gaussian Naive Bayes = \", accuracy_score(y_valid, pred)*100)\n",
    "a_gaussian = round(accuracy_score(y_valid, pred)* 100, 2)"
   ]
  },
  {
   "cell_type": "markdown",
   "id": "834340e0",
   "metadata": {},
   "source": [
    "# Compare All Model Score"
   ]
  },
  {
   "cell_type": "code",
   "execution_count": 32,
   "id": "b090f7e2",
   "metadata": {},
   "outputs": [
    {
     "data": {
      "text/html": [
       "<div>\n",
       "<style scoped>\n",
       "    .dataframe tbody tr th:only-of-type {\n",
       "        vertical-align: middle;\n",
       "    }\n",
       "\n",
       "    .dataframe tbody tr th {\n",
       "        vertical-align: top;\n",
       "    }\n",
       "\n",
       "    .dataframe thead th {\n",
       "        text-align: right;\n",
       "    }\n",
       "</style>\n",
       "<table border=\"1\" class=\"dataframe\">\n",
       "  <thead>\n",
       "    <tr style=\"text-align: right;\">\n",
       "      <th></th>\n",
       "      <th>model</th>\n",
       "      <th>score</th>\n",
       "    </tr>\n",
       "  </thead>\n",
       "  <tbody>\n",
       "    <tr>\n",
       "      <th>1</th>\n",
       "      <td>Logistic Regression</td>\n",
       "      <td>93.42</td>\n",
       "    </tr>\n",
       "    <tr>\n",
       "      <th>4</th>\n",
       "      <td>Linear SVC</td>\n",
       "      <td>90.79</td>\n",
       "    </tr>\n",
       "    <tr>\n",
       "      <th>5</th>\n",
       "      <td>Support Vector Machines</td>\n",
       "      <td>90.79</td>\n",
       "    </tr>\n",
       "    <tr>\n",
       "      <th>3</th>\n",
       "      <td>Random Forest</td>\n",
       "      <td>86.84</td>\n",
       "    </tr>\n",
       "    <tr>\n",
       "      <th>0</th>\n",
       "      <td>KNN</td>\n",
       "      <td>85.53</td>\n",
       "    </tr>\n",
       "    <tr>\n",
       "      <th>6</th>\n",
       "      <td>Stochastic Gradient Decent</td>\n",
       "      <td>82.89</td>\n",
       "    </tr>\n",
       "    <tr>\n",
       "      <th>7</th>\n",
       "      <td>Decision Tree</td>\n",
       "      <td>81.58</td>\n",
       "    </tr>\n",
       "    <tr>\n",
       "      <th>2</th>\n",
       "      <td>Gaussian Naive Bayes</td>\n",
       "      <td>77.63</td>\n",
       "    </tr>\n",
       "  </tbody>\n",
       "</table>\n",
       "</div>"
      ],
      "text/plain": [
       "                        model  score\n",
       "1         Logistic Regression  93.42\n",
       "4                  Linear SVC  90.79\n",
       "5     Support Vector Machines  90.79\n",
       "3               Random Forest  86.84\n",
       "0                         KNN  85.53\n",
       "6  Stochastic Gradient Decent  82.89\n",
       "7               Decision Tree  81.58\n",
       "2        Gaussian Naive Bayes  77.63"
      ]
     },
     "execution_count": 32,
     "metadata": {},
     "output_type": "execute_result"
    },
    {
     "data": {
      "image/png": "[encoded data removed]",
      "text/plain": [
       "<Figure size 432x288 with 1 Axes>"
      ]
     },
     "metadata": {
      "needs_background": "light"
     },
     "output_type": "display_data"
    }
   ],
   "source": [
    "models = pd.DataFrame({\n",
    "    'model': ['KNN','Logistic Regression', \n",
    "               'Gaussian Naive Bayes','Random Forest','Linear SVC', \n",
    "              'Support Vector Machines','Stochastic Gradient Decent','Decision Tree'],\n",
    "    'score': [a_knn, a_log,  a_gaussian,\n",
    "              a_random_forest, a_linear_svc, \n",
    "              a_svc, a_sgd, a_decision_tree]})\n",
    "\n",
    "sns.barplot(x='score', y='model', data=models)\n",
    "\n",
    "models.sort_values(by='score', ascending=False)"
   ]
  }
 ],
 "metadata": {
  "kernelspec": {
   "display_name": "Python 3",
   "language": "python",
   "name": "python3"
  },
  "language_info": {
   "codemirror_mode": {
    "name": "ipython",
    "version": 3
   },
   "file_extension": ".py",
   "mimetype": "text/x-python",
   "name": "python",
   "nbconvert_exporter": "python",
   "pygments_lexer": "ipython3",
   "version": "3.8.8"
  }
 },
 "nbformat": 4,
 "nbformat_minor": 5
}

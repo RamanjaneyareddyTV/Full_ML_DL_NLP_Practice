{
  "nbformat": 4,
  "nbformat_minor": 0,
  "metadata": {
    "colab": {
      "name": "CNN Model.ipynb",
      "provenance": [],
      "collapsed_sections": []
    },
    "kernelspec": {
      "name": "python3",
      "display_name": "Python 3"
    },
    "language_info": {
      "name": "python"
    }
  },
  "cells": [
    {
      "cell_type": "code",
      "metadata": {
        "id": "rk0Vx_QQ4bhc"
      },
      "source": [
        "import numpy as np\n",
        "import librosa, librosa.display\n",
        "import matplotlib.pyplot as plt\n",
        "import math\n",
        "import os\n",
        "import json\n",
        "from sklearn.model_selection import train_test_split\n",
        "import tensorflow.keras as keras\n",
        "\n",
        "from sklearn.metrics import accuracy_score\n",
        "from sklearn.metrics import precision_score\n",
        "from sklearn.metrics import recall_score\n",
        "from sklearn.metrics import f1_score\n"
      ],
      "execution_count": 7,
      "outputs": []
    },
    {
      "cell_type": "code",
      "metadata": {
        "id": "flDCyV2gOuPp"
      },
      "source": [
        "def load_data(data_path):\n",
        "\n",
        "    with open(data_path, \"r\") as f:\n",
        "        data = json.load(f)\n",
        "\n",
        "    # convert lists to numpy arrays\n",
        "    X = np.array(data[\"mfcc\"])\n",
        "    y = np.array(data[\"labels\"])\n",
        "\n",
        "    print(\"Data succesfully loaded!\")\n",
        "\n",
        "    return  X, y"
      ],
      "execution_count": 8,
      "outputs": []
    },
    {
      "cell_type": "code",
      "metadata": {
        "id": "Z7Ari3a3OuSx",
        "colab": {
          "base_uri": "https://localhost:8080/"
        },
        "outputId": "3a2f7dfb-03fc-461c-f178-2b827cee294d"
      },
      "source": [
        "# load data\n",
        "X, y = load_data(\"/content/drive/MyDrive/dataset/genres/data_10 (1).json\")"
      ],
      "execution_count": 9,
      "outputs": [
        {
          "output_type": "stream",
          "text": [
            "Data succesfully loaded!\n"
          ],
          "name": "stdout"
        }
      ]
    },
    {
      "cell_type": "code",
      "metadata": {
        "id": "H2MmA6ueOuVN",
        "colab": {
          "base_uri": "https://localhost:8080/"
        },
        "outputId": "3b936ffd-9294-4d6b-c74f-8349fbaf8913"
      },
      "source": [
        "\n",
        "X.shape"
      ],
      "execution_count": 10,
      "outputs": [
        {
          "output_type": "execute_result",
          "data": {
            "text/plain": [
              "(9996, 130, 13)"
            ]
          },
          "metadata": {
            "tags": []
          },
          "execution_count": 10
        }
      ]
    },
    {
      "cell_type": "code",
      "metadata": {
        "id": "b7jnedu1xv2E"
      },
      "source": [
        "# create train, validation and test split\n",
        "X_train, X_test, y_train, y_test = train_test_split(X, y, test_size=0.25)\n",
        "X_train, X_validation, y_train, y_validation = train_test_split(X_train, y_train, test_size=0.2)\n",
        "\n",
        "# add an axis to input sets\n",
        "X_train = X_train[..., np.newaxis]\n",
        "X_validation = X_validation[..., np.newaxis]\n",
        "X_test = X_test[..., np.newaxis]"
      ],
      "execution_count": 11,
      "outputs": []
    },
    {
      "cell_type": "code",
      "metadata": {
        "colab": {
          "base_uri": "https://localhost:8080/"
        },
        "id": "JY5Scdngxv6g",
        "outputId": "fb3eb6b2-881d-4855-a06a-fa5fa7beb214"
      },
      "source": [
        "\n",
        "X_train.shape"
      ],
      "execution_count": 12,
      "outputs": [
        {
          "output_type": "execute_result",
          "data": {
            "text/plain": [
              "(5997, 130, 13, 1)"
            ]
          },
          "metadata": {
            "tags": []
          },
          "execution_count": 12
        }
      ]
    },
    {
      "cell_type": "code",
      "metadata": {
        "id": "ICxgXOhtxv9p"
      },
      "source": [
        "\n",
        "input_shape = (X_train.shape[1], X_train.shape[2], 1)"
      ],
      "execution_count": 13,
      "outputs": []
    },
    {
      "cell_type": "code",
      "metadata": {
        "id": "RlsXornCyZbE"
      },
      "source": [
        "# build the CNN\n",
        "model_cnn = keras.Sequential()\n",
        "\n",
        "# 1st conv layer\n",
        "model_cnn.add(keras.layers.Conv2D(40, (3, 3), activation='relu', input_shape=input_shape))\n",
        "model_cnn.add(keras.layers.MaxPooling2D((3, 3), strides=(2, 2), padding='same'))\n",
        "model_cnn.add(keras.layers.BatchNormalization())\n",
        "\n",
        "# 2nd conv layer\n",
        "model_cnn.add(keras.layers.Conv2D(40, (3, 3), activation='relu'))\n",
        "model_cnn.add(keras.layers.MaxPooling2D((3, 3), strides=(2, 2), padding='same'))\n",
        "model_cnn.add(keras.layers.BatchNormalization())\n",
        "\n",
        "\n",
        "# 3rd conv layer\n",
        "model_cnn.add(keras.layers.Conv2D(40, (2, 2), activation='relu'))\n",
        "model_cnn.add(keras.layers.MaxPooling2D((2, 2), strides=(2, 2), padding='same'))\n",
        "model_cnn.add(keras.layers.BatchNormalization())\n",
        "\n",
        "\n",
        "\n",
        "# flatten output and feed it into dense layer\n",
        "model_cnn.add(keras.layers.Flatten())\n",
        "model_cnn.add(keras.layers.Dense(70, activation='relu'))\n",
        "model_cnn.add(keras.layers.Dropout(0.3))\n",
        "\n",
        "# output layer\n",
        "model_cnn.add(keras.layers.Dense(15, activation='softmax'))"
      ],
      "execution_count": 14,
      "outputs": []
    },
    {
      "cell_type": "code",
      "metadata": {
        "id": "Jg1SpZ22yZei"
      },
      "source": [
        "# compile model\n",
        "optimiser = keras.optimizers.Adam(learning_rate=0.0001)\n",
        "model_cnn.compile(optimizer=optimiser,\n",
        "              loss='sparse_categorical_crossentropy',\n",
        "              metrics=['accuracy'])"
      ],
      "execution_count": 15,
      "outputs": []
    },
    {
      "cell_type": "code",
      "metadata": {
        "colab": {
          "base_uri": "https://localhost:8080/"
        },
        "id": "v39PVBHEyZh1",
        "outputId": "27ad6ef4-4261-492d-c56e-071c157d1f7f"
      },
      "source": [
        "model_cnn.summary()"
      ],
      "execution_count": 16,
      "outputs": [
        {
          "output_type": "stream",
          "text": [
            "Model: \"sequential\"\n",
            "_________________________________________________________________\n",
            "Layer (type)                 Output Shape              Param #   \n",
            "=================================================================\n",
            "conv2d (Conv2D)              (None, 128, 11, 40)       400       \n",
            "_________________________________________________________________\n",
            "max_pooling2d (MaxPooling2D) (None, 64, 6, 40)         0         \n",
            "_________________________________________________________________\n",
            "batch_normalization (BatchNo (None, 64, 6, 40)         160       \n",
            "_________________________________________________________________\n",
            "conv2d_1 (Conv2D)            (None, 62, 4, 40)         14440     \n",
            "_________________________________________________________________\n",
            "max_pooling2d_1 (MaxPooling2 (None, 31, 2, 40)         0         \n",
            "_________________________________________________________________\n",
            "batch_normalization_1 (Batch (None, 31, 2, 40)         160       \n",
            "_________________________________________________________________\n",
            "conv2d_2 (Conv2D)            (None, 30, 1, 40)         6440      \n",
            "_________________________________________________________________\n",
            "max_pooling2d_2 (MaxPooling2 (None, 15, 1, 40)         0         \n",
            "_________________________________________________________________\n",
            "batch_normalization_2 (Batch (None, 15, 1, 40)         160       \n",
            "_________________________________________________________________\n",
            "flatten (Flatten)            (None, 600)               0         \n",
            "_________________________________________________________________\n",
            "dense (Dense)                (None, 70)                42070     \n",
            "_________________________________________________________________\n",
            "dropout (Dropout)            (None, 70)                0         \n",
            "_________________________________________________________________\n",
            "dense_1 (Dense)              (None, 15)                1065      \n",
            "=================================================================\n",
            "Total params: 64,895\n",
            "Trainable params: 64,655\n",
            "Non-trainable params: 240\n",
            "_________________________________________________________________\n"
          ],
          "name": "stdout"
        }
      ]
    },
    {
      "cell_type": "code",
      "metadata": {
        "colab": {
          "base_uri": "https://localhost:8080/"
        },
        "id": "8a4dq_DvyZlF",
        "outputId": "65a99b2c-1e43-4732-f627-7c30ae8c3511"
      },
      "source": [
        "# train model\n",
        "history = model_cnn.fit(X_train, y_train, validation_data=(X_validation, y_validation), batch_size=32, epochs=50)"
      ],
      "execution_count": 17,
      "outputs": [
        {
          "output_type": "stream",
          "text": [
            "Epoch 1/50\n",
            "188/188 [==============================] - 16s 80ms/step - loss: 2.6019 - accuracy: 0.2158 - val_loss: 1.9084 - val_accuracy: 0.3747\n",
            "Epoch 2/50\n",
            "188/188 [==============================] - 15s 79ms/step - loss: 1.8822 - accuracy: 0.3784 - val_loss: 1.5150 - val_accuracy: 0.4740\n",
            "Epoch 3/50\n",
            "188/188 [==============================] - 15s 80ms/step - loss: 1.6347 - accuracy: 0.4457 - val_loss: 1.3523 - val_accuracy: 0.5173\n",
            "Epoch 4/50\n",
            "188/188 [==============================] - 15s 80ms/step - loss: 1.4820 - accuracy: 0.4876 - val_loss: 1.2563 - val_accuracy: 0.5553\n",
            "Epoch 5/50\n",
            "188/188 [==============================] - 17s 90ms/step - loss: 1.3906 - accuracy: 0.5194 - val_loss: 1.1940 - val_accuracy: 0.5900\n",
            "Epoch 6/50\n",
            "188/188 [==============================] - 15s 80ms/step - loss: 1.2961 - accuracy: 0.5596 - val_loss: 1.1398 - val_accuracy: 0.5980\n",
            "Epoch 7/50\n",
            "188/188 [==============================] - 15s 79ms/step - loss: 1.2611 - accuracy: 0.5641 - val_loss: 1.1188 - val_accuracy: 0.6047\n",
            "Epoch 8/50\n",
            "188/188 [==============================] - 15s 79ms/step - loss: 1.1848 - accuracy: 0.5955 - val_loss: 1.0653 - val_accuracy: 0.6227\n",
            "Epoch 9/50\n",
            "188/188 [==============================] - 15s 79ms/step - loss: 1.1185 - accuracy: 0.6126 - val_loss: 1.0324 - val_accuracy: 0.6380\n",
            "Epoch 10/50\n",
            "188/188 [==============================] - 15s 79ms/step - loss: 1.0682 - accuracy: 0.6271 - val_loss: 1.0031 - val_accuracy: 0.6693\n",
            "Epoch 11/50\n",
            "188/188 [==============================] - 15s 79ms/step - loss: 1.0356 - accuracy: 0.6490 - val_loss: 0.9555 - val_accuracy: 0.6820\n",
            "Epoch 12/50\n",
            "188/188 [==============================] - 15s 79ms/step - loss: 0.9778 - accuracy: 0.6610 - val_loss: 0.9724 - val_accuracy: 0.6627\n",
            "Epoch 13/50\n",
            "188/188 [==============================] - 15s 79ms/step - loss: 0.9531 - accuracy: 0.6735 - val_loss: 0.9199 - val_accuracy: 0.6940\n",
            "Epoch 14/50\n",
            "188/188 [==============================] - 15s 79ms/step - loss: 0.9153 - accuracy: 0.6865 - val_loss: 0.9109 - val_accuracy: 0.6973\n",
            "Epoch 15/50\n",
            "188/188 [==============================] - 15s 79ms/step - loss: 0.8865 - accuracy: 0.6962 - val_loss: 0.8738 - val_accuracy: 0.7027\n",
            "Epoch 16/50\n",
            "188/188 [==============================] - 15s 79ms/step - loss: 0.8581 - accuracy: 0.7097 - val_loss: 0.8635 - val_accuracy: 0.7073\n",
            "Epoch 17/50\n",
            "188/188 [==============================] - 15s 79ms/step - loss: 0.8239 - accuracy: 0.7214 - val_loss: 0.8946 - val_accuracy: 0.6920\n",
            "Epoch 18/50\n",
            "188/188 [==============================] - 15s 79ms/step - loss: 0.7959 - accuracy: 0.7287 - val_loss: 0.8307 - val_accuracy: 0.7127\n",
            "Epoch 19/50\n",
            "188/188 [==============================] - 15s 79ms/step - loss: 0.7611 - accuracy: 0.7400 - val_loss: 0.8186 - val_accuracy: 0.7233\n",
            "Epoch 20/50\n",
            "188/188 [==============================] - 15s 79ms/step - loss: 0.7506 - accuracy: 0.7477 - val_loss: 0.8084 - val_accuracy: 0.7313\n",
            "Epoch 21/50\n",
            "188/188 [==============================] - 15s 79ms/step - loss: 0.7099 - accuracy: 0.7562 - val_loss: 0.7959 - val_accuracy: 0.7360\n",
            "Epoch 22/50\n",
            "188/188 [==============================] - 15s 79ms/step - loss: 0.7193 - accuracy: 0.7507 - val_loss: 0.8281 - val_accuracy: 0.7160\n",
            "Epoch 23/50\n",
            "188/188 [==============================] - 15s 79ms/step - loss: 0.6947 - accuracy: 0.7614 - val_loss: 0.8305 - val_accuracy: 0.7200\n",
            "Epoch 24/50\n",
            "188/188 [==============================] - 15s 79ms/step - loss: 0.6563 - accuracy: 0.7794 - val_loss: 0.7792 - val_accuracy: 0.7447\n",
            "Epoch 25/50\n",
            "188/188 [==============================] - 15s 81ms/step - loss: 0.6426 - accuracy: 0.7794 - val_loss: 0.8337 - val_accuracy: 0.7140\n",
            "Epoch 26/50\n",
            "188/188 [==============================] - 15s 82ms/step - loss: 0.6330 - accuracy: 0.7847 - val_loss: 0.7879 - val_accuracy: 0.7287\n",
            "Epoch 27/50\n",
            "188/188 [==============================] - 15s 81ms/step - loss: 0.6092 - accuracy: 0.7917 - val_loss: 0.7418 - val_accuracy: 0.7440\n",
            "Epoch 28/50\n",
            "188/188 [==============================] - 15s 82ms/step - loss: 0.5937 - accuracy: 0.7992 - val_loss: 0.7289 - val_accuracy: 0.7447\n",
            "Epoch 29/50\n",
            "188/188 [==============================] - 16s 83ms/step - loss: 0.5726 - accuracy: 0.8054 - val_loss: 0.7524 - val_accuracy: 0.7440\n",
            "Epoch 30/50\n",
            "188/188 [==============================] - 15s 82ms/step - loss: 0.5564 - accuracy: 0.8104 - val_loss: 0.7594 - val_accuracy: 0.7460\n",
            "Epoch 31/50\n",
            "188/188 [==============================] - 15s 82ms/step - loss: 0.5426 - accuracy: 0.8142 - val_loss: 0.7744 - val_accuracy: 0.7273\n",
            "Epoch 32/50\n",
            "188/188 [==============================] - 15s 82ms/step - loss: 0.5347 - accuracy: 0.8137 - val_loss: 0.7316 - val_accuracy: 0.7580\n",
            "Epoch 33/50\n",
            "188/188 [==============================] - 15s 82ms/step - loss: 0.5239 - accuracy: 0.8106 - val_loss: 0.7530 - val_accuracy: 0.7467\n",
            "Epoch 34/50\n",
            "188/188 [==============================] - 15s 82ms/step - loss: 0.5047 - accuracy: 0.8267 - val_loss: 0.7488 - val_accuracy: 0.7467\n",
            "Epoch 35/50\n",
            "188/188 [==============================] - 15s 82ms/step - loss: 0.4944 - accuracy: 0.8259 - val_loss: 0.7247 - val_accuracy: 0.7553\n",
            "Epoch 36/50\n",
            "188/188 [==============================] - 15s 82ms/step - loss: 0.4718 - accuracy: 0.8388 - val_loss: 0.7233 - val_accuracy: 0.7560\n",
            "Epoch 37/50\n",
            "188/188 [==============================] - 16s 83ms/step - loss: 0.4542 - accuracy: 0.8486 - val_loss: 0.7364 - val_accuracy: 0.7473\n",
            "Epoch 38/50\n",
            "188/188 [==============================] - 16s 83ms/step - loss: 0.4464 - accuracy: 0.8488 - val_loss: 0.7229 - val_accuracy: 0.7587\n",
            "Epoch 39/50\n",
            "188/188 [==============================] - 15s 82ms/step - loss: 0.4329 - accuracy: 0.8524 - val_loss: 0.6934 - val_accuracy: 0.7720\n",
            "Epoch 40/50\n",
            "188/188 [==============================] - 16s 83ms/step - loss: 0.4291 - accuracy: 0.8478 - val_loss: 0.6917 - val_accuracy: 0.7680\n",
            "Epoch 41/50\n",
            "188/188 [==============================] - 15s 82ms/step - loss: 0.4249 - accuracy: 0.8529 - val_loss: 0.7754 - val_accuracy: 0.7427\n",
            "Epoch 42/50\n",
            "188/188 [==============================] - 16s 83ms/step - loss: 0.4094 - accuracy: 0.8541 - val_loss: 0.6911 - val_accuracy: 0.7700\n",
            "Epoch 43/50\n",
            "188/188 [==============================] - 16s 83ms/step - loss: 0.3945 - accuracy: 0.8653 - val_loss: 0.7090 - val_accuracy: 0.7660\n",
            "Epoch 44/50\n",
            "188/188 [==============================] - 16s 83ms/step - loss: 0.3893 - accuracy: 0.8699 - val_loss: 0.7106 - val_accuracy: 0.7673\n",
            "Epoch 45/50\n",
            "188/188 [==============================] - 17s 93ms/step - loss: 0.3842 - accuracy: 0.8726 - val_loss: 0.7931 - val_accuracy: 0.7353\n",
            "Epoch 46/50\n",
            "188/188 [==============================] - 16s 83ms/step - loss: 0.3605 - accuracy: 0.8803 - val_loss: 0.6871 - val_accuracy: 0.7747\n",
            "Epoch 47/50\n",
            "188/188 [==============================] - 16s 83ms/step - loss: 0.3469 - accuracy: 0.8818 - val_loss: 0.6867 - val_accuracy: 0.7667\n",
            "Epoch 48/50\n",
            "188/188 [==============================] - 16s 84ms/step - loss: 0.3580 - accuracy: 0.8776 - val_loss: 0.7278 - val_accuracy: 0.7647\n",
            "Epoch 49/50\n",
            "188/188 [==============================] - 16s 84ms/step - loss: 0.3353 - accuracy: 0.8914 - val_loss: 0.6917 - val_accuracy: 0.7693\n",
            "Epoch 50/50\n",
            "188/188 [==============================] - 16s 84ms/step - loss: 0.3372 - accuracy: 0.8861 - val_loss: 0.7544 - val_accuracy: 0.7613\n"
          ],
          "name": "stdout"
        }
      ]
    },
    {
      "cell_type": "code",
      "metadata": {
        "colab": {
          "base_uri": "https://localhost:8080/"
        },
        "id": "Z7MtAJoHyZo3",
        "outputId": "5bdb9945-3be9-48ed-9e46-9abae392d95a"
      },
      "source": [
        "# evaluate model on Test Set\n",
        "test_loss, test_acc = model_cnn.evaluate(X_test, y_test, verbose=2)\n",
        "print('\\nTest accuracy:', test_acc)"
      ],
      "execution_count": 18,
      "outputs": [
        {
          "output_type": "stream",
          "text": [
            "79/79 - 1s - loss: 0.7424 - accuracy: 0.7579\n",
            "\n",
            "Test accuracy: 0.7579031586647034\n"
          ],
          "name": "stdout"
        }
      ]
    },
    {
      "cell_type": "code",
      "metadata": {
        "colab": {
          "base_uri": "https://localhost:8080/"
        },
        "id": "hkfej48WF6A8",
        "outputId": "23e35a57-7542-4c22-a385-0c2f6e1224e7"
      },
      "source": [
        "# evaluate model on Test Set\n",
        "test_loss, test_precision = model_cnn.evaluate(X_test, y_test, verbose=2)\n",
        "print('\\nTest Precision:', test_precision)"
      ],
      "execution_count": 24,
      "outputs": [
        {
          "output_type": "stream",
          "text": [
            "79/79 - 1s - loss: 0.7424 - accuracy: 0.7579\n",
            "\n",
            "Test Precision: 0.7579031586647034\n"
          ],
          "name": "stdout"
        }
      ]
    },
    {
      "cell_type": "code",
      "metadata": {
        "colab": {
          "base_uri": "https://localhost:8080/"
        },
        "id": "0aCDKHZyGH3j",
        "outputId": "171bc116-5c79-4fee-c10c-791efcc2bba2"
      },
      "source": [
        "# evaluate model on Test Set\n",
        "test_loss, test_recall = model_cnn.evaluate(X_test, y_test, verbose=2)\n",
        "print('\\nTest Recall:',test_recall)"
      ],
      "execution_count": 25,
      "outputs": [
        {
          "output_type": "stream",
          "text": [
            "79/79 - 1s - loss: 0.7424 - accuracy: 0.7579\n",
            "\n",
            "Test Recall: 0.7579031586647034\n"
          ],
          "name": "stdout"
        }
      ]
    },
    {
      "cell_type": "code",
      "metadata": {
        "colab": {
          "base_uri": "https://localhost:8080/"
        },
        "id": "c7HniBygGecp",
        "outputId": "51c08e22-cfbc-4554-e876-8b090befdb67"
      },
      "source": [
        "# evaluate model on Test Set\n",
        "test_loss, test_f1score = model_cnn.evaluate(X_test, y_test, verbose=2)\n",
        "print('\\nTest accuracy:', test_f1score)"
      ],
      "execution_count": 27,
      "outputs": [
        {
          "output_type": "stream",
          "text": [
            "79/79 - 1s - loss: 0.7424 - accuracy: 0.7579\n",
            "\n",
            "Test accuracy: 0.7579031586647034\n"
          ],
          "name": "stdout"
        }
      ]
    },
    {
      "cell_type": "code",
      "metadata": {
        "colab": {
          "base_uri": "https://localhost:8080/"
        },
        "id": "TwSFbnwHyZsU",
        "outputId": "1640868b-4516-4168-d340-9cd1e78e4aaf"
      },
      "source": [
        "\n",
        "model_cnn.save(\"Music_Genre_10_CNN\")"
      ],
      "execution_count": 19,
      "outputs": [
        {
          "output_type": "stream",
          "text": [
            "INFO:tensorflow:Assets written to: Music_Genre_10_CNN/assets\n"
          ],
          "name": "stdout"
        }
      ]
    },
    {
      "cell_type": "code",
      "metadata": {
        "id": "BPxnOyNECwkA"
      },
      "source": [
        ""
      ],
      "execution_count": 20,
      "outputs": []
    }
  ]
}
{
 "cells": [
  {
   "cell_type": "code",
   "execution_count": 1,
   "metadata": {},
   "outputs": [],
   "source": [
    "import cv2\n",
    "\n",
    "from tensorflow.keras.preprocessing.image import img_to_array\n",
    "from tensorflow.keras.models import load_model\n",
    "from tensorflow.keras.applications.mobilenet_v2 import preprocess_input\n",
    "import numpy as np"
   ]
  },
  {
   "cell_type": "code",
   "execution_count": 2,
   "metadata": {},
   "outputs": [],
   "source": [
    "fd = cv2.CascadeClassifier(cv2.data.haarcascades+\"haarcascade_frontalface_alt2.xml\")\n",
    "model = load_model(r'C:\\Users\\KIIT\\Documents\\MachineLearning_scripts\\Trained Models\\maskdetect_mobilenet_v2_predictor.model')"
   ]
  },
  {
   "cell_type": "code",
   "execution_count": 3,
   "metadata": {},
   "outputs": [],
   "source": [
    "video_capture = cv2.VideoCapture(0)\n",
    "while True:\n",
    "    ret, frame = video_capture.read()\n",
    "    gr = cv2.cvtColor(frame, cv2.COLOR_BGR2GRAY)\n",
    "    f = fd.detectMultiScale(gr,scaleFactor=1.1,minNeighbors=5,minSize=(60, 60),flags=cv2.CASCADE_SCALE_IMAGE)\n",
    "    f_list=[]\n",
    "    preds=[]\n",
    "    \n",
    "    for (x, y, w, h) in f:\n",
    "        f_frame = frame[y:y+h,x:x+w]\n",
    "        f_frame = cv2.cvtColor(f_frame, cv2.COLOR_BGR2RGB)\n",
    "        f_frame = cv2.resize(f_frame, (224, 224))\n",
    "        f_frame = img_to_array(f_frame)\n",
    "        f_frame = np.expand_dims(f_frame, axis=0)\n",
    "        f_frame =  preprocess_input(f_frame)\n",
    "        f_list.append(f_frame)\n",
    "        if len(f_list)>0:\n",
    "            preds = model.predict(f_list)\n",
    "        for pred in preds:\n",
    "            (mask, withoutMask) = pred\n",
    "        label = \"Mask\" if mask > withoutMask else \"No Mask\"\n",
    "        color = (0, 255, 0) if label == \"Mask\" else (0, 0, 255)\n",
    "        label = \"{}: {:.2f}%\".format(label, max(mask, withoutMask) * 100)\n",
    "        cv2.putText(frame, label, (x, y- 10),cv2.FONT_HERSHEY_SIMPLEX, 0.45, color, 2)\n",
    "        cv2.rectangle(frame, (x, y), (x + w, y + h),color, 2)\n",
    "\n",
    "    cv2.imshow('Video',frame)\n",
    "    k = cv2.waitKey(1)   \n",
    "    if(k == ord('q')):\n",
    "        break       \n",
    "video_capture.release()\n",
    "cv2.destroyAllWindows()"
   ]
  },
  {
   "cell_type": "code",
   "execution_count": null,
   "metadata": {},
   "outputs": [],
   "source": []
  },
  {
   "cell_type": "code",
   "execution_count": null,
   "metadata": {},
   "outputs": [],
   "source": []
  }
 ],
 "metadata": {
  "kernelspec": {
   "display_name": "Python 3",
   "language": "python",
   "name": "python3"
  },
  "language_info": {
   "codemirror_mode": {
    "name": "ipython",
    "version": 3
   },
   "file_extension": ".py",
   "mimetype": "text/x-python",
   "name": "python",
   "nbconvert_exporter": "python",
   "pygments_lexer": "ipython3",
   "version": "3.7.9"
  }
 },
 "nbformat": 4,
 "nbformat_minor": 4
}

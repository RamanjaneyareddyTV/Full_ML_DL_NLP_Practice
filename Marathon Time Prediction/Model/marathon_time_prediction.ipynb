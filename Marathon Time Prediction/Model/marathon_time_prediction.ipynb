{
 "cells": [
  {
   "cell_type": "markdown",
   "metadata": {},
   "source": [
    "# Marathon Time Prediction"
   ]
  },
  {
   "cell_type": "markdown",
   "metadata": {},
   "source": [
    "Here in the datasets we have the details about the marathon and we will predict the time for marathon.\n",
    "\n",
    "In Data analysis we will use 3 algorithms\n",
    "\n",
    "1.Linear Regression\n",
    "\n",
    "2.Lasso Regression\n",
    "\n",
    "3.Ridge Regression\n",
    "\n",
    "By using the above algorithms, we will train our model by providing training data and once the model will be trained, we will perform prediction. After prediction, we will evaluate the performance of these algorithmns by error check and accuracy check."
   ]
  },
  {
   "cell_type": "markdown",
   "metadata": {},
   "source": [
    "### Steps been followed are as:\n",
    "\n",
    "Step 1:Data Exploration\n",
    "\n",
    "Step 2: Data Preparation\n",
    "\n",
    "Step 3: Data Visualization\n",
    "\n",
    "Step 4:Data training\n",
    "\n",
    "Step 5: Model Creation\n",
    "\n",
    "Step 6: Performance Evaluation"
   ]
  },
  {
   "cell_type": "markdown",
   "metadata": {},
   "source": [
    "## **Data Exploration**"
   ]
  },
  {
   "cell_type": "code",
   "execution_count": 126,
   "metadata": {},
   "outputs": [],
   "source": [
    "## import all the necessary libraries\n",
    "import warnings\n",
    "\n",
    "#Ignoring unnecessory warnings\n",
    "warnings.filterwarnings(\"ignore\")                   \n",
    "\n",
    "import numpy as np #for large and multi-dimensional arrays\n",
    "import pandas as pd #for data manipulation and analysis"
   ]
  },
  {
   "cell_type": "code",
   "execution_count": 127,
   "metadata": {},
   "outputs": [
    {
     "name": "stdout",
     "output_type": "stream",
     "text": [
      "(87, 10)\n"
     ]
    },
    {
     "data": {
      "text/html": [
       "<div>\n",
       "<style scoped>\n",
       "    .dataframe tbody tr th:only-of-type {\n",
       "        vertical-align: middle;\n",
       "    }\n",
       "\n",
       "    .dataframe tbody tr th {\n",
       "        vertical-align: top;\n",
       "    }\n",
       "\n",
       "    .dataframe thead th {\n",
       "        text-align: right;\n",
       "    }\n",
       "</style>\n",
       "<table border=\"1\" class=\"dataframe\">\n",
       "  <thead>\n",
       "    <tr style=\"text-align: right;\">\n",
       "      <th></th>\n",
       "      <th>id</th>\n",
       "      <th>Marathon</th>\n",
       "      <th>Name</th>\n",
       "      <th>Category</th>\n",
       "      <th>km4week</th>\n",
       "      <th>sp4week</th>\n",
       "      <th>CrossTraining</th>\n",
       "      <th>Wall21</th>\n",
       "      <th>MarathonTime</th>\n",
       "      <th>CATEGORY</th>\n",
       "    </tr>\n",
       "  </thead>\n",
       "  <tbody>\n",
       "    <tr>\n",
       "      <th>0</th>\n",
       "      <td>1</td>\n",
       "      <td>Prague17</td>\n",
       "      <td>Blair MORGAN</td>\n",
       "      <td>MAM</td>\n",
       "      <td>132.8</td>\n",
       "      <td>14.434783</td>\n",
       "      <td>NaN</td>\n",
       "      <td>1.16</td>\n",
       "      <td>2.37</td>\n",
       "      <td>A</td>\n",
       "    </tr>\n",
       "    <tr>\n",
       "      <th>1</th>\n",
       "      <td>2</td>\n",
       "      <td>Prague17</td>\n",
       "      <td>Robert Heczko</td>\n",
       "      <td>MAM</td>\n",
       "      <td>68.6</td>\n",
       "      <td>13.674419</td>\n",
       "      <td>NaN</td>\n",
       "      <td>1.23</td>\n",
       "      <td>2.59</td>\n",
       "      <td>A</td>\n",
       "    </tr>\n",
       "    <tr>\n",
       "      <th>2</th>\n",
       "      <td>3</td>\n",
       "      <td>Prague17</td>\n",
       "      <td>Michon Jerome</td>\n",
       "      <td>MAM</td>\n",
       "      <td>82.7</td>\n",
       "      <td>13.520436</td>\n",
       "      <td>NaN</td>\n",
       "      <td>1.30</td>\n",
       "      <td>2.66</td>\n",
       "      <td>A</td>\n",
       "    </tr>\n",
       "    <tr>\n",
       "      <th>3</th>\n",
       "      <td>4</td>\n",
       "      <td>Prague17</td>\n",
       "      <td>Daniel Or lek</td>\n",
       "      <td>M45</td>\n",
       "      <td>137.5</td>\n",
       "      <td>12.258544</td>\n",
       "      <td>NaN</td>\n",
       "      <td>1.32</td>\n",
       "      <td>2.68</td>\n",
       "      <td>A</td>\n",
       "    </tr>\n",
       "    <tr>\n",
       "      <th>4</th>\n",
       "      <td>5</td>\n",
       "      <td>Prague17</td>\n",
       "      <td>Luk ? Mr zek</td>\n",
       "      <td>MAM</td>\n",
       "      <td>84.6</td>\n",
       "      <td>13.945055</td>\n",
       "      <td>NaN</td>\n",
       "      <td>1.36</td>\n",
       "      <td>2.74</td>\n",
       "      <td>A</td>\n",
       "    </tr>\n",
       "    <tr>\n",
       "      <th>...</th>\n",
       "      <td>...</td>\n",
       "      <td>...</td>\n",
       "      <td>...</td>\n",
       "      <td>...</td>\n",
       "      <td>...</td>\n",
       "      <td>...</td>\n",
       "      <td>...</td>\n",
       "      <td>...</td>\n",
       "      <td>...</td>\n",
       "      <td>...</td>\n",
       "    </tr>\n",
       "    <tr>\n",
       "      <th>82</th>\n",
       "      <td>83</td>\n",
       "      <td>Prague17</td>\n",
       "      <td>Stefano Vegliani</td>\n",
       "      <td>M55</td>\n",
       "      <td>50.0</td>\n",
       "      <td>10.830325</td>\n",
       "      <td>NaN</td>\n",
       "      <td>2.02</td>\n",
       "      <td>3.93</td>\n",
       "      <td>D</td>\n",
       "    </tr>\n",
       "    <tr>\n",
       "      <th>83</th>\n",
       "      <td>84</td>\n",
       "      <td>Prague17</td>\n",
       "      <td>Andrej Madliak</td>\n",
       "      <td>M40</td>\n",
       "      <td>33.6</td>\n",
       "      <td>10.130653</td>\n",
       "      <td>ciclista 3h</td>\n",
       "      <td>1.94</td>\n",
       "      <td>3.93</td>\n",
       "      <td>D</td>\n",
       "    </tr>\n",
       "    <tr>\n",
       "      <th>84</th>\n",
       "      <td>85</td>\n",
       "      <td>Prague17</td>\n",
       "      <td>Yoi Ohsako</td>\n",
       "      <td>M40</td>\n",
       "      <td>55.4</td>\n",
       "      <td>11.043189</td>\n",
       "      <td>NaN</td>\n",
       "      <td>1.94</td>\n",
       "      <td>3.94</td>\n",
       "      <td>D</td>\n",
       "    </tr>\n",
       "    <tr>\n",
       "      <th>85</th>\n",
       "      <td>86</td>\n",
       "      <td>Prague17</td>\n",
       "      <td>Simon Dunn</td>\n",
       "      <td>M45</td>\n",
       "      <td>33.2</td>\n",
       "      <td>11.066667</td>\n",
       "      <td>NaN</td>\n",
       "      <td>2.05</td>\n",
       "      <td>3.95</td>\n",
       "      <td>D</td>\n",
       "    </tr>\n",
       "    <tr>\n",
       "      <th>86</th>\n",
       "      <td>87</td>\n",
       "      <td>Prague17</td>\n",
       "      <td>Pavel ?imek</td>\n",
       "      <td>M40</td>\n",
       "      <td>17.9</td>\n",
       "      <td>10.848485</td>\n",
       "      <td>ciclista 5h</td>\n",
       "      <td>2.05</td>\n",
       "      <td>3.98</td>\n",
       "      <td>D</td>\n",
       "    </tr>\n",
       "  </tbody>\n",
       "</table>\n",
       "<p>87 rows × 10 columns</p>\n",
       "</div>"
      ],
      "text/plain": [
       "    id  Marathon              Name Category  km4week    sp4week CrossTraining  \\\n",
       "0    1  Prague17      Blair MORGAN      MAM    132.8  14.434783           NaN   \n",
       "1    2  Prague17     Robert Heczko      MAM     68.6  13.674419           NaN   \n",
       "2    3  Prague17     Michon Jerome      MAM     82.7  13.520436           NaN   \n",
       "3    4  Prague17     Daniel Or lek      M45    137.5  12.258544           NaN   \n",
       "4    5  Prague17      Luk ? Mr zek      MAM     84.6  13.945055           NaN   \n",
       "..  ..       ...               ...      ...      ...        ...           ...   \n",
       "82  83  Prague17  Stefano Vegliani      M55     50.0  10.830325           NaN   \n",
       "83  84  Prague17    Andrej Madliak      M40     33.6  10.130653   ciclista 3h   \n",
       "84  85  Prague17        Yoi Ohsako      M40     55.4  11.043189           NaN   \n",
       "85  86  Prague17        Simon Dunn      M45     33.2  11.066667           NaN   \n",
       "86  87  Prague17       Pavel ?imek      M40     17.9  10.848485   ciclista 5h   \n",
       "\n",
       "   Wall21  MarathonTime CATEGORY  \n",
       "0    1.16          2.37        A  \n",
       "1    1.23          2.59        A  \n",
       "2    1.30          2.66        A  \n",
       "3    1.32          2.68        A  \n",
       "4    1.36          2.74        A  \n",
       "..    ...           ...      ...  \n",
       "82   2.02          3.93        D  \n",
       "83   1.94          3.93        D  \n",
       "84   1.94          3.94        D  \n",
       "85   2.05          3.95        D  \n",
       "86   2.05          3.98        D  \n",
       "\n",
       "[87 rows x 10 columns]"
      ]
     },
     "execution_count": 127,
     "metadata": {},
     "output_type": "execute_result"
    }
   ],
   "source": [
    "##reading dataset\n",
    "df = pd.read_csv('../Dataset/MarathonData.csv')\n",
    "\n",
    "print(df.shape)\n",
    "df"
   ]
  },
  {
   "cell_type": "markdown",
   "metadata": {},
   "source": [
    "## **Data Preparation**"
   ]
  },
  {
   "cell_type": "code",
   "execution_count": 128,
   "metadata": {},
   "outputs": [
    {
     "data": {
      "text/plain": [
       "(87, 10)"
      ]
     },
     "execution_count": 128,
     "metadata": {},
     "output_type": "execute_result"
    }
   ],
   "source": [
    "df.shape"
   ]
  },
  {
   "cell_type": "code",
   "execution_count": 129,
   "metadata": {},
   "outputs": [
    {
     "name": "stdout",
     "output_type": "stream",
     "text": [
      "<class 'pandas.core.frame.DataFrame'>\n",
      "RangeIndex: 87 entries, 0 to 86\n",
      "Data columns (total 10 columns):\n",
      " #   Column         Non-Null Count  Dtype  \n",
      "---  ------         --------------  -----  \n",
      " 0   id             87 non-null     int64  \n",
      " 1   Marathon       87 non-null     object \n",
      " 2   Name           87 non-null     object \n",
      " 3   Category       81 non-null     object \n",
      " 4   km4week        87 non-null     float64\n",
      " 5   sp4week        87 non-null     float64\n",
      " 6   CrossTraining  13 non-null     object \n",
      " 7   Wall21         87 non-null     object \n",
      " 8   MarathonTime   87 non-null     float64\n",
      " 9   CATEGORY       87 non-null     object \n",
      "dtypes: float64(3), int64(1), object(6)\n",
      "memory usage: 6.9+ KB\n"
     ]
    }
   ],
   "source": [
    "df.info()"
   ]
  },
  {
   "cell_type": "code",
   "execution_count": 130,
   "metadata": {},
   "outputs": [
    {
     "data": {
      "text/html": [
       "<div>\n",
       "<style scoped>\n",
       "    .dataframe tbody tr th:only-of-type {\n",
       "        vertical-align: middle;\n",
       "    }\n",
       "\n",
       "    .dataframe tbody tr th {\n",
       "        vertical-align: top;\n",
       "    }\n",
       "\n",
       "    .dataframe thead th {\n",
       "        text-align: right;\n",
       "    }\n",
       "</style>\n",
       "<table border=\"1\" class=\"dataframe\">\n",
       "  <thead>\n",
       "    <tr style=\"text-align: right;\">\n",
       "      <th></th>\n",
       "      <th>Category</th>\n",
       "      <th>km4week</th>\n",
       "      <th>sp4week</th>\n",
       "      <th>CrossTraining</th>\n",
       "      <th>Wall21</th>\n",
       "      <th>MarathonTime</th>\n",
       "    </tr>\n",
       "  </thead>\n",
       "  <tbody>\n",
       "    <tr>\n",
       "      <th>0</th>\n",
       "      <td>MAM</td>\n",
       "      <td>132.8</td>\n",
       "      <td>14.434783</td>\n",
       "      <td>NaN</td>\n",
       "      <td>1.16</td>\n",
       "      <td>2.37</td>\n",
       "    </tr>\n",
       "    <tr>\n",
       "      <th>1</th>\n",
       "      <td>MAM</td>\n",
       "      <td>68.6</td>\n",
       "      <td>13.674419</td>\n",
       "      <td>NaN</td>\n",
       "      <td>1.23</td>\n",
       "      <td>2.59</td>\n",
       "    </tr>\n",
       "    <tr>\n",
       "      <th>2</th>\n",
       "      <td>MAM</td>\n",
       "      <td>82.7</td>\n",
       "      <td>13.520436</td>\n",
       "      <td>NaN</td>\n",
       "      <td>1.30</td>\n",
       "      <td>2.66</td>\n",
       "    </tr>\n",
       "    <tr>\n",
       "      <th>3</th>\n",
       "      <td>M45</td>\n",
       "      <td>137.5</td>\n",
       "      <td>12.258544</td>\n",
       "      <td>NaN</td>\n",
       "      <td>1.32</td>\n",
       "      <td>2.68</td>\n",
       "    </tr>\n",
       "    <tr>\n",
       "      <th>4</th>\n",
       "      <td>MAM</td>\n",
       "      <td>84.6</td>\n",
       "      <td>13.945055</td>\n",
       "      <td>NaN</td>\n",
       "      <td>1.36</td>\n",
       "      <td>2.74</td>\n",
       "    </tr>\n",
       "  </tbody>\n",
       "</table>\n",
       "</div>"
      ],
      "text/plain": [
       "  Category  km4week    sp4week CrossTraining Wall21  MarathonTime\n",
       "0      MAM    132.8  14.434783           NaN   1.16          2.37\n",
       "1      MAM     68.6  13.674419           NaN   1.23          2.59\n",
       "2      MAM     82.7  13.520436           NaN   1.30          2.66\n",
       "3      M45    137.5  12.258544           NaN   1.32          2.68\n",
       "4      MAM     84.6  13.945055           NaN   1.36          2.74"
      ]
     },
     "execution_count": 130,
     "metadata": {},
     "output_type": "execute_result"
    }
   ],
   "source": [
    "df = df.drop(columns=['id','Marathon','CATEGORY','Name'])\n",
    "df.head()"
   ]
  },
  {
   "cell_type": "code",
   "execution_count": 131,
   "metadata": {},
   "outputs": [
    {
     "data": {
      "text/plain": [
       "Category          6\n",
       "km4week           0\n",
       "sp4week           0\n",
       "CrossTraining    74\n",
       "Wall21            0\n",
       "MarathonTime      0\n",
       "dtype: int64"
      ]
     },
     "execution_count": 131,
     "metadata": {},
     "output_type": "execute_result"
    }
   ],
   "source": [
    "# now here we here we will handle missing value\n",
    "df.isna().sum()"
   ]
  },
  {
   "cell_type": "code",
   "execution_count": 132,
   "metadata": {},
   "outputs": [
    {
     "data": {
      "text/plain": [
       "Category         6\n",
       "km4week          0\n",
       "sp4week          0\n",
       "CrossTraining    0\n",
       "Wall21           0\n",
       "MarathonTime     0\n",
       "dtype: int64"
      ]
     },
     "execution_count": 132,
     "metadata": {},
     "output_type": "execute_result"
    }
   ],
   "source": [
    "df['CrossTraining'].fillna('nonct',inplace=True)\n",
    "df.isna().sum()"
   ]
  },
  {
   "cell_type": "code",
   "execution_count": 133,
   "metadata": {
    "scrolled": true
   },
   "outputs": [
    {
     "data": {
      "text/html": [
       "<div>\n",
       "<style scoped>\n",
       "    .dataframe tbody tr th:only-of-type {\n",
       "        vertical-align: middle;\n",
       "    }\n",
       "\n",
       "    .dataframe tbody tr th {\n",
       "        vertical-align: top;\n",
       "    }\n",
       "\n",
       "    .dataframe thead th {\n",
       "        text-align: right;\n",
       "    }\n",
       "</style>\n",
       "<table border=\"1\" class=\"dataframe\">\n",
       "  <thead>\n",
       "    <tr style=\"text-align: right;\">\n",
       "      <th></th>\n",
       "      <th>Category</th>\n",
       "      <th>km4week</th>\n",
       "      <th>sp4week</th>\n",
       "      <th>CrossTraining</th>\n",
       "      <th>Wall21</th>\n",
       "      <th>MarathonTime</th>\n",
       "    </tr>\n",
       "  </thead>\n",
       "  <tbody>\n",
       "    <tr>\n",
       "      <th>0</th>\n",
       "      <td>MAM</td>\n",
       "      <td>132.8</td>\n",
       "      <td>14.434783</td>\n",
       "      <td>nonct</td>\n",
       "      <td>1.16</td>\n",
       "      <td>2.37</td>\n",
       "    </tr>\n",
       "    <tr>\n",
       "      <th>1</th>\n",
       "      <td>MAM</td>\n",
       "      <td>68.6</td>\n",
       "      <td>13.674419</td>\n",
       "      <td>nonct</td>\n",
       "      <td>1.23</td>\n",
       "      <td>2.59</td>\n",
       "    </tr>\n",
       "    <tr>\n",
       "      <th>2</th>\n",
       "      <td>MAM</td>\n",
       "      <td>82.7</td>\n",
       "      <td>13.520436</td>\n",
       "      <td>nonct</td>\n",
       "      <td>1.30</td>\n",
       "      <td>2.66</td>\n",
       "    </tr>\n",
       "    <tr>\n",
       "      <th>3</th>\n",
       "      <td>M45</td>\n",
       "      <td>137.5</td>\n",
       "      <td>12.258544</td>\n",
       "      <td>nonct</td>\n",
       "      <td>1.32</td>\n",
       "      <td>2.68</td>\n",
       "    </tr>\n",
       "    <tr>\n",
       "      <th>4</th>\n",
       "      <td>MAM</td>\n",
       "      <td>84.6</td>\n",
       "      <td>13.945055</td>\n",
       "      <td>nonct</td>\n",
       "      <td>1.36</td>\n",
       "      <td>2.74</td>\n",
       "    </tr>\n",
       "    <tr>\n",
       "      <th>...</th>\n",
       "      <td>...</td>\n",
       "      <td>...</td>\n",
       "      <td>...</td>\n",
       "      <td>...</td>\n",
       "      <td>...</td>\n",
       "      <td>...</td>\n",
       "    </tr>\n",
       "    <tr>\n",
       "      <th>82</th>\n",
       "      <td>M55</td>\n",
       "      <td>50.0</td>\n",
       "      <td>10.830325</td>\n",
       "      <td>nonct</td>\n",
       "      <td>2.02</td>\n",
       "      <td>3.93</td>\n",
       "    </tr>\n",
       "    <tr>\n",
       "      <th>83</th>\n",
       "      <td>M40</td>\n",
       "      <td>33.6</td>\n",
       "      <td>10.130653</td>\n",
       "      <td>ciclista 3h</td>\n",
       "      <td>1.94</td>\n",
       "      <td>3.93</td>\n",
       "    </tr>\n",
       "    <tr>\n",
       "      <th>84</th>\n",
       "      <td>M40</td>\n",
       "      <td>55.4</td>\n",
       "      <td>11.043189</td>\n",
       "      <td>nonct</td>\n",
       "      <td>1.94</td>\n",
       "      <td>3.94</td>\n",
       "    </tr>\n",
       "    <tr>\n",
       "      <th>85</th>\n",
       "      <td>M45</td>\n",
       "      <td>33.2</td>\n",
       "      <td>11.066667</td>\n",
       "      <td>nonct</td>\n",
       "      <td>2.05</td>\n",
       "      <td>3.95</td>\n",
       "    </tr>\n",
       "    <tr>\n",
       "      <th>86</th>\n",
       "      <td>M40</td>\n",
       "      <td>17.9</td>\n",
       "      <td>10.848485</td>\n",
       "      <td>ciclista 5h</td>\n",
       "      <td>2.05</td>\n",
       "      <td>3.98</td>\n",
       "    </tr>\n",
       "  </tbody>\n",
       "</table>\n",
       "<p>87 rows × 6 columns</p>\n",
       "</div>"
      ],
      "text/plain": [
       "   Category  km4week    sp4week CrossTraining Wall21  MarathonTime\n",
       "0       MAM    132.8  14.434783         nonct   1.16          2.37\n",
       "1       MAM     68.6  13.674419         nonct   1.23          2.59\n",
       "2       MAM     82.7  13.520436         nonct   1.30          2.66\n",
       "3       M45    137.5  12.258544         nonct   1.32          2.68\n",
       "4       MAM     84.6  13.945055         nonct   1.36          2.74\n",
       "..      ...      ...        ...           ...    ...           ...\n",
       "82      M55     50.0  10.830325         nonct   2.02          3.93\n",
       "83      M40     33.6  10.130653   ciclista 3h   1.94          3.93\n",
       "84      M40     55.4  11.043189         nonct   1.94          3.94\n",
       "85      M45     33.2  11.066667         nonct   2.05          3.95\n",
       "86      M40     17.9  10.848485   ciclista 5h   2.05          3.98\n",
       "\n",
       "[87 rows x 6 columns]"
      ]
     },
     "execution_count": 133,
     "metadata": {},
     "output_type": "execute_result"
    }
   ],
   "source": [
    "df"
   ]
  },
  {
   "cell_type": "code",
   "execution_count": 134,
   "metadata": {},
   "outputs": [
    {
     "data": {
      "text/plain": [
       "Category         0\n",
       "km4week          0\n",
       "sp4week          0\n",
       "CrossTraining    0\n",
       "Wall21           0\n",
       "MarathonTime     0\n",
       "dtype: int64"
      ]
     },
     "execution_count": 134,
     "metadata": {},
     "output_type": "execute_result"
    }
   ],
   "source": [
    "df1 = df.dropna(how='any')\n",
    "df1.isna().sum()"
   ]
  },
  {
   "cell_type": "code",
   "execution_count": 135,
   "metadata": {},
   "outputs": [
    {
     "data": {
      "text/html": [
       "<div>\n",
       "<style scoped>\n",
       "    .dataframe tbody tr th:only-of-type {\n",
       "        vertical-align: middle;\n",
       "    }\n",
       "\n",
       "    .dataframe tbody tr th {\n",
       "        vertical-align: top;\n",
       "    }\n",
       "\n",
       "    .dataframe thead th {\n",
       "        text-align: right;\n",
       "    }\n",
       "</style>\n",
       "<table border=\"1\" class=\"dataframe\">\n",
       "  <thead>\n",
       "    <tr style=\"text-align: right;\">\n",
       "      <th></th>\n",
       "      <th>km4week</th>\n",
       "      <th>sp4week</th>\n",
       "      <th>CrossTraining</th>\n",
       "      <th>Wall21</th>\n",
       "      <th>MarathonTime</th>\n",
       "    </tr>\n",
       "  </thead>\n",
       "  <tbody>\n",
       "    <tr>\n",
       "      <th>0</th>\n",
       "      <td>132.8</td>\n",
       "      <td>14.434783</td>\n",
       "      <td>nonct</td>\n",
       "      <td>1.16</td>\n",
       "      <td>2.37</td>\n",
       "    </tr>\n",
       "    <tr>\n",
       "      <th>1</th>\n",
       "      <td>68.6</td>\n",
       "      <td>13.674419</td>\n",
       "      <td>nonct</td>\n",
       "      <td>1.23</td>\n",
       "      <td>2.59</td>\n",
       "    </tr>\n",
       "    <tr>\n",
       "      <th>2</th>\n",
       "      <td>82.7</td>\n",
       "      <td>13.520436</td>\n",
       "      <td>nonct</td>\n",
       "      <td>1.30</td>\n",
       "      <td>2.66</td>\n",
       "    </tr>\n",
       "    <tr>\n",
       "      <th>3</th>\n",
       "      <td>137.5</td>\n",
       "      <td>12.258544</td>\n",
       "      <td>nonct</td>\n",
       "      <td>1.32</td>\n",
       "      <td>2.68</td>\n",
       "    </tr>\n",
       "    <tr>\n",
       "      <th>4</th>\n",
       "      <td>84.6</td>\n",
       "      <td>13.945055</td>\n",
       "      <td>nonct</td>\n",
       "      <td>1.36</td>\n",
       "      <td>2.74</td>\n",
       "    </tr>\n",
       "  </tbody>\n",
       "</table>\n",
       "</div>"
      ],
      "text/plain": [
       "   km4week    sp4week CrossTraining Wall21  MarathonTime\n",
       "0    132.8  14.434783         nonct   1.16          2.37\n",
       "1     68.6  13.674419         nonct   1.23          2.59\n",
       "2     82.7  13.520436         nonct   1.30          2.66\n",
       "3    137.5  12.258544         nonct   1.32          2.68\n",
       "4     84.6  13.945055         nonct   1.36          2.74"
      ]
     },
     "execution_count": 135,
     "metadata": {},
     "output_type": "execute_result"
    }
   ],
   "source": [
    "# we also need to drop category column also as it has no such preference\n",
    "df = df.dropna(how='any')\n",
    "df = df.drop(columns=['Category'])\n",
    "df.head()"
   ]
  },
  {
   "cell_type": "code",
   "execution_count": 136,
   "metadata": {},
   "outputs": [
    {
     "data": {
      "text/plain": [
       "km4week          0\n",
       "sp4week          0\n",
       "CrossTraining    0\n",
       "Wall21           0\n",
       "MarathonTime     0\n",
       "dtype: int64"
      ]
     },
     "execution_count": 136,
     "metadata": {},
     "output_type": "execute_result"
    }
   ],
   "source": [
    "df.isna().sum()"
   ]
  },
  {
   "cell_type": "code",
   "execution_count": 138,
   "metadata": {},
   "outputs": [
    {
     "name": "stdout",
     "output_type": "stream",
     "text": [
      "<class 'pandas.core.frame.DataFrame'>\n",
      "Int64Index: 81 entries, 0 to 86\n",
      "Data columns (total 5 columns):\n",
      " #   Column         Non-Null Count  Dtype  \n",
      "---  ------         --------------  -----  \n",
      " 0   km4week        81 non-null     float64\n",
      " 1   sp4week        81 non-null     float64\n",
      " 2   CrossTraining  81 non-null     object \n",
      " 3   Wall21         81 non-null     object \n",
      " 4   MarathonTime   81 non-null     float64\n",
      "dtypes: float64(3), object(2)\n",
      "memory usage: 3.8+ KB\n"
     ]
    }
   ],
   "source": [
    "df.info() #--------------------------------"
   ]
  },
  {
   "cell_type": "code",
   "execution_count": 143,
   "metadata": {},
   "outputs": [
    {
     "name": "stdout",
     "output_type": "stream",
     "text": [
      "<class 'pandas.core.frame.DataFrame'>\n",
      "Int64Index: 80 entries, 0 to 86\n",
      "Data columns (total 5 columns):\n",
      " #   Column         Non-Null Count  Dtype  \n",
      "---  ------         --------------  -----  \n",
      " 0   km4week        80 non-null     float64\n",
      " 1   sp4week        80 non-null     float64\n",
      " 2   CrossTraining  80 non-null     object \n",
      " 3   Wall21         80 non-null     float64\n",
      " 4   MarathonTime   80 non-null     float64\n",
      "dtypes: float64(4), object(1)\n",
      "memory usage: 3.8+ KB\n"
     ]
    }
   ],
   "source": [
    "df['Wall21'] = df['Wall21'].astype(float)\n",
    "df.info()"
   ]
  },
  {
   "cell_type": "code",
   "execution_count": 144,
   "metadata": {},
   "outputs": [
    {
     "data": {
      "text/html": [
       "<div>\n",
       "<style scoped>\n",
       "    .dataframe tbody tr th:only-of-type {\n",
       "        vertical-align: middle;\n",
       "    }\n",
       "\n",
       "    .dataframe tbody tr th {\n",
       "        vertical-align: top;\n",
       "    }\n",
       "\n",
       "    .dataframe thead th {\n",
       "        text-align: right;\n",
       "    }\n",
       "</style>\n",
       "<table border=\"1\" class=\"dataframe\">\n",
       "  <thead>\n",
       "    <tr style=\"text-align: right;\">\n",
       "      <th></th>\n",
       "      <th>km4week</th>\n",
       "      <th>sp4week</th>\n",
       "      <th>CrossTraining</th>\n",
       "      <th>Wall21</th>\n",
       "      <th>MarathonTime</th>\n",
       "    </tr>\n",
       "  </thead>\n",
       "  <tbody>\n",
       "    <tr>\n",
       "      <th>0</th>\n",
       "      <td>132.8</td>\n",
       "      <td>14.434783</td>\n",
       "      <td>nonct</td>\n",
       "      <td>1.16</td>\n",
       "      <td>2.37</td>\n",
       "    </tr>\n",
       "    <tr>\n",
       "      <th>1</th>\n",
       "      <td>68.6</td>\n",
       "      <td>13.674419</td>\n",
       "      <td>nonct</td>\n",
       "      <td>1.23</td>\n",
       "      <td>2.59</td>\n",
       "    </tr>\n",
       "    <tr>\n",
       "      <th>2</th>\n",
       "      <td>82.7</td>\n",
       "      <td>13.520436</td>\n",
       "      <td>nonct</td>\n",
       "      <td>1.30</td>\n",
       "      <td>2.66</td>\n",
       "    </tr>\n",
       "    <tr>\n",
       "      <th>3</th>\n",
       "      <td>137.5</td>\n",
       "      <td>12.258544</td>\n",
       "      <td>nonct</td>\n",
       "      <td>1.32</td>\n",
       "      <td>2.68</td>\n",
       "    </tr>\n",
       "    <tr>\n",
       "      <th>4</th>\n",
       "      <td>84.6</td>\n",
       "      <td>13.945055</td>\n",
       "      <td>nonct</td>\n",
       "      <td>1.36</td>\n",
       "      <td>2.74</td>\n",
       "    </tr>\n",
       "    <tr>\n",
       "      <th>...</th>\n",
       "      <td>...</td>\n",
       "      <td>...</td>\n",
       "      <td>...</td>\n",
       "      <td>...</td>\n",
       "      <td>...</td>\n",
       "    </tr>\n",
       "    <tr>\n",
       "      <th>82</th>\n",
       "      <td>50.0</td>\n",
       "      <td>10.830325</td>\n",
       "      <td>nonct</td>\n",
       "      <td>2.02</td>\n",
       "      <td>3.93</td>\n",
       "    </tr>\n",
       "    <tr>\n",
       "      <th>83</th>\n",
       "      <td>33.6</td>\n",
       "      <td>10.130653</td>\n",
       "      <td>ciclista 3h</td>\n",
       "      <td>1.94</td>\n",
       "      <td>3.93</td>\n",
       "    </tr>\n",
       "    <tr>\n",
       "      <th>84</th>\n",
       "      <td>55.4</td>\n",
       "      <td>11.043189</td>\n",
       "      <td>nonct</td>\n",
       "      <td>1.94</td>\n",
       "      <td>3.94</td>\n",
       "    </tr>\n",
       "    <tr>\n",
       "      <th>85</th>\n",
       "      <td>33.2</td>\n",
       "      <td>11.066667</td>\n",
       "      <td>nonct</td>\n",
       "      <td>2.05</td>\n",
       "      <td>3.95</td>\n",
       "    </tr>\n",
       "    <tr>\n",
       "      <th>86</th>\n",
       "      <td>17.9</td>\n",
       "      <td>10.848485</td>\n",
       "      <td>ciclista 5h</td>\n",
       "      <td>2.05</td>\n",
       "      <td>3.98</td>\n",
       "    </tr>\n",
       "  </tbody>\n",
       "</table>\n",
       "<p>80 rows × 5 columns</p>\n",
       "</div>"
      ],
      "text/plain": [
       "    km4week    sp4week CrossTraining  Wall21  MarathonTime\n",
       "0     132.8  14.434783         nonct    1.16          2.37\n",
       "1      68.6  13.674419         nonct    1.23          2.59\n",
       "2      82.7  13.520436         nonct    1.30          2.66\n",
       "3     137.5  12.258544         nonct    1.32          2.68\n",
       "4      84.6  13.945055         nonct    1.36          2.74\n",
       "..      ...        ...           ...     ...           ...\n",
       "82     50.0  10.830325         nonct    2.02          3.93\n",
       "83     33.6  10.130653   ciclista 3h    1.94          3.93\n",
       "84     55.4  11.043189         nonct    1.94          3.94\n",
       "85     33.2  11.066667         nonct    2.05          3.95\n",
       "86     17.9  10.848485   ciclista 5h    2.05          3.98\n",
       "\n",
       "[80 rows x 5 columns]"
      ]
     },
     "execution_count": 144,
     "metadata": {},
     "output_type": "execute_result"
    }
   ],
   "source": [
    "df = df.query('sp4week<2000')\n",
    "df"
   ]
  },
  {
   "cell_type": "code",
   "execution_count": 145,
   "metadata": {},
   "outputs": [
    {
     "data": {
      "text/html": [
       "<div>\n",
       "<style scoped>\n",
       "    .dataframe tbody tr th:only-of-type {\n",
       "        vertical-align: middle;\n",
       "    }\n",
       "\n",
       "    .dataframe tbody tr th {\n",
       "        vertical-align: top;\n",
       "    }\n",
       "\n",
       "    .dataframe thead th {\n",
       "        text-align: right;\n",
       "    }\n",
       "</style>\n",
       "<table border=\"1\" class=\"dataframe\">\n",
       "  <thead>\n",
       "    <tr style=\"text-align: right;\">\n",
       "      <th></th>\n",
       "      <th>km4week</th>\n",
       "      <th>sp4week</th>\n",
       "      <th>Wall21</th>\n",
       "      <th>MarathonTime</th>\n",
       "      <th>CrossTraining_ciclista 13h</th>\n",
       "      <th>CrossTraining_ciclista 1h</th>\n",
       "      <th>CrossTraining_ciclista 3h</th>\n",
       "      <th>CrossTraining_ciclista 4h</th>\n",
       "      <th>CrossTraining_ciclista 5h</th>\n",
       "      <th>CrossTraining_nonct</th>\n",
       "    </tr>\n",
       "  </thead>\n",
       "  <tbody>\n",
       "    <tr>\n",
       "      <th>0</th>\n",
       "      <td>132.8</td>\n",
       "      <td>14.434783</td>\n",
       "      <td>1.16</td>\n",
       "      <td>2.37</td>\n",
       "      <td>0</td>\n",
       "      <td>0</td>\n",
       "      <td>0</td>\n",
       "      <td>0</td>\n",
       "      <td>0</td>\n",
       "      <td>1</td>\n",
       "    </tr>\n",
       "    <tr>\n",
       "      <th>1</th>\n",
       "      <td>68.6</td>\n",
       "      <td>13.674419</td>\n",
       "      <td>1.23</td>\n",
       "      <td>2.59</td>\n",
       "      <td>0</td>\n",
       "      <td>0</td>\n",
       "      <td>0</td>\n",
       "      <td>0</td>\n",
       "      <td>0</td>\n",
       "      <td>1</td>\n",
       "    </tr>\n",
       "    <tr>\n",
       "      <th>2</th>\n",
       "      <td>82.7</td>\n",
       "      <td>13.520436</td>\n",
       "      <td>1.30</td>\n",
       "      <td>2.66</td>\n",
       "      <td>0</td>\n",
       "      <td>0</td>\n",
       "      <td>0</td>\n",
       "      <td>0</td>\n",
       "      <td>0</td>\n",
       "      <td>1</td>\n",
       "    </tr>\n",
       "    <tr>\n",
       "      <th>3</th>\n",
       "      <td>137.5</td>\n",
       "      <td>12.258544</td>\n",
       "      <td>1.32</td>\n",
       "      <td>2.68</td>\n",
       "      <td>0</td>\n",
       "      <td>0</td>\n",
       "      <td>0</td>\n",
       "      <td>0</td>\n",
       "      <td>0</td>\n",
       "      <td>1</td>\n",
       "    </tr>\n",
       "    <tr>\n",
       "      <th>4</th>\n",
       "      <td>84.6</td>\n",
       "      <td>13.945055</td>\n",
       "      <td>1.36</td>\n",
       "      <td>2.74</td>\n",
       "      <td>0</td>\n",
       "      <td>0</td>\n",
       "      <td>0</td>\n",
       "      <td>0</td>\n",
       "      <td>0</td>\n",
       "      <td>1</td>\n",
       "    </tr>\n",
       "    <tr>\n",
       "      <th>...</th>\n",
       "      <td>...</td>\n",
       "      <td>...</td>\n",
       "      <td>...</td>\n",
       "      <td>...</td>\n",
       "      <td>...</td>\n",
       "      <td>...</td>\n",
       "      <td>...</td>\n",
       "      <td>...</td>\n",
       "      <td>...</td>\n",
       "      <td>...</td>\n",
       "    </tr>\n",
       "    <tr>\n",
       "      <th>82</th>\n",
       "      <td>50.0</td>\n",
       "      <td>10.830325</td>\n",
       "      <td>2.02</td>\n",
       "      <td>3.93</td>\n",
       "      <td>0</td>\n",
       "      <td>0</td>\n",
       "      <td>0</td>\n",
       "      <td>0</td>\n",
       "      <td>0</td>\n",
       "      <td>1</td>\n",
       "    </tr>\n",
       "    <tr>\n",
       "      <th>83</th>\n",
       "      <td>33.6</td>\n",
       "      <td>10.130653</td>\n",
       "      <td>1.94</td>\n",
       "      <td>3.93</td>\n",
       "      <td>0</td>\n",
       "      <td>0</td>\n",
       "      <td>1</td>\n",
       "      <td>0</td>\n",
       "      <td>0</td>\n",
       "      <td>0</td>\n",
       "    </tr>\n",
       "    <tr>\n",
       "      <th>84</th>\n",
       "      <td>55.4</td>\n",
       "      <td>11.043189</td>\n",
       "      <td>1.94</td>\n",
       "      <td>3.94</td>\n",
       "      <td>0</td>\n",
       "      <td>0</td>\n",
       "      <td>0</td>\n",
       "      <td>0</td>\n",
       "      <td>0</td>\n",
       "      <td>1</td>\n",
       "    </tr>\n",
       "    <tr>\n",
       "      <th>85</th>\n",
       "      <td>33.2</td>\n",
       "      <td>11.066667</td>\n",
       "      <td>2.05</td>\n",
       "      <td>3.95</td>\n",
       "      <td>0</td>\n",
       "      <td>0</td>\n",
       "      <td>0</td>\n",
       "      <td>0</td>\n",
       "      <td>0</td>\n",
       "      <td>1</td>\n",
       "    </tr>\n",
       "    <tr>\n",
       "      <th>86</th>\n",
       "      <td>17.9</td>\n",
       "      <td>10.848485</td>\n",
       "      <td>2.05</td>\n",
       "      <td>3.98</td>\n",
       "      <td>0</td>\n",
       "      <td>0</td>\n",
       "      <td>0</td>\n",
       "      <td>0</td>\n",
       "      <td>1</td>\n",
       "      <td>0</td>\n",
       "    </tr>\n",
       "  </tbody>\n",
       "</table>\n",
       "<p>80 rows × 10 columns</p>\n",
       "</div>"
      ],
      "text/plain": [
       "    km4week    sp4week  Wall21  MarathonTime  CrossTraining_ciclista 13h  \\\n",
       "0     132.8  14.434783    1.16          2.37                           0   \n",
       "1      68.6  13.674419    1.23          2.59                           0   \n",
       "2      82.7  13.520436    1.30          2.66                           0   \n",
       "3     137.5  12.258544    1.32          2.68                           0   \n",
       "4      84.6  13.945055    1.36          2.74                           0   \n",
       "..      ...        ...     ...           ...                         ...   \n",
       "82     50.0  10.830325    2.02          3.93                           0   \n",
       "83     33.6  10.130653    1.94          3.93                           0   \n",
       "84     55.4  11.043189    1.94          3.94                           0   \n",
       "85     33.2  11.066667    2.05          3.95                           0   \n",
       "86     17.9  10.848485    2.05          3.98                           0   \n",
       "\n",
       "    CrossTraining_ciclista 1h  CrossTraining_ciclista 3h  \\\n",
       "0                           0                          0   \n",
       "1                           0                          0   \n",
       "2                           0                          0   \n",
       "3                           0                          0   \n",
       "4                           0                          0   \n",
       "..                        ...                        ...   \n",
       "82                          0                          0   \n",
       "83                          0                          1   \n",
       "84                          0                          0   \n",
       "85                          0                          0   \n",
       "86                          0                          0   \n",
       "\n",
       "    CrossTraining_ciclista 4h  CrossTraining_ciclista 5h  CrossTraining_nonct  \n",
       "0                           0                          0                    1  \n",
       "1                           0                          0                    1  \n",
       "2                           0                          0                    1  \n",
       "3                           0                          0                    1  \n",
       "4                           0                          0                    1  \n",
       "..                        ...                        ...                  ...  \n",
       "82                          0                          0                    1  \n",
       "83                          0                          0                    0  \n",
       "84                          0                          0                    1  \n",
       "85                          0                          0                    1  \n",
       "86                          0                          1                    0  \n",
       "\n",
       "[80 rows x 10 columns]"
      ]
     },
     "execution_count": 145,
     "metadata": {},
     "output_type": "execute_result"
    }
   ],
   "source": [
    "df = pd.get_dummies(df)\n",
    "df"
   ]
  },
  {
   "cell_type": "code",
   "execution_count": 146,
   "metadata": {},
   "outputs": [
    {
     "data": {
      "text/plain": [
       "MarathonTime                  1.000000\n",
       "Wall21                        0.968751\n",
       "sp4week                       0.639466\n",
       "km4week                       0.623238\n",
       "CrossTraining_ciclista 5h     0.253511\n",
       "CrossTraining_nonct           0.179470\n",
       "CrossTraining_ciclista 3h     0.175724\n",
       "CrossTraining_ciclista 1h     0.141044\n",
       "CrossTraining_ciclista 13h    0.116998\n",
       "CrossTraining_ciclista 4h     0.013155\n",
       "Name: MarathonTime, dtype: float64"
      ]
     },
     "execution_count": 146,
     "metadata": {},
     "output_type": "execute_result"
    }
   ],
   "source": [
    "correlated = df.corr().abs()['MarathonTime'].sort_values(ascending=False)\n",
    "correlated"
   ]
  },
  {
   "cell_type": "code",
   "execution_count": 148,
   "metadata": {},
   "outputs": [
    {
     "data": {
      "text/plain": [
       "MarathonTime                 1.000000\n",
       "Wall21                       0.968751\n",
       "sp4week                      0.639466\n",
       "km4week                      0.623238\n",
       "CrossTraining_ciclista 5h    0.253511\n",
       "Name: MarathonTime, dtype: float64"
      ]
     },
     "execution_count": 148,
     "metadata": {},
     "output_type": "execute_result"
    }
   ],
   "source": [
    "correlated = correlated[:5]\n",
    "correlated"
   ]
  },
  {
   "cell_type": "code",
   "execution_count": 150,
   "metadata": {},
   "outputs": [
    {
     "data": {
      "text/html": [
       "<div>\n",
       "<style scoped>\n",
       "    .dataframe tbody tr th:only-of-type {\n",
       "        vertical-align: middle;\n",
       "    }\n",
       "\n",
       "    .dataframe tbody tr th {\n",
       "        vertical-align: top;\n",
       "    }\n",
       "\n",
       "    .dataframe thead th {\n",
       "        text-align: right;\n",
       "    }\n",
       "</style>\n",
       "<table border=\"1\" class=\"dataframe\">\n",
       "  <thead>\n",
       "    <tr style=\"text-align: right;\">\n",
       "      <th></th>\n",
       "      <th>MarathonTime</th>\n",
       "      <th>Wall21</th>\n",
       "      <th>sp4week</th>\n",
       "      <th>km4week</th>\n",
       "      <th>CrossTraining_ciclista 5h</th>\n",
       "    </tr>\n",
       "  </thead>\n",
       "  <tbody>\n",
       "    <tr>\n",
       "      <th>0</th>\n",
       "      <td>2.37</td>\n",
       "      <td>1.16</td>\n",
       "      <td>14.434783</td>\n",
       "      <td>132.8</td>\n",
       "      <td>0</td>\n",
       "    </tr>\n",
       "    <tr>\n",
       "      <th>1</th>\n",
       "      <td>2.59</td>\n",
       "      <td>1.23</td>\n",
       "      <td>13.674419</td>\n",
       "      <td>68.6</td>\n",
       "      <td>0</td>\n",
       "    </tr>\n",
       "    <tr>\n",
       "      <th>2</th>\n",
       "      <td>2.66</td>\n",
       "      <td>1.30</td>\n",
       "      <td>13.520436</td>\n",
       "      <td>82.7</td>\n",
       "      <td>0</td>\n",
       "    </tr>\n",
       "    <tr>\n",
       "      <th>3</th>\n",
       "      <td>2.68</td>\n",
       "      <td>1.32</td>\n",
       "      <td>12.258544</td>\n",
       "      <td>137.5</td>\n",
       "      <td>0</td>\n",
       "    </tr>\n",
       "    <tr>\n",
       "      <th>4</th>\n",
       "      <td>2.74</td>\n",
       "      <td>1.36</td>\n",
       "      <td>13.945055</td>\n",
       "      <td>84.6</td>\n",
       "      <td>0</td>\n",
       "    </tr>\n",
       "  </tbody>\n",
       "</table>\n",
       "</div>"
      ],
      "text/plain": [
       "   MarathonTime  Wall21    sp4week  km4week  CrossTraining_ciclista 5h\n",
       "0          2.37    1.16  14.434783    132.8                          0\n",
       "1          2.59    1.23  13.674419     68.6                          0\n",
       "2          2.66    1.30  13.520436     82.7                          0\n",
       "3          2.68    1.32  12.258544    137.5                          0\n",
       "4          2.74    1.36  13.945055     84.6                          0"
      ]
     },
     "execution_count": 150,
     "metadata": {},
     "output_type": "execute_result"
    }
   ],
   "source": [
    "df = df.loc[:,correlated.index]\n",
    "df.head()"
   ]
  },
  {
   "cell_type": "markdown",
   "metadata": {},
   "source": [
    "## **Data Visualization**"
   ]
  },
  {
   "cell_type": "code",
   "execution_count": 151,
   "metadata": {},
   "outputs": [
    {
     "data": {
      "text/plain": [
       "<AxesSubplot:>"
      ]
     },
     "execution_count": 151,
     "metadata": {},
     "output_type": "execute_result"
    },
    {
     "data": {
      "image/png": "[encoded data removed]",
      "text/plain": [
       "<Figure size 432x288 with 2 Axes>"
      ]
     },
     "metadata": {
      "needs_background": "light"
     },
     "output_type": "display_data"
    }
   ],
   "source": [
    "import matplotlib.pyplot as plt\n",
    "import seaborn as sns\n",
    "\n",
    "import matplotlib.pyplot as plt\n",
    "import seaborn as sns\n",
    "sns.heatmap(df.corr(),annot=True,cmap = 'YlGnBu')"
   ]
  },
  {
   "cell_type": "markdown",
   "metadata": {},
   "source": [
    "## **Data Training**"
   ]
  },
  {
   "cell_type": "code",
   "execution_count": 152,
   "metadata": {},
   "outputs": [],
   "source": [
    "# splitting the X and Y\n",
    "X = df.drop(columns=['MarathonTime'])\n",
    "Y = df['MarathonTime']"
   ]
  },
  {
   "cell_type": "code",
   "execution_count": 153,
   "metadata": {},
   "outputs": [
    {
     "data": {
      "text/html": [
       "<div>\n",
       "<style scoped>\n",
       "    .dataframe tbody tr th:only-of-type {\n",
       "        vertical-align: middle;\n",
       "    }\n",
       "\n",
       "    .dataframe tbody tr th {\n",
       "        vertical-align: top;\n",
       "    }\n",
       "\n",
       "    .dataframe thead th {\n",
       "        text-align: right;\n",
       "    }\n",
       "</style>\n",
       "<table border=\"1\" class=\"dataframe\">\n",
       "  <thead>\n",
       "    <tr style=\"text-align: right;\">\n",
       "      <th></th>\n",
       "      <th>Wall21</th>\n",
       "      <th>sp4week</th>\n",
       "      <th>km4week</th>\n",
       "      <th>CrossTraining_ciclista 5h</th>\n",
       "    </tr>\n",
       "  </thead>\n",
       "  <tbody>\n",
       "    <tr>\n",
       "      <th>0</th>\n",
       "      <td>1.16</td>\n",
       "      <td>14.434783</td>\n",
       "      <td>132.8</td>\n",
       "      <td>0</td>\n",
       "    </tr>\n",
       "    <tr>\n",
       "      <th>1</th>\n",
       "      <td>1.23</td>\n",
       "      <td>13.674419</td>\n",
       "      <td>68.6</td>\n",
       "      <td>0</td>\n",
       "    </tr>\n",
       "    <tr>\n",
       "      <th>2</th>\n",
       "      <td>1.30</td>\n",
       "      <td>13.520436</td>\n",
       "      <td>82.7</td>\n",
       "      <td>0</td>\n",
       "    </tr>\n",
       "    <tr>\n",
       "      <th>3</th>\n",
       "      <td>1.32</td>\n",
       "      <td>12.258544</td>\n",
       "      <td>137.5</td>\n",
       "      <td>0</td>\n",
       "    </tr>\n",
       "    <tr>\n",
       "      <th>4</th>\n",
       "      <td>1.36</td>\n",
       "      <td>13.945055</td>\n",
       "      <td>84.6</td>\n",
       "      <td>0</td>\n",
       "    </tr>\n",
       "    <tr>\n",
       "      <th>...</th>\n",
       "      <td>...</td>\n",
       "      <td>...</td>\n",
       "      <td>...</td>\n",
       "      <td>...</td>\n",
       "    </tr>\n",
       "    <tr>\n",
       "      <th>82</th>\n",
       "      <td>2.02</td>\n",
       "      <td>10.830325</td>\n",
       "      <td>50.0</td>\n",
       "      <td>0</td>\n",
       "    </tr>\n",
       "    <tr>\n",
       "      <th>83</th>\n",
       "      <td>1.94</td>\n",
       "      <td>10.130653</td>\n",
       "      <td>33.6</td>\n",
       "      <td>0</td>\n",
       "    </tr>\n",
       "    <tr>\n",
       "      <th>84</th>\n",
       "      <td>1.94</td>\n",
       "      <td>11.043189</td>\n",
       "      <td>55.4</td>\n",
       "      <td>0</td>\n",
       "    </tr>\n",
       "    <tr>\n",
       "      <th>85</th>\n",
       "      <td>2.05</td>\n",
       "      <td>11.066667</td>\n",
       "      <td>33.2</td>\n",
       "      <td>0</td>\n",
       "    </tr>\n",
       "    <tr>\n",
       "      <th>86</th>\n",
       "      <td>2.05</td>\n",
       "      <td>10.848485</td>\n",
       "      <td>17.9</td>\n",
       "      <td>1</td>\n",
       "    </tr>\n",
       "  </tbody>\n",
       "</table>\n",
       "<p>80 rows × 4 columns</p>\n",
       "</div>"
      ],
      "text/plain": [
       "    Wall21    sp4week  km4week  CrossTraining_ciclista 5h\n",
       "0     1.16  14.434783    132.8                          0\n",
       "1     1.23  13.674419     68.6                          0\n",
       "2     1.30  13.520436     82.7                          0\n",
       "3     1.32  12.258544    137.5                          0\n",
       "4     1.36  13.945055     84.6                          0\n",
       "..     ...        ...      ...                        ...\n",
       "82    2.02  10.830325     50.0                          0\n",
       "83    1.94  10.130653     33.6                          0\n",
       "84    1.94  11.043189     55.4                          0\n",
       "85    2.05  11.066667     33.2                          0\n",
       "86    2.05  10.848485     17.9                          1\n",
       "\n",
       "[80 rows x 4 columns]"
      ]
     },
     "execution_count": 153,
     "metadata": {},
     "output_type": "execute_result"
    }
   ],
   "source": [
    "X"
   ]
  },
  {
   "cell_type": "code",
   "execution_count": 154,
   "metadata": {},
   "outputs": [
    {
     "data": {
      "text/plain": [
       "0     2.37\n",
       "1     2.59\n",
       "2     2.66\n",
       "3     2.68\n",
       "4     2.74\n",
       "      ... \n",
       "82    3.93\n",
       "83    3.93\n",
       "84    3.94\n",
       "85    3.95\n",
       "86    3.98\n",
       "Name: MarathonTime, Length: 80, dtype: float64"
      ]
     },
     "execution_count": 154,
     "metadata": {},
     "output_type": "execute_result"
    }
   ],
   "source": [
    "Y"
   ]
  },
  {
   "cell_type": "code",
   "execution_count": 155,
   "metadata": {},
   "outputs": [],
   "source": [
    "# Now we need to split the data for training and testing part\n",
    "from sklearn.model_selection import train_test_split\n",
    "X_train, X_test, y_train, y_test = train_test_split(X, Y, test_size=0.20)"
   ]
  },
  {
   "cell_type": "code",
   "execution_count": null,
   "metadata": {},
   "outputs": [],
   "source": []
  },
  {
   "cell_type": "markdown",
   "metadata": {},
   "source": [
    "# **Model Creation**"
   ]
  },
  {
   "cell_type": "markdown",
   "metadata": {},
   "source": [
    "### **Linear Regression**"
   ]
  },
  {
   "cell_type": "code",
   "execution_count": 156,
   "metadata": {},
   "outputs": [],
   "source": [
    "# Importing linear regression model\n",
    "from sklearn.linear_model import LinearRegression \n",
    "reg1 = LinearRegression()"
   ]
  },
  {
   "cell_type": "code",
   "execution_count": 159,
   "metadata": {},
   "outputs": [
    {
     "data": {
      "text/plain": [
       "array([3.87141705, 3.52112289, 3.91350202, 2.82532771, 2.70796134,\n",
       "       3.73391208, 3.60245149, 2.86867541, 3.07478869, 2.90767724,\n",
       "       3.82776596, 4.04964002, 3.10092965, 3.11237681, 2.73169661,\n",
       "       3.20374701])"
      ]
     },
     "execution_count": 159,
     "metadata": {},
     "output_type": "execute_result"
    }
   ],
   "source": [
    "reg1.fit(X_train,y_train)\n",
    "pred1=reg1.predict(X_test)\n",
    "pred1"
   ]
  },
  {
   "cell_type": "code",
   "execution_count": 161,
   "metadata": {},
   "outputs": [
    {
     "name": "stdout",
     "output_type": "stream",
     "text": [
      "Accuracy of the LinearRegression model comes to be: \n",
      " \n",
      "0.9403592362794639\n"
     ]
    }
   ],
   "source": [
    "print(\"Accuracy of the LinearRegression model comes to be: \\n \") \n",
    "print(reg1.score(X_train,y_train))"
   ]
  },
  {
   "cell_type": "markdown",
   "metadata": {},
   "source": [
    "### **Ridge Regression**"
   ]
  },
  {
   "cell_type": "code",
   "execution_count": 167,
   "metadata": {},
   "outputs": [],
   "source": [
    "# Importing model\n",
    "from sklearn.linear_model import Ridge\n",
    "reg2 = Ridge()"
   ]
  },
  {
   "cell_type": "code",
   "execution_count": 168,
   "metadata": {},
   "outputs": [
    {
     "data": {
      "text/plain": [
       "array([3.62860635, 3.36631353, 3.78365804, 3.02181295, 2.72971975,\n",
       "       3.53304435, 3.50724422, 2.93536125, 3.08990526, 2.91391748,\n",
       "       3.65628077, 3.88764079, 3.16832036, 3.12892496, 2.84138319,\n",
       "       3.09905131])"
      ]
     },
     "execution_count": 168,
     "metadata": {},
     "output_type": "execute_result"
    }
   ],
   "source": [
    "# Fitting data into the model.\n",
    "reg2.fit(X_train, y_train)\n",
    "pred2=reg2.predict(X_test)\n",
    "pred2"
   ]
  },
  {
   "cell_type": "code",
   "execution_count": 169,
   "metadata": {},
   "outputs": [
    {
     "name": "stdout",
     "output_type": "stream",
     "text": [
      "Accuracy of the Ridge Regression model comes to be: \n",
      " \n",
      "0.8642123943204529\n"
     ]
    }
   ],
   "source": [
    "print(\"Accuracy of the Ridge Regression model comes to be: \\n \") \n",
    "print(reg2.score(X_train,y_train))"
   ]
  },
  {
   "cell_type": "markdown",
   "metadata": {},
   "source": [
    "### **Lasso Regression**"
   ]
  },
  {
   "cell_type": "code",
   "execution_count": null,
   "metadata": {},
   "outputs": [],
   "source": [
    "# Importing model\n",
    "from sklearn.linear_model import lasso\n",
    "reg3 = Lasso()"
   ]
  },
  {
   "cell_type": "code",
   "execution_count": 170,
   "metadata": {},
   "outputs": [
    {
     "data": {
      "text/plain": [
       "array([3.62860635, 3.36631353, 3.78365804, 3.02181295, 2.72971975,\n",
       "       3.53304435, 3.50724422, 2.93536125, 3.08990526, 2.91391748,\n",
       "       3.65628077, 3.88764079, 3.16832036, 3.12892496, 2.84138319,\n",
       "       3.09905131])"
      ]
     },
     "execution_count": 170,
     "metadata": {},
     "output_type": "execute_result"
    }
   ],
   "source": [
    "# Fitting data into the model.\n",
    "reg3.fit(X_train, y_train)\n",
    "pred3=reg3.predict(X_test)\n",
    "pred3"
   ]
  },
  {
   "cell_type": "code",
   "execution_count": 186,
   "metadata": {},
   "outputs": [
    {
     "name": "stdout",
     "output_type": "stream",
     "text": [
      "Accuracy of the Lasso Regression model comes to be: \n",
      " \n",
      "0.8642123943204529\n"
     ]
    }
   ],
   "source": [
    "print(\"Accuracy of the Lasso Regression model comes to be: \\n \") \n",
    "print(reg3.score(X_train,y_train))"
   ]
  },
  {
   "cell_type": "code",
   "execution_count": null,
   "metadata": {},
   "outputs": [],
   "source": []
  },
  {
   "cell_type": "markdown",
   "metadata": {},
   "source": [
    "## **Performance  Evaluation**"
   ]
  },
  {
   "cell_type": "code",
   "execution_count": 190,
   "metadata": {},
   "outputs": [
    {
     "name": "stdout",
     "output_type": "stream",
     "text": [
      "Model\t\t\t RootMeanSquareError \t\t Accuracy of the model\n",
      "Linear Regression \t\t 0.0818 \t \t\t 0.9404\n",
      "Ridge Regression \t\t 0.1587 \t \t\t 0.8642\n",
      "Lasso Regression \t\t 0.1587 \t \t\t 0.8642\n"
     ]
    }
   ],
   "source": [
    "import numpy as np\n",
    "from sklearn.metrics import mean_squared_error\n",
    "print(\"Model\\t\\t\\t RootMeanSquareError \\t\\t Accuracy of the model\") \n",
    "print(\"\"\"Linear Regression \\t\\t {:.4f} \\t \\t\\t {:.4f}\"\"\".format(  np.sqrt(mean_squared_error(y_test, pred1)), reg1.score(X_train,y_train)))\n",
    "print(\"\"\"Ridge Regression \\t\\t {:.4f} \\t \\t\\t {:.4f}\"\"\".format(  np.sqrt(mean_squared_error(y_test, pred2)), reg2.score(X_train,y_train)))\n",
    "print(\"\"\"Lasso Regression \\t\\t {:.4f} \\t \\t\\t {:.4f}\"\"\".format(  np.sqrt(mean_squared_error(y_test, pred3)), reg3.score(X_train,y_train)))"
   ]
  },
  {
   "cell_type": "markdown",
   "metadata": {},
   "source": [
    "Conclusion: Accuracy of Regression models- Lasso regression, rigde regression is same.\n",
    "\n",
    "Whereas accuracy of Linear Regression is higher and root mean square error is least.\n",
    "\n",
    "Linear Regression is more efficient model."
   ]
  },
  {
   "cell_type": "code",
   "execution_count": null,
   "metadata": {},
   "outputs": [],
   "source": []
  }
 ],
 "metadata": {
  "kernelspec": {
   "display_name": "Python 3",
   "language": "python",
   "name": "python3"
  },
  "language_info": {
   "codemirror_mode": {
    "name": "ipython",
    "version": 3
   },
   "file_extension": ".py",
   "mimetype": "text/x-python",
   "name": "python",
   "nbconvert_exporter": "python",
   "pygments_lexer": "ipython3",
   "version": "3.8.5"
  }
 },
 "nbformat": 4,
 "nbformat_minor": 4
}

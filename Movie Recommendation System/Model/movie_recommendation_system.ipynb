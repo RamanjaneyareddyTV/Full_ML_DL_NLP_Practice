{
  "nbformat": 4,
  "nbformat_minor": 0,
  "metadata": {
    "kernelspec": {
      "language": "python",
      "display_name": "Python 3",
      "name": "python3"
    },
    "language_info": {
      "name": "python",
      "version": "3.7.9",
      "mimetype": "text/x-python",
      "codemirror_mode": {
        "name": "ipython",
        "version": 3
      },
      "pygments_lexer": "ipython3",
      "nbconvert_exporter": "python",
      "file_extension": ".py"
    },
    "colab": {
      "name": "movie_recommendation_system.ipynb",
      "provenance": []
    }
  },
  "cells": [
    {
      "cell_type": "code",
      "metadata": {
        "id": "0BFWUqSjLTgd"
      },
      "source": [
        "import pandas as pd\n",
        "import numpy as np"
      ],
      "execution_count": 1,
      "outputs": []
    },
    {
      "cell_type": "code",
      "metadata": {
        "execution": {
          "iopub.status.busy": "2021-06-21T06:38:57.432501Z",
          "iopub.execute_input": "2021-06-21T06:38:57.433066Z",
          "iopub.status.idle": "2021-06-21T06:38:58.611512Z",
          "shell.execute_reply.started": "2021-06-21T06:38:57.433013Z",
          "shell.execute_reply": "2021-06-21T06:38:58.610717Z"
        },
        "trusted": true,
        "id": "d7cr8GnnYeiV",
        "outputId": "05688a85-9acc-43c9-d691-72c68953ecde"
      },
      "source": [
        "# Load Movies Metadata\n",
        "df=pd.read_csv(\"/kaggle/input/the-movies-dataset/movies_metadata.csv\")\n",
        "df.head()"
      ],
      "execution_count": null,
      "outputs": [
        {
          "output_type": "stream",
          "text": [
            "/opt/conda/lib/python3.7/site-packages/IPython/core/interactiveshell.py:3156: DtypeWarning: Columns (10) have mixed types.Specify dtype option on import or set low_memory=False.\n",
            "  interactivity=interactivity, compiler=compiler, result=result)\n"
          ],
          "name": "stderr"
        },
        {
          "output_type": "execute_result",
          "data": {
            "text/plain": [
              "   adult                              belongs_to_collection    budget  \\\n",
              "0  False  {'id': 10194, 'name': 'Toy Story Collection', ...  30000000   \n",
              "1  False                                                NaN  65000000   \n",
              "2  False  {'id': 119050, 'name': 'Grumpy Old Men Collect...         0   \n",
              "3  False                                                NaN  16000000   \n",
              "4  False  {'id': 96871, 'name': 'Father of the Bride Col...         0   \n",
              "\n",
              "                                              genres  \\\n",
              "0  [{'id': 16, 'name': 'Animation'}, {'id': 35, '...   \n",
              "1  [{'id': 12, 'name': 'Adventure'}, {'id': 14, '...   \n",
              "2  [{'id': 10749, 'name': 'Romance'}, {'id': 35, ...   \n",
              "3  [{'id': 35, 'name': 'Comedy'}, {'id': 18, 'nam...   \n",
              "4                     [{'id': 35, 'name': 'Comedy'}]   \n",
              "\n",
              "                               homepage     id    imdb_id original_language  \\\n",
              "0  http://toystory.disney.com/toy-story    862  tt0114709                en   \n",
              "1                                   NaN   8844  tt0113497                en   \n",
              "2                                   NaN  15602  tt0113228                en   \n",
              "3                                   NaN  31357  tt0114885                en   \n",
              "4                                   NaN  11862  tt0113041                en   \n",
              "\n",
              "                original_title  \\\n",
              "0                    Toy Story   \n",
              "1                      Jumanji   \n",
              "2             Grumpier Old Men   \n",
              "3            Waiting to Exhale   \n",
              "4  Father of the Bride Part II   \n",
              "\n",
              "                                            overview  ... release_date  \\\n",
              "0  Led by Woody, Andy's toys live happily in his ...  ...   1995-10-30   \n",
              "1  When siblings Judy and Peter discover an encha...  ...   1995-12-15   \n",
              "2  A family wedding reignites the ancient feud be...  ...   1995-12-22   \n",
              "3  Cheated on, mistreated and stepped on, the wom...  ...   1995-12-22   \n",
              "4  Just when George Banks has recovered from his ...  ...   1995-02-10   \n",
              "\n",
              "       revenue runtime                                   spoken_languages  \\\n",
              "0  373554033.0    81.0           [{'iso_639_1': 'en', 'name': 'English'}]   \n",
              "1  262797249.0   104.0  [{'iso_639_1': 'en', 'name': 'English'}, {'iso...   \n",
              "2          0.0   101.0           [{'iso_639_1': 'en', 'name': 'English'}]   \n",
              "3   81452156.0   127.0           [{'iso_639_1': 'en', 'name': 'English'}]   \n",
              "4   76578911.0   106.0           [{'iso_639_1': 'en', 'name': 'English'}]   \n",
              "\n",
              "     status                                            tagline  \\\n",
              "0  Released                                                NaN   \n",
              "1  Released          Roll the dice and unleash the excitement!   \n",
              "2  Released  Still Yelling. Still Fighting. Still Ready for...   \n",
              "3  Released  Friends are the people who let you be yourself...   \n",
              "4  Released  Just When His World Is Back To Normal... He's ...   \n",
              "\n",
              "                         title  video vote_average vote_count  \n",
              "0                    Toy Story  False          7.7     5415.0  \n",
              "1                      Jumanji  False          6.9     2413.0  \n",
              "2             Grumpier Old Men  False          6.5       92.0  \n",
              "3            Waiting to Exhale  False          6.1       34.0  \n",
              "4  Father of the Bride Part II  False          5.7      173.0  \n",
              "\n",
              "[5 rows x 24 columns]"
            ],
            "text/html": [
              "<div>\n",
              "<style scoped>\n",
              "    .dataframe tbody tr th:only-of-type {\n",
              "        vertical-align: middle;\n",
              "    }\n",
              "\n",
              "    .dataframe tbody tr th {\n",
              "        vertical-align: top;\n",
              "    }\n",
              "\n",
              "    .dataframe thead th {\n",
              "        text-align: right;\n",
              "    }\n",
              "</style>\n",
              "<table border=\"1\" class=\"dataframe\">\n",
              "  <thead>\n",
              "    <tr style=\"text-align: right;\">\n",
              "      <th></th>\n",
              "      <th>adult</th>\n",
              "      <th>belongs_to_collection</th>\n",
              "      <th>budget</th>\n",
              "      <th>genres</th>\n",
              "      <th>homepage</th>\n",
              "      <th>id</th>\n",
              "      <th>imdb_id</th>\n",
              "      <th>original_language</th>\n",
              "      <th>original_title</th>\n",
              "      <th>overview</th>\n",
              "      <th>...</th>\n",
              "      <th>release_date</th>\n",
              "      <th>revenue</th>\n",
              "      <th>runtime</th>\n",
              "      <th>spoken_languages</th>\n",
              "      <th>status</th>\n",
              "      <th>tagline</th>\n",
              "      <th>title</th>\n",
              "      <th>video</th>\n",
              "      <th>vote_average</th>\n",
              "      <th>vote_count</th>\n",
              "    </tr>\n",
              "  </thead>\n",
              "  <tbody>\n",
              "    <tr>\n",
              "      <th>0</th>\n",
              "      <td>False</td>\n",
              "      <td>{'id': 10194, 'name': 'Toy Story Collection', ...</td>\n",
              "      <td>30000000</td>\n",
              "      <td>[{'id': 16, 'name': 'Animation'}, {'id': 35, '...</td>\n",
              "      <td>http://toystory.disney.com/toy-story</td>\n",
              "      <td>862</td>\n",
              "      <td>tt0114709</td>\n",
              "      <td>en</td>\n",
              "      <td>Toy Story</td>\n",
              "      <td>Led by Woody, Andy's toys live happily in his ...</td>\n",
              "      <td>...</td>\n",
              "      <td>1995-10-30</td>\n",
              "      <td>373554033.0</td>\n",
              "      <td>81.0</td>\n",
              "      <td>[{'iso_639_1': 'en', 'name': 'English'}]</td>\n",
              "      <td>Released</td>\n",
              "      <td>NaN</td>\n",
              "      <td>Toy Story</td>\n",
              "      <td>False</td>\n",
              "      <td>7.7</td>\n",
              "      <td>5415.0</td>\n",
              "    </tr>\n",
              "    <tr>\n",
              "      <th>1</th>\n",
              "      <td>False</td>\n",
              "      <td>NaN</td>\n",
              "      <td>65000000</td>\n",
              "      <td>[{'id': 12, 'name': 'Adventure'}, {'id': 14, '...</td>\n",
              "      <td>NaN</td>\n",
              "      <td>8844</td>\n",
              "      <td>tt0113497</td>\n",
              "      <td>en</td>\n",
              "      <td>Jumanji</td>\n",
              "      <td>When siblings Judy and Peter discover an encha...</td>\n",
              "      <td>...</td>\n",
              "      <td>1995-12-15</td>\n",
              "      <td>262797249.0</td>\n",
              "      <td>104.0</td>\n",
              "      <td>[{'iso_639_1': 'en', 'name': 'English'}, {'iso...</td>\n",
              "      <td>Released</td>\n",
              "      <td>Roll the dice and unleash the excitement!</td>\n",
              "      <td>Jumanji</td>\n",
              "      <td>False</td>\n",
              "      <td>6.9</td>\n",
              "      <td>2413.0</td>\n",
              "    </tr>\n",
              "    <tr>\n",
              "      <th>2</th>\n",
              "      <td>False</td>\n",
              "      <td>{'id': 119050, 'name': 'Grumpy Old Men Collect...</td>\n",
              "      <td>0</td>\n",
              "      <td>[{'id': 10749, 'name': 'Romance'}, {'id': 35, ...</td>\n",
              "      <td>NaN</td>\n",
              "      <td>15602</td>\n",
              "      <td>tt0113228</td>\n",
              "      <td>en</td>\n",
              "      <td>Grumpier Old Men</td>\n",
              "      <td>A family wedding reignites the ancient feud be...</td>\n",
              "      <td>...</td>\n",
              "      <td>1995-12-22</td>\n",
              "      <td>0.0</td>\n",
              "      <td>101.0</td>\n",
              "      <td>[{'iso_639_1': 'en', 'name': 'English'}]</td>\n",
              "      <td>Released</td>\n",
              "      <td>Still Yelling. Still Fighting. Still Ready for...</td>\n",
              "      <td>Grumpier Old Men</td>\n",
              "      <td>False</td>\n",
              "      <td>6.5</td>\n",
              "      <td>92.0</td>\n",
              "    </tr>\n",
              "    <tr>\n",
              "      <th>3</th>\n",
              "      <td>False</td>\n",
              "      <td>NaN</td>\n",
              "      <td>16000000</td>\n",
              "      <td>[{'id': 35, 'name': 'Comedy'}, {'id': 18, 'nam...</td>\n",
              "      <td>NaN</td>\n",
              "      <td>31357</td>\n",
              "      <td>tt0114885</td>\n",
              "      <td>en</td>\n",
              "      <td>Waiting to Exhale</td>\n",
              "      <td>Cheated on, mistreated and stepped on, the wom...</td>\n",
              "      <td>...</td>\n",
              "      <td>1995-12-22</td>\n",
              "      <td>81452156.0</td>\n",
              "      <td>127.0</td>\n",
              "      <td>[{'iso_639_1': 'en', 'name': 'English'}]</td>\n",
              "      <td>Released</td>\n",
              "      <td>Friends are the people who let you be yourself...</td>\n",
              "      <td>Waiting to Exhale</td>\n",
              "      <td>False</td>\n",
              "      <td>6.1</td>\n",
              "      <td>34.0</td>\n",
              "    </tr>\n",
              "    <tr>\n",
              "      <th>4</th>\n",
              "      <td>False</td>\n",
              "      <td>{'id': 96871, 'name': 'Father of the Bride Col...</td>\n",
              "      <td>0</td>\n",
              "      <td>[{'id': 35, 'name': 'Comedy'}]</td>\n",
              "      <td>NaN</td>\n",
              "      <td>11862</td>\n",
              "      <td>tt0113041</td>\n",
              "      <td>en</td>\n",
              "      <td>Father of the Bride Part II</td>\n",
              "      <td>Just when George Banks has recovered from his ...</td>\n",
              "      <td>...</td>\n",
              "      <td>1995-02-10</td>\n",
              "      <td>76578911.0</td>\n",
              "      <td>106.0</td>\n",
              "      <td>[{'iso_639_1': 'en', 'name': 'English'}]</td>\n",
              "      <td>Released</td>\n",
              "      <td>Just When His World Is Back To Normal... He's ...</td>\n",
              "      <td>Father of the Bride Part II</td>\n",
              "      <td>False</td>\n",
              "      <td>5.7</td>\n",
              "      <td>173.0</td>\n",
              "    </tr>\n",
              "  </tbody>\n",
              "</table>\n",
              "<p>5 rows × 24 columns</p>\n",
              "</div>"
            ]
          },
          "metadata": {
            "tags": []
          },
          "execution_count": 2
        }
      ]
    },
    {
      "cell_type": "markdown",
      "metadata": {
        "id": "Z2mteIT2YeiV"
      },
      "source": [
        "**Simple Recommendation System**\n",
        "\n",
        "It will recommend the top items based on a certain metric score.\n",
        "\n",
        "We are using metadata dataset for this recommendation system."
      ]
    },
    {
      "cell_type": "code",
      "metadata": {
        "execution": {
          "iopub.status.busy": "2021-06-21T06:40:06.229681Z",
          "iopub.execute_input": "2021-06-21T06:40:06.230156Z",
          "iopub.status.idle": "2021-06-21T06:40:07.385362Z",
          "shell.execute_reply.started": "2021-06-21T06:40:06.230119Z",
          "shell.execute_reply": "2021-06-21T06:40:07.384372Z"
        },
        "trusted": true,
        "id": "GjJOnu7SYeiW",
        "outputId": "19b8615d-dc22-4f43-bc08-b80a6089f5e6"
      },
      "source": [
        "import seaborn as sns\n",
        "sns.boxplot(df['vote_count'])"
      ],
      "execution_count": null,
      "outputs": [
        {
          "output_type": "stream",
          "text": [
            "/opt/conda/lib/python3.7/site-packages/seaborn/_decorators.py:43: FutureWarning: Pass the following variable as a keyword arg: x. From version 0.12, the only valid positional argument will be `data`, and passing other arguments without an explicit keyword will result in an error or misinterpretation.\n",
            "  FutureWarning\n"
          ],
          "name": "stderr"
        },
        {
          "output_type": "execute_result",
          "data": {
            "text/plain": [
              "<AxesSubplot:xlabel='vote_count'>"
            ]
          },
          "metadata": {
            "tags": []
          },
          "execution_count": 3
        },
        {
          "output_type": "display_data",
          "data": {
            "text/plain": [
              "<Figure size 432x288 with 1 Axes>"
            ],
            "image/png": "[encoded data removed]"
          },
          "metadata": {
            "tags": [],
            "needs_background": "light"
          }
        }
      ]
    },
    {
      "cell_type": "code",
      "metadata": {
        "execution": {
          "iopub.status.busy": "2021-06-21T06:40:29.266347Z",
          "iopub.execute_input": "2021-06-21T06:40:29.266796Z",
          "iopub.status.idle": "2021-06-21T06:40:29.282920Z",
          "shell.execute_reply.started": "2021-06-21T06:40:29.266754Z",
          "shell.execute_reply": "2021-06-21T06:40:29.281224Z"
        },
        "trusted": true,
        "id": "6nDyGZSWYeiW",
        "outputId": "d1b3df30-8f5c-421f-f444-fc55d0733553"
      },
      "source": [
        "df['vote_count'].describe()"
      ],
      "execution_count": null,
      "outputs": [
        {
          "output_type": "execute_result",
          "data": {
            "text/plain": [
              "count    45460.000000\n",
              "mean       109.897338\n",
              "std        491.310374\n",
              "min          0.000000\n",
              "25%          3.000000\n",
              "50%         10.000000\n",
              "75%         34.000000\n",
              "max      14075.000000\n",
              "Name: vote_count, dtype: float64"
            ]
          },
          "metadata": {
            "tags": []
          },
          "execution_count": 4
        }
      ]
    },
    {
      "cell_type": "code",
      "metadata": {
        "execution": {
          "iopub.status.busy": "2021-06-21T06:41:05.764398Z",
          "iopub.execute_input": "2021-06-21T06:41:05.764799Z",
          "iopub.status.idle": "2021-06-21T06:41:05.771026Z",
          "shell.execute_reply.started": "2021-06-21T06:41:05.764760Z",
          "shell.execute_reply": "2021-06-21T06:41:05.769900Z"
        },
        "trusted": true,
        "id": "2daYGnp6YeiW",
        "outputId": "fff447f6-655a-4806-d526-34d136cf768a"
      },
      "source": [
        "#calculate vote mean average\n",
        "C=df['vote_average'].mean()\n",
        "print(C)"
      ],
      "execution_count": null,
      "outputs": [
        {
          "output_type": "stream",
          "text": [
            "5.618207215133889\n"
          ],
          "name": "stdout"
        }
      ]
    },
    {
      "cell_type": "code",
      "metadata": {
        "execution": {
          "iopub.status.busy": "2021-06-21T06:41:19.942528Z",
          "iopub.execute_input": "2021-06-21T06:41:19.943266Z",
          "iopub.status.idle": "2021-06-21T06:41:19.953775Z",
          "shell.execute_reply.started": "2021-06-21T06:41:19.943225Z",
          "shell.execute_reply": "2021-06-21T06:41:19.952021Z"
        },
        "trusted": true,
        "id": "64oTpbTRYeiX",
        "outputId": "2d99bd8c-083c-4a58-a4d2-4b8ebb972566"
      },
      "source": [
        "# Calculate the minimum number of votes required to be in the chart, m\n",
        "m = df['vote_count'].quantile(0.90)\n",
        "print(m)"
      ],
      "execution_count": null,
      "outputs": [
        {
          "output_type": "stream",
          "text": [
            "160.0\n"
          ],
          "name": "stdout"
        }
      ]
    },
    {
      "cell_type": "code",
      "metadata": {
        "execution": {
          "iopub.status.busy": "2021-06-21T06:41:40.805602Z",
          "iopub.execute_input": "2021-06-21T06:41:40.806219Z",
          "iopub.status.idle": "2021-06-21T06:41:40.863379Z",
          "shell.execute_reply.started": "2021-06-21T06:41:40.806181Z",
          "shell.execute_reply": "2021-06-21T06:41:40.862170Z"
        },
        "trusted": true,
        "id": "UqYB_damYeiX",
        "outputId": "adc009b9-533b-4a4e-e838-8bbeb86a194a"
      },
      "source": [
        "# Filter out all qualified movies into a new DataFrame\n",
        "q_movies = df.copy()[df['vote_count'] >= m]\n",
        "q_movies.shape"
      ],
      "execution_count": null,
      "outputs": [
        {
          "output_type": "execute_result",
          "data": {
            "text/plain": [
              "(4555, 24)"
            ]
          },
          "metadata": {
            "tags": []
          },
          "execution_count": 7
        }
      ]
    },
    {
      "cell_type": "code",
      "metadata": {
        "execution": {
          "iopub.status.busy": "2021-06-21T06:42:02.649179Z",
          "iopub.execute_input": "2021-06-21T06:42:02.649578Z",
          "iopub.status.idle": "2021-06-21T06:42:02.775779Z",
          "shell.execute_reply.started": "2021-06-21T06:42:02.649545Z",
          "shell.execute_reply": "2021-06-21T06:42:02.774121Z"
        },
        "trusted": true,
        "id": "YMOJNu_1YeiY",
        "outputId": "a5d27c10-544f-4fc8-c65e-e02d633384c1"
      },
      "source": [
        "sns.boxplot(q_movies['vote_count'])"
      ],
      "execution_count": null,
      "outputs": [
        {
          "output_type": "stream",
          "text": [
            "/opt/conda/lib/python3.7/site-packages/seaborn/_decorators.py:43: FutureWarning: Pass the following variable as a keyword arg: x. From version 0.12, the only valid positional argument will be `data`, and passing other arguments without an explicit keyword will result in an error or misinterpretation.\n",
            "  FutureWarning\n"
          ],
          "name": "stderr"
        },
        {
          "output_type": "execute_result",
          "data": {
            "text/plain": [
              "<AxesSubplot:xlabel='vote_count'>"
            ]
          },
          "metadata": {
            "tags": []
          },
          "execution_count": 8
        },
        {
          "output_type": "display_data",
          "data": {
            "text/plain": [
              "<Figure size 432x288 with 1 Axes>"
            ],
            "image/png": "[encoded data removed]"
          },
          "metadata": {
            "tags": [],
            "needs_background": "light"
          }
        }
      ]
    },
    {
      "cell_type": "code",
      "metadata": {
        "execution": {
          "iopub.status.busy": "2021-06-21T06:42:25.866850Z",
          "iopub.execute_input": "2021-06-21T06:42:25.867284Z",
          "iopub.status.idle": "2021-06-21T06:42:25.873431Z",
          "shell.execute_reply.started": "2021-06-21T06:42:25.867249Z",
          "shell.execute_reply": "2021-06-21T06:42:25.872592Z"
        },
        "trusted": true,
        "id": "bIdm6WKYYeiY",
        "outputId": "5bfb38d5-79b7-4a01-ca8e-ecc5c0a5c5ce"
      },
      "source": [
        "df.shape"
      ],
      "execution_count": null,
      "outputs": [
        {
          "output_type": "execute_result",
          "data": {
            "text/plain": [
              "(45466, 24)"
            ]
          },
          "metadata": {
            "tags": []
          },
          "execution_count": 9
        }
      ]
    },
    {
      "cell_type": "markdown",
      "metadata": {
        "id": "H4pjIjH-YeiY"
      },
      "source": [
        "It is clear that there are around 10% movies with vote count more than 160 and qualify to be on this list."
      ]
    },
    {
      "cell_type": "markdown",
      "metadata": {
        "id": "7M7DSEEbYeiY"
      },
      "source": [
        "**After calculating the weighted score for every movie , we can sort the movies based on the score.**"
      ]
    },
    {
      "cell_type": "code",
      "metadata": {
        "execution": {
          "iopub.status.busy": "2021-06-21T06:42:57.917244Z",
          "iopub.execute_input": "2021-06-21T06:42:57.917856Z",
          "iopub.status.idle": "2021-06-21T06:42:57.923607Z",
          "shell.execute_reply.started": "2021-06-21T06:42:57.917812Z",
          "shell.execute_reply": "2021-06-21T06:42:57.922307Z"
        },
        "trusted": true,
        "id": "XLB3d4T8YeiZ"
      },
      "source": [
        "# Function that computes the weighted rating of each movie\n",
        "def weighted_rating(x, m=m, C=C):\n",
        "    v = x['vote_count']\n",
        "    R = x['vote_average']\n",
        "    # Calculation based on the IMDB formula\n",
        "    return (v/(v+m) * R) + (m/(m+v) * C)"
      ],
      "execution_count": null,
      "outputs": []
    },
    {
      "cell_type": "code",
      "metadata": {
        "execution": {
          "iopub.status.busy": "2021-06-21T06:43:08.963710Z",
          "iopub.execute_input": "2021-06-21T06:43:08.964080Z",
          "iopub.status.idle": "2021-06-21T06:43:09.072769Z",
          "shell.execute_reply.started": "2021-06-21T06:43:08.964049Z",
          "shell.execute_reply": "2021-06-21T06:43:09.071235Z"
        },
        "trusted": true,
        "id": "edzHm4CgYeiZ"
      },
      "source": [
        "# Define a new feature 'score' and calculate its value with `weighted_rating()`\n",
        "q_movies['score'] = q_movies.apply(weighted_rating, axis=1)"
      ],
      "execution_count": null,
      "outputs": []
    },
    {
      "cell_type": "code",
      "metadata": {
        "execution": {
          "iopub.status.busy": "2021-06-21T06:43:17.240294Z",
          "iopub.execute_input": "2021-06-21T06:43:17.240682Z",
          "iopub.status.idle": "2021-06-21T06:43:17.265973Z",
          "shell.execute_reply.started": "2021-06-21T06:43:17.240651Z",
          "shell.execute_reply": "2021-06-21T06:43:17.265083Z"
        },
        "trusted": true,
        "id": "jlQ2c52lYeiZ",
        "outputId": "e2e1b653-8f9d-45de-fc88-744245d0a2c6"
      },
      "source": [
        "#Sort movies based on score calculated above\n",
        "q_movies = q_movies.sort_values('score', ascending=False)\n",
        "\n",
        "#Print the top 15 movies\n",
        "q_movies[['title', 'vote_count', 'vote_average', 'score']].head(20)"
      ],
      "execution_count": null,
      "outputs": [
        {
          "output_type": "execute_result",
          "data": {
            "text/plain": [
              "                                 title  vote_count  vote_average     score\n",
              "314           The Shawshank Redemption      8358.0           8.5  8.445869\n",
              "834                      The Godfather      6024.0           8.5  8.425439\n",
              "10309      Dilwale Dulhania Le Jayenge       661.0           9.1  8.421453\n",
              "12481                  The Dark Knight     12269.0           8.3  8.265477\n",
              "2843                        Fight Club      9678.0           8.3  8.256385\n",
              "292                       Pulp Fiction      8670.0           8.3  8.251406\n",
              "522                   Schindler's List      4436.0           8.3  8.206639\n",
              "23673                         Whiplash      4376.0           8.3  8.205404\n",
              "5481                     Spirited Away      3968.0           8.3  8.196055\n",
              "2211                 Life Is Beautiful      3643.0           8.3  8.187171\n",
              "1178            The Godfather: Part II      3418.0           8.3  8.180076\n",
              "1152   One Flew Over the Cuckoo's Nest      3001.0           8.3  8.164256\n",
              "351                       Forrest Gump      8147.0           8.2  8.150272\n",
              "1154           The Empire Strikes Back      5998.0           8.2  8.132919\n",
              "1176                            Psycho      2405.0           8.3  8.132715\n",
              "18465                 The Intouchables      5410.0           8.2  8.125837\n",
              "40251                       Your Name.      1030.0           8.5  8.112532\n",
              "289             Leon: The Professional      4293.0           8.2  8.107234\n",
              "3030                    The Green Mile      4166.0           8.2  8.104511\n",
              "1170                        GoodFellas      3211.0           8.2  8.077459"
            ],
            "text/html": [
              "<div>\n",
              "<style scoped>\n",
              "    .dataframe tbody tr th:only-of-type {\n",
              "        vertical-align: middle;\n",
              "    }\n",
              "\n",
              "    .dataframe tbody tr th {\n",
              "        vertical-align: top;\n",
              "    }\n",
              "\n",
              "    .dataframe thead th {\n",
              "        text-align: right;\n",
              "    }\n",
              "</style>\n",
              "<table border=\"1\" class=\"dataframe\">\n",
              "  <thead>\n",
              "    <tr style=\"text-align: right;\">\n",
              "      <th></th>\n",
              "      <th>title</th>\n",
              "      <th>vote_count</th>\n",
              "      <th>vote_average</th>\n",
              "      <th>score</th>\n",
              "    </tr>\n",
              "  </thead>\n",
              "  <tbody>\n",
              "    <tr>\n",
              "      <th>314</th>\n",
              "      <td>The Shawshank Redemption</td>\n",
              "      <td>8358.0</td>\n",
              "      <td>8.5</td>\n",
              "      <td>8.445869</td>\n",
              "    </tr>\n",
              "    <tr>\n",
              "      <th>834</th>\n",
              "      <td>The Godfather</td>\n",
              "      <td>6024.0</td>\n",
              "      <td>8.5</td>\n",
              "      <td>8.425439</td>\n",
              "    </tr>\n",
              "    <tr>\n",
              "      <th>10309</th>\n",
              "      <td>Dilwale Dulhania Le Jayenge</td>\n",
              "      <td>661.0</td>\n",
              "      <td>9.1</td>\n",
              "      <td>8.421453</td>\n",
              "    </tr>\n",
              "    <tr>\n",
              "      <th>12481</th>\n",
              "      <td>The Dark Knight</td>\n",
              "      <td>12269.0</td>\n",
              "      <td>8.3</td>\n",
              "      <td>8.265477</td>\n",
              "    </tr>\n",
              "    <tr>\n",
              "      <th>2843</th>\n",
              "      <td>Fight Club</td>\n",
              "      <td>9678.0</td>\n",
              "      <td>8.3</td>\n",
              "      <td>8.256385</td>\n",
              "    </tr>\n",
              "    <tr>\n",
              "      <th>292</th>\n",
              "      <td>Pulp Fiction</td>\n",
              "      <td>8670.0</td>\n",
              "      <td>8.3</td>\n",
              "      <td>8.251406</td>\n",
              "    </tr>\n",
              "    <tr>\n",
              "      <th>522</th>\n",
              "      <td>Schindler's List</td>\n",
              "      <td>4436.0</td>\n",
              "      <td>8.3</td>\n",
              "      <td>8.206639</td>\n",
              "    </tr>\n",
              "    <tr>\n",
              "      <th>23673</th>\n",
              "      <td>Whiplash</td>\n",
              "      <td>4376.0</td>\n",
              "      <td>8.3</td>\n",
              "      <td>8.205404</td>\n",
              "    </tr>\n",
              "    <tr>\n",
              "      <th>5481</th>\n",
              "      <td>Spirited Away</td>\n",
              "      <td>3968.0</td>\n",
              "      <td>8.3</td>\n",
              "      <td>8.196055</td>\n",
              "    </tr>\n",
              "    <tr>\n",
              "      <th>2211</th>\n",
              "      <td>Life Is Beautiful</td>\n",
              "      <td>3643.0</td>\n",
              "      <td>8.3</td>\n",
              "      <td>8.187171</td>\n",
              "    </tr>\n",
              "    <tr>\n",
              "      <th>1178</th>\n",
              "      <td>The Godfather: Part II</td>\n",
              "      <td>3418.0</td>\n",
              "      <td>8.3</td>\n",
              "      <td>8.180076</td>\n",
              "    </tr>\n",
              "    <tr>\n",
              "      <th>1152</th>\n",
              "      <td>One Flew Over the Cuckoo's Nest</td>\n",
              "      <td>3001.0</td>\n",
              "      <td>8.3</td>\n",
              "      <td>8.164256</td>\n",
              "    </tr>\n",
              "    <tr>\n",
              "      <th>351</th>\n",
              "      <td>Forrest Gump</td>\n",
              "      <td>8147.0</td>\n",
              "      <td>8.2</td>\n",
              "      <td>8.150272</td>\n",
              "    </tr>\n",
              "    <tr>\n",
              "      <th>1154</th>\n",
              "      <td>The Empire Strikes Back</td>\n",
              "      <td>5998.0</td>\n",
              "      <td>8.2</td>\n",
              "      <td>8.132919</td>\n",
              "    </tr>\n",
              "    <tr>\n",
              "      <th>1176</th>\n",
              "      <td>Psycho</td>\n",
              "      <td>2405.0</td>\n",
              "      <td>8.3</td>\n",
              "      <td>8.132715</td>\n",
              "    </tr>\n",
              "    <tr>\n",
              "      <th>18465</th>\n",
              "      <td>The Intouchables</td>\n",
              "      <td>5410.0</td>\n",
              "      <td>8.2</td>\n",
              "      <td>8.125837</td>\n",
              "    </tr>\n",
              "    <tr>\n",
              "      <th>40251</th>\n",
              "      <td>Your Name.</td>\n",
              "      <td>1030.0</td>\n",
              "      <td>8.5</td>\n",
              "      <td>8.112532</td>\n",
              "    </tr>\n",
              "    <tr>\n",
              "      <th>289</th>\n",
              "      <td>Leon: The Professional</td>\n",
              "      <td>4293.0</td>\n",
              "      <td>8.2</td>\n",
              "      <td>8.107234</td>\n",
              "    </tr>\n",
              "    <tr>\n",
              "      <th>3030</th>\n",
              "      <td>The Green Mile</td>\n",
              "      <td>4166.0</td>\n",
              "      <td>8.2</td>\n",
              "      <td>8.104511</td>\n",
              "    </tr>\n",
              "    <tr>\n",
              "      <th>1170</th>\n",
              "      <td>GoodFellas</td>\n",
              "      <td>3211.0</td>\n",
              "      <td>8.2</td>\n",
              "      <td>8.077459</td>\n",
              "    </tr>\n",
              "  </tbody>\n",
              "</table>\n",
              "</div>"
            ]
          },
          "metadata": {
            "tags": []
          },
          "execution_count": 12
        }
      ]
    },
    {
      "cell_type": "markdown",
      "metadata": {
        "id": "dDExMrnWYeia"
      },
      "source": [
        "you can see that the simple recommender did a great job!"
      ]
    },
    {
      "cell_type": "markdown",
      "metadata": {
        "id": "UlbbR7VPYeia"
      },
      "source": [
        "**Now its time to build \"Content Based Recommendation system\"**\n",
        "\n",
        "In this we will build a system , which will compute the cosine similarity scores for all movies based on the overview feature in our metadata dataset."
      ]
    },
    {
      "cell_type": "code",
      "metadata": {
        "execution": {
          "iopub.status.busy": "2021-06-21T06:54:24.269186Z",
          "iopub.execute_input": "2021-06-21T06:54:24.269563Z",
          "iopub.status.idle": "2021-06-21T06:54:24.279367Z",
          "shell.execute_reply.started": "2021-06-21T06:54:24.269532Z",
          "shell.execute_reply": "2021-06-21T06:54:24.277959Z"
        },
        "trusted": true,
        "id": "bRyDn9laYeib",
        "outputId": "d9a83c14-4227-4678-9a67-f410179a7385"
      },
      "source": [
        "#Print plot overviews of the first 5 movies.\n",
        "df['overview'].head()"
      ],
      "execution_count": null,
      "outputs": [
        {
          "output_type": "execute_result",
          "data": {
            "text/plain": [
              "0    Led by Woody, Andy's toys live happily in his ...\n",
              "1    When siblings Judy and Peter discover an encha...\n",
              "2    A family wedding reignites the ancient feud be...\n",
              "3    Cheated on, mistreated and stepped on, the wom...\n",
              "4    Just when George Banks has recovered from his ...\n",
              "Name: overview, dtype: object"
            ]
          },
          "metadata": {
            "tags": []
          },
          "execution_count": 13
        }
      ]
    },
    {
      "cell_type": "markdown",
      "metadata": {
        "id": "a0TtgGbsYeib"
      },
      "source": [
        "Overview feature to measure the level of similarity between every two movies."
      ]
    },
    {
      "cell_type": "markdown",
      "metadata": {
        "id": "e0uejvEaYeib"
      },
      "source": [
        "We will compute Term Frequency-Inverse Document Frequency (TF-IDF) vectors for each document(overview rows). This will give us a matrix where each column represents a word in the overview vocabulary (all the words that appear in at least one document), and each row represents a movie."
      ]
    },
    {
      "cell_type": "code",
      "metadata": {
        "execution": {
          "iopub.status.busy": "2021-06-21T06:55:49.705807Z",
          "iopub.execute_input": "2021-06-21T06:55:49.706193Z",
          "iopub.status.idle": "2021-06-21T06:55:52.983498Z",
          "shell.execute_reply.started": "2021-06-21T06:55:49.706162Z",
          "shell.execute_reply": "2021-06-21T06:55:52.982346Z"
        },
        "trusted": true,
        "id": "yq_uKkc4Yeib",
        "outputId": "ae58180b-11c9-4b9f-bb51-b5211008b202"
      },
      "source": [
        "#Import TfIdfVectorizer from scikit-learn\n",
        "from sklearn.feature_extraction.text import TfidfVectorizer\n",
        "\n",
        "#Define a TF-IDF Vectorizer Object. Remove all english stop words such as 'the', 'a'\n",
        "tfidf = TfidfVectorizer(stop_words='english')\n",
        "\n",
        "#Replace NaN with an empty string\n",
        "df['overview'] = df['overview'].fillna('')\n",
        "\n",
        "#Construct the required TF-IDF matrix by fitting and transforming the data\n",
        "tfidf_matrix = tfidf.fit_transform(df['overview'])\n",
        "\n",
        "#Output the shape of tfidf_matrix\n",
        "tfidf_matrix.shape"
      ],
      "execution_count": null,
      "outputs": [
        {
          "output_type": "execute_result",
          "data": {
            "text/plain": [
              "(45466, 75827)"
            ]
          },
          "metadata": {
            "tags": []
          },
          "execution_count": 14
        }
      ]
    },
    {
      "cell_type": "markdown",
      "metadata": {
        "id": "VnodzEoWYeic"
      },
      "source": [
        "we have 75,827 different words and 45,466 movies.\n",
        "\n",
        "Now, We will use the cosine similarity to calculate the similarity between each two movies"
      ]
    },
    {
      "cell_type": "code",
      "metadata": {
        "execution": {
          "iopub.status.busy": "2021-06-21T06:56:15.634143Z",
          "iopub.execute_input": "2021-06-21T06:56:15.634510Z",
          "iopub.status.idle": "2021-06-21T06:56:39.242112Z",
          "shell.execute_reply.started": "2021-06-21T06:56:15.634481Z",
          "shell.execute_reply": "2021-06-21T06:56:39.241075Z"
        },
        "trusted": true,
        "id": "OMxt3pUJYeic"
      },
      "source": [
        "from sklearn.metrics.pairwise import cosine_similarity\n",
        "\n",
        "# Compute the cosine similarity matrix\n",
        "cosine_sim = cosine_similarity(tfidf_matrix.astype(np.float32))"
      ],
      "execution_count": null,
      "outputs": []
    },
    {
      "cell_type": "code",
      "metadata": {
        "execution": {
          "iopub.status.busy": "2021-06-21T06:56:45.864255Z",
          "iopub.execute_input": "2021-06-21T06:56:45.864644Z",
          "iopub.status.idle": "2021-06-21T06:56:45.870968Z",
          "shell.execute_reply.started": "2021-06-21T06:56:45.864611Z",
          "shell.execute_reply": "2021-06-21T06:56:45.869851Z"
        },
        "trusted": true,
        "id": "NsEcjN3NYeid",
        "outputId": "bce22600-f84a-45b0-f1b0-c0590f3e582a"
      },
      "source": [
        "cosine_sim.shape"
      ],
      "execution_count": null,
      "outputs": [
        {
          "output_type": "execute_result",
          "data": {
            "text/plain": [
              "(45466, 45466)"
            ]
          },
          "metadata": {
            "tags": []
          },
          "execution_count": 16
        }
      ]
    },
    {
      "cell_type": "code",
      "metadata": {
        "execution": {
          "iopub.status.busy": "2021-06-21T06:56:59.307994Z",
          "iopub.execute_input": "2021-06-21T06:56:59.308369Z",
          "iopub.status.idle": "2021-06-21T06:56:59.317555Z",
          "shell.execute_reply.started": "2021-06-21T06:56:59.308331Z",
          "shell.execute_reply": "2021-06-21T06:56:59.316682Z"
        },
        "trusted": true,
        "id": "P7eTIHJOYeid"
      },
      "source": [
        "#Construct a reverse map of indices and movie titles\n",
        "indices = pd.Series(df.index, index=df['title']).drop_duplicates()"
      ],
      "execution_count": null,
      "outputs": []
    },
    {
      "cell_type": "code",
      "metadata": {
        "execution": {
          "iopub.status.busy": "2021-06-21T06:57:15.851479Z",
          "iopub.execute_input": "2021-06-21T06:57:15.851844Z",
          "iopub.status.idle": "2021-06-21T06:57:15.860521Z",
          "shell.execute_reply.started": "2021-06-21T06:57:15.851806Z",
          "shell.execute_reply": "2021-06-21T06:57:15.859705Z"
        },
        "trusted": true,
        "id": "J5mEUheWYeid",
        "outputId": "434802b4-de73-40d6-fb25-1d5fb3b3e420"
      },
      "source": [
        "indices[:10]"
      ],
      "execution_count": null,
      "outputs": [
        {
          "output_type": "execute_result",
          "data": {
            "text/plain": [
              "title\n",
              "Toy Story                      0\n",
              "Jumanji                        1\n",
              "Grumpier Old Men               2\n",
              "Waiting to Exhale              3\n",
              "Father of the Bride Part II    4\n",
              "Heat                           5\n",
              "Sabrina                        6\n",
              "Tom and Huck                   7\n",
              "Sudden Death                   8\n",
              "GoldenEye                      9\n",
              "dtype: int64"
            ]
          },
          "metadata": {
            "tags": []
          },
          "execution_count": 18
        }
      ]
    },
    {
      "cell_type": "code",
      "metadata": {
        "execution": {
          "iopub.status.busy": "2021-06-21T06:57:45.897675Z",
          "iopub.execute_input": "2021-06-21T06:57:45.898071Z",
          "iopub.status.idle": "2021-06-21T06:57:45.904809Z",
          "shell.execute_reply.started": "2021-06-21T06:57:45.898039Z",
          "shell.execute_reply": "2021-06-21T06:57:45.903860Z"
        },
        "trusted": true,
        "id": "OqvXVdVbYeid"
      },
      "source": [
        "# Function that takes in movie title as input and outputs most similar movies\n",
        "def get_recommendations(title, cosine_sim=cosine_sim):\n",
        "    # Get the index of the movie that matches the title\n",
        "    idx = indices[title]\n",
        "\n",
        "    # Get the pairwsie similarity scores of all movies with that movie\n",
        "    sim_scores = list(enumerate(cosine_sim[idx]))\n",
        "\n",
        "    # Sort the movies based on the similarity scores\n",
        "    sim_scores = sorted(sim_scores, key=lambda x: x[1], reverse=True)\n",
        "\n",
        "    # Get the scores of the 10 most similar movies\n",
        "    sim_scores = sim_scores[1:11]\n",
        "\n",
        "    # Get the movie indices\n",
        "    movie_indices = [i[0] for i in sim_scores]\n",
        "\n",
        "    # Return the top 10 most similar movies\n",
        "    return df['title'].iloc[movie_indices]"
      ],
      "execution_count": null,
      "outputs": []
    },
    {
      "cell_type": "code",
      "metadata": {
        "execution": {
          "iopub.status.busy": "2021-06-21T06:58:31.365151Z",
          "iopub.execute_input": "2021-06-21T06:58:31.365552Z",
          "iopub.status.idle": "2021-06-21T06:58:31.429769Z",
          "shell.execute_reply.started": "2021-06-21T06:58:31.365518Z",
          "shell.execute_reply": "2021-06-21T06:58:31.428525Z"
        },
        "trusted": true,
        "id": "3n3zSsV5Yeid",
        "outputId": "0f0c2172-c236-45e3-eb83-717688cbc3c5"
      },
      "source": [
        "get_recommendations('The Dark Knight Rises')"
      ],
      "execution_count": null,
      "outputs": [
        {
          "output_type": "execute_result",
          "data": {
            "text/plain": [
              "12481                                      The Dark Knight\n",
              "150                                         Batman Forever\n",
              "1328                                        Batman Returns\n",
              "15511                           Batman: Under the Red Hood\n",
              "585                                                 Batman\n",
              "21194    Batman Unmasked: The Psychology of the Dark Kn...\n",
              "9230                    Batman Beyond: Return of the Joker\n",
              "18035                                     Batman: Year One\n",
              "19792              Batman: The Dark Knight Returns, Part 1\n",
              "3095                          Batman: Mask of the Phantasm\n",
              "Name: title, dtype: object"
            ]
          },
          "metadata": {
            "tags": []
          },
          "execution_count": 20
        }
      ]
    },
    {
      "cell_type": "code",
      "metadata": {
        "execution": {
          "iopub.status.busy": "2021-06-21T06:59:42.812453Z",
          "iopub.execute_input": "2021-06-21T06:59:42.812992Z",
          "iopub.status.idle": "2021-06-21T06:59:42.866559Z",
          "shell.execute_reply.started": "2021-06-21T06:59:42.812959Z",
          "shell.execute_reply": "2021-06-21T06:59:42.865668Z"
        },
        "trusted": true,
        "id": "wOiyM_irYeie",
        "outputId": "020fd3e4-dc3e-4024-d58f-4f29a9faa3a4"
      },
      "source": [
        "get_recommendations('Batman: Mask of the Phantasm')"
      ],
      "execution_count": null,
      "outputs": [
        {
          "output_type": "execute_result",
          "data": {
            "text/plain": [
              "21194    Batman Unmasked: The Psychology of the Dark Kn...\n",
              "1328                                        Batman Returns\n",
              "19792              Batman: The Dark Knight Returns, Part 1\n",
              "15511                           Batman: Under the Red Hood\n",
              "43779                                        Batman & Bill\n",
              "44980                             Batman Beyond: The Movie\n",
              "35983                                    Batman: Bad Blood\n",
              "150                                         Batman Forever\n",
              "40974    LEGO DC Comics Super Heroes: Batman: Be-Leaguered\n",
              "41982    Batman Beyond Darwyn Cooke's Batman 75th Anniv...\n",
              "Name: title, dtype: object"
            ]
          },
          "metadata": {
            "tags": []
          },
          "execution_count": 22
        }
      ]
    }
  ]
}
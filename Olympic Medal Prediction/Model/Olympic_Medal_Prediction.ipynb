{
  "nbformat": 4,
  "nbformat_minor": 0,
  "metadata": {
    "colab": {
      "name": "Olympic_Medal_Prediction.ipynb",
      "provenance": []
    },
    "kernelspec": {
      "name": "python3",
      "display_name": "Python 3"
    },
    "language_info": {
      "name": "python"
    }
  },
  "cells": [
    {
      "cell_type": "markdown",
      "metadata": {
        "id": "fnxKXlVHJ3IV"
      },
      "source": [
        "# **Olympic Medal Prediction**"
      ]
    },
    {
      "cell_type": "markdown",
      "metadata": {
        "id": "XGl2KTJdKBru"
      },
      "source": [
        "## Importing Libraries\n"
      ]
    },
    {
      "cell_type": "code",
      "metadata": {
        "id": "xLT3C2gbV8SQ"
      },
      "source": [
        "import numpy as np\n",
        "import pandas as pd\n",
        "\n",
        "import matplotlib.pyplot as plt\n",
        "import seaborn as sns\n",
        "\n",
        "from sklearn.preprocessing import MinMaxScaler\n",
        "from sklearn.model_selection import train_test_split\n",
        "from sklearn.metrics import classification_report, confusion_matrix,accuracy_score\n",
        "\n",
        "from sklearn.feature_selection import SelectKBest\n",
        "from sklearn.feature_selection import chi2\n",
        "\n",
        "import tensorflow as tf\n",
        "from sklearn.naive_bayes import MultinomialNB\n",
        "from sklearn.linear_model import LogisticRegression\n",
        "from sklearn.ensemble import RandomForestClassifier\n",
        "from sklearn.ensemble import GradientBoostingClassifier\n",
        "from sklearn.tree import DecisionTreeClassifier\n",
        "from sklearn.naive_bayes import GaussianNB"
      ],
      "execution_count": 1,
      "outputs": []
    },
    {
      "cell_type": "markdown",
      "metadata": {
        "id": "V1z2DGzcKU-A"
      },
      "source": [
        "## Reading Dataset"
      ]
    },
    {
      "cell_type": "code",
      "metadata": {
        "id": "EPaE2xmLZlDQ"
      },
      "source": [
        "data = pd.read_csv('/content/athlete_events.csv')"
      ],
      "execution_count": 2,
      "outputs": []
    },
    {
      "cell_type": "code",
      "metadata": {
        "colab": {
          "base_uri": "https://localhost:8080/",
          "height": 635
        },
        "id": "2lXaRKQaZrXq",
        "outputId": "f9a9bdcb-33f1-47dc-fd45-2660a1e0f7c6"
      },
      "source": [
        "data"
      ],
      "execution_count": 3,
      "outputs": [
        {
          "output_type": "execute_result",
          "data": {
            "text/html": [
              "<div>\n",
              "<style scoped>\n",
              "    .dataframe tbody tr th:only-of-type {\n",
              "        vertical-align: middle;\n",
              "    }\n",
              "\n",
              "    .dataframe tbody tr th {\n",
              "        vertical-align: top;\n",
              "    }\n",
              "\n",
              "    .dataframe thead th {\n",
              "        text-align: right;\n",
              "    }\n",
              "</style>\n",
              "<table border=\"1\" class=\"dataframe\">\n",
              "  <thead>\n",
              "    <tr style=\"text-align: right;\">\n",
              "      <th></th>\n",
              "      <th>ID</th>\n",
              "      <th>Name</th>\n",
              "      <th>Sex</th>\n",
              "      <th>Age</th>\n",
              "      <th>Height</th>\n",
              "      <th>Weight</th>\n",
              "      <th>Team</th>\n",
              "      <th>NOC</th>\n",
              "      <th>Games</th>\n",
              "      <th>Year</th>\n",
              "      <th>Season</th>\n",
              "      <th>City</th>\n",
              "      <th>Sport</th>\n",
              "      <th>Event</th>\n",
              "      <th>Medal</th>\n",
              "    </tr>\n",
              "  </thead>\n",
              "  <tbody>\n",
              "    <tr>\n",
              "      <th>0</th>\n",
              "      <td>1</td>\n",
              "      <td>A Dijiang</td>\n",
              "      <td>M</td>\n",
              "      <td>24.0</td>\n",
              "      <td>180.0</td>\n",
              "      <td>80.0</td>\n",
              "      <td>China</td>\n",
              "      <td>CHN</td>\n",
              "      <td>1992 Summer</td>\n",
              "      <td>1992</td>\n",
              "      <td>Summer</td>\n",
              "      <td>Barcelona</td>\n",
              "      <td>Basketball</td>\n",
              "      <td>Basketball Men's Basketball</td>\n",
              "      <td>NaN</td>\n",
              "    </tr>\n",
              "    <tr>\n",
              "      <th>1</th>\n",
              "      <td>2</td>\n",
              "      <td>A Lamusi</td>\n",
              "      <td>M</td>\n",
              "      <td>23.0</td>\n",
              "      <td>170.0</td>\n",
              "      <td>60.0</td>\n",
              "      <td>China</td>\n",
              "      <td>CHN</td>\n",
              "      <td>2012 Summer</td>\n",
              "      <td>2012</td>\n",
              "      <td>Summer</td>\n",
              "      <td>London</td>\n",
              "      <td>Judo</td>\n",
              "      <td>Judo Men's Extra-Lightweight</td>\n",
              "      <td>NaN</td>\n",
              "    </tr>\n",
              "    <tr>\n",
              "      <th>2</th>\n",
              "      <td>3</td>\n",
              "      <td>Gunnar Nielsen Aaby</td>\n",
              "      <td>M</td>\n",
              "      <td>24.0</td>\n",
              "      <td>NaN</td>\n",
              "      <td>NaN</td>\n",
              "      <td>Denmark</td>\n",
              "      <td>DEN</td>\n",
              "      <td>1920 Summer</td>\n",
              "      <td>1920</td>\n",
              "      <td>Summer</td>\n",
              "      <td>Antwerpen</td>\n",
              "      <td>Football</td>\n",
              "      <td>Football Men's Football</td>\n",
              "      <td>NaN</td>\n",
              "    </tr>\n",
              "    <tr>\n",
              "      <th>3</th>\n",
              "      <td>4</td>\n",
              "      <td>Edgar Lindenau Aabye</td>\n",
              "      <td>M</td>\n",
              "      <td>34.0</td>\n",
              "      <td>NaN</td>\n",
              "      <td>NaN</td>\n",
              "      <td>Denmark/Sweden</td>\n",
              "      <td>DEN</td>\n",
              "      <td>1900 Summer</td>\n",
              "      <td>1900</td>\n",
              "      <td>Summer</td>\n",
              "      <td>Paris</td>\n",
              "      <td>Tug-Of-War</td>\n",
              "      <td>Tug-Of-War Men's Tug-Of-War</td>\n",
              "      <td>Gold</td>\n",
              "    </tr>\n",
              "    <tr>\n",
              "      <th>4</th>\n",
              "      <td>5</td>\n",
              "      <td>Christine Jacoba Aaftink</td>\n",
              "      <td>F</td>\n",
              "      <td>21.0</td>\n",
              "      <td>185.0</td>\n",
              "      <td>82.0</td>\n",
              "      <td>Netherlands</td>\n",
              "      <td>NED</td>\n",
              "      <td>1988 Winter</td>\n",
              "      <td>1988</td>\n",
              "      <td>Winter</td>\n",
              "      <td>Calgary</td>\n",
              "      <td>Speed Skating</td>\n",
              "      <td>Speed Skating Women's 500 metres</td>\n",
              "      <td>NaN</td>\n",
              "    </tr>\n",
              "    <tr>\n",
              "      <th>...</th>\n",
              "      <td>...</td>\n",
              "      <td>...</td>\n",
              "      <td>...</td>\n",
              "      <td>...</td>\n",
              "      <td>...</td>\n",
              "      <td>...</td>\n",
              "      <td>...</td>\n",
              "      <td>...</td>\n",
              "      <td>...</td>\n",
              "      <td>...</td>\n",
              "      <td>...</td>\n",
              "      <td>...</td>\n",
              "      <td>...</td>\n",
              "      <td>...</td>\n",
              "      <td>...</td>\n",
              "    </tr>\n",
              "    <tr>\n",
              "      <th>1018</th>\n",
              "      <td>570</td>\n",
              "      <td>Pedro Abreu Pascal</td>\n",
              "      <td>M</td>\n",
              "      <td>23.0</td>\n",
              "      <td>200.0</td>\n",
              "      <td>88.0</td>\n",
              "      <td>Cuba</td>\n",
              "      <td>CUB</td>\n",
              "      <td>1980 Summer</td>\n",
              "      <td>1980</td>\n",
              "      <td>Summer</td>\n",
              "      <td>Moskva</td>\n",
              "      <td>Basketball</td>\n",
              "      <td>Basketball Men's Basketball</td>\n",
              "      <td>NaN</td>\n",
              "    </tr>\n",
              "    <tr>\n",
              "      <th>1019</th>\n",
              "      <td>571</td>\n",
              "      <td>Rubn Abreu Rivero</td>\n",
              "      <td>M</td>\n",
              "      <td>24.0</td>\n",
              "      <td>177.0</td>\n",
              "      <td>71.0</td>\n",
              "      <td>Venezuela</td>\n",
              "      <td>VEN</td>\n",
              "      <td>1996 Summer</td>\n",
              "      <td>1996</td>\n",
              "      <td>Summer</td>\n",
              "      <td>Atlanta</td>\n",
              "      <td>Cycling</td>\n",
              "      <td>Cycling Men's Road Race, Individual</td>\n",
              "      <td>NaN</td>\n",
              "    </tr>\n",
              "    <tr>\n",
              "      <th>1020</th>\n",
              "      <td>572</td>\n",
              "      <td>Rui Pinto de Abreu</td>\n",
              "      <td>M</td>\n",
              "      <td>15.0</td>\n",
              "      <td>177.0</td>\n",
              "      <td>64.0</td>\n",
              "      <td>Portugal</td>\n",
              "      <td>POR</td>\n",
              "      <td>1976 Summer</td>\n",
              "      <td>1976</td>\n",
              "      <td>Summer</td>\n",
              "      <td>Montreal</td>\n",
              "      <td>Swimming</td>\n",
              "      <td>Swimming Men's 400 metres Freestyle</td>\n",
              "      <td>NaN</td>\n",
              "    </tr>\n",
              "    <tr>\n",
              "      <th>1021</th>\n",
              "      <td>572</td>\n",
              "      <td>Rui Pinto de Abreu</td>\n",
              "      <td>M</td>\n",
              "      <td>15.0</td>\n",
              "      <td>177.0</td>\n",
              "      <td>64.0</td>\n",
              "      <td>Portugal</td>\n",
              "      <td>POR</td>\n",
              "      <td>1976 Summer</td>\n",
              "      <td>1976</td>\n",
              "      <td>Summer</td>\n",
              "      <td>Montreal</td>\n",
              "      <td>Swimming</td>\n",
              "      <td>Swimming Men's 4 x 200 metres Freestyle Relay</td>\n",
              "      <td>NaN</td>\n",
              "    </tr>\n",
              "    <tr>\n",
              "      <th>1022</th>\n",
              "      <td>572</td>\n",
              "      <td>Rui Pinto de Abreu</td>\n",
              "      <td>M</td>\n",
              "      <td>19.0</td>\n",
              "      <td>177.0</td>\n",
              "      <td>64.0</td>\n",
              "      <td>Portugal</td>\n",
              "      <td>POR</td>\n",
              "      <td>1980 Summer</td>\n",
              "      <td>1980</td>\n",
              "      <td>Summer</td>\n",
              "      <td>Moskva</td>\n",
              "      <td>Swimming</td>\n",
              "      <td>Swimming Men's 100 metres Freestyle</td>\n",
              "      <td>NaN</td>\n",
              "    </tr>\n",
              "  </tbody>\n",
              "</table>\n",
              "<p>1023 rows × 15 columns</p>\n",
              "</div>"
            ],
            "text/plain": [
              "       ID  ... Medal\n",
              "0       1  ...   NaN\n",
              "1       2  ...   NaN\n",
              "2       3  ...   NaN\n",
              "3       4  ...  Gold\n",
              "4       5  ...   NaN\n",
              "...   ...  ...   ...\n",
              "1018  570  ...   NaN\n",
              "1019  571  ...   NaN\n",
              "1020  572  ...   NaN\n",
              "1021  572  ...   NaN\n",
              "1022  572  ...   NaN\n",
              "\n",
              "[1023 rows x 15 columns]"
            ]
          },
          "metadata": {
            "tags": []
          },
          "execution_count": 3
        }
      ]
    },
    {
      "cell_type": "code",
      "metadata": {
        "colab": {
          "base_uri": "https://localhost:8080/"
        },
        "id": "Uwo9YYzoa7fM",
        "outputId": "5a7db09c-601c-47c6-d891-d04eae55e88c"
      },
      "source": [
        "data.info()\n"
      ],
      "execution_count": 4,
      "outputs": [
        {
          "output_type": "stream",
          "text": [
            "<class 'pandas.core.frame.DataFrame'>\n",
            "RangeIndex: 1023 entries, 0 to 1022\n",
            "Data columns (total 15 columns):\n",
            " #   Column  Non-Null Count  Dtype  \n",
            "---  ------  --------------  -----  \n",
            " 0   ID      1023 non-null   int64  \n",
            " 1   Name    1023 non-null   object \n",
            " 2   Sex     1023 non-null   object \n",
            " 3   Age     959 non-null    float64\n",
            " 4   Height  773 non-null    float64\n",
            " 5   Weight  776 non-null    float64\n",
            " 6   Team    1023 non-null   object \n",
            " 7   NOC     1023 non-null   object \n",
            " 8   Games   1023 non-null   object \n",
            " 9   Year    1023 non-null   int64  \n",
            " 10  Season  1023 non-null   object \n",
            " 11  City    1023 non-null   object \n",
            " 12  Sport   1023 non-null   object \n",
            " 13  Event   1023 non-null   object \n",
            " 14  Medal   112 non-null    object \n",
            "dtypes: float64(3), int64(2), object(10)\n",
            "memory usage: 120.0+ KB\n"
          ],
          "name": "stdout"
        }
      ]
    },
    {
      "cell_type": "code",
      "metadata": {
        "colab": {
          "base_uri": "https://localhost:8080/"
        },
        "id": "0CwtauhnbB33",
        "outputId": "d0efa2df-30fe-44bc-c066-3466b4edd8b1"
      },
      "source": [
        "data.shape"
      ],
      "execution_count": 5,
      "outputs": [
        {
          "output_type": "execute_result",
          "data": {
            "text/plain": [
              "(1023, 15)"
            ]
          },
          "metadata": {
            "tags": []
          },
          "execution_count": 5
        }
      ]
    },
    {
      "cell_type": "code",
      "metadata": {
        "colab": {
          "base_uri": "https://localhost:8080/"
        },
        "id": "qvapjH0BbdsS",
        "outputId": "73629ac7-f27f-4d88-9424-b8824a977785"
      },
      "source": [
        "data['Medal'].value_counts()"
      ],
      "execution_count": 6,
      "outputs": [
        {
          "output_type": "execute_result",
          "data": {
            "text/plain": [
              "Gold      45\n",
              "Bronze    34\n",
              "Silver    33\n",
              "Name: Medal, dtype: int64"
            ]
          },
          "metadata": {
            "tags": []
          },
          "execution_count": 6
        }
      ]
    },
    {
      "cell_type": "code",
      "metadata": {
        "colab": {
          "base_uri": "https://localhost:8080/"
        },
        "id": "OJQ1pEPPlTPm",
        "outputId": "967caa76-9d20-48dc-e20b-6373950e95b0"
      },
      "source": [
        "data['Team'].value_counts()"
      ],
      "execution_count": 7,
      "outputs": [
        {
          "output_type": "execute_result",
          "data": {
            "text/plain": [
              "Egypt            189\n",
              "Norway            59\n",
              "United States     41\n",
              "Finland           34\n",
              "Spain             27\n",
              "                ... \n",
              "Mali               1\n",
              "Slovenia           1\n",
              "Venezuela          1\n",
              "Niger              1\n",
              "Comoros            1\n",
              "Name: Team, Length: 115, dtype: int64"
            ]
          },
          "metadata": {
            "tags": []
          },
          "execution_count": 7
        }
      ]
    },
    {
      "cell_type": "markdown",
      "metadata": {
        "id": "9hpezT7CypQM"
      },
      "source": [
        "## Exploratory Data Analysis"
      ]
    },
    {
      "cell_type": "code",
      "metadata": {
        "colab": {
          "base_uri": "https://localhost:8080/",
          "height": 390
        },
        "id": "ZT65ZfSTyyJz",
        "outputId": "be285638-9da5-4aa7-8f78-d9731d23df18"
      },
      "source": [
        "# Age Distribution\n",
        "\n",
        "plt.figure(figsize=(12,6))\n",
        "plt.title(\"Age Distribution with Participant and No Counts\")\n",
        "plt.hist(data.Age,color='orange')\n",
        "plt.show()"
      ],
      "execution_count": 8,
      "outputs": [
        {
          "output_type": "display_data",
          "data": {
            "image/png": "[encoded data removed]",
            "text/plain": [
              "<Figure size 864x432 with 1 Axes>"
            ]
          },
          "metadata": {
            "tags": [],
            "needs_background": "light"
          }
        }
      ]
    },
    {
      "cell_type": "markdown",
      "metadata": {
        "id": "WQM036B-0R3-"
      },
      "source": [
        "Athletes over the age of 20 to 30 is majority age group participant\n"
      ]
    },
    {
      "cell_type": "code",
      "metadata": {
        "colab": {
          "base_uri": "https://localhost:8080/"
        },
        "id": "64J0q2wi1QBW",
        "outputId": "8dcbd686-afb2-41f4-e302-4396f63ea16a"
      },
      "source": [
        "# Gender DIstribution\n",
        "gender_unique_values = data.Sex.value_counts()\n",
        "gender_unique_values"
      ],
      "execution_count": 9,
      "outputs": [
        {
          "output_type": "execute_result",
          "data": {
            "text/plain": [
              "M    857\n",
              "F    166\n",
              "Name: Sex, dtype: int64"
            ]
          },
          "metadata": {
            "tags": []
          },
          "execution_count": 9
        }
      ]
    },
    {
      "cell_type": "code",
      "metadata": {
        "colab": {
          "base_uri": "https://localhost:8080/",
          "height": 373
        },
        "id": "KbY58AwC0QAt",
        "outputId": "e79a0bd0-fcb4-4820-b185-60044a012b5d"
      },
      "source": [
        "plt.figure(figsize=(12,6))\n",
        "plt.title(\"Gender Distribution\")\n",
        "plt.pie(gender_unique_values, labels=gender_unique_values.index, autopct=\"%.2f%%\", startangle=90)\n",
        "plt.show()"
      ],
      "execution_count": 10,
      "outputs": [
        {
          "output_type": "display_data",
          "data": {
            "image/png": "[encoded data removed]",
            "text/plain": [
              "<Figure size 864x432 with 1 Axes>"
            ]
          },
          "metadata": {
            "tags": []
          }
        }
      ]
    },
    {
      "cell_type": "markdown",
      "metadata": {
        "id": "0rtTPPGZ1jO4"
      },
      "source": [
        "Male participants are more than female partocipants in the olympic"
      ]
    },
    {
      "cell_type": "code",
      "metadata": {
        "colab": {
          "base_uri": "https://localhost:8080/",
          "height": 603
        },
        "id": "BpKJyXu71Zl3",
        "outputId": "04a3b2e5-d2a4-4876-ad36-9a826276de89"
      },
      "source": [
        "# Check how many female participants in each year in summer season\n",
        "\n",
        "femal_partici_p = data[(data.Sex=='F') & (data.Season == 'Summer')][['Sex', 'Year']]\n",
        "femal_partici_p = femal_partici_p.groupby('Year').count().reset_index()\n",
        "femal_partici_p"
      ],
      "execution_count": 11,
      "outputs": [
        {
          "output_type": "execute_result",
          "data": {
            "text/html": [
              "<div>\n",
              "<style scoped>\n",
              "    .dataframe tbody tr th:only-of-type {\n",
              "        vertical-align: middle;\n",
              "    }\n",
              "\n",
              "    .dataframe tbody tr th {\n",
              "        vertical-align: top;\n",
              "    }\n",
              "\n",
              "    .dataframe thead th {\n",
              "        text-align: right;\n",
              "    }\n",
              "</style>\n",
              "<table border=\"1\" class=\"dataframe\">\n",
              "  <thead>\n",
              "    <tr style=\"text-align: right;\">\n",
              "      <th></th>\n",
              "      <th>Year</th>\n",
              "      <th>Sex</th>\n",
              "    </tr>\n",
              "  </thead>\n",
              "  <tbody>\n",
              "    <tr>\n",
              "      <th>0</th>\n",
              "      <td>1900</td>\n",
              "      <td>2</td>\n",
              "    </tr>\n",
              "    <tr>\n",
              "      <th>1</th>\n",
              "      <td>1932</td>\n",
              "      <td>2</td>\n",
              "    </tr>\n",
              "    <tr>\n",
              "      <th>2</th>\n",
              "      <td>1948</td>\n",
              "      <td>1</td>\n",
              "    </tr>\n",
              "    <tr>\n",
              "      <th>3</th>\n",
              "      <td>1956</td>\n",
              "      <td>2</td>\n",
              "    </tr>\n",
              "    <tr>\n",
              "      <th>4</th>\n",
              "      <td>1960</td>\n",
              "      <td>5</td>\n",
              "    </tr>\n",
              "    <tr>\n",
              "      <th>5</th>\n",
              "      <td>1964</td>\n",
              "      <td>1</td>\n",
              "    </tr>\n",
              "    <tr>\n",
              "      <th>6</th>\n",
              "      <td>1972</td>\n",
              "      <td>6</td>\n",
              "    </tr>\n",
              "    <tr>\n",
              "      <th>7</th>\n",
              "      <td>1976</td>\n",
              "      <td>1</td>\n",
              "    </tr>\n",
              "    <tr>\n",
              "      <th>8</th>\n",
              "      <td>1980</td>\n",
              "      <td>3</td>\n",
              "    </tr>\n",
              "    <tr>\n",
              "      <th>9</th>\n",
              "      <td>1984</td>\n",
              "      <td>7</td>\n",
              "    </tr>\n",
              "    <tr>\n",
              "      <th>10</th>\n",
              "      <td>1988</td>\n",
              "      <td>7</td>\n",
              "    </tr>\n",
              "    <tr>\n",
              "      <th>11</th>\n",
              "      <td>1992</td>\n",
              "      <td>2</td>\n",
              "    </tr>\n",
              "    <tr>\n",
              "      <th>12</th>\n",
              "      <td>1996</td>\n",
              "      <td>8</td>\n",
              "    </tr>\n",
              "    <tr>\n",
              "      <th>13</th>\n",
              "      <td>2000</td>\n",
              "      <td>10</td>\n",
              "    </tr>\n",
              "    <tr>\n",
              "      <th>14</th>\n",
              "      <td>2004</td>\n",
              "      <td>12</td>\n",
              "    </tr>\n",
              "    <tr>\n",
              "      <th>15</th>\n",
              "      <td>2008</td>\n",
              "      <td>30</td>\n",
              "    </tr>\n",
              "    <tr>\n",
              "      <th>16</th>\n",
              "      <td>2012</td>\n",
              "      <td>19</td>\n",
              "    </tr>\n",
              "    <tr>\n",
              "      <th>17</th>\n",
              "      <td>2016</td>\n",
              "      <td>20</td>\n",
              "    </tr>\n",
              "  </tbody>\n",
              "</table>\n",
              "</div>"
            ],
            "text/plain": [
              "    Year  Sex\n",
              "0   1900    2\n",
              "1   1932    2\n",
              "2   1948    1\n",
              "3   1956    2\n",
              "4   1960    5\n",
              "5   1964    1\n",
              "6   1972    6\n",
              "7   1976    1\n",
              "8   1980    3\n",
              "9   1984    7\n",
              "10  1988    7\n",
              "11  1992    2\n",
              "12  1996    8\n",
              "13  2000   10\n",
              "14  2004   12\n",
              "15  2008   30\n",
              "16  2012   19\n",
              "17  2016   20"
            ]
          },
          "metadata": {
            "tags": []
          },
          "execution_count": 11
        }
      ]
    },
    {
      "cell_type": "code",
      "metadata": {
        "colab": {
          "base_uri": "https://localhost:8080/",
          "height": 405
        },
        "id": "2im4aEH12W1h",
        "outputId": "bde0d807-984f-494f-b41b-b08516295a97"
      },
      "source": [
        "plt.figure(figsize=(12,6))\n",
        "sns.lineplot(data=femal_partici_p, x='Year', y='Sex')\n",
        "plt.xlabel('Year')\n",
        "plt.ylabel('Female Participants')"
      ],
      "execution_count": 12,
      "outputs": [
        {
          "output_type": "execute_result",
          "data": {
            "text/plain": [
              "Text(0, 0.5, 'Female Participants')"
            ]
          },
          "metadata": {
            "tags": []
          },
          "execution_count": 12
        },
        {
          "output_type": "display_data",
          "data": {
            "image/png": "[encoded data removed]",
            "text/plain": [
              "<Figure size 864x432 with 1 Axes>"
            ]
          },
          "metadata": {
            "tags": [],
            "needs_background": "light"
          }
        }
      ]
    },
    {
      "cell_type": "markdown",
      "metadata": {
        "id": "QCQvkng63Pw7"
      },
      "source": [
        "Female participant gradually increases at high level since year 2000"
      ]
    },
    {
      "cell_type": "code",
      "metadata": {
        "colab": {
          "base_uri": "https://localhost:8080/"
        },
        "id": "qADocgom2cJ9",
        "outputId": "ffb36566-dbfd-4bda-82e2-dda0824faa10"
      },
      "source": [
        "# Participants accros the season\n",
        "\n",
        "seasons = data.Season.value_counts()\n",
        "seasons"
      ],
      "execution_count": 13,
      "outputs": [
        {
          "output_type": "execute_result",
          "data": {
            "text/plain": [
              "Summer    874\n",
              "Winter    149\n",
              "Name: Season, dtype: int64"
            ]
          },
          "metadata": {
            "tags": []
          },
          "execution_count": 13
        }
      ]
    },
    {
      "cell_type": "code",
      "metadata": {
        "colab": {
          "base_uri": "https://localhost:8080/",
          "height": 297
        },
        "id": "WTHSWF3U3zVQ",
        "outputId": "d63d3515-143d-4ada-fc48-7365765590fa"
      },
      "source": [
        "fig1, ax1 = plt.subplots()\n",
        "\n",
        "colors = ['#99ff99','#66b3ff']\n",
        "\n",
        "ax1.pie(seasons, colors = colors, labels=seasons.index, autopct='%1.1f%%')\n",
        "\n",
        "centre_circle = plt.Circle((0,0),0.70,fc='white')\n",
        "fig = plt.gcf()\n",
        "fig.gca().add_artist(centre_circle)\n",
        "\n",
        "ax1.axis('equal')  \n",
        "plt.tight_layout()\n",
        "plt.show()"
      ],
      "execution_count": 14,
      "outputs": [
        {
          "output_type": "display_data",
          "data": {
            "image/png": "[encoded data removed]",
            "text/plain": [
              "<Figure size 432x288 with 1 Axes>"
            ]
          },
          "metadata": {
            "tags": []
          }
        }
      ]
    },
    {
      "cell_type": "markdown",
      "metadata": {
        "id": "fZNzzBAR4H87"
      },
      "source": [
        "Athletes among summer season are more than in winter season"
      ]
    },
    {
      "cell_type": "code",
      "metadata": {
        "colab": {
          "base_uri": "https://localhost:8080/"
        },
        "id": "xX_AKjhr39Vd",
        "outputId": "c46dbe00-a0ff-4b72-a564-8caafa6b0bbb"
      },
      "source": [
        "# Top Countries Participating in Olympics\n",
        "top_countries = data.Team.value_counts().sort_values(ascending=False).head(15)\n",
        "top_countries"
      ],
      "execution_count": 15,
      "outputs": [
        {
          "output_type": "execute_result",
          "data": {
            "text/plain": [
              "Egypt                   189\n",
              "Norway                   59\n",
              "United States            41\n",
              "Finland                  34\n",
              "Spain                    27\n",
              "Japan                    27\n",
              "Iraq                     25\n",
              "Russia                   24\n",
              "United Arab Republic     21\n",
              "Italy                    21\n",
              "Sweden                   19\n",
              "Netherlands              19\n",
              "Portugal                 18\n",
              "Canada                   17\n",
              "Great Britain            17\n",
              "Name: Team, dtype: int64"
            ]
          },
          "metadata": {
            "tags": []
          },
          "execution_count": 15
        }
      ]
    },
    {
      "cell_type": "code",
      "metadata": {
        "colab": {
          "base_uri": "https://localhost:8080/",
          "height": 501
        },
        "id": "rANXjiSx4Xu-",
        "outputId": "764e2787-2171-4a81-b823-5dd1b3cd6f37"
      },
      "source": [
        "# EDA with Data Visualization\n",
        "sns.set_style('darkgrid')\n",
        "plt.figure(figsize=(12, 6))\n",
        "plt.title('Top 15 Countries OverAll Participation')\n",
        "plt.xticks(rotation=75)\n",
        "sns.barplot(x=top_countries.index, y=top_countries)"
      ],
      "execution_count": 16,
      "outputs": [
        {
          "output_type": "execute_result",
          "data": {
            "text/plain": [
              "<matplotlib.axes._subplots.AxesSubplot at 0x7ff74495c4d0>"
            ]
          },
          "metadata": {
            "tags": []
          },
          "execution_count": 16
        },
        {
          "output_type": "display_data",
          "data": {
            "image/png": "[encoded data removed]",
            "text/plain": [
              "<Figure size 864x432 with 1 Axes>"
            ]
          },
          "metadata": {
            "tags": []
          }
        }
      ]
    },
    {
      "cell_type": "code",
      "metadata": {
        "colab": {
          "base_uri": "https://localhost:8080/"
        },
        "id": "XuqhQD604dZl",
        "outputId": "4e3440e6-d7ce-43a5-cb07-b5f5d1f2620f"
      },
      "source": [
        "# Countries which won the maximum Gold Medals in olympic\n",
        "\n",
        "max_year_country = data[(data.Medal == 'Gold')].Team\n",
        "max_year_country = max_year_country.value_counts().head(20)\n",
        "max_year_country\n"
      ],
      "execution_count": 17,
      "outputs": [
        {
          "output_type": "execute_result",
          "data": {
            "text/plain": [
              "Italy               7\n",
              "Norway              7\n",
              "United States       4\n",
              "France              4\n",
              "Finland             3\n",
              "Spain               3\n",
              "Vesper Boat Club    2\n",
              "Bulgaria            1\n",
              "Azerbaijan          1\n",
              "Belarus             1\n",
              "Cameroon            1\n",
              "Uzbekistan          1\n",
              "Unified Team        1\n",
              "Japan               1\n",
              "Pakistan            1\n",
              "Ethiopia            1\n",
              "Taifun              1\n",
              "Denmark/Sweden      1\n",
              "Great Britain       1\n",
              "Soviet Union        1\n",
              "Name: Team, dtype: int64"
            ]
          },
          "metadata": {
            "tags": []
          },
          "execution_count": 17
        }
      ]
    },
    {
      "cell_type": "code",
      "metadata": {
        "colab": {
          "base_uri": "https://localhost:8080/",
          "height": 405
        },
        "id": "VHO-cphz-pRy",
        "outputId": "7e61c729-d7d8-4f69-f27a-c66e647b260a"
      },
      "source": [
        "plt.figure(figsize=(12,6))\n",
        "sns.barplot(x=max_year_country, y=max_year_country.index)\n",
        "plt.xlabel(\"Top 20 Gold Medal Won Countrywise\")"
      ],
      "execution_count": 18,
      "outputs": [
        {
          "output_type": "execute_result",
          "data": {
            "text/plain": [
              "Text(0.5, 0, 'Top 20 Gold Medal Won Countrywise')"
            ]
          },
          "metadata": {
            "tags": []
          },
          "execution_count": 18
        },
        {
          "output_type": "display_data",
          "data": {
            "image/png": "[encoded data removed]",
            "text/plain": [
              "<Figure size 864x432 with 1 Axes>"
            ]
          },
          "metadata": {
            "tags": []
          }
        }
      ]
    },
    {
      "cell_type": "code",
      "metadata": {
        "colab": {
          "base_uri": "https://localhost:8080/",
          "height": 405
        },
        "id": "EyA3lbuO-28E",
        "outputId": "b44c100d-94d9-42a5-dbb9-cedcee47e214"
      },
      "source": [
        "# Age vs Height Spread\n",
        "\n",
        "age_heig = data[(data.Age != 0) & (data.Height != 0.0) & (data.Medal != 'None') & (data.Season == 'Summer')]\n",
        "plt.figure(figsize=(12,6))\n",
        "sns.scatterplot(x=age_heig.Age, y=age_heig.Height, data=age_heig, hue='Sex')\n",
        "plt.xlabel('Age')\n",
        "plt.ylabel('Height')"
      ],
      "execution_count": 19,
      "outputs": [
        {
          "output_type": "execute_result",
          "data": {
            "text/plain": [
              "Text(0, 0.5, 'Height')"
            ]
          },
          "metadata": {
            "tags": []
          },
          "execution_count": 19
        },
        {
          "output_type": "display_data",
          "data": {
            "image/png": "[encoded data removed]",
            "text/plain": [
              "<Figure size 864x432 with 1 Axes>"
            ]
          },
          "metadata": {
            "tags": []
          }
        }
      ]
    },
    {
      "cell_type": "code",
      "metadata": {
        "colab": {
          "base_uri": "https://localhost:8080/",
          "height": 405
        },
        "id": "ZdG-um9c_CUa",
        "outputId": "e8a19ee9-e045-44b4-b810-4faf7668c448"
      },
      "source": [
        "# Age vs Weight Spread\n",
        "\n",
        "age_weig = data[(data.Age != 0.0) & (data.Weight != 0.0) & (data.Medal != 'None') & (data.Season == 'Summer')]\n",
        "plt.figure(figsize=(12,6))\n",
        "sns.scatterplot(x=age_weig.Age, y=age_weig.Weight, data=age_weig, hue='Sex')\n",
        "plt.xlabel('Age')\n",
        "plt.ylabel('Weight')\n"
      ],
      "execution_count": 20,
      "outputs": [
        {
          "output_type": "execute_result",
          "data": {
            "text/plain": [
              "Text(0, 0.5, 'Weight')"
            ]
          },
          "metadata": {
            "tags": []
          },
          "execution_count": 20
        },
        {
          "output_type": "display_data",
          "data": {
            "image/png": "[encoded data removed]",
            "text/plain": [
              "<Figure size 864x432 with 1 Axes>"
            ]
          },
          "metadata": {
            "tags": []
          }
        }
      ]
    },
    {
      "cell_type": "code",
      "metadata": {
        "colab": {
          "base_uri": "https://localhost:8080/",
          "height": 405
        },
        "id": "An7SHqqu_mKi",
        "outputId": "aaa26e33-4d7c-4e93-cae6-960a694f6af3"
      },
      "source": [
        "# Weight & Height Spread\n",
        "\n",
        "heig_weight = data[(data.Height != 0.0) & (data.Age != 0) & (data.Weight != 0.0) & (data.Medal != 'None') & (data.Season == 'Summer')]\n",
        "plt.figure(figsize=(12,6))\n",
        "sns.scatterplot(x=heig_weight.Weight, y=heig_weight.Height, data=heig_weight, hue='Sex')\n",
        "plt.xlabel('Weight')\n",
        "plt.ylabel('Height')"
      ],
      "execution_count": 21,
      "outputs": [
        {
          "output_type": "execute_result",
          "data": {
            "text/plain": [
              "Text(0, 0.5, 'Height')"
            ]
          },
          "metadata": {
            "tags": []
          },
          "execution_count": 21
        },
        {
          "output_type": "display_data",
          "data": {
            "image/png": "[encoded data removed]",
            "text/plain": [
              "<Figure size 864x432 with 1 Axes>"
            ]
          },
          "metadata": {
            "tags": []
          }
        }
      ]
    },
    {
      "cell_type": "markdown",
      "metadata": {
        "id": "Y5JZWC-B8HsR"
      },
      "source": [
        "## Data Cleaning"
      ]
    },
    {
      "cell_type": "code",
      "metadata": {
        "id": "8sfUyL5Z7AC6"
      },
      "source": [
        "# To fill missing values in Medal column\n",
        "data['Medal'] = data['Medal'].apply(lambda x: 1 if str(x) != 'nan' else 0)\n"
      ],
      "execution_count": 22,
      "outputs": []
    },
    {
      "cell_type": "code",
      "metadata": {
        "colab": {
          "base_uri": "https://localhost:8080/",
          "height": 635
        },
        "id": "6-JQLF2k7BLj",
        "outputId": "a111f06f-5a0a-41b4-ee77-1919f7263241"
      },
      "source": [
        "data"
      ],
      "execution_count": 23,
      "outputs": [
        {
          "output_type": "execute_result",
          "data": {
            "text/html": [
              "<div>\n",
              "<style scoped>\n",
              "    .dataframe tbody tr th:only-of-type {\n",
              "        vertical-align: middle;\n",
              "    }\n",
              "\n",
              "    .dataframe tbody tr th {\n",
              "        vertical-align: top;\n",
              "    }\n",
              "\n",
              "    .dataframe thead th {\n",
              "        text-align: right;\n",
              "    }\n",
              "</style>\n",
              "<table border=\"1\" class=\"dataframe\">\n",
              "  <thead>\n",
              "    <tr style=\"text-align: right;\">\n",
              "      <th></th>\n",
              "      <th>ID</th>\n",
              "      <th>Name</th>\n",
              "      <th>Sex</th>\n",
              "      <th>Age</th>\n",
              "      <th>Height</th>\n",
              "      <th>Weight</th>\n",
              "      <th>Team</th>\n",
              "      <th>NOC</th>\n",
              "      <th>Games</th>\n",
              "      <th>Year</th>\n",
              "      <th>Season</th>\n",
              "      <th>City</th>\n",
              "      <th>Sport</th>\n",
              "      <th>Event</th>\n",
              "      <th>Medal</th>\n",
              "    </tr>\n",
              "  </thead>\n",
              "  <tbody>\n",
              "    <tr>\n",
              "      <th>0</th>\n",
              "      <td>1</td>\n",
              "      <td>A Dijiang</td>\n",
              "      <td>M</td>\n",
              "      <td>24.0</td>\n",
              "      <td>180.0</td>\n",
              "      <td>80.0</td>\n",
              "      <td>China</td>\n",
              "      <td>CHN</td>\n",
              "      <td>1992 Summer</td>\n",
              "      <td>1992</td>\n",
              "      <td>Summer</td>\n",
              "      <td>Barcelona</td>\n",
              "      <td>Basketball</td>\n",
              "      <td>Basketball Men's Basketball</td>\n",
              "      <td>0</td>\n",
              "    </tr>\n",
              "    <tr>\n",
              "      <th>1</th>\n",
              "      <td>2</td>\n",
              "      <td>A Lamusi</td>\n",
              "      <td>M</td>\n",
              "      <td>23.0</td>\n",
              "      <td>170.0</td>\n",
              "      <td>60.0</td>\n",
              "      <td>China</td>\n",
              "      <td>CHN</td>\n",
              "      <td>2012 Summer</td>\n",
              "      <td>2012</td>\n",
              "      <td>Summer</td>\n",
              "      <td>London</td>\n",
              "      <td>Judo</td>\n",
              "      <td>Judo Men's Extra-Lightweight</td>\n",
              "      <td>0</td>\n",
              "    </tr>\n",
              "    <tr>\n",
              "      <th>2</th>\n",
              "      <td>3</td>\n",
              "      <td>Gunnar Nielsen Aaby</td>\n",
              "      <td>M</td>\n",
              "      <td>24.0</td>\n",
              "      <td>NaN</td>\n",
              "      <td>NaN</td>\n",
              "      <td>Denmark</td>\n",
              "      <td>DEN</td>\n",
              "      <td>1920 Summer</td>\n",
              "      <td>1920</td>\n",
              "      <td>Summer</td>\n",
              "      <td>Antwerpen</td>\n",
              "      <td>Football</td>\n",
              "      <td>Football Men's Football</td>\n",
              "      <td>0</td>\n",
              "    </tr>\n",
              "    <tr>\n",
              "      <th>3</th>\n",
              "      <td>4</td>\n",
              "      <td>Edgar Lindenau Aabye</td>\n",
              "      <td>M</td>\n",
              "      <td>34.0</td>\n",
              "      <td>NaN</td>\n",
              "      <td>NaN</td>\n",
              "      <td>Denmark/Sweden</td>\n",
              "      <td>DEN</td>\n",
              "      <td>1900 Summer</td>\n",
              "      <td>1900</td>\n",
              "      <td>Summer</td>\n",
              "      <td>Paris</td>\n",
              "      <td>Tug-Of-War</td>\n",
              "      <td>Tug-Of-War Men's Tug-Of-War</td>\n",
              "      <td>1</td>\n",
              "    </tr>\n",
              "    <tr>\n",
              "      <th>4</th>\n",
              "      <td>5</td>\n",
              "      <td>Christine Jacoba Aaftink</td>\n",
              "      <td>F</td>\n",
              "      <td>21.0</td>\n",
              "      <td>185.0</td>\n",
              "      <td>82.0</td>\n",
              "      <td>Netherlands</td>\n",
              "      <td>NED</td>\n",
              "      <td>1988 Winter</td>\n",
              "      <td>1988</td>\n",
              "      <td>Winter</td>\n",
              "      <td>Calgary</td>\n",
              "      <td>Speed Skating</td>\n",
              "      <td>Speed Skating Women's 500 metres</td>\n",
              "      <td>0</td>\n",
              "    </tr>\n",
              "    <tr>\n",
              "      <th>...</th>\n",
              "      <td>...</td>\n",
              "      <td>...</td>\n",
              "      <td>...</td>\n",
              "      <td>...</td>\n",
              "      <td>...</td>\n",
              "      <td>...</td>\n",
              "      <td>...</td>\n",
              "      <td>...</td>\n",
              "      <td>...</td>\n",
              "      <td>...</td>\n",
              "      <td>...</td>\n",
              "      <td>...</td>\n",
              "      <td>...</td>\n",
              "      <td>...</td>\n",
              "      <td>...</td>\n",
              "    </tr>\n",
              "    <tr>\n",
              "      <th>1018</th>\n",
              "      <td>570</td>\n",
              "      <td>Pedro Abreu Pascal</td>\n",
              "      <td>M</td>\n",
              "      <td>23.0</td>\n",
              "      <td>200.0</td>\n",
              "      <td>88.0</td>\n",
              "      <td>Cuba</td>\n",
              "      <td>CUB</td>\n",
              "      <td>1980 Summer</td>\n",
              "      <td>1980</td>\n",
              "      <td>Summer</td>\n",
              "      <td>Moskva</td>\n",
              "      <td>Basketball</td>\n",
              "      <td>Basketball Men's Basketball</td>\n",
              "      <td>0</td>\n",
              "    </tr>\n",
              "    <tr>\n",
              "      <th>1019</th>\n",
              "      <td>571</td>\n",
              "      <td>Rubn Abreu Rivero</td>\n",
              "      <td>M</td>\n",
              "      <td>24.0</td>\n",
              "      <td>177.0</td>\n",
              "      <td>71.0</td>\n",
              "      <td>Venezuela</td>\n",
              "      <td>VEN</td>\n",
              "      <td>1996 Summer</td>\n",
              "      <td>1996</td>\n",
              "      <td>Summer</td>\n",
              "      <td>Atlanta</td>\n",
              "      <td>Cycling</td>\n",
              "      <td>Cycling Men's Road Race, Individual</td>\n",
              "      <td>0</td>\n",
              "    </tr>\n",
              "    <tr>\n",
              "      <th>1020</th>\n",
              "      <td>572</td>\n",
              "      <td>Rui Pinto de Abreu</td>\n",
              "      <td>M</td>\n",
              "      <td>15.0</td>\n",
              "      <td>177.0</td>\n",
              "      <td>64.0</td>\n",
              "      <td>Portugal</td>\n",
              "      <td>POR</td>\n",
              "      <td>1976 Summer</td>\n",
              "      <td>1976</td>\n",
              "      <td>Summer</td>\n",
              "      <td>Montreal</td>\n",
              "      <td>Swimming</td>\n",
              "      <td>Swimming Men's 400 metres Freestyle</td>\n",
              "      <td>0</td>\n",
              "    </tr>\n",
              "    <tr>\n",
              "      <th>1021</th>\n",
              "      <td>572</td>\n",
              "      <td>Rui Pinto de Abreu</td>\n",
              "      <td>M</td>\n",
              "      <td>15.0</td>\n",
              "      <td>177.0</td>\n",
              "      <td>64.0</td>\n",
              "      <td>Portugal</td>\n",
              "      <td>POR</td>\n",
              "      <td>1976 Summer</td>\n",
              "      <td>1976</td>\n",
              "      <td>Summer</td>\n",
              "      <td>Montreal</td>\n",
              "      <td>Swimming</td>\n",
              "      <td>Swimming Men's 4 x 200 metres Freestyle Relay</td>\n",
              "      <td>0</td>\n",
              "    </tr>\n",
              "    <tr>\n",
              "      <th>1022</th>\n",
              "      <td>572</td>\n",
              "      <td>Rui Pinto de Abreu</td>\n",
              "      <td>M</td>\n",
              "      <td>19.0</td>\n",
              "      <td>177.0</td>\n",
              "      <td>64.0</td>\n",
              "      <td>Portugal</td>\n",
              "      <td>POR</td>\n",
              "      <td>1980 Summer</td>\n",
              "      <td>1980</td>\n",
              "      <td>Summer</td>\n",
              "      <td>Moskva</td>\n",
              "      <td>Swimming</td>\n",
              "      <td>Swimming Men's 100 metres Freestyle</td>\n",
              "      <td>0</td>\n",
              "    </tr>\n",
              "  </tbody>\n",
              "</table>\n",
              "<p>1023 rows × 15 columns</p>\n",
              "</div>"
            ],
            "text/plain": [
              "       ID  ... Medal\n",
              "0       1  ...     0\n",
              "1       2  ...     0\n",
              "2       3  ...     0\n",
              "3       4  ...     1\n",
              "4       5  ...     0\n",
              "...   ...  ...   ...\n",
              "1018  570  ...     0\n",
              "1019  571  ...     0\n",
              "1020  572  ...     0\n",
              "1021  572  ...     0\n",
              "1022  572  ...     0\n",
              "\n",
              "[1023 rows x 15 columns]"
            ]
          },
          "metadata": {
            "tags": []
          },
          "execution_count": 23
        }
      ]
    },
    {
      "cell_type": "code",
      "metadata": {
        "id": "v3V9BM8P7gkL"
      },
      "source": [
        "# Drop Uncessary columns\n",
        "data = data.drop(['ID', 'Name', 'Games'], axis=1)"
      ],
      "execution_count": 24,
      "outputs": []
    },
    {
      "cell_type": "code",
      "metadata": {
        "colab": {
          "base_uri": "https://localhost:8080/"
        },
        "id": "8ck3G6Zw7gxO",
        "outputId": "7728c04e-e8db-4a95-c0b6-4777e1bbff54"
      },
      "source": [
        "# Checking null values in the data \n",
        "data.isna().mean()\n"
      ],
      "execution_count": 25,
      "outputs": [
        {
          "output_type": "execute_result",
          "data": {
            "text/plain": [
              "Sex       0.000000\n",
              "Age       0.062561\n",
              "Height    0.244379\n",
              "Weight    0.241447\n",
              "Team      0.000000\n",
              "NOC       0.000000\n",
              "Year      0.000000\n",
              "Season    0.000000\n",
              "City      0.000000\n",
              "Sport     0.000000\n",
              "Event     0.000000\n",
              "Medal     0.000000\n",
              "dtype: float64"
            ]
          },
          "metadata": {
            "tags": []
          },
          "execution_count": 25
        }
      ]
    },
    {
      "cell_type": "code",
      "metadata": {
        "colab": {
          "base_uri": "https://localhost:8080/",
          "height": 203
        },
        "id": "vZETHw8i7gzx",
        "outputId": "2238eea8-204c-4dc6-ffaa-d2a6f77a28f8"
      },
      "source": [
        "data.groupby(['Medal', 'Sex']).mean().astype(np.int)"
      ],
      "execution_count": 26,
      "outputs": [
        {
          "output_type": "execute_result",
          "data": {
            "text/html": [
              "<div>\n",
              "<style scoped>\n",
              "    .dataframe tbody tr th:only-of-type {\n",
              "        vertical-align: middle;\n",
              "    }\n",
              "\n",
              "    .dataframe tbody tr th {\n",
              "        vertical-align: top;\n",
              "    }\n",
              "\n",
              "    .dataframe thead th {\n",
              "        text-align: right;\n",
              "    }\n",
              "</style>\n",
              "<table border=\"1\" class=\"dataframe\">\n",
              "  <thead>\n",
              "    <tr style=\"text-align: right;\">\n",
              "      <th></th>\n",
              "      <th></th>\n",
              "      <th>Age</th>\n",
              "      <th>Height</th>\n",
              "      <th>Weight</th>\n",
              "      <th>Year</th>\n",
              "    </tr>\n",
              "    <tr>\n",
              "      <th>Medal</th>\n",
              "      <th>Sex</th>\n",
              "      <th></th>\n",
              "      <th></th>\n",
              "      <th></th>\n",
              "      <th></th>\n",
              "    </tr>\n",
              "  </thead>\n",
              "  <tbody>\n",
              "    <tr>\n",
              "      <th rowspan=\"2\" valign=\"top\">0</th>\n",
              "      <th>F</th>\n",
              "      <td>23</td>\n",
              "      <td>166</td>\n",
              "      <td>60</td>\n",
              "      <td>1997</td>\n",
              "    </tr>\n",
              "    <tr>\n",
              "      <th>M</th>\n",
              "      <td>25</td>\n",
              "      <td>177</td>\n",
              "      <td>73</td>\n",
              "      <td>1980</td>\n",
              "    </tr>\n",
              "    <tr>\n",
              "      <th rowspan=\"2\" valign=\"top\">1</th>\n",
              "      <th>F</th>\n",
              "      <td>21</td>\n",
              "      <td>169</td>\n",
              "      <td>60</td>\n",
              "      <td>1989</td>\n",
              "    </tr>\n",
              "    <tr>\n",
              "      <th>M</th>\n",
              "      <td>25</td>\n",
              "      <td>179</td>\n",
              "      <td>79</td>\n",
              "      <td>1974</td>\n",
              "    </tr>\n",
              "  </tbody>\n",
              "</table>\n",
              "</div>"
            ],
            "text/plain": [
              "           Age  Height  Weight  Year\n",
              "Medal Sex                           \n",
              "0     F     23     166      60  1997\n",
              "      M     25     177      73  1980\n",
              "1     F     21     169      60  1989\n",
              "      M     25     179      79  1974"
            ]
          },
          "metadata": {
            "tags": []
          },
          "execution_count": 26
        }
      ]
    },
    {
      "cell_type": "code",
      "metadata": {
        "id": "QRvkc9UX7g6U"
      },
      "source": [
        "# Fill null values with mean values for these columns\n",
        "for column in ['Age', 'Height', 'Weight']:\n",
        "    data[column] = data.groupby(['Medal', 'Sex'])[column].apply(lambda x: x.fillna(x.mean()).astype(np.int))"
      ],
      "execution_count": 27,
      "outputs": []
    },
    {
      "cell_type": "code",
      "metadata": {
        "colab": {
          "base_uri": "https://localhost:8080/"
        },
        "id": "NaGZX_wp7sQV",
        "outputId": "4d952d1c-3dd3-44eb-cb4f-89b78362f85e"
      },
      "source": [
        "print(\"Total missing values:\", data.isna().sum().sum())\n"
      ],
      "execution_count": 28,
      "outputs": [
        {
          "output_type": "stream",
          "text": [
            "Total missing values: 0\n"
          ],
          "name": "stdout"
        }
      ]
    },
    {
      "cell_type": "code",
      "metadata": {
        "colab": {
          "base_uri": "https://localhost:8080/",
          "height": 417
        },
        "id": "Knm19Xzn73KB",
        "outputId": "4ca48624-b1a4-42d8-ac74-436366c2cd0a"
      },
      "source": [
        "data"
      ],
      "execution_count": 29,
      "outputs": [
        {
          "output_type": "execute_result",
          "data": {
            "text/html": [
              "<div>\n",
              "<style scoped>\n",
              "    .dataframe tbody tr th:only-of-type {\n",
              "        vertical-align: middle;\n",
              "    }\n",
              "\n",
              "    .dataframe tbody tr th {\n",
              "        vertical-align: top;\n",
              "    }\n",
              "\n",
              "    .dataframe thead th {\n",
              "        text-align: right;\n",
              "    }\n",
              "</style>\n",
              "<table border=\"1\" class=\"dataframe\">\n",
              "  <thead>\n",
              "    <tr style=\"text-align: right;\">\n",
              "      <th></th>\n",
              "      <th>Sex</th>\n",
              "      <th>Age</th>\n",
              "      <th>Height</th>\n",
              "      <th>Weight</th>\n",
              "      <th>Team</th>\n",
              "      <th>NOC</th>\n",
              "      <th>Year</th>\n",
              "      <th>Season</th>\n",
              "      <th>City</th>\n",
              "      <th>Sport</th>\n",
              "      <th>Event</th>\n",
              "      <th>Medal</th>\n",
              "    </tr>\n",
              "  </thead>\n",
              "  <tbody>\n",
              "    <tr>\n",
              "      <th>0</th>\n",
              "      <td>M</td>\n",
              "      <td>24</td>\n",
              "      <td>180</td>\n",
              "      <td>80</td>\n",
              "      <td>China</td>\n",
              "      <td>CHN</td>\n",
              "      <td>1992</td>\n",
              "      <td>Summer</td>\n",
              "      <td>Barcelona</td>\n",
              "      <td>Basketball</td>\n",
              "      <td>Basketball Men's Basketball</td>\n",
              "      <td>0</td>\n",
              "    </tr>\n",
              "    <tr>\n",
              "      <th>1</th>\n",
              "      <td>M</td>\n",
              "      <td>23</td>\n",
              "      <td>170</td>\n",
              "      <td>60</td>\n",
              "      <td>China</td>\n",
              "      <td>CHN</td>\n",
              "      <td>2012</td>\n",
              "      <td>Summer</td>\n",
              "      <td>London</td>\n",
              "      <td>Judo</td>\n",
              "      <td>Judo Men's Extra-Lightweight</td>\n",
              "      <td>0</td>\n",
              "    </tr>\n",
              "    <tr>\n",
              "      <th>2</th>\n",
              "      <td>M</td>\n",
              "      <td>24</td>\n",
              "      <td>177</td>\n",
              "      <td>73</td>\n",
              "      <td>Denmark</td>\n",
              "      <td>DEN</td>\n",
              "      <td>1920</td>\n",
              "      <td>Summer</td>\n",
              "      <td>Antwerpen</td>\n",
              "      <td>Football</td>\n",
              "      <td>Football Men's Football</td>\n",
              "      <td>0</td>\n",
              "    </tr>\n",
              "    <tr>\n",
              "      <th>3</th>\n",
              "      <td>M</td>\n",
              "      <td>34</td>\n",
              "      <td>179</td>\n",
              "      <td>79</td>\n",
              "      <td>Denmark/Sweden</td>\n",
              "      <td>DEN</td>\n",
              "      <td>1900</td>\n",
              "      <td>Summer</td>\n",
              "      <td>Paris</td>\n",
              "      <td>Tug-Of-War</td>\n",
              "      <td>Tug-Of-War Men's Tug-Of-War</td>\n",
              "      <td>1</td>\n",
              "    </tr>\n",
              "    <tr>\n",
              "      <th>4</th>\n",
              "      <td>F</td>\n",
              "      <td>21</td>\n",
              "      <td>185</td>\n",
              "      <td>82</td>\n",
              "      <td>Netherlands</td>\n",
              "      <td>NED</td>\n",
              "      <td>1988</td>\n",
              "      <td>Winter</td>\n",
              "      <td>Calgary</td>\n",
              "      <td>Speed Skating</td>\n",
              "      <td>Speed Skating Women's 500 metres</td>\n",
              "      <td>0</td>\n",
              "    </tr>\n",
              "    <tr>\n",
              "      <th>...</th>\n",
              "      <td>...</td>\n",
              "      <td>...</td>\n",
              "      <td>...</td>\n",
              "      <td>...</td>\n",
              "      <td>...</td>\n",
              "      <td>...</td>\n",
              "      <td>...</td>\n",
              "      <td>...</td>\n",
              "      <td>...</td>\n",
              "      <td>...</td>\n",
              "      <td>...</td>\n",
              "      <td>...</td>\n",
              "    </tr>\n",
              "    <tr>\n",
              "      <th>1018</th>\n",
              "      <td>M</td>\n",
              "      <td>23</td>\n",
              "      <td>200</td>\n",
              "      <td>88</td>\n",
              "      <td>Cuba</td>\n",
              "      <td>CUB</td>\n",
              "      <td>1980</td>\n",
              "      <td>Summer</td>\n",
              "      <td>Moskva</td>\n",
              "      <td>Basketball</td>\n",
              "      <td>Basketball Men's Basketball</td>\n",
              "      <td>0</td>\n",
              "    </tr>\n",
              "    <tr>\n",
              "      <th>1019</th>\n",
              "      <td>M</td>\n",
              "      <td>24</td>\n",
              "      <td>177</td>\n",
              "      <td>71</td>\n",
              "      <td>Venezuela</td>\n",
              "      <td>VEN</td>\n",
              "      <td>1996</td>\n",
              "      <td>Summer</td>\n",
              "      <td>Atlanta</td>\n",
              "      <td>Cycling</td>\n",
              "      <td>Cycling Men's Road Race, Individual</td>\n",
              "      <td>0</td>\n",
              "    </tr>\n",
              "    <tr>\n",
              "      <th>1020</th>\n",
              "      <td>M</td>\n",
              "      <td>15</td>\n",
              "      <td>177</td>\n",
              "      <td>64</td>\n",
              "      <td>Portugal</td>\n",
              "      <td>POR</td>\n",
              "      <td>1976</td>\n",
              "      <td>Summer</td>\n",
              "      <td>Montreal</td>\n",
              "      <td>Swimming</td>\n",
              "      <td>Swimming Men's 400 metres Freestyle</td>\n",
              "      <td>0</td>\n",
              "    </tr>\n",
              "    <tr>\n",
              "      <th>1021</th>\n",
              "      <td>M</td>\n",
              "      <td>15</td>\n",
              "      <td>177</td>\n",
              "      <td>64</td>\n",
              "      <td>Portugal</td>\n",
              "      <td>POR</td>\n",
              "      <td>1976</td>\n",
              "      <td>Summer</td>\n",
              "      <td>Montreal</td>\n",
              "      <td>Swimming</td>\n",
              "      <td>Swimming Men's 4 x 200 metres Freestyle Relay</td>\n",
              "      <td>0</td>\n",
              "    </tr>\n",
              "    <tr>\n",
              "      <th>1022</th>\n",
              "      <td>M</td>\n",
              "      <td>19</td>\n",
              "      <td>177</td>\n",
              "      <td>64</td>\n",
              "      <td>Portugal</td>\n",
              "      <td>POR</td>\n",
              "      <td>1980</td>\n",
              "      <td>Summer</td>\n",
              "      <td>Moskva</td>\n",
              "      <td>Swimming</td>\n",
              "      <td>Swimming Men's 100 metres Freestyle</td>\n",
              "      <td>0</td>\n",
              "    </tr>\n",
              "  </tbody>\n",
              "</table>\n",
              "<p>1023 rows × 12 columns</p>\n",
              "</div>"
            ],
            "text/plain": [
              "     Sex  Age  ...                                          Event  Medal\n",
              "0      M   24  ...                    Basketball Men's Basketball      0\n",
              "1      M   23  ...                   Judo Men's Extra-Lightweight      0\n",
              "2      M   24  ...                        Football Men's Football      0\n",
              "3      M   34  ...                    Tug-Of-War Men's Tug-Of-War      1\n",
              "4      F   21  ...               Speed Skating Women's 500 metres      0\n",
              "...   ..  ...  ...                                            ...    ...\n",
              "1018   M   23  ...                    Basketball Men's Basketball      0\n",
              "1019   M   24  ...            Cycling Men's Road Race, Individual      0\n",
              "1020   M   15  ...            Swimming Men's 400 metres Freestyle      0\n",
              "1021   M   15  ...  Swimming Men's 4 x 200 metres Freestyle Relay      0\n",
              "1022   M   19  ...            Swimming Men's 100 metres Freestyle      0\n",
              "\n",
              "[1023 rows x 12 columns]"
            ]
          },
          "metadata": {
            "tags": []
          },
          "execution_count": 29
        }
      ]
    },
    {
      "cell_type": "code",
      "metadata": {
        "colab": {
          "base_uri": "https://localhost:8080/"
        },
        "id": "N9wfMNE1eEAd",
        "outputId": "c394ff70-0b63-4bd8-a2a1-a1bf88fc4a2d"
      },
      "source": [
        "# Checking no of unique values in the column\n",
        "{column: len(data[column].unique()) for column in data.select_dtypes('object').columns}"
      ],
      "execution_count": 30,
      "outputs": [
        {
          "output_type": "execute_result",
          "data": {
            "text/plain": [
              "{'City': 41,\n",
              " 'Event': 272,\n",
              " 'NOC': 106,\n",
              " 'Season': 2,\n",
              " 'Sex': 2,\n",
              " 'Sport': 47,\n",
              " 'Team': 115}"
            ]
          },
          "metadata": {
            "tags": []
          },
          "execution_count": 30
        }
      ]
    },
    {
      "cell_type": "code",
      "metadata": {
        "id": "CkAeDJeLeKA2"
      },
      "source": [
        "def binary_encode(df, columns, positive_values):\n",
        "    df = df.copy()\n",
        "    for column, positive_value in zip(columns, positive_values):\n",
        "        df[column] = df[column].apply(lambda x: 1 if x == positive_value else 0)\n",
        "    return df\n",
        "\n",
        "def onehot_encode(df, columns, prefixes):\n",
        "    df = df.copy()\n",
        "    for column, prefix in zip(columns, prefixes):\n",
        "        dummies = pd.get_dummies(df[column], prefix=prefix)\n",
        "        df = pd.concat([df, dummies], axis=1)\n",
        "        df = df.drop(column, axis=1)\n",
        "    return df"
      ],
      "execution_count": 31,
      "outputs": []
    },
    {
      "cell_type": "code",
      "metadata": {
        "id": "9hQr8RC3eOSR"
      },
      "source": [
        "data = binary_encode(\n",
        "    data,\n",
        "    columns=['Sex', 'Season'],\n",
        "    positive_values=['M', 'Summer']\n",
        ")\n",
        "\n",
        "data = onehot_encode(\n",
        "    data,\n",
        "    columns=['Team', 'NOC', 'City', 'Sport', 'Event'],\n",
        "    prefixes=['T', 'N', 'C', 'S', 'E']\n",
        ")"
      ],
      "execution_count": 32,
      "outputs": []
    },
    {
      "cell_type": "code",
      "metadata": {
        "colab": {
          "base_uri": "https://localhost:8080/",
          "height": 504
        },
        "id": "YmJHOcRweWzd",
        "outputId": "92e5e1e3-de13-4f01-c744-2bdb085dff85"
      },
      "source": [
        "data"
      ],
      "execution_count": 33,
      "outputs": [
        {
          "output_type": "execute_result",
          "data": {
            "text/html": [
              "<div>\n",
              "<style scoped>\n",
              "    .dataframe tbody tr th:only-of-type {\n",
              "        vertical-align: middle;\n",
              "    }\n",
              "\n",
              "    .dataframe tbody tr th {\n",
              "        vertical-align: top;\n",
              "    }\n",
              "\n",
              "    .dataframe thead th {\n",
              "        text-align: right;\n",
              "    }\n",
              "</style>\n",
              "<table border=\"1\" class=\"dataframe\">\n",
              "  <thead>\n",
              "    <tr style=\"text-align: right;\">\n",
              "      <th></th>\n",
              "      <th>Sex</th>\n",
              "      <th>Age</th>\n",
              "      <th>Height</th>\n",
              "      <th>Weight</th>\n",
              "      <th>Year</th>\n",
              "      <th>Season</th>\n",
              "      <th>Medal</th>\n",
              "      <th>T_Afghanistan</th>\n",
              "      <th>T_Algeria</th>\n",
              "      <th>T_Angola</th>\n",
              "      <th>T_Argentina</th>\n",
              "      <th>T_Armenia</th>\n",
              "      <th>T_Australia</th>\n",
              "      <th>T_Azerbaijan</th>\n",
              "      <th>T_Bahrain</th>\n",
              "      <th>T_Belarus</th>\n",
              "      <th>T_Belgium</th>\n",
              "      <th>T_Benin</th>\n",
              "      <th>T_Brazil</th>\n",
              "      <th>T_Brunei</th>\n",
              "      <th>T_Bulgaria</th>\n",
              "      <th>T_Cameroon</th>\n",
              "      <th>T_Canada</th>\n",
              "      <th>T_Chad</th>\n",
              "      <th>T_Chile</th>\n",
              "      <th>T_China</th>\n",
              "      <th>T_Comoros</th>\n",
              "      <th>T_Congo (Brazzaville)</th>\n",
              "      <th>T_Costa Rica</th>\n",
              "      <th>T_Cote d'Ivoire</th>\n",
              "      <th>T_Croatia</th>\n",
              "      <th>T_Cuba</th>\n",
              "      <th>T_Denmark</th>\n",
              "      <th>T_Denmark/Sweden</th>\n",
              "      <th>T_Djibouti</th>\n",
              "      <th>T_East Germany</th>\n",
              "      <th>T_Egypt</th>\n",
              "      <th>T_Eritrea</th>\n",
              "      <th>T_Estonia</th>\n",
              "      <th>T_Ethiopia</th>\n",
              "      <th>...</th>\n",
              "      <th>E_Taekwondo Women's Featherweight</th>\n",
              "      <th>E_Taekwondo Women's Flyweight</th>\n",
              "      <th>E_Taekwondo Women's Heavyweight</th>\n",
              "      <th>E_Tennis Men's Doubles</th>\n",
              "      <th>E_Tennis Men's Singles</th>\n",
              "      <th>E_Trampolining Men's Individual</th>\n",
              "      <th>E_Tug-Of-War Men's Tug-Of-War</th>\n",
              "      <th>E_Volleyball Men's Volleyball</th>\n",
              "      <th>E_Volleyball Women's Volleyball</th>\n",
              "      <th>E_Water Polo Men's Water Polo</th>\n",
              "      <th>E_Water Polo Women's Water Polo</th>\n",
              "      <th>E_Weightlifting Men's Featherweight</th>\n",
              "      <th>E_Weightlifting Men's Flyweight</th>\n",
              "      <th>E_Weightlifting Men's Heavyweight</th>\n",
              "      <th>E_Weightlifting Men's Light-Heavyweight</th>\n",
              "      <th>E_Weightlifting Men's Lightweight</th>\n",
              "      <th>E_Weightlifting Men's Middle-Heavyweight</th>\n",
              "      <th>E_Weightlifting Men's Middleweight</th>\n",
              "      <th>E_Weightlifting Women's Featherweight</th>\n",
              "      <th>E_Weightlifting Women's Heavyweight</th>\n",
              "      <th>E_Weightlifting Women's Light-Heavyweight</th>\n",
              "      <th>E_Weightlifting Women's Lightweight</th>\n",
              "      <th>E_Weightlifting Women's Super-Heavyweight</th>\n",
              "      <th>E_Wrestling Men's Bantamweight, Freestyle</th>\n",
              "      <th>E_Wrestling Men's Bantamweight, Greco-Roman</th>\n",
              "      <th>E_Wrestling Men's Featherweight, Freestyle</th>\n",
              "      <th>E_Wrestling Men's Flyweight, Freestyle</th>\n",
              "      <th>E_Wrestling Men's Flyweight, Greco-Roman</th>\n",
              "      <th>E_Wrestling Men's Heavyweight, Freestyle</th>\n",
              "      <th>E_Wrestling Men's Heavyweight, Greco-Roman</th>\n",
              "      <th>E_Wrestling Men's Light-Heavyweight, Freestyle</th>\n",
              "      <th>E_Wrestling Men's Light-Heavyweight, Greco-Roman</th>\n",
              "      <th>E_Wrestling Men's Lightweight, Freestyle</th>\n",
              "      <th>E_Wrestling Men's Lightweight, Greco-Roman</th>\n",
              "      <th>E_Wrestling Men's Middleweight A, Greco-Roman</th>\n",
              "      <th>E_Wrestling Men's Middleweight, Freestyle</th>\n",
              "      <th>E_Wrestling Men's Middleweight, Greco-Roman</th>\n",
              "      <th>E_Wrestling Men's Super-Heavyweight, Greco-Roman</th>\n",
              "      <th>E_Wrestling Men's Welterweight, Freestyle</th>\n",
              "      <th>E_Wrestling Men's Welterweight, Greco-Roman</th>\n",
              "    </tr>\n",
              "  </thead>\n",
              "  <tbody>\n",
              "    <tr>\n",
              "      <th>0</th>\n",
              "      <td>1</td>\n",
              "      <td>24</td>\n",
              "      <td>180</td>\n",
              "      <td>80</td>\n",
              "      <td>1992</td>\n",
              "      <td>1</td>\n",
              "      <td>0</td>\n",
              "      <td>0</td>\n",
              "      <td>0</td>\n",
              "      <td>0</td>\n",
              "      <td>0</td>\n",
              "      <td>0</td>\n",
              "      <td>0</td>\n",
              "      <td>0</td>\n",
              "      <td>0</td>\n",
              "      <td>0</td>\n",
              "      <td>0</td>\n",
              "      <td>0</td>\n",
              "      <td>0</td>\n",
              "      <td>0</td>\n",
              "      <td>0</td>\n",
              "      <td>0</td>\n",
              "      <td>0</td>\n",
              "      <td>0</td>\n",
              "      <td>0</td>\n",
              "      <td>1</td>\n",
              "      <td>0</td>\n",
              "      <td>0</td>\n",
              "      <td>0</td>\n",
              "      <td>0</td>\n",
              "      <td>0</td>\n",
              "      <td>0</td>\n",
              "      <td>0</td>\n",
              "      <td>0</td>\n",
              "      <td>0</td>\n",
              "      <td>0</td>\n",
              "      <td>0</td>\n",
              "      <td>0</td>\n",
              "      <td>0</td>\n",
              "      <td>0</td>\n",
              "      <td>...</td>\n",
              "      <td>0</td>\n",
              "      <td>0</td>\n",
              "      <td>0</td>\n",
              "      <td>0</td>\n",
              "      <td>0</td>\n",
              "      <td>0</td>\n",
              "      <td>0</td>\n",
              "      <td>0</td>\n",
              "      <td>0</td>\n",
              "      <td>0</td>\n",
              "      <td>0</td>\n",
              "      <td>0</td>\n",
              "      <td>0</td>\n",
              "      <td>0</td>\n",
              "      <td>0</td>\n",
              "      <td>0</td>\n",
              "      <td>0</td>\n",
              "      <td>0</td>\n",
              "      <td>0</td>\n",
              "      <td>0</td>\n",
              "      <td>0</td>\n",
              "      <td>0</td>\n",
              "      <td>0</td>\n",
              "      <td>0</td>\n",
              "      <td>0</td>\n",
              "      <td>0</td>\n",
              "      <td>0</td>\n",
              "      <td>0</td>\n",
              "      <td>0</td>\n",
              "      <td>0</td>\n",
              "      <td>0</td>\n",
              "      <td>0</td>\n",
              "      <td>0</td>\n",
              "      <td>0</td>\n",
              "      <td>0</td>\n",
              "      <td>0</td>\n",
              "      <td>0</td>\n",
              "      <td>0</td>\n",
              "      <td>0</td>\n",
              "      <td>0</td>\n",
              "    </tr>\n",
              "    <tr>\n",
              "      <th>1</th>\n",
              "      <td>1</td>\n",
              "      <td>23</td>\n",
              "      <td>170</td>\n",
              "      <td>60</td>\n",
              "      <td>2012</td>\n",
              "      <td>1</td>\n",
              "      <td>0</td>\n",
              "      <td>0</td>\n",
              "      <td>0</td>\n",
              "      <td>0</td>\n",
              "      <td>0</td>\n",
              "      <td>0</td>\n",
              "      <td>0</td>\n",
              "      <td>0</td>\n",
              "      <td>0</td>\n",
              "      <td>0</td>\n",
              "      <td>0</td>\n",
              "      <td>0</td>\n",
              "      <td>0</td>\n",
              "      <td>0</td>\n",
              "      <td>0</td>\n",
              "      <td>0</td>\n",
              "      <td>0</td>\n",
              "      <td>0</td>\n",
              "      <td>0</td>\n",
              "      <td>1</td>\n",
              "      <td>0</td>\n",
              "      <td>0</td>\n",
              "      <td>0</td>\n",
              "      <td>0</td>\n",
              "      <td>0</td>\n",
              "      <td>0</td>\n",
              "      <td>0</td>\n",
              "      <td>0</td>\n",
              "      <td>0</td>\n",
              "      <td>0</td>\n",
              "      <td>0</td>\n",
              "      <td>0</td>\n",
              "      <td>0</td>\n",
              "      <td>0</td>\n",
              "      <td>...</td>\n",
              "      <td>0</td>\n",
              "      <td>0</td>\n",
              "      <td>0</td>\n",
              "      <td>0</td>\n",
              "      <td>0</td>\n",
              "      <td>0</td>\n",
              "      <td>0</td>\n",
              "      <td>0</td>\n",
              "      <td>0</td>\n",
              "      <td>0</td>\n",
              "      <td>0</td>\n",
              "      <td>0</td>\n",
              "      <td>0</td>\n",
              "      <td>0</td>\n",
              "      <td>0</td>\n",
              "      <td>0</td>\n",
              "      <td>0</td>\n",
              "      <td>0</td>\n",
              "      <td>0</td>\n",
              "      <td>0</td>\n",
              "      <td>0</td>\n",
              "      <td>0</td>\n",
              "      <td>0</td>\n",
              "      <td>0</td>\n",
              "      <td>0</td>\n",
              "      <td>0</td>\n",
              "      <td>0</td>\n",
              "      <td>0</td>\n",
              "      <td>0</td>\n",
              "      <td>0</td>\n",
              "      <td>0</td>\n",
              "      <td>0</td>\n",
              "      <td>0</td>\n",
              "      <td>0</td>\n",
              "      <td>0</td>\n",
              "      <td>0</td>\n",
              "      <td>0</td>\n",
              "      <td>0</td>\n",
              "      <td>0</td>\n",
              "      <td>0</td>\n",
              "    </tr>\n",
              "    <tr>\n",
              "      <th>2</th>\n",
              "      <td>1</td>\n",
              "      <td>24</td>\n",
              "      <td>177</td>\n",
              "      <td>73</td>\n",
              "      <td>1920</td>\n",
              "      <td>1</td>\n",
              "      <td>0</td>\n",
              "      <td>0</td>\n",
              "      <td>0</td>\n",
              "      <td>0</td>\n",
              "      <td>0</td>\n",
              "      <td>0</td>\n",
              "      <td>0</td>\n",
              "      <td>0</td>\n",
              "      <td>0</td>\n",
              "      <td>0</td>\n",
              "      <td>0</td>\n",
              "      <td>0</td>\n",
              "      <td>0</td>\n",
              "      <td>0</td>\n",
              "      <td>0</td>\n",
              "      <td>0</td>\n",
              "      <td>0</td>\n",
              "      <td>0</td>\n",
              "      <td>0</td>\n",
              "      <td>0</td>\n",
              "      <td>0</td>\n",
              "      <td>0</td>\n",
              "      <td>0</td>\n",
              "      <td>0</td>\n",
              "      <td>0</td>\n",
              "      <td>0</td>\n",
              "      <td>1</td>\n",
              "      <td>0</td>\n",
              "      <td>0</td>\n",
              "      <td>0</td>\n",
              "      <td>0</td>\n",
              "      <td>0</td>\n",
              "      <td>0</td>\n",
              "      <td>0</td>\n",
              "      <td>...</td>\n",
              "      <td>0</td>\n",
              "      <td>0</td>\n",
              "      <td>0</td>\n",
              "      <td>0</td>\n",
              "      <td>0</td>\n",
              "      <td>0</td>\n",
              "      <td>0</td>\n",
              "      <td>0</td>\n",
              "      <td>0</td>\n",
              "      <td>0</td>\n",
              "      <td>0</td>\n",
              "      <td>0</td>\n",
              "      <td>0</td>\n",
              "      <td>0</td>\n",
              "      <td>0</td>\n",
              "      <td>0</td>\n",
              "      <td>0</td>\n",
              "      <td>0</td>\n",
              "      <td>0</td>\n",
              "      <td>0</td>\n",
              "      <td>0</td>\n",
              "      <td>0</td>\n",
              "      <td>0</td>\n",
              "      <td>0</td>\n",
              "      <td>0</td>\n",
              "      <td>0</td>\n",
              "      <td>0</td>\n",
              "      <td>0</td>\n",
              "      <td>0</td>\n",
              "      <td>0</td>\n",
              "      <td>0</td>\n",
              "      <td>0</td>\n",
              "      <td>0</td>\n",
              "      <td>0</td>\n",
              "      <td>0</td>\n",
              "      <td>0</td>\n",
              "      <td>0</td>\n",
              "      <td>0</td>\n",
              "      <td>0</td>\n",
              "      <td>0</td>\n",
              "    </tr>\n",
              "    <tr>\n",
              "      <th>3</th>\n",
              "      <td>1</td>\n",
              "      <td>34</td>\n",
              "      <td>179</td>\n",
              "      <td>79</td>\n",
              "      <td>1900</td>\n",
              "      <td>1</td>\n",
              "      <td>1</td>\n",
              "      <td>0</td>\n",
              "      <td>0</td>\n",
              "      <td>0</td>\n",
              "      <td>0</td>\n",
              "      <td>0</td>\n",
              "      <td>0</td>\n",
              "      <td>0</td>\n",
              "      <td>0</td>\n",
              "      <td>0</td>\n",
              "      <td>0</td>\n",
              "      <td>0</td>\n",
              "      <td>0</td>\n",
              "      <td>0</td>\n",
              "      <td>0</td>\n",
              "      <td>0</td>\n",
              "      <td>0</td>\n",
              "      <td>0</td>\n",
              "      <td>0</td>\n",
              "      <td>0</td>\n",
              "      <td>0</td>\n",
              "      <td>0</td>\n",
              "      <td>0</td>\n",
              "      <td>0</td>\n",
              "      <td>0</td>\n",
              "      <td>0</td>\n",
              "      <td>0</td>\n",
              "      <td>1</td>\n",
              "      <td>0</td>\n",
              "      <td>0</td>\n",
              "      <td>0</td>\n",
              "      <td>0</td>\n",
              "      <td>0</td>\n",
              "      <td>0</td>\n",
              "      <td>...</td>\n",
              "      <td>0</td>\n",
              "      <td>0</td>\n",
              "      <td>0</td>\n",
              "      <td>0</td>\n",
              "      <td>0</td>\n",
              "      <td>0</td>\n",
              "      <td>1</td>\n",
              "      <td>0</td>\n",
              "      <td>0</td>\n",
              "      <td>0</td>\n",
              "      <td>0</td>\n",
              "      <td>0</td>\n",
              "      <td>0</td>\n",
              "      <td>0</td>\n",
              "      <td>0</td>\n",
              "      <td>0</td>\n",
              "      <td>0</td>\n",
              "      <td>0</td>\n",
              "      <td>0</td>\n",
              "      <td>0</td>\n",
              "      <td>0</td>\n",
              "      <td>0</td>\n",
              "      <td>0</td>\n",
              "      <td>0</td>\n",
              "      <td>0</td>\n",
              "      <td>0</td>\n",
              "      <td>0</td>\n",
              "      <td>0</td>\n",
              "      <td>0</td>\n",
              "      <td>0</td>\n",
              "      <td>0</td>\n",
              "      <td>0</td>\n",
              "      <td>0</td>\n",
              "      <td>0</td>\n",
              "      <td>0</td>\n",
              "      <td>0</td>\n",
              "      <td>0</td>\n",
              "      <td>0</td>\n",
              "      <td>0</td>\n",
              "      <td>0</td>\n",
              "    </tr>\n",
              "    <tr>\n",
              "      <th>4</th>\n",
              "      <td>0</td>\n",
              "      <td>21</td>\n",
              "      <td>185</td>\n",
              "      <td>82</td>\n",
              "      <td>1988</td>\n",
              "      <td>0</td>\n",
              "      <td>0</td>\n",
              "      <td>0</td>\n",
              "      <td>0</td>\n",
              "      <td>0</td>\n",
              "      <td>0</td>\n",
              "      <td>0</td>\n",
              "      <td>0</td>\n",
              "      <td>0</td>\n",
              "      <td>0</td>\n",
              "      <td>0</td>\n",
              "      <td>0</td>\n",
              "      <td>0</td>\n",
              "      <td>0</td>\n",
              "      <td>0</td>\n",
              "      <td>0</td>\n",
              "      <td>0</td>\n",
              "      <td>0</td>\n",
              "      <td>0</td>\n",
              "      <td>0</td>\n",
              "      <td>0</td>\n",
              "      <td>0</td>\n",
              "      <td>0</td>\n",
              "      <td>0</td>\n",
              "      <td>0</td>\n",
              "      <td>0</td>\n",
              "      <td>0</td>\n",
              "      <td>0</td>\n",
              "      <td>0</td>\n",
              "      <td>0</td>\n",
              "      <td>0</td>\n",
              "      <td>0</td>\n",
              "      <td>0</td>\n",
              "      <td>0</td>\n",
              "      <td>0</td>\n",
              "      <td>...</td>\n",
              "      <td>0</td>\n",
              "      <td>0</td>\n",
              "      <td>0</td>\n",
              "      <td>0</td>\n",
              "      <td>0</td>\n",
              "      <td>0</td>\n",
              "      <td>0</td>\n",
              "      <td>0</td>\n",
              "      <td>0</td>\n",
              "      <td>0</td>\n",
              "      <td>0</td>\n",
              "      <td>0</td>\n",
              "      <td>0</td>\n",
              "      <td>0</td>\n",
              "      <td>0</td>\n",
              "      <td>0</td>\n",
              "      <td>0</td>\n",
              "      <td>0</td>\n",
              "      <td>0</td>\n",
              "      <td>0</td>\n",
              "      <td>0</td>\n",
              "      <td>0</td>\n",
              "      <td>0</td>\n",
              "      <td>0</td>\n",
              "      <td>0</td>\n",
              "      <td>0</td>\n",
              "      <td>0</td>\n",
              "      <td>0</td>\n",
              "      <td>0</td>\n",
              "      <td>0</td>\n",
              "      <td>0</td>\n",
              "      <td>0</td>\n",
              "      <td>0</td>\n",
              "      <td>0</td>\n",
              "      <td>0</td>\n",
              "      <td>0</td>\n",
              "      <td>0</td>\n",
              "      <td>0</td>\n",
              "      <td>0</td>\n",
              "      <td>0</td>\n",
              "    </tr>\n",
              "    <tr>\n",
              "      <th>...</th>\n",
              "      <td>...</td>\n",
              "      <td>...</td>\n",
              "      <td>...</td>\n",
              "      <td>...</td>\n",
              "      <td>...</td>\n",
              "      <td>...</td>\n",
              "      <td>...</td>\n",
              "      <td>...</td>\n",
              "      <td>...</td>\n",
              "      <td>...</td>\n",
              "      <td>...</td>\n",
              "      <td>...</td>\n",
              "      <td>...</td>\n",
              "      <td>...</td>\n",
              "      <td>...</td>\n",
              "      <td>...</td>\n",
              "      <td>...</td>\n",
              "      <td>...</td>\n",
              "      <td>...</td>\n",
              "      <td>...</td>\n",
              "      <td>...</td>\n",
              "      <td>...</td>\n",
              "      <td>...</td>\n",
              "      <td>...</td>\n",
              "      <td>...</td>\n",
              "      <td>...</td>\n",
              "      <td>...</td>\n",
              "      <td>...</td>\n",
              "      <td>...</td>\n",
              "      <td>...</td>\n",
              "      <td>...</td>\n",
              "      <td>...</td>\n",
              "      <td>...</td>\n",
              "      <td>...</td>\n",
              "      <td>...</td>\n",
              "      <td>...</td>\n",
              "      <td>...</td>\n",
              "      <td>...</td>\n",
              "      <td>...</td>\n",
              "      <td>...</td>\n",
              "      <td>...</td>\n",
              "      <td>...</td>\n",
              "      <td>...</td>\n",
              "      <td>...</td>\n",
              "      <td>...</td>\n",
              "      <td>...</td>\n",
              "      <td>...</td>\n",
              "      <td>...</td>\n",
              "      <td>...</td>\n",
              "      <td>...</td>\n",
              "      <td>...</td>\n",
              "      <td>...</td>\n",
              "      <td>...</td>\n",
              "      <td>...</td>\n",
              "      <td>...</td>\n",
              "      <td>...</td>\n",
              "      <td>...</td>\n",
              "      <td>...</td>\n",
              "      <td>...</td>\n",
              "      <td>...</td>\n",
              "      <td>...</td>\n",
              "      <td>...</td>\n",
              "      <td>...</td>\n",
              "      <td>...</td>\n",
              "      <td>...</td>\n",
              "      <td>...</td>\n",
              "      <td>...</td>\n",
              "      <td>...</td>\n",
              "      <td>...</td>\n",
              "      <td>...</td>\n",
              "      <td>...</td>\n",
              "      <td>...</td>\n",
              "      <td>...</td>\n",
              "      <td>...</td>\n",
              "      <td>...</td>\n",
              "      <td>...</td>\n",
              "      <td>...</td>\n",
              "      <td>...</td>\n",
              "      <td>...</td>\n",
              "      <td>...</td>\n",
              "      <td>...</td>\n",
              "    </tr>\n",
              "    <tr>\n",
              "      <th>1018</th>\n",
              "      <td>1</td>\n",
              "      <td>23</td>\n",
              "      <td>200</td>\n",
              "      <td>88</td>\n",
              "      <td>1980</td>\n",
              "      <td>1</td>\n",
              "      <td>0</td>\n",
              "      <td>0</td>\n",
              "      <td>0</td>\n",
              "      <td>0</td>\n",
              "      <td>0</td>\n",
              "      <td>0</td>\n",
              "      <td>0</td>\n",
              "      <td>0</td>\n",
              "      <td>0</td>\n",
              "      <td>0</td>\n",
              "      <td>0</td>\n",
              "      <td>0</td>\n",
              "      <td>0</td>\n",
              "      <td>0</td>\n",
              "      <td>0</td>\n",
              "      <td>0</td>\n",
              "      <td>0</td>\n",
              "      <td>0</td>\n",
              "      <td>0</td>\n",
              "      <td>0</td>\n",
              "      <td>0</td>\n",
              "      <td>0</td>\n",
              "      <td>0</td>\n",
              "      <td>0</td>\n",
              "      <td>0</td>\n",
              "      <td>1</td>\n",
              "      <td>0</td>\n",
              "      <td>0</td>\n",
              "      <td>0</td>\n",
              "      <td>0</td>\n",
              "      <td>0</td>\n",
              "      <td>0</td>\n",
              "      <td>0</td>\n",
              "      <td>0</td>\n",
              "      <td>...</td>\n",
              "      <td>0</td>\n",
              "      <td>0</td>\n",
              "      <td>0</td>\n",
              "      <td>0</td>\n",
              "      <td>0</td>\n",
              "      <td>0</td>\n",
              "      <td>0</td>\n",
              "      <td>0</td>\n",
              "      <td>0</td>\n",
              "      <td>0</td>\n",
              "      <td>0</td>\n",
              "      <td>0</td>\n",
              "      <td>0</td>\n",
              "      <td>0</td>\n",
              "      <td>0</td>\n",
              "      <td>0</td>\n",
              "      <td>0</td>\n",
              "      <td>0</td>\n",
              "      <td>0</td>\n",
              "      <td>0</td>\n",
              "      <td>0</td>\n",
              "      <td>0</td>\n",
              "      <td>0</td>\n",
              "      <td>0</td>\n",
              "      <td>0</td>\n",
              "      <td>0</td>\n",
              "      <td>0</td>\n",
              "      <td>0</td>\n",
              "      <td>0</td>\n",
              "      <td>0</td>\n",
              "      <td>0</td>\n",
              "      <td>0</td>\n",
              "      <td>0</td>\n",
              "      <td>0</td>\n",
              "      <td>0</td>\n",
              "      <td>0</td>\n",
              "      <td>0</td>\n",
              "      <td>0</td>\n",
              "      <td>0</td>\n",
              "      <td>0</td>\n",
              "    </tr>\n",
              "    <tr>\n",
              "      <th>1019</th>\n",
              "      <td>1</td>\n",
              "      <td>24</td>\n",
              "      <td>177</td>\n",
              "      <td>71</td>\n",
              "      <td>1996</td>\n",
              "      <td>1</td>\n",
              "      <td>0</td>\n",
              "      <td>0</td>\n",
              "      <td>0</td>\n",
              "      <td>0</td>\n",
              "      <td>0</td>\n",
              "      <td>0</td>\n",
              "      <td>0</td>\n",
              "      <td>0</td>\n",
              "      <td>0</td>\n",
              "      <td>0</td>\n",
              "      <td>0</td>\n",
              "      <td>0</td>\n",
              "      <td>0</td>\n",
              "      <td>0</td>\n",
              "      <td>0</td>\n",
              "      <td>0</td>\n",
              "      <td>0</td>\n",
              "      <td>0</td>\n",
              "      <td>0</td>\n",
              "      <td>0</td>\n",
              "      <td>0</td>\n",
              "      <td>0</td>\n",
              "      <td>0</td>\n",
              "      <td>0</td>\n",
              "      <td>0</td>\n",
              "      <td>0</td>\n",
              "      <td>0</td>\n",
              "      <td>0</td>\n",
              "      <td>0</td>\n",
              "      <td>0</td>\n",
              "      <td>0</td>\n",
              "      <td>0</td>\n",
              "      <td>0</td>\n",
              "      <td>0</td>\n",
              "      <td>...</td>\n",
              "      <td>0</td>\n",
              "      <td>0</td>\n",
              "      <td>0</td>\n",
              "      <td>0</td>\n",
              "      <td>0</td>\n",
              "      <td>0</td>\n",
              "      <td>0</td>\n",
              "      <td>0</td>\n",
              "      <td>0</td>\n",
              "      <td>0</td>\n",
              "      <td>0</td>\n",
              "      <td>0</td>\n",
              "      <td>0</td>\n",
              "      <td>0</td>\n",
              "      <td>0</td>\n",
              "      <td>0</td>\n",
              "      <td>0</td>\n",
              "      <td>0</td>\n",
              "      <td>0</td>\n",
              "      <td>0</td>\n",
              "      <td>0</td>\n",
              "      <td>0</td>\n",
              "      <td>0</td>\n",
              "      <td>0</td>\n",
              "      <td>0</td>\n",
              "      <td>0</td>\n",
              "      <td>0</td>\n",
              "      <td>0</td>\n",
              "      <td>0</td>\n",
              "      <td>0</td>\n",
              "      <td>0</td>\n",
              "      <td>0</td>\n",
              "      <td>0</td>\n",
              "      <td>0</td>\n",
              "      <td>0</td>\n",
              "      <td>0</td>\n",
              "      <td>0</td>\n",
              "      <td>0</td>\n",
              "      <td>0</td>\n",
              "      <td>0</td>\n",
              "    </tr>\n",
              "    <tr>\n",
              "      <th>1020</th>\n",
              "      <td>1</td>\n",
              "      <td>15</td>\n",
              "      <td>177</td>\n",
              "      <td>64</td>\n",
              "      <td>1976</td>\n",
              "      <td>1</td>\n",
              "      <td>0</td>\n",
              "      <td>0</td>\n",
              "      <td>0</td>\n",
              "      <td>0</td>\n",
              "      <td>0</td>\n",
              "      <td>0</td>\n",
              "      <td>0</td>\n",
              "      <td>0</td>\n",
              "      <td>0</td>\n",
              "      <td>0</td>\n",
              "      <td>0</td>\n",
              "      <td>0</td>\n",
              "      <td>0</td>\n",
              "      <td>0</td>\n",
              "      <td>0</td>\n",
              "      <td>0</td>\n",
              "      <td>0</td>\n",
              "      <td>0</td>\n",
              "      <td>0</td>\n",
              "      <td>0</td>\n",
              "      <td>0</td>\n",
              "      <td>0</td>\n",
              "      <td>0</td>\n",
              "      <td>0</td>\n",
              "      <td>0</td>\n",
              "      <td>0</td>\n",
              "      <td>0</td>\n",
              "      <td>0</td>\n",
              "      <td>0</td>\n",
              "      <td>0</td>\n",
              "      <td>0</td>\n",
              "      <td>0</td>\n",
              "      <td>0</td>\n",
              "      <td>0</td>\n",
              "      <td>...</td>\n",
              "      <td>0</td>\n",
              "      <td>0</td>\n",
              "      <td>0</td>\n",
              "      <td>0</td>\n",
              "      <td>0</td>\n",
              "      <td>0</td>\n",
              "      <td>0</td>\n",
              "      <td>0</td>\n",
              "      <td>0</td>\n",
              "      <td>0</td>\n",
              "      <td>0</td>\n",
              "      <td>0</td>\n",
              "      <td>0</td>\n",
              "      <td>0</td>\n",
              "      <td>0</td>\n",
              "      <td>0</td>\n",
              "      <td>0</td>\n",
              "      <td>0</td>\n",
              "      <td>0</td>\n",
              "      <td>0</td>\n",
              "      <td>0</td>\n",
              "      <td>0</td>\n",
              "      <td>0</td>\n",
              "      <td>0</td>\n",
              "      <td>0</td>\n",
              "      <td>0</td>\n",
              "      <td>0</td>\n",
              "      <td>0</td>\n",
              "      <td>0</td>\n",
              "      <td>0</td>\n",
              "      <td>0</td>\n",
              "      <td>0</td>\n",
              "      <td>0</td>\n",
              "      <td>0</td>\n",
              "      <td>0</td>\n",
              "      <td>0</td>\n",
              "      <td>0</td>\n",
              "      <td>0</td>\n",
              "      <td>0</td>\n",
              "      <td>0</td>\n",
              "    </tr>\n",
              "    <tr>\n",
              "      <th>1021</th>\n",
              "      <td>1</td>\n",
              "      <td>15</td>\n",
              "      <td>177</td>\n",
              "      <td>64</td>\n",
              "      <td>1976</td>\n",
              "      <td>1</td>\n",
              "      <td>0</td>\n",
              "      <td>0</td>\n",
              "      <td>0</td>\n",
              "      <td>0</td>\n",
              "      <td>0</td>\n",
              "      <td>0</td>\n",
              "      <td>0</td>\n",
              "      <td>0</td>\n",
              "      <td>0</td>\n",
              "      <td>0</td>\n",
              "      <td>0</td>\n",
              "      <td>0</td>\n",
              "      <td>0</td>\n",
              "      <td>0</td>\n",
              "      <td>0</td>\n",
              "      <td>0</td>\n",
              "      <td>0</td>\n",
              "      <td>0</td>\n",
              "      <td>0</td>\n",
              "      <td>0</td>\n",
              "      <td>0</td>\n",
              "      <td>0</td>\n",
              "      <td>0</td>\n",
              "      <td>0</td>\n",
              "      <td>0</td>\n",
              "      <td>0</td>\n",
              "      <td>0</td>\n",
              "      <td>0</td>\n",
              "      <td>0</td>\n",
              "      <td>0</td>\n",
              "      <td>0</td>\n",
              "      <td>0</td>\n",
              "      <td>0</td>\n",
              "      <td>0</td>\n",
              "      <td>...</td>\n",
              "      <td>0</td>\n",
              "      <td>0</td>\n",
              "      <td>0</td>\n",
              "      <td>0</td>\n",
              "      <td>0</td>\n",
              "      <td>0</td>\n",
              "      <td>0</td>\n",
              "      <td>0</td>\n",
              "      <td>0</td>\n",
              "      <td>0</td>\n",
              "      <td>0</td>\n",
              "      <td>0</td>\n",
              "      <td>0</td>\n",
              "      <td>0</td>\n",
              "      <td>0</td>\n",
              "      <td>0</td>\n",
              "      <td>0</td>\n",
              "      <td>0</td>\n",
              "      <td>0</td>\n",
              "      <td>0</td>\n",
              "      <td>0</td>\n",
              "      <td>0</td>\n",
              "      <td>0</td>\n",
              "      <td>0</td>\n",
              "      <td>0</td>\n",
              "      <td>0</td>\n",
              "      <td>0</td>\n",
              "      <td>0</td>\n",
              "      <td>0</td>\n",
              "      <td>0</td>\n",
              "      <td>0</td>\n",
              "      <td>0</td>\n",
              "      <td>0</td>\n",
              "      <td>0</td>\n",
              "      <td>0</td>\n",
              "      <td>0</td>\n",
              "      <td>0</td>\n",
              "      <td>0</td>\n",
              "      <td>0</td>\n",
              "      <td>0</td>\n",
              "    </tr>\n",
              "    <tr>\n",
              "      <th>1022</th>\n",
              "      <td>1</td>\n",
              "      <td>19</td>\n",
              "      <td>177</td>\n",
              "      <td>64</td>\n",
              "      <td>1980</td>\n",
              "      <td>1</td>\n",
              "      <td>0</td>\n",
              "      <td>0</td>\n",
              "      <td>0</td>\n",
              "      <td>0</td>\n",
              "      <td>0</td>\n",
              "      <td>0</td>\n",
              "      <td>0</td>\n",
              "      <td>0</td>\n",
              "      <td>0</td>\n",
              "      <td>0</td>\n",
              "      <td>0</td>\n",
              "      <td>0</td>\n",
              "      <td>0</td>\n",
              "      <td>0</td>\n",
              "      <td>0</td>\n",
              "      <td>0</td>\n",
              "      <td>0</td>\n",
              "      <td>0</td>\n",
              "      <td>0</td>\n",
              "      <td>0</td>\n",
              "      <td>0</td>\n",
              "      <td>0</td>\n",
              "      <td>0</td>\n",
              "      <td>0</td>\n",
              "      <td>0</td>\n",
              "      <td>0</td>\n",
              "      <td>0</td>\n",
              "      <td>0</td>\n",
              "      <td>0</td>\n",
              "      <td>0</td>\n",
              "      <td>0</td>\n",
              "      <td>0</td>\n",
              "      <td>0</td>\n",
              "      <td>0</td>\n",
              "      <td>...</td>\n",
              "      <td>0</td>\n",
              "      <td>0</td>\n",
              "      <td>0</td>\n",
              "      <td>0</td>\n",
              "      <td>0</td>\n",
              "      <td>0</td>\n",
              "      <td>0</td>\n",
              "      <td>0</td>\n",
              "      <td>0</td>\n",
              "      <td>0</td>\n",
              "      <td>0</td>\n",
              "      <td>0</td>\n",
              "      <td>0</td>\n",
              "      <td>0</td>\n",
              "      <td>0</td>\n",
              "      <td>0</td>\n",
              "      <td>0</td>\n",
              "      <td>0</td>\n",
              "      <td>0</td>\n",
              "      <td>0</td>\n",
              "      <td>0</td>\n",
              "      <td>0</td>\n",
              "      <td>0</td>\n",
              "      <td>0</td>\n",
              "      <td>0</td>\n",
              "      <td>0</td>\n",
              "      <td>0</td>\n",
              "      <td>0</td>\n",
              "      <td>0</td>\n",
              "      <td>0</td>\n",
              "      <td>0</td>\n",
              "      <td>0</td>\n",
              "      <td>0</td>\n",
              "      <td>0</td>\n",
              "      <td>0</td>\n",
              "      <td>0</td>\n",
              "      <td>0</td>\n",
              "      <td>0</td>\n",
              "      <td>0</td>\n",
              "      <td>0</td>\n",
              "    </tr>\n",
              "  </tbody>\n",
              "</table>\n",
              "<p>1023 rows × 588 columns</p>\n",
              "</div>"
            ],
            "text/plain": [
              "      Sex  ...  E_Wrestling Men's Welterweight, Greco-Roman\n",
              "0       1  ...                                            0\n",
              "1       1  ...                                            0\n",
              "2       1  ...                                            0\n",
              "3       1  ...                                            0\n",
              "4       0  ...                                            0\n",
              "...   ...  ...                                          ...\n",
              "1018    1  ...                                            0\n",
              "1019    1  ...                                            0\n",
              "1020    1  ...                                            0\n",
              "1021    1  ...                                            0\n",
              "1022    1  ...                                            0\n",
              "\n",
              "[1023 rows x 588 columns]"
            ]
          },
          "metadata": {
            "tags": []
          },
          "execution_count": 33
        }
      ]
    },
    {
      "cell_type": "code",
      "metadata": {
        "id": "HgZ62hSlq1Zt"
      },
      "source": [
        "# Spilt data in target column and features columns\n",
        "y = data['Medal']\n",
        "X = data.drop('Medal', axis=1)"
      ],
      "execution_count": 34,
      "outputs": []
    },
    {
      "cell_type": "markdown",
      "metadata": {
        "id": "LnbY1oL2RCGA"
      },
      "source": [
        "## Feature Selection"
      ]
    },
    {
      "cell_type": "code",
      "metadata": {
        "id": "I_dx_kJx7OPK"
      },
      "source": [
        "#Apply SelectKBest and extract top 10 features\n",
        "best=SelectKBest(score_func=chi2, k=10)"
      ],
      "execution_count": 35,
      "outputs": []
    },
    {
      "cell_type": "code",
      "metadata": {
        "id": "HvL7iLHA7OoX"
      },
      "source": [
        "fit=best.fit(X,y)\n"
      ],
      "execution_count": 36,
      "outputs": []
    },
    {
      "cell_type": "code",
      "metadata": {
        "id": "uzZgxTZ17OxY"
      },
      "source": [
        "data_scores=pd.DataFrame(fit.scores_)\n",
        "data_columns=pd.DataFrame(X.columns)"
      ],
      "execution_count": 37,
      "outputs": []
    },
    {
      "cell_type": "code",
      "metadata": {
        "colab": {
          "base_uri": "https://localhost:8080/"
        },
        "id": "H8NWThk07O1o",
        "outputId": "7c597a8d-0e5c-4528-fbad-f108522ed279"
      },
      "source": [
        "#Join the two dataframes\n",
        "scores=pd.concat([data_columns,data_scores],axis=1)\n",
        "scores.columns=['Feature','Score']\n",
        "print(scores.nlargest(11,'Score'))\n"
      ],
      "execution_count": 38,
      "outputs": [
        {
          "output_type": "stream",
          "text": [
            "                                             Feature      Score\n",
            "3                                             Weight  37.606077\n",
            "56                                           T_Italy  36.976169\n",
            "172                                            N_ITA  36.976169\n",
            "476                       E_Rowing Men's Coxed Pairs  33.664149\n",
            "49                                         T_Hungary  32.245193\n",
            "164                                            N_HUN  32.245193\n",
            "319                    E_Alpine Skiing Men's Super G  24.453160\n",
            "449  E_Gymnastics Men's Team All-Around, Free System  24.401786\n",
            "298                                         S_Rowing  22.201309\n",
            "35                                           T_Egypt  21.044390\n",
            "148                                            N_EGY  21.044390\n"
          ],
          "name": "stdout"
        }
      ]
    },
    {
      "cell_type": "code",
      "metadata": {
        "colab": {
          "base_uri": "https://localhost:8080/"
        },
        "id": "MuQsNThW7O7D",
        "outputId": "f63fc619-91c0-4d7a-f45e-55262c8c9d20"
      },
      "source": [
        "#Select 10 features\n",
        "features=scores[\"Feature\"].tolist()[:10]\n",
        "features"
      ],
      "execution_count": 39,
      "outputs": [
        {
          "output_type": "execute_result",
          "data": {
            "text/plain": [
              "['Sex',\n",
              " 'Age',\n",
              " 'Height',\n",
              " 'Weight',\n",
              " 'Year',\n",
              " 'Season',\n",
              " 'T_Afghanistan',\n",
              " 'T_Algeria',\n",
              " 'T_Angola',\n",
              " 'T_Argentina']"
            ]
          },
          "metadata": {
            "tags": []
          },
          "execution_count": 39
        }
      ]
    },
    {
      "cell_type": "markdown",
      "metadata": {
        "id": "K7sRUD-gRgCc"
      },
      "source": [
        "## Make new dataset with cleaned data"
      ]
    },
    {
      "cell_type": "code",
      "metadata": {
        "colab": {
          "base_uri": "https://localhost:8080/",
          "height": 203
        },
        "id": "amgfnPgs7kJv",
        "outputId": "085a6dc5-aa61-47b7-8a32-48b73978c42f"
      },
      "source": [
        "data=data[['Age','Sex','Height','Weight','Year','Season','T_Afghanistan','T_Algeria','T_Angola','T_Argentina','Medal']]\n",
        "data.head()"
      ],
      "execution_count": 40,
      "outputs": [
        {
          "output_type": "execute_result",
          "data": {
            "text/html": [
              "<div>\n",
              "<style scoped>\n",
              "    .dataframe tbody tr th:only-of-type {\n",
              "        vertical-align: middle;\n",
              "    }\n",
              "\n",
              "    .dataframe tbody tr th {\n",
              "        vertical-align: top;\n",
              "    }\n",
              "\n",
              "    .dataframe thead th {\n",
              "        text-align: right;\n",
              "    }\n",
              "</style>\n",
              "<table border=\"1\" class=\"dataframe\">\n",
              "  <thead>\n",
              "    <tr style=\"text-align: right;\">\n",
              "      <th></th>\n",
              "      <th>Age</th>\n",
              "      <th>Sex</th>\n",
              "      <th>Height</th>\n",
              "      <th>Weight</th>\n",
              "      <th>Year</th>\n",
              "      <th>Season</th>\n",
              "      <th>T_Afghanistan</th>\n",
              "      <th>T_Algeria</th>\n",
              "      <th>T_Angola</th>\n",
              "      <th>T_Argentina</th>\n",
              "      <th>Medal</th>\n",
              "    </tr>\n",
              "  </thead>\n",
              "  <tbody>\n",
              "    <tr>\n",
              "      <th>0</th>\n",
              "      <td>24</td>\n",
              "      <td>1</td>\n",
              "      <td>180</td>\n",
              "      <td>80</td>\n",
              "      <td>1992</td>\n",
              "      <td>1</td>\n",
              "      <td>0</td>\n",
              "      <td>0</td>\n",
              "      <td>0</td>\n",
              "      <td>0</td>\n",
              "      <td>0</td>\n",
              "    </tr>\n",
              "    <tr>\n",
              "      <th>1</th>\n",
              "      <td>23</td>\n",
              "      <td>1</td>\n",
              "      <td>170</td>\n",
              "      <td>60</td>\n",
              "      <td>2012</td>\n",
              "      <td>1</td>\n",
              "      <td>0</td>\n",
              "      <td>0</td>\n",
              "      <td>0</td>\n",
              "      <td>0</td>\n",
              "      <td>0</td>\n",
              "    </tr>\n",
              "    <tr>\n",
              "      <th>2</th>\n",
              "      <td>24</td>\n",
              "      <td>1</td>\n",
              "      <td>177</td>\n",
              "      <td>73</td>\n",
              "      <td>1920</td>\n",
              "      <td>1</td>\n",
              "      <td>0</td>\n",
              "      <td>0</td>\n",
              "      <td>0</td>\n",
              "      <td>0</td>\n",
              "      <td>0</td>\n",
              "    </tr>\n",
              "    <tr>\n",
              "      <th>3</th>\n",
              "      <td>34</td>\n",
              "      <td>1</td>\n",
              "      <td>179</td>\n",
              "      <td>79</td>\n",
              "      <td>1900</td>\n",
              "      <td>1</td>\n",
              "      <td>0</td>\n",
              "      <td>0</td>\n",
              "      <td>0</td>\n",
              "      <td>0</td>\n",
              "      <td>1</td>\n",
              "    </tr>\n",
              "    <tr>\n",
              "      <th>4</th>\n",
              "      <td>21</td>\n",
              "      <td>0</td>\n",
              "      <td>185</td>\n",
              "      <td>82</td>\n",
              "      <td>1988</td>\n",
              "      <td>0</td>\n",
              "      <td>0</td>\n",
              "      <td>0</td>\n",
              "      <td>0</td>\n",
              "      <td>0</td>\n",
              "      <td>0</td>\n",
              "    </tr>\n",
              "  </tbody>\n",
              "</table>\n",
              "</div>"
            ],
            "text/plain": [
              "   Age  Sex  Height  Weight  ...  T_Algeria  T_Angola  T_Argentina  Medal\n",
              "0   24    1     180      80  ...          0         0            0      0\n",
              "1   23    1     170      60  ...          0         0            0      0\n",
              "2   24    1     177      73  ...          0         0            0      0\n",
              "3   34    1     179      79  ...          0         0            0      1\n",
              "4   21    0     185      82  ...          0         0            0      0\n",
              "\n",
              "[5 rows x 11 columns]"
            ]
          },
          "metadata": {
            "tags": []
          },
          "execution_count": 40
        }
      ]
    },
    {
      "cell_type": "code",
      "metadata": {
        "id": "XxFf_eJ28Qo4"
      },
      "source": [
        "y = data['Medal']\n",
        "X = data.drop(['Medal'], axis=1)\n",
        "\n",
        "#Split data into training and testing data\n",
        "train_x, test_x, train_y, test_y = train_test_split(X, y, test_size=0.4, random_state=1)\n"
      ],
      "execution_count": 41,
      "outputs": []
    },
    {
      "cell_type": "markdown",
      "metadata": {
        "id": "zl3u97MGR4jN"
      },
      "source": [
        "## Feature Scaling"
      ]
    },
    {
      "cell_type": "code",
      "metadata": {
        "id": "iMrc5Wcr8gBI"
      },
      "source": [
        "# Scaling data \n",
        "scaler = MinMaxScaler()\n",
        "train_x = scaler.fit_transform(train_x)\n",
        "test_x = scaler.transform(test_x)"
      ],
      "execution_count": 42,
      "outputs": []
    },
    {
      "cell_type": "markdown",
      "metadata": {
        "id": "D_1XPe4DR-py"
      },
      "source": [
        "## Predictive Modeling"
      ]
    },
    {
      "cell_type": "code",
      "metadata": {
        "colab": {
          "base_uri": "https://localhost:8080/"
        },
        "id": "b8hpiG39zeRN",
        "outputId": "df42d849-e720-4094-a2cc-c1140becaa20"
      },
      "source": [
        "m1 = 'LogisticRegression'\n",
        "lr = LogisticRegression(random_state=1, max_iter=1000)\n",
        "lr.fit(train_x, train_y)\n",
        "lr_predict = lr.predict(test_x)\n",
        "lr_conf_matrix = confusion_matrix(test_y, lr_predict)\n",
        "lr_acc_score = accuracy_score(test_y, lr_predict)\n",
        "print(\"confusion matrix\")\n",
        "print(lr_conf_matrix)\n",
        "print(\"\\n\")\n",
        "print(\"Accuracy of Logistic Regression:\",lr_acc_score*100,'\\n')\n",
        "print(classification_report(test_y,lr_predict))"
      ],
      "execution_count": 43,
      "outputs": [
        {
          "output_type": "stream",
          "text": [
            "confusion matrix\n",
            "[[359   0]\n",
            " [ 51   0]]\n",
            "\n",
            "\n",
            "Accuracy of Logistic Regression: 87.5609756097561 \n",
            "\n",
            "              precision    recall  f1-score   support\n",
            "\n",
            "           0       0.88      1.00      0.93       359\n",
            "           1       0.00      0.00      0.00        51\n",
            "\n",
            "    accuracy                           0.88       410\n",
            "   macro avg       0.44      0.50      0.47       410\n",
            "weighted avg       0.77      0.88      0.82       410\n",
            "\n"
          ],
          "name": "stdout"
        },
        {
          "output_type": "stream",
          "text": [
            "/usr/local/lib/python3.7/dist-packages/sklearn/metrics/_classification.py:1272: UndefinedMetricWarning: Precision and F-score are ill-defined and being set to 0.0 in labels with no predicted samples. Use `zero_division` parameter to control this behavior.\n",
            "  _warn_prf(average, modifier, msg_start, len(result))\n"
          ],
          "name": "stderr"
        }
      ]
    },
    {
      "cell_type": "code",
      "metadata": {
        "colab": {
          "base_uri": "https://localhost:8080/"
        },
        "id": "wvQPSxoo8493",
        "outputId": "5666d767-168a-4f33-8ec8-92adfc68e17c"
      },
      "source": [
        "m2 = 'MultinomialNB'\n",
        "nv = MultinomialNB()\n",
        "nv.fit(train_x, train_y)\n",
        "nv_predict = nv.predict(test_x)\n",
        "nv_conf_matrix = confusion_matrix(test_y, nv_predict)\n",
        "nv_acc_score = accuracy_score(test_y, nv_predict)\n",
        "print(\"confusion matrix\")\n",
        "print(nv_conf_matrix)\n",
        "print(\"\\n\")\n",
        "print(\"Accuracy of Logistic Regression:\",nv_acc_score*100,'\\n')\n",
        "print(classification_report(test_y,nv_predict))"
      ],
      "execution_count": 44,
      "outputs": [
        {
          "output_type": "stream",
          "text": [
            "confusion matrix\n",
            "[[359   0]\n",
            " [ 51   0]]\n",
            "\n",
            "\n",
            "Accuracy of Logistic Regression: 87.5609756097561 \n",
            "\n",
            "              precision    recall  f1-score   support\n",
            "\n",
            "           0       0.88      1.00      0.93       359\n",
            "           1       0.00      0.00      0.00        51\n",
            "\n",
            "    accuracy                           0.88       410\n",
            "   macro avg       0.44      0.50      0.47       410\n",
            "weighted avg       0.77      0.88      0.82       410\n",
            "\n"
          ],
          "name": "stdout"
        },
        {
          "output_type": "stream",
          "text": [
            "/usr/local/lib/python3.7/dist-packages/sklearn/metrics/_classification.py:1272: UndefinedMetricWarning: Precision and F-score are ill-defined and being set to 0.0 in labels with no predicted samples. Use `zero_division` parameter to control this behavior.\n",
            "  _warn_prf(average, modifier, msg_start, len(result))\n"
          ],
          "name": "stderr"
        }
      ]
    },
    {
      "cell_type": "code",
      "metadata": {
        "colab": {
          "base_uri": "https://localhost:8080/"
        },
        "id": "TjHe5kdSzHBN",
        "outputId": "5cfc4b8d-24d9-45fe-b661-30260d7a878f"
      },
      "source": [
        "m3 = 'DecisionTreeClassifier'\n",
        "dt = DecisionTreeClassifier(criterion = 'entropy',random_state=0,max_depth = 30)\n",
        "dt.fit(train_x,train_y)\n",
        "dt_predicted = dt.predict(test_x)\n",
        "dt_conf_matrix = confusion_matrix(test_y, dt_predicted)\n",
        "dt_acc_score = accuracy_score(test_y, dt_predicted)\n",
        "print(\"confusion matrix\")\n",
        "print(dt_conf_matrix)\n",
        "print(\"\\n\")\n",
        "print(\"Accuracy of DecisionTreeClassifier:\",dt_acc_score*100,'\\n')\n",
        "print(classification_report(test_y,dt_predicted))"
      ],
      "execution_count": 45,
      "outputs": [
        {
          "output_type": "stream",
          "text": [
            "confusion matrix\n",
            "[[339  20]\n",
            " [ 32  19]]\n",
            "\n",
            "\n",
            "Accuracy of DecisionTreeClassifier: 87.3170731707317 \n",
            "\n",
            "              precision    recall  f1-score   support\n",
            "\n",
            "           0       0.91      0.94      0.93       359\n",
            "           1       0.49      0.37      0.42        51\n",
            "\n",
            "    accuracy                           0.87       410\n",
            "   macro avg       0.70      0.66      0.68       410\n",
            "weighted avg       0.86      0.87      0.87       410\n",
            "\n"
          ],
          "name": "stdout"
        }
      ]
    },
    {
      "cell_type": "code",
      "metadata": {
        "colab": {
          "base_uri": "https://localhost:8080/"
        },
        "id": "Qs0IlU1f-WiG",
        "outputId": "b361971c-bf21-449e-d1b1-83278bf191b0"
      },
      "source": [
        "m4 = 'Random Forest Classfier'\n",
        "rf = RandomForestClassifier(n_estimators=200, random_state=0,max_depth=12)\n",
        "rf.fit(train_x,train_y)\n",
        "rf_predicted = rf.predict(test_x)\n",
        "rf_conf_matrix = confusion_matrix(test_y, rf_predicted)\n",
        "rf_acc_score = accuracy_score(test_y, rf_predicted)\n",
        "print(\"confusion matrix\")\n",
        "print(rf_conf_matrix)\n",
        "print(\"\\n\")\n",
        "print(\"Accuracy of Random Forest:\",rf_acc_score*100,'\\n')\n",
        "print(classification_report(test_y,rf_predicted))"
      ],
      "execution_count": 46,
      "outputs": [
        {
          "output_type": "stream",
          "text": [
            "confusion matrix\n",
            "[[351   8]\n",
            " [ 37  14]]\n",
            "\n",
            "\n",
            "Accuracy of Random Forest: 89.02439024390245 \n",
            "\n",
            "              precision    recall  f1-score   support\n",
            "\n",
            "           0       0.90      0.98      0.94       359\n",
            "           1       0.64      0.27      0.38        51\n",
            "\n",
            "    accuracy                           0.89       410\n",
            "   macro avg       0.77      0.63      0.66       410\n",
            "weighted avg       0.87      0.89      0.87       410\n",
            "\n"
          ],
          "name": "stdout"
        }
      ]
    },
    {
      "cell_type": "code",
      "metadata": {
        "colab": {
          "base_uri": "https://localhost:8080/"
        },
        "id": "VZ8nXmZ7-MXs",
        "outputId": "d7e90324-1b22-422f-fda4-b961c5eea09c"
      },
      "source": [
        "m5 = 'Gradient Boosting Classifier'\n",
        "gvc =  GradientBoostingClassifier()\n",
        "gvc.fit(train_x,train_y)\n",
        "gvc_predicted = gvc.predict(test_x)\n",
        "gvc_conf_matrix = confusion_matrix(test_y, gvc_predicted)\n",
        "gvc_acc_score = accuracy_score(test_y, gvc_predicted)\n",
        "print(\"confusion matrix\")\n",
        "print(gvc_conf_matrix)\n",
        "print(\"\\n\")\n",
        "print(\"Accuracy of Gradient Boosting Classifier:\",gvc_acc_score*100,'\\n')\n",
        "print(classification_report(test_y,gvc_predicted))"
      ],
      "execution_count": 47,
      "outputs": [
        {
          "output_type": "stream",
          "text": [
            "confusion matrix\n",
            "[[350   9]\n",
            " [ 38  13]]\n",
            "\n",
            "\n",
            "Accuracy of Gradient Boosting Classifier: 88.53658536585365 \n",
            "\n",
            "              precision    recall  f1-score   support\n",
            "\n",
            "           0       0.90      0.97      0.94       359\n",
            "           1       0.59      0.25      0.36        51\n",
            "\n",
            "    accuracy                           0.89       410\n",
            "   macro avg       0.75      0.61      0.65       410\n",
            "weighted avg       0.86      0.89      0.86       410\n",
            "\n"
          ],
          "name": "stdout"
        }
      ]
    },
    {
      "cell_type": "code",
      "metadata": {
        "id": "Z7iXxndH_7sj",
        "colab": {
          "base_uri": "https://localhost:8080/"
        },
        "outputId": "9103f06f-290a-446a-80f8-670d5d8ede6f"
      },
      "source": [
        "m6 = 'Neural Network'\n",
        "inputs = tf.keras.Input(shape=(X.shape[1]))\n",
        "x = tf.keras.layers.Dense(64, activation='relu')(inputs)\n",
        "x = tf.keras.layers.Dense(64, activation='relu')(x)\n",
        "outputs = tf.keras.layers.Dense(1, activation='sigmoid')(x)\n",
        "\n",
        "model = tf.keras.Model(inputs, outputs)\n",
        "\n",
        "\n",
        "model.compile(\n",
        "    optimizer='adam',\n",
        "    loss='binary_crossentropy',\n",
        "    metrics=[\n",
        "        'accuracy',\n",
        "        tf.keras.metrics.AUC(name='auc')\n",
        "    ]\n",
        ")\n",
        "\n",
        "\n",
        "history = model.fit(\n",
        "    train_x,\n",
        "    train_y,\n",
        "    validation_split=0.2,\n",
        "    batch_size=32,\n",
        "    epochs=100,\n",
        "    callbacks=[\n",
        "        tf.keras.callbacks.EarlyStopping(\n",
        "            monitor='val_loss',\n",
        "            patience=3,\n",
        "            restore_best_weights=True\n",
        "        )\n",
        "    ]\n",
        ")"
      ],
      "execution_count": 48,
      "outputs": [
        {
          "output_type": "stream",
          "text": [
            "Epoch 1/100\n",
            "16/16 [==============================] - 1s 20ms/step - loss: 0.6494 - accuracy: 0.6571 - auc: 0.4682 - val_loss: 0.5012 - val_accuracy: 0.9187 - val_auc: 0.5655\n",
            "Epoch 2/100\n",
            "16/16 [==============================] - 0s 2ms/step - loss: 0.4408 - accuracy: 0.8959 - auc: 0.4614 - val_loss: 0.3382 - val_accuracy: 0.9187 - val_auc: 0.5726\n",
            "Epoch 3/100\n",
            "16/16 [==============================] - 0s 2ms/step - loss: 0.3488 - accuracy: 0.8959 - auc: 0.4855 - val_loss: 0.2955 - val_accuracy: 0.9187 - val_auc: 0.5668\n",
            "Epoch 4/100\n",
            "16/16 [==============================] - 0s 3ms/step - loss: 0.3422 - accuracy: 0.8959 - auc: 0.4726 - val_loss: 0.2924 - val_accuracy: 0.9187 - val_auc: 0.5726\n",
            "Epoch 5/100\n",
            "16/16 [==============================] - 0s 3ms/step - loss: 0.3410 - accuracy: 0.8959 - auc: 0.4646 - val_loss: 0.2915 - val_accuracy: 0.9187 - val_auc: 0.5889\n",
            "Epoch 6/100\n",
            "16/16 [==============================] - 0s 3ms/step - loss: 0.3385 - accuracy: 0.8959 - auc: 0.4891 - val_loss: 0.2931 - val_accuracy: 0.9187 - val_auc: 0.5925\n",
            "Epoch 7/100\n",
            "16/16 [==============================] - 0s 4ms/step - loss: 0.3373 - accuracy: 0.8959 - auc: 0.4867 - val_loss: 0.2894 - val_accuracy: 0.9187 - val_auc: 0.6004\n",
            "Epoch 8/100\n",
            "16/16 [==============================] - 0s 3ms/step - loss: 0.3362 - accuracy: 0.8959 - auc: 0.4994 - val_loss: 0.2891 - val_accuracy: 0.9187 - val_auc: 0.6018\n",
            "Epoch 9/100\n",
            "16/16 [==============================] - 0s 4ms/step - loss: 0.3358 - accuracy: 0.8959 - auc: 0.4945 - val_loss: 0.2867 - val_accuracy: 0.9187 - val_auc: 0.6004\n",
            "Epoch 10/100\n",
            "16/16 [==============================] - 0s 3ms/step - loss: 0.3341 - accuracy: 0.8959 - auc: 0.5071 - val_loss: 0.2848 - val_accuracy: 0.9187 - val_auc: 0.6128\n",
            "Epoch 11/100\n",
            "16/16 [==============================] - 0s 3ms/step - loss: 0.3328 - accuracy: 0.8959 - auc: 0.5214 - val_loss: 0.2840 - val_accuracy: 0.9187 - val_auc: 0.6177\n",
            "Epoch 12/100\n",
            "16/16 [==============================] - 0s 2ms/step - loss: 0.3316 - accuracy: 0.8959 - auc: 0.5322 - val_loss: 0.2828 - val_accuracy: 0.9187 - val_auc: 0.6270\n",
            "Epoch 13/100\n",
            "16/16 [==============================] - 0s 2ms/step - loss: 0.3341 - accuracy: 0.8959 - auc: 0.5168 - val_loss: 0.2834 - val_accuracy: 0.9187 - val_auc: 0.6403\n",
            "Epoch 14/100\n",
            "16/16 [==============================] - 0s 2ms/step - loss: 0.3332 - accuracy: 0.8959 - auc: 0.5201 - val_loss: 0.2780 - val_accuracy: 0.9187 - val_auc: 0.6442\n",
            "Epoch 15/100\n",
            "16/16 [==============================] - 0s 3ms/step - loss: 0.3280 - accuracy: 0.8959 - auc: 0.5818 - val_loss: 0.2797 - val_accuracy: 0.9187 - val_auc: 0.6712\n",
            "Epoch 16/100\n",
            "16/16 [==============================] - 0s 3ms/step - loss: 0.3300 - accuracy: 0.8959 - auc: 0.5688 - val_loss: 0.2786 - val_accuracy: 0.9187 - val_auc: 0.6593\n",
            "Epoch 17/100\n",
            "16/16 [==============================] - 0s 2ms/step - loss: 0.3272 - accuracy: 0.8959 - auc: 0.6020 - val_loss: 0.2773 - val_accuracy: 0.9187 - val_auc: 0.6898\n",
            "Epoch 18/100\n",
            "16/16 [==============================] - 0s 3ms/step - loss: 0.3265 - accuracy: 0.8959 - auc: 0.6016 - val_loss: 0.2747 - val_accuracy: 0.9187 - val_auc: 0.7199\n",
            "Epoch 19/100\n",
            "16/16 [==============================] - 0s 3ms/step - loss: 0.3258 - accuracy: 0.8959 - auc: 0.6099 - val_loss: 0.2782 - val_accuracy: 0.9187 - val_auc: 0.7204\n",
            "Epoch 20/100\n",
            "16/16 [==============================] - 0s 3ms/step - loss: 0.3262 - accuracy: 0.8959 - auc: 0.5990 - val_loss: 0.2718 - val_accuracy: 0.9187 - val_auc: 0.7097\n",
            "Epoch 21/100\n",
            "16/16 [==============================] - 0s 3ms/step - loss: 0.3241 - accuracy: 0.8959 - auc: 0.6374 - val_loss: 0.2747 - val_accuracy: 0.9187 - val_auc: 0.7465\n",
            "Epoch 22/100\n",
            "16/16 [==============================] - 0s 4ms/step - loss: 0.3232 - accuracy: 0.8959 - auc: 0.6511 - val_loss: 0.2704 - val_accuracy: 0.9187 - val_auc: 0.7341\n",
            "Epoch 23/100\n",
            "16/16 [==============================] - 0s 2ms/step - loss: 0.3247 - accuracy: 0.8959 - auc: 0.6270 - val_loss: 0.2690 - val_accuracy: 0.9187 - val_auc: 0.7615\n",
            "Epoch 24/100\n",
            "16/16 [==============================] - 0s 3ms/step - loss: 0.3257 - accuracy: 0.8959 - auc: 0.6346 - val_loss: 0.2753 - val_accuracy: 0.9187 - val_auc: 0.7642\n",
            "Epoch 25/100\n",
            "16/16 [==============================] - 0s 2ms/step - loss: 0.3271 - accuracy: 0.8959 - auc: 0.6020 - val_loss: 0.2687 - val_accuracy: 0.9187 - val_auc: 0.7412\n",
            "Epoch 26/100\n",
            "16/16 [==============================] - 0s 2ms/step - loss: 0.3205 - accuracy: 0.8959 - auc: 0.6585 - val_loss: 0.2726 - val_accuracy: 0.9187 - val_auc: 0.7575\n",
            "Epoch 27/100\n",
            "16/16 [==============================] - 0s 2ms/step - loss: 0.3190 - accuracy: 0.8959 - auc: 0.6940 - val_loss: 0.2701 - val_accuracy: 0.9187 - val_auc: 0.7699\n",
            "Epoch 28/100\n",
            "16/16 [==============================] - 0s 2ms/step - loss: 0.3187 - accuracy: 0.8959 - auc: 0.6897 - val_loss: 0.2678 - val_accuracy: 0.9187 - val_auc: 0.7566\n",
            "Epoch 29/100\n",
            "16/16 [==============================] - 0s 2ms/step - loss: 0.3192 - accuracy: 0.8959 - auc: 0.6757 - val_loss: 0.2710 - val_accuracy: 0.9187 - val_auc: 0.7726\n",
            "Epoch 30/100\n",
            "16/16 [==============================] - 0s 2ms/step - loss: 0.3177 - accuracy: 0.8959 - auc: 0.6827 - val_loss: 0.2672 - val_accuracy: 0.9187 - val_auc: 0.7668\n",
            "Epoch 31/100\n",
            "16/16 [==============================] - 0s 2ms/step - loss: 0.3181 - accuracy: 0.8959 - auc: 0.6843 - val_loss: 0.2700 - val_accuracy: 0.9187 - val_auc: 0.7779\n",
            "Epoch 32/100\n",
            "16/16 [==============================] - 0s 2ms/step - loss: 0.3163 - accuracy: 0.8959 - auc: 0.6926 - val_loss: 0.2674 - val_accuracy: 0.9187 - val_auc: 0.7761\n",
            "Epoch 33/100\n",
            "16/16 [==============================] - 0s 2ms/step - loss: 0.3146 - accuracy: 0.8959 - auc: 0.7120 - val_loss: 0.2696 - val_accuracy: 0.9187 - val_auc: 0.7757\n"
          ],
          "name": "stdout"
        }
      ]
    },
    {
      "cell_type": "code",
      "metadata": {
        "colab": {
          "base_uri": "https://localhost:8080/"
        },
        "id": "95v3vzdcG-sP",
        "outputId": "95aaea92-c540-414e-c9f1-325b92ab17f8"
      },
      "source": [
        "model.evaluate(test_x, test_y)"
      ],
      "execution_count": 49,
      "outputs": [
        {
          "output_type": "stream",
          "text": [
            "13/13 [==============================] - 0s 1ms/step - loss: 0.3665 - accuracy: 0.8756 - auc: 0.6198\n"
          ],
          "name": "stdout"
        },
        {
          "output_type": "execute_result",
          "data": {
            "text/plain": [
              "[0.3665231466293335, 0.8756097555160522, 0.6198045015335083]"
            ]
          },
          "metadata": {
            "tags": []
          },
          "execution_count": 49
        }
      ]
    },
    {
      "cell_type": "code",
      "metadata": {
        "id": "VfNCQ5piHFIr"
      },
      "source": [
        "y_true = np.array(test_y)\n",
        "y_pred = np.squeeze(np.array(model.predict(test_x) >= 0.5, dtype=np.int))"
      ],
      "execution_count": 50,
      "outputs": []
    },
    {
      "cell_type": "code",
      "metadata": {
        "id": "IM43qwX3AZ82",
        "colab": {
          "base_uri": "https://localhost:8080/"
        },
        "outputId": "b1df02d1-03af-423d-e9f5-b1b6aa084c49"
      },
      "source": [
        "nn_conf_matrix = confusion_matrix(y_true, y_pred)\n",
        "nn_acc_score = accuracy_score(y_true, y_pred)\n",
        "print(\"confusion matrix\")\n",
        "print(gvc_conf_matrix)\n",
        "print(\"\\n\")\n",
        "print(\"Accuracy of Neural Network:\",nn_acc_score*100,'\\n')\n",
        "print(classification_report(y_true, y_pred))"
      ],
      "execution_count": 51,
      "outputs": [
        {
          "output_type": "stream",
          "text": [
            "confusion matrix\n",
            "[[350   9]\n",
            " [ 38  13]]\n",
            "\n",
            "\n",
            "Accuracy of Neural Network: 87.5609756097561 \n",
            "\n",
            "              precision    recall  f1-score   support\n",
            "\n",
            "           0       0.88      1.00      0.93       359\n",
            "           1       0.00      0.00      0.00        51\n",
            "\n",
            "    accuracy                           0.88       410\n",
            "   macro avg       0.44      0.50      0.47       410\n",
            "weighted avg       0.77      0.88      0.82       410\n",
            "\n"
          ],
          "name": "stdout"
        },
        {
          "output_type": "stream",
          "text": [
            "/usr/local/lib/python3.7/dist-packages/sklearn/metrics/_classification.py:1272: UndefinedMetricWarning: Precision and F-score are ill-defined and being set to 0.0 in labels with no predicted samples. Use `zero_division` parameter to control this behavior.\n",
            "  _warn_prf(average, modifier, msg_start, len(result))\n"
          ],
          "name": "stderr"
        }
      ]
    },
    {
      "cell_type": "markdown",
      "metadata": {
        "id": "Wh4CcToOSMk5"
      },
      "source": [
        "## Model Evaluation"
      ]
    },
    {
      "cell_type": "code",
      "metadata": {
        "colab": {
          "base_uri": "https://localhost:8080/",
          "height": 234
        },
        "id": "0E6sUgZ_HVUt",
        "outputId": "617429ca-0633-409f-db69-95fc707effa3"
      },
      "source": [
        "model_ev = pd.DataFrame({'Model': ['Logistic Regression','MultinomialNB','Decision Tree','Random Forest',\n",
        "                                  'Gradient Boosting','Neural Network'], \n",
        "                         'Accuracy': [lr_acc_score*100, nv_acc_score*100, dt_acc_score*100, rf_acc_score*100,gvc_acc_score*100,\n",
        "                                      nn_acc_score*100]})\n",
        "model_ev"
      ],
      "execution_count": 52,
      "outputs": [
        {
          "output_type": "execute_result",
          "data": {
            "text/html": [
              "<div>\n",
              "<style scoped>\n",
              "    .dataframe tbody tr th:only-of-type {\n",
              "        vertical-align: middle;\n",
              "    }\n",
              "\n",
              "    .dataframe tbody tr th {\n",
              "        vertical-align: top;\n",
              "    }\n",
              "\n",
              "    .dataframe thead th {\n",
              "        text-align: right;\n",
              "    }\n",
              "</style>\n",
              "<table border=\"1\" class=\"dataframe\">\n",
              "  <thead>\n",
              "    <tr style=\"text-align: right;\">\n",
              "      <th></th>\n",
              "      <th>Model</th>\n",
              "      <th>Accuracy</th>\n",
              "    </tr>\n",
              "  </thead>\n",
              "  <tbody>\n",
              "    <tr>\n",
              "      <th>0</th>\n",
              "      <td>Logistic Regression</td>\n",
              "      <td>87.560976</td>\n",
              "    </tr>\n",
              "    <tr>\n",
              "      <th>1</th>\n",
              "      <td>MultinomialNB</td>\n",
              "      <td>87.560976</td>\n",
              "    </tr>\n",
              "    <tr>\n",
              "      <th>2</th>\n",
              "      <td>Decision Tree</td>\n",
              "      <td>87.317073</td>\n",
              "    </tr>\n",
              "    <tr>\n",
              "      <th>3</th>\n",
              "      <td>Random Forest</td>\n",
              "      <td>89.024390</td>\n",
              "    </tr>\n",
              "    <tr>\n",
              "      <th>4</th>\n",
              "      <td>Gradient Boosting</td>\n",
              "      <td>88.536585</td>\n",
              "    </tr>\n",
              "    <tr>\n",
              "      <th>5</th>\n",
              "      <td>Neural Network</td>\n",
              "      <td>87.560976</td>\n",
              "    </tr>\n",
              "  </tbody>\n",
              "</table>\n",
              "</div>"
            ],
            "text/plain": [
              "                 Model   Accuracy\n",
              "0  Logistic Regression  87.560976\n",
              "1        MultinomialNB  87.560976\n",
              "2        Decision Tree  87.317073\n",
              "3        Random Forest  89.024390\n",
              "4    Gradient Boosting  88.536585\n",
              "5       Neural Network  87.560976"
            ]
          },
          "metadata": {
            "tags": []
          },
          "execution_count": 52
        }
      ]
    },
    {
      "cell_type": "markdown",
      "metadata": {
        "id": "ZZtJLVdxSZ2L"
      },
      "source": [
        "## Final Random Forest Classifier Model\n"
      ]
    },
    {
      "cell_type": "code",
      "metadata": {
        "colab": {
          "base_uri": "https://localhost:8080/"
        },
        "id": "RUmwAP-lH7IF",
        "outputId": "dfe3a3a2-06e6-46f8-c6c0-5aba674987c6"
      },
      "source": [
        "model = RandomForestClassifier(n_estimators=200, random_state=0,max_depth=12)\n",
        "model.fit(train_x,train_y)\n",
        "predicted = model.predict(test_x)\n",
        "accuracy = accuracy_score(test_y, rf_predicted)\n",
        "print(\"Accuracy of Random Forest:\",accuracy*100,'\\n')\n"
      ],
      "execution_count": 53,
      "outputs": [
        {
          "output_type": "stream",
          "text": [
            "Accuracy of Random Forest: 89.02439024390245 \n",
            "\n"
          ],
          "name": "stdout"
        }
      ]
    },
    {
      "cell_type": "markdown",
      "metadata": {
        "id": "3P3LCXnSSf9z"
      },
      "source": [
        "## Conclusion\n",
        "Random Forest Classifier Model performs best among all models"
      ]
    }
  ]
}
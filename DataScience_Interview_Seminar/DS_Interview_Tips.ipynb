{
 "cells": [
  {
   "cell_type": "code",
   "execution_count": 3,
   "metadata": {
    "slideshow": {
     "slide_type": "skip"
    }
   },
   "outputs": [
    {
     "data": {
      "text/html": [
       "\n",
       "\n",
       "<style>\n",
       "\n",
       ".rendered_html {\n",
       "    font-family: \"Times New Roman\";\n",
       "    font-size: 150%;\n",
       "    line-height: 1.5;\n",
       "    //background-image: url(\"https://raw.githubusercontent.com/jalajthanaki/Get_Jobs_in_Data_Science/master/imgs/logo1.jpeg\");\n",
       "    //background-size: 5%;\n",
       "    //background-repeat: no-repeat;\n",
       "    //background-position: 1% 100%;\n",
       "    \n",
       "}\n",
       "\n",
       ".rendered_html h1 {\n",
       "    margin: 0.25em 0em 0.5em;\n",
       "    color: #015C9C;\n",
       "    text-align: center;\n",
       "    line-height: 1.2; \n",
       "    page-break-before: always;\n",
       "}\n",
       "\n",
       ".rendered_html h2 {\n",
       "    margin: 1.1em 0em 0.5em;\n",
       "    color: #26465D;\n",
       "    text-align:center;\n",
       "    line-height: 1.2;\n",
       "}\n",
       "\n",
       ".rendered_html h3 {\n",
       "    margin: 1.1em 0em 0.5em;\n",
       "    color: #002845;\n",
       "    text-align:center;\n",
       "    line-height: 1.2;\n",
       "}\n",
       "\n",
       ".rendered_html h4 {\n",
       "    margin: 1.1em 0em 0.5em;\n",
       "    color: #002845;\n",
       "    text-align:center;\n",
       "    line-height: 1.0;\n",
       "}\n",
       "\n",
       ".rendered_html li {\n",
       "    line-height: 1.5; \n",
       "}\n",
       "\n",
       ".prompt {\n",
       "    font-size: 120%; \n",
       "}\n",
       "\n",
       ".CodeMirror-lines {\n",
       "    font-size: 120%; \n",
       "}\n",
       "\n",
       ".output_area {\n",
       "    font-size: 120%; \n",
       "}\n",
       "\n",
       "#notebook {\n",
       "    background-image: url('files/images/witewall_3.png');\n",
       "    \n",
       "}\n",
       "\n",
       "h1.bigtitle {\n",
       "    margin: 4cm 1cm 4cm 1cm;\n",
       "    font-size: 300%;\n",
       "}\n",
       "\n",
       "h3.point {\n",
       "    font-size: 200%;\n",
       "    text-align: center;\n",
       "    margin: 2em 0em 2em 0em;\n",
       "    #26465D\n",
       "}\n",
       "\n",
       ".logo {\n",
       "    margin: 20px 0 20px 0;\n",
       "}\n",
       "\n",
       "a.anchor-link {\n",
       "    display: none;\n",
       "}\n",
       "\n",
       "h1.title { \n",
       "    font-size: 250%;\n",
       "    \n",
       "}\n",
       "\n",
       "\n",
       "\n",
       "</style>\n"
      ],
      "text/plain": [
       "<IPython.core.display.HTML object>"
      ]
     },
     "metadata": {},
     "output_type": "display_data"
    }
   ],
   "source": [
    "\n",
    "from IPython.display import display, HTML\n",
    "s = \"\"\"\n",
    "\n",
    "<style>\n",
    "\n",
    ".rendered_html {\n",
    "    font-family: \"Times New Roman\";\n",
    "    font-size: 150%;\n",
    "    line-height: 1.5;\n",
    "    //background-image: url(\"https://raw.githubusercontent.com/jalajthanaki/Get_Jobs_in_Data_Science/master/imgs/logo1.jpeg\");\n",
    "    //background-size: 5%;\n",
    "    //background-repeat: no-repeat;\n",
    "    //background-position: 1% 100%;\n",
    "    \n",
    "}\n",
    "\n",
    ".rendered_html h1 {\n",
    "    margin: 0.25em 0em 0.5em;\n",
    "    color: #015C9C;\n",
    "    text-align: center;\n",
    "    line-height: 1.2; \n",
    "    page-break-before: always;\n",
    "}\n",
    "\n",
    ".rendered_html h2 {\n",
    "    margin: 1.1em 0em 0.5em;\n",
    "    color: #26465D;\n",
    "    text-align:center;\n",
    "    line-height: 1.2;\n",
    "}\n",
    "\n",
    ".rendered_html h3 {\n",
    "    margin: 1.1em 0em 0.5em;\n",
    "    color: #002845;\n",
    "    text-align:center;\n",
    "    line-height: 1.2;\n",
    "}\n",
    "\n",
    ".rendered_html h4 {\n",
    "    margin: 1.1em 0em 0.5em;\n",
    "    color: #002845;\n",
    "    text-align:center;\n",
    "    line-height: 1.0;\n",
    "}\n",
    "\n",
    ".rendered_html li {\n",
    "    line-height: 1.5; \n",
    "}\n",
    "\n",
    ".prompt {\n",
    "    font-size: 120%; \n",
    "}\n",
    "\n",
    ".CodeMirror-lines {\n",
    "    font-size: 120%; \n",
    "}\n",
    "\n",
    ".output_area {\n",
    "    font-size: 120%; \n",
    "}\n",
    "\n",
    "#notebook {\n",
    "    background-image: url('files/images/witewall_3.png');\n",
    "    \n",
    "}\n",
    "\n",
    "h1.bigtitle {\n",
    "    margin: 4cm 1cm 4cm 1cm;\n",
    "    font-size: 300%;\n",
    "}\n",
    "\n",
    "h3.point {\n",
    "    font-size: 200%;\n",
    "    text-align: center;\n",
    "    margin: 2em 0em 2em 0em;\n",
    "    #26465D\n",
    "}\n",
    "\n",
    ".logo {\n",
    "    margin: 20px 0 20px 0;\n",
    "}\n",
    "\n",
    "a.anchor-link {\n",
    "    display: none;\n",
    "}\n",
    "\n",
    "h1.title { \n",
    "    font-size: 250%;\n",
    "    \n",
    "}\n",
    "\n",
    "\n",
    "\n",
    "</style>\n",
    "\"\"\"\n",
    "\n",
    "display(HTML(s))"
   ]
  },
  {
   "cell_type": "markdown",
   "metadata": {
    "slideshow": {
     "slide_type": "slide"
    }
   },
   "source": [
    "# Unriddle Data Science Interview Process"
   ]
  },
  {
   "cell_type": "markdown",
   "metadata": {
    "slideshow": {
     "slide_type": "slide"
    }
   },
   "source": [
    "## Outline\n",
    "\n",
    "* Sub-domains in Data Science\n",
    "* Much needed ingredient: skill-set\n",
    "* Let's align: Skill-set and Job Roles\n",
    "* Acquire skill-set: Schedule and Projects\n",
    "* Dilemma: Certification or Projects\n",
    "* General Interview Process\n",
    "* FAQs in interview\n",
    "    * Topics\n",
    "* Tips and Trick for ML applications\n",
    "    * Discussion: Data points\n",
    "    * Chosse the right ML algorithm\n",
    "    * Architecture / System Design\n",
    "    * Big-Data Frameworks – needed or not?\n",
    "* Communication and Storytelling\n",
    "* General Tips\n",
    "    * Resume\n",
    "    * Use Social-Media platform\n",
    "* Handel: Out-of-the-box or odd questions\n",
    "* Learning Resources\n",
    "* Open house Q/A"
   ]
  },
  {
   "cell_type": "markdown",
   "metadata": {
    "slideshow": {
     "slide_type": "slide"
    }
   },
   "source": [
    "## Sub-domains in Data Science\n",
    "\n",
    "\n",
    "<img src=\"https://raw.githubusercontent.com/jalajthanaki/Get_Jobs_in_Data_Science/master/imgs/Figure_5.png\" \n",
    "align=\"middle\" alt=\"Image_5\" data-canonical-src=\"\" style=\"width:50%;height:50%\">"
   ]
  },
  {
   "cell_type": "markdown",
   "metadata": {
    "slideshow": {
     "slide_type": "slide"
    }
   },
   "source": [
    "## Much needed ingredient: skill-set\n",
    "\n",
    "\n",
    "### Basic Skills\n",
    "* How to search on Google: \"Google is your Friend...!\"\n",
    "* OS: Linux \n",
    "* Math skills\n",
    "\n",
    "    * Basic concepts of Linear Algebra\n",
    "    * Basic concepts of Statistics / Probability\n",
    "    * Basic concepts of Calculus\n",
    "    \n",
    "* Programing Skills\n",
    "    \n",
    "    * Basic concepts of (C++ or Java) and (Python or R)\n",
    "    * Basic concepts of Data Structure and ALgorithms\n",
    "\n",
    "* Data-base:\n",
    "    \n",
    "    * SQL (CURD, filtering, Aggrigation, Sorting, grouping, joins )\n",
    "    * Any structure data bases : Oracle, MySQL and so on...\n",
    "\n"
   ]
  },
  {
   "cell_type": "markdown",
   "metadata": {
    "slideshow": {
     "slide_type": "subslide"
    }
   },
   "source": [
    "## Much needed ingredient: skill-set\n",
    "\n",
    "\n",
    "### Basic Skills\n",
    "\n",
    "* Basic Programming Libraries\n",
    "\n",
    "    * Numpy / Scipy - Scientific Calculation libraries\n",
    "    * Pandas - For data manipulation\n",
    "    * Matplotlib - For data visualization\n",
    "    * GitHub - For version control / Code management \n",
    "    \n",
    "* Visualization \n",
    "* Story-telling"
   ]
  },
  {
   "cell_type": "markdown",
   "metadata": {
    "slideshow": {
     "slide_type": "slide"
    }
   },
   "source": [
    "## Much needed ingredient: skill-set\n",
    "\n",
    "\n",
    "### Intermediate\n",
    " \n",
    "* Math Skills\n",
    "    * Intermediate concepts of Linear ALgebra\n",
    "    * Intermediate concepts of Statistics / Probability\n",
    "    * Intermediate concepts of Calculus\n",
    "\n",
    "* Programing Skills\n",
    "    * Object oriented concepts of Python\n",
    "    * Unit Test Cases in python\n",
    "\n",
    "* NoSql Databases\n",
    "    * MongoDB\n",
    "    * Cassendra\n",
    "\n",
    "\n"
   ]
  },
  {
   "cell_type": "markdown",
   "metadata": {
    "slideshow": {
     "slide_type": "subslide"
    }
   },
   "source": [
    "\n",
    "## Much needed ingredient: skill-set\n",
    "\n",
    "\n",
    "### Intermediate\n",
    "\n",
    "* ML Skills\n",
    "    * Understand basics of ML algorithms\n",
    "    * Learn about Exploratory Data Analysis (EDA) via small projects\n",
    "    * Implementation of ML algorithms:  Scikit-Learn or Numpy\n",
    "    * Basic about Feature Engineering and Feature Selection\n",
    "\n",
    "* DS Sub-domain specific skiils\n",
    "    * NLP\n",
    "        * Algorithms for NLP\n",
    "        * linguistic\n",
    "        * NLP libraries\n",
    "        \n",
    "    * Computer Vision\n",
    "        * Algorithms for CV\n",
    "        * CV libraries"
   ]
  },
  {
   "cell_type": "markdown",
   "metadata": {
    "slideshow": {
     "slide_type": "slide"
    }
   },
   "source": [
    "## Much needed ingredient: skill-set\n",
    "\n",
    "\n",
    "### Advance\n",
    "\n",
    "\n",
    "* Math Skills\n",
    "    * Advance statistical techniques\n",
    "    * Concepts of Information Theory\n",
    "* Programming Skill\n",
    "    * Design Pattern\n",
    "* ML optimization\n",
    "    * Feature Engineering\n",
    "    * Hyper Parameter Tunning\n",
    "    * AutoML\n",
    "    * Start with DL\n",
    "        * Understand various DL algorithms\n",
    "        * Implement DL algos using libraries like TensorFLow and PyTorch\n"
   ]
  },
  {
   "cell_type": "markdown",
   "metadata": {
    "slideshow": {
     "slide_type": "subslide"
    }
   },
   "source": [
    "## Much needed ingredient: skill-set\n",
    "\n",
    "\n",
    "### Advance\n",
    "\n",
    "\n",
    "* Cloud Platform\n",
    "    * AWS\n",
    "    * Google Cloud\n",
    "    \n",
    "* Big data toolkit\n",
    "    * Haddop\n",
    "    * Spark\n",
    "    * Flink\n",
    "    * Flume"
   ]
  },
  {
   "cell_type": "markdown",
   "metadata": {
    "slideshow": {
     "slide_type": "slide"
    }
   },
   "source": [
    "# Let's align: Skill-set and Job Roles"
   ]
  },
  {
   "cell_type": "markdown",
   "metadata": {
    "slideshow": {
     "slide_type": "subslide"
    }
   },
   "source": [
    "<img src=\"https://raw.githubusercontent.com/jalajthanaki/Get_Jobs_in_Data_Science/master/imgs/Figure_6.jpg\" \n",
    "align=\"middle\" alt=\"Image_6\" data-canonical-src=\"\" style=\"width:100%;height:100%\">"
   ]
  },
  {
   "cell_type": "markdown",
   "metadata": {
    "slideshow": {
     "slide_type": "subslide"
    }
   },
   "source": [
    "<img src=\"https://raw.githubusercontent.com/jalajthanaki/Get_Jobs_in_Data_Science/master/imgs/Figure_7.jpg\" \n",
    "align=\"middle\" alt=\"Image_7\" data-canonical-src=\"\" style=\"width:100%;height:100%\">"
   ]
  },
  {
   "cell_type": "markdown",
   "metadata": {
    "slideshow": {
     "slide_type": "subslide"
    }
   },
   "source": [
    "<img src=\"https://raw.githubusercontent.com/jalajthanaki/Get_Jobs_in_Data_Science/master/imgs/Figure_8.jpg\" \n",
    "align=\"middle\" alt=\"Image_8\" data-canonical-src=\"\" style=\"width:100%;height:100%\">"
   ]
  },
  {
   "cell_type": "markdown",
   "metadata": {
    "slideshow": {
     "slide_type": "subslide"
    }
   },
   "source": [
    "<img src=\"https://raw.githubusercontent.com/jalajthanaki/Get_Jobs_in_Data_Science/master/imgs/Figure_9.jpg\" \n",
    "align=\"middle\" alt=\"Image_9\" data-canonical-src=\"\" style=\"width:100%;height:100%\">"
   ]
  },
  {
   "cell_type": "markdown",
   "metadata": {
    "slideshow": {
     "slide_type": "subslide"
    }
   },
   "source": [
    "<img src=\"https://raw.githubusercontent.com/jalajthanaki/Get_Jobs_in_Data_Science/master/imgs/Figure_10.jpg\" \n",
    "align=\"middle\" alt=\"Image_10\" data-canonical-src=\"\" style=\"width:100%;height:100%\">"
   ]
  },
  {
   "cell_type": "markdown",
   "metadata": {
    "slideshow": {
     "slide_type": "subslide"
    }
   },
   "source": [
    "<img src=\"https://raw.githubusercontent.com/jalajthanaki/Get_Jobs_in_Data_Science/master/imgs/Figure_11.jpg\" \n",
    "align=\"middle\" alt=\"Image_11\" data-canonical-src=\"\" style=\"width:100%;height:100%\">\n"
   ]
  },
  {
   "cell_type": "markdown",
   "metadata": {
    "slideshow": {
     "slide_type": "subslide"
    }
   },
   "source": [
    "<img src=\"https://raw.githubusercontent.com/jalajthanaki/Get_Jobs_in_Data_Science/master/imgs/Figure_14.png\" \n",
    "align=\"middle\" alt=\"Image_14\" data-canonical-src=\"\" style=\"width:100%;height:100%\">"
   ]
  },
  {
   "cell_type": "markdown",
   "metadata": {
    "slideshow": {
     "slide_type": "slide"
    }
   },
   "source": [
    "## Acquire skill-set: Schedule and Projects\n"
   ]
  },
  {
   "cell_type": "markdown",
   "metadata": {
    "slideshow": {
     "slide_type": "subslide"
    }
   },
   "source": [
    "<img src=\"https://raw.githubusercontent.com/jalajthanaki/Get_Jobs_in_Data_Science/master/imgs/Figure_15.png\" \n",
    "align=\"middle\" alt=\"Image_15\" data-canonical-src=\"\" style=\"width:80%;height:80%\">"
   ]
  },
  {
   "cell_type": "markdown",
   "metadata": {
    "slideshow": {
     "slide_type": "subslide"
    }
   },
   "source": [
    "<img src=\"https://raw.githubusercontent.com/jalajthanaki/Get_Jobs_in_Data_Science/master/imgs/Figure_16.png\" \n",
    "align=\"middle\" alt=\"Image_16\" data-canonical-src=\"\" style=\"width:80%;height:80%\">"
   ]
  },
  {
   "cell_type": "markdown",
   "metadata": {
    "slideshow": {
     "slide_type": "subslide"
    }
   },
   "source": [
    "<img src=\"https://raw.githubusercontent.com/jalajthanaki/Get_Jobs_in_Data_Science/master/imgs/Figure_17.png\" \n",
    "align=\"middle\" alt=\"Image_17\" data-canonical-src=\"\" style=\"width:80%;height:80%\">"
   ]
  },
  {
   "cell_type": "markdown",
   "metadata": {
    "slideshow": {
     "slide_type": "subslide"
    }
   },
   "source": [
    "<img src=\"https://raw.githubusercontent.com/jalajthanaki/Get_Jobs_in_Data_Science/master/imgs/Figure_18.png\" \n",
    "align=\"middle\" alt=\"Image_18\" data-canonical-src=\"\" style=\"width:80%;height:80%\">"
   ]
  },
  {
   "cell_type": "markdown",
   "metadata": {
    "slideshow": {
     "slide_type": "subslide"
    }
   },
   "source": [
    "## Revision Before Interview\n",
    "\n",
    "![title](imgs/Figure_19.png)"
   ]
  },
  {
   "cell_type": "markdown",
   "metadata": {
    "slideshow": {
     "slide_type": "subslide"
    }
   },
   "source": [
    "### Example Projects\n",
    "\n",
    "* __Analytics__\n",
    "\n",
    "    * Market Segmentation\n",
    "    * Credit Risk Modeling\n",
    "    * Sales Prediction / Time Series Analysis\n",
    "\n",
    "* __NLP__\n",
    "\n",
    "    * Sentiment Analysis\n",
    "    * Summarization\n",
    "    * Chatbot\n",
    "\n",
    "* __Computer Vision__\n",
    "\n",
    "    * OCR Tools\n",
    "    * Digit Recognition\n",
    "    * Object Detection\n",
    "    * Face Recognition\n",
    "    "
   ]
  },
  {
   "cell_type": "markdown",
   "metadata": {
    "slideshow": {
     "slide_type": "slide"
    }
   },
   "source": [
    "## Dilemma: Certification or Projects\n",
    "\n",
    "**Certification**\n",
    "\n",
    "* Important to acquire skill-set over certification\n",
    "* Certification provide you credibility and motivation\n",
    "\n",
    "**Projects**\n",
    "\n",
    "* Give you hands-on experience\n",
    "* Give you much more details about theoretical concepts"
   ]
  },
  {
   "cell_type": "markdown",
   "metadata": {
    "slideshow": {
     "slide_type": "slide"
    }
   },
   "source": [
    "## General Hiring Process\n",
    "\n",
    "* Really Company Specific\n",
    "\n",
    "* __General Process - when you apply for the job__\n",
    "    * Basic HR Screening\n",
    "    * Coding Interview \n",
    "    * ML/DL Interview\n",
    "    * Small Toy project\n",
    "    * Final round / Managerial round\n",
    "    * Get offer\n",
    "    \n",
    "* __General Process - Mass recruitment__\n",
    "    * Aptitude Test\n",
    "    * Coding Test\n",
    "    * Coding Interviews \n",
    "        * Number of round 1 to 4\n",
    "        * 30 mins to 1.5 Hour / Each round\n",
    "    * ML/DL Interview\n",
    "    * Final round / Managerial round\n",
    "    * HR Interview\n",
    "    * Get Offer\n",
    "    "
   ]
  },
  {
   "cell_type": "markdown",
   "metadata": {
    "slideshow": {
     "slide_type": "slide"
    }
   },
   "source": [
    "## FAQs in interview\n",
    "\n",
    "### Topics\n",
    "\n",
    "\n",
    "* Computer Science Basics\n",
    "    * OOPS concepts\n",
    "    * Coding skills - White-board programming\n",
    "        * Coding problem\n",
    "        * Time-space complexity\n",
    "        * Choosing right algorithm\n",
    "        * Data Structure (Stack, queue, array, hashmap, hashtable, set)\n",
    "    * SQL - queries\n",
    "    \n"
   ]
  },
  {
   "cell_type": "markdown",
   "metadata": {
    "slideshow": {
     "slide_type": "slide"
    }
   },
   "source": [
    "## FAQs in interview\n",
    "\n",
    "### Topics\n",
    "\n",
    "* Data Analysis and ML algorithms\n",
    "    * What is regression,classification and multiclass classification\n",
    "    * Gradient Descent \n",
    "    * Basic concepts of Statistics and probability theory\n",
    "    * Project details (based on portfolio)\n",
    "    * Database details\n",
    "    * Reason of choosing X algorithm and not Y\n",
    "    * Intuition and math of any ML algorithm\n",
    "    * Loss functions\n",
    "    * Performance metrics"
   ]
  },
  {
   "cell_type": "markdown",
   "metadata": {
    "slideshow": {
     "slide_type": "slide"
    }
   },
   "source": [
    "## FAQs in interview\n",
    "\n",
    "### Topics\n",
    "   \n",
    "* Optimization of ML applications\n",
    "    * When to use which ML algorithm\n",
    "    * Sub-sampling\n",
    "    * Cross-Validation\n",
    "    * Regularization\n",
    "    * Which parameter for what task\n",
    "    * Parameter-tunning\n",
    "    * Overfitting -Underfitting\n",
    "    * Bias - Variance\n",
    "    * Bagging, Boosting and Staking\n",
    "    * Activation functions\n",
    "    * Datascience pipeline and architecture"
   ]
  },
  {
   "cell_type": "markdown",
   "metadata": {
    "slideshow": {
     "slide_type": "slide"
    }
   },
   "source": [
    "## FAQs in interview\n",
    "\n",
    "### Questions for Data Analyst Profile\n",
    "\n",
    "* Based on resume and project\n",
    "* Basics of Computer Science and Data Structure\n",
    "* Given X problem come up with the hypothesis\n",
    "* P-value\n",
    "* Questions on SQLs\n",
    "* Data types\n",
    "* Data Points - Linearly separable or not?\n",
    "* Data preparation \n",
    "* Data cleaning\n",
    "* Data scrapping\n",
    "* mean, median, mode, Standard deviation, Variance\n",
    "* Statistical distributions\n",
    "* Outlier detection\n",
    "* Probability - Join Probability, Conditional Probability, Marginal Probability\n",
    "* Naive-Bayes\n",
    "\n",
    "\n",
    "Some questions are [here](https://www.analyticsvidhya.com/blog/2017/05/41-questions-on-statisitics-data-scientists-analysts/)"
   ]
  },
  {
   "cell_type": "markdown",
   "metadata": {
    "slideshow": {
     "slide_type": "slide"
    }
   },
   "source": [
    "## Tips and Trick for ML applications\n",
    "\n",
    "### Discussing Data points\n",
    "\n",
    "* Domain of company\n",
    "\n",
    "* Application details\n",
    "\n",
    "* Current data points\n",
    "\n",
    "* End Users\n",
    "\n",
    "* Proposed data points list\n"
   ]
  },
  {
   "cell_type": "markdown",
   "metadata": {
    "slideshow": {
     "slide_type": "slide"
    }
   },
   "source": [
    "## Tips and Trick for ML applications\n",
    "\n",
    "### Choosing the right ML algorithm\n",
    "\n"
   ]
  },
  {
   "cell_type": "markdown",
   "metadata": {
    "slideshow": {
     "slide_type": "subslide"
    }
   },
   "source": [
    "<img src=\"https://raw.githubusercontent.com/jalajthanaki/DataScience_Interview_Seminar/master/imgs/Figure_20.png\" \n",
    "align=\"middle\" alt=\"Image_20\" data-canonical-src=\"\" style=\"width:1200px;height:600px\">"
   ]
  },
  {
   "cell_type": "markdown",
   "metadata": {
    "slideshow": {
     "slide_type": "slide"
    }
   },
   "source": [
    "## Tips and Trick for ML applications\n",
    "\n",
    "### Architecture / System Design\n",
    "\n",
    "* Modular\n",
    "* Easy-to-maintain\n",
    "* Loosely coupled\n",
    "* Choose tools and design - based on application requirements\n",
    "* One Architecture not fit to all\n",
    "* Customized Architecture\n"
   ]
  },
  {
   "cell_type": "markdown",
   "metadata": {
    "slideshow": {
     "slide_type": "subslide"
    }
   },
   "source": [
    "## Tips and Trick for ML applications\n",
    "\n",
    "### Lambda architecture\n",
    "\n",
    "* __Lambda architecture__ - Where everything is Batch + Streaming and approximate Real-time\n",
    "    \n",
    "    * Healthcare - Clinical Data\n",
    "    \n",
    "    * Weather - Intelligent Weather forecasting and other analysis for climate change\n",
    "    \n",
    "![title](imgs/LambdaKappa1_1.png)"
   ]
  },
  {
   "cell_type": "markdown",
   "metadata": {
    "slideshow": {
     "slide_type": "subslide"
    }
   },
   "source": [
    "## Tips and Trick for ML applications\n",
    "\n",
    "### Kappa architecture\n",
    "\n",
    "* __Kappa architecture__ - Where everything is streamed and Real-time\n",
    "    \n",
    "    * Oil & Gas - real time drilling, connected wells, smart refineries\n",
    "\n",
    "    * Healthcare - wearables and patient tracking (IoTs)\n",
    "    \n",
    "    * Manufacturing - smart factories\n",
    "    \n",
    "    * Communications - consumer behavior and new service deployment\n",
    "    \n",
    "![title](imgs/LambdaKappa1_2.png)"
   ]
  },
  {
   "cell_type": "markdown",
   "metadata": {
    "slideshow": {
     "slide_type": "slide"
    }
   },
   "source": [
    "## Tips and Trick for ML applications\n",
    "\n",
    "### Big-Data Frameworks – needed or not?\n",
    "\n",
    "* Not necessary at first go (for Data Analyst role)\n",
    "* If you wrote in resume then you must need to prove the skill\n",
    "* Demonstrate - Willingness to learn"
   ]
  },
  {
   "cell_type": "markdown",
   "metadata": {
    "slideshow": {
     "slide_type": "slide"
    }
   },
   "source": [
    "## Communication and Storytelling\n",
    "\n",
    "* Express your skills, experience and belief via story telling\n",
    "* Non-fiction, effective and to the point\n",
    "* __Why__, __What__, __How__ and __For Whom__ are the important aspects\n",
    "* Must have versions for stories"
   ]
  },
  {
   "cell_type": "markdown",
   "metadata": {
    "slideshow": {
     "slide_type": "slide"
    }
   },
   "source": [
    "## General Tips\n",
    "### Resume\n",
    "\n",
    "* To the point\n",
    "* Honest\n",
    "* Customized details \n",
    "    * based on job roles \n",
    "    * based on company profile\n",
    "* Max 2 pages\n",
    "\n",
    "\n",
    "\n"
   ]
  },
  {
   "cell_type": "markdown",
   "metadata": {
    "slideshow": {
     "slide_type": "slide"
    }
   },
   "source": [
    "## Resume Formats\n",
    "\n",
    "### Students\n",
    "\n",
    "* Contact details on Header\n",
    "* Education and coursework details\n",
    "* Skills\n",
    "* Project Work (reverse chronological order)\n",
    "    * Accomplished [X] as measured by [Y] by doing [Z]\n",
    "* Achievements\n",
    "* Personal Identification\n",
    "\n",
    "\n",
    "### Experienced\n",
    "\n",
    "* Contact details on Header\n",
    "* Skills\n",
    "* Education details\n",
    "* Experience (reverse chronological order)\n",
    "    * Accomplished [X] as measured by [Y] by doing [Z]\n",
    "* Achievements\n",
    "* Personal Identification\n"
   ]
  },
  {
   "cell_type": "markdown",
   "metadata": {
    "slideshow": {
     "slide_type": "slide"
    }
   },
   "source": [
    "## General Tips\n",
    "\n",
    "### Use Social-Media platform\n",
    "\n",
    "* LinkedIn / Twitter: Keep **yourself up-to-date**\n",
    "* Subreddits: Give you **details about new tools and explanation about research papers**\n",
    "* GitHub: **Resume of new era** where you **put your work portfolio**\n",
    "* Share your knowledge with others\n"
   ]
  },
  {
   "cell_type": "markdown",
   "metadata": {
    "slideshow": {
     "slide_type": "slide"
    }
   },
   "source": [
    "## General Tips\n",
    "\n",
    "### Handling: Out-of-the-box or odd questions\n",
    "\n",
    "* No right or wrong answer\n",
    "* Ask for clarification\n",
    "* Use common-sense backed by reasonable logic \n",
    "* Judge your reaction rather then skills"
   ]
  },
  {
   "cell_type": "markdown",
   "metadata": {
    "slideshow": {
     "slide_type": "slide"
    }
   },
   "source": [
    "## Learning Resources\n",
    "\n",
    "\n",
    "* All learning resources are [Here](https://github.com/jalajthanaki/DataScience_Interview_Seminar/blob/master/Learning_resources.ipynb)\n"
   ]
  },
  {
   "cell_type": "markdown",
   "metadata": {
    "slideshow": {
     "slide_type": "slide"
    }
   },
   "source": [
    "<img src=\"https://raw.githubusercontent.com/jalajthanaki/POS-tag-workshop/master/imgs/Image_1_5.jpg\" \n",
    "align=\"middle\" alt=\"Image_1_5\" data-canonical-src=\"\" style=\"width:60%;height:60%\">"
   ]
  },
  {
   "cell_type": "markdown",
   "metadata": {
    "slideshow": {
     "slide_type": "slide"
    }
   },
   "source": [
    "<img src=\"https://raw.githubusercontent.com/jalajthanaki/POS-tag-workshop/master/imgs/Image_1_6.png\" \n",
    "align=\"middle\" alt=\"Image_1_6\" data-canonical-src=\"\" style=\"width:80%;height:60%\">"
   ]
  }
 ],
 "metadata": {
  "celltoolbar": "Slideshow",
  "kernelspec": {
   "display_name": "Python 3",
   "language": "python",
   "name": "python3"
  },
  "language_info": {
   "codemirror_mode": {
    "name": "ipython",
    "version": 3
   },
   "file_extension": ".py",
   "mimetype": "text/x-python",
   "name": "python",
   "nbconvert_exporter": "python",
   "pygments_lexer": "ipython3",
   "version": "3.6.5"
  },
  "toc": {
   "base_numbering": 1,
   "nav_menu": {},
   "number_sections": true,
   "sideBar": true,
   "skip_h1_title": false,
   "title_cell": "Table of Contents",
   "title_sidebar": "Contents",
   "toc_cell": false,
   "toc_position": {},
   "toc_section_display": true,
   "toc_window_display": false
  },
  "varInspector": {
   "cols": {
    "lenName": 16,
    "lenType": 16,
    "lenVar": 40
   },
   "kernels_config": {
    "python": {
     "delete_cmd_postfix": "",
     "delete_cmd_prefix": "del ",
     "library": "var_list.py",
     "varRefreshCmd": "print(var_dic_list())"
    },
    "r": {
     "delete_cmd_postfix": ") ",
     "delete_cmd_prefix": "rm(",
     "library": "var_list.r",
     "varRefreshCmd": "cat(var_dic_list()) "
    }
   },
   "types_to_exclude": [
    "module",
    "function",
    "builtin_function_or_method",
    "instance",
    "_Feature"
   ],
   "window_display": false
  }
 },
 "nbformat": 4,
 "nbformat_minor": 2
}

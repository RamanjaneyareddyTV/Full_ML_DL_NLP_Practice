{
 "cells": [
  {
   "cell_type": "markdown",
   "id": "6a5d29db",
   "metadata": {},
   "source": [
    "# **Private Companies Prediction**"
   ]
  },
  {
   "cell_type": "markdown",
   "id": "381f9b23",
   "metadata": {},
   "source": [
    "![](https://www.hvj.co.in/images/services/service-single/pvtltd.jpg)"
   ]
  },
  {
   "cell_type": "markdown",
   "id": "57be2442",
   "metadata": {},
   "source": [
    "**IMPORTING THE LIBRARIES**"
   ]
  },
  {
   "cell_type": "code",
   "execution_count": 46,
   "id": "32f0581c",
   "metadata": {},
   "outputs": [],
   "source": [
    "import numpy as np\n",
    "import pandas as pd\n",
    "import matplotlib.pyplot as plt\n",
    "import seaborn as sns\n",
    "import os\n",
    "import scipy as sp\n",
    "import warnings\n",
    "import datetime\n",
    "warnings.filterwarnings(\"ignore\")\n",
    "%matplotlib inline\n"
   ]
  },
  {
   "cell_type": "markdown",
   "id": "67af7c3d",
   "metadata": {},
   "source": [
    "**LOADING THE DATASET**"
   ]
  },
  {
   "cell_type": "code",
   "execution_count": 47,
   "id": "cd97ffb5",
   "metadata": {},
   "outputs": [],
   "source": [
    "data=pd.read_csv(\"Pvivate Limited Companies Database.xlsx - Sheet1.csv\")"
   ]
  },
  {
   "cell_type": "code",
   "execution_count": 48,
   "id": "94439283",
   "metadata": {},
   "outputs": [
    {
     "data": {
      "text/html": [
       "<div>\n",
       "<style scoped>\n",
       "    .dataframe tbody tr th:only-of-type {\n",
       "        vertical-align: middle;\n",
       "    }\n",
       "\n",
       "    .dataframe tbody tr th {\n",
       "        vertical-align: top;\n",
       "    }\n",
       "\n",
       "    .dataframe thead th {\n",
       "        text-align: right;\n",
       "    }\n",
       "</style>\n",
       "<table border=\"1\" class=\"dataframe\">\n",
       "  <thead>\n",
       "    <tr style=\"text-align: right;\">\n",
       "      <th></th>\n",
       "      <th>Company</th>\n",
       "      <th>city</th>\n",
       "      <th>pincode</th>\n",
       "      <th>locality</th>\n",
       "      <th>Sub_Locality</th>\n",
       "      <th>Address</th>\n",
       "      <th>Building_Name</th>\n",
       "      <th>Landmarks</th>\n",
       "      <th>StdCode</th>\n",
       "      <th>telephone1</th>\n",
       "      <th>...</th>\n",
       "      <th>mobile</th>\n",
       "      <th>mobile2</th>\n",
       "      <th>ptc_name</th>\n",
       "      <th>Email</th>\n",
       "      <th>Email1</th>\n",
       "      <th>CompanyEmail</th>\n",
       "      <th>Website</th>\n",
       "      <th>level1</th>\n",
       "      <th>level2</th>\n",
       "      <th>level3</th>\n",
       "    </tr>\n",
       "  </thead>\n",
       "  <tbody>\n",
       "    <tr>\n",
       "      <th>0</th>\n",
       "      <td>Aravali Plasto Packers Pvt Ltd</td>\n",
       "      <td>Abu Road</td>\n",
       "      <td>307026.0</td>\n",
       "      <td>Ambaji Industrial Area</td>\n",
       "      <td>NaN</td>\n",
       "      <td>G-1/185</td>\n",
       "      <td>NaN</td>\n",
       "      <td>NaN</td>\n",
       "      <td>2974</td>\n",
       "      <td>226292</td>\n",
       "      <td>...</td>\n",
       "      <td>9414153904</td>\n",
       "      <td></td>\n",
       "      <td>R L Agarwal</td>\n",
       "      <td>NaN</td>\n",
       "      <td>NaN</td>\n",
       "      <td>NaN</td>\n",
       "      <td>NaN</td>\n",
       "      <td>Packaging &amp; Printing</td>\n",
       "      <td>Bags &amp; Bags Machinery</td>\n",
       "      <td>Bags- Plastic</td>\n",
       "    </tr>\n",
       "    <tr>\n",
       "      <th>1</th>\n",
       "      <td>Malviya Crafts Pvt Ltd</td>\n",
       "      <td>Abu Road</td>\n",
       "      <td>307026.0</td>\n",
       "      <td>Arbuta Industrial Area</td>\n",
       "      <td>Gandhi Nagar</td>\n",
       "      <td>G -106</td>\n",
       "      <td>NaN</td>\n",
       "      <td>NaN</td>\n",
       "      <td>2974</td>\n",
       "      <td>221305</td>\n",
       "      <td>...</td>\n",
       "      <td>9414152350</td>\n",
       "      <td></td>\n",
       "      <td>Ashok Malviya</td>\n",
       "      <td>malviya_craft@yahoo.com</td>\n",
       "      <td>NaN</td>\n",
       "      <td>NaN</td>\n",
       "      <td>NaN</td>\n",
       "      <td>Arts, Events &amp; Occasions</td>\n",
       "      <td>Art &amp; Craft</td>\n",
       "      <td>Handicrafts</td>\n",
       "    </tr>\n",
       "    <tr>\n",
       "      <th>2</th>\n",
       "      <td>S K Marble Pvt Ltd</td>\n",
       "      <td>Abu Road</td>\n",
       "      <td>307026.0</td>\n",
       "      <td>RIICO Growth Centre</td>\n",
       "      <td>NaN</td>\n",
       "      <td>E-274-275</td>\n",
       "      <td>NaN</td>\n",
       "      <td>NaN</td>\n",
       "      <td>2974</td>\n",
       "      <td>226317</td>\n",
       "      <td>...</td>\n",
       "      <td>9414152602</td>\n",
       "      <td></td>\n",
       "      <td>Vijay K Singh</td>\n",
       "      <td>NaN</td>\n",
       "      <td>NaN</td>\n",
       "      <td>NaN</td>\n",
       "      <td>NaN</td>\n",
       "      <td>Building, Construction &amp; Real Estate</td>\n",
       "      <td>Building Stones &amp; Services</td>\n",
       "      <td>Marble</td>\n",
       "    </tr>\n",
       "    <tr>\n",
       "      <th>3</th>\n",
       "      <td>Nutan Rajumani Transport Pvt Ltd</td>\n",
       "      <td>Abu Road</td>\n",
       "      <td>307026.0</td>\n",
       "      <td>Ambaji Industrial Area</td>\n",
       "      <td>NaN</td>\n",
       "      <td>NaN</td>\n",
       "      <td>NaN</td>\n",
       "      <td>NaN</td>\n",
       "      <td>2974</td>\n",
       "      <td>226576</td>\n",
       "      <td>...</td>\n",
       "      <td>9829484474</td>\n",
       "      <td></td>\n",
       "      <td>Kamlesh Jain</td>\n",
       "      <td>NaN</td>\n",
       "      <td>NaN</td>\n",
       "      <td>NaN</td>\n",
       "      <td>NaN</td>\n",
       "      <td>Transport, Logistics &amp; Relocation</td>\n",
       "      <td>Transportation Services</td>\n",
       "      <td>Transporters</td>\n",
       "    </tr>\n",
       "    <tr>\n",
       "      <th>4</th>\n",
       "      <td>Mitsuboshi Belting India Pvt Ltd</td>\n",
       "      <td>Abu Road</td>\n",
       "      <td>307026.0</td>\n",
       "      <td>Ambaji Industrial Area</td>\n",
       "      <td>Sadar Market</td>\n",
       "      <td>NaN</td>\n",
       "      <td>NaN</td>\n",
       "      <td>NaN</td>\n",
       "      <td>2974</td>\n",
       "      <td>NaN</td>\n",
       "      <td>...</td>\n",
       "      <td>9929366611</td>\n",
       "      <td></td>\n",
       "      <td>Kamlesh Meena</td>\n",
       "      <td>NaN</td>\n",
       "      <td>NaN</td>\n",
       "      <td>NaN</td>\n",
       "      <td>NaN</td>\n",
       "      <td>Textile &amp; Leather</td>\n",
       "      <td>Fabric</td>\n",
       "      <td>Fabric- Multi Range</td>\n",
       "    </tr>\n",
       "  </tbody>\n",
       "</table>\n",
       "<p>5 rows × 22 columns</p>\n",
       "</div>"
      ],
      "text/plain": [
       "                            Company      city   pincode  \\\n",
       "0    Aravali Plasto Packers Pvt Ltd  Abu Road  307026.0   \n",
       "1            Malviya Crafts Pvt Ltd  Abu Road  307026.0   \n",
       "2                S K Marble Pvt Ltd  Abu Road  307026.0   \n",
       "3  Nutan Rajumani Transport Pvt Ltd  Abu Road  307026.0   \n",
       "4  Mitsuboshi Belting India Pvt Ltd  Abu Road  307026.0   \n",
       "\n",
       "                 locality  Sub_Locality    Address Building_Name Landmarks  \\\n",
       "0  Ambaji Industrial Area           NaN    G-1/185           NaN       NaN   \n",
       "1  Arbuta Industrial Area  Gandhi Nagar     G -106           NaN       NaN   \n",
       "2     RIICO Growth Centre           NaN  E-274-275           NaN       NaN   \n",
       "3  Ambaji Industrial Area           NaN        NaN           NaN       NaN   \n",
       "4  Ambaji Industrial Area  Sadar Market        NaN           NaN       NaN   \n",
       "\n",
       "   StdCode telephone1  ...      mobile mobile2       ptc_name  \\\n",
       "0     2974     226292  ...  9414153904            R L Agarwal   \n",
       "1     2974     221305  ...  9414152350          Ashok Malviya   \n",
       "2     2974     226317  ...  9414152602          Vijay K Singh   \n",
       "3     2974     226576  ...  9829484474           Kamlesh Jain   \n",
       "4     2974        NaN  ...  9929366611          Kamlesh Meena   \n",
       "\n",
       "                     Email Email1 CompanyEmail Website  \\\n",
       "0                      NaN    NaN          NaN     NaN   \n",
       "1  malviya_craft@yahoo.com    NaN          NaN     NaN   \n",
       "2                      NaN    NaN          NaN     NaN   \n",
       "3                      NaN    NaN          NaN     NaN   \n",
       "4                      NaN    NaN          NaN     NaN   \n",
       "\n",
       "                                 level1                      level2  \\\n",
       "0                  Packaging & Printing       Bags & Bags Machinery   \n",
       "1              Arts, Events & Occasions                 Art & Craft   \n",
       "2  Building, Construction & Real Estate  Building Stones & Services   \n",
       "3     Transport, Logistics & Relocation     Transportation Services   \n",
       "4                     Textile & Leather                      Fabric   \n",
       "\n",
       "                level3  \n",
       "0        Bags- Plastic  \n",
       "1          Handicrafts  \n",
       "2               Marble  \n",
       "3         Transporters  \n",
       "4  Fabric- Multi Range  \n",
       "\n",
       "[5 rows x 22 columns]"
      ]
     },
     "execution_count": 48,
     "metadata": {},
     "output_type": "execute_result"
    }
   ],
   "source": [
    "data.head()"
   ]
  },
  {
   "cell_type": "code",
   "execution_count": 49,
   "id": "ad3b1e2d",
   "metadata": {},
   "outputs": [
    {
     "data": {
      "text/html": [
       "<div>\n",
       "<style scoped>\n",
       "    .dataframe tbody tr th:only-of-type {\n",
       "        vertical-align: middle;\n",
       "    }\n",
       "\n",
       "    .dataframe tbody tr th {\n",
       "        vertical-align: top;\n",
       "    }\n",
       "\n",
       "    .dataframe thead th {\n",
       "        text-align: right;\n",
       "    }\n",
       "</style>\n",
       "<table border=\"1\" class=\"dataframe\">\n",
       "  <thead>\n",
       "    <tr style=\"text-align: right;\">\n",
       "      <th></th>\n",
       "      <th>pincode</th>\n",
       "      <th>StdCode</th>\n",
       "    </tr>\n",
       "  </thead>\n",
       "  <tbody>\n",
       "    <tr>\n",
       "      <th>count</th>\n",
       "      <td>53635.000000</td>\n",
       "      <td>53636.000000</td>\n",
       "    </tr>\n",
       "    <tr>\n",
       "      <th>mean</th>\n",
       "      <td>360124.026848</td>\n",
       "      <td>125.973544</td>\n",
       "    </tr>\n",
       "    <tr>\n",
       "      <th>std</th>\n",
       "      <td>168138.013064</td>\n",
       "      <td>332.448733</td>\n",
       "    </tr>\n",
       "    <tr>\n",
       "      <th>min</th>\n",
       "      <td>110001.000000</td>\n",
       "      <td>11.000000</td>\n",
       "    </tr>\n",
       "    <tr>\n",
       "      <th>25%</th>\n",
       "      <td>201005.000000</td>\n",
       "      <td>20.000000</td>\n",
       "    </tr>\n",
       "    <tr>\n",
       "      <th>50%</th>\n",
       "      <td>400051.000000</td>\n",
       "      <td>80.000000</td>\n",
       "    </tr>\n",
       "    <tr>\n",
       "      <th>75%</th>\n",
       "      <td>560009.000000</td>\n",
       "      <td>120.000000</td>\n",
       "    </tr>\n",
       "    <tr>\n",
       "      <th>max</th>\n",
       "      <td>570078.000000</td>\n",
       "      <td>8156.000000</td>\n",
       "    </tr>\n",
       "  </tbody>\n",
       "</table>\n",
       "</div>"
      ],
      "text/plain": [
       "             pincode       StdCode\n",
       "count   53635.000000  53636.000000\n",
       "mean   360124.026848    125.973544\n",
       "std    168138.013064    332.448733\n",
       "min    110001.000000     11.000000\n",
       "25%    201005.000000     20.000000\n",
       "50%    400051.000000     80.000000\n",
       "75%    560009.000000    120.000000\n",
       "max    570078.000000   8156.000000"
      ]
     },
     "execution_count": 49,
     "metadata": {},
     "output_type": "execute_result"
    }
   ],
   "source": [
    "data.describe()"
   ]
  },
  {
   "cell_type": "code",
   "execution_count": 50,
   "id": "030345c0",
   "metadata": {},
   "outputs": [
    {
     "name": "stdout",
     "output_type": "stream",
     "text": [
      "<class 'pandas.core.frame.DataFrame'>\n",
      "RangeIndex: 53636 entries, 0 to 53635\n",
      "Data columns (total 22 columns):\n",
      " #   Column         Non-Null Count  Dtype  \n",
      "---  ------         --------------  -----  \n",
      " 0   Company        53636 non-null  object \n",
      " 1   city           53636 non-null  object \n",
      " 2   pincode        53635 non-null  float64\n",
      " 3   locality       53561 non-null  object \n",
      " 4   Sub_Locality   35915 non-null  object \n",
      " 5   Address        48246 non-null  object \n",
      " 6   Building_Name  20577 non-null  object \n",
      " 7   Landmarks      18219 non-null  object \n",
      " 8   StdCode        53636 non-null  int64  \n",
      " 9   telephone1     38610 non-null  object \n",
      " 10  telephone2     19189 non-null  object \n",
      " 11  telephone3     11312 non-null  object \n",
      " 12  mobile         51148 non-null  object \n",
      " 13  mobile2        18090 non-null  object \n",
      " 14  ptc_name       40164 non-null  object \n",
      " 15  Email          12953 non-null  object \n",
      " 16  Email1         1282 non-null   object \n",
      " 17  CompanyEmail   13782 non-null  object \n",
      " 18  Website        16557 non-null  object \n",
      " 19  level1         53636 non-null  object \n",
      " 20  level2         53624 non-null  object \n",
      " 21  level3         53625 non-null  object \n",
      "dtypes: float64(1), int64(1), object(20)\n",
      "memory usage: 9.0+ MB\n"
     ]
    }
   ],
   "source": [
    "data.info()"
   ]
  },
  {
   "cell_type": "code",
   "execution_count": 51,
   "id": "de5cdaf8",
   "metadata": {},
   "outputs": [
    {
     "data": {
      "text/plain": [
       "(53636, 22)"
      ]
     },
     "execution_count": 51,
     "metadata": {},
     "output_type": "execute_result"
    }
   ],
   "source": [
    "data.shape   #53636 rows and 22 columns in our dataset"
   ]
  },
  {
   "cell_type": "code",
   "execution_count": 52,
   "id": "e88a7ba1",
   "metadata": {},
   "outputs": [
    {
     "data": {
      "text/plain": [
       "<bound method DataFrame.value_counts of                                       Company       city   pincode  \\\n",
       "0              Aravali Plasto Packers Pvt Ltd   Abu Road  307026.0   \n",
       "1                      Malviya Crafts Pvt Ltd   Abu Road  307026.0   \n",
       "2                          S K Marble Pvt Ltd   Abu Road  307026.0   \n",
       "3            Nutan Rajumani Transport Pvt Ltd   Abu Road  307026.0   \n",
       "4            Mitsuboshi Belting India Pvt Ltd   Abu Road  307026.0   \n",
       "...                                       ...        ...       ...   \n",
       "53631     Klassic Interior Inventions Pvt Ltd  Bangalore  560030.0   \n",
       "53632                   T M S India   Pvt Ltd  Bangalore  560058.0   \n",
       "53633                    Travel Tours Pvt Ltd  Bangalore  560052.0   \n",
       "53634  Keppel Puravankara Development Pvt Ltd  Bangalore  560052.0   \n",
       "53635            P M C Sierra (India) Pvt Ltd  Bangalore  560100.0   \n",
       "\n",
       "                     locality  Sub_Locality    Address   Building_Name  \\\n",
       "0      Ambaji Industrial Area           NaN    G-1/185             NaN   \n",
       "1      Arbuta Industrial Area  Gandhi Nagar     G -106             NaN   \n",
       "2         RIICO Growth Centre           NaN  E-274-275             NaN   \n",
       "3      Ambaji Industrial Area           NaN        NaN             NaN   \n",
       "4      Ambaji Industrial Area  Sadar Market        NaN             NaN   \n",
       "...                       ...           ...        ...             ...   \n",
       "53631                 Adugodi           NaN       35/1   Saroja Towers   \n",
       "53632  Peenya Industrial Area           NaN       14/B             NaN   \n",
       "53633           Vasanth Nagar           NaN      1-Jan  Millers Arcade   \n",
       "53634           Vasanth Nagar           NaN         39             NaN   \n",
       "53635         Electronic City           NaN        NaN             NaN   \n",
       "\n",
       "                         Landmarks  StdCode telephone1  ...      mobile  \\\n",
       "0                              NaN     2974     226292  ...  9414153904   \n",
       "1                              NaN     2974     221305  ...  9414152350   \n",
       "2                              NaN     2974     226317  ...  9414152602   \n",
       "3                              NaN     2974     226576  ...  9829484474   \n",
       "4                              NaN     2974        NaN  ...  9929366611   \n",
       "...                            ...      ...        ...  ...         ...   \n",
       "53631  Opp Adugodi Police Quarters       80   22249977  ...  9880419994   \n",
       "53632                          NaN       80   28377197  ...  9880707751   \n",
       "53633                          NaN       80   44800800  ...  9964350363   \n",
       "53634     Opp Mount Carmel College       80   41505000  ...  9945582600   \n",
       "53635                          NaN       80   41827000  ...  9611699115   \n",
       "\n",
       "      mobile2       ptc_name                            Email Email1  \\\n",
       "0                R L Agarwal                              NaN    NaN   \n",
       "1              Ashok Malviya          malviya_craft@yahoo.com    NaN   \n",
       "2              Vijay K Singh                              NaN    NaN   \n",
       "3               Kamlesh Jain                              NaN    NaN   \n",
       "4              Kamlesh Meena                              NaN    NaN   \n",
       "...       ...            ...                              ...    ...   \n",
       "53631     NaN       Sukumara           kb@classicinterior.com    NaN   \n",
       "53632     NaN            NaN                              NaN    NaN   \n",
       "53633     NaN     Syed Irfan  ashwin.narayanan@traveltours.in    NaN   \n",
       "53634     NaN           Uday            rajeev@elitahomes.com    NaN   \n",
       "53635     NaN       Prabhu D                              NaN    NaN   \n",
       "\n",
       "                  CompanyEmail                   Website  \\\n",
       "0                          NaN                       NaN   \n",
       "1                          NaN                       NaN   \n",
       "2                          NaN                       NaN   \n",
       "3                          NaN                       NaN   \n",
       "4                          NaN                       NaN   \n",
       "...                        ...                       ...   \n",
       "53631  kc@klassicinteriors.com  www.klassicinteriors.com   \n",
       "53632                      NaN                www.tms.in   \n",
       "53633                      NaN   www.travelaironline.com   \n",
       "53634                      NaN                       NaN   \n",
       "53635                      NaN              www.pmcs.com   \n",
       "\n",
       "                                     level1  \\\n",
       "0                      Packaging & Printing   \n",
       "1                  Arts, Events & Occasions   \n",
       "2      Building, Construction & Real Estate   \n",
       "3         Transport, Logistics & Relocation   \n",
       "4                         Textile & Leather   \n",
       "...                                     ...   \n",
       "53631           Consultants & Professionals   \n",
       "53632                   Home, Garden & Pets   \n",
       "53633                      Travel & Tourism   \n",
       "53634            Construction & Real Estate   \n",
       "53635                Computer, IT & Telecom   \n",
       "\n",
       "                                    level2                              level3  \n",
       "0                    Bags & Bags Machinery                       Bags- Plastic  \n",
       "1                              Art & Craft                         Handicrafts  \n",
       "2               Building Stones & Services                              Marble  \n",
       "3                  Transportation Services                        Transporters  \n",
       "4                                   Fabric                 Fabric- Multi Range  \n",
       "...                                    ...                                 ...  \n",
       "53631                            Designers      Interior Decorator & Designers  \n",
       "53632                Construction Hardware                              Valves  \n",
       "53633             Tourist Needs & Services                      Travel Bureaus  \n",
       "53634  Commercial & Residential Properties  Real Estate Promoters & Developers  \n",
       "53635                    Computer Hardware                                CPU   \n",
       "\n",
       "[53636 rows x 22 columns]>"
      ]
     },
     "execution_count": 52,
     "metadata": {},
     "output_type": "execute_result"
    }
   ],
   "source": [
    "data.value_counts"
   ]
  },
  {
   "cell_type": "code",
   "execution_count": 53,
   "id": "c95ddbdc",
   "metadata": {},
   "outputs": [
    {
     "data": {
      "text/plain": [
       "Index(['Company', 'city', 'pincode', 'locality', 'Sub_Locality', 'Address',\n",
       "       'Building_Name', 'Landmarks', 'StdCode', 'telephone1', 'telephone2',\n",
       "       'telephone3', 'mobile', 'mobile2', 'ptc_name', 'Email', 'Email1',\n",
       "       'CompanyEmail', 'Website', 'level1', 'level2', 'level3'],\n",
       "      dtype='object')"
      ]
     },
     "execution_count": 53,
     "metadata": {},
     "output_type": "execute_result"
    }
   ],
   "source": [
    "data.columns"
   ]
  },
  {
   "cell_type": "code",
   "execution_count": 54,
   "id": "8240d5f3",
   "metadata": {},
   "outputs": [
    {
     "data": {
      "text/plain": [
       "Company           object\n",
       "city              object\n",
       "pincode          float64\n",
       "locality          object\n",
       "Sub_Locality      object\n",
       "Address           object\n",
       "Building_Name     object\n",
       "Landmarks         object\n",
       "StdCode            int64\n",
       "telephone1        object\n",
       "telephone2        object\n",
       "telephone3        object\n",
       "mobile            object\n",
       "mobile2           object\n",
       "ptc_name          object\n",
       "Email             object\n",
       "Email1            object\n",
       "CompanyEmail      object\n",
       "Website           object\n",
       "level1            object\n",
       "level2            object\n",
       "level3            object\n",
       "dtype: object"
      ]
     },
     "execution_count": 54,
     "metadata": {},
     "output_type": "execute_result"
    }
   ],
   "source": [
    "data.dtypes"
   ]
  },
  {
   "cell_type": "code",
   "execution_count": 214,
   "id": "3ce6579e",
   "metadata": {},
   "outputs": [
    {
     "data": {
      "text/plain": [
       "Actual          40.5\n",
       "Predicted    29040.5\n",
       "dtype: float64"
      ]
     },
     "execution_count": 214,
     "metadata": {},
     "output_type": "execute_result"
    }
   ],
   "source": [
    "data.var()"
   ]
  },
  {
   "cell_type": "markdown",
   "id": "50d14296",
   "metadata": {},
   "source": [
    "**Checking Null Values**"
   ]
  },
  {
   "cell_type": "code",
   "execution_count": 55,
   "id": "e2fb72cd",
   "metadata": {},
   "outputs": [
    {
     "data": {
      "text/plain": [
       "Company              0\n",
       "city                 0\n",
       "pincode              1\n",
       "locality            75\n",
       "Sub_Locality     17721\n",
       "Address           5390\n",
       "Building_Name    33059\n",
       "Landmarks        35417\n",
       "StdCode              0\n",
       "telephone1       15026\n",
       "telephone2       34447\n",
       "telephone3       42324\n",
       "mobile            2488\n",
       "mobile2          35546\n",
       "ptc_name         13472\n",
       "Email            40683\n",
       "Email1           52354\n",
       "CompanyEmail     39854\n",
       "Website          37079\n",
       "level1               0\n",
       "level2              12\n",
       "level3              11\n",
       "dtype: int64"
      ]
     },
     "execution_count": 55,
     "metadata": {},
     "output_type": "execute_result"
    }
   ],
   "source": [
    "data.isnull().sum()\n"
   ]
  },
  {
   "cell_type": "code",
   "execution_count": 56,
   "id": "6cc47332",
   "metadata": {},
   "outputs": [
    {
     "data": {
      "text/plain": [
       "Company          False\n",
       "city             False\n",
       "pincode           True\n",
       "locality          True\n",
       "Sub_Locality      True\n",
       "Address           True\n",
       "Building_Name     True\n",
       "Landmarks         True\n",
       "StdCode          False\n",
       "telephone1        True\n",
       "telephone2        True\n",
       "telephone3        True\n",
       "mobile            True\n",
       "mobile2           True\n",
       "ptc_name          True\n",
       "Email             True\n",
       "Email1            True\n",
       "CompanyEmail      True\n",
       "Website           True\n",
       "level1           False\n",
       "level2            True\n",
       "level3            True\n",
       "dtype: bool"
      ]
     },
     "execution_count": 56,
     "metadata": {},
     "output_type": "execute_result"
    }
   ],
   "source": [
    "data.isnull().any()\n"
   ]
  },
  {
   "cell_type": "markdown",
   "id": "38bf444d",
   "metadata": {},
   "source": [
    "**So our dataset contains many null values we have to drop them**"
   ]
  },
  {
   "cell_type": "code",
   "execution_count": 62,
   "id": "3f1e0a83",
   "metadata": {},
   "outputs": [],
   "source": [
    "data=data.dropna()"
   ]
  },
  {
   "cell_type": "code",
   "execution_count": 63,
   "id": "1a511c86",
   "metadata": {},
   "outputs": [
    {
     "data": {
      "text/plain": [
       "Company          0\n",
       "city             0\n",
       "pincode          0\n",
       "locality         0\n",
       "Sub_Locality     0\n",
       "Address          0\n",
       "Building_Name    0\n",
       "Landmarks        0\n",
       "StdCode          0\n",
       "telephone1       0\n",
       "telephone2       0\n",
       "telephone3       0\n",
       "mobile           0\n",
       "mobile2          0\n",
       "ptc_name         0\n",
       "Email            0\n",
       "Email1           0\n",
       "CompanyEmail     0\n",
       "Website          0\n",
       "level1           0\n",
       "level2           0\n",
       "level3           0\n",
       "dtype: int64"
      ]
     },
     "execution_count": 63,
     "metadata": {},
     "output_type": "execute_result"
    }
   ],
   "source": [
    "data.isnull().sum()"
   ]
  },
  {
   "cell_type": "markdown",
   "id": "add8080f",
   "metadata": {},
   "source": [
    "**Now our dataset is free of the null values**"
   ]
  },
  {
   "cell_type": "markdown",
   "id": "212c7ddf",
   "metadata": {},
   "source": [
    "***Exploratory Data Analysis***"
   ]
  },
  {
   "cell_type": "markdown",
   "id": "c5723c97",
   "metadata": {},
   "source": [
    "**HISTOGRAM**\n",
    "\n",
    "**A histogram is basically used to represent data provided in a form of some groups.It is accurate method for the graphical representation of numerical data distribution.It is a type of bar plot where X-axis represents the bin ranges while Y-axis gives information about frequency.**"
   ]
  },
  {
   "cell_type": "code",
   "execution_count": 64,
   "id": "e82bba98",
   "metadata": {},
   "outputs": [
    {
     "data": {
      "image/png": "[encoded data removed]",
      "text/plain": [
       "<Figure size 1440x1008 with 2 Axes>"
      ]
     },
     "metadata": {
      "needs_background": "light"
     },
     "output_type": "display_data"
    }
   ],
   "source": [
    "data.hist(figsize=(20,14))\n",
    "plt.show()\n"
   ]
  },
  {
   "cell_type": "markdown",
   "id": "62736021",
   "metadata": {},
   "source": [
    "**BOXPLOT**\n",
    "\n",
    "**A boxplot is a standardized way of displaying the distribution of data based on a five number summary (“minimum”, first quartile (Q1), median, third quartile (Q3), and “maximum”). ... It can also tell you if your data is symmetrical, how tightly your data is grouped, and if and how your data is skewed.**\n",
    "\n"
   ]
  },
  {
   "cell_type": "code",
   "execution_count": 92,
   "id": "ef6d8601",
   "metadata": {},
   "outputs": [
    {
     "data": {
      "text/plain": [
       "<AxesSubplot:xlabel='StdCode'>"
      ]
     },
     "execution_count": 92,
     "metadata": {},
     "output_type": "execute_result"
    },
    {
     "data": {
      "image/png": "[encoded data removed]",
      "text/plain": [
       "<Figure size 1008x720 with 2 Axes>"
      ]
     },
     "metadata": {},
     "output_type": "display_data"
    }
   ],
   "source": [
    "plt.figure(figsize=(14,10))\n",
    "sns.set_style(style='whitegrid')\n",
    "plt.subplot(2,3,1)\n",
    "sns.boxplot(x='pincode',data=data)\n",
    "plt.subplot(2,3,2)\n",
    "sns.boxplot(x='StdCode',data=data)\n"
   ]
  },
  {
   "cell_type": "markdown",
   "id": "94b1b75d",
   "metadata": {},
   "source": [
    "**JOINTPLOT**\n",
    "\n",
    "**Seaborn's jointplot displays a relationship between 2 variables (bivariate) as well as 1D profiles (univariate) in the margins. This plot is a convenience class that wraps JointGrid.**\n",
    "\n"
   ]
  },
  {
   "cell_type": "code",
   "execution_count": 105,
   "id": "247ce3f4",
   "metadata": {},
   "outputs": [
    {
     "data": {
      "text/plain": [
       "<seaborn.axisgrid.JointGrid at 0x1d7c3373ca0>"
      ]
     },
     "execution_count": 105,
     "metadata": {},
     "output_type": "execute_result"
    },
    {
     "data": {
      "image/png": "[encoded data removed]",
      "text/plain": [
       "<Figure size 432x432 with 3 Axes>"
      ]
     },
     "metadata": {},
     "output_type": "display_data"
    }
   ],
   "source": [
    "sns.jointplot(x='pincode',y='Company',data=data)"
   ]
  },
  {
   "cell_type": "markdown",
   "id": "1a0cf473",
   "metadata": {},
   "source": [
    "**PAIRPLOT**\n",
    "\n",
    "**Pairplot visualizes given data to find the relationship between them where the variables can be continuous or categorical. Plot pairwise relationships in a data-set. Pairplot is a module of seaborn library which provides a high-level interface for drawing attractive and informative statistical graphics.**"
   ]
  },
  {
   "cell_type": "code",
   "execution_count": 83,
   "id": "d9651c88",
   "metadata": {},
   "outputs": [
    {
     "data": {
      "text/plain": [
       "<seaborn.axisgrid.PairGrid at 0x1d7c01fd100>"
      ]
     },
     "execution_count": 83,
     "metadata": {},
     "output_type": "execute_result"
    },
    {
     "data": {
      "text/plain": [
       "<Figure size 864x720 with 0 Axes>"
      ]
     },
     "metadata": {},
     "output_type": "display_data"
    },
    {
     "data": {
      "image/png": "[encoded data removed]",
      "text/plain": [
       "<Figure size 360x360 with 6 Axes>"
      ]
     },
     "metadata": {
      "needs_background": "light"
     },
     "output_type": "display_data"
    }
   ],
   "source": [
    "plt.figure(figsize = (12,10))\n",
    "sns.pairplot(data=data)\n"
   ]
  },
  {
   "cell_type": "code",
   "execution_count": 66,
   "id": "19f364a0",
   "metadata": {},
   "outputs": [
    {
     "data": {
      "text/plain": [
       "Index(['Company', 'city', 'pincode', 'locality', 'Sub_Locality', 'Address',\n",
       "       'Building_Name', 'Landmarks', 'StdCode', 'telephone1', 'telephone2',\n",
       "       'telephone3', 'mobile', 'mobile2', 'ptc_name', 'Email', 'Email1',\n",
       "       'CompanyEmail', 'Website', 'level1', 'level2', 'level3'],\n",
       "      dtype='object')"
      ]
     },
     "execution_count": 66,
     "metadata": {},
     "output_type": "execute_result"
    }
   ],
   "source": [
    "data.columns"
   ]
  },
  {
   "cell_type": "code",
   "execution_count": 67,
   "id": "6456f1b6",
   "metadata": {},
   "outputs": [
    {
     "data": {
      "text/plain": [
       "Company           object\n",
       "city              object\n",
       "pincode          float64\n",
       "locality          object\n",
       "Sub_Locality      object\n",
       "Address           object\n",
       "Building_Name     object\n",
       "Landmarks         object\n",
       "StdCode            int64\n",
       "telephone1        object\n",
       "telephone2        object\n",
       "telephone3        object\n",
       "mobile            object\n",
       "mobile2           object\n",
       "ptc_name          object\n",
       "Email             object\n",
       "Email1            object\n",
       "CompanyEmail      object\n",
       "Website           object\n",
       "level1            object\n",
       "level2            object\n",
       "level3            object\n",
       "dtype: object"
      ]
     },
     "execution_count": 67,
     "metadata": {},
     "output_type": "execute_result"
    }
   ],
   "source": [
    "data.dtypes"
   ]
  },
  {
   "cell_type": "markdown",
   "id": "b335565a",
   "metadata": {},
   "source": [
    "**BARPLOT**\n",
    "\n",
    "**A barplot (or barchart) is one of the most common types of graphic. It shows the relationship between a numeric and a categoric variable. Each entity of the categoric variable is represented as a bar. The size of the bar represents its numeric value.**\n"
   ]
  },
  {
   "cell_type": "code",
   "execution_count": 113,
   "id": "7d96ac6b",
   "metadata": {},
   "outputs": [
    {
     "data": {
      "image/png": "[encoded data removed]",
      "text/plain": [
       "<Figure size 640x480 with 1 Axes>"
      ]
     },
     "metadata": {},
     "output_type": "display_data"
    }
   ],
   "source": [
    "plt.style.use(\"default\")\n",
    "sns.barplot(x=\"pincode\", y=\"StdCode\",data=data)\n",
    "plt.title(\"Pincode vs StdCode\",fontsize=15)\n",
    "plt.xlabel(\"Pincode\")\n",
    "plt.ylabel(\"StdCode\")\n",
    "plt.show()\n",
    "\n"
   ]
  },
  {
   "cell_type": "code",
   "execution_count": 116,
   "id": "31bd3f74",
   "metadata": {},
   "outputs": [
    {
     "data": {
      "image/png": "[encoded data removed]",
      "text/plain": [
       "<Figure size 640x480 with 1 Axes>"
      ]
     },
     "metadata": {},
     "output_type": "display_data"
    }
   ],
   "source": [
    "plt.style.use(\"default\")\n",
    "sns.barplot(x=\"pincode\", y=\"city\",data=data)\n",
    "plt.title(\"Pincode vs City\",fontsize=15)\n",
    "plt.xlabel(\"Pincode\")\n",
    "plt.ylabel(\"City\")\n",
    "plt.show()"
   ]
  },
  {
   "cell_type": "code",
   "execution_count": 129,
   "id": "4e371d17",
   "metadata": {},
   "outputs": [
    {
     "data": {
      "image/png": "[encoded data removed]",
      "text/plain": [
       "<Figure size 640x480 with 1 Axes>"
      ]
     },
     "metadata": {},
     "output_type": "display_data"
    }
   ],
   "source": [
    "plt.style.use(\"default\")\n",
    "sns.barplot(x=\"pincode\", y=\"Company\",data=data)\n",
    "plt.title(\"Pincode vs Company\",fontsize=15)\n",
    "plt.xlabel(\"Pincode\")\n",
    "plt.ylabel(\"Company\")\n",
    "plt.show()"
   ]
  },
  {
   "cell_type": "code",
   "execution_count": 132,
   "id": "ce468624",
   "metadata": {},
   "outputs": [
    {
     "data": {
      "text/html": [
       "<div>\n",
       "<style scoped>\n",
       "    .dataframe tbody tr th:only-of-type {\n",
       "        vertical-align: middle;\n",
       "    }\n",
       "\n",
       "    .dataframe tbody tr th {\n",
       "        vertical-align: top;\n",
       "    }\n",
       "\n",
       "    .dataframe thead th {\n",
       "        text-align: right;\n",
       "    }\n",
       "</style>\n",
       "<table border=\"1\" class=\"dataframe\">\n",
       "  <thead>\n",
       "    <tr style=\"text-align: right;\">\n",
       "      <th></th>\n",
       "      <th>pincode</th>\n",
       "      <th>StdCode</th>\n",
       "    </tr>\n",
       "  </thead>\n",
       "  <tbody>\n",
       "    <tr>\n",
       "      <th>pincode</th>\n",
       "      <td>1.000000</td>\n",
       "      <td>0.172057</td>\n",
       "    </tr>\n",
       "    <tr>\n",
       "      <th>StdCode</th>\n",
       "      <td>0.172057</td>\n",
       "      <td>1.000000</td>\n",
       "    </tr>\n",
       "  </tbody>\n",
       "</table>\n",
       "</div>"
      ],
      "text/plain": [
       "          pincode   StdCode\n",
       "pincode  1.000000  0.172057\n",
       "StdCode  0.172057  1.000000"
      ]
     },
     "execution_count": 132,
     "metadata": {},
     "output_type": "execute_result"
    }
   ],
   "source": [
    "data.corr()"
   ]
  },
  {
   "cell_type": "markdown",
   "id": "0daa4e60",
   "metadata": {},
   "source": [
    "**HEATMAP**\n",
    "\n",
    "**A heatmap is a graphical representation of data that uses a system of color-coding to represent different values. Heatmaps are used in various forms of analytics but are most commonly used to show user behaviour on specific webpages or webpage templates.**"
   ]
  },
  {
   "cell_type": "code",
   "execution_count": 131,
   "id": "c37d165c",
   "metadata": {},
   "outputs": [
    {
     "data": {
      "text/plain": [
       "<AxesSubplot:>"
      ]
     },
     "execution_count": 131,
     "metadata": {},
     "output_type": "execute_result"
    },
    {
     "data": {
      "image/png": "[encoded data removed]",
      "text/plain": [
       "<Figure size 1000x600 with 2 Axes>"
      ]
     },
     "metadata": {},
     "output_type": "display_data"
    }
   ],
   "source": [
    "plt.figure(figsize = (10,6))\n",
    "sns.heatmap(data.corr(), annot = True, cmap = 'viridis')"
   ]
  },
  {
   "cell_type": "code",
   "execution_count": 133,
   "id": "64c1700a",
   "metadata": {},
   "outputs": [],
   "source": [
    "#lets find the categorialfeatures\n",
    "list_1=list(data.columns)\n"
   ]
  },
  {
   "cell_type": "code",
   "execution_count": 134,
   "id": "20e770fc",
   "metadata": {},
   "outputs": [],
   "source": [
    "list_cate=[]\n",
    "for i in list_1:\n",
    "    if data[i].dtype=='object':\n",
    "        list_cate.append(i)\n"
   ]
  },
  {
   "cell_type": "code",
   "execution_count": 135,
   "id": "13af1356",
   "metadata": {},
   "outputs": [],
   "source": [
    "from sklearn.preprocessing import LabelEncoder\n",
    "le=LabelEncoder()\n"
   ]
  },
  {
   "cell_type": "code",
   "execution_count": 136,
   "id": "9d69ad9c",
   "metadata": {},
   "outputs": [],
   "source": [
    "for i in list_cate:\n",
    "    data[i]=le.fit_transform(data[i])\n"
   ]
  },
  {
   "cell_type": "code",
   "execution_count": 137,
   "id": "432a17ee",
   "metadata": {},
   "outputs": [
    {
     "data": {
      "text/html": [
       "<div>\n",
       "<style scoped>\n",
       "    .dataframe tbody tr th:only-of-type {\n",
       "        vertical-align: middle;\n",
       "    }\n",
       "\n",
       "    .dataframe tbody tr th {\n",
       "        vertical-align: top;\n",
       "    }\n",
       "\n",
       "    .dataframe thead th {\n",
       "        text-align: right;\n",
       "    }\n",
       "</style>\n",
       "<table border=\"1\" class=\"dataframe\">\n",
       "  <thead>\n",
       "    <tr style=\"text-align: right;\">\n",
       "      <th></th>\n",
       "      <th>Company</th>\n",
       "      <th>city</th>\n",
       "      <th>pincode</th>\n",
       "      <th>locality</th>\n",
       "      <th>Sub_Locality</th>\n",
       "      <th>Address</th>\n",
       "      <th>Building_Name</th>\n",
       "      <th>Landmarks</th>\n",
       "      <th>StdCode</th>\n",
       "      <th>telephone1</th>\n",
       "      <th>...</th>\n",
       "      <th>mobile</th>\n",
       "      <th>mobile2</th>\n",
       "      <th>ptc_name</th>\n",
       "      <th>Email</th>\n",
       "      <th>Email1</th>\n",
       "      <th>CompanyEmail</th>\n",
       "      <th>Website</th>\n",
       "      <th>level1</th>\n",
       "      <th>level2</th>\n",
       "      <th>level3</th>\n",
       "    </tr>\n",
       "  </thead>\n",
       "  <tbody>\n",
       "    <tr>\n",
       "      <th>7001</th>\n",
       "      <td>4</td>\n",
       "      <td>1</td>\n",
       "      <td>342003.0</td>\n",
       "      <td>3</td>\n",
       "      <td>0</td>\n",
       "      <td>1</td>\n",
       "      <td>0</td>\n",
       "      <td>3</td>\n",
       "      <td>291</td>\n",
       "      <td>0</td>\n",
       "      <td>...</td>\n",
       "      <td>0</td>\n",
       "      <td>1</td>\n",
       "      <td>3</td>\n",
       "      <td>0</td>\n",
       "      <td>0</td>\n",
       "      <td>2</td>\n",
       "      <td>3</td>\n",
       "      <td>1</td>\n",
       "      <td>0</td>\n",
       "      <td>1</td>\n",
       "    </tr>\n",
       "    <tr>\n",
       "      <th>11665</th>\n",
       "      <td>5</td>\n",
       "      <td>4</td>\n",
       "      <td>395003.0</td>\n",
       "      <td>4</td>\n",
       "      <td>5</td>\n",
       "      <td>2</td>\n",
       "      <td>4</td>\n",
       "      <td>1</td>\n",
       "      <td>261</td>\n",
       "      <td>2</td>\n",
       "      <td>...</td>\n",
       "      <td>4</td>\n",
       "      <td>2</td>\n",
       "      <td>4</td>\n",
       "      <td>5</td>\n",
       "      <td>2</td>\n",
       "      <td>4</td>\n",
       "      <td>4</td>\n",
       "      <td>2</td>\n",
       "      <td>1</td>\n",
       "      <td>2</td>\n",
       "    </tr>\n",
       "    <tr>\n",
       "      <th>14915</th>\n",
       "      <td>0</td>\n",
       "      <td>3</td>\n",
       "      <td>411026.0</td>\n",
       "      <td>1</td>\n",
       "      <td>3</td>\n",
       "      <td>5</td>\n",
       "      <td>3</td>\n",
       "      <td>5</td>\n",
       "      <td>20</td>\n",
       "      <td>1</td>\n",
       "      <td>...</td>\n",
       "      <td>5</td>\n",
       "      <td>0</td>\n",
       "      <td>0</td>\n",
       "      <td>1</td>\n",
       "      <td>0</td>\n",
       "      <td>0</td>\n",
       "      <td>0</td>\n",
       "      <td>2</td>\n",
       "      <td>2</td>\n",
       "      <td>0</td>\n",
       "    </tr>\n",
       "    <tr>\n",
       "      <th>14916</th>\n",
       "      <td>1</td>\n",
       "      <td>3</td>\n",
       "      <td>411015.0</td>\n",
       "      <td>5</td>\n",
       "      <td>2</td>\n",
       "      <td>4</td>\n",
       "      <td>5</td>\n",
       "      <td>0</td>\n",
       "      <td>20</td>\n",
       "      <td>4</td>\n",
       "      <td>...</td>\n",
       "      <td>1</td>\n",
       "      <td>0</td>\n",
       "      <td>0</td>\n",
       "      <td>3</td>\n",
       "      <td>0</td>\n",
       "      <td>0</td>\n",
       "      <td>0</td>\n",
       "      <td>0</td>\n",
       "      <td>4</td>\n",
       "      <td>4</td>\n",
       "    </tr>\n",
       "    <tr>\n",
       "      <th>20066</th>\n",
       "      <td>3</td>\n",
       "      <td>2</td>\n",
       "      <td>400053.0</td>\n",
       "      <td>0</td>\n",
       "      <td>1</td>\n",
       "      <td>0</td>\n",
       "      <td>2</td>\n",
       "      <td>2</td>\n",
       "      <td>22</td>\n",
       "      <td>3</td>\n",
       "      <td>...</td>\n",
       "      <td>3</td>\n",
       "      <td>3</td>\n",
       "      <td>2</td>\n",
       "      <td>2</td>\n",
       "      <td>3</td>\n",
       "      <td>1</td>\n",
       "      <td>2</td>\n",
       "      <td>1</td>\n",
       "      <td>0</td>\n",
       "      <td>1</td>\n",
       "    </tr>\n",
       "    <tr>\n",
       "      <th>28571</th>\n",
       "      <td>2</td>\n",
       "      <td>0</td>\n",
       "      <td>110029.0</td>\n",
       "      <td>2</td>\n",
       "      <td>4</td>\n",
       "      <td>3</td>\n",
       "      <td>1</td>\n",
       "      <td>4</td>\n",
       "      <td>11</td>\n",
       "      <td>5</td>\n",
       "      <td>...</td>\n",
       "      <td>2</td>\n",
       "      <td>0</td>\n",
       "      <td>1</td>\n",
       "      <td>4</td>\n",
       "      <td>1</td>\n",
       "      <td>3</td>\n",
       "      <td>1</td>\n",
       "      <td>3</td>\n",
       "      <td>3</td>\n",
       "      <td>3</td>\n",
       "    </tr>\n",
       "  </tbody>\n",
       "</table>\n",
       "<p>6 rows × 22 columns</p>\n",
       "</div>"
      ],
      "text/plain": [
       "       Company  city   pincode  locality  Sub_Locality  Address  \\\n",
       "7001         4     1  342003.0         3             0        1   \n",
       "11665        5     4  395003.0         4             5        2   \n",
       "14915        0     3  411026.0         1             3        5   \n",
       "14916        1     3  411015.0         5             2        4   \n",
       "20066        3     2  400053.0         0             1        0   \n",
       "28571        2     0  110029.0         2             4        3   \n",
       "\n",
       "       Building_Name  Landmarks  StdCode  telephone1  ...  mobile  mobile2  \\\n",
       "7001               0          3      291           0  ...       0        1   \n",
       "11665              4          1      261           2  ...       4        2   \n",
       "14915              3          5       20           1  ...       5        0   \n",
       "14916              5          0       20           4  ...       1        0   \n",
       "20066              2          2       22           3  ...       3        3   \n",
       "28571              1          4       11           5  ...       2        0   \n",
       "\n",
       "       ptc_name  Email  Email1  CompanyEmail  Website  level1  level2  level3  \n",
       "7001          3      0       0             2        3       1       0       1  \n",
       "11665         4      5       2             4        4       2       1       2  \n",
       "14915         0      1       0             0        0       2       2       0  \n",
       "14916         0      3       0             0        0       0       4       4  \n",
       "20066         2      2       3             1        2       1       0       1  \n",
       "28571         1      4       1             3        1       3       3       3  \n",
       "\n",
       "[6 rows x 22 columns]"
      ]
     },
     "execution_count": 137,
     "metadata": {},
     "output_type": "execute_result"
    }
   ],
   "source": [
    "data"
   ]
  },
  {
   "cell_type": "code",
   "execution_count": 162,
   "id": "6868a898",
   "metadata": {},
   "outputs": [],
   "source": [
    "y=data['StdCode']\n",
    "x=data.drop('StdCode',axis=1)\n"
   ]
  },
  {
   "cell_type": "markdown",
   "id": "f7ef1d9c",
   "metadata": {},
   "source": [
    "**TRAINING AND TESTING DATA**"
   ]
  },
  {
   "cell_type": "code",
   "execution_count": 163,
   "id": "40b3c989",
   "metadata": {},
   "outputs": [],
   "source": [
    "from sklearn.model_selection import train_test_split\n",
    "x_train,x_test,y_train,y_test=train_test_split(x,y,random_state=0,test_size=0.2)\n"
   ]
  },
  {
   "cell_type": "code",
   "execution_count": 164,
   "id": "d6c4910a",
   "metadata": {},
   "outputs": [
    {
     "name": "stdout",
     "output_type": "stream",
     "text": [
      "4\n",
      "2\n",
      "4\n",
      "2\n"
     ]
    }
   ],
   "source": [
    "print(len(x_train))\n",
    "print(len(x_test))\n",
    "print(len(y_train))\n",
    "print(len(y_test))\n"
   ]
  },
  {
   "cell_type": "markdown",
   "id": "a077245a",
   "metadata": {},
   "source": [
    "**MODELS**\n",
    "\n",
    "**Logistic Regression**\n",
    "\n",
    "**Logistic regression is a statistical model that in its basic form uses a logistic function to model a binary dependent variable, although many more complex extensions exist. In regression analysis, logistic regression (or logit regression) is estimating the parameters of a logistic model (a form of binary regression).**"
   ]
  },
  {
   "cell_type": "code",
   "execution_count": 165,
   "id": "19989929",
   "metadata": {},
   "outputs": [
    {
     "data": {
      "text/plain": [
       "LogisticRegression()"
      ]
     },
     "execution_count": 165,
     "metadata": {},
     "output_type": "execute_result"
    }
   ],
   "source": [
    "from sklearn.linear_model import LogisticRegression\n",
    "reg = LogisticRegression()\n",
    "reg.fit(x_train,y_train)                         "
   ]
  },
  {
   "cell_type": "code",
   "execution_count": 213,
   "id": "fcb57685",
   "metadata": {},
   "outputs": [
    {
     "name": "stdout",
     "output_type": "stream",
     "text": [
      "Classification Report is:\n",
      "               precision    recall  f1-score   support\n",
      "\n",
      "          11       0.00      0.00      0.00         1\n",
      "          20       0.50      1.00      0.67         1\n",
      "\n",
      "    accuracy                           0.50         2\n",
      "   macro avg       0.25      0.50      0.33         2\n",
      "weighted avg       0.25      0.50      0.33         2\n",
      "\n",
      "Confusion Matrix:\n",
      " [[0 1]\n",
      " [0 1]]\n",
      "Accuracy Score of Logistic Regression is : 50.0\n"
     ]
    }
   ],
   "source": [
    "from sklearn.metrics import accuracy_score,confusion_matrix\n",
    "from sklearn.metrics import classification_report\n",
    "y_pred_reg=reg.predict(x_test)\n",
    "acc_reg = accuracy_score(y_test, y_pred_reg)\n",
    "print(\"Classification Report is:\\n\",classification_report(y_test,y_pred_reg))\n",
    "print(\"Confusion Matrix:\\n\",confusion_matrix(y_test,y_pred_reg))\n",
    "print(f\"Accuracy Score of Logistic Regression is : {acc_reg*100}\")\n"
   ]
  },
  {
   "cell_type": "markdown",
   "id": "c4586b43",
   "metadata": {},
   "source": [
    "**DECISION TREE CLASSIFIER**\n",
    "\n",
    "**Decision trees use multiple algorithms to decide to split a node into two or more sub-nodes. The creation of sub-nodes increases the homogeneity of resultant sub-nodes. ... The decision tree splits the nodes on all available variables and then selects the split which results in most homogeneous sub-nodes.**\n",
    "\n"
   ]
  },
  {
   "cell_type": "code",
   "execution_count": 204,
   "id": "47e6c653",
   "metadata": {},
   "outputs": [
    {
     "data": {
      "text/plain": [
       "DecisionTreeClassifier(criterion='entropy', max_depth=6, random_state=123)"
      ]
     },
     "execution_count": 204,
     "metadata": {},
     "output_type": "execute_result"
    }
   ],
   "source": [
    "from sklearn.tree import DecisionTreeClassifier\n",
    "dtree = DecisionTreeClassifier(max_depth=6, random_state=123,criterion='entropy')\n",
    "\n",
    "dtree.fit(x_train,y_train)\n"
   ]
  },
  {
   "cell_type": "code",
   "execution_count": 209,
   "id": "5d082316",
   "metadata": {},
   "outputs": [
    {
     "name": "stdout",
     "output_type": "stream",
     "text": [
      "[[0 1 0]\n",
      " [0 0 1]\n",
      " [0 0 0]]\n",
      "              precision    recall  f1-score   support\n",
      "\n",
      "          11       0.00      0.00      0.00       1.0\n",
      "          20       0.00      0.00      0.00       1.0\n",
      "         261       0.00      0.00      0.00       0.0\n",
      "\n",
      "    accuracy                           0.00       2.0\n",
      "   macro avg       0.00      0.00      0.00       2.0\n",
      "weighted avg       0.00      0.00      0.00       2.0\n",
      "\n",
      "Accuracy Score:\n",
      " 25.0\n"
     ]
    }
   ],
   "source": [
    "y_pred=dtree.predict(x_test)\n",
    "conf =print(confusion_matrix(y_test, y_pred))\n",
    "clf =print(classification_report(y_test, y_pred))\n",
    "print(\"Accuracy Score:\\n\",reg.score(x_train,y_train)*100)\n"
   ]
  },
  {
   "cell_type": "markdown",
   "id": "3b518079",
   "metadata": {},
   "source": [
    "**Random Forest Classifier**\n",
    "\n",
    "**A random forest classifier. A random forest is a meta estimator that fits a number of decision tree classifiers on various sub-samples of the dataset and uses averaging to improve the predictive accuracy and control over-fitting.**\n",
    "\n"
   ]
  },
  {
   "cell_type": "code",
   "execution_count": 174,
   "id": "c8fab819",
   "metadata": {},
   "outputs": [
    {
     "data": {
      "text/plain": [
       "RandomForestClassifier()"
      ]
     },
     "execution_count": 174,
     "metadata": {},
     "output_type": "execute_result"
    }
   ],
   "source": [
    "from sklearn.ensemble import RandomForestClassifier\n",
    "from sklearn.model_selection import GridSearchCV\n",
    "rfc=RandomForestClassifier()\n",
    "rfc.fit(x_train,y_train)\n"
   ]
  },
  {
   "cell_type": "code",
   "execution_count": 201,
   "id": "e9aa6d82",
   "metadata": {},
   "outputs": [
    {
     "name": "stdout",
     "output_type": "stream",
     "text": [
      "[[0 1]\n",
      " [0 1]]\n",
      "              precision    recall  f1-score   support\n",
      "\n",
      "          11       0.00      0.00      0.00         1\n",
      "          20       0.50      1.00      0.67         1\n",
      "\n",
      "    accuracy                           0.50         2\n",
      "   macro avg       0.25      0.50      0.33         2\n",
      "weighted avg       0.25      0.50      0.33         2\n",
      "\n",
      "Accuracy Score of the Random Forest Classifier:\n",
      " 100.0\n"
     ]
    }
   ],
   "source": [
    "y_pred=rfc.predict(x_test)\n",
    "conf =print(confusion_matrix(y_test, y_pred))\n",
    "clf =print(classification_report(y_test, y_pred))\n",
    "print(\"Accuracy Score of the Random Forest Classifier:\\n\",rfc.score(x_train,y_train)*100)\n"
   ]
  },
  {
   "cell_type": "markdown",
   "id": "082564c4",
   "metadata": {},
   "source": [
    "**AdaBoostClassifier**\n",
    "\n",
    "**An AdaBoost classifier is a meta-estimator that begins by fitting a classifier on the original dataset and then fits additional copies of the classifier on the same dataset but where the weights of incorrectly classified instances are adjusted such that subsequent classifiers focus more on difficult cases.**\n",
    "\n"
   ]
  },
  {
   "cell_type": "code",
   "execution_count": 194,
   "id": "b9f9569e",
   "metadata": {},
   "outputs": [
    {
     "data": {
      "text/plain": [
       "AdaBoostClassifier()"
      ]
     },
     "execution_count": 194,
     "metadata": {},
     "output_type": "execute_result"
    }
   ],
   "source": [
    "from sklearn.ensemble import AdaBoostClassifier\n",
    "adb = AdaBoostClassifier(base_estimator = None)\n",
    "adb.fit(x_train,y_train)\n"
   ]
  },
  {
   "cell_type": "code",
   "execution_count": 203,
   "id": "3d41e5bd",
   "metadata": {},
   "outputs": [
    {
     "name": "stdout",
     "output_type": "stream",
     "text": [
      "[[0 1]\n",
      " [0 1]]\n",
      "              precision    recall  f1-score   support\n",
      "\n",
      "          11       0.00      0.00      0.00         1\n",
      "          20       0.50      1.00      0.67         1\n",
      "\n",
      "    accuracy                           0.50         2\n",
      "   macro avg       0.25      0.50      0.33         2\n",
      "weighted avg       0.25      0.50      0.33         2\n",
      "\n",
      "Accuracy Score of the AdaBoostClassifier:\n",
      " 100.0\n"
     ]
    }
   ],
   "source": [
    "y_pred=rfc.predict(x_test)\n",
    "conf =print(confusion_matrix(y_test, y_pred))\n",
    "clf =print(classification_report(y_test, y_pred))\n",
    "print(\"Accuracy Score of the AdaBoostClassifier:\\n\",adb.score(x_train,y_train)*100)"
   ]
  },
  {
   "cell_type": "code",
   "execution_count": 210,
   "id": "874afd1b",
   "metadata": {},
   "outputs": [
    {
     "data": {
      "text/html": [
       "<div>\n",
       "<style scoped>\n",
       "    .dataframe tbody tr th:only-of-type {\n",
       "        vertical-align: middle;\n",
       "    }\n",
       "\n",
       "    .dataframe tbody tr th {\n",
       "        vertical-align: top;\n",
       "    }\n",
       "\n",
       "    .dataframe thead th {\n",
       "        text-align: right;\n",
       "    }\n",
       "</style>\n",
       "<table border=\"1\" class=\"dataframe\">\n",
       "  <thead>\n",
       "    <tr style=\"text-align: right;\">\n",
       "      <th></th>\n",
       "      <th>Actual</th>\n",
       "      <th>Predicted</th>\n",
       "    </tr>\n",
       "  </thead>\n",
       "  <tbody>\n",
       "    <tr>\n",
       "      <th>28571</th>\n",
       "      <td>11</td>\n",
       "      <td>20</td>\n",
       "    </tr>\n",
       "    <tr>\n",
       "      <th>14915</th>\n",
       "      <td>20</td>\n",
       "      <td>261</td>\n",
       "    </tr>\n",
       "  </tbody>\n",
       "</table>\n",
       "</div>"
      ],
      "text/plain": [
       "       Actual  Predicted\n",
       "28571      11         20\n",
       "14915      20        261"
      ]
     },
     "execution_count": 210,
     "metadata": {},
     "output_type": "execute_result"
    }
   ],
   "source": [
    "data = pd.DataFrame({'Actual': y_test, 'Predicted': y_pred})\n",
    "data\n"
   ]
  },
  {
   "cell_type": "markdown",
   "id": "8b8659f4",
   "metadata": {},
   "source": [
    "**CONCLUSION :**\n",
    "    \n",
    "**So we get a good accuracy score of 100 % using Random Forest Classifier and Ada Boost Classifier.**\n",
    "\n",
    "**The accuracy of other models can be increased by Hypertuning.**"
   ]
  }
 ],
 "metadata": {
  "kernelspec": {
   "display_name": "Python 3",
   "language": "python",
   "name": "python3"
  },
  "language_info": {
   "codemirror_mode": {
    "name": "ipython",
    "version": 3
   },
   "file_extension": ".py",
   "mimetype": "text/x-python",
   "name": "python",
   "nbconvert_exporter": "python",
   "pygments_lexer": "ipython3",
   "version": "3.9.5"
  }
 },
 "nbformat": 4,
 "nbformat_minor": 5
}

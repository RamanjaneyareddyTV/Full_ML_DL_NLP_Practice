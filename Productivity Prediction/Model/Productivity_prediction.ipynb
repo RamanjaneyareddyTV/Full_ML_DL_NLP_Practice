{
 "cells": [
  {
   "cell_type": "markdown",
   "metadata": {},
   "source": [
    "# Productivity Prediction Model\n",
    "\n",
    "![](pro2.jpg)"
   ]
  },
  {
   "cell_type": "markdown",
   "metadata": {},
   "source": [
    "### Contents\n",
    "\n",
    "* [Abstract](#abstract)\n",
    "* [Dataset](#dataset)\n",
    "* [Importing the required libraries](#import)\n",
    "* [Part A :: Exploratory Data Analysis](#part-a)\n",
    "   * [Categorial Features](#features)\n",
    "   * [Numeric Features](#numeric)\n",
    "   * [Actual v/s Predicted Productivity](#12n)\n",
    "   * [Heatmap](#13n)\n",
    "   * [One Hot Encoding](#131n)\n",
    "   * [Label Encoding](#14n)\n",
    "   * [Target Label Productivity](#15n)\n",
    "   * [Balancing Data](#16n)\n",
    "   * [Spliting the Dataset](#split)\n",
    "* [Part B :: Prediction Models](#part-b)\n",
    "   * [Machine Learning Classifiers to train the model](#b1)\n",
    "   * [Tuning Random Forest Classifier ](#b2)\n",
    "* [Conclusion and Comparison of the algorithms](#conclusion)"
   ]
  },
  {
   "cell_type": "markdown",
   "metadata": {
    "id": "LnfumlFsR4kG",
    "papermill": {
     "duration": 0.109742,
     "end_time": "2021-06-10T15:08:09.595302",
     "exception": false,
     "start_time": "2021-06-10T15:08:09.485560",
     "status": "completed"
    },
    "tags": []
   },
   "source": [
    "<a id = 'abstract'></a>\n",
    "### Abstract\n",
    "\n",
    "The Garment Industry is one of the key examples of the industrial globalization of this modern era. It is a highly labour-intensive industry with lots of manual processes. Satisfying the huge global demand for garment products is mostly dependent on the production and delivery performance of the employees in the garment manufacturing companies. So, it is highly desirable among the decision makers in the garments industry to track, analyse and predict the productivity performance of the working teams in their factories\n",
    "\n",
    "### Content\n",
    "\n",
    "This dataset includes important attributes of the garment manufacturing process and the productivity of the employees which had been collected manually and also been validated by the industry experts.\n",
    "\n",
    "### Inspiration\n",
    "\n",
    "This dataset can be used for regression purpose by predicting the productivity range (0-1) or for classification purpose by transforming the productivity range (0-1) into different classes.\n",
    "\n",
    "### Goal\n",
    "\n",
    "It is highly desirable among the decision makers in the garments industry to track, analyse and predict the productivity performance of the working teams in their factories.\n",
    "\n"
   ]
  },
  {
   "cell_type": "markdown",
   "metadata": {
    "id": "Jnmb835iR4kH",
    "papermill": {
     "duration": 0.104385,
     "end_time": "2021-06-10T15:08:09.804740",
     "exception": false,
     "start_time": "2021-06-10T15:08:09.700355",
     "status": "completed"
    },
    "tags": []
   },
   "source": [
    "<a id = 'dataset'></a>\n",
    "### Dataset\n",
    "The dataset which is used here, collected from kaggle website. Here is the link : https://www.kaggle.com/ishadss/productivity-prediction-of-garment-employees\n",
    "\n",
    "**Factors of the dataset :**\n",
    "\n",
    "01 date : Date in MM-DD-YYYY\n",
    "\n",
    "02 day : Day of the Week\n",
    "\n",
    "03 quarter : A portion of the month. A month was divided into four quarters\n",
    "\n",
    "04 department : Associated department with the instance\n",
    "\n",
    "05 teamno : Associated team number with the instance \n",
    "\n",
    "06 noofworkers : Number of workers in each team \n",
    "\n",
    "07 noofstylechange : Number of changes in the style of a particular product\n",
    "\n",
    "08 targetedproductivity : Targeted productivity set by the Authority for each team for each day. \n",
    "\n",
    "09 smv : Standard Minute Value, it is the allocated time for a task \n",
    "\n",
    "10 wip : Work in progress. Includes the number of unfinished items for products \n",
    "\n",
    "11 overtime : Represents the amount of overtime by each team in minutes\n",
    "\n",
    "12 incentive : Represents the amount of financial incentive (in BDT) that enables or motivates a particular course of action.\n",
    "\n",
    "13 idletime : The amount of time when the production was interrupted due to several reasons \n",
    "\n",
    "14 idlemen : The number of workers who were idle due to production interruption\n",
    "\n",
    "15 actual_productivity : The actual % of productivity that was delivered by the workers. It ranges from 0-1."
   ]
  },
  {
   "cell_type": "markdown",
   "metadata": {
    "id": "TCuisfEBR4kH",
    "papermill": {
     "duration": 0.103987,
     "end_time": "2021-06-10T15:08:10.011391",
     "exception": false,
     "start_time": "2021-06-10T15:08:09.907404",
     "status": "completed"
    },
    "tags": []
   },
   "source": [
    "<a id = 'import'></a>\n",
    "### Importing Libraries and Data"
   ]
  },
  {
   "cell_type": "code",
   "execution_count": 1,
   "metadata": {
    "ExecuteTime": {
     "end_time": "2021-05-19T20:22:06.333498Z",
     "start_time": "2021-05-19T20:22:03.220979Z"
    },
    "execution": {
     "iopub.execute_input": "2021-06-10T15:08:10.234888Z",
     "iopub.status.busy": "2021-06-10T15:08:10.234268Z",
     "iopub.status.idle": "2021-06-10T15:08:11.079748Z",
     "shell.execute_reply": "2021-06-10T15:08:11.078924Z",
     "shell.execute_reply.started": "2021-05-27T14:48:35.387867Z"
    },
    "id": "q_eROiObR4kI",
    "papermill": {
     "duration": 0.962862,
     "end_time": "2021-06-10T15:08:11.079939",
     "exception": false,
     "start_time": "2021-06-10T15:08:10.117077",
     "status": "completed"
    },
    "tags": []
   },
   "outputs": [],
   "source": [
    "import pandas as pd\n",
    "import numpy as np\n",
    "import seaborn as sns\n",
    "import matplotlib.pyplot as plt\n",
    "from matplotlib import pyplot\n",
    "%matplotlib inline"
   ]
  },
  {
   "cell_type": "code",
   "execution_count": 2,
   "metadata": {
    "execution": {
     "iopub.execute_input": "2021-06-10T15:08:11.295679Z",
     "iopub.status.busy": "2021-06-10T15:08:11.295058Z",
     "iopub.status.idle": "2021-06-10T15:08:11.305691Z",
     "shell.execute_reply": "2021-06-10T15:08:11.306166Z",
     "shell.execute_reply.started": "2021-05-27T14:48:35.397623Z"
    },
    "papermill": {
     "duration": 0.119662,
     "end_time": "2021-06-10T15:08:11.306324",
     "exception": false,
     "start_time": "2021-06-10T15:08:11.186662",
     "status": "completed"
    },
    "tags": []
   },
   "outputs": [
    {
     "name": "stdout",
     "output_type": "stream",
     "text": [
      "/kaggle/input/productivity-prediction-of-garment-employees/garments_worker_productivity.csv\n"
     ]
    }
   ],
   "source": [
    "import os\n",
    "for dirname, _, filenames in os.walk('/kaggle/input'):\n",
    "    for filename in filenames:\n",
    "        print(os.path.join(dirname, filename))"
   ]
  },
  {
   "cell_type": "code",
   "execution_count": 3,
   "metadata": {
    "ExecuteTime": {
     "end_time": "2021-05-19T20:22:06.499628Z",
     "start_time": "2021-05-19T20:22:06.379806Z"
    },
    "execution": {
     "iopub.execute_input": "2021-06-10T15:08:11.533052Z",
     "iopub.status.busy": "2021-06-10T15:08:11.531849Z",
     "iopub.status.idle": "2021-06-10T15:08:11.619601Z",
     "shell.execute_reply": "2021-06-10T15:08:11.619082Z",
     "shell.execute_reply.started": "2021-05-27T14:48:35.418292Z"
    },
    "id": "0vvQxQ0fR4kI",
    "outputId": "e84d7e30-fa64-4914-9689-991045a7c851",
    "papermill": {
     "duration": 0.206654,
     "end_time": "2021-06-10T15:08:11.619792",
     "exception": false,
     "start_time": "2021-06-10T15:08:11.413138",
     "status": "completed"
    },
    "tags": []
   },
   "outputs": [
    {
     "data": {
      "text/html": [
       "<div>\n",
       "<style scoped>\n",
       "    .dataframe tbody tr th:only-of-type {\n",
       "        vertical-align: middle;\n",
       "    }\n",
       "\n",
       "    .dataframe tbody tr th {\n",
       "        vertical-align: top;\n",
       "    }\n",
       "\n",
       "    .dataframe thead th {\n",
       "        text-align: right;\n",
       "    }\n",
       "</style>\n",
       "<table border=\"1\" class=\"dataframe\">\n",
       "  <thead>\n",
       "    <tr style=\"text-align: right;\">\n",
       "      <th></th>\n",
       "      <th>quarter</th>\n",
       "      <th>department</th>\n",
       "      <th>day</th>\n",
       "      <th>team</th>\n",
       "      <th>targeted_productivity</th>\n",
       "      <th>smv</th>\n",
       "      <th>wip</th>\n",
       "      <th>over_time</th>\n",
       "      <th>incentive</th>\n",
       "      <th>idle_time</th>\n",
       "      <th>idle_men</th>\n",
       "      <th>no_of_style_change</th>\n",
       "      <th>no_of_workers</th>\n",
       "      <th>actual_productivity</th>\n",
       "    </tr>\n",
       "    <tr>\n",
       "      <th>date</th>\n",
       "      <th></th>\n",
       "      <th></th>\n",
       "      <th></th>\n",
       "      <th></th>\n",
       "      <th></th>\n",
       "      <th></th>\n",
       "      <th></th>\n",
       "      <th></th>\n",
       "      <th></th>\n",
       "      <th></th>\n",
       "      <th></th>\n",
       "      <th></th>\n",
       "      <th></th>\n",
       "      <th></th>\n",
       "    </tr>\n",
       "  </thead>\n",
       "  <tbody>\n",
       "    <tr>\n",
       "      <th>2015-01-01</th>\n",
       "      <td>Quarter1</td>\n",
       "      <td>sweing</td>\n",
       "      <td>Thursday</td>\n",
       "      <td>8</td>\n",
       "      <td>0.80</td>\n",
       "      <td>26.16</td>\n",
       "      <td>1108.0</td>\n",
       "      <td>7080</td>\n",
       "      <td>98</td>\n",
       "      <td>0.0</td>\n",
       "      <td>0</td>\n",
       "      <td>0</td>\n",
       "      <td>59.0</td>\n",
       "      <td>0.940725</td>\n",
       "    </tr>\n",
       "    <tr>\n",
       "      <th>2015-01-01</th>\n",
       "      <td>Quarter1</td>\n",
       "      <td>finishing</td>\n",
       "      <td>Thursday</td>\n",
       "      <td>1</td>\n",
       "      <td>0.75</td>\n",
       "      <td>3.94</td>\n",
       "      <td>NaN</td>\n",
       "      <td>960</td>\n",
       "      <td>0</td>\n",
       "      <td>0.0</td>\n",
       "      <td>0</td>\n",
       "      <td>0</td>\n",
       "      <td>8.0</td>\n",
       "      <td>0.886500</td>\n",
       "    </tr>\n",
       "    <tr>\n",
       "      <th>2015-01-01</th>\n",
       "      <td>Quarter1</td>\n",
       "      <td>sweing</td>\n",
       "      <td>Thursday</td>\n",
       "      <td>11</td>\n",
       "      <td>0.80</td>\n",
       "      <td>11.41</td>\n",
       "      <td>968.0</td>\n",
       "      <td>3660</td>\n",
       "      <td>50</td>\n",
       "      <td>0.0</td>\n",
       "      <td>0</td>\n",
       "      <td>0</td>\n",
       "      <td>30.5</td>\n",
       "      <td>0.800570</td>\n",
       "    </tr>\n",
       "    <tr>\n",
       "      <th>2015-01-01</th>\n",
       "      <td>Quarter1</td>\n",
       "      <td>sweing</td>\n",
       "      <td>Thursday</td>\n",
       "      <td>12</td>\n",
       "      <td>0.80</td>\n",
       "      <td>11.41</td>\n",
       "      <td>968.0</td>\n",
       "      <td>3660</td>\n",
       "      <td>50</td>\n",
       "      <td>0.0</td>\n",
       "      <td>0</td>\n",
       "      <td>0</td>\n",
       "      <td>30.5</td>\n",
       "      <td>0.800570</td>\n",
       "    </tr>\n",
       "    <tr>\n",
       "      <th>2015-01-01</th>\n",
       "      <td>Quarter1</td>\n",
       "      <td>sweing</td>\n",
       "      <td>Thursday</td>\n",
       "      <td>6</td>\n",
       "      <td>0.80</td>\n",
       "      <td>25.90</td>\n",
       "      <td>1170.0</td>\n",
       "      <td>1920</td>\n",
       "      <td>50</td>\n",
       "      <td>0.0</td>\n",
       "      <td>0</td>\n",
       "      <td>0</td>\n",
       "      <td>56.0</td>\n",
       "      <td>0.800382</td>\n",
       "    </tr>\n",
       "  </tbody>\n",
       "</table>\n",
       "</div>"
      ],
      "text/plain": [
       "             quarter  department       day  team  targeted_productivity  \\\n",
       "date                                                                      \n",
       "2015-01-01  Quarter1      sweing  Thursday     8                   0.80   \n",
       "2015-01-01  Quarter1  finishing   Thursday     1                   0.75   \n",
       "2015-01-01  Quarter1      sweing  Thursday    11                   0.80   \n",
       "2015-01-01  Quarter1      sweing  Thursday    12                   0.80   \n",
       "2015-01-01  Quarter1      sweing  Thursday     6                   0.80   \n",
       "\n",
       "              smv     wip  over_time  incentive  idle_time  idle_men  \\\n",
       "date                                                                   \n",
       "2015-01-01  26.16  1108.0       7080         98        0.0         0   \n",
       "2015-01-01   3.94     NaN        960          0        0.0         0   \n",
       "2015-01-01  11.41   968.0       3660         50        0.0         0   \n",
       "2015-01-01  11.41   968.0       3660         50        0.0         0   \n",
       "2015-01-01  25.90  1170.0       1920         50        0.0         0   \n",
       "\n",
       "            no_of_style_change  no_of_workers  actual_productivity  \n",
       "date                                                                \n",
       "2015-01-01                   0           59.0             0.940725  \n",
       "2015-01-01                   0            8.0             0.886500  \n",
       "2015-01-01                   0           30.5             0.800570  \n",
       "2015-01-01                   0           30.5             0.800570  \n",
       "2015-01-01                   0           56.0             0.800382  "
      ]
     },
     "execution_count": 3,
     "metadata": {},
     "output_type": "execute_result"
    }
   ],
   "source": [
    "path = \"/kaggle/input/productivity-prediction-of-garment-employees/garments_worker_productivity.csv\"\n",
    "df=pd.read_csv(path, header=0, index_col=0, parse_dates=True, squeeze=True)\n",
    "df.head()"
   ]
  },
  {
   "cell_type": "code",
   "execution_count": 4,
   "metadata": {
    "ExecuteTime": {
     "end_time": "2021-05-19T20:22:06.595199Z",
     "start_time": "2021-05-19T20:22:06.583144Z"
    },
    "execution": {
     "iopub.execute_input": "2021-06-10T15:08:11.840431Z",
     "iopub.status.busy": "2021-06-10T15:08:11.839429Z",
     "iopub.status.idle": "2021-06-10T15:08:11.843158Z",
     "shell.execute_reply": "2021-06-10T15:08:11.843635Z",
     "shell.execute_reply.started": "2021-05-27T14:48:35.469155Z"
    },
    "id": "G2eYUAWUR4kI",
    "outputId": "48806f71-b8aa-4d70-b098-ec9d5b9abb26",
    "papermill": {
     "duration": 0.116887,
     "end_time": "2021-06-10T15:08:11.843839",
     "exception": false,
     "start_time": "2021-06-10T15:08:11.726952",
     "status": "completed"
    },
    "tags": []
   },
   "outputs": [
    {
     "data": {
      "text/plain": [
       "(1197, 14)"
      ]
     },
     "execution_count": 4,
     "metadata": {},
     "output_type": "execute_result"
    }
   ],
   "source": [
    "df.shape"
   ]
  },
  {
   "cell_type": "code",
   "execution_count": 5,
   "metadata": {
    "ExecuteTime": {
     "end_time": "2021-05-19T20:22:06.737054Z",
     "start_time": "2021-05-19T20:22:06.694432Z"
    },
    "execution": {
     "iopub.execute_input": "2021-06-10T15:08:12.072047Z",
     "iopub.status.busy": "2021-06-10T15:08:12.071017Z",
     "iopub.status.idle": "2021-06-10T15:08:12.081290Z",
     "shell.execute_reply": "2021-06-10T15:08:12.081745Z",
     "shell.execute_reply.started": "2021-05-27T14:48:35.478407Z"
    },
    "id": "kcUVPaFDR4kJ",
    "outputId": "8411e172-eabf-4a28-c907-3abb367682b3",
    "papermill": {
     "duration": 0.130099,
     "end_time": "2021-06-10T15:08:12.081934",
     "exception": false,
     "start_time": "2021-06-10T15:08:11.951835",
     "status": "completed"
    },
    "tags": []
   },
   "outputs": [
    {
     "name": "stdout",
     "output_type": "stream",
     "text": [
      "<class 'pandas.core.frame.DataFrame'>\n",
      "DatetimeIndex: 1197 entries, 2015-01-01 to 2015-03-11\n",
      "Data columns (total 14 columns):\n",
      " #   Column                 Non-Null Count  Dtype  \n",
      "---  ------                 --------------  -----  \n",
      " 0   quarter                1197 non-null   object \n",
      " 1   department             1197 non-null   object \n",
      " 2   day                    1197 non-null   object \n",
      " 3   team                   1197 non-null   int64  \n",
      " 4   targeted_productivity  1197 non-null   float64\n",
      " 5   smv                    1197 non-null   float64\n",
      " 6   wip                    691 non-null    float64\n",
      " 7   over_time              1197 non-null   int64  \n",
      " 8   incentive              1197 non-null   int64  \n",
      " 9   idle_time              1197 non-null   float64\n",
      " 10  idle_men               1197 non-null   int64  \n",
      " 11  no_of_style_change     1197 non-null   int64  \n",
      " 12  no_of_workers          1197 non-null   float64\n",
      " 13  actual_productivity    1197 non-null   float64\n",
      "dtypes: float64(6), int64(5), object(3)\n",
      "memory usage: 140.3+ KB\n"
     ]
    }
   ],
   "source": [
    "df.info()"
   ]
  },
  {
   "cell_type": "markdown",
   "metadata": {
    "id": "QAjgliC9R4kJ",
    "papermill": {
     "duration": 0.106335,
     "end_time": "2021-06-10T15:08:12.295456",
     "exception": false,
     "start_time": "2021-06-10T15:08:12.189121",
     "status": "completed"
    },
    "tags": []
   },
   "source": [
    "There are mising values in wip column"
   ]
  },
  {
   "cell_type": "code",
   "execution_count": 6,
   "metadata": {
    "ExecuteTime": {
     "end_time": "2021-05-19T20:22:11.395958Z",
     "start_time": "2021-05-19T20:22:11.367575Z"
    },
    "execution": {
     "iopub.execute_input": "2021-06-10T15:08:12.514107Z",
     "iopub.status.busy": "2021-06-10T15:08:12.513483Z",
     "iopub.status.idle": "2021-06-10T15:08:12.517515Z",
     "shell.execute_reply": "2021-06-10T15:08:12.516929Z",
     "shell.execute_reply.started": "2021-05-27T14:48:35.509601Z"
    },
    "id": "yMr_XCpqR4kJ",
    "outputId": "61c727c9-a87d-4178-b1c1-7ee79616081e",
    "papermill": {
     "duration": 0.117651,
     "end_time": "2021-06-10T15:08:12.517670",
     "exception": false,
     "start_time": "2021-06-10T15:08:12.400019",
     "status": "completed"
    },
    "tags": []
   },
   "outputs": [
    {
     "data": {
      "text/plain": [
       "quarter                    0\n",
       "department                 0\n",
       "day                        0\n",
       "team                       0\n",
       "targeted_productivity      0\n",
       "smv                        0\n",
       "wip                      506\n",
       "over_time                  0\n",
       "incentive                  0\n",
       "idle_time                  0\n",
       "idle_men                   0\n",
       "no_of_style_change         0\n",
       "no_of_workers              0\n",
       "actual_productivity        0\n",
       "dtype: int64"
      ]
     },
     "execution_count": 6,
     "metadata": {},
     "output_type": "execute_result"
    }
   ],
   "source": [
    "df.isnull().sum()"
   ]
  },
  {
   "cell_type": "code",
   "execution_count": 7,
   "metadata": {
    "ExecuteTime": {
     "end_time": "2021-05-19T20:22:15.523136Z",
     "start_time": "2021-05-19T20:22:15.42853Z"
    },
    "execution": {
     "iopub.execute_input": "2021-06-10T15:08:12.740689Z",
     "iopub.status.busy": "2021-06-10T15:08:12.739787Z",
     "iopub.status.idle": "2021-06-10T15:08:12.784319Z",
     "shell.execute_reply": "2021-06-10T15:08:12.783787Z",
     "shell.execute_reply.started": "2021-05-27T14:48:35.523045Z"
    },
    "id": "Rv6fV7OdR4kK",
    "outputId": "aba2e2bd-8f56-4e70-eee3-43b67546d08e",
    "papermill": {
     "duration": 0.158983,
     "end_time": "2021-06-10T15:08:12.784461",
     "exception": false,
     "start_time": "2021-06-10T15:08:12.625478",
     "status": "completed"
    },
    "tags": []
   },
   "outputs": [
    {
     "data": {
      "text/html": [
       "<div>\n",
       "<style scoped>\n",
       "    .dataframe tbody tr th:only-of-type {\n",
       "        vertical-align: middle;\n",
       "    }\n",
       "\n",
       "    .dataframe tbody tr th {\n",
       "        vertical-align: top;\n",
       "    }\n",
       "\n",
       "    .dataframe thead th {\n",
       "        text-align: right;\n",
       "    }\n",
       "</style>\n",
       "<table border=\"1\" class=\"dataframe\">\n",
       "  <thead>\n",
       "    <tr style=\"text-align: right;\">\n",
       "      <th></th>\n",
       "      <th>team</th>\n",
       "      <th>targeted_productivity</th>\n",
       "      <th>smv</th>\n",
       "      <th>wip</th>\n",
       "      <th>over_time</th>\n",
       "      <th>incentive</th>\n",
       "      <th>idle_time</th>\n",
       "      <th>idle_men</th>\n",
       "      <th>no_of_style_change</th>\n",
       "      <th>no_of_workers</th>\n",
       "      <th>actual_productivity</th>\n",
       "    </tr>\n",
       "  </thead>\n",
       "  <tbody>\n",
       "    <tr>\n",
       "      <th>count</th>\n",
       "      <td>1197.000000</td>\n",
       "      <td>1197.000000</td>\n",
       "      <td>1197.000000</td>\n",
       "      <td>691.000000</td>\n",
       "      <td>1197.000000</td>\n",
       "      <td>1197.000000</td>\n",
       "      <td>1197.000000</td>\n",
       "      <td>1197.000000</td>\n",
       "      <td>1197.000000</td>\n",
       "      <td>1197.000000</td>\n",
       "      <td>1197.000000</td>\n",
       "    </tr>\n",
       "    <tr>\n",
       "      <th>mean</th>\n",
       "      <td>6.426901</td>\n",
       "      <td>0.729632</td>\n",
       "      <td>15.062172</td>\n",
       "      <td>1190.465991</td>\n",
       "      <td>4567.460317</td>\n",
       "      <td>38.210526</td>\n",
       "      <td>0.730159</td>\n",
       "      <td>0.369256</td>\n",
       "      <td>0.150376</td>\n",
       "      <td>34.609858</td>\n",
       "      <td>0.735091</td>\n",
       "    </tr>\n",
       "    <tr>\n",
       "      <th>std</th>\n",
       "      <td>3.463963</td>\n",
       "      <td>0.097891</td>\n",
       "      <td>10.943219</td>\n",
       "      <td>1837.455001</td>\n",
       "      <td>3348.823563</td>\n",
       "      <td>160.182643</td>\n",
       "      <td>12.709757</td>\n",
       "      <td>3.268987</td>\n",
       "      <td>0.427848</td>\n",
       "      <td>22.197687</td>\n",
       "      <td>0.174488</td>\n",
       "    </tr>\n",
       "    <tr>\n",
       "      <th>min</th>\n",
       "      <td>1.000000</td>\n",
       "      <td>0.070000</td>\n",
       "      <td>2.900000</td>\n",
       "      <td>7.000000</td>\n",
       "      <td>0.000000</td>\n",
       "      <td>0.000000</td>\n",
       "      <td>0.000000</td>\n",
       "      <td>0.000000</td>\n",
       "      <td>0.000000</td>\n",
       "      <td>2.000000</td>\n",
       "      <td>0.233705</td>\n",
       "    </tr>\n",
       "    <tr>\n",
       "      <th>25%</th>\n",
       "      <td>3.000000</td>\n",
       "      <td>0.700000</td>\n",
       "      <td>3.940000</td>\n",
       "      <td>774.500000</td>\n",
       "      <td>1440.000000</td>\n",
       "      <td>0.000000</td>\n",
       "      <td>0.000000</td>\n",
       "      <td>0.000000</td>\n",
       "      <td>0.000000</td>\n",
       "      <td>9.000000</td>\n",
       "      <td>0.650307</td>\n",
       "    </tr>\n",
       "    <tr>\n",
       "      <th>50%</th>\n",
       "      <td>6.000000</td>\n",
       "      <td>0.750000</td>\n",
       "      <td>15.260000</td>\n",
       "      <td>1039.000000</td>\n",
       "      <td>3960.000000</td>\n",
       "      <td>0.000000</td>\n",
       "      <td>0.000000</td>\n",
       "      <td>0.000000</td>\n",
       "      <td>0.000000</td>\n",
       "      <td>34.000000</td>\n",
       "      <td>0.773333</td>\n",
       "    </tr>\n",
       "    <tr>\n",
       "      <th>75%</th>\n",
       "      <td>9.000000</td>\n",
       "      <td>0.800000</td>\n",
       "      <td>24.260000</td>\n",
       "      <td>1252.500000</td>\n",
       "      <td>6960.000000</td>\n",
       "      <td>50.000000</td>\n",
       "      <td>0.000000</td>\n",
       "      <td>0.000000</td>\n",
       "      <td>0.000000</td>\n",
       "      <td>57.000000</td>\n",
       "      <td>0.850253</td>\n",
       "    </tr>\n",
       "    <tr>\n",
       "      <th>max</th>\n",
       "      <td>12.000000</td>\n",
       "      <td>0.800000</td>\n",
       "      <td>54.560000</td>\n",
       "      <td>23122.000000</td>\n",
       "      <td>25920.000000</td>\n",
       "      <td>3600.000000</td>\n",
       "      <td>300.000000</td>\n",
       "      <td>45.000000</td>\n",
       "      <td>2.000000</td>\n",
       "      <td>89.000000</td>\n",
       "      <td>1.120437</td>\n",
       "    </tr>\n",
       "  </tbody>\n",
       "</table>\n",
       "</div>"
      ],
      "text/plain": [
       "              team  targeted_productivity          smv           wip  \\\n",
       "count  1197.000000            1197.000000  1197.000000    691.000000   \n",
       "mean      6.426901               0.729632    15.062172   1190.465991   \n",
       "std       3.463963               0.097891    10.943219   1837.455001   \n",
       "min       1.000000               0.070000     2.900000      7.000000   \n",
       "25%       3.000000               0.700000     3.940000    774.500000   \n",
       "50%       6.000000               0.750000    15.260000   1039.000000   \n",
       "75%       9.000000               0.800000    24.260000   1252.500000   \n",
       "max      12.000000               0.800000    54.560000  23122.000000   \n",
       "\n",
       "          over_time    incentive    idle_time     idle_men  \\\n",
       "count   1197.000000  1197.000000  1197.000000  1197.000000   \n",
       "mean    4567.460317    38.210526     0.730159     0.369256   \n",
       "std     3348.823563   160.182643    12.709757     3.268987   \n",
       "min        0.000000     0.000000     0.000000     0.000000   \n",
       "25%     1440.000000     0.000000     0.000000     0.000000   \n",
       "50%     3960.000000     0.000000     0.000000     0.000000   \n",
       "75%     6960.000000    50.000000     0.000000     0.000000   \n",
       "max    25920.000000  3600.000000   300.000000    45.000000   \n",
       "\n",
       "       no_of_style_change  no_of_workers  actual_productivity  \n",
       "count         1197.000000    1197.000000          1197.000000  \n",
       "mean             0.150376      34.609858             0.735091  \n",
       "std              0.427848      22.197687             0.174488  \n",
       "min              0.000000       2.000000             0.233705  \n",
       "25%              0.000000       9.000000             0.650307  \n",
       "50%              0.000000      34.000000             0.773333  \n",
       "75%              0.000000      57.000000             0.850253  \n",
       "max              2.000000      89.000000             1.120437  "
      ]
     },
     "execution_count": 7,
     "metadata": {},
     "output_type": "execute_result"
    }
   ],
   "source": [
    "df.describe()"
   ]
  },
  {
   "cell_type": "code",
   "execution_count": 8,
   "metadata": {
    "ExecuteTime": {
     "end_time": "2021-05-19T20:22:15.734229Z",
     "start_time": "2021-05-19T20:22:15.709216Z"
    },
    "execution": {
     "iopub.execute_input": "2021-06-10T15:08:13.007651Z",
     "iopub.status.busy": "2021-06-10T15:08:13.006822Z",
     "iopub.status.idle": "2021-06-10T15:08:13.011039Z",
     "shell.execute_reply": "2021-06-10T15:08:13.010447Z",
     "shell.execute_reply.started": "2021-05-27T14:48:35.576214Z"
    },
    "papermill": {
     "duration": 0.115729,
     "end_time": "2021-06-10T15:08:13.011161",
     "exception": false,
     "start_time": "2021-06-10T15:08:12.895432",
     "status": "completed"
    },
    "tags": []
   },
   "outputs": [
    {
     "data": {
      "text/plain": [
       "(1197, 14)"
      ]
     },
     "execution_count": 8,
     "metadata": {},
     "output_type": "execute_result"
    }
   ],
   "source": [
    "df.shape"
   ]
  },
  {
   "cell_type": "markdown",
   "metadata": {
    "papermill": {
     "duration": 0.107934,
     "end_time": "2021-06-10T15:08:13.226039",
     "exception": false,
     "start_time": "2021-06-10T15:08:13.118105",
     "status": "completed"
    },
    "tags": []
   },
   "source": [
    "In order to have a quick overwiev of the data pairplot diagram will be used here"
   ]
  },
  {
   "cell_type": "code",
   "execution_count": 9,
   "metadata": {
    "ExecuteTime": {
     "end_time": "2021-05-19T20:22:18.494587Z",
     "start_time": "2021-05-19T20:22:18.46681Z"
    },
    "execution": {
     "iopub.execute_input": "2021-06-10T15:08:13.440822Z",
     "iopub.status.busy": "2021-06-10T15:08:13.440146Z",
     "iopub.status.idle": "2021-06-10T15:08:13.442099Z",
     "shell.execute_reply": "2021-06-10T15:08:13.442525Z",
     "shell.execute_reply.started": "2021-05-27T14:48:35.585529Z"
    },
    "id": "f3B_6mPER4ka",
    "outputId": "d8dc7395-f123-41e5-8144-8dcb707521e0",
    "papermill": {
     "duration": 0.111354,
     "end_time": "2021-06-10T15:08:13.442691",
     "exception": false,
     "start_time": "2021-06-10T15:08:13.331337",
     "status": "completed"
    },
    "tags": []
   },
   "outputs": [],
   "source": [
    "#sns.pairplot(df)"
   ]
  },
  {
   "cell_type": "markdown",
   "metadata": {
    "papermill": {
     "duration": 0.108128,
     "end_time": "2021-06-10T15:08:13.658417",
     "exception": false,
     "start_time": "2021-06-10T15:08:13.550289",
     "status": "completed"
    },
    "tags": []
   },
   "source": [
    "<a id = 'part-a'></a>\n",
    "## Part A :: Exploratory Data Analysis\n",
    "Exploratory Data Analysis refers to the critical process of performing initial investigations on data so as to discover patterns,to spot anomalies,to test hypothesis and to check assumptions with the help of summary statistics and graphical representations.\n"
   ]
  },
  {
   "cell_type": "markdown",
   "metadata": {
    "papermill": {
     "duration": 0.107428,
     "end_time": "2021-06-10T15:08:13.873459",
     "exception": false,
     "start_time": "2021-06-10T15:08:13.766031",
     "status": "completed"
    },
    "tags": []
   },
   "source": [
    "<a id = 'features'></a>\n",
    "### Categorical Features\n",
    "\n",
    "Quarter,department,team and day are categorical features"
   ]
  },
  {
   "cell_type": "code",
   "execution_count": 10,
   "metadata": {
    "ExecuteTime": {
     "end_time": "2021-05-19T20:24:28.15129Z",
     "start_time": "2021-05-19T20:24:28.125527Z"
    },
    "execution": {
     "iopub.execute_input": "2021-06-10T15:08:14.094222Z",
     "iopub.status.busy": "2021-06-10T15:08:14.093558Z",
     "iopub.status.idle": "2021-06-10T15:08:14.096697Z",
     "shell.execute_reply": "2021-06-10T15:08:14.097129Z",
     "shell.execute_reply.started": "2021-05-27T14:48:35.599852Z"
    },
    "papermill": {
     "duration": 0.115938,
     "end_time": "2021-06-10T15:08:14.097388",
     "exception": false,
     "start_time": "2021-06-10T15:08:13.981450",
     "status": "completed"
    },
    "tags": []
   },
   "outputs": [],
   "source": [
    "categorical_cols = ['quarter', 'department', 'day', 'team','no_of_style_change'] "
   ]
  },
  {
   "cell_type": "code",
   "execution_count": 11,
   "metadata": {
    "ExecuteTime": {
     "end_time": "2021-05-19T20:24:28.486083Z",
     "start_time": "2021-05-19T20:24:28.430604Z"
    },
    "execution": {
     "iopub.execute_input": "2021-06-10T15:08:14.319215Z",
     "iopub.status.busy": "2021-06-10T15:08:14.318562Z",
     "iopub.status.idle": "2021-06-10T15:08:14.337356Z",
     "shell.execute_reply": "2021-06-10T15:08:14.337817Z",
     "shell.execute_reply.started": "2021-05-27T14:48:35.639427Z"
    },
    "papermill": {
     "duration": 0.129611,
     "end_time": "2021-06-10T15:08:14.337990",
     "exception": false,
     "start_time": "2021-06-10T15:08:14.208379",
     "status": "completed"
    },
    "tags": []
   },
   "outputs": [
    {
     "data": {
      "text/html": [
       "<div>\n",
       "<style scoped>\n",
       "    .dataframe tbody tr th:only-of-type {\n",
       "        vertical-align: middle;\n",
       "    }\n",
       "\n",
       "    .dataframe tbody tr th {\n",
       "        vertical-align: top;\n",
       "    }\n",
       "\n",
       "    .dataframe thead th {\n",
       "        text-align: right;\n",
       "    }\n",
       "</style>\n",
       "<table border=\"1\" class=\"dataframe\">\n",
       "  <thead>\n",
       "    <tr style=\"text-align: right;\">\n",
       "      <th></th>\n",
       "      <th>quarter</th>\n",
       "      <th>department</th>\n",
       "      <th>day</th>\n",
       "      <th>team</th>\n",
       "      <th>targeted_productivity</th>\n",
       "      <th>smv</th>\n",
       "      <th>wip</th>\n",
       "      <th>over_time</th>\n",
       "      <th>incentive</th>\n",
       "      <th>idle_time</th>\n",
       "      <th>idle_men</th>\n",
       "      <th>no_of_style_change</th>\n",
       "      <th>no_of_workers</th>\n",
       "      <th>actual_productivity</th>\n",
       "    </tr>\n",
       "    <tr>\n",
       "      <th>date</th>\n",
       "      <th></th>\n",
       "      <th></th>\n",
       "      <th></th>\n",
       "      <th></th>\n",
       "      <th></th>\n",
       "      <th></th>\n",
       "      <th></th>\n",
       "      <th></th>\n",
       "      <th></th>\n",
       "      <th></th>\n",
       "      <th></th>\n",
       "      <th></th>\n",
       "      <th></th>\n",
       "      <th></th>\n",
       "    </tr>\n",
       "  </thead>\n",
       "  <tbody>\n",
       "    <tr>\n",
       "      <th>2015-01-01</th>\n",
       "      <td>Quarter1</td>\n",
       "      <td>sweing</td>\n",
       "      <td>Thursday</td>\n",
       "      <td>8</td>\n",
       "      <td>0.80</td>\n",
       "      <td>26.16</td>\n",
       "      <td>1108.0</td>\n",
       "      <td>7080</td>\n",
       "      <td>98</td>\n",
       "      <td>0.0</td>\n",
       "      <td>0</td>\n",
       "      <td>0</td>\n",
       "      <td>59.0</td>\n",
       "      <td>0.940725</td>\n",
       "    </tr>\n",
       "    <tr>\n",
       "      <th>2015-01-01</th>\n",
       "      <td>Quarter1</td>\n",
       "      <td>finishing</td>\n",
       "      <td>Thursday</td>\n",
       "      <td>1</td>\n",
       "      <td>0.75</td>\n",
       "      <td>3.94</td>\n",
       "      <td>NaN</td>\n",
       "      <td>960</td>\n",
       "      <td>0</td>\n",
       "      <td>0.0</td>\n",
       "      <td>0</td>\n",
       "      <td>0</td>\n",
       "      <td>8.0</td>\n",
       "      <td>0.886500</td>\n",
       "    </tr>\n",
       "    <tr>\n",
       "      <th>2015-01-01</th>\n",
       "      <td>Quarter1</td>\n",
       "      <td>sweing</td>\n",
       "      <td>Thursday</td>\n",
       "      <td>11</td>\n",
       "      <td>0.80</td>\n",
       "      <td>11.41</td>\n",
       "      <td>968.0</td>\n",
       "      <td>3660</td>\n",
       "      <td>50</td>\n",
       "      <td>0.0</td>\n",
       "      <td>0</td>\n",
       "      <td>0</td>\n",
       "      <td>30.5</td>\n",
       "      <td>0.800570</td>\n",
       "    </tr>\n",
       "    <tr>\n",
       "      <th>2015-01-01</th>\n",
       "      <td>Quarter1</td>\n",
       "      <td>sweing</td>\n",
       "      <td>Thursday</td>\n",
       "      <td>12</td>\n",
       "      <td>0.80</td>\n",
       "      <td>11.41</td>\n",
       "      <td>968.0</td>\n",
       "      <td>3660</td>\n",
       "      <td>50</td>\n",
       "      <td>0.0</td>\n",
       "      <td>0</td>\n",
       "      <td>0</td>\n",
       "      <td>30.5</td>\n",
       "      <td>0.800570</td>\n",
       "    </tr>\n",
       "    <tr>\n",
       "      <th>2015-01-01</th>\n",
       "      <td>Quarter1</td>\n",
       "      <td>sweing</td>\n",
       "      <td>Thursday</td>\n",
       "      <td>6</td>\n",
       "      <td>0.80</td>\n",
       "      <td>25.90</td>\n",
       "      <td>1170.0</td>\n",
       "      <td>1920</td>\n",
       "      <td>50</td>\n",
       "      <td>0.0</td>\n",
       "      <td>0</td>\n",
       "      <td>0</td>\n",
       "      <td>56.0</td>\n",
       "      <td>0.800382</td>\n",
       "    </tr>\n",
       "  </tbody>\n",
       "</table>\n",
       "</div>"
      ],
      "text/plain": [
       "             quarter  department       day  team  targeted_productivity  \\\n",
       "date                                                                      \n",
       "2015-01-01  Quarter1      sweing  Thursday     8                   0.80   \n",
       "2015-01-01  Quarter1  finishing   Thursday     1                   0.75   \n",
       "2015-01-01  Quarter1      sweing  Thursday    11                   0.80   \n",
       "2015-01-01  Quarter1      sweing  Thursday    12                   0.80   \n",
       "2015-01-01  Quarter1      sweing  Thursday     6                   0.80   \n",
       "\n",
       "              smv     wip  over_time  incentive  idle_time  idle_men  \\\n",
       "date                                                                   \n",
       "2015-01-01  26.16  1108.0       7080         98        0.0         0   \n",
       "2015-01-01   3.94     NaN        960          0        0.0         0   \n",
       "2015-01-01  11.41   968.0       3660         50        0.0         0   \n",
       "2015-01-01  11.41   968.0       3660         50        0.0         0   \n",
       "2015-01-01  25.90  1170.0       1920         50        0.0         0   \n",
       "\n",
       "            no_of_style_change  no_of_workers  actual_productivity  \n",
       "date                                                                \n",
       "2015-01-01                   0           59.0             0.940725  \n",
       "2015-01-01                   0            8.0             0.886500  \n",
       "2015-01-01                   0           30.5             0.800570  \n",
       "2015-01-01                   0           30.5             0.800570  \n",
       "2015-01-01                   0           56.0             0.800382  "
      ]
     },
     "execution_count": 11,
     "metadata": {},
     "output_type": "execute_result"
    }
   ],
   "source": [
    "df.head()"
   ]
  },
  {
   "cell_type": "markdown",
   "metadata": {
    "id": "nv1OBgWwR4kM",
    "papermill": {
     "duration": 0.10832,
     "end_time": "2021-06-10T15:08:14.554470",
     "exception": false,
     "start_time": "2021-06-10T15:08:14.446150",
     "status": "completed"
    },
    "tags": []
   },
   "source": [
    "<a id = '1'></a>\n",
    "### 1-Quarter"
   ]
  },
  {
   "cell_type": "code",
   "execution_count": 12,
   "metadata": {
    "ExecuteTime": {
     "end_time": "2021-05-19T20:24:29.854501Z",
     "start_time": "2021-05-19T20:24:29.809016Z"
    },
    "execution": {
     "iopub.execute_input": "2021-06-10T15:08:14.773377Z",
     "iopub.status.busy": "2021-06-10T15:08:14.772720Z",
     "iopub.status.idle": "2021-06-10T15:08:14.779407Z",
     "shell.execute_reply": "2021-06-10T15:08:14.779896Z",
     "shell.execute_reply.started": "2021-05-27T14:48:35.665513Z"
    },
    "papermill": {
     "duration": 0.118089,
     "end_time": "2021-06-10T15:08:14.780063",
     "exception": false,
     "start_time": "2021-06-10T15:08:14.661974",
     "status": "completed"
    },
    "tags": []
   },
   "outputs": [
    {
     "data": {
      "text/plain": [
       "Quarter1    360\n",
       "Quarter2    335\n",
       "Quarter4    248\n",
       "Quarter3    210\n",
       "Quarter5     44\n",
       "Name: quarter, dtype: int64"
      ]
     },
     "execution_count": 12,
     "metadata": {},
     "output_type": "execute_result"
    }
   ],
   "source": [
    "df['quarter'].value_counts()"
   ]
  },
  {
   "cell_type": "markdown",
   "metadata": {
    "papermill": {
     "duration": 0.107789,
     "end_time": "2021-06-10T15:08:14.996649",
     "exception": false,
     "start_time": "2021-06-10T15:08:14.888860",
     "status": "completed"
    },
    "tags": []
   },
   "source": [
    "There are 5 quarter as quarter 1, quarter 2, quarter 3, quarter 4, quarter 5, which are not evenly distributed"
   ]
  },
  {
   "cell_type": "code",
   "execution_count": 13,
   "metadata": {
    "ExecuteTime": {
     "end_time": "2021-05-19T20:28:54.271061Z",
     "start_time": "2021-05-19T20:28:54.092002Z"
    },
    "execution": {
     "iopub.execute_input": "2021-06-10T15:08:15.217695Z",
     "iopub.status.busy": "2021-06-10T15:08:15.217108Z",
     "iopub.status.idle": "2021-06-10T15:08:15.390382Z",
     "shell.execute_reply": "2021-06-10T15:08:15.389853Z",
     "shell.execute_reply.started": "2021-05-27T14:48:35.675212Z"
    },
    "papermill": {
     "duration": 0.285849,
     "end_time": "2021-06-10T15:08:15.390533",
     "exception": false,
     "start_time": "2021-06-10T15:08:15.104684",
     "status": "completed"
    },
    "tags": []
   },
   "outputs": [
    {
     "data": {
      "image/png": "[encoded data removed]",
      "text/plain": [
       "<Figure size 432x288 with 1 Axes>"
      ]
     },
     "metadata": {
      "needs_background": "light"
     },
     "output_type": "display_data"
    }
   ],
   "source": [
    "pyplot.plot(df.index,df.quarter)\n",
    "plt.show()"
   ]
  },
  {
   "cell_type": "markdown",
   "metadata": {
    "id": "8SmLe-baT_Xs",
    "papermill": {
     "duration": 0.109853,
     "end_time": "2021-06-10T15:08:15.658392",
     "exception": false,
     "start_time": "2021-06-10T15:08:15.548539",
     "status": "completed"
    },
    "tags": []
   },
   "source": [
    "When we checked the dates it can be observed that there is a repeated pattern for all quarters with time except Quarter5. We need to look into Quarter5 deeply. There should be a reason for that exception "
   ]
  },
  {
   "cell_type": "code",
   "execution_count": 14,
   "metadata": {
    "execution": {
     "iopub.execute_input": "2021-06-10T15:08:15.886015Z",
     "iopub.status.busy": "2021-06-10T15:08:15.885379Z",
     "iopub.status.idle": "2021-06-10T15:08:15.888199Z",
     "shell.execute_reply": "2021-06-10T15:08:15.888644Z",
     "shell.execute_reply.started": "2021-05-27T14:48:35.867118Z"
    },
    "papermill": {
     "duration": 0.120609,
     "end_time": "2021-06-10T15:08:15.888846",
     "exception": false,
     "start_time": "2021-06-10T15:08:15.768237",
     "status": "completed"
    },
    "tags": []
   },
   "outputs": [],
   "source": [
    "df_1=df[df['quarter']=='Quarter5']"
   ]
  },
  {
   "cell_type": "code",
   "execution_count": 15,
   "metadata": {
    "execution": {
     "iopub.execute_input": "2021-06-10T15:08:16.116421Z",
     "iopub.status.busy": "2021-06-10T15:08:16.115749Z",
     "iopub.status.idle": "2021-06-10T15:08:16.119416Z",
     "shell.execute_reply": "2021-06-10T15:08:16.119911Z",
     "shell.execute_reply.started": "2021-05-27T14:48:35.877559Z"
    },
    "papermill": {
     "duration": 0.120552,
     "end_time": "2021-06-10T15:08:16.120080",
     "exception": false,
     "start_time": "2021-06-10T15:08:15.999528",
     "status": "completed"
    },
    "tags": []
   },
   "outputs": [
    {
     "data": {
      "text/plain": [
       "(44, 14)"
      ]
     },
     "execution_count": 15,
     "metadata": {},
     "output_type": "execute_result"
    }
   ],
   "source": [
    "df_1.shape"
   ]
  },
  {
   "cell_type": "code",
   "execution_count": 16,
   "metadata": {
    "execution": {
     "iopub.execute_input": "2021-06-10T15:08:16.346600Z",
     "iopub.status.busy": "2021-06-10T15:08:16.345981Z",
     "iopub.status.idle": "2021-06-10T15:08:16.349706Z",
     "shell.execute_reply": "2021-06-10T15:08:16.350217Z",
     "shell.execute_reply.started": "2021-05-27T14:48:35.89057Z"
    },
    "papermill": {
     "duration": 0.119292,
     "end_time": "2021-06-10T15:08:16.350386",
     "exception": false,
     "start_time": "2021-06-10T15:08:16.231094",
     "status": "completed"
    },
    "tags": []
   },
   "outputs": [
    {
     "data": {
      "text/plain": [
       "DatetimeIndex(['2015-01-29', '2015-01-29', '2015-01-29', '2015-01-29',\n",
       "               '2015-01-29', '2015-01-29', '2015-01-29', '2015-01-29',\n",
       "               '2015-01-29', '2015-01-29', '2015-01-29', '2015-01-29',\n",
       "               '2015-01-29', '2015-01-29', '2015-01-29', '2015-01-29',\n",
       "               '2015-01-29', '2015-01-29', '2015-01-29', '2015-01-29',\n",
       "               '2015-01-31', '2015-01-31', '2015-01-31', '2015-01-31',\n",
       "               '2015-01-31', '2015-01-31', '2015-01-31', '2015-01-31',\n",
       "               '2015-01-31', '2015-01-31', '2015-01-31', '2015-01-31',\n",
       "               '2015-01-31', '2015-01-31', '2015-01-31', '2015-01-31',\n",
       "               '2015-01-31', '2015-01-31', '2015-01-31', '2015-01-31',\n",
       "               '2015-01-31', '2015-01-31', '2015-01-31', '2015-01-31'],\n",
       "              dtype='datetime64[ns]', name='date', freq=None)"
      ]
     },
     "execution_count": 16,
     "metadata": {},
     "output_type": "execute_result"
    }
   ],
   "source": [
    "df_1.index"
   ]
  },
  {
   "cell_type": "markdown",
   "metadata": {
    "papermill": {
     "duration": 0.109779,
     "end_time": "2021-06-10T15:08:16.570914",
     "exception": false,
     "start_time": "2021-06-10T15:08:16.461135",
     "status": "completed"
    },
    "tags": []
   },
   "source": [
    "Quarter5 contains 2 days as 29th and 31th of January. "
   ]
  },
  {
   "cell_type": "markdown",
   "metadata": {
    "id": "fYwCZOm3R4kN",
    "papermill": {
     "duration": 0.108738,
     "end_time": "2021-06-10T15:08:16.788437",
     "exception": false,
     "start_time": "2021-06-10T15:08:16.679699",
     "status": "completed"
    },
    "tags": []
   },
   "source": [
    "<a id = '2'></a>\n",
    "### 2-Department"
   ]
  },
  {
   "cell_type": "code",
   "execution_count": 17,
   "metadata": {
    "execution": {
     "iopub.execute_input": "2021-06-10T15:08:17.012983Z",
     "iopub.status.busy": "2021-06-10T15:08:17.012316Z",
     "iopub.status.idle": "2021-06-10T15:08:17.016239Z",
     "shell.execute_reply": "2021-06-10T15:08:17.015623Z",
     "shell.execute_reply.started": "2021-05-27T14:48:35.906673Z"
    },
    "id": "NFWDBnWvR4kN",
    "outputId": "903dfab4-bdba-4983-f8a7-e817ff4af483",
    "papermill": {
     "duration": 0.119347,
     "end_time": "2021-06-10T15:08:17.016368",
     "exception": false,
     "start_time": "2021-06-10T15:08:16.897021",
     "status": "completed"
    },
    "tags": []
   },
   "outputs": [
    {
     "data": {
      "text/plain": [
       "sweing        691\n",
       "finishing     257\n",
       "finishing     249\n",
       "Name: department, dtype: int64"
      ]
     },
     "execution_count": 17,
     "metadata": {},
     "output_type": "execute_result"
    }
   ],
   "source": [
    "df.department.value_counts() "
   ]
  },
  {
   "cell_type": "markdown",
   "metadata": {
    "papermill": {
     "duration": 0.112292,
     "end_time": "2021-06-10T15:08:17.240084",
     "exception": false,
     "start_time": "2021-06-10T15:08:17.127792",
     "status": "completed"
    },
    "tags": []
   },
   "source": [
    "There are 3 department namely sweing, finishing and finishing but we need to collect them into two group"
   ]
  },
  {
   "cell_type": "code",
   "execution_count": 18,
   "metadata": {
    "execution": {
     "iopub.execute_input": "2021-06-10T15:08:17.464620Z",
     "iopub.status.busy": "2021-06-10T15:08:17.464004Z",
     "iopub.status.idle": "2021-06-10T15:08:17.474713Z",
     "shell.execute_reply": "2021-06-10T15:08:17.474236Z",
     "shell.execute_reply.started": "2021-05-27T14:48:35.919552Z"
    },
    "id": "3yjzXLIiR4kN",
    "outputId": "d07d0cd2-95a0-49bd-afb2-12a18015e16c",
    "papermill": {
     "duration": 0.124061,
     "end_time": "2021-06-10T15:08:17.474884",
     "exception": false,
     "start_time": "2021-06-10T15:08:17.350823",
     "status": "completed"
    },
    "tags": []
   },
   "outputs": [
    {
     "data": {
      "text/plain": [
       "sweing       691\n",
       "finishing    506\n",
       "Name: department, dtype: int64"
      ]
     },
     "execution_count": 18,
     "metadata": {},
     "output_type": "execute_result"
    }
   ],
   "source": [
    "df=df.replace(['finishing '], ['finishing'])  \n",
    "df.department.value_counts()"
   ]
  },
  {
   "cell_type": "markdown",
   "metadata": {
    "id": "Vfj-4UqDR4kN",
    "papermill": {
     "duration": 0.109292,
     "end_time": "2021-06-10T15:08:17.695377",
     "exception": false,
     "start_time": "2021-06-10T15:08:17.586085",
     "status": "completed"
    },
    "tags": []
   },
   "source": [
    "<a id = '3'></a>\n",
    "### 3-Day"
   ]
  },
  {
   "cell_type": "code",
   "execution_count": 19,
   "metadata": {
    "execution": {
     "iopub.execute_input": "2021-06-10T15:08:17.918028Z",
     "iopub.status.busy": "2021-06-10T15:08:17.917430Z",
     "iopub.status.idle": "2021-06-10T15:08:17.919738Z",
     "shell.execute_reply": "2021-06-10T15:08:17.920231Z",
     "shell.execute_reply.started": "2021-05-27T14:48:35.939229Z"
    },
    "id": "yh5lHXmGR4kO",
    "outputId": "df996531-6216-4397-ada0-58b25f12c876",
    "papermill": {
     "duration": 0.117302,
     "end_time": "2021-06-10T15:08:17.920391",
     "exception": false,
     "start_time": "2021-06-10T15:08:17.803089",
     "status": "completed"
    },
    "tags": []
   },
   "outputs": [
    {
     "data": {
      "text/plain": [
       "Wednesday    208\n",
       "Sunday       203\n",
       "Tuesday      201\n",
       "Thursday     199\n",
       "Monday       199\n",
       "Saturday     187\n",
       "Name: day, dtype: int64"
      ]
     },
     "execution_count": 19,
     "metadata": {},
     "output_type": "execute_result"
    }
   ],
   "source": [
    "df.day.value_counts() "
   ]
  },
  {
   "cell_type": "markdown",
   "metadata": {
    "papermill": {
     "duration": 0.109349,
     "end_time": "2021-06-10T15:08:18.138718",
     "exception": false,
     "start_time": "2021-06-10T15:08:18.029369",
     "status": "completed"
    },
    "tags": []
   },
   "source": [
    "Friday is not a working day"
   ]
  },
  {
   "cell_type": "markdown",
   "metadata": {
    "id": "TcogVMUpR4kK",
    "papermill": {
     "duration": 0.111244,
     "end_time": "2021-06-10T15:08:18.360149",
     "exception": false,
     "start_time": "2021-06-10T15:08:18.248905",
     "status": "completed"
    },
    "tags": []
   },
   "source": [
    "<a id = 'numeric'></a>\n",
    "### Numeric Features\n"
   ]
  },
  {
   "cell_type": "code",
   "execution_count": 20,
   "metadata": {
    "execution": {
     "iopub.execute_input": "2021-06-10T15:08:18.584304Z",
     "iopub.status.busy": "2021-06-10T15:08:18.583651Z",
     "iopub.status.idle": "2021-06-10T15:08:18.591185Z",
     "shell.execute_reply": "2021-06-10T15:08:18.591614Z",
     "shell.execute_reply.started": "2021-05-27T14:48:35.949719Z"
    },
    "papermill": {
     "duration": 0.122012,
     "end_time": "2021-06-10T15:08:18.591811",
     "exception": false,
     "start_time": "2021-06-10T15:08:18.469799",
     "status": "completed"
    },
    "tags": []
   },
   "outputs": [
    {
     "data": {
      "text/plain": [
       "['team',\n",
       " 'targeted_productivity',\n",
       " 'smv',\n",
       " 'wip',\n",
       " 'over_time',\n",
       " 'incentive',\n",
       " 'idle_time',\n",
       " 'idle_men',\n",
       " 'no_of_style_change',\n",
       " 'no_of_workers',\n",
       " 'actual_productivity']"
      ]
     },
     "execution_count": 20,
     "metadata": {},
     "output_type": "execute_result"
    }
   ],
   "source": [
    "df.select_dtypes(include=np.number).columns.tolist()"
   ]
  },
  {
   "cell_type": "markdown",
   "metadata": {
    "papermill": {
     "duration": 0.115944,
     "end_time": "2021-06-10T15:08:18.818410",
     "exception": false,
     "start_time": "2021-06-10T15:08:18.702466",
     "status": "completed"
    },
    "tags": []
   },
   "source": [
    "In this case we have 11 numeric feature as given above but no_of_style_change will be handled as a categorical feature"
   ]
  },
  {
   "cell_type": "markdown",
   "metadata": {
    "papermill": {
     "duration": 0.129548,
     "end_time": "2021-06-10T15:08:19.091551",
     "exception": false,
     "start_time": "2021-06-10T15:08:18.962003",
     "status": "completed"
    },
    "tags": []
   },
   "source": [
    "<a id = '1n'></a>\n",
    "### 1. Team"
   ]
  },
  {
   "cell_type": "code",
   "execution_count": 21,
   "metadata": {
    "execution": {
     "iopub.execute_input": "2021-06-10T15:08:19.332421Z",
     "iopub.status.busy": "2021-06-10T15:08:19.331721Z",
     "iopub.status.idle": "2021-06-10T15:08:19.518855Z",
     "shell.execute_reply": "2021-06-10T15:08:19.518299Z",
     "shell.execute_reply.started": "2021-05-27T14:48:35.967228Z"
    },
    "id": "chxsCT9-R4kO",
    "outputId": "f2aa47d5-98c2-4265-92ec-ce25cb8afd1b",
    "papermill": {
     "duration": 0.308733,
     "end_time": "2021-06-10T15:08:19.519013",
     "exception": false,
     "start_time": "2021-06-10T15:08:19.210280",
     "status": "completed"
    },
    "tags": []
   },
   "outputs": [
    {
     "data": {
      "image/png": "[encoded data removed]",
      "text/plain": [
       "<Figure size 432x288 with 1 Axes>"
      ]
     },
     "metadata": {
      "needs_background": "light"
     },
     "output_type": "display_data"
    }
   ],
   "source": [
    "ax = sns.countplot(x = 'team', data = df, palette=[\"#3f3e6fd1\", \"#85c6a9\"])\n",
    "plt.xlabel('No of Teams')\n",
    "plt.show()\n"
   ]
  },
  {
   "cell_type": "markdown",
   "metadata": {
    "papermill": {
     "duration": 0.116507,
     "end_time": "2021-06-10T15:08:19.751439",
     "exception": false,
     "start_time": "2021-06-10T15:08:19.634932",
     "status": "completed"
    },
    "tags": []
   },
   "source": [
    "There are 12 teams. Because It is highly desirable among the decision makers in the garments industry to track, analyse and predict the productivity performance of the working teams in their factories, my analsys will be on team basis."
   ]
  },
  {
   "cell_type": "markdown",
   "metadata": {
    "papermill": {
     "duration": 0.112688,
     "end_time": "2021-06-10T15:08:19.977425",
     "exception": false,
     "start_time": "2021-06-10T15:08:19.864737",
     "status": "completed"
    },
    "tags": []
   },
   "source": [
    "<a id = '2n'></a>\n",
    "### 2. SMV\n",
    "\n",
    "Standard Minute Value, it is the allocated time for a task"
   ]
  },
  {
   "cell_type": "code",
   "execution_count": 22,
   "metadata": {
    "execution": {
     "iopub.execute_input": "2021-06-10T15:08:20.211647Z",
     "iopub.status.busy": "2021-06-10T15:08:20.211026Z",
     "iopub.status.idle": "2021-06-10T15:08:20.927211Z",
     "shell.execute_reply": "2021-06-10T15:08:20.927671Z",
     "shell.execute_reply.started": "2021-05-27T14:48:36.156302Z"
    },
    "papermill": {
     "duration": 0.837386,
     "end_time": "2021-06-10T15:08:20.927869",
     "exception": false,
     "start_time": "2021-06-10T15:08:20.090483",
     "status": "completed"
    },
    "tags": []
   },
   "outputs": [
    {
     "data": {
      "image/png": "[encoded data removed]",
      "text/plain": [
       "<Figure size 1800x720 with 1 Axes>"
      ]
     },
     "metadata": {
      "needs_background": "light"
     },
     "output_type": "display_data"
    }
   ],
   "source": [
    "plt.figure(figsize=(25, 10))\n",
    "palette = \"Set3\"\n",
    "\n",
    "sns.boxplot(x=\"team\", y=\"smv\", hue=\"department\", data = df,\n",
    "     palette = palette, fliersize = 0)\n",
    "\n",
    "plt.title('smv distribution by team',fontsize= 14)\n",
    "plt.show()"
   ]
  },
  {
   "cell_type": "markdown",
   "metadata": {
    "papermill": {
     "duration": 0.113029,
     "end_time": "2021-06-10T15:08:21.158384",
     "exception": false,
     "start_time": "2021-06-10T15:08:21.045355",
     "status": "completed"
    },
    "tags": []
   },
   "source": [
    "When we look into smv boxplot on team basis with department seperation, it can be clearly seen that while there are fluctuations between teams in the sewing department, the finishing department has almost evenly distributed smv values for each team. "
   ]
  },
  {
   "cell_type": "code",
   "execution_count": 23,
   "metadata": {
    "execution": {
     "iopub.execute_input": "2021-06-10T15:08:21.388396Z",
     "iopub.status.busy": "2021-06-10T15:08:21.387722Z",
     "iopub.status.idle": "2021-06-10T15:08:21.645718Z",
     "shell.execute_reply": "2021-06-10T15:08:21.645252Z",
     "shell.execute_reply.started": "2021-05-27T14:48:36.798518Z"
    },
    "papermill": {
     "duration": 0.373875,
     "end_time": "2021-06-10T15:08:21.645871",
     "exception": false,
     "start_time": "2021-06-10T15:08:21.271996",
     "status": "completed"
    },
    "tags": []
   },
   "outputs": [
    {
     "data": {
      "text/plain": [
       "<AxesSubplot:xlabel='no_of_workers', ylabel='smv'>"
      ]
     },
     "execution_count": 23,
     "metadata": {},
     "output_type": "execute_result"
    },
    {
     "data": {
      "image/png": "[encoded data removed]",
      "text/plain": [
       "<Figure size 432x288 with 1 Axes>"
      ]
     },
     "metadata": {
      "needs_background": "light"
     },
     "output_type": "display_data"
    }
   ],
   "source": [
    "sns.scatterplot(data=df, x=\"no_of_workers\", y=\"smv\", hue=\"department\")"
   ]
  },
  {
   "cell_type": "markdown",
   "metadata": {
    "papermill": {
     "duration": 0.113749,
     "end_time": "2021-06-10T15:08:21.874317",
     "exception": false,
     "start_time": "2021-06-10T15:08:21.760568",
     "status": "completed"
    },
    "tags": []
   },
   "source": [
    "For the finising department smv doees not change with no_of_workers"
   ]
  },
  {
   "cell_type": "code",
   "execution_count": 24,
   "metadata": {
    "execution": {
     "iopub.execute_input": "2021-06-10T15:08:22.111888Z",
     "iopub.status.busy": "2021-06-10T15:08:22.111048Z",
     "iopub.status.idle": "2021-06-10T15:08:22.115268Z",
     "shell.execute_reply": "2021-06-10T15:08:22.114625Z",
     "shell.execute_reply.started": "2021-05-27T14:48:37.070792Z"
    },
    "papermill": {
     "duration": 0.126696,
     "end_time": "2021-06-10T15:08:22.115406",
     "exception": false,
     "start_time": "2021-06-10T15:08:21.988710",
     "status": "completed"
    },
    "tags": []
   },
   "outputs": [
    {
     "data": {
      "text/plain": [
       "Index(['quarter', 'department', 'day', 'team', 'targeted_productivity', 'smv',\n",
       "       'wip', 'over_time', 'incentive', 'idle_time', 'idle_men',\n",
       "       'no_of_style_change', 'no_of_workers', 'actual_productivity'],\n",
       "      dtype='object')"
      ]
     },
     "execution_count": 24,
     "metadata": {},
     "output_type": "execute_result"
    }
   ],
   "source": [
    "df.columns"
   ]
  },
  {
   "cell_type": "code",
   "execution_count": 25,
   "metadata": {
    "execution": {
     "iopub.execute_input": "2021-06-10T15:08:22.380573Z",
     "iopub.status.busy": "2021-06-10T15:08:22.379273Z",
     "iopub.status.idle": "2021-06-10T15:08:22.514250Z",
     "shell.execute_reply": "2021-06-10T15:08:22.513008Z",
     "shell.execute_reply.started": "2021-05-27T14:48:37.080016Z"
    },
    "papermill": {
     "duration": 0.28248,
     "end_time": "2021-06-10T15:08:22.514461",
     "exception": false,
     "start_time": "2021-06-10T15:08:22.231981",
     "status": "completed"
    },
    "tags": []
   },
   "outputs": [
    {
     "data": {
      "text/plain": [
       "[<matplotlib.lines.Line2D at 0x7fec391a3c90>]"
      ]
     },
     "execution_count": 25,
     "metadata": {},
     "output_type": "execute_result"
    },
    {
     "data": {
      "image/png": "[encoded data removed]",
      "text/plain": [
       "<Figure size 432x288 with 1 Axes>"
      ]
     },
     "metadata": {
      "needs_background": "light"
     },
     "output_type": "display_data"
    }
   ],
   "source": [
    "pyplot.plot(df.index,df.smv)"
   ]
  },
  {
   "cell_type": "markdown",
   "metadata": {
    "papermill": {
     "duration": 0.116561,
     "end_time": "2021-06-10T15:08:22.766912",
     "exception": false,
     "start_time": "2021-06-10T15:08:22.650351",
     "status": "completed"
    },
    "tags": []
   },
   "source": [
    "<a id = '3n'></a>\n",
    "### 3 WIP\n",
    "Work in progress. Includes the number of unfinished items for products"
   ]
  },
  {
   "cell_type": "code",
   "execution_count": 26,
   "metadata": {
    "execution": {
     "iopub.execute_input": "2021-06-10T15:08:23.005750Z",
     "iopub.status.busy": "2021-06-10T15:08:23.004885Z",
     "iopub.status.idle": "2021-06-10T15:08:23.008972Z",
     "shell.execute_reply": "2021-06-10T15:08:23.008470Z",
     "shell.execute_reply.started": "2021-05-27T14:48:37.243596Z"
    },
    "papermill": {
     "duration": 0.125979,
     "end_time": "2021-06-10T15:08:23.009111",
     "exception": false,
     "start_time": "2021-06-10T15:08:22.883132",
     "status": "completed"
    },
    "tags": []
   },
   "outputs": [
    {
     "data": {
      "text/plain": [
       "506"
      ]
     },
     "execution_count": 26,
     "metadata": {},
     "output_type": "execute_result"
    }
   ],
   "source": [
    "df.wip.isnull().sum()"
   ]
  },
  {
   "cell_type": "markdown",
   "metadata": {
    "papermill": {
     "duration": 0.116843,
     "end_time": "2021-06-10T15:08:23.244194",
     "exception": false,
     "start_time": "2021-06-10T15:08:23.127351",
     "status": "completed"
    },
    "tags": []
   },
   "source": [
    "There are 506 null values in wip column"
   ]
  },
  {
   "cell_type": "code",
   "execution_count": 27,
   "metadata": {
    "execution": {
     "iopub.execute_input": "2021-06-10T15:08:23.481182Z",
     "iopub.status.busy": "2021-06-10T15:08:23.480213Z",
     "iopub.status.idle": "2021-06-10T15:08:23.594343Z",
     "shell.execute_reply": "2021-06-10T15:08:23.593680Z",
     "shell.execute_reply.started": "2021-05-27T14:48:37.253492Z"
    },
    "papermill": {
     "duration": 0.235931,
     "end_time": "2021-06-10T15:08:23.594483",
     "exception": false,
     "start_time": "2021-06-10T15:08:23.358552",
     "status": "completed"
    },
    "tags": []
   },
   "outputs": [
    {
     "data": {
      "text/plain": [
       "<AxesSubplot:xlabel='department', ylabel='wip'>"
      ]
     },
     "execution_count": 27,
     "metadata": {},
     "output_type": "execute_result"
    },
    {
     "data": {
      "image/png": "[encoded data removed]",
      "text/plain": [
       "<Figure size 432x288 with 1 Axes>"
      ]
     },
     "metadata": {
      "needs_background": "light"
     },
     "output_type": "display_data"
    }
   ],
   "source": [
    "sns.boxplot(x='department',y='wip',data=df)"
   ]
  },
  {
   "cell_type": "markdown",
   "metadata": {
    "papermill": {
     "duration": 0.115916,
     "end_time": "2021-06-10T15:08:23.827714",
     "exception": false,
     "start_time": "2021-06-10T15:08:23.711798",
     "status": "completed"
    },
    "tags": []
   },
   "source": [
    "All null values belongs to the finishing department. The finishing department needs to get a work from the sewing department. This result could mean that the finishing department has no work in progress while waiting for work from the sewing department. So we can replace the null values with zero "
   ]
  },
  {
   "cell_type": "code",
   "execution_count": 28,
   "metadata": {
    "execution": {
     "iopub.execute_input": "2021-06-10T15:08:24.066935Z",
     "iopub.status.busy": "2021-06-10T15:08:24.066311Z",
     "iopub.status.idle": "2021-06-10T15:08:24.068249Z",
     "shell.execute_reply": "2021-06-10T15:08:24.068817Z",
     "shell.execute_reply.started": "2021-05-27T14:48:37.382426Z"
    },
    "id": "BLLPTmP0R4kL",
    "outputId": "481676ec-2b0b-4fec-b8b0-04ba826fc8e9",
    "papermill": {
     "duration": 0.124121,
     "end_time": "2021-06-10T15:08:24.068982",
     "exception": false,
     "start_time": "2021-06-10T15:08:23.944861",
     "status": "completed"
    },
    "tags": []
   },
   "outputs": [],
   "source": [
    "#df['wip'] = df['wip'].fillna(0)"
   ]
  },
  {
   "cell_type": "code",
   "execution_count": 29,
   "metadata": {
    "execution": {
     "iopub.execute_input": "2021-06-10T15:08:24.306025Z",
     "iopub.status.busy": "2021-06-10T15:08:24.305431Z",
     "iopub.status.idle": "2021-06-10T15:08:24.309785Z",
     "shell.execute_reply": "2021-06-10T15:08:24.309275Z",
     "shell.execute_reply.started": "2021-05-27T14:48:37.38882Z"
    },
    "id": "xAv6nIDQR4kL",
    "outputId": "46eb77a3-41a2-4bc5-c106-e636ffd02c72",
    "papermill": {
     "duration": 0.123422,
     "end_time": "2021-06-10T15:08:24.309930",
     "exception": false,
     "start_time": "2021-06-10T15:08:24.186508",
     "status": "completed"
    },
    "tags": []
   },
   "outputs": [],
   "source": [
    "#df.wip.isnull().sum()"
   ]
  },
  {
   "cell_type": "code",
   "execution_count": 30,
   "metadata": {
    "execution": {
     "iopub.execute_input": "2021-06-10T15:08:24.547392Z",
     "iopub.status.busy": "2021-06-10T15:08:24.546410Z",
     "iopub.status.idle": "2021-06-10T15:08:24.723587Z",
     "shell.execute_reply": "2021-06-10T15:08:24.722993Z",
     "shell.execute_reply.started": "2021-05-27T14:48:37.401834Z"
    },
    "papermill": {
     "duration": 0.297561,
     "end_time": "2021-06-10T15:08:24.723738",
     "exception": false,
     "start_time": "2021-06-10T15:08:24.426177",
     "status": "completed"
    },
    "tags": []
   },
   "outputs": [
    {
     "data": {
      "text/plain": [
       "([<matplotlib.axis.YTick at 0x7fec39094090>,\n",
       "  <matplotlib.axis.YTick at 0x7fec418f5610>,\n",
       "  <matplotlib.axis.YTick at 0x7fec390fef90>,\n",
       "  <matplotlib.axis.YTick at 0x7fec390bd850>,\n",
       "  <matplotlib.axis.YTick at 0x7fec390c8050>,\n",
       "  <matplotlib.axis.YTick at 0x7fec390c82d0>,\n",
       "  <matplotlib.axis.YTick at 0x7fec390c8a10>,\n",
       "  <matplotlib.axis.YTick at 0x7fec390c8b90>,\n",
       "  <matplotlib.axis.YTick at 0x7fec39051450>,\n",
       "  <matplotlib.axis.YTick at 0x7fec39051c90>,\n",
       "  <matplotlib.axis.YTick at 0x7fec3905d250>,\n",
       "  <matplotlib.axis.YTick at 0x7fec3905d4d0>],\n",
       " [Text(0, 0, ''),\n",
       "  Text(0, 0, ''),\n",
       "  Text(0, 0, ''),\n",
       "  Text(0, 0, ''),\n",
       "  Text(0, 0, ''),\n",
       "  Text(0, 0, ''),\n",
       "  Text(0, 0, ''),\n",
       "  Text(0, 0, ''),\n",
       "  Text(0, 0, ''),\n",
       "  Text(0, 0, ''),\n",
       "  Text(0, 0, ''),\n",
       "  Text(0, 0, '')])"
      ]
     },
     "execution_count": 30,
     "metadata": {},
     "output_type": "execute_result"
    },
    {
     "data": {
      "image/png": "[encoded data removed]",
      "text/plain": [
       "<Figure size 432x288 with 1 Axes>"
      ]
     },
     "metadata": {
      "needs_background": "light"
     },
     "output_type": "display_data"
    }
   ],
   "source": [
    "pyplot.plot(df.index,df.wip)\n",
    "plt.yticks(np.arange(0,30000,step=2500))"
   ]
  },
  {
   "cell_type": "code",
   "execution_count": 31,
   "metadata": {
    "execution": {
     "iopub.execute_input": "2021-06-10T15:08:24.971354Z",
     "iopub.status.busy": "2021-06-10T15:08:24.970376Z",
     "iopub.status.idle": "2021-06-10T15:08:24.973980Z",
     "shell.execute_reply": "2021-06-10T15:08:24.974403Z",
     "shell.execute_reply.started": "2021-05-27T14:48:37.590059Z"
    },
    "papermill": {
     "duration": 0.131474,
     "end_time": "2021-06-10T15:08:24.974591",
     "exception": false,
     "start_time": "2021-06-10T15:08:24.843117",
     "status": "completed"
    },
    "tags": []
   },
   "outputs": [
    {
     "data": {
      "text/plain": [
       "(10, 14)"
      ]
     },
     "execution_count": 31,
     "metadata": {},
     "output_type": "execute_result"
    }
   ],
   "source": [
    "df[df['wip']>2500].shape"
   ]
  },
  {
   "cell_type": "code",
   "execution_count": 32,
   "metadata": {
    "execution": {
     "iopub.execute_input": "2021-06-10T15:08:25.238243Z",
     "iopub.status.busy": "2021-06-10T15:08:25.237423Z",
     "iopub.status.idle": "2021-06-10T15:08:25.242679Z",
     "shell.execute_reply": "2021-06-10T15:08:25.241791Z",
     "shell.execute_reply.started": "2021-05-27T14:48:37.598659Z"
    },
    "papermill": {
     "duration": 0.148191,
     "end_time": "2021-06-10T15:08:25.242919",
     "exception": false,
     "start_time": "2021-06-10T15:08:25.094728",
     "status": "completed"
    },
    "tags": []
   },
   "outputs": [
    {
     "data": {
      "text/html": [
       "<div>\n",
       "<style scoped>\n",
       "    .dataframe tbody tr th:only-of-type {\n",
       "        vertical-align: middle;\n",
       "    }\n",
       "\n",
       "    .dataframe tbody tr th {\n",
       "        vertical-align: top;\n",
       "    }\n",
       "\n",
       "    .dataframe thead th {\n",
       "        text-align: right;\n",
       "    }\n",
       "</style>\n",
       "<table border=\"1\" class=\"dataframe\">\n",
       "  <thead>\n",
       "    <tr style=\"text-align: right;\">\n",
       "      <th></th>\n",
       "      <th>quarter</th>\n",
       "      <th>department</th>\n",
       "      <th>day</th>\n",
       "      <th>team</th>\n",
       "      <th>targeted_productivity</th>\n",
       "      <th>smv</th>\n",
       "      <th>wip</th>\n",
       "      <th>over_time</th>\n",
       "      <th>incentive</th>\n",
       "      <th>idle_time</th>\n",
       "      <th>idle_men</th>\n",
       "      <th>no_of_style_change</th>\n",
       "      <th>no_of_workers</th>\n",
       "      <th>actual_productivity</th>\n",
       "    </tr>\n",
       "    <tr>\n",
       "      <th>date</th>\n",
       "      <th></th>\n",
       "      <th></th>\n",
       "      <th></th>\n",
       "      <th></th>\n",
       "      <th></th>\n",
       "      <th></th>\n",
       "      <th></th>\n",
       "      <th></th>\n",
       "      <th></th>\n",
       "      <th></th>\n",
       "      <th></th>\n",
       "      <th></th>\n",
       "      <th></th>\n",
       "      <th></th>\n",
       "    </tr>\n",
       "  </thead>\n",
       "  <tbody>\n",
       "    <tr>\n",
       "      <th>2015-02-02</th>\n",
       "      <td>Quarter1</td>\n",
       "      <td>sweing</td>\n",
       "      <td>Monday</td>\n",
       "      <td>1</td>\n",
       "      <td>0.80</td>\n",
       "      <td>22.94</td>\n",
       "      <td>16882.0</td>\n",
       "      <td>7020</td>\n",
       "      <td>113</td>\n",
       "      <td>0.0</td>\n",
       "      <td>0</td>\n",
       "      <td>0</td>\n",
       "      <td>58.5</td>\n",
       "      <td>1.000602</td>\n",
       "    </tr>\n",
       "    <tr>\n",
       "      <th>2015-02-02</th>\n",
       "      <td>Quarter1</td>\n",
       "      <td>sweing</td>\n",
       "      <td>Monday</td>\n",
       "      <td>2</td>\n",
       "      <td>0.80</td>\n",
       "      <td>22.52</td>\n",
       "      <td>21385.0</td>\n",
       "      <td>7020</td>\n",
       "      <td>88</td>\n",
       "      <td>0.0</td>\n",
       "      <td>0</td>\n",
       "      <td>0</td>\n",
       "      <td>58.5</td>\n",
       "      <td>0.900158</td>\n",
       "    </tr>\n",
       "    <tr>\n",
       "      <th>2015-02-02</th>\n",
       "      <td>Quarter1</td>\n",
       "      <td>sweing</td>\n",
       "      <td>Monday</td>\n",
       "      <td>3</td>\n",
       "      <td>0.80</td>\n",
       "      <td>22.52</td>\n",
       "      <td>21266.0</td>\n",
       "      <td>6840</td>\n",
       "      <td>70</td>\n",
       "      <td>0.0</td>\n",
       "      <td>0</td>\n",
       "      <td>0</td>\n",
       "      <td>57.0</td>\n",
       "      <td>0.900142</td>\n",
       "    </tr>\n",
       "    <tr>\n",
       "      <th>2015-02-02</th>\n",
       "      <td>Quarter1</td>\n",
       "      <td>sweing</td>\n",
       "      <td>Monday</td>\n",
       "      <td>10</td>\n",
       "      <td>0.80</td>\n",
       "      <td>22.52</td>\n",
       "      <td>21540.0</td>\n",
       "      <td>6720</td>\n",
       "      <td>88</td>\n",
       "      <td>0.0</td>\n",
       "      <td>0</td>\n",
       "      <td>0</td>\n",
       "      <td>56.0</td>\n",
       "      <td>0.900130</td>\n",
       "    </tr>\n",
       "    <tr>\n",
       "      <th>2015-02-02</th>\n",
       "      <td>Quarter1</td>\n",
       "      <td>sweing</td>\n",
       "      <td>Monday</td>\n",
       "      <td>12</td>\n",
       "      <td>0.80</td>\n",
       "      <td>15.26</td>\n",
       "      <td>12261.0</td>\n",
       "      <td>3600</td>\n",
       "      <td>63</td>\n",
       "      <td>0.0</td>\n",
       "      <td>0</td>\n",
       "      <td>0</td>\n",
       "      <td>35.0</td>\n",
       "      <td>0.800402</td>\n",
       "    </tr>\n",
       "    <tr>\n",
       "      <th>2015-02-02</th>\n",
       "      <td>Quarter1</td>\n",
       "      <td>sweing</td>\n",
       "      <td>Monday</td>\n",
       "      <td>4</td>\n",
       "      <td>0.80</td>\n",
       "      <td>22.52</td>\n",
       "      <td>23122.0</td>\n",
       "      <td>5940</td>\n",
       "      <td>50</td>\n",
       "      <td>0.0</td>\n",
       "      <td>0</td>\n",
       "      <td>0</td>\n",
       "      <td>56.5</td>\n",
       "      <td>0.800393</td>\n",
       "    </tr>\n",
       "    <tr>\n",
       "      <th>2015-02-02</th>\n",
       "      <td>Quarter1</td>\n",
       "      <td>sweing</td>\n",
       "      <td>Monday</td>\n",
       "      <td>9</td>\n",
       "      <td>0.75</td>\n",
       "      <td>29.12</td>\n",
       "      <td>8992.0</td>\n",
       "      <td>6960</td>\n",
       "      <td>55</td>\n",
       "      <td>0.0</td>\n",
       "      <td>0</td>\n",
       "      <td>0</td>\n",
       "      <td>58.0</td>\n",
       "      <td>0.799963</td>\n",
       "    </tr>\n",
       "    <tr>\n",
       "      <th>2015-02-02</th>\n",
       "      <td>Quarter1</td>\n",
       "      <td>sweing</td>\n",
       "      <td>Monday</td>\n",
       "      <td>11</td>\n",
       "      <td>0.70</td>\n",
       "      <td>20.55</td>\n",
       "      <td>9792.0</td>\n",
       "      <td>6480</td>\n",
       "      <td>60</td>\n",
       "      <td>0.0</td>\n",
       "      <td>0</td>\n",
       "      <td>0</td>\n",
       "      <td>54.0</td>\n",
       "      <td>0.700398</td>\n",
       "    </tr>\n",
       "    <tr>\n",
       "      <th>2015-02-02</th>\n",
       "      <td>Quarter1</td>\n",
       "      <td>sweing</td>\n",
       "      <td>Monday</td>\n",
       "      <td>6</td>\n",
       "      <td>0.70</td>\n",
       "      <td>18.79</td>\n",
       "      <td>2984.0</td>\n",
       "      <td>3960</td>\n",
       "      <td>30</td>\n",
       "      <td>0.0</td>\n",
       "      <td>0</td>\n",
       "      <td>0</td>\n",
       "      <td>33.0</td>\n",
       "      <td>0.700355</td>\n",
       "    </tr>\n",
       "    <tr>\n",
       "      <th>2015-02-02</th>\n",
       "      <td>Quarter1</td>\n",
       "      <td>sweing</td>\n",
       "      <td>Monday</td>\n",
       "      <td>7</td>\n",
       "      <td>0.70</td>\n",
       "      <td>24.26</td>\n",
       "      <td>2698.0</td>\n",
       "      <td>6720</td>\n",
       "      <td>0</td>\n",
       "      <td>0.0</td>\n",
       "      <td>0</td>\n",
       "      <td>0</td>\n",
       "      <td>56.0</td>\n",
       "      <td>0.295308</td>\n",
       "    </tr>\n",
       "  </tbody>\n",
       "</table>\n",
       "</div>"
      ],
      "text/plain": [
       "             quarter department     day  team  targeted_productivity    smv  \\\n",
       "date                                                                          \n",
       "2015-02-02  Quarter1     sweing  Monday     1                   0.80  22.94   \n",
       "2015-02-02  Quarter1     sweing  Monday     2                   0.80  22.52   \n",
       "2015-02-02  Quarter1     sweing  Monday     3                   0.80  22.52   \n",
       "2015-02-02  Quarter1     sweing  Monday    10                   0.80  22.52   \n",
       "2015-02-02  Quarter1     sweing  Monday    12                   0.80  15.26   \n",
       "2015-02-02  Quarter1     sweing  Monday     4                   0.80  22.52   \n",
       "2015-02-02  Quarter1     sweing  Monday     9                   0.75  29.12   \n",
       "2015-02-02  Quarter1     sweing  Monday    11                   0.70  20.55   \n",
       "2015-02-02  Quarter1     sweing  Monday     6                   0.70  18.79   \n",
       "2015-02-02  Quarter1     sweing  Monday     7                   0.70  24.26   \n",
       "\n",
       "                wip  over_time  incentive  idle_time  idle_men  \\\n",
       "date                                                             \n",
       "2015-02-02  16882.0       7020        113        0.0         0   \n",
       "2015-02-02  21385.0       7020         88        0.0         0   \n",
       "2015-02-02  21266.0       6840         70        0.0         0   \n",
       "2015-02-02  21540.0       6720         88        0.0         0   \n",
       "2015-02-02  12261.0       3600         63        0.0         0   \n",
       "2015-02-02  23122.0       5940         50        0.0         0   \n",
       "2015-02-02   8992.0       6960         55        0.0         0   \n",
       "2015-02-02   9792.0       6480         60        0.0         0   \n",
       "2015-02-02   2984.0       3960         30        0.0         0   \n",
       "2015-02-02   2698.0       6720          0        0.0         0   \n",
       "\n",
       "            no_of_style_change  no_of_workers  actual_productivity  \n",
       "date                                                                \n",
       "2015-02-02                   0           58.5             1.000602  \n",
       "2015-02-02                   0           58.5             0.900158  \n",
       "2015-02-02                   0           57.0             0.900142  \n",
       "2015-02-02                   0           56.0             0.900130  \n",
       "2015-02-02                   0           35.0             0.800402  \n",
       "2015-02-02                   0           56.5             0.800393  \n",
       "2015-02-02                   0           58.0             0.799963  \n",
       "2015-02-02                   0           54.0             0.700398  \n",
       "2015-02-02                   0           33.0             0.700355  \n",
       "2015-02-02                   0           56.0             0.295308  "
      ]
     },
     "execution_count": 32,
     "metadata": {},
     "output_type": "execute_result"
    }
   ],
   "source": [
    "df[df['wip']>2500]"
   ]
  },
  {
   "cell_type": "markdown",
   "metadata": {
    "papermill": {
     "duration": 0.119314,
     "end_time": "2021-06-10T15:08:25.481688",
     "exception": false,
     "start_time": "2021-06-10T15:08:25.362374",
     "status": "completed"
    },
    "tags": []
   },
   "source": [
    "There are 10 rows with high wip values. Each of these records belongs to the sweating section in the 1st quarter and is on February 2nd."
   ]
  },
  {
   "cell_type": "markdown",
   "metadata": {
    "papermill": {
     "duration": 0.120193,
     "end_time": "2021-06-10T15:08:25.724621",
     "exception": false,
     "start_time": "2021-06-10T15:08:25.604428",
     "status": "completed"
    },
    "tags": []
   },
   "source": [
    "<a id = '4n'></a>\n",
    "### 4 Over Time"
   ]
  },
  {
   "cell_type": "code",
   "execution_count": 33,
   "metadata": {
    "execution": {
     "iopub.execute_input": "2021-06-10T15:08:25.973614Z",
     "iopub.status.busy": "2021-06-10T15:08:25.972926Z",
     "iopub.status.idle": "2021-06-10T15:08:26.101972Z",
     "shell.execute_reply": "2021-06-10T15:08:26.101344Z",
     "shell.execute_reply.started": "2021-05-27T14:48:37.634374Z"
    },
    "id": "FrsUINrpR4kR",
    "outputId": "dd3c78fa-49f6-4cf4-ec8a-6e49d4328d97",
    "papermill": {
     "duration": 0.256166,
     "end_time": "2021-06-10T15:08:26.102126",
     "exception": false,
     "start_time": "2021-06-10T15:08:25.845960",
     "status": "completed"
    },
    "tags": []
   },
   "outputs": [
    {
     "data": {
      "image/png": "[encoded data removed]",
      "text/plain": [
       "<Figure size 432x288 with 1 Axes>"
      ]
     },
     "metadata": {
      "needs_background": "light"
     },
     "output_type": "display_data"
    }
   ],
   "source": [
    "sns.boxplot(x='department',y='over_time',data=df)\n",
    "plt.show()"
   ]
  },
  {
   "cell_type": "code",
   "execution_count": 34,
   "metadata": {
    "execution": {
     "iopub.execute_input": "2021-06-10T15:08:26.352991Z",
     "iopub.status.busy": "2021-06-10T15:08:26.347604Z",
     "iopub.status.idle": "2021-06-10T15:08:26.655878Z",
     "shell.execute_reply": "2021-06-10T15:08:26.656318Z",
     "shell.execute_reply.started": "2021-05-27T14:48:37.780607Z"
    },
    "papermill": {
     "duration": 0.434233,
     "end_time": "2021-06-10T15:08:26.656493",
     "exception": false,
     "start_time": "2021-06-10T15:08:26.222260",
     "status": "completed"
    },
    "tags": []
   },
   "outputs": [
    {
     "data": {
      "image/png": "[encoded data removed]",
      "text/plain": [
       "<Figure size 432x288 with 1 Axes>"
      ]
     },
     "metadata": {
      "needs_background": "light"
     },
     "output_type": "display_data"
    }
   ],
   "source": [
    "sns.boxplot(x='team',y='over_time',data=df)\n",
    "plt.show()"
   ]
  },
  {
   "cell_type": "code",
   "execution_count": 35,
   "metadata": {
    "execution": {
     "iopub.execute_input": "2021-06-10T15:08:26.913591Z",
     "iopub.status.busy": "2021-06-10T15:08:26.911080Z",
     "iopub.status.idle": "2021-06-10T15:08:26.931430Z",
     "shell.execute_reply": "2021-06-10T15:08:26.930548Z",
     "shell.execute_reply.started": "2021-05-27T14:48:38.201624Z"
    },
    "papermill": {
     "duration": 0.152391,
     "end_time": "2021-06-10T15:08:26.931612",
     "exception": false,
     "start_time": "2021-06-10T15:08:26.779221",
     "status": "completed"
    },
    "tags": []
   },
   "outputs": [
    {
     "name": "stdout",
     "output_type": "stream",
     "text": [
      "Median over_time of team 1 sweings: 6960\n",
      "Median over_time of team 1 finishings: 1440\n",
      "Median over_time of team 2 sweings: 6840\n",
      "Median over_time of team 2 finishings: 1440\n",
      "Median over_time of team 3 sweings: 6840\n",
      "Median over_time of team 3 finishings: 1800\n",
      "Median over_time of team 4 sweings: 7020\n",
      "Median over_time of team 4 finishings: 1920\n",
      "Median over_time of team 5 sweings: 7080\n",
      "Median over_time of team 5 finishings: 1440\n",
      "Median over_time of team 6 sweings: 3960\n",
      "Median over_time of team 6 finishings: 960\n",
      "Median over_time of team 7 sweings: 6960\n",
      "Median over_time of team 7 finishings: 1440\n",
      "Median over_time of team 8 sweings: 6840\n",
      "Median over_time of team 8 finishings: 1440\n",
      "Median over_time of team 9 sweings: 6930\n",
      "Median over_time of team 9 finishings: 1140\n",
      "Median over_time of team 10 sweings: 6720\n",
      "Median over_time of team 10 finishings: 1440\n",
      "Median over_time of team 11 sweings: 3660\n",
      "Median over_time of team 11 finishings: 1440\n",
      "Median over_time of teams: 3960.0\n"
     ]
    }
   ],
   "source": [
    "over_time_by_team_department = df.groupby(['department', 'team']).median()['over_time']\n",
    "\n",
    "for team in range(1, 12):\n",
    "    for department in ['sweing', 'finishing']:\n",
    "        print('Median over_time of team {} {}s: {}'.format(team, department, over_time_by_team_department[department][team]))\n",
    "print('Median over_time of teams: {}'.format(df['over_time'].median()))"
   ]
  },
  {
   "cell_type": "code",
   "execution_count": 36,
   "metadata": {
    "execution": {
     "iopub.execute_input": "2021-06-10T15:08:27.186947Z",
     "iopub.status.busy": "2021-06-10T15:08:27.186237Z",
     "iopub.status.idle": "2021-06-10T15:08:27.486349Z",
     "shell.execute_reply": "2021-06-10T15:08:27.485815Z",
     "shell.execute_reply.started": "2021-05-27T14:48:38.228355Z"
    },
    "papermill": {
     "duration": 0.429225,
     "end_time": "2021-06-10T15:08:27.486495",
     "exception": false,
     "start_time": "2021-06-10T15:08:27.057270",
     "status": "completed"
    },
    "tags": []
   },
   "outputs": [
    {
     "data": {
      "image/png": "[encoded data removed]",
      "text/plain": [
       "<Figure size 432x288 with 1 Axes>"
      ]
     },
     "metadata": {
      "needs_background": "light"
     },
     "output_type": "display_data"
    }
   ],
   "source": [
    "over_time_by_team_department.plot.bar()\n",
    "plt.show()"
   ]
  },
  {
   "cell_type": "code",
   "execution_count": 37,
   "metadata": {
    "execution": {
     "iopub.execute_input": "2021-06-10T15:08:27.741354Z",
     "iopub.status.busy": "2021-06-10T15:08:27.740705Z",
     "iopub.status.idle": "2021-06-10T15:08:27.744420Z",
     "shell.execute_reply": "2021-06-10T15:08:27.744942Z",
     "shell.execute_reply.started": "2021-05-27T14:48:38.534139Z"
    },
    "papermill": {
     "duration": 0.1357,
     "end_time": "2021-06-10T15:08:27.745110",
     "exception": false,
     "start_time": "2021-06-10T15:08:27.609410",
     "status": "completed"
    },
    "tags": []
   },
   "outputs": [
    {
     "data": {
      "text/plain": [
       "department  team\n",
       "finishing   1       1440\n",
       "            2       1440\n",
       "            3       1800\n",
       "            4       1920\n",
       "            5       1440\n",
       "Name: over_time, dtype: int64"
      ]
     },
     "execution_count": 37,
     "metadata": {},
     "output_type": "execute_result"
    }
   ],
   "source": [
    "over_time_by_team_department.head()"
   ]
  },
  {
   "cell_type": "markdown",
   "metadata": {
    "papermill": {
     "duration": 0.125148,
     "end_time": "2021-06-10T15:08:27.994406",
     "exception": false,
     "start_time": "2021-06-10T15:08:27.869258",
     "status": "completed"
    },
    "tags": []
   },
   "source": [
    "Finishing department has relatively lower over_time values regarding sweing department. In sweing department team6, team11 and team12 have the lowest over_time values."
   ]
  },
  {
   "cell_type": "code",
   "execution_count": 38,
   "metadata": {
    "execution": {
     "iopub.execute_input": "2021-06-10T15:08:28.273210Z",
     "iopub.status.busy": "2021-06-10T15:08:28.272422Z",
     "iopub.status.idle": "2021-06-10T15:08:28.404775Z",
     "shell.execute_reply": "2021-06-10T15:08:28.404234Z",
     "shell.execute_reply.started": "2021-05-27T14:48:38.543062Z"
    },
    "papermill": {
     "duration": 0.286084,
     "end_time": "2021-06-10T15:08:28.404916",
     "exception": false,
     "start_time": "2021-06-10T15:08:28.118832",
     "status": "completed"
    },
    "tags": []
   },
   "outputs": [
    {
     "data": {
      "text/plain": [
       "[<matplotlib.lines.Line2D at 0x7fec369014d0>]"
      ]
     },
     "execution_count": 38,
     "metadata": {},
     "output_type": "execute_result"
    },
    {
     "data": {
      "image/png": "[encoded data removed]",
      "text/plain": [
       "<Figure size 432x288 with 1 Axes>"
      ]
     },
     "metadata": {
      "needs_background": "light"
     },
     "output_type": "display_data"
    }
   ],
   "source": [
    "pyplot.plot(df.index,df.over_time)"
   ]
  },
  {
   "cell_type": "code",
   "execution_count": 39,
   "metadata": {
    "execution": {
     "iopub.execute_input": "2021-06-10T15:08:28.656930Z",
     "iopub.status.busy": "2021-06-10T15:08:28.655898Z",
     "iopub.status.idle": "2021-06-10T15:08:28.661307Z",
     "shell.execute_reply": "2021-06-10T15:08:28.660793Z",
     "shell.execute_reply.started": "2021-05-27T14:48:38.709537Z"
    },
    "papermill": {
     "duration": 0.134221,
     "end_time": "2021-06-10T15:08:28.661446",
     "exception": false,
     "start_time": "2021-06-10T15:08:28.527225",
     "status": "completed"
    },
    "tags": []
   },
   "outputs": [
    {
     "data": {
      "text/plain": [
       "(8, 14)"
      ]
     },
     "execution_count": 39,
     "metadata": {},
     "output_type": "execute_result"
    }
   ],
   "source": [
    "df[df['over_time']>12000].shape"
   ]
  },
  {
   "cell_type": "code",
   "execution_count": 40,
   "metadata": {
    "execution": {
     "iopub.execute_input": "2021-06-10T15:08:28.933992Z",
     "iopub.status.busy": "2021-06-10T15:08:28.933295Z",
     "iopub.status.idle": "2021-06-10T15:08:28.937450Z",
     "shell.execute_reply": "2021-06-10T15:08:28.936859Z",
     "shell.execute_reply.started": "2021-05-27T14:48:38.718981Z"
    },
    "papermill": {
     "duration": 0.151948,
     "end_time": "2021-06-10T15:08:28.937582",
     "exception": false,
     "start_time": "2021-06-10T15:08:28.785634",
     "status": "completed"
    },
    "tags": []
   },
   "outputs": [
    {
     "data": {
      "text/html": [
       "<div>\n",
       "<style scoped>\n",
       "    .dataframe tbody tr th:only-of-type {\n",
       "        vertical-align: middle;\n",
       "    }\n",
       "\n",
       "    .dataframe tbody tr th {\n",
       "        vertical-align: top;\n",
       "    }\n",
       "\n",
       "    .dataframe thead th {\n",
       "        text-align: right;\n",
       "    }\n",
       "</style>\n",
       "<table border=\"1\" class=\"dataframe\">\n",
       "  <thead>\n",
       "    <tr style=\"text-align: right;\">\n",
       "      <th></th>\n",
       "      <th>quarter</th>\n",
       "      <th>department</th>\n",
       "      <th>day</th>\n",
       "      <th>team</th>\n",
       "      <th>targeted_productivity</th>\n",
       "      <th>smv</th>\n",
       "      <th>wip</th>\n",
       "      <th>over_time</th>\n",
       "      <th>incentive</th>\n",
       "      <th>idle_time</th>\n",
       "      <th>idle_men</th>\n",
       "      <th>no_of_style_change</th>\n",
       "      <th>no_of_workers</th>\n",
       "      <th>actual_productivity</th>\n",
       "    </tr>\n",
       "    <tr>\n",
       "      <th>date</th>\n",
       "      <th></th>\n",
       "      <th></th>\n",
       "      <th></th>\n",
       "      <th></th>\n",
       "      <th></th>\n",
       "      <th></th>\n",
       "      <th></th>\n",
       "      <th></th>\n",
       "      <th></th>\n",
       "      <th></th>\n",
       "      <th></th>\n",
       "      <th></th>\n",
       "      <th></th>\n",
       "      <th></th>\n",
       "    </tr>\n",
       "  </thead>\n",
       "  <tbody>\n",
       "    <tr>\n",
       "      <th>2015-01-03</th>\n",
       "      <td>Quarter1</td>\n",
       "      <td>sweing</td>\n",
       "      <td>Saturday</td>\n",
       "      <td>4</td>\n",
       "      <td>0.70</td>\n",
       "      <td>23.69</td>\n",
       "      <td>544.0</td>\n",
       "      <td>13800</td>\n",
       "      <td>0</td>\n",
       "      <td>0.0</td>\n",
       "      <td>0</td>\n",
       "      <td>0</td>\n",
       "      <td>60.0</td>\n",
       "      <td>0.700134</td>\n",
       "    </tr>\n",
       "    <tr>\n",
       "      <th>2015-01-08</th>\n",
       "      <td>Quarter2</td>\n",
       "      <td>finishing</td>\n",
       "      <td>Thursday</td>\n",
       "      <td>4</td>\n",
       "      <td>0.80</td>\n",
       "      <td>3.94</td>\n",
       "      <td>NaN</td>\n",
       "      <td>12600</td>\n",
       "      <td>0</td>\n",
       "      <td>0.0</td>\n",
       "      <td>0</td>\n",
       "      <td>0</td>\n",
       "      <td>20.0</td>\n",
       "      <td>0.919905</td>\n",
       "    </tr>\n",
       "    <tr>\n",
       "      <th>2015-01-08</th>\n",
       "      <td>Quarter2</td>\n",
       "      <td>sweing</td>\n",
       "      <td>Thursday</td>\n",
       "      <td>12</td>\n",
       "      <td>0.80</td>\n",
       "      <td>11.61</td>\n",
       "      <td>548.0</td>\n",
       "      <td>15120</td>\n",
       "      <td>63</td>\n",
       "      <td>0.0</td>\n",
       "      <td>0</td>\n",
       "      <td>0</td>\n",
       "      <td>31.5</td>\n",
       "      <td>0.800107</td>\n",
       "    </tr>\n",
       "    <tr>\n",
       "      <th>2015-01-08</th>\n",
       "      <td>Quarter2</td>\n",
       "      <td>sweing</td>\n",
       "      <td>Thursday</td>\n",
       "      <td>6</td>\n",
       "      <td>0.80</td>\n",
       "      <td>11.41</td>\n",
       "      <td>411.0</td>\n",
       "      <td>14640</td>\n",
       "      <td>50</td>\n",
       "      <td>0.0</td>\n",
       "      <td>0</td>\n",
       "      <td>0</td>\n",
       "      <td>30.5</td>\n",
       "      <td>0.800025</td>\n",
       "    </tr>\n",
       "    <tr>\n",
       "      <th>2015-01-08</th>\n",
       "      <td>Quarter2</td>\n",
       "      <td>sweing</td>\n",
       "      <td>Thursday</td>\n",
       "      <td>11</td>\n",
       "      <td>0.35</td>\n",
       "      <td>12.52</td>\n",
       "      <td>287.0</td>\n",
       "      <td>25920</td>\n",
       "      <td>38</td>\n",
       "      <td>0.0</td>\n",
       "      <td>0</td>\n",
       "      <td>0</td>\n",
       "      <td>54.0</td>\n",
       "      <td>0.349951</td>\n",
       "    </tr>\n",
       "    <tr>\n",
       "      <th>2015-01-22</th>\n",
       "      <td>Quarter4</td>\n",
       "      <td>sweing</td>\n",
       "      <td>Thursday</td>\n",
       "      <td>1</td>\n",
       "      <td>0.70</td>\n",
       "      <td>22.94</td>\n",
       "      <td>1384.0</td>\n",
       "      <td>12180</td>\n",
       "      <td>63</td>\n",
       "      <td>0.0</td>\n",
       "      <td>0</td>\n",
       "      <td>0</td>\n",
       "      <td>57.0</td>\n",
       "      <td>0.750162</td>\n",
       "    </tr>\n",
       "    <tr>\n",
       "      <th>2015-01-22</th>\n",
       "      <td>Quarter4</td>\n",
       "      <td>finishing</td>\n",
       "      <td>Thursday</td>\n",
       "      <td>1</td>\n",
       "      <td>0.70</td>\n",
       "      <td>3.94</td>\n",
       "      <td>NaN</td>\n",
       "      <td>15000</td>\n",
       "      <td>0</td>\n",
       "      <td>0.0</td>\n",
       "      <td>0</td>\n",
       "      <td>0</td>\n",
       "      <td>25.0</td>\n",
       "      <td>0.649662</td>\n",
       "    </tr>\n",
       "    <tr>\n",
       "      <th>2015-01-22</th>\n",
       "      <td>Quarter4</td>\n",
       "      <td>finishing</td>\n",
       "      <td>Thursday</td>\n",
       "      <td>2</td>\n",
       "      <td>0.70</td>\n",
       "      <td>3.94</td>\n",
       "      <td>NaN</td>\n",
       "      <td>15000</td>\n",
       "      <td>0</td>\n",
       "      <td>0.0</td>\n",
       "      <td>0</td>\n",
       "      <td>0</td>\n",
       "      <td>25.0</td>\n",
       "      <td>0.649662</td>\n",
       "    </tr>\n",
       "  </tbody>\n",
       "</table>\n",
       "</div>"
      ],
      "text/plain": [
       "             quarter department       day  team  targeted_productivity    smv  \\\n",
       "date                                                                            \n",
       "2015-01-03  Quarter1     sweing  Saturday     4                   0.70  23.69   \n",
       "2015-01-08  Quarter2  finishing  Thursday     4                   0.80   3.94   \n",
       "2015-01-08  Quarter2     sweing  Thursday    12                   0.80  11.61   \n",
       "2015-01-08  Quarter2     sweing  Thursday     6                   0.80  11.41   \n",
       "2015-01-08  Quarter2     sweing  Thursday    11                   0.35  12.52   \n",
       "2015-01-22  Quarter4     sweing  Thursday     1                   0.70  22.94   \n",
       "2015-01-22  Quarter4  finishing  Thursday     1                   0.70   3.94   \n",
       "2015-01-22  Quarter4  finishing  Thursday     2                   0.70   3.94   \n",
       "\n",
       "               wip  over_time  incentive  idle_time  idle_men  \\\n",
       "date                                                            \n",
       "2015-01-03   544.0      13800          0        0.0         0   \n",
       "2015-01-08     NaN      12600          0        0.0         0   \n",
       "2015-01-08   548.0      15120         63        0.0         0   \n",
       "2015-01-08   411.0      14640         50        0.0         0   \n",
       "2015-01-08   287.0      25920         38        0.0         0   \n",
       "2015-01-22  1384.0      12180         63        0.0         0   \n",
       "2015-01-22     NaN      15000          0        0.0         0   \n",
       "2015-01-22     NaN      15000          0        0.0         0   \n",
       "\n",
       "            no_of_style_change  no_of_workers  actual_productivity  \n",
       "date                                                                \n",
       "2015-01-03                   0           60.0             0.700134  \n",
       "2015-01-08                   0           20.0             0.919905  \n",
       "2015-01-08                   0           31.5             0.800107  \n",
       "2015-01-08                   0           30.5             0.800025  \n",
       "2015-01-08                   0           54.0             0.349951  \n",
       "2015-01-22                   0           57.0             0.750162  \n",
       "2015-01-22                   0           25.0             0.649662  \n",
       "2015-01-22                   0           25.0             0.649662  "
      ]
     },
     "execution_count": 40,
     "metadata": {},
     "output_type": "execute_result"
    }
   ],
   "source": [
    "df[df['over_time']>12000]"
   ]
  },
  {
   "cell_type": "markdown",
   "metadata": {
    "papermill": {
     "duration": 0.127053,
     "end_time": "2021-06-10T15:08:29.193973",
     "exception": false,
     "start_time": "2021-06-10T15:08:29.066920",
     "status": "completed"
    },
    "tags": []
   },
   "source": [
    "No significant relationship was found when peak values of over_time were observed with respect to time"
   ]
  },
  {
   "cell_type": "markdown",
   "metadata": {
    "papermill": {
     "duration": 0.123913,
     "end_time": "2021-06-10T15:08:29.445236",
     "exception": false,
     "start_time": "2021-06-10T15:08:29.321323",
     "status": "completed"
    },
    "tags": []
   },
   "source": [
    "<a id = '5n'></a>\n",
    "### 5 Incentive"
   ]
  },
  {
   "cell_type": "code",
   "execution_count": 41,
   "metadata": {
    "execution": {
     "iopub.execute_input": "2021-06-10T15:08:29.722432Z",
     "iopub.status.busy": "2021-06-10T15:08:29.713603Z",
     "iopub.status.idle": "2021-06-10T15:08:29.867830Z",
     "shell.execute_reply": "2021-06-10T15:08:29.867302Z",
     "shell.execute_reply.started": "2021-05-27T14:48:38.752581Z"
    },
    "papermill": {
     "duration": 0.295819,
     "end_time": "2021-06-10T15:08:29.867966",
     "exception": false,
     "start_time": "2021-06-10T15:08:29.572147",
     "status": "completed"
    },
    "tags": []
   },
   "outputs": [
    {
     "data": {
      "text/plain": [
       "[<matplotlib.lines.Line2D at 0x7fec3687a250>]"
      ]
     },
     "execution_count": 41,
     "metadata": {},
     "output_type": "execute_result"
    },
    {
     "data": {
      "image/png": "[encoded data removed]",
      "text/plain": [
       "<Figure size 432x288 with 1 Axes>"
      ]
     },
     "metadata": {
      "needs_background": "light"
     },
     "output_type": "display_data"
    }
   ],
   "source": [
    "pyplot.plot(df.index,df.incentive)"
   ]
  },
  {
   "cell_type": "code",
   "execution_count": 42,
   "metadata": {
    "execution": {
     "iopub.execute_input": "2021-06-10T15:08:30.132458Z",
     "iopub.status.busy": "2021-06-10T15:08:30.131861Z",
     "iopub.status.idle": "2021-06-10T15:08:30.135682Z",
     "shell.execute_reply": "2021-06-10T15:08:30.136136Z",
     "shell.execute_reply.started": "2021-05-27T14:48:38.925522Z"
    },
    "papermill": {
     "duration": 0.141517,
     "end_time": "2021-06-10T15:08:30.136300",
     "exception": false,
     "start_time": "2021-06-10T15:08:29.994783",
     "status": "completed"
    },
    "tags": []
   },
   "outputs": [
    {
     "data": {
      "text/plain": [
       "(10, 14)"
      ]
     },
     "execution_count": 42,
     "metadata": {},
     "output_type": "execute_result"
    }
   ],
   "source": [
    "df[df['incentive']>150].shape"
   ]
  },
  {
   "cell_type": "code",
   "execution_count": 43,
   "metadata": {
    "execution": {
     "iopub.execute_input": "2021-06-10T15:08:30.411663Z",
     "iopub.status.busy": "2021-06-10T15:08:30.410657Z",
     "iopub.status.idle": "2021-06-10T15:08:30.414979Z",
     "shell.execute_reply": "2021-06-10T15:08:30.414395Z",
     "shell.execute_reply.started": "2021-05-27T14:48:38.935271Z"
    },
    "papermill": {
     "duration": 0.153241,
     "end_time": "2021-06-10T15:08:30.415111",
     "exception": false,
     "start_time": "2021-06-10T15:08:30.261870",
     "status": "completed"
    },
    "tags": []
   },
   "outputs": [
    {
     "data": {
      "text/html": [
       "<div>\n",
       "<style scoped>\n",
       "    .dataframe tbody tr th:only-of-type {\n",
       "        vertical-align: middle;\n",
       "    }\n",
       "\n",
       "    .dataframe tbody tr th {\n",
       "        vertical-align: top;\n",
       "    }\n",
       "\n",
       "    .dataframe thead th {\n",
       "        text-align: right;\n",
       "    }\n",
       "</style>\n",
       "<table border=\"1\" class=\"dataframe\">\n",
       "  <thead>\n",
       "    <tr style=\"text-align: right;\">\n",
       "      <th></th>\n",
       "      <th>quarter</th>\n",
       "      <th>department</th>\n",
       "      <th>day</th>\n",
       "      <th>team</th>\n",
       "      <th>targeted_productivity</th>\n",
       "      <th>smv</th>\n",
       "      <th>wip</th>\n",
       "      <th>over_time</th>\n",
       "      <th>incentive</th>\n",
       "      <th>idle_time</th>\n",
       "      <th>idle_men</th>\n",
       "      <th>no_of_style_change</th>\n",
       "      <th>no_of_workers</th>\n",
       "      <th>actual_productivity</th>\n",
       "    </tr>\n",
       "    <tr>\n",
       "      <th>date</th>\n",
       "      <th></th>\n",
       "      <th></th>\n",
       "      <th></th>\n",
       "      <th></th>\n",
       "      <th></th>\n",
       "      <th></th>\n",
       "      <th></th>\n",
       "      <th></th>\n",
       "      <th></th>\n",
       "      <th></th>\n",
       "      <th></th>\n",
       "      <th></th>\n",
       "      <th></th>\n",
       "      <th></th>\n",
       "    </tr>\n",
       "  </thead>\n",
       "  <tbody>\n",
       "    <tr>\n",
       "      <th>2015-03-09</th>\n",
       "      <td>Quarter2</td>\n",
       "      <td>finishing</td>\n",
       "      <td>Monday</td>\n",
       "      <td>11</td>\n",
       "      <td>0.80</td>\n",
       "      <td>2.90</td>\n",
       "      <td>NaN</td>\n",
       "      <td>0</td>\n",
       "      <td>960</td>\n",
       "      <td>0.0</td>\n",
       "      <td>0</td>\n",
       "      <td>0</td>\n",
       "      <td>8.0</td>\n",
       "      <td>0.960625</td>\n",
       "    </tr>\n",
       "    <tr>\n",
       "      <th>2015-03-09</th>\n",
       "      <td>Quarter2</td>\n",
       "      <td>finishing</td>\n",
       "      <td>Monday</td>\n",
       "      <td>12</td>\n",
       "      <td>0.80</td>\n",
       "      <td>4.60</td>\n",
       "      <td>NaN</td>\n",
       "      <td>0</td>\n",
       "      <td>1080</td>\n",
       "      <td>0.0</td>\n",
       "      <td>0</td>\n",
       "      <td>0</td>\n",
       "      <td>9.0</td>\n",
       "      <td>0.902963</td>\n",
       "    </tr>\n",
       "    <tr>\n",
       "      <th>2015-03-09</th>\n",
       "      <td>Quarter2</td>\n",
       "      <td>finishing</td>\n",
       "      <td>Monday</td>\n",
       "      <td>5</td>\n",
       "      <td>0.60</td>\n",
       "      <td>3.94</td>\n",
       "      <td>NaN</td>\n",
       "      <td>0</td>\n",
       "      <td>2880</td>\n",
       "      <td>0.0</td>\n",
       "      <td>0</td>\n",
       "      <td>0</td>\n",
       "      <td>12.0</td>\n",
       "      <td>0.864343</td>\n",
       "    </tr>\n",
       "    <tr>\n",
       "      <th>2015-03-09</th>\n",
       "      <td>Quarter2</td>\n",
       "      <td>finishing</td>\n",
       "      <td>Monday</td>\n",
       "      <td>9</td>\n",
       "      <td>0.75</td>\n",
       "      <td>2.90</td>\n",
       "      <td>NaN</td>\n",
       "      <td>0</td>\n",
       "      <td>3600</td>\n",
       "      <td>0.0</td>\n",
       "      <td>0</td>\n",
       "      <td>0</td>\n",
       "      <td>15.0</td>\n",
       "      <td>0.841000</td>\n",
       "    </tr>\n",
       "    <tr>\n",
       "      <th>2015-03-09</th>\n",
       "      <td>Quarter2</td>\n",
       "      <td>finishing</td>\n",
       "      <td>Monday</td>\n",
       "      <td>3</td>\n",
       "      <td>0.80</td>\n",
       "      <td>4.60</td>\n",
       "      <td>NaN</td>\n",
       "      <td>0</td>\n",
       "      <td>1440</td>\n",
       "      <td>0.0</td>\n",
       "      <td>0</td>\n",
       "      <td>0</td>\n",
       "      <td>12.0</td>\n",
       "      <td>0.795417</td>\n",
       "    </tr>\n",
       "    <tr>\n",
       "      <th>2015-03-09</th>\n",
       "      <td>Quarter2</td>\n",
       "      <td>finishing</td>\n",
       "      <td>Monday</td>\n",
       "      <td>4</td>\n",
       "      <td>0.75</td>\n",
       "      <td>3.94</td>\n",
       "      <td>NaN</td>\n",
       "      <td>0</td>\n",
       "      <td>960</td>\n",
       "      <td>0.0</td>\n",
       "      <td>0</td>\n",
       "      <td>0</td>\n",
       "      <td>8.0</td>\n",
       "      <td>0.795388</td>\n",
       "    </tr>\n",
       "    <tr>\n",
       "      <th>2015-03-09</th>\n",
       "      <td>Quarter2</td>\n",
       "      <td>finishing</td>\n",
       "      <td>Monday</td>\n",
       "      <td>1</td>\n",
       "      <td>0.75</td>\n",
       "      <td>3.94</td>\n",
       "      <td>NaN</td>\n",
       "      <td>0</td>\n",
       "      <td>960</td>\n",
       "      <td>0.0</td>\n",
       "      <td>0</td>\n",
       "      <td>0</td>\n",
       "      <td>8.0</td>\n",
       "      <td>0.794567</td>\n",
       "    </tr>\n",
       "    <tr>\n",
       "      <th>2015-03-09</th>\n",
       "      <td>Quarter2</td>\n",
       "      <td>finishing</td>\n",
       "      <td>Monday</td>\n",
       "      <td>2</td>\n",
       "      <td>0.70</td>\n",
       "      <td>3.90</td>\n",
       "      <td>NaN</td>\n",
       "      <td>0</td>\n",
       "      <td>1200</td>\n",
       "      <td>0.0</td>\n",
       "      <td>0</td>\n",
       "      <td>0</td>\n",
       "      <td>10.0</td>\n",
       "      <td>0.682500</td>\n",
       "    </tr>\n",
       "    <tr>\n",
       "      <th>2015-03-09</th>\n",
       "      <td>Quarter2</td>\n",
       "      <td>finishing</td>\n",
       "      <td>Monday</td>\n",
       "      <td>10</td>\n",
       "      <td>0.70</td>\n",
       "      <td>2.90</td>\n",
       "      <td>NaN</td>\n",
       "      <td>0</td>\n",
       "      <td>960</td>\n",
       "      <td>0.0</td>\n",
       "      <td>0</td>\n",
       "      <td>0</td>\n",
       "      <td>8.0</td>\n",
       "      <td>0.477292</td>\n",
       "    </tr>\n",
       "    <tr>\n",
       "      <th>2015-03-09</th>\n",
       "      <td>Quarter2</td>\n",
       "      <td>finishing</td>\n",
       "      <td>Monday</td>\n",
       "      <td>8</td>\n",
       "      <td>0.65</td>\n",
       "      <td>3.90</td>\n",
       "      <td>NaN</td>\n",
       "      <td>0</td>\n",
       "      <td>960</td>\n",
       "      <td>0.0</td>\n",
       "      <td>0</td>\n",
       "      <td>0</td>\n",
       "      <td>8.0</td>\n",
       "      <td>0.264062</td>\n",
       "    </tr>\n",
       "  </tbody>\n",
       "</table>\n",
       "</div>"
      ],
      "text/plain": [
       "             quarter department     day  team  targeted_productivity   smv  \\\n",
       "date                                                                         \n",
       "2015-03-09  Quarter2  finishing  Monday    11                   0.80  2.90   \n",
       "2015-03-09  Quarter2  finishing  Monday    12                   0.80  4.60   \n",
       "2015-03-09  Quarter2  finishing  Monday     5                   0.60  3.94   \n",
       "2015-03-09  Quarter2  finishing  Monday     9                   0.75  2.90   \n",
       "2015-03-09  Quarter2  finishing  Monday     3                   0.80  4.60   \n",
       "2015-03-09  Quarter2  finishing  Monday     4                   0.75  3.94   \n",
       "2015-03-09  Quarter2  finishing  Monday     1                   0.75  3.94   \n",
       "2015-03-09  Quarter2  finishing  Monday     2                   0.70  3.90   \n",
       "2015-03-09  Quarter2  finishing  Monday    10                   0.70  2.90   \n",
       "2015-03-09  Quarter2  finishing  Monday     8                   0.65  3.90   \n",
       "\n",
       "            wip  over_time  incentive  idle_time  idle_men  \\\n",
       "date                                                         \n",
       "2015-03-09  NaN          0        960        0.0         0   \n",
       "2015-03-09  NaN          0       1080        0.0         0   \n",
       "2015-03-09  NaN          0       2880        0.0         0   \n",
       "2015-03-09  NaN          0       3600        0.0         0   \n",
       "2015-03-09  NaN          0       1440        0.0         0   \n",
       "2015-03-09  NaN          0        960        0.0         0   \n",
       "2015-03-09  NaN          0        960        0.0         0   \n",
       "2015-03-09  NaN          0       1200        0.0         0   \n",
       "2015-03-09  NaN          0        960        0.0         0   \n",
       "2015-03-09  NaN          0        960        0.0         0   \n",
       "\n",
       "            no_of_style_change  no_of_workers  actual_productivity  \n",
       "date                                                                \n",
       "2015-03-09                   0            8.0             0.960625  \n",
       "2015-03-09                   0            9.0             0.902963  \n",
       "2015-03-09                   0           12.0             0.864343  \n",
       "2015-03-09                   0           15.0             0.841000  \n",
       "2015-03-09                   0           12.0             0.795417  \n",
       "2015-03-09                   0            8.0             0.795388  \n",
       "2015-03-09                   0            8.0             0.794567  \n",
       "2015-03-09                   0           10.0             0.682500  \n",
       "2015-03-09                   0            8.0             0.477292  \n",
       "2015-03-09                   0            8.0             0.264062  "
      ]
     },
     "execution_count": 43,
     "metadata": {},
     "output_type": "execute_result"
    }
   ],
   "source": [
    "df[df['incentive']>150]"
   ]
  },
  {
   "cell_type": "markdown",
   "metadata": {
    "papermill": {
     "duration": 0.126844,
     "end_time": "2021-06-10T15:08:30.667932",
     "exception": false,
     "start_time": "2021-06-10T15:08:30.541088",
     "status": "completed"
    },
    "tags": []
   },
   "source": [
    "All of the highest incentive values belong to the finishing department on March 9, Quarter2."
   ]
  },
  {
   "cell_type": "markdown",
   "metadata": {
    "papermill": {
     "duration": 0.12587,
     "end_time": "2021-06-10T15:08:30.921915",
     "exception": false,
     "start_time": "2021-06-10T15:08:30.796045",
     "status": "completed"
    },
    "tags": []
   },
   "source": [
    "<a id = '6n'></a>\n",
    "### 6 Idle Time"
   ]
  },
  {
   "cell_type": "code",
   "execution_count": 44,
   "metadata": {
    "execution": {
     "iopub.execute_input": "2021-06-10T15:08:31.199825Z",
     "iopub.status.busy": "2021-06-10T15:08:31.197719Z",
     "iopub.status.idle": "2021-06-10T15:08:31.339401Z",
     "shell.execute_reply": "2021-06-10T15:08:31.338769Z",
     "shell.execute_reply.started": "2021-05-27T14:48:38.968044Z"
    },
    "papermill": {
     "duration": 0.290098,
     "end_time": "2021-06-10T15:08:31.339540",
     "exception": false,
     "start_time": "2021-06-10T15:08:31.049442",
     "status": "completed"
    },
    "tags": []
   },
   "outputs": [
    {
     "data": {
      "text/plain": [
       "[<matplotlib.lines.Line2D at 0x7fec367f91d0>]"
      ]
     },
     "execution_count": 44,
     "metadata": {},
     "output_type": "execute_result"
    },
    {
     "data": {
      "image/png": "[encoded data removed]",
      "text/plain": [
       "<Figure size 432x288 with 1 Axes>"
      ]
     },
     "metadata": {
      "needs_background": "light"
     },
     "output_type": "display_data"
    }
   ],
   "source": [
    "pyplot.plot(df.index,df.idle_time)"
   ]
  },
  {
   "cell_type": "code",
   "execution_count": 45,
   "metadata": {
    "execution": {
     "iopub.execute_input": "2021-06-10T15:08:31.599271Z",
     "iopub.status.busy": "2021-06-10T15:08:31.598543Z",
     "iopub.status.idle": "2021-06-10T15:08:31.602017Z",
     "shell.execute_reply": "2021-06-10T15:08:31.601366Z",
     "shell.execute_reply.started": "2021-05-27T14:48:39.135485Z"
    },
    "papermill": {
     "duration": 0.135631,
     "end_time": "2021-06-10T15:08:31.602150",
     "exception": false,
     "start_time": "2021-06-10T15:08:31.466519",
     "status": "completed"
    },
    "tags": []
   },
   "outputs": [
    {
     "data": {
      "text/plain": [
       "(4, 14)"
      ]
     },
     "execution_count": 45,
     "metadata": {},
     "output_type": "execute_result"
    }
   ],
   "source": [
    "df[df['idle_time']>20].shape"
   ]
  },
  {
   "cell_type": "code",
   "execution_count": 46,
   "metadata": {
    "execution": {
     "iopub.execute_input": "2021-06-10T15:08:31.862672Z",
     "iopub.status.busy": "2021-06-10T15:08:31.862046Z",
     "iopub.status.idle": "2021-06-10T15:08:31.878671Z",
     "shell.execute_reply": "2021-06-10T15:08:31.879138Z",
     "shell.execute_reply.started": "2021-05-27T14:48:39.144763Z"
    },
    "papermill": {
     "duration": 0.149478,
     "end_time": "2021-06-10T15:08:31.879322",
     "exception": false,
     "start_time": "2021-06-10T15:08:31.729844",
     "status": "completed"
    },
    "tags": []
   },
   "outputs": [
    {
     "data": {
      "text/html": [
       "<div>\n",
       "<style scoped>\n",
       "    .dataframe tbody tr th:only-of-type {\n",
       "        vertical-align: middle;\n",
       "    }\n",
       "\n",
       "    .dataframe tbody tr th {\n",
       "        vertical-align: top;\n",
       "    }\n",
       "\n",
       "    .dataframe thead th {\n",
       "        text-align: right;\n",
       "    }\n",
       "</style>\n",
       "<table border=\"1\" class=\"dataframe\">\n",
       "  <thead>\n",
       "    <tr style=\"text-align: right;\">\n",
       "      <th></th>\n",
       "      <th>quarter</th>\n",
       "      <th>department</th>\n",
       "      <th>day</th>\n",
       "      <th>team</th>\n",
       "      <th>targeted_productivity</th>\n",
       "      <th>smv</th>\n",
       "      <th>wip</th>\n",
       "      <th>over_time</th>\n",
       "      <th>incentive</th>\n",
       "      <th>idle_time</th>\n",
       "      <th>idle_men</th>\n",
       "      <th>no_of_style_change</th>\n",
       "      <th>no_of_workers</th>\n",
       "      <th>actual_productivity</th>\n",
       "    </tr>\n",
       "    <tr>\n",
       "      <th>date</th>\n",
       "      <th></th>\n",
       "      <th></th>\n",
       "      <th></th>\n",
       "      <th></th>\n",
       "      <th></th>\n",
       "      <th></th>\n",
       "      <th></th>\n",
       "      <th></th>\n",
       "      <th></th>\n",
       "      <th></th>\n",
       "      <th></th>\n",
       "      <th></th>\n",
       "      <th></th>\n",
       "      <th></th>\n",
       "    </tr>\n",
       "  </thead>\n",
       "  <tbody>\n",
       "    <tr>\n",
       "      <th>2015-02-04</th>\n",
       "      <td>Quarter1</td>\n",
       "      <td>sweing</td>\n",
       "      <td>Wednesday</td>\n",
       "      <td>5</td>\n",
       "      <td>0.65</td>\n",
       "      <td>30.10</td>\n",
       "      <td>326.0</td>\n",
       "      <td>5820</td>\n",
       "      <td>0</td>\n",
       "      <td>90.0</td>\n",
       "      <td>10</td>\n",
       "      <td>0</td>\n",
       "      <td>58.5</td>\n",
       "      <td>0.650835</td>\n",
       "    </tr>\n",
       "    <tr>\n",
       "      <th>2015-02-04</th>\n",
       "      <td>Quarter1</td>\n",
       "      <td>sweing</td>\n",
       "      <td>Wednesday</td>\n",
       "      <td>4</td>\n",
       "      <td>0.35</td>\n",
       "      <td>30.10</td>\n",
       "      <td>287.0</td>\n",
       "      <td>6060</td>\n",
       "      <td>23</td>\n",
       "      <td>150.0</td>\n",
       "      <td>15</td>\n",
       "      <td>0</td>\n",
       "      <td>55.5</td>\n",
       "      <td>0.350706</td>\n",
       "    </tr>\n",
       "    <tr>\n",
       "      <th>2015-02-07</th>\n",
       "      <td>Quarter1</td>\n",
       "      <td>sweing</td>\n",
       "      <td>Saturday</td>\n",
       "      <td>7</td>\n",
       "      <td>0.70</td>\n",
       "      <td>24.26</td>\n",
       "      <td>658.0</td>\n",
       "      <td>6960</td>\n",
       "      <td>0</td>\n",
       "      <td>270.0</td>\n",
       "      <td>45</td>\n",
       "      <td>0</td>\n",
       "      <td>58.0</td>\n",
       "      <td>0.662270</td>\n",
       "    </tr>\n",
       "    <tr>\n",
       "      <th>2015-02-07</th>\n",
       "      <td>Quarter1</td>\n",
       "      <td>sweing</td>\n",
       "      <td>Saturday</td>\n",
       "      <td>8</td>\n",
       "      <td>0.70</td>\n",
       "      <td>24.26</td>\n",
       "      <td>652.0</td>\n",
       "      <td>6840</td>\n",
       "      <td>0</td>\n",
       "      <td>300.0</td>\n",
       "      <td>37</td>\n",
       "      <td>0</td>\n",
       "      <td>57.0</td>\n",
       "      <td>0.365319</td>\n",
       "    </tr>\n",
       "  </tbody>\n",
       "</table>\n",
       "</div>"
      ],
      "text/plain": [
       "             quarter department        day  team  targeted_productivity  \\\n",
       "date                                                                      \n",
       "2015-02-04  Quarter1     sweing  Wednesday     5                   0.65   \n",
       "2015-02-04  Quarter1     sweing  Wednesday     4                   0.35   \n",
       "2015-02-07  Quarter1     sweing   Saturday     7                   0.70   \n",
       "2015-02-07  Quarter1     sweing   Saturday     8                   0.70   \n",
       "\n",
       "              smv    wip  over_time  incentive  idle_time  idle_men  \\\n",
       "date                                                                  \n",
       "2015-02-04  30.10  326.0       5820          0       90.0        10   \n",
       "2015-02-04  30.10  287.0       6060         23      150.0        15   \n",
       "2015-02-07  24.26  658.0       6960          0      270.0        45   \n",
       "2015-02-07  24.26  652.0       6840          0      300.0        37   \n",
       "\n",
       "            no_of_style_change  no_of_workers  actual_productivity  \n",
       "date                                                                \n",
       "2015-02-04                   0           58.5             0.650835  \n",
       "2015-02-04                   0           55.5             0.350706  \n",
       "2015-02-07                   0           58.0             0.662270  \n",
       "2015-02-07                   0           57.0             0.365319  "
      ]
     },
     "execution_count": 46,
     "metadata": {},
     "output_type": "execute_result"
    }
   ],
   "source": [
    "df[df['idle_time']>20]"
   ]
  },
  {
   "cell_type": "markdown",
   "metadata": {
    "papermill": {
     "duration": 0.127353,
     "end_time": "2021-06-10T15:08:32.132837",
     "exception": false,
     "start_time": "2021-06-10T15:08:32.005484",
     "status": "completed"
    },
    "tags": []
   },
   "source": [
    "All of the highest idle_men values belong to the sweing department on February 4 and 7, Quarter1."
   ]
  },
  {
   "cell_type": "markdown",
   "metadata": {
    "papermill": {
     "duration": 0.127738,
     "end_time": "2021-06-10T15:08:32.389031",
     "exception": false,
     "start_time": "2021-06-10T15:08:32.261293",
     "status": "completed"
    },
    "tags": []
   },
   "source": [
    "<a id = '7n'></a>\n",
    "### 7 Idle Men"
   ]
  },
  {
   "cell_type": "code",
   "execution_count": 47,
   "metadata": {
    "execution": {
     "iopub.execute_input": "2021-06-10T15:08:32.650565Z",
     "iopub.status.busy": "2021-06-10T15:08:32.649970Z",
     "iopub.status.idle": "2021-06-10T15:08:32.799520Z",
     "shell.execute_reply": "2021-06-10T15:08:32.800003Z",
     "shell.execute_reply.started": "2021-05-27T14:48:39.17777Z"
    },
    "id": "V6o_6fNER4kU",
    "outputId": "7831cb62-28b4-456b-f9c8-0dddd2acddad",
    "papermill": {
     "duration": 0.281666,
     "end_time": "2021-06-10T15:08:32.800190",
     "exception": false,
     "start_time": "2021-06-10T15:08:32.518524",
     "status": "completed"
    },
    "tags": []
   },
   "outputs": [
    {
     "data": {
      "text/plain": [
       "[<matplotlib.lines.Line2D at 0x7fec367708d0>]"
      ]
     },
     "execution_count": 47,
     "metadata": {},
     "output_type": "execute_result"
    },
    {
     "data": {
      "image/png": "[encoded data removed]",
      "text/plain": [
       "<Figure size 432x288 with 1 Axes>"
      ]
     },
     "metadata": {
      "needs_background": "light"
     },
     "output_type": "display_data"
    }
   ],
   "source": [
    "pyplot.plot(df.index,df.idle_men)"
   ]
  },
  {
   "cell_type": "code",
   "execution_count": 48,
   "metadata": {
    "execution": {
     "iopub.execute_input": "2021-06-10T15:08:33.061533Z",
     "iopub.status.busy": "2021-06-10T15:08:33.060924Z",
     "iopub.status.idle": "2021-06-10T15:08:33.067539Z",
     "shell.execute_reply": "2021-06-10T15:08:33.066911Z",
     "shell.execute_reply.started": "2021-05-27T14:48:39.328786Z"
    },
    "papermill": {
     "duration": 0.13829,
     "end_time": "2021-06-10T15:08:33.067676",
     "exception": false,
     "start_time": "2021-06-10T15:08:32.929386",
     "status": "completed"
    },
    "tags": []
   },
   "outputs": [
    {
     "data": {
      "text/plain": [
       "(18, 14)"
      ]
     },
     "execution_count": 48,
     "metadata": {},
     "output_type": "execute_result"
    }
   ],
   "source": [
    "df[df['idle_men']>0].shape"
   ]
  },
  {
   "cell_type": "code",
   "execution_count": 49,
   "metadata": {
    "execution": {
     "iopub.execute_input": "2021-06-10T15:08:33.333724Z",
     "iopub.status.busy": "2021-06-10T15:08:33.332669Z",
     "iopub.status.idle": "2021-06-10T15:08:33.365161Z",
     "shell.execute_reply": "2021-06-10T15:08:33.364493Z",
     "shell.execute_reply.started": "2021-05-27T14:48:39.336815Z"
    },
    "papermill": {
     "duration": 0.166643,
     "end_time": "2021-06-10T15:08:33.365303",
     "exception": false,
     "start_time": "2021-06-10T15:08:33.198660",
     "status": "completed"
    },
    "tags": []
   },
   "outputs": [
    {
     "data": {
      "text/html": [
       "<div>\n",
       "<style scoped>\n",
       "    .dataframe tbody tr th:only-of-type {\n",
       "        vertical-align: middle;\n",
       "    }\n",
       "\n",
       "    .dataframe tbody tr th {\n",
       "        vertical-align: top;\n",
       "    }\n",
       "\n",
       "    .dataframe thead th {\n",
       "        text-align: right;\n",
       "    }\n",
       "</style>\n",
       "<table border=\"1\" class=\"dataframe\">\n",
       "  <thead>\n",
       "    <tr style=\"text-align: right;\">\n",
       "      <th></th>\n",
       "      <th>quarter</th>\n",
       "      <th>department</th>\n",
       "      <th>day</th>\n",
       "      <th>team</th>\n",
       "      <th>targeted_productivity</th>\n",
       "      <th>smv</th>\n",
       "      <th>wip</th>\n",
       "      <th>over_time</th>\n",
       "      <th>incentive</th>\n",
       "      <th>idle_time</th>\n",
       "      <th>idle_men</th>\n",
       "      <th>no_of_style_change</th>\n",
       "      <th>no_of_workers</th>\n",
       "      <th>actual_productivity</th>\n",
       "    </tr>\n",
       "    <tr>\n",
       "      <th>date</th>\n",
       "      <th></th>\n",
       "      <th></th>\n",
       "      <th></th>\n",
       "      <th></th>\n",
       "      <th></th>\n",
       "      <th></th>\n",
       "      <th></th>\n",
       "      <th></th>\n",
       "      <th></th>\n",
       "      <th></th>\n",
       "      <th></th>\n",
       "      <th></th>\n",
       "      <th></th>\n",
       "      <th></th>\n",
       "    </tr>\n",
       "  </thead>\n",
       "  <tbody>\n",
       "    <tr>\n",
       "      <th>2015-02-04</th>\n",
       "      <td>Quarter1</td>\n",
       "      <td>sweing</td>\n",
       "      <td>Wednesday</td>\n",
       "      <td>5</td>\n",
       "      <td>0.65</td>\n",
       "      <td>30.10</td>\n",
       "      <td>326.0</td>\n",
       "      <td>5820</td>\n",
       "      <td>0</td>\n",
       "      <td>90.0</td>\n",
       "      <td>10</td>\n",
       "      <td>0</td>\n",
       "      <td>58.5</td>\n",
       "      <td>0.650835</td>\n",
       "    </tr>\n",
       "    <tr>\n",
       "      <th>2015-02-04</th>\n",
       "      <td>Quarter1</td>\n",
       "      <td>sweing</td>\n",
       "      <td>Wednesday</td>\n",
       "      <td>4</td>\n",
       "      <td>0.35</td>\n",
       "      <td>30.10</td>\n",
       "      <td>287.0</td>\n",
       "      <td>6060</td>\n",
       "      <td>23</td>\n",
       "      <td>150.0</td>\n",
       "      <td>15</td>\n",
       "      <td>0</td>\n",
       "      <td>55.5</td>\n",
       "      <td>0.350706</td>\n",
       "    </tr>\n",
       "    <tr>\n",
       "      <th>2015-02-07</th>\n",
       "      <td>Quarter1</td>\n",
       "      <td>sweing</td>\n",
       "      <td>Saturday</td>\n",
       "      <td>7</td>\n",
       "      <td>0.70</td>\n",
       "      <td>24.26</td>\n",
       "      <td>658.0</td>\n",
       "      <td>6960</td>\n",
       "      <td>0</td>\n",
       "      <td>270.0</td>\n",
       "      <td>45</td>\n",
       "      <td>0</td>\n",
       "      <td>58.0</td>\n",
       "      <td>0.662270</td>\n",
       "    </tr>\n",
       "    <tr>\n",
       "      <th>2015-02-07</th>\n",
       "      <td>Quarter1</td>\n",
       "      <td>sweing</td>\n",
       "      <td>Saturday</td>\n",
       "      <td>8</td>\n",
       "      <td>0.70</td>\n",
       "      <td>24.26</td>\n",
       "      <td>652.0</td>\n",
       "      <td>6840</td>\n",
       "      <td>0</td>\n",
       "      <td>300.0</td>\n",
       "      <td>37</td>\n",
       "      <td>0</td>\n",
       "      <td>57.0</td>\n",
       "      <td>0.365319</td>\n",
       "    </tr>\n",
       "    <tr>\n",
       "      <th>2015-02-15</th>\n",
       "      <td>Quarter3</td>\n",
       "      <td>sweing</td>\n",
       "      <td>Sunday</td>\n",
       "      <td>8</td>\n",
       "      <td>0.70</td>\n",
       "      <td>30.10</td>\n",
       "      <td>507.0</td>\n",
       "      <td>5880</td>\n",
       "      <td>40</td>\n",
       "      <td>2.0</td>\n",
       "      <td>10</td>\n",
       "      <td>1</td>\n",
       "      <td>59.0</td>\n",
       "      <td>0.700573</td>\n",
       "    </tr>\n",
       "    <tr>\n",
       "      <th>2015-02-16</th>\n",
       "      <td>Quarter3</td>\n",
       "      <td>sweing</td>\n",
       "      <td>Monday</td>\n",
       "      <td>8</td>\n",
       "      <td>0.70</td>\n",
       "      <td>30.10</td>\n",
       "      <td>7.0</td>\n",
       "      <td>7080</td>\n",
       "      <td>27</td>\n",
       "      <td>2.0</td>\n",
       "      <td>10</td>\n",
       "      <td>2</td>\n",
       "      <td>59.0</td>\n",
       "      <td>0.621972</td>\n",
       "    </tr>\n",
       "    <tr>\n",
       "      <th>2015-02-17</th>\n",
       "      <td>Quarter3</td>\n",
       "      <td>sweing</td>\n",
       "      <td>Tuesday</td>\n",
       "      <td>8</td>\n",
       "      <td>0.60</td>\n",
       "      <td>29.40</td>\n",
       "      <td>179.0</td>\n",
       "      <td>0</td>\n",
       "      <td>23</td>\n",
       "      <td>5.0</td>\n",
       "      <td>30</td>\n",
       "      <td>2</td>\n",
       "      <td>58.0</td>\n",
       "      <td>0.600983</td>\n",
       "    </tr>\n",
       "    <tr>\n",
       "      <th>2015-02-17</th>\n",
       "      <td>Quarter3</td>\n",
       "      <td>sweing</td>\n",
       "      <td>Tuesday</td>\n",
       "      <td>10</td>\n",
       "      <td>0.65</td>\n",
       "      <td>18.22</td>\n",
       "      <td>741.0</td>\n",
       "      <td>0</td>\n",
       "      <td>0</td>\n",
       "      <td>8.0</td>\n",
       "      <td>35</td>\n",
       "      <td>1</td>\n",
       "      <td>49.0</td>\n",
       "      <td>0.302117</td>\n",
       "    </tr>\n",
       "    <tr>\n",
       "      <th>2015-02-18</th>\n",
       "      <td>Quarter3</td>\n",
       "      <td>sweing</td>\n",
       "      <td>Wednesday</td>\n",
       "      <td>10</td>\n",
       "      <td>0.70</td>\n",
       "      <td>19.68</td>\n",
       "      <td>1119.0</td>\n",
       "      <td>5640</td>\n",
       "      <td>0</td>\n",
       "      <td>8.0</td>\n",
       "      <td>35</td>\n",
       "      <td>1</td>\n",
       "      <td>47.0</td>\n",
       "      <td>0.303574</td>\n",
       "    </tr>\n",
       "    <tr>\n",
       "      <th>2015-02-18</th>\n",
       "      <td>Quarter3</td>\n",
       "      <td>sweing</td>\n",
       "      <td>Wednesday</td>\n",
       "      <td>8</td>\n",
       "      <td>0.65</td>\n",
       "      <td>29.40</td>\n",
       "      <td>962.0</td>\n",
       "      <td>4560</td>\n",
       "      <td>0</td>\n",
       "      <td>4.5</td>\n",
       "      <td>30</td>\n",
       "      <td>2</td>\n",
       "      <td>57.0</td>\n",
       "      <td>0.251399</td>\n",
       "    </tr>\n",
       "    <tr>\n",
       "      <th>2015-02-19</th>\n",
       "      <td>Quarter3</td>\n",
       "      <td>sweing</td>\n",
       "      <td>Thursday</td>\n",
       "      <td>5</td>\n",
       "      <td>0.80</td>\n",
       "      <td>30.10</td>\n",
       "      <td>276.0</td>\n",
       "      <td>600</td>\n",
       "      <td>63</td>\n",
       "      <td>3.5</td>\n",
       "      <td>15</td>\n",
       "      <td>0</td>\n",
       "      <td>59.5</td>\n",
       "      <td>0.799983</td>\n",
       "    </tr>\n",
       "    <tr>\n",
       "      <th>2015-02-19</th>\n",
       "      <td>Quarter3</td>\n",
       "      <td>sweing</td>\n",
       "      <td>Thursday</td>\n",
       "      <td>7</td>\n",
       "      <td>0.75</td>\n",
       "      <td>30.10</td>\n",
       "      <td>444.0</td>\n",
       "      <td>0</td>\n",
       "      <td>0</td>\n",
       "      <td>5.0</td>\n",
       "      <td>20</td>\n",
       "      <td>1</td>\n",
       "      <td>59.0</td>\n",
       "      <td>0.611141</td>\n",
       "    </tr>\n",
       "    <tr>\n",
       "      <th>2015-02-22</th>\n",
       "      <td>Quarter4</td>\n",
       "      <td>sweing</td>\n",
       "      <td>Sunday</td>\n",
       "      <td>7</td>\n",
       "      <td>0.75</td>\n",
       "      <td>30.10</td>\n",
       "      <td>627.0</td>\n",
       "      <td>6960</td>\n",
       "      <td>0</td>\n",
       "      <td>3.5</td>\n",
       "      <td>20</td>\n",
       "      <td>1</td>\n",
       "      <td>58.0</td>\n",
       "      <td>0.393549</td>\n",
       "    </tr>\n",
       "    <tr>\n",
       "      <th>2015-02-22</th>\n",
       "      <td>Quarter4</td>\n",
       "      <td>sweing</td>\n",
       "      <td>Sunday</td>\n",
       "      <td>5</td>\n",
       "      <td>0.80</td>\n",
       "      <td>30.10</td>\n",
       "      <td>450.0</td>\n",
       "      <td>5700</td>\n",
       "      <td>0</td>\n",
       "      <td>4.5</td>\n",
       "      <td>25</td>\n",
       "      <td>0</td>\n",
       "      <td>60.0</td>\n",
       "      <td>0.307501</td>\n",
       "    </tr>\n",
       "    <tr>\n",
       "      <th>2015-03-01</th>\n",
       "      <td>Quarter1</td>\n",
       "      <td>sweing</td>\n",
       "      <td>Sunday</td>\n",
       "      <td>11</td>\n",
       "      <td>0.80</td>\n",
       "      <td>11.61</td>\n",
       "      <td>347.0</td>\n",
       "      <td>0</td>\n",
       "      <td>50</td>\n",
       "      <td>4.0</td>\n",
       "      <td>20</td>\n",
       "      <td>0</td>\n",
       "      <td>57.0</td>\n",
       "      <td>0.682433</td>\n",
       "    </tr>\n",
       "    <tr>\n",
       "      <th>2015-03-01</th>\n",
       "      <td>Quarter1</td>\n",
       "      <td>sweing</td>\n",
       "      <td>Sunday</td>\n",
       "      <td>7</td>\n",
       "      <td>0.80</td>\n",
       "      <td>30.10</td>\n",
       "      <td>934.0</td>\n",
       "      <td>6960</td>\n",
       "      <td>0</td>\n",
       "      <td>3.5</td>\n",
       "      <td>15</td>\n",
       "      <td>0</td>\n",
       "      <td>58.0</td>\n",
       "      <td>0.579511</td>\n",
       "    </tr>\n",
       "    <tr>\n",
       "      <th>2015-03-03</th>\n",
       "      <td>Quarter1</td>\n",
       "      <td>sweing</td>\n",
       "      <td>Tuesday</td>\n",
       "      <td>2</td>\n",
       "      <td>0.40</td>\n",
       "      <td>15.28</td>\n",
       "      <td>157.0</td>\n",
       "      <td>5400</td>\n",
       "      <td>0</td>\n",
       "      <td>6.5</td>\n",
       "      <td>30</td>\n",
       "      <td>1</td>\n",
       "      <td>45.0</td>\n",
       "      <td>0.302770</td>\n",
       "    </tr>\n",
       "    <tr>\n",
       "      <th>2015-03-05</th>\n",
       "      <td>Quarter1</td>\n",
       "      <td>sweing</td>\n",
       "      <td>Thursday</td>\n",
       "      <td>7</td>\n",
       "      <td>0.80</td>\n",
       "      <td>30.10</td>\n",
       "      <td>834.0</td>\n",
       "      <td>1200</td>\n",
       "      <td>0</td>\n",
       "      <td>4.0</td>\n",
       "      <td>40</td>\n",
       "      <td>0</td>\n",
       "      <td>59.0</td>\n",
       "      <td>0.366054</td>\n",
       "    </tr>\n",
       "  </tbody>\n",
       "</table>\n",
       "</div>"
      ],
      "text/plain": [
       "             quarter department        day  team  targeted_productivity  \\\n",
       "date                                                                      \n",
       "2015-02-04  Quarter1     sweing  Wednesday     5                   0.65   \n",
       "2015-02-04  Quarter1     sweing  Wednesday     4                   0.35   \n",
       "2015-02-07  Quarter1     sweing   Saturday     7                   0.70   \n",
       "2015-02-07  Quarter1     sweing   Saturday     8                   0.70   \n",
       "2015-02-15  Quarter3     sweing     Sunday     8                   0.70   \n",
       "2015-02-16  Quarter3     sweing     Monday     8                   0.70   \n",
       "2015-02-17  Quarter3     sweing    Tuesday     8                   0.60   \n",
       "2015-02-17  Quarter3     sweing    Tuesday    10                   0.65   \n",
       "2015-02-18  Quarter3     sweing  Wednesday    10                   0.70   \n",
       "2015-02-18  Quarter3     sweing  Wednesday     8                   0.65   \n",
       "2015-02-19  Quarter3     sweing   Thursday     5                   0.80   \n",
       "2015-02-19  Quarter3     sweing   Thursday     7                   0.75   \n",
       "2015-02-22  Quarter4     sweing     Sunday     7                   0.75   \n",
       "2015-02-22  Quarter4     sweing     Sunday     5                   0.80   \n",
       "2015-03-01  Quarter1     sweing     Sunday    11                   0.80   \n",
       "2015-03-01  Quarter1     sweing     Sunday     7                   0.80   \n",
       "2015-03-03  Quarter1     sweing    Tuesday     2                   0.40   \n",
       "2015-03-05  Quarter1     sweing   Thursday     7                   0.80   \n",
       "\n",
       "              smv     wip  over_time  incentive  idle_time  idle_men  \\\n",
       "date                                                                   \n",
       "2015-02-04  30.10   326.0       5820          0       90.0        10   \n",
       "2015-02-04  30.10   287.0       6060         23      150.0        15   \n",
       "2015-02-07  24.26   658.0       6960          0      270.0        45   \n",
       "2015-02-07  24.26   652.0       6840          0      300.0        37   \n",
       "2015-02-15  30.10   507.0       5880         40        2.0        10   \n",
       "2015-02-16  30.10     7.0       7080         27        2.0        10   \n",
       "2015-02-17  29.40   179.0          0         23        5.0        30   \n",
       "2015-02-17  18.22   741.0          0          0        8.0        35   \n",
       "2015-02-18  19.68  1119.0       5640          0        8.0        35   \n",
       "2015-02-18  29.40   962.0       4560          0        4.5        30   \n",
       "2015-02-19  30.10   276.0        600         63        3.5        15   \n",
       "2015-02-19  30.10   444.0          0          0        5.0        20   \n",
       "2015-02-22  30.10   627.0       6960          0        3.5        20   \n",
       "2015-02-22  30.10   450.0       5700          0        4.5        25   \n",
       "2015-03-01  11.61   347.0          0         50        4.0        20   \n",
       "2015-03-01  30.10   934.0       6960          0        3.5        15   \n",
       "2015-03-03  15.28   157.0       5400          0        6.5        30   \n",
       "2015-03-05  30.10   834.0       1200          0        4.0        40   \n",
       "\n",
       "            no_of_style_change  no_of_workers  actual_productivity  \n",
       "date                                                                \n",
       "2015-02-04                   0           58.5             0.650835  \n",
       "2015-02-04                   0           55.5             0.350706  \n",
       "2015-02-07                   0           58.0             0.662270  \n",
       "2015-02-07                   0           57.0             0.365319  \n",
       "2015-02-15                   1           59.0             0.700573  \n",
       "2015-02-16                   2           59.0             0.621972  \n",
       "2015-02-17                   2           58.0             0.600983  \n",
       "2015-02-17                   1           49.0             0.302117  \n",
       "2015-02-18                   1           47.0             0.303574  \n",
       "2015-02-18                   2           57.0             0.251399  \n",
       "2015-02-19                   0           59.5             0.799983  \n",
       "2015-02-19                   1           59.0             0.611141  \n",
       "2015-02-22                   1           58.0             0.393549  \n",
       "2015-02-22                   0           60.0             0.307501  \n",
       "2015-03-01                   0           57.0             0.682433  \n",
       "2015-03-01                   0           58.0             0.579511  \n",
       "2015-03-03                   1           45.0             0.302770  \n",
       "2015-03-05                   0           59.0             0.366054  "
      ]
     },
     "execution_count": 49,
     "metadata": {},
     "output_type": "execute_result"
    }
   ],
   "source": [
    "df[df['idle_men']>0]"
   ]
  },
  {
   "cell_type": "markdown",
   "metadata": {
    "papermill": {
     "duration": 0.163466,
     "end_time": "2021-06-10T15:08:33.662119",
     "exception": false,
     "start_time": "2021-06-10T15:08:33.498653",
     "status": "completed"
    },
    "tags": []
   },
   "source": [
    "All of the peak values of Idle_men belongs to sweing department"
   ]
  },
  {
   "cell_type": "markdown",
   "metadata": {
    "papermill": {
     "duration": 0.130929,
     "end_time": "2021-06-10T15:08:33.925010",
     "exception": false,
     "start_time": "2021-06-10T15:08:33.794081",
     "status": "completed"
    },
    "tags": []
   },
   "source": [
    "<a id = '8n'></a>\n",
    "### 8 No_of_style_change "
   ]
  },
  {
   "cell_type": "code",
   "execution_count": 50,
   "metadata": {
    "execution": {
     "iopub.execute_input": "2021-06-10T15:08:34.214263Z",
     "iopub.status.busy": "2021-06-10T15:08:34.213263Z",
     "iopub.status.idle": "2021-06-10T15:08:34.367945Z",
     "shell.execute_reply": "2021-06-10T15:08:34.367250Z",
     "shell.execute_reply.started": "2021-05-27T14:48:39.377256Z"
    },
    "id": "e0v3Xc2KR4kU",
    "outputId": "d8555c37-a68f-476e-a5b3-7d4474f79f42",
    "papermill": {
     "duration": 0.310655,
     "end_time": "2021-06-10T15:08:34.368095",
     "exception": false,
     "start_time": "2021-06-10T15:08:34.057440",
     "status": "completed"
    },
    "tags": []
   },
   "outputs": [
    {
     "data": {
      "text/plain": [
       "[<matplotlib.lines.Line2D at 0x7fec366e6810>]"
      ]
     },
     "execution_count": 50,
     "metadata": {},
     "output_type": "execute_result"
    },
    {
     "data": {
      "image/png": "[encoded data removed]",
      "text/plain": [
       "<Figure size 432x288 with 1 Axes>"
      ]
     },
     "metadata": {
      "needs_background": "light"
     },
     "output_type": "display_data"
    }
   ],
   "source": [
    "pyplot.plot(df.index,df.no_of_style_change)"
   ]
  },
  {
   "cell_type": "code",
   "execution_count": 51,
   "metadata": {
    "execution": {
     "iopub.execute_input": "2021-06-10T15:08:34.664860Z",
     "iopub.status.busy": "2021-06-10T15:08:34.664165Z",
     "iopub.status.idle": "2021-06-10T15:08:35.014206Z",
     "shell.execute_reply": "2021-06-10T15:08:35.013622Z",
     "shell.execute_reply.started": "2021-05-27T14:48:39.555632Z"
    },
    "papermill": {
     "duration": 0.512634,
     "end_time": "2021-06-10T15:08:35.014351",
     "exception": false,
     "start_time": "2021-06-10T15:08:34.501717",
     "status": "completed"
    },
    "tags": []
   },
   "outputs": [
    {
     "name": "stderr",
     "output_type": "stream",
     "text": [
      "/opt/conda/lib/python3.7/site-packages/seaborn/_decorators.py:43: FutureWarning: Pass the following variable as a keyword arg: x. From version 0.12, the only valid positional argument will be `data`, and passing other arguments without an explicit keyword will result in an error or misinterpretation.\n",
      "  FutureWarning\n",
      "/opt/conda/lib/python3.7/site-packages/seaborn/_decorators.py:43: FutureWarning: Pass the following variable as a keyword arg: x. From version 0.12, the only valid positional argument will be `data`, and passing other arguments without an explicit keyword will result in an error or misinterpretation.\n",
      "  FutureWarning\n"
     ]
    },
    {
     "data": {
      "image/png": "[encoded data removed]",
      "text/plain": [
       "<Figure size 1080x504 with 2 Axes>"
      ]
     },
     "metadata": {
      "needs_background": "light"
     },
     "output_type": "display_data"
    }
   ],
   "source": [
    "plt.figure(figsize=(15, 7))\n",
    "palette='gist_rainbow'\n",
    "\n",
    "plt.subplot(1, 2, 1)\n",
    "sns.countplot('no_of_style_change',hue='quarter',data=df)\n",
    "plt.xlabel('no_of_style_change')\n",
    "\n",
    "plt.subplot(1, 2, 2)\n",
    "sns.countplot('no_of_style_change',hue='department',data=df)\n",
    "plt.xlabel('no_of_style_change')\n",
    "\n",
    "plt.show()"
   ]
  },
  {
   "cell_type": "markdown",
   "metadata": {
    "papermill": {
     "duration": 0.133665,
     "end_time": "2021-06-10T15:08:35.282632",
     "exception": false,
     "start_time": "2021-06-10T15:08:35.148967",
     "status": "completed"
    },
    "tags": []
   },
   "source": [
    "There is no no_of_style_change in Quarter5 and all of changes occured in the sweing department"
   ]
  },
  {
   "cell_type": "markdown",
   "metadata": {
    "papermill": {
     "duration": 0.133831,
     "end_time": "2021-06-10T15:08:35.551666",
     "exception": false,
     "start_time": "2021-06-10T15:08:35.417835",
     "status": "completed"
    },
    "tags": []
   },
   "source": [
    "<a id = '9n'></a>\n",
    "### 9 No_of_workers"
   ]
  },
  {
   "cell_type": "code",
   "execution_count": 52,
   "metadata": {
    "execution": {
     "iopub.execute_input": "2021-06-10T15:08:35.837382Z",
     "iopub.status.busy": "2021-06-10T15:08:35.824063Z",
     "iopub.status.idle": "2021-06-10T15:08:35.920489Z",
     "shell.execute_reply": "2021-06-10T15:08:35.919975Z",
     "shell.execute_reply.started": "2021-05-27T14:48:39.924364Z"
    },
    "papermill": {
     "duration": 0.235448,
     "end_time": "2021-06-10T15:08:35.920687",
     "exception": false,
     "start_time": "2021-06-10T15:08:35.685239",
     "status": "completed"
    },
    "tags": []
   },
   "outputs": [
    {
     "data": {
      "image/png": "[encoded data removed]",
      "text/plain": [
       "<Figure size 432x288 with 1 Axes>"
      ]
     },
     "metadata": {},
     "output_type": "display_data"
    }
   ],
   "source": [
    "data = df.groupby(['department']).no_of_workers.sum()\n",
    "data.plot.pie(title=\"Employee rates by department\",autopct='%1.1f%%')\n",
    "plt.ylabel(None)\n",
    "plt.show()"
   ]
  },
  {
   "cell_type": "markdown",
   "metadata": {
    "papermill": {
     "duration": 0.135891,
     "end_time": "2021-06-10T15:08:36.190703",
     "exception": false,
     "start_time": "2021-06-10T15:08:36.054812",
     "status": "completed"
    },
    "tags": []
   },
   "source": [
    "Employee rates in sweing and finishing departments are respectively %87.5 and %12.5."
   ]
  },
  {
   "cell_type": "markdown",
   "metadata": {
    "papermill": {
     "duration": 0.134387,
     "end_time": "2021-06-10T15:08:36.461322",
     "exception": false,
     "start_time": "2021-06-10T15:08:36.326935",
     "status": "completed"
    },
    "tags": []
   },
   "source": [
    "<a id = '10n'></a>\n",
    "### 10 Actual Productivity"
   ]
  },
  {
   "cell_type": "code",
   "execution_count": 53,
   "metadata": {
    "execution": {
     "iopub.execute_input": "2021-06-10T15:08:36.736383Z",
     "iopub.status.busy": "2021-06-10T15:08:36.735716Z",
     "iopub.status.idle": "2021-06-10T15:08:37.080120Z",
     "shell.execute_reply": "2021-06-10T15:08:37.080609Z",
     "shell.execute_reply.started": "2021-05-27T14:48:40.025918Z"
    },
    "id": "KQjmlbysR4kW",
    "outputId": "f07b04ea-a60f-4cce-a175-9bd75b708177",
    "papermill": {
     "duration": 0.484194,
     "end_time": "2021-06-10T15:08:37.080824",
     "exception": false,
     "start_time": "2021-06-10T15:08:36.596630",
     "status": "completed"
    },
    "tags": []
   },
   "outputs": [
    {
     "name": "stderr",
     "output_type": "stream",
     "text": [
      "/opt/conda/lib/python3.7/site-packages/seaborn/distributions.py:2557: FutureWarning: `distplot` is a deprecated function and will be removed in a future version. Please adapt your code to use either `displot` (a figure-level function with similar flexibility) or `histplot` (an axes-level function for histograms).\n",
      "  warnings.warn(msg, FutureWarning)\n"
     ]
    },
    {
     "data": {
      "text/plain": [
       "<AxesSubplot:xlabel='actual_productivity', ylabel='Density'>"
      ]
     },
     "execution_count": 53,
     "metadata": {},
     "output_type": "execute_result"
    },
    {
     "data": {
      "image/png": "[encoded data removed]",
      "text/plain": [
       "<Figure size 432x288 with 1 Axes>"
      ]
     },
     "metadata": {
      "needs_background": "light"
     },
     "output_type": "display_data"
    }
   ],
   "source": [
    "sns.distplot(df.actual_productivity)"
   ]
  },
  {
   "cell_type": "code",
   "execution_count": 54,
   "metadata": {
    "execution": {
     "iopub.execute_input": "2021-06-10T15:08:37.379889Z",
     "iopub.status.busy": "2021-06-10T15:08:37.367148Z",
     "iopub.status.idle": "2021-06-10T15:08:37.517887Z",
     "shell.execute_reply": "2021-06-10T15:08:37.517309Z",
     "shell.execute_reply.started": "2021-05-27T14:48:40.245377Z"
    },
    "papermill": {
     "duration": 0.301758,
     "end_time": "2021-06-10T15:08:37.518035",
     "exception": false,
     "start_time": "2021-06-10T15:08:37.216277",
     "status": "completed"
    },
    "tags": []
   },
   "outputs": [
    {
     "data": {
      "text/plain": [
       "[<matplotlib.lines.Line2D at 0x7fec365c9110>]"
      ]
     },
     "execution_count": 54,
     "metadata": {},
     "output_type": "execute_result"
    },
    {
     "data": {
      "image/png": "[encoded data removed]",
      "text/plain": [
       "<Figure size 432x288 with 1 Axes>"
      ]
     },
     "metadata": {
      "needs_background": "light"
     },
     "output_type": "display_data"
    }
   ],
   "source": [
    "pyplot.plot(df.index,df.actual_productivity)"
   ]
  },
  {
   "cell_type": "markdown",
   "metadata": {
    "papermill": {
     "duration": 0.136131,
     "end_time": "2021-06-10T15:08:37.792172",
     "exception": false,
     "start_time": "2021-06-10T15:08:37.656041",
     "status": "completed"
    },
    "tags": []
   },
   "source": [
    "There is no an obvious pattern with respect to time in actual_productivity"
   ]
  },
  {
   "cell_type": "code",
   "execution_count": 55,
   "metadata": {
    "execution": {
     "iopub.execute_input": "2021-06-10T15:08:38.075272Z",
     "iopub.status.busy": "2021-06-10T15:08:38.074441Z",
     "iopub.status.idle": "2021-06-10T15:08:38.690649Z",
     "shell.execute_reply": "2021-06-10T15:08:38.689910Z",
     "shell.execute_reply.started": "2021-05-27T14:48:40.40878Z"
    },
    "papermill": {
     "duration": 0.761661,
     "end_time": "2021-06-10T15:08:38.690846",
     "exception": false,
     "start_time": "2021-06-10T15:08:37.929185",
     "status": "completed"
    },
    "tags": []
   },
   "outputs": [
    {
     "data": {
      "image/png": "[encoded data removed]",
      "text/plain": [
       "<Figure size 1800x720 with 1 Axes>"
      ]
     },
     "metadata": {
      "needs_background": "light"
     },
     "output_type": "display_data"
    }
   ],
   "source": [
    "plt.figure(figsize=(25, 10))\n",
    "palette = \"Set3\"\n",
    "\n",
    "sns.boxplot(x = 'team', y = 'actual_productivity', data = df,\n",
    "     palette = palette,hue='department',fliersize = 0)\n",
    "plt.yticks(np.arange(0,1.2,step=0.3))\n",
    "plt.title('Actual_productivity distribution by team and department',fontsize= 14)\n",
    "plt.show()"
   ]
  },
  {
   "cell_type": "markdown",
   "metadata": {
    "papermill": {
     "duration": 0.138926,
     "end_time": "2021-06-10T15:08:38.967256",
     "exception": false,
     "start_time": "2021-06-10T15:08:38.828330",
     "status": "completed"
    },
    "tags": []
   },
   "source": [
    "<a id = '11n'></a>\n",
    "### 11 Targeted Productivity"
   ]
  },
  {
   "cell_type": "code",
   "execution_count": 56,
   "metadata": {
    "execution": {
     "iopub.execute_input": "2021-06-10T15:08:39.272047Z",
     "iopub.status.busy": "2021-06-10T15:08:39.271388Z",
     "iopub.status.idle": "2021-06-10T15:08:39.464771Z",
     "shell.execute_reply": "2021-06-10T15:08:39.465228Z",
     "shell.execute_reply.started": "2021-05-27T14:48:41.156283Z"
    },
    "id": "I1v9Hz9AR4kP",
    "outputId": "d8c18125-1e86-4731-94b1-114226c74c32",
    "papermill": {
     "duration": 0.358682,
     "end_time": "2021-06-10T15:08:39.465405",
     "exception": false,
     "start_time": "2021-06-10T15:08:39.106723",
     "status": "completed"
    },
    "tags": []
   },
   "outputs": [
    {
     "name": "stderr",
     "output_type": "stream",
     "text": [
      "/opt/conda/lib/python3.7/site-packages/seaborn/distributions.py:2557: FutureWarning: `distplot` is a deprecated function and will be removed in a future version. Please adapt your code to use either `displot` (a figure-level function with similar flexibility) or `histplot` (an axes-level function for histograms).\n",
      "  warnings.warn(msg, FutureWarning)\n"
     ]
    },
    {
     "data": {
      "text/plain": [
       "<AxesSubplot:xlabel='targeted_productivity', ylabel='Density'>"
      ]
     },
     "execution_count": 56,
     "metadata": {},
     "output_type": "execute_result"
    },
    {
     "data": {
      "image/png": "[encoded data removed]",
      "text/plain": [
       "<Figure size 432x288 with 1 Axes>"
      ]
     },
     "metadata": {
      "needs_background": "light"
     },
     "output_type": "display_data"
    }
   ],
   "source": [
    "sns.distplot(df['targeted_productivity'])"
   ]
  },
  {
   "cell_type": "code",
   "execution_count": 57,
   "metadata": {
    "execution": {
     "iopub.execute_input": "2021-06-10T15:08:39.755377Z",
     "iopub.status.busy": "2021-06-10T15:08:39.754724Z",
     "iopub.status.idle": "2021-06-10T15:08:39.761717Z",
     "shell.execute_reply": "2021-06-10T15:08:39.762239Z",
     "shell.execute_reply.started": "2021-05-27T14:48:41.407205Z"
    },
    "id": "ZRelDpXKR4kP",
    "outputId": "6fc0e623-476e-465e-cf34-42cca781fb67",
    "papermill": {
     "duration": 0.150019,
     "end_time": "2021-06-10T15:08:39.762417",
     "exception": false,
     "start_time": "2021-06-10T15:08:39.612398",
     "status": "completed"
    },
    "tags": []
   },
   "outputs": [
    {
     "data": {
      "text/plain": [
       "0.80    540\n",
       "0.70    242\n",
       "0.75    216\n",
       "0.65     63\n",
       "0.60     57\n",
       "0.50     49\n",
       "0.35     27\n",
       "0.40      2\n",
       "0.07      1\n",
       "Name: targeted_productivity, dtype: int64"
      ]
     },
     "execution_count": 57,
     "metadata": {},
     "output_type": "execute_result"
    }
   ],
   "source": [
    "df.targeted_productivity.value_counts()\n"
   ]
  },
  {
   "cell_type": "markdown",
   "metadata": {
    "id": "8SmLe-baT_Xs",
    "papermill": {
     "duration": 0.141391,
     "end_time": "2021-06-10T15:08:40.046304",
     "exception": false,
     "start_time": "2021-06-10T15:08:39.904913",
     "status": "completed"
    },
    "tags": []
   },
   "source": [
    "When we checked the dates it can be observed that there is a repeated pattern for all quarters with time except Quarter5. We need to look into Quarter5 deeply. There should be a reason for that exception "
   ]
  },
  {
   "cell_type": "code",
   "execution_count": 58,
   "metadata": {
    "execution": {
     "iopub.execute_input": "2021-06-10T15:08:40.329499Z",
     "iopub.status.busy": "2021-06-10T15:08:40.328901Z",
     "iopub.status.idle": "2021-06-10T15:08:40.934915Z",
     "shell.execute_reply": "2021-06-10T15:08:40.935381Z",
     "shell.execute_reply.started": "2021-05-27T14:48:41.418998Z"
    },
    "papermill": {
     "duration": 0.749068,
     "end_time": "2021-06-10T15:08:40.935547",
     "exception": false,
     "start_time": "2021-06-10T15:08:40.186479",
     "status": "completed"
    },
    "tags": []
   },
   "outputs": [
    {
     "data": {
      "image/png": "[encoded data removed]",
      "text/plain": [
       "<Figure size 1800x720 with 1 Axes>"
      ]
     },
     "metadata": {
      "needs_background": "light"
     },
     "output_type": "display_data"
    }
   ],
   "source": [
    "plt.figure(figsize=(25, 10))\n",
    "palette = \"Set3\"\n",
    "\n",
    "sns.boxplot(x = 'team', y = 'targeted_productivity', data = df,\n",
    "     palette = palette,hue='department',fliersize = 0)\n",
    "plt.yticks(np.arange(0,1.2,step=0.3))\n",
    "plt.title('Targeted_productivity distribution by team and department',fontsize= 14)\n",
    "plt.show()"
   ]
  },
  {
   "cell_type": "markdown",
   "metadata": {
    "id": "qFXW2ybeR4kX",
    "papermill": {
     "duration": 0.140762,
     "end_time": "2021-06-10T15:08:41.219635",
     "exception": false,
     "start_time": "2021-06-10T15:08:41.078873",
     "status": "completed"
    },
    "tags": []
   },
   "source": [
    "<a id = '12n'></a>\n",
    "### Actual vs Targeted Productivity"
   ]
  },
  {
   "cell_type": "code",
   "execution_count": 59,
   "metadata": {
    "execution": {
     "iopub.execute_input": "2021-06-10T15:08:41.505810Z",
     "iopub.status.busy": "2021-06-10T15:08:41.505178Z",
     "iopub.status.idle": "2021-06-10T15:08:42.199094Z",
     "shell.execute_reply": "2021-06-10T15:08:42.198577Z",
     "shell.execute_reply.started": "2021-05-27T14:48:42.096206Z"
    },
    "id": "TQgrO5CVR4kY",
    "outputId": "df9829f6-e330-4f3f-c9f8-1da4fdcce648",
    "papermill": {
     "duration": 0.837718,
     "end_time": "2021-06-10T15:08:42.199249",
     "exception": false,
     "start_time": "2021-06-10T15:08:41.361531",
     "status": "completed"
    },
    "tags": []
   },
   "outputs": [
    {
     "data": {
      "image/png": "[encoded data removed]",
      "text/plain": [
       "<Figure size 1800x720 with 1 Axes>"
      ]
     },
     "metadata": {
      "needs_background": "light"
     },
     "output_type": "display_data"
    }
   ],
   "source": [
    "plt.figure(figsize=(25, 10))\n",
    "palette = \"Set3\"\n",
    "\n",
    "sns.boxplot(x = 'team', y = df.targeted_productivity-df.actual_productivity, data = df,\n",
    "     palette = palette,hue='department',fliersize = 0)\n",
    "\n",
    "plt.title('Difference distribution between targeted_productivity and actual_productivity by team and department',fontsize= 14)\n",
    "plt.show()"
   ]
  },
  {
   "cell_type": "markdown",
   "metadata": {
    "id": "stp9QXHfR4kY",
    "papermill": {
     "duration": 0.140816,
     "end_time": "2021-06-10T15:08:42.481841",
     "exception": false,
     "start_time": "2021-06-10T15:08:42.341025",
     "status": "completed"
    },
    "tags": []
   },
   "source": [
    "There are both negative and positive variations from targeted_productivity on team and department basis. "
   ]
  },
  {
   "cell_type": "markdown",
   "metadata": {
    "id": "X956PiwCR4kZ",
    "papermill": {
     "duration": 0.142933,
     "end_time": "2021-06-10T15:08:43.052569",
     "exception": false,
     "start_time": "2021-06-10T15:08:42.909636",
     "status": "completed"
    },
    "tags": []
   },
   "source": [
    "<a id = '13n'></a>\n",
    "###  Correlation Heatmap"
   ]
  },
  {
   "cell_type": "code",
   "execution_count": 60,
   "metadata": {
    "execution": {
     "iopub.execute_input": "2021-06-10T15:08:43.339744Z",
     "iopub.status.busy": "2021-06-10T15:08:43.339120Z",
     "iopub.status.idle": "2021-06-10T15:08:43.344500Z",
     "shell.execute_reply": "2021-06-10T15:08:43.345032Z",
     "shell.execute_reply.started": "2021-05-27T14:48:42.800475Z"
    },
    "id": "70ExzDh0R4kZ",
    "papermill": {
     "duration": 0.150799,
     "end_time": "2021-06-10T15:08:43.345197",
     "exception": false,
     "start_time": "2021-06-10T15:08:43.194398",
     "status": "completed"
    },
    "tags": []
   },
   "outputs": [],
   "source": [
    "corr=df.corr()\n",
    "mask=np.zeros(corr.shape,dtype=bool)\n",
    "mask[np.triu_indices(len(mask))]=True\n"
   ]
  },
  {
   "cell_type": "code",
   "execution_count": 61,
   "metadata": {
    "execution": {
     "iopub.execute_input": "2021-06-10T15:08:43.632812Z",
     "iopub.status.busy": "2021-06-10T15:08:43.632144Z",
     "iopub.status.idle": "2021-06-10T15:08:44.421446Z",
     "shell.execute_reply": "2021-06-10T15:08:44.420912Z",
     "shell.execute_reply.started": "2021-05-27T14:48:42.808599Z"
    },
    "id": "RF4XYkbHR4kZ",
    "outputId": "70d554a8-d7d9-46e7-b187-63d240f9cc35",
    "papermill": {
     "duration": 0.93512,
     "end_time": "2021-06-10T15:08:44.421581",
     "exception": false,
     "start_time": "2021-06-10T15:08:43.486461",
     "status": "completed"
    },
    "tags": []
   },
   "outputs": [
    {
     "data": {
      "text/plain": [
       "<AxesSubplot:>"
      ]
     },
     "execution_count": 61,
     "metadata": {},
     "output_type": "execute_result"
    },
    {
     "data": {
      "image/png": "[encoded data removed]",
      "text/plain": [
       "<Figure size 720x720 with 2 Axes>"
      ]
     },
     "metadata": {
      "needs_background": "light"
     },
     "output_type": "display_data"
    }
   ],
   "source": [
    "plt.figure(figsize=(10,10))\n",
    "sns.heatmap(corr,annot=True,vmin=-1,vmax=1,cmap='Spectral',square=True,mask=mask,linecolor='white',linewidths=1)"
   ]
  },
  {
   "cell_type": "markdown",
   "metadata": {
    "papermill": {
     "duration": 0.143952,
     "end_time": "2021-06-10T15:08:44.727201",
     "exception": false,
     "start_time": "2021-06-10T15:08:44.583249",
     "status": "completed"
    },
    "tags": []
   },
   "source": [
    "**Highest Positive Correlations:**\n",
    "\n",
    "* No_of workers and smv (0.91)\n",
    "* No_of workers and over_time (0.73)\n",
    "* Over_time and smv (0.67)\n",
    "* Idle_men and Idle_time (0.56)\n",
    "\n",
    "\n",
    "**Positive Correlations:**\n",
    "\n",
    "* No_of workers and no_of_style_change(0.33)\n",
    "* No_of_style_changehas and smv  (0.32)\n",
    "\n",
    "There isnt any obvious negative correlation between features"
   ]
  },
  {
   "cell_type": "markdown",
   "metadata": {
    "id": "IRkfFXUFR4kb",
    "outputId": "9ccbe40c-574a-43cb-b264-38e603fd2e23",
    "papermill": {
     "duration": 0.14233,
     "end_time": "2021-06-10T15:08:45.012290",
     "exception": false,
     "start_time": "2021-06-10T15:08:44.869960",
     "status": "completed"
    },
    "tags": []
   },
   "source": [
    "**Filling in missing values of wip column**"
   ]
  },
  {
   "cell_type": "code",
   "execution_count": 62,
   "metadata": {
    "execution": {
     "iopub.execute_input": "2021-06-10T15:08:45.304953Z",
     "iopub.status.busy": "2021-06-10T15:08:45.304047Z",
     "iopub.status.idle": "2021-06-10T15:08:45.307626Z",
     "shell.execute_reply": "2021-06-10T15:08:45.308238Z",
     "shell.execute_reply.started": "2021-05-27T14:48:43.472332Z"
    },
    "papermill": {
     "duration": 0.151439,
     "end_time": "2021-06-10T15:08:45.308403",
     "exception": false,
     "start_time": "2021-06-10T15:08:45.156964",
     "status": "completed"
    },
    "tags": []
   },
   "outputs": [
    {
     "data": {
      "text/plain": [
       "506"
      ]
     },
     "execution_count": 62,
     "metadata": {},
     "output_type": "execute_result"
    }
   ],
   "source": [
    "df['wip'].isnull().sum()"
   ]
  },
  {
   "cell_type": "code",
   "execution_count": 63,
   "metadata": {
    "execution": {
     "iopub.execute_input": "2021-06-10T15:08:45.601943Z",
     "iopub.status.busy": "2021-06-10T15:08:45.600970Z",
     "iopub.status.idle": "2021-06-10T15:08:45.606421Z",
     "shell.execute_reply": "2021-06-10T15:08:45.605942Z",
     "shell.execute_reply.started": "2021-05-27T14:48:43.481413Z"
    },
    "papermill": {
     "duration": 0.151987,
     "end_time": "2021-06-10T15:08:45.606549",
     "exception": false,
     "start_time": "2021-06-10T15:08:45.454562",
     "status": "completed"
    },
    "tags": []
   },
   "outputs": [],
   "source": [
    "df['wip'].fillna(0,inplace=True)"
   ]
  },
  {
   "cell_type": "code",
   "execution_count": 64,
   "metadata": {
    "execution": {
     "iopub.execute_input": "2021-06-10T15:08:45.899049Z",
     "iopub.status.busy": "2021-06-10T15:08:45.898149Z",
     "iopub.status.idle": "2021-06-10T15:08:45.902392Z",
     "shell.execute_reply": "2021-06-10T15:08:45.901766Z",
     "shell.execute_reply.started": "2021-05-27T14:48:43.494108Z"
    },
    "papermill": {
     "duration": 0.152578,
     "end_time": "2021-06-10T15:08:45.902523",
     "exception": false,
     "start_time": "2021-06-10T15:08:45.749945",
     "status": "completed"
    },
    "tags": []
   },
   "outputs": [
    {
     "data": {
      "text/plain": [
       "0"
      ]
     },
     "execution_count": 64,
     "metadata": {},
     "output_type": "execute_result"
    }
   ],
   "source": [
    "df['wip'].isnull().sum()"
   ]
  },
  {
   "cell_type": "markdown",
   "metadata": {
    "papermill": {
     "duration": 0.146361,
     "end_time": "2021-06-10T15:08:46.191237",
     "exception": false,
     "start_time": "2021-06-10T15:08:46.044876",
     "status": "completed"
    },
    "tags": []
   },
   "source": [
    "<a id = '131n'></a>\n",
    "### One-hot encoding\n"
   ]
  },
  {
   "cell_type": "markdown",
   "metadata": {
    "papermill": {
     "duration": 0.144939,
     "end_time": "2021-06-10T15:08:46.478717",
     "exception": false,
     "start_time": "2021-06-10T15:08:46.333778",
     "status": "completed"
    },
    "tags": []
   },
   "source": [
    "Some columns have identified that may be useful for predicting productivity range:\n",
    "\n",
    "* quarter\n",
    "* department\n",
    "* day\n",
    "* team\n",
    "* no_of_style_change\n",
    "\n",
    "\n",
    "Before we build our model, we need to prepare these columns for machine learning."
   ]
  },
  {
   "cell_type": "code",
   "execution_count": 65,
   "metadata": {
    "execution": {
     "iopub.execute_input": "2021-06-10T15:08:46.776183Z",
     "iopub.status.busy": "2021-06-10T15:08:46.775184Z",
     "iopub.status.idle": "2021-06-10T15:08:46.789195Z",
     "shell.execute_reply": "2021-06-10T15:08:46.788610Z",
     "shell.execute_reply.started": "2021-05-27T14:48:43.509083Z"
    },
    "papermill": {
     "duration": 0.166998,
     "end_time": "2021-06-10T15:08:46.789343",
     "exception": false,
     "start_time": "2021-06-10T15:08:46.622345",
     "status": "completed"
    },
    "tags": []
   },
   "outputs": [
    {
     "data": {
      "text/plain": [
       "Index(['quarter', 'department', 'day', 'team', 'targeted_productivity', 'smv',\n",
       "       'wip', 'over_time', 'incentive', 'idle_time', 'idle_men',\n",
       "       'no_of_style_change', 'no_of_workers', 'actual_productivity',\n",
       "       'quarter_Quarter1', 'quarter_Quarter2', 'quarter_Quarter3',\n",
       "       'quarter_Quarter4', 'quarter_Quarter5', 'department_finishing',\n",
       "       'department_sweing', 'day_Monday', 'day_Saturday', 'day_Sunday',\n",
       "       'day_Thursday', 'day_Tuesday', 'day_Wednesday', 'team_1', 'team_2',\n",
       "       'team_3', 'team_4', 'team_5', 'team_6', 'team_7', 'team_8', 'team_9',\n",
       "       'team_10', 'team_11', 'team_12'],\n",
       "      dtype='object')"
      ]
     },
     "execution_count": 65,
     "metadata": {},
     "output_type": "execute_result"
    }
   ],
   "source": [
    "def create_dummies(df,column_name):\n",
    "    dummies = pd.get_dummies(df[column_name],prefix=column_name)\n",
    "    df = pd.concat([df,dummies],axis=1)\n",
    "    return df\n",
    "\n",
    "df = create_dummies(df,\"quarter\")\n",
    "df = create_dummies(df,\"department\")\n",
    "df = create_dummies(df,\"day\")\n",
    "df = create_dummies(df,\"team\")\n",
    "\n",
    "df.columns"
   ]
  },
  {
   "cell_type": "markdown",
   "metadata": {
    "papermill": {
     "duration": 0.14242,
     "end_time": "2021-06-10T15:08:47.077410",
     "exception": false,
     "start_time": "2021-06-10T15:08:46.934990",
     "status": "completed"
    },
    "tags": []
   },
   "source": [
    "<a id = '14n'></a>\n",
    "### Label Encoding"
   ]
  },
  {
   "cell_type": "code",
   "execution_count": 66,
   "metadata": {
    "execution": {
     "iopub.execute_input": "2021-06-10T15:08:47.367706Z",
     "iopub.status.busy": "2021-06-10T15:08:47.367139Z",
     "iopub.status.idle": "2021-06-10T15:08:47.527045Z",
     "shell.execute_reply": "2021-06-10T15:08:47.526500Z",
     "shell.execute_reply.started": "2021-05-27T14:48:43.536887Z"
    },
    "papermill": {
     "duration": 0.305208,
     "end_time": "2021-06-10T15:08:47.527178",
     "exception": false,
     "start_time": "2021-06-10T15:08:47.221970",
     "status": "completed"
    },
    "tags": []
   },
   "outputs": [
    {
     "data": {
      "text/html": [
       "<div>\n",
       "<style scoped>\n",
       "    .dataframe tbody tr th:only-of-type {\n",
       "        vertical-align: middle;\n",
       "    }\n",
       "\n",
       "    .dataframe tbody tr th {\n",
       "        vertical-align: top;\n",
       "    }\n",
       "\n",
       "    .dataframe thead th {\n",
       "        text-align: right;\n",
       "    }\n",
       "</style>\n",
       "<table border=\"1\" class=\"dataframe\">\n",
       "  <thead>\n",
       "    <tr style=\"text-align: right;\">\n",
       "      <th></th>\n",
       "      <th>quarter</th>\n",
       "      <th>department</th>\n",
       "      <th>day</th>\n",
       "      <th>team</th>\n",
       "      <th>targeted_productivity</th>\n",
       "      <th>smv</th>\n",
       "      <th>wip</th>\n",
       "      <th>over_time</th>\n",
       "      <th>incentive</th>\n",
       "      <th>idle_time</th>\n",
       "      <th>...</th>\n",
       "      <th>team_4</th>\n",
       "      <th>team_5</th>\n",
       "      <th>team_6</th>\n",
       "      <th>team_7</th>\n",
       "      <th>team_8</th>\n",
       "      <th>team_9</th>\n",
       "      <th>team_10</th>\n",
       "      <th>team_11</th>\n",
       "      <th>team_12</th>\n",
       "      <th>no_of_style_change_enc</th>\n",
       "    </tr>\n",
       "    <tr>\n",
       "      <th>date</th>\n",
       "      <th></th>\n",
       "      <th></th>\n",
       "      <th></th>\n",
       "      <th></th>\n",
       "      <th></th>\n",
       "      <th></th>\n",
       "      <th></th>\n",
       "      <th></th>\n",
       "      <th></th>\n",
       "      <th></th>\n",
       "      <th></th>\n",
       "      <th></th>\n",
       "      <th></th>\n",
       "      <th></th>\n",
       "      <th></th>\n",
       "      <th></th>\n",
       "      <th></th>\n",
       "      <th></th>\n",
       "      <th></th>\n",
       "      <th></th>\n",
       "      <th></th>\n",
       "    </tr>\n",
       "  </thead>\n",
       "  <tbody>\n",
       "    <tr>\n",
       "      <th>2015-01-01</th>\n",
       "      <td>Quarter1</td>\n",
       "      <td>sweing</td>\n",
       "      <td>Thursday</td>\n",
       "      <td>8</td>\n",
       "      <td>0.80</td>\n",
       "      <td>26.16</td>\n",
       "      <td>1108.0</td>\n",
       "      <td>7080</td>\n",
       "      <td>98</td>\n",
       "      <td>0.0</td>\n",
       "      <td>...</td>\n",
       "      <td>0</td>\n",
       "      <td>0</td>\n",
       "      <td>0</td>\n",
       "      <td>0</td>\n",
       "      <td>1</td>\n",
       "      <td>0</td>\n",
       "      <td>0</td>\n",
       "      <td>0</td>\n",
       "      <td>0</td>\n",
       "      <td>0</td>\n",
       "    </tr>\n",
       "    <tr>\n",
       "      <th>2015-01-01</th>\n",
       "      <td>Quarter1</td>\n",
       "      <td>finishing</td>\n",
       "      <td>Thursday</td>\n",
       "      <td>1</td>\n",
       "      <td>0.75</td>\n",
       "      <td>3.94</td>\n",
       "      <td>0.0</td>\n",
       "      <td>960</td>\n",
       "      <td>0</td>\n",
       "      <td>0.0</td>\n",
       "      <td>...</td>\n",
       "      <td>0</td>\n",
       "      <td>0</td>\n",
       "      <td>0</td>\n",
       "      <td>0</td>\n",
       "      <td>0</td>\n",
       "      <td>0</td>\n",
       "      <td>0</td>\n",
       "      <td>0</td>\n",
       "      <td>0</td>\n",
       "      <td>0</td>\n",
       "    </tr>\n",
       "    <tr>\n",
       "      <th>2015-01-01</th>\n",
       "      <td>Quarter1</td>\n",
       "      <td>sweing</td>\n",
       "      <td>Thursday</td>\n",
       "      <td>11</td>\n",
       "      <td>0.80</td>\n",
       "      <td>11.41</td>\n",
       "      <td>968.0</td>\n",
       "      <td>3660</td>\n",
       "      <td>50</td>\n",
       "      <td>0.0</td>\n",
       "      <td>...</td>\n",
       "      <td>0</td>\n",
       "      <td>0</td>\n",
       "      <td>0</td>\n",
       "      <td>0</td>\n",
       "      <td>0</td>\n",
       "      <td>0</td>\n",
       "      <td>0</td>\n",
       "      <td>1</td>\n",
       "      <td>0</td>\n",
       "      <td>0</td>\n",
       "    </tr>\n",
       "    <tr>\n",
       "      <th>2015-01-01</th>\n",
       "      <td>Quarter1</td>\n",
       "      <td>sweing</td>\n",
       "      <td>Thursday</td>\n",
       "      <td>12</td>\n",
       "      <td>0.80</td>\n",
       "      <td>11.41</td>\n",
       "      <td>968.0</td>\n",
       "      <td>3660</td>\n",
       "      <td>50</td>\n",
       "      <td>0.0</td>\n",
       "      <td>...</td>\n",
       "      <td>0</td>\n",
       "      <td>0</td>\n",
       "      <td>0</td>\n",
       "      <td>0</td>\n",
       "      <td>0</td>\n",
       "      <td>0</td>\n",
       "      <td>0</td>\n",
       "      <td>0</td>\n",
       "      <td>1</td>\n",
       "      <td>0</td>\n",
       "    </tr>\n",
       "    <tr>\n",
       "      <th>2015-01-01</th>\n",
       "      <td>Quarter1</td>\n",
       "      <td>sweing</td>\n",
       "      <td>Thursday</td>\n",
       "      <td>6</td>\n",
       "      <td>0.80</td>\n",
       "      <td>25.90</td>\n",
       "      <td>1170.0</td>\n",
       "      <td>1920</td>\n",
       "      <td>50</td>\n",
       "      <td>0.0</td>\n",
       "      <td>...</td>\n",
       "      <td>0</td>\n",
       "      <td>0</td>\n",
       "      <td>1</td>\n",
       "      <td>0</td>\n",
       "      <td>0</td>\n",
       "      <td>0</td>\n",
       "      <td>0</td>\n",
       "      <td>0</td>\n",
       "      <td>0</td>\n",
       "      <td>0</td>\n",
       "    </tr>\n",
       "  </tbody>\n",
       "</table>\n",
       "<p>5 rows × 40 columns</p>\n",
       "</div>"
      ],
      "text/plain": [
       "             quarter department       day  team  targeted_productivity    smv  \\\n",
       "date                                                                            \n",
       "2015-01-01  Quarter1     sweing  Thursday     8                   0.80  26.16   \n",
       "2015-01-01  Quarter1  finishing  Thursday     1                   0.75   3.94   \n",
       "2015-01-01  Quarter1     sweing  Thursday    11                   0.80  11.41   \n",
       "2015-01-01  Quarter1     sweing  Thursday    12                   0.80  11.41   \n",
       "2015-01-01  Quarter1     sweing  Thursday     6                   0.80  25.90   \n",
       "\n",
       "               wip  over_time  incentive  idle_time  ...  team_4  team_5  \\\n",
       "date                                                 ...                   \n",
       "2015-01-01  1108.0       7080         98        0.0  ...       0       0   \n",
       "2015-01-01     0.0        960          0        0.0  ...       0       0   \n",
       "2015-01-01   968.0       3660         50        0.0  ...       0       0   \n",
       "2015-01-01   968.0       3660         50        0.0  ...       0       0   \n",
       "2015-01-01  1170.0       1920         50        0.0  ...       0       0   \n",
       "\n",
       "            team_6  team_7  team_8  team_9  team_10  team_11  team_12  \\\n",
       "date                                                                    \n",
       "2015-01-01       0       0       1       0        0        0        0   \n",
       "2015-01-01       0       0       0       0        0        0        0   \n",
       "2015-01-01       0       0       0       0        0        1        0   \n",
       "2015-01-01       0       0       0       0        0        0        1   \n",
       "2015-01-01       1       0       0       0        0        0        0   \n",
       "\n",
       "            no_of_style_change_enc  \n",
       "date                                \n",
       "2015-01-01                       0  \n",
       "2015-01-01                       0  \n",
       "2015-01-01                       0  \n",
       "2015-01-01                       0  \n",
       "2015-01-01                       0  \n",
       "\n",
       "[5 rows x 40 columns]"
      ]
     },
     "execution_count": 66,
     "metadata": {},
     "output_type": "execute_result"
    }
   ],
   "source": [
    "from sklearn.preprocessing import LabelEncoder\n",
    "le = LabelEncoder()\n",
    "df[\"no_of_style_change_enc\"] = le.fit_transform(df[\"no_of_style_change\"])\n",
    "df.head()\n"
   ]
  },
  {
   "cell_type": "code",
   "execution_count": 67,
   "metadata": {
    "execution": {
     "iopub.execute_input": "2021-06-10T15:08:47.825075Z",
     "iopub.status.busy": "2021-06-10T15:08:47.824487Z",
     "iopub.status.idle": "2021-06-10T15:08:47.827238Z",
     "shell.execute_reply": "2021-06-10T15:08:47.827811Z",
     "shell.execute_reply.started": "2021-05-27T14:48:43.866855Z"
    },
    "papermill": {
     "duration": 0.155839,
     "end_time": "2021-06-10T15:08:47.827976",
     "exception": false,
     "start_time": "2021-06-10T15:08:47.672137",
     "status": "completed"
    },
    "tags": []
   },
   "outputs": [
    {
     "data": {
      "text/plain": [
       "Index(['quarter', 'department', 'day', 'team', 'targeted_productivity', 'smv',\n",
       "       'wip', 'over_time', 'incentive', 'idle_time', 'idle_men',\n",
       "       'no_of_style_change', 'no_of_workers', 'actual_productivity',\n",
       "       'quarter_Quarter1', 'quarter_Quarter2', 'quarter_Quarter3',\n",
       "       'quarter_Quarter4', 'quarter_Quarter5', 'department_finishing',\n",
       "       'department_sweing', 'day_Monday', 'day_Saturday', 'day_Sunday',\n",
       "       'day_Thursday', 'day_Tuesday', 'day_Wednesday', 'team_1', 'team_2',\n",
       "       'team_3', 'team_4', 'team_5', 'team_6', 'team_7', 'team_8', 'team_9',\n",
       "       'team_10', 'team_11', 'team_12', 'no_of_style_change_enc'],\n",
       "      dtype='object')"
      ]
     },
     "execution_count": 67,
     "metadata": {},
     "output_type": "execute_result"
    }
   ],
   "source": [
    "df.columns"
   ]
  },
  {
   "cell_type": "markdown",
   "metadata": {
    "papermill": {
     "duration": 0.146909,
     "end_time": "2021-06-10T15:08:48.121956",
     "exception": false,
     "start_time": "2021-06-10T15:08:47.975047",
     "status": "completed"
    },
    "tags": []
   },
   "source": [
    "<a id = '15n'></a>\n",
    "### Creating Target_Label for productivity"
   ]
  },
  {
   "cell_type": "code",
   "execution_count": 68,
   "metadata": {
    "execution": {
     "iopub.execute_input": "2021-06-10T15:08:48.417076Z",
     "iopub.status.busy": "2021-06-10T15:08:48.416391Z",
     "iopub.status.idle": "2021-06-10T15:08:48.424575Z",
     "shell.execute_reply": "2021-06-10T15:08:48.423914Z",
     "shell.execute_reply.started": "2021-05-27T14:48:43.876188Z"
    },
    "papermill": {
     "duration": 0.157293,
     "end_time": "2021-06-10T15:08:48.424710",
     "exception": false,
     "start_time": "2021-06-10T15:08:48.267417",
     "status": "completed"
    },
    "tags": []
   },
   "outputs": [
    {
     "data": {
      "text/plain": [
       "Index(['quarter', 'department', 'day', 'team', 'targeted_productivity', 'smv',\n",
       "       'wip', 'over_time', 'incentive', 'idle_time', 'idle_men',\n",
       "       'no_of_style_change', 'no_of_workers', 'actual_productivity',\n",
       "       'quarter_Quarter1', 'quarter_Quarter2', 'quarter_Quarter3',\n",
       "       'quarter_Quarter4', 'quarter_Quarter5', 'department_finishing',\n",
       "       'department_sweing', 'day_Monday', 'day_Saturday', 'day_Sunday',\n",
       "       'day_Thursday', 'day_Tuesday', 'day_Wednesday', 'team_1', 'team_2',\n",
       "       'team_3', 'team_4', 'team_5', 'team_6', 'team_7', 'team_8', 'team_9',\n",
       "       'team_10', 'team_11', 'team_12', 'no_of_style_change_enc', 'diff'],\n",
       "      dtype='object')"
      ]
     },
     "execution_count": 68,
     "metadata": {},
     "output_type": "execute_result"
    }
   ],
   "source": [
    "df['diff']=df.actual_productivity-df.targeted_productivity\n",
    "df.columns"
   ]
  },
  {
   "cell_type": "code",
   "execution_count": 69,
   "metadata": {
    "execution": {
     "iopub.execute_input": "2021-06-10T15:08:48.722983Z",
     "iopub.status.busy": "2021-06-10T15:08:48.722366Z",
     "iopub.status.idle": "2021-06-10T15:08:48.728319Z",
     "shell.execute_reply": "2021-06-10T15:08:48.728918Z",
     "shell.execute_reply.started": "2021-05-27T14:48:43.890947Z"
    },
    "papermill": {
     "duration": 0.15843,
     "end_time": "2021-06-10T15:08:48.729092",
     "exception": false,
     "start_time": "2021-06-10T15:08:48.570662",
     "status": "completed"
    },
    "tags": []
   },
   "outputs": [
    {
     "data": {
      "text/plain": [
       "count    1197.000000\n",
       "mean        0.005459\n",
       "std         0.160082\n",
       "min        -0.561958\n",
       "25%        -0.009556\n",
       "50%         0.000505\n",
       "75%         0.099111\n",
       "max         0.644375\n",
       "Name: diff, dtype: float64"
      ]
     },
     "execution_count": 69,
     "metadata": {},
     "output_type": "execute_result"
    }
   ],
   "source": [
    "df['diff'].describe()"
   ]
  },
  {
   "cell_type": "code",
   "execution_count": 70,
   "metadata": {
    "execution": {
     "iopub.execute_input": "2021-06-10T15:08:49.032821Z",
     "iopub.status.busy": "2021-06-10T15:08:49.032173Z",
     "iopub.status.idle": "2021-06-10T15:08:49.057137Z",
     "shell.execute_reply": "2021-06-10T15:08:49.057583Z",
     "shell.execute_reply.started": "2021-05-27T14:48:43.907363Z"
    },
    "papermill": {
     "duration": 0.182774,
     "end_time": "2021-06-10T15:08:49.057757",
     "exception": false,
     "start_time": "2021-06-10T15:08:48.874983",
     "status": "completed"
    },
    "tags": []
   },
   "outputs": [
    {
     "data": {
      "text/html": [
       "<div>\n",
       "<style scoped>\n",
       "    .dataframe tbody tr th:only-of-type {\n",
       "        vertical-align: middle;\n",
       "    }\n",
       "\n",
       "    .dataframe tbody tr th {\n",
       "        vertical-align: top;\n",
       "    }\n",
       "\n",
       "    .dataframe thead th {\n",
       "        text-align: right;\n",
       "    }\n",
       "</style>\n",
       "<table border=\"1\" class=\"dataframe\">\n",
       "  <thead>\n",
       "    <tr style=\"text-align: right;\">\n",
       "      <th></th>\n",
       "      <th>quarter</th>\n",
       "      <th>department</th>\n",
       "      <th>day</th>\n",
       "      <th>team</th>\n",
       "      <th>targeted_productivity</th>\n",
       "      <th>smv</th>\n",
       "      <th>wip</th>\n",
       "      <th>over_time</th>\n",
       "      <th>incentive</th>\n",
       "      <th>idle_time</th>\n",
       "      <th>...</th>\n",
       "      <th>team_6</th>\n",
       "      <th>team_7</th>\n",
       "      <th>team_8</th>\n",
       "      <th>team_9</th>\n",
       "      <th>team_10</th>\n",
       "      <th>team_11</th>\n",
       "      <th>team_12</th>\n",
       "      <th>no_of_style_change_enc</th>\n",
       "      <th>diff</th>\n",
       "      <th>Target_label</th>\n",
       "    </tr>\n",
       "    <tr>\n",
       "      <th>date</th>\n",
       "      <th></th>\n",
       "      <th></th>\n",
       "      <th></th>\n",
       "      <th></th>\n",
       "      <th></th>\n",
       "      <th></th>\n",
       "      <th></th>\n",
       "      <th></th>\n",
       "      <th></th>\n",
       "      <th></th>\n",
       "      <th></th>\n",
       "      <th></th>\n",
       "      <th></th>\n",
       "      <th></th>\n",
       "      <th></th>\n",
       "      <th></th>\n",
       "      <th></th>\n",
       "      <th></th>\n",
       "      <th></th>\n",
       "      <th></th>\n",
       "      <th></th>\n",
       "    </tr>\n",
       "  </thead>\n",
       "  <tbody>\n",
       "    <tr>\n",
       "      <th>2015-01-01</th>\n",
       "      <td>Quarter1</td>\n",
       "      <td>sweing</td>\n",
       "      <td>Thursday</td>\n",
       "      <td>8</td>\n",
       "      <td>0.80</td>\n",
       "      <td>26.16</td>\n",
       "      <td>1108.0</td>\n",
       "      <td>7080</td>\n",
       "      <td>98</td>\n",
       "      <td>0.0</td>\n",
       "      <td>...</td>\n",
       "      <td>0</td>\n",
       "      <td>0</td>\n",
       "      <td>1</td>\n",
       "      <td>0</td>\n",
       "      <td>0</td>\n",
       "      <td>0</td>\n",
       "      <td>0</td>\n",
       "      <td>0</td>\n",
       "      <td>0.140725</td>\n",
       "      <td>1.0</td>\n",
       "    </tr>\n",
       "    <tr>\n",
       "      <th>2015-01-01</th>\n",
       "      <td>Quarter1</td>\n",
       "      <td>finishing</td>\n",
       "      <td>Thursday</td>\n",
       "      <td>1</td>\n",
       "      <td>0.75</td>\n",
       "      <td>3.94</td>\n",
       "      <td>0.0</td>\n",
       "      <td>960</td>\n",
       "      <td>0</td>\n",
       "      <td>0.0</td>\n",
       "      <td>...</td>\n",
       "      <td>0</td>\n",
       "      <td>0</td>\n",
       "      <td>0</td>\n",
       "      <td>0</td>\n",
       "      <td>0</td>\n",
       "      <td>0</td>\n",
       "      <td>0</td>\n",
       "      <td>0</td>\n",
       "      <td>0.136500</td>\n",
       "      <td>1.0</td>\n",
       "    </tr>\n",
       "    <tr>\n",
       "      <th>2015-01-01</th>\n",
       "      <td>Quarter1</td>\n",
       "      <td>sweing</td>\n",
       "      <td>Thursday</td>\n",
       "      <td>11</td>\n",
       "      <td>0.80</td>\n",
       "      <td>11.41</td>\n",
       "      <td>968.0</td>\n",
       "      <td>3660</td>\n",
       "      <td>50</td>\n",
       "      <td>0.0</td>\n",
       "      <td>...</td>\n",
       "      <td>0</td>\n",
       "      <td>0</td>\n",
       "      <td>0</td>\n",
       "      <td>0</td>\n",
       "      <td>0</td>\n",
       "      <td>1</td>\n",
       "      <td>0</td>\n",
       "      <td>0</td>\n",
       "      <td>0.000570</td>\n",
       "      <td>1.0</td>\n",
       "    </tr>\n",
       "    <tr>\n",
       "      <th>2015-01-01</th>\n",
       "      <td>Quarter1</td>\n",
       "      <td>sweing</td>\n",
       "      <td>Thursday</td>\n",
       "      <td>12</td>\n",
       "      <td>0.80</td>\n",
       "      <td>11.41</td>\n",
       "      <td>968.0</td>\n",
       "      <td>3660</td>\n",
       "      <td>50</td>\n",
       "      <td>0.0</td>\n",
       "      <td>...</td>\n",
       "      <td>0</td>\n",
       "      <td>0</td>\n",
       "      <td>0</td>\n",
       "      <td>0</td>\n",
       "      <td>0</td>\n",
       "      <td>0</td>\n",
       "      <td>1</td>\n",
       "      <td>0</td>\n",
       "      <td>0.000570</td>\n",
       "      <td>1.0</td>\n",
       "    </tr>\n",
       "    <tr>\n",
       "      <th>2015-01-01</th>\n",
       "      <td>Quarter1</td>\n",
       "      <td>sweing</td>\n",
       "      <td>Thursday</td>\n",
       "      <td>6</td>\n",
       "      <td>0.80</td>\n",
       "      <td>25.90</td>\n",
       "      <td>1170.0</td>\n",
       "      <td>1920</td>\n",
       "      <td>50</td>\n",
       "      <td>0.0</td>\n",
       "      <td>...</td>\n",
       "      <td>1</td>\n",
       "      <td>0</td>\n",
       "      <td>0</td>\n",
       "      <td>0</td>\n",
       "      <td>0</td>\n",
       "      <td>0</td>\n",
       "      <td>0</td>\n",
       "      <td>0</td>\n",
       "      <td>0.000382</td>\n",
       "      <td>1.0</td>\n",
       "    </tr>\n",
       "  </tbody>\n",
       "</table>\n",
       "<p>5 rows × 42 columns</p>\n",
       "</div>"
      ],
      "text/plain": [
       "             quarter department       day  team  targeted_productivity    smv  \\\n",
       "date                                                                            \n",
       "2015-01-01  Quarter1     sweing  Thursday     8                   0.80  26.16   \n",
       "2015-01-01  Quarter1  finishing  Thursday     1                   0.75   3.94   \n",
       "2015-01-01  Quarter1     sweing  Thursday    11                   0.80  11.41   \n",
       "2015-01-01  Quarter1     sweing  Thursday    12                   0.80  11.41   \n",
       "2015-01-01  Quarter1     sweing  Thursday     6                   0.80  25.90   \n",
       "\n",
       "               wip  over_time  incentive  idle_time  ...  team_6  team_7  \\\n",
       "date                                                 ...                   \n",
       "2015-01-01  1108.0       7080         98        0.0  ...       0       0   \n",
       "2015-01-01     0.0        960          0        0.0  ...       0       0   \n",
       "2015-01-01   968.0       3660         50        0.0  ...       0       0   \n",
       "2015-01-01   968.0       3660         50        0.0  ...       0       0   \n",
       "2015-01-01  1170.0       1920         50        0.0  ...       1       0   \n",
       "\n",
       "            team_8  team_9  team_10  team_11  team_12  no_of_style_change_enc  \\\n",
       "date                                                                            \n",
       "2015-01-01       1       0        0        0        0                       0   \n",
       "2015-01-01       0       0        0        0        0                       0   \n",
       "2015-01-01       0       0        0        1        0                       0   \n",
       "2015-01-01       0       0        0        0        1                       0   \n",
       "2015-01-01       0       0        0        0        0                       0   \n",
       "\n",
       "                diff  Target_label  \n",
       "date                                \n",
       "2015-01-01  0.140725           1.0  \n",
       "2015-01-01  0.136500           1.0  \n",
       "2015-01-01  0.000570           1.0  \n",
       "2015-01-01  0.000570           1.0  \n",
       "2015-01-01  0.000382           1.0  \n",
       "\n",
       "[5 rows x 42 columns]"
      ]
     },
     "execution_count": 70,
     "metadata": {},
     "output_type": "execute_result"
    }
   ],
   "source": [
    "df['Target_label']=np.nan\n",
    "df.head()\n",
    "df.loc[df['diff']<0,'Target_label'] = -1\n",
    "df.loc[(df['diff']==0), 'Target_label'] = 0\n",
    "df.loc[df['diff']>0, 'Target_label'] = 1\n",
    "df.head()"
   ]
  },
  {
   "cell_type": "markdown",
   "metadata": {
    "papermill": {
     "duration": 0.147061,
     "end_time": "2021-06-10T15:08:49.351439",
     "exception": false,
     "start_time": "2021-06-10T15:08:49.204378",
     "status": "completed"
    },
    "tags": []
   },
   "source": [
    "If the difference between actual_productivity and targeted_productivity is positive it means productivity is in the range of over_performed,\n",
    "\n",
    "If the difference between actual_productivity and targeted_productivity is equal to 0 it meansproductivity is in the range of  as expected,\n",
    "\n",
    "If the difference between actual_productivity and targeted_productivity is negative it means productivity is in the range of under_performed\n"
   ]
  },
  {
   "cell_type": "code",
   "execution_count": 71,
   "metadata": {
    "execution": {
     "iopub.execute_input": "2021-06-10T15:08:49.654994Z",
     "iopub.status.busy": "2021-06-10T15:08:49.654365Z",
     "iopub.status.idle": "2021-06-10T15:08:49.683027Z",
     "shell.execute_reply": "2021-06-10T15:08:49.683534Z",
     "shell.execute_reply.started": "2021-05-27T14:48:43.945148Z"
    },
    "papermill": {
     "duration": 0.181186,
     "end_time": "2021-06-10T15:08:49.683709",
     "exception": false,
     "start_time": "2021-06-10T15:08:49.502523",
     "status": "completed"
    },
    "tags": []
   },
   "outputs": [
    {
     "data": {
      "text/html": [
       "<div>\n",
       "<style scoped>\n",
       "    .dataframe tbody tr th:only-of-type {\n",
       "        vertical-align: middle;\n",
       "    }\n",
       "\n",
       "    .dataframe tbody tr th {\n",
       "        vertical-align: top;\n",
       "    }\n",
       "\n",
       "    .dataframe thead th {\n",
       "        text-align: right;\n",
       "    }\n",
       "</style>\n",
       "<table border=\"1\" class=\"dataframe\">\n",
       "  <thead>\n",
       "    <tr style=\"text-align: right;\">\n",
       "      <th></th>\n",
       "      <th>quarter</th>\n",
       "      <th>department</th>\n",
       "      <th>day</th>\n",
       "      <th>team</th>\n",
       "      <th>targeted_productivity</th>\n",
       "      <th>smv</th>\n",
       "      <th>wip</th>\n",
       "      <th>over_time</th>\n",
       "      <th>incentive</th>\n",
       "      <th>idle_time</th>\n",
       "      <th>...</th>\n",
       "      <th>team_6</th>\n",
       "      <th>team_7</th>\n",
       "      <th>team_8</th>\n",
       "      <th>team_9</th>\n",
       "      <th>team_10</th>\n",
       "      <th>team_11</th>\n",
       "      <th>team_12</th>\n",
       "      <th>no_of_style_change_enc</th>\n",
       "      <th>diff</th>\n",
       "      <th>Target_label</th>\n",
       "    </tr>\n",
       "    <tr>\n",
       "      <th>date</th>\n",
       "      <th></th>\n",
       "      <th></th>\n",
       "      <th></th>\n",
       "      <th></th>\n",
       "      <th></th>\n",
       "      <th></th>\n",
       "      <th></th>\n",
       "      <th></th>\n",
       "      <th></th>\n",
       "      <th></th>\n",
       "      <th></th>\n",
       "      <th></th>\n",
       "      <th></th>\n",
       "      <th></th>\n",
       "      <th></th>\n",
       "      <th></th>\n",
       "      <th></th>\n",
       "      <th></th>\n",
       "      <th></th>\n",
       "      <th></th>\n",
       "      <th></th>\n",
       "    </tr>\n",
       "  </thead>\n",
       "  <tbody>\n",
       "    <tr>\n",
       "      <th>2015-01-10</th>\n",
       "      <td>Quarter2</td>\n",
       "      <td>sweing</td>\n",
       "      <td>Saturday</td>\n",
       "      <td>10</td>\n",
       "      <td>0.8</td>\n",
       "      <td>28.08</td>\n",
       "      <td>1082.0</td>\n",
       "      <td>10530</td>\n",
       "      <td>63</td>\n",
       "      <td>0.0</td>\n",
       "      <td>...</td>\n",
       "      <td>0</td>\n",
       "      <td>0</td>\n",
       "      <td>0</td>\n",
       "      <td>0</td>\n",
       "      <td>1</td>\n",
       "      <td>0</td>\n",
       "      <td>0</td>\n",
       "      <td>0</td>\n",
       "      <td>0.0</td>\n",
       "      <td>0.0</td>\n",
       "    </tr>\n",
       "    <tr>\n",
       "      <th>2015-01-11</th>\n",
       "      <td>Quarter2</td>\n",
       "      <td>sweing</td>\n",
       "      <td>Sunday</td>\n",
       "      <td>2</td>\n",
       "      <td>0.8</td>\n",
       "      <td>28.08</td>\n",
       "      <td>805.0</td>\n",
       "      <td>10530</td>\n",
       "      <td>63</td>\n",
       "      <td>0.0</td>\n",
       "      <td>...</td>\n",
       "      <td>0</td>\n",
       "      <td>0</td>\n",
       "      <td>0</td>\n",
       "      <td>0</td>\n",
       "      <td>0</td>\n",
       "      <td>0</td>\n",
       "      <td>0</td>\n",
       "      <td>0</td>\n",
       "      <td>0.0</td>\n",
       "      <td>0.0</td>\n",
       "    </tr>\n",
       "    <tr>\n",
       "      <th>2015-01-11</th>\n",
       "      <td>Quarter2</td>\n",
       "      <td>sweing</td>\n",
       "      <td>Sunday</td>\n",
       "      <td>10</td>\n",
       "      <td>0.8</td>\n",
       "      <td>28.08</td>\n",
       "      <td>762.0</td>\n",
       "      <td>10530</td>\n",
       "      <td>38</td>\n",
       "      <td>0.0</td>\n",
       "      <td>...</td>\n",
       "      <td>0</td>\n",
       "      <td>0</td>\n",
       "      <td>0</td>\n",
       "      <td>0</td>\n",
       "      <td>1</td>\n",
       "      <td>0</td>\n",
       "      <td>0</td>\n",
       "      <td>0</td>\n",
       "      <td>0.0</td>\n",
       "      <td>0.0</td>\n",
       "    </tr>\n",
       "    <tr>\n",
       "      <th>2015-01-12</th>\n",
       "      <td>Quarter2</td>\n",
       "      <td>sweing</td>\n",
       "      <td>Monday</td>\n",
       "      <td>2</td>\n",
       "      <td>0.8</td>\n",
       "      <td>28.08</td>\n",
       "      <td>737.0</td>\n",
       "      <td>10530</td>\n",
       "      <td>63</td>\n",
       "      <td>0.0</td>\n",
       "      <td>...</td>\n",
       "      <td>0</td>\n",
       "      <td>0</td>\n",
       "      <td>0</td>\n",
       "      <td>0</td>\n",
       "      <td>0</td>\n",
       "      <td>0</td>\n",
       "      <td>0</td>\n",
       "      <td>0</td>\n",
       "      <td>0.0</td>\n",
       "      <td>0.0</td>\n",
       "    </tr>\n",
       "    <tr>\n",
       "      <th>2015-01-13</th>\n",
       "      <td>Quarter2</td>\n",
       "      <td>sweing</td>\n",
       "      <td>Tuesday</td>\n",
       "      <td>2</td>\n",
       "      <td>0.8</td>\n",
       "      <td>28.08</td>\n",
       "      <td>723.0</td>\n",
       "      <td>10530</td>\n",
       "      <td>50</td>\n",
       "      <td>0.0</td>\n",
       "      <td>...</td>\n",
       "      <td>0</td>\n",
       "      <td>0</td>\n",
       "      <td>0</td>\n",
       "      <td>0</td>\n",
       "      <td>0</td>\n",
       "      <td>0</td>\n",
       "      <td>0</td>\n",
       "      <td>0</td>\n",
       "      <td>0.0</td>\n",
       "      <td>0.0</td>\n",
       "    </tr>\n",
       "    <tr>\n",
       "      <th>2015-02-19</th>\n",
       "      <td>Quarter3</td>\n",
       "      <td>sweing</td>\n",
       "      <td>Thursday</td>\n",
       "      <td>8</td>\n",
       "      <td>0.7</td>\n",
       "      <td>29.40</td>\n",
       "      <td>1116.0</td>\n",
       "      <td>6240</td>\n",
       "      <td>0</td>\n",
       "      <td>0.0</td>\n",
       "      <td>...</td>\n",
       "      <td>0</td>\n",
       "      <td>0</td>\n",
       "      <td>1</td>\n",
       "      <td>0</td>\n",
       "      <td>0</td>\n",
       "      <td>0</td>\n",
       "      <td>0</td>\n",
       "      <td>2</td>\n",
       "      <td>0.0</td>\n",
       "      <td>0.0</td>\n",
       "    </tr>\n",
       "  </tbody>\n",
       "</table>\n",
       "<p>6 rows × 42 columns</p>\n",
       "</div>"
      ],
      "text/plain": [
       "             quarter department       day  team  targeted_productivity    smv  \\\n",
       "date                                                                            \n",
       "2015-01-10  Quarter2     sweing  Saturday    10                    0.8  28.08   \n",
       "2015-01-11  Quarter2     sweing    Sunday     2                    0.8  28.08   \n",
       "2015-01-11  Quarter2     sweing    Sunday    10                    0.8  28.08   \n",
       "2015-01-12  Quarter2     sweing    Monday     2                    0.8  28.08   \n",
       "2015-01-13  Quarter2     sweing   Tuesday     2                    0.8  28.08   \n",
       "2015-02-19  Quarter3     sweing  Thursday     8                    0.7  29.40   \n",
       "\n",
       "               wip  over_time  incentive  idle_time  ...  team_6  team_7  \\\n",
       "date                                                 ...                   \n",
       "2015-01-10  1082.0      10530         63        0.0  ...       0       0   \n",
       "2015-01-11   805.0      10530         63        0.0  ...       0       0   \n",
       "2015-01-11   762.0      10530         38        0.0  ...       0       0   \n",
       "2015-01-12   737.0      10530         63        0.0  ...       0       0   \n",
       "2015-01-13   723.0      10530         50        0.0  ...       0       0   \n",
       "2015-02-19  1116.0       6240          0        0.0  ...       0       0   \n",
       "\n",
       "            team_8  team_9  team_10  team_11  team_12  no_of_style_change_enc  \\\n",
       "date                                                                            \n",
       "2015-01-10       0       0        1        0        0                       0   \n",
       "2015-01-11       0       0        0        0        0                       0   \n",
       "2015-01-11       0       0        1        0        0                       0   \n",
       "2015-01-12       0       0        0        0        0                       0   \n",
       "2015-01-13       0       0        0        0        0                       0   \n",
       "2015-02-19       1       0        0        0        0                       2   \n",
       "\n",
       "            diff  Target_label  \n",
       "date                            \n",
       "2015-01-10   0.0           0.0  \n",
       "2015-01-11   0.0           0.0  \n",
       "2015-01-11   0.0           0.0  \n",
       "2015-01-12   0.0           0.0  \n",
       "2015-01-13   0.0           0.0  \n",
       "2015-02-19   0.0           0.0  \n",
       "\n",
       "[6 rows x 42 columns]"
      ]
     },
     "execution_count": 71,
     "metadata": {},
     "output_type": "execute_result"
    }
   ],
   "source": [
    "df[df['Target_label']==0]"
   ]
  },
  {
   "cell_type": "code",
   "execution_count": 72,
   "metadata": {
    "execution": {
     "iopub.execute_input": "2021-06-10T15:08:49.981585Z",
     "iopub.status.busy": "2021-06-10T15:08:49.980990Z",
     "iopub.status.idle": "2021-06-10T15:08:50.089159Z",
     "shell.execute_reply": "2021-06-10T15:08:50.089600Z",
     "shell.execute_reply.started": "2021-05-27T14:48:43.97748Z"
    },
    "papermill": {
     "duration": 0.258068,
     "end_time": "2021-06-10T15:08:50.089813",
     "exception": false,
     "start_time": "2021-06-10T15:08:49.831745",
     "status": "completed"
    },
    "tags": []
   },
   "outputs": [
    {
     "data": {
      "image/png": "[encoded data removed]",
      "text/plain": [
       "<Figure size 432x288 with 1 Axes>"
      ]
     },
     "metadata": {
      "needs_background": "light"
     },
     "output_type": "display_data"
    }
   ],
   "source": [
    "ax = sns.countplot(x = 'Target_label', data = df, palette='Set1')\n",
    "plt.xlabel('No of Target_label')\n",
    "\n",
    "plt.show()\n"
   ]
  },
  {
   "cell_type": "markdown",
   "metadata": {
    "papermill": {
     "duration": 0.150481,
     "end_time": "2021-06-10T15:08:50.392445",
     "exception": false,
     "start_time": "2021-06-10T15:08:50.241964",
     "status": "completed"
    },
    "tags": []
   },
   "source": [
    "As it can be seen from the graph above, there is imbalance so it is needed to be handled"
   ]
  },
  {
   "cell_type": "code",
   "execution_count": 73,
   "metadata": {
    "execution": {
     "iopub.execute_input": "2021-06-10T15:08:50.699510Z",
     "iopub.status.busy": "2021-06-10T15:08:50.698888Z",
     "iopub.status.idle": "2021-06-10T15:08:50.705422Z",
     "shell.execute_reply": "2021-06-10T15:08:50.705872Z",
     "shell.execute_reply.started": "2021-05-27T14:48:44.090619Z"
    },
    "papermill": {
     "duration": 0.159814,
     "end_time": "2021-06-10T15:08:50.706041",
     "exception": false,
     "start_time": "2021-06-10T15:08:50.546227",
     "status": "completed"
    },
    "tags": []
   },
   "outputs": [
    {
     "data": {
      "text/plain": [
       " 1.0    869\n",
       "-1.0    322\n",
       " 0.0      6\n",
       "Name: Target_label, dtype: int64"
      ]
     },
     "execution_count": 73,
     "metadata": {},
     "output_type": "execute_result"
    }
   ],
   "source": [
    "df['Target_label'].value_counts()"
   ]
  },
  {
   "cell_type": "markdown",
   "metadata": {
    "papermill": {
     "duration": 0.149356,
     "end_time": "2021-06-10T15:08:51.005389",
     "exception": false,
     "start_time": "2021-06-10T15:08:50.856033",
     "status": "completed"
    },
    "tags": []
   },
   "source": [
    "From the value counts above, it can be seen that the dataset ist imbalanced due to the large number of unbalanced observations.\n",
    "In this case, a binary classification problem can be modelled that predicts whether productivity is in the range of over_performed or not.\n",
    "\n",
    "\n",
    "As part of our preprocessing,it is needed to turn the 3 class labels into 2 labels:"
   ]
  },
  {
   "cell_type": "code",
   "execution_count": 74,
   "metadata": {
    "execution": {
     "iopub.execute_input": "2021-06-10T15:08:51.334217Z",
     "iopub.status.busy": "2021-06-10T15:08:51.333530Z",
     "iopub.status.idle": "2021-06-10T15:08:51.341405Z",
     "shell.execute_reply": "2021-06-10T15:08:51.341946Z",
     "shell.execute_reply.started": "2021-05-27T14:48:44.09939Z"
    },
    "papermill": {
     "duration": 0.184782,
     "end_time": "2021-06-10T15:08:51.342121",
     "exception": false,
     "start_time": "2021-06-10T15:08:51.157339",
     "status": "completed"
    },
    "tags": []
   },
   "outputs": [],
   "source": [
    "df['Target_label'] = [-1 if x==-1 else 1 for x in df['Target_label']]"
   ]
  },
  {
   "cell_type": "code",
   "execution_count": 75,
   "metadata": {
    "execution": {
     "iopub.execute_input": "2021-06-10T15:08:51.689851Z",
     "iopub.status.busy": "2021-06-10T15:08:51.684235Z",
     "iopub.status.idle": "2021-06-10T15:08:51.693733Z",
     "shell.execute_reply": "2021-06-10T15:08:51.694261Z",
     "shell.execute_reply.started": "2021-05-27T14:48:44.114236Z"
    },
    "papermill": {
     "duration": 0.184135,
     "end_time": "2021-06-10T15:08:51.694466",
     "exception": false,
     "start_time": "2021-06-10T15:08:51.510331",
     "status": "completed"
    },
    "tags": []
   },
   "outputs": [
    {
     "data": {
      "text/plain": [
       " 1    875\n",
       "-1    322\n",
       "Name: Target_label, dtype: int64"
      ]
     },
     "execution_count": 75,
     "metadata": {},
     "output_type": "execute_result"
    }
   ],
   "source": [
    "df['Target_label'].value_counts()"
   ]
  },
  {
   "cell_type": "code",
   "execution_count": 76,
   "metadata": {
    "execution": {
     "iopub.execute_input": "2021-06-10T15:08:52.019286Z",
     "iopub.status.busy": "2021-06-10T15:08:52.017189Z",
     "iopub.status.idle": "2021-06-10T15:08:52.117164Z",
     "shell.execute_reply": "2021-06-10T15:08:52.116597Z",
     "shell.execute_reply.started": "2021-05-27T14:48:44.130438Z"
    },
    "papermill": {
     "duration": 0.263746,
     "end_time": "2021-06-10T15:08:52.117308",
     "exception": false,
     "start_time": "2021-06-10T15:08:51.853562",
     "status": "completed"
    },
    "tags": []
   },
   "outputs": [
    {
     "data": {
      "image/png": "[encoded data removed]",
      "text/plain": [
       "<Figure size 432x288 with 1 Axes>"
      ]
     },
     "metadata": {
      "needs_background": "light"
     },
     "output_type": "display_data"
    }
   ],
   "source": [
    "ax = sns.countplot(x = 'Target_label', data = df, palette='Set1')\n",
    "plt.xlabel('No of Target_label')\n",
    "\n",
    "plt.show()"
   ]
  },
  {
   "cell_type": "markdown",
   "metadata": {
    "papermill": {
     "duration": 0.152049,
     "end_time": "2021-06-10T15:08:52.421778",
     "exception": false,
     "start_time": "2021-06-10T15:08:52.269729",
     "status": "completed"
    },
    "tags": []
   },
   "source": [
    "<a id = '16n'></a>\n",
    "### Balancing Data"
   ]
  },
  {
   "cell_type": "code",
   "execution_count": 77,
   "metadata": {
    "execution": {
     "iopub.execute_input": "2021-06-10T15:08:52.731026Z",
     "iopub.status.busy": "2021-06-10T15:08:52.730321Z",
     "iopub.status.idle": "2021-06-10T15:09:00.948243Z",
     "shell.execute_reply": "2021-06-10T15:09:00.947684Z",
     "shell.execute_reply.started": "2021-05-27T14:48:44.240524Z"
    },
    "papermill": {
     "duration": 8.374856,
     "end_time": "2021-06-10T15:09:00.948391",
     "exception": false,
     "start_time": "2021-06-10T15:08:52.573535",
     "status": "completed"
    },
    "tags": []
   },
   "outputs": [
    {
     "name": "stdout",
     "output_type": "stream",
     "text": [
      "Requirement already satisfied: imbalanced-learn in /opt/conda/lib/python3.7/site-packages (0.8.0)\r\n",
      "Requirement already satisfied: scikit-learn>=0.24 in /opt/conda/lib/python3.7/site-packages (from imbalanced-learn) (0.24.1)\r\n",
      "Requirement already satisfied: joblib>=0.11 in /opt/conda/lib/python3.7/site-packages (from imbalanced-learn) (1.0.1)\r\n",
      "Requirement already satisfied: numpy>=1.13.3 in /opt/conda/lib/python3.7/site-packages (from imbalanced-learn) (1.19.5)\r\n",
      "Requirement already satisfied: scipy>=0.19.1 in /opt/conda/lib/python3.7/site-packages (from imbalanced-learn) (1.5.4)\r\n",
      "Requirement already satisfied: threadpoolctl>=2.0.0 in /opt/conda/lib/python3.7/site-packages (from scikit-learn>=0.24->imbalanced-learn) (2.1.0)\r\n"
     ]
    }
   ],
   "source": [
    "!pip install imbalanced-learn"
   ]
  },
  {
   "cell_type": "code",
   "execution_count": 78,
   "metadata": {
    "execution": {
     "iopub.execute_input": "2021-06-10T15:09:01.255857Z",
     "iopub.status.busy": "2021-06-10T15:09:01.255177Z",
     "iopub.status.idle": "2021-06-10T15:09:01.707938Z",
     "shell.execute_reply": "2021-06-10T15:09:01.707356Z",
     "shell.execute_reply.started": "2021-05-27T14:48:52.254078Z"
    },
    "papermill": {
     "duration": 0.608182,
     "end_time": "2021-06-10T15:09:01.708077",
     "exception": false,
     "start_time": "2021-06-10T15:09:01.099895",
     "status": "completed"
    },
    "tags": []
   },
   "outputs": [
    {
     "name": "stdout",
     "output_type": "stream",
     "text": [
      "0.8.0\n"
     ]
    }
   ],
   "source": [
    "# check version number\n",
    "import imblearn\n",
    "print(imblearn.__version__)"
   ]
  },
  {
   "cell_type": "code",
   "execution_count": 79,
   "metadata": {
    "execution": {
     "iopub.execute_input": "2021-06-10T15:09:02.017322Z",
     "iopub.status.busy": "2021-06-10T15:09:02.016052Z",
     "iopub.status.idle": "2021-06-10T15:09:02.019773Z",
     "shell.execute_reply": "2021-06-10T15:09:02.020261Z",
     "shell.execute_reply.started": "2021-05-27T14:48:52.658979Z"
    },
    "papermill": {
     "duration": 0.160657,
     "end_time": "2021-06-10T15:09:02.020421",
     "exception": false,
     "start_time": "2021-06-10T15:09:01.859764",
     "status": "completed"
    },
    "tags": []
   },
   "outputs": [],
   "source": [
    "df1=df.drop(['quarter', 'department', 'day', 'team'],axis=1)"
   ]
  },
  {
   "cell_type": "code",
   "execution_count": 80,
   "metadata": {
    "execution": {
     "iopub.execute_input": "2021-06-10T15:09:02.322860Z",
     "iopub.status.busy": "2021-06-10T15:09:02.322038Z",
     "iopub.status.idle": "2021-06-10T15:09:03.428287Z",
     "shell.execute_reply": "2021-06-10T15:09:03.428741Z",
     "shell.execute_reply.started": "2021-05-27T14:48:52.666819Z"
    },
    "papermill": {
     "duration": 1.258016,
     "end_time": "2021-06-10T15:09:03.428932",
     "exception": false,
     "start_time": "2021-06-10T15:09:02.170916",
     "status": "completed"
    },
    "tags": []
   },
   "outputs": [
    {
     "data": {
      "image/png": "[encoded data removed]",
      "text/plain": [
       "<Figure size 864x576 with 1 Axes>"
      ]
     },
     "metadata": {
      "needs_background": "light"
     },
     "output_type": "display_data"
    }
   ],
   "source": [
    "from imblearn.over_sampling import SMOTE\n",
    "X = df1.loc[:, df1.columns != 'Target_label']\n",
    "y = df1.Target_label\n",
    "smt = SMOTE()\n",
    "X_smote, y_smote = smt.fit_resample(X, y)\n",
    "plt.figure(figsize=(12, 8))\n",
    "plt.title('Repartition after SMOTE')\n",
    "\n",
    "#plt.scatter(X_smote[y_smote==1][:, 0], X_smote[y_smote==1][:, 1], label='class 1')\n",
    "#plt.scatter(X_smote[y_smote==0][:, 0], X_smote[y_smote==0][:, 1], label='class 0')\n",
    "plt.scatter(X_smote[y_smote==1], X_smote[y_smote==1], label='class 1')\n",
    "plt.scatter(X_smote[y_smote==-1], X_smote[y_smote==-1], label='class -1')\n",
    "plt.legend()\n",
    "plt.grid(False)\n",
    "plt.show()\n",
    "\n"
   ]
  },
  {
   "cell_type": "code",
   "execution_count": 81,
   "metadata": {
    "execution": {
     "iopub.execute_input": "2021-06-10T15:09:03.735167Z",
     "iopub.status.busy": "2021-06-10T15:09:03.734579Z",
     "iopub.status.idle": "2021-06-10T15:09:03.740276Z",
     "shell.execute_reply": "2021-06-10T15:09:03.739797Z",
     "shell.execute_reply.started": "2021-05-27T14:48:53.833627Z"
    },
    "papermill": {
     "duration": 0.16019,
     "end_time": "2021-06-10T15:09:03.740406",
     "exception": false,
     "start_time": "2021-06-10T15:09:03.580216",
     "status": "completed"
    },
    "tags": []
   },
   "outputs": [
    {
     "data": {
      "text/plain": [
       "((1750, 37), (1750,))"
      ]
     },
     "execution_count": 81,
     "metadata": {},
     "output_type": "execute_result"
    }
   ],
   "source": [
    "X_smote.shape, y_smote.shape"
   ]
  },
  {
   "cell_type": "code",
   "execution_count": 82,
   "metadata": {
    "execution": {
     "iopub.execute_input": "2021-06-10T15:09:04.089557Z",
     "iopub.status.busy": "2021-06-10T15:09:04.088958Z",
     "iopub.status.idle": "2021-06-10T15:09:04.092188Z",
     "shell.execute_reply": "2021-06-10T15:09:04.091627Z",
     "shell.execute_reply.started": "2021-05-27T14:48:53.841687Z"
    },
    "papermill": {
     "duration": 0.201862,
     "end_time": "2021-06-10T15:09:04.092319",
     "exception": false,
     "start_time": "2021-06-10T15:09:03.890457",
     "status": "completed"
    },
    "tags": []
   },
   "outputs": [
    {
     "data": {
      "text/plain": [
       "(1750, 38)"
      ]
     },
     "execution_count": 82,
     "metadata": {},
     "output_type": "execute_result"
    }
   ],
   "source": [
    "df = pd.concat([pd.DataFrame(X_smote), pd.DataFrame(y_smote)], axis=1)\n",
    "df.shape"
   ]
  },
  {
   "cell_type": "code",
   "execution_count": 83,
   "metadata": {
    "execution": {
     "iopub.execute_input": "2021-06-10T15:09:04.401230Z",
     "iopub.status.busy": "2021-06-10T15:09:04.400579Z",
     "iopub.status.idle": "2021-06-10T15:09:04.503820Z",
     "shell.execute_reply": "2021-06-10T15:09:04.503248Z",
     "shell.execute_reply.started": "2021-05-27T14:48:53.856768Z"
    },
    "papermill": {
     "duration": 0.260169,
     "end_time": "2021-06-10T15:09:04.503974",
     "exception": false,
     "start_time": "2021-06-10T15:09:04.243805",
     "status": "completed"
    },
    "tags": []
   },
   "outputs": [
    {
     "data": {
      "image/png": "[encoded data removed]",
      "text/plain": [
       "<Figure size 432x288 with 1 Axes>"
      ]
     },
     "metadata": {
      "needs_background": "light"
     },
     "output_type": "display_data"
    }
   ],
   "source": [
    "ax = sns.countplot(x = 'Target_label', data = df, palette='Set1')\n",
    "plt.xlabel('No of Target_label')\n",
    "\n",
    "plt.show()"
   ]
  },
  {
   "cell_type": "markdown",
   "metadata": {
    "papermill": {
     "duration": 0.153552,
     "end_time": "2021-06-10T15:09:04.812634",
     "exception": false,
     "start_time": "2021-06-10T15:09:04.659082",
     "status": "completed"
    },
    "tags": []
   },
   "source": [
    "<a id = \"split\"></a>\n",
    "### Spliting the Dataset\n",
    "**Training and Testing Dataset Spliting using the `train_test_split`**\n",
    "  \n",
    "  * Immporting the library from the sklearn.model_selection\n",
    "  * Split the dataset into 75:25 ratio\n",
    "  * x_train and y_train are the trainning datasets\n",
    "  * x_test and y_test are the testing datasets\n",
    "  * After the spliting of the datasets the model is ready to be prepared!"
   ]
  },
  {
   "cell_type": "code",
   "execution_count": 84,
   "metadata": {
    "execution": {
     "iopub.execute_input": "2021-06-10T15:09:05.133540Z",
     "iopub.status.busy": "2021-06-10T15:09:05.132902Z",
     "iopub.status.idle": "2021-06-10T15:09:05.139191Z",
     "shell.execute_reply": "2021-06-10T15:09:05.139656Z",
     "shell.execute_reply.started": "2021-05-27T14:48:53.962702Z"
    },
    "papermill": {
     "duration": 0.170408,
     "end_time": "2021-06-10T15:09:05.139868",
     "exception": false,
     "start_time": "2021-06-10T15:09:04.969460",
     "status": "completed"
    },
    "tags": []
   },
   "outputs": [],
   "source": [
    "from sklearn.model_selection import train_test_split\n",
    "\n",
    "columns = ['smv',\n",
    "       'wip', 'over_time', 'incentive', 'idle_time', 'idle_men',\n",
    "       'no_of_workers', \n",
    "       'quarter_Quarter1', 'quarter_Quarter2', 'quarter_Quarter3',\n",
    "       'quarter_Quarter4', 'quarter_Quarter5', 'department_finishing',\n",
    "       'department_sweing', 'day_Monday', 'day_Saturday', 'day_Sunday',\n",
    "       'day_Thursday', 'day_Tuesday', 'day_Wednesday', 'team_1', 'team_2',\n",
    "       'team_3', 'team_4', 'team_5', 'team_6', 'team_7', 'team_8', 'team_9',\n",
    "       'team_10', 'team_11', 'team_12', 'no_of_style_change_enc']\n",
    "\n",
    "X = df[columns]\n",
    "y = df['Target_label']\n",
    "\n",
    "X_train, X_test, y_train, y_test = train_test_split(\n",
    "    X, y, test_size=0.2,random_state=0)"
   ]
  },
  {
   "cell_type": "code",
   "execution_count": 85,
   "metadata": {
    "execution": {
     "iopub.execute_input": "2021-06-10T15:09:05.448581Z",
     "iopub.status.busy": "2021-06-10T15:09:05.447690Z",
     "iopub.status.idle": "2021-06-10T15:09:05.451918Z",
     "shell.execute_reply": "2021-06-10T15:09:05.451424Z",
     "shell.execute_reply.started": "2021-05-27T14:48:53.97536Z"
    },
    "papermill": {
     "duration": 0.160859,
     "end_time": "2021-06-10T15:09:05.452046",
     "exception": false,
     "start_time": "2021-06-10T15:09:05.291187",
     "status": "completed"
    },
    "tags": []
   },
   "outputs": [
    {
     "data": {
      "text/plain": [
       "(1400, 33)"
      ]
     },
     "execution_count": 85,
     "metadata": {},
     "output_type": "execute_result"
    }
   ],
   "source": [
    "X_train.shape"
   ]
  },
  {
   "cell_type": "code",
   "execution_count": 86,
   "metadata": {
    "execution": {
     "iopub.execute_input": "2021-06-10T15:09:05.766646Z",
     "iopub.status.busy": "2021-06-10T15:09:05.765797Z",
     "iopub.status.idle": "2021-06-10T15:09:05.770229Z",
     "shell.execute_reply": "2021-06-10T15:09:05.769603Z",
     "shell.execute_reply.started": "2021-05-27T14:48:53.986577Z"
    },
    "papermill": {
     "duration": 0.163506,
     "end_time": "2021-06-10T15:09:05.770364",
     "exception": false,
     "start_time": "2021-06-10T15:09:05.606858",
     "status": "completed"
    },
    "tags": []
   },
   "outputs": [
    {
     "data": {
      "text/plain": [
       "(1400,)"
      ]
     },
     "execution_count": 86,
     "metadata": {},
     "output_type": "execute_result"
    }
   ],
   "source": [
    "y_train.shape"
   ]
  },
  {
   "cell_type": "code",
   "execution_count": 87,
   "metadata": {
    "execution": {
     "iopub.execute_input": "2021-06-10T15:09:06.085379Z",
     "iopub.status.busy": "2021-06-10T15:09:06.084411Z",
     "iopub.status.idle": "2021-06-10T15:09:06.089389Z",
     "shell.execute_reply": "2021-06-10T15:09:06.089883Z",
     "shell.execute_reply.started": "2021-05-27T14:48:53.998544Z"
    },
    "papermill": {
     "duration": 0.163955,
     "end_time": "2021-06-10T15:09:06.090044",
     "exception": false,
     "start_time": "2021-06-10T15:09:05.926089",
     "status": "completed"
    },
    "tags": []
   },
   "outputs": [
    {
     "data": {
      "text/plain": [
       "(350, 33)"
      ]
     },
     "execution_count": 87,
     "metadata": {},
     "output_type": "execute_result"
    }
   ],
   "source": [
    "X_test.shape"
   ]
  },
  {
   "cell_type": "code",
   "execution_count": 88,
   "metadata": {
    "execution": {
     "iopub.execute_input": "2021-06-10T15:09:06.408895Z",
     "iopub.status.busy": "2021-06-10T15:09:06.408063Z",
     "iopub.status.idle": "2021-06-10T15:09:06.411726Z",
     "shell.execute_reply": "2021-06-10T15:09:06.412225Z",
     "shell.execute_reply.started": "2021-05-27T14:48:54.011212Z"
    },
    "papermill": {
     "duration": 0.166604,
     "end_time": "2021-06-10T15:09:06.412383",
     "exception": false,
     "start_time": "2021-06-10T15:09:06.245779",
     "status": "completed"
    },
    "tags": []
   },
   "outputs": [
    {
     "data": {
      "text/plain": [
       "(350,)"
      ]
     },
     "execution_count": 88,
     "metadata": {},
     "output_type": "execute_result"
    }
   ],
   "source": [
    "y_test.shape"
   ]
  },
  {
   "cell_type": "markdown",
   "metadata": {
    "papermill": {
     "duration": 0.156956,
     "end_time": "2021-06-10T15:09:06.745840",
     "exception": false,
     "start_time": "2021-06-10T15:09:06.588884",
     "status": "completed"
    },
    "tags": []
   },
   "source": [
    "**Scaling**"
   ]
  },
  {
   "cell_type": "code",
   "execution_count": 89,
   "metadata": {
    "execution": {
     "iopub.execute_input": "2021-06-10T15:09:07.060258Z",
     "iopub.status.busy": "2021-06-10T15:09:07.059302Z",
     "iopub.status.idle": "2021-06-10T15:09:07.070871Z",
     "shell.execute_reply": "2021-06-10T15:09:07.071419Z",
     "shell.execute_reply.started": "2021-05-27T14:48:54.02435Z"
    },
    "papermill": {
     "duration": 0.171031,
     "end_time": "2021-06-10T15:09:07.071587",
     "exception": false,
     "start_time": "2021-06-10T15:09:06.900556",
     "status": "completed"
    },
    "tags": []
   },
   "outputs": [],
   "source": [
    "from sklearn.preprocessing import Normalizer\n",
    "scaler = Normalizer()\n",
    "X_train = scaler.fit_transform(X_train)\n",
    "X_test = scaler.transform(X_test)"
   ]
  },
  {
   "cell_type": "markdown",
   "metadata": {},
   "source": [
    "*********"
   ]
  },
  {
   "cell_type": "markdown",
   "metadata": {
    "papermill": {
     "duration": 0.153516,
     "end_time": "2021-06-10T15:09:07.381286",
     "exception": false,
     "start_time": "2021-06-10T15:09:07.227770",
     "status": "completed"
    },
    "tags": []
   },
   "source": [
    "<a id=\"prediction-model\"></a>\n",
    "## Part B :: Prediction Model Creation\n",
    "\n",
    "In short, predictive modeling is a statistical technique using machine learning and data mining to predict and forecast likely future outcomes with the aid of historical and existing data. It works by analyzing current and historical data and projecting what it learns on a model generated to forecast likely outcomes."
   ]
  },
  {
   "cell_type": "markdown",
   "metadata": {
    "papermill": {
     "duration": 0.152387,
     "end_time": "2021-06-10T15:09:07.689283",
     "exception": false,
     "start_time": "2021-06-10T15:09:07.536896",
     "status": "completed"
    },
    "tags": []
   },
   "source": [
    "We are using six different classification algorithms -\n",
    "* **K-Nearest Neighbours Algorithm** : K-Nearest Neighbour is one of the simplest Machine Learning algorithms based on Supervised Learning technique. K-NN algorithm assumes the similarity between the new case/data and available cases and put the new case into the category that is most similar to the available categories. K-NN algorithm stores all the available data and classifies a new data point based on the similarity. This means when new data appears then it can be easily classified into a well suite category by using K- NN algorithm.\n",
    "\n",
    "\n",
    "* **Support Vector Machine Algorithm** : Support Vector Machine or SVM is one of the most popular Supervised Learning algorithms, which is used for Classification as well as Regression problems. However, primarily, it is used for Classification problems in Machine Learning. The goal of the SVM algorithm is to create the best line or decision boundary that can segregate n-dimensional space into classes so that we can easily put the new data point in the correct category in the future. This best decision boundary is called a hyperplane.\n",
    "\n",
    "\n",
    "* **Random Forest Classifier** : Random Forest is a popular machine learning algorithm that belongs to the supervised learning technique. It can be used for both Classification and Regression problems in ML. It is based on the concept of ensemble learning, which is a process of combining multiple classifiers to solve a complex problem and to improve the performance of the model.\n",
    "\n",
    "\n",
    "* **Logistic Regression** : Logistic regression is a statistical model that in its basic form uses a logistic function to model a binary dependent variable, although many more complex extensions exist. In regression analysis, logistic regression (or logit regression) is estimating the parameters of a logistic model (a form of binary regression).\n",
    "\n",
    "\n",
    "* **Naive Bayes Classifcation Algorithm** :  Naive Bayes classifiers are a family of simple \"probabilistic classifiers\" based on applying Bayes' theorem with strong independence assumptions between the features. They are among the simplest Bayesian network models, but coupled with kernel density estimation, they can achieve higher accuracy levels.\n",
    "\n",
    "\n",
    "* **Decision Tree Classifier** : Decision Tree is a Supervised learning technique that can be used for both classification and Regression problems, but mostly it is preferred for solving Classification problems. It is a tree-structured classifier, where internal nodes represent the features of a dataset, branches represent the decision rules and each leaf node represents the outcome.\n",
    "\n",
    "* **Linear Discriminant Analysis (LDA)** : Linear Discriminant Analysis (LDA) is a dimensionality reduction technique. As the name implies dimensionality reduction techniques reduce the number of dimensions (i.e. variables) in a dataset while retaining as much information as possible.\n",
    "\n",
    "Let's quickly get into the algorithms!"
   ]
  },
  {
   "cell_type": "code",
   "execution_count": 90,
   "metadata": {
    "execution": {
     "iopub.execute_input": "2021-06-10T15:09:07.999559Z",
     "iopub.status.busy": "2021-06-10T15:09:07.998533Z",
     "iopub.status.idle": "2021-06-10T15:09:08.019080Z",
     "shell.execute_reply": "2021-06-10T15:09:08.018472Z",
     "shell.execute_reply.started": "2021-05-27T14:48:54.0461Z"
    },
    "papermill": {
     "duration": 0.177257,
     "end_time": "2021-06-10T15:09:08.019228",
     "exception": false,
     "start_time": "2021-06-10T15:09:07.841971",
     "status": "completed"
    },
    "tags": []
   },
   "outputs": [],
   "source": [
    "from sklearn.linear_model import LogisticRegression\n",
    "from sklearn.tree import DecisionTreeClassifier\n",
    "from sklearn.neighbors import KNeighborsClassifier\n",
    "from sklearn.ensemble import RandomForestClassifier\n",
    "from sklearn.svm import SVC\n",
    "from sklearn.discriminant_analysis import LinearDiscriminantAnalysis\n",
    "from sklearn.naive_bayes import GaussianNB\n",
    "\n",
    "from sklearn.metrics import precision_score,recall_score,accuracy_score"
   ]
  },
  {
   "cell_type": "markdown",
   "metadata": {
    "papermill": {
     "duration": 0.152012,
     "end_time": "2021-06-10T15:09:08.329327",
     "exception": false,
     "start_time": "2021-06-10T15:09:08.177315",
     "status": "completed"
    },
    "tags": []
   },
   "source": [
    "<a id = 'b1'></a>\n",
    "### Machine Learning Classifier Training and Validating"
   ]
  },
  {
   "cell_type": "code",
   "execution_count": 91,
   "metadata": {
    "execution": {
     "iopub.execute_input": "2021-06-10T15:09:08.651107Z",
     "iopub.status.busy": "2021-06-10T15:09:08.650208Z",
     "iopub.status.idle": "2021-06-10T15:09:08.653053Z",
     "shell.execute_reply": "2021-06-10T15:09:08.652517Z",
     "shell.execute_reply.started": "2021-05-27T14:48:54.070936Z"
    },
    "papermill": {
     "duration": 0.168637,
     "end_time": "2021-06-10T15:09:08.653203",
     "exception": false,
     "start_time": "2021-06-10T15:09:08.484566",
     "status": "completed"
    },
    "tags": []
   },
   "outputs": [],
   "source": [
    "\n",
    "df_perf_metrics = pd.DataFrame(columns=[\n",
    "    'Model', 'Accuracy_Training_Set', 'Accuracy_Test_Set', 'Precision',\n",
    "    'Recall', 'f1_score'\n",
    "])\n",
    "models_trained_list = []\n",
    "\n",
    "\n",
    "def get_perf_metrics(model, i):\n",
    "    # model name\n",
    "    model_name = type(model).__name__\n",
    "    print(\"Training {} model...\".format(model_name))\n",
    "    # Fitting of model\n",
    "    model.fit(X_train, y_train)\n",
    "    print(\"Completed {} model training.\".format(model_name))\n",
    "    # Predictions\n",
    "    y_pred = model.predict(X_test)\n",
    "    # Add to ith row of dataframe - metrics\n",
    "\n",
    "    df_perf_metrics.loc[i] = [\n",
    "        model_name,\n",
    "        model.score(X_train, y_train),\n",
    "        model.score(X_test, y_test),\n",
    "        precision_score(y_test, y_pred),\n",
    "        recall_score(y_test, y_pred),\n",
    "        f1_score(y_test, y_pred),\n",
    "    ]\n",
    "   \n",
    "    print(\"Completed {} model's performance assessment.\".format(model_name))"
   ]
  },
  {
   "cell_type": "markdown",
   "metadata": {},
   "source": [
    "**List of the models that are going to be trained using the dataset**"
   ]
  },
  {
   "cell_type": "code",
   "execution_count": 92,
   "metadata": {
    "execution": {
     "iopub.execute_input": "2021-06-10T15:09:08.967337Z",
     "iopub.status.busy": "2021-06-10T15:09:08.966365Z",
     "iopub.status.idle": "2021-06-10T15:09:08.968975Z",
     "shell.execute_reply": "2021-06-10T15:09:08.969419Z",
     "shell.execute_reply.started": "2021-05-27T14:48:54.084629Z"
    },
    "papermill": {
     "duration": 0.161611,
     "end_time": "2021-06-10T15:09:08.969585",
     "exception": false,
     "start_time": "2021-06-10T15:09:08.807974",
     "status": "completed"
    },
    "tags": []
   },
   "outputs": [],
   "source": [
    "models_list = [LogisticRegression(),\n",
    "               DecisionTreeClassifier(),\n",
    "               RandomForestClassifier(),\n",
    "               SVC(),\n",
    "               KNeighborsClassifier(),\n",
    "               GaussianNB(),LinearDiscriminantAnalysis()\n",
    "               ]"
   ]
  },
  {
   "cell_type": "markdown",
   "metadata": {},
   "source": [
    "**Fitting the model and the accuracy metrices**"
   ]
  },
  {
   "cell_type": "code",
   "execution_count": 93,
   "metadata": {
    "execution": {
     "iopub.execute_input": "2021-06-10T15:09:09.283680Z",
     "iopub.status.busy": "2021-06-10T15:09:09.282708Z",
     "iopub.status.idle": "2021-06-10T15:09:10.394381Z",
     "shell.execute_reply": "2021-06-10T15:09:10.395357Z",
     "shell.execute_reply.started": "2021-05-27T14:48:54.096912Z"
    },
    "papermill": {
     "duration": 1.27029,
     "end_time": "2021-06-10T15:09:10.395618",
     "exception": false,
     "start_time": "2021-06-10T15:09:09.125328",
     "status": "completed"
    },
    "tags": []
   },
   "outputs": [
    {
     "name": "stdout",
     "output_type": "stream",
     "text": [
      "Training LogisticRegression model...\n",
      "Completed LogisticRegression model training.\n",
      "Completed LogisticRegression model's performance assessment.\n",
      "Training DecisionTreeClassifier model...\n",
      "Completed DecisionTreeClassifier model training.\n",
      "Completed DecisionTreeClassifier model's performance assessment.\n",
      "Training RandomForestClassifier model...\n",
      "Completed RandomForestClassifier model training.\n",
      "Completed RandomForestClassifier model's performance assessment.\n",
      "Training SVC model...\n",
      "Completed SVC model training.\n",
      "Completed SVC model's performance assessment.\n",
      "Training KNeighborsClassifier model...\n",
      "Completed KNeighborsClassifier model training.\n",
      "Completed KNeighborsClassifier model's performance assessment.\n",
      "Training GaussianNB model...\n",
      "Completed GaussianNB model training.\n",
      "Completed GaussianNB model's performance assessment.\n",
      "Training LinearDiscriminantAnalysis model...\n",
      "Completed LinearDiscriminantAnalysis model training.\n",
      "Completed LinearDiscriminantAnalysis model's performance assessment.\n"
     ]
    }
   ],
   "source": [
    "from sklearn.metrics import r2_score,f1_score\n",
    "for n, model in enumerate(models_list):\n",
    "    get_perf_metrics(model, n)"
   ]
  },
  {
   "cell_type": "markdown",
   "metadata": {},
   "source": [
    "**Accuracy scores of the models**"
   ]
  },
  {
   "cell_type": "code",
   "execution_count": 94,
   "metadata": {
    "execution": {
     "iopub.execute_input": "2021-06-10T15:09:10.787198Z",
     "iopub.status.busy": "2021-06-10T15:09:10.786236Z",
     "iopub.status.idle": "2021-06-10T15:09:10.790833Z",
     "shell.execute_reply": "2021-06-10T15:09:10.790269Z",
     "shell.execute_reply.started": "2021-05-27T14:48:55.19517Z"
    },
    "papermill": {
     "duration": 0.17429,
     "end_time": "2021-06-10T15:09:10.790982",
     "exception": false,
     "start_time": "2021-06-10T15:09:10.616692",
     "status": "completed"
    },
    "tags": []
   },
   "outputs": [
    {
     "data": {
      "text/html": [
       "<div>\n",
       "<style scoped>\n",
       "    .dataframe tbody tr th:only-of-type {\n",
       "        vertical-align: middle;\n",
       "    }\n",
       "\n",
       "    .dataframe tbody tr th {\n",
       "        vertical-align: top;\n",
       "    }\n",
       "\n",
       "    .dataframe thead th {\n",
       "        text-align: right;\n",
       "    }\n",
       "</style>\n",
       "<table border=\"1\" class=\"dataframe\">\n",
       "  <thead>\n",
       "    <tr style=\"text-align: right;\">\n",
       "      <th></th>\n",
       "      <th>Model</th>\n",
       "      <th>Accuracy_Training_Set</th>\n",
       "      <th>Accuracy_Test_Set</th>\n",
       "      <th>Precision</th>\n",
       "      <th>Recall</th>\n",
       "      <th>f1_score</th>\n",
       "    </tr>\n",
       "  </thead>\n",
       "  <tbody>\n",
       "    <tr>\n",
       "      <th>0</th>\n",
       "      <td>LogisticRegression</td>\n",
       "      <td>0.652143</td>\n",
       "      <td>0.685714</td>\n",
       "      <td>0.737931</td>\n",
       "      <td>0.597765</td>\n",
       "      <td>0.660494</td>\n",
       "    </tr>\n",
       "    <tr>\n",
       "      <th>1</th>\n",
       "      <td>DecisionTreeClassifier</td>\n",
       "      <td>0.998571</td>\n",
       "      <td>0.805714</td>\n",
       "      <td>0.849057</td>\n",
       "      <td>0.754190</td>\n",
       "      <td>0.798817</td>\n",
       "    </tr>\n",
       "    <tr>\n",
       "      <th>2</th>\n",
       "      <td>RandomForestClassifier</td>\n",
       "      <td>0.998571</td>\n",
       "      <td>0.845714</td>\n",
       "      <td>0.857143</td>\n",
       "      <td>0.837989</td>\n",
       "      <td>0.847458</td>\n",
       "    </tr>\n",
       "    <tr>\n",
       "      <th>3</th>\n",
       "      <td>SVC</td>\n",
       "      <td>0.649286</td>\n",
       "      <td>0.680000</td>\n",
       "      <td>0.737589</td>\n",
       "      <td>0.581006</td>\n",
       "      <td>0.650000</td>\n",
       "    </tr>\n",
       "    <tr>\n",
       "      <th>4</th>\n",
       "      <td>KNeighborsClassifier</td>\n",
       "      <td>0.852143</td>\n",
       "      <td>0.797143</td>\n",
       "      <td>0.846154</td>\n",
       "      <td>0.737430</td>\n",
       "      <td>0.788060</td>\n",
       "    </tr>\n",
       "    <tr>\n",
       "      <th>5</th>\n",
       "      <td>GaussianNB</td>\n",
       "      <td>0.635714</td>\n",
       "      <td>0.620000</td>\n",
       "      <td>0.712963</td>\n",
       "      <td>0.430168</td>\n",
       "      <td>0.536585</td>\n",
       "    </tr>\n",
       "    <tr>\n",
       "      <th>6</th>\n",
       "      <td>LinearDiscriminantAnalysis</td>\n",
       "      <td>0.791429</td>\n",
       "      <td>0.820000</td>\n",
       "      <td>0.781553</td>\n",
       "      <td>0.899441</td>\n",
       "      <td>0.836364</td>\n",
       "    </tr>\n",
       "  </tbody>\n",
       "</table>\n",
       "</div>"
      ],
      "text/plain": [
       "                        Model  Accuracy_Training_Set  Accuracy_Test_Set  \\\n",
       "0          LogisticRegression               0.652143           0.685714   \n",
       "1      DecisionTreeClassifier               0.998571           0.805714   \n",
       "2      RandomForestClassifier               0.998571           0.845714   \n",
       "3                         SVC               0.649286           0.680000   \n",
       "4        KNeighborsClassifier               0.852143           0.797143   \n",
       "5                  GaussianNB               0.635714           0.620000   \n",
       "6  LinearDiscriminantAnalysis               0.791429           0.820000   \n",
       "\n",
       "   Precision    Recall  f1_score  \n",
       "0   0.737931  0.597765  0.660494  \n",
       "1   0.849057  0.754190  0.798817  \n",
       "2   0.857143  0.837989  0.847458  \n",
       "3   0.737589  0.581006  0.650000  \n",
       "4   0.846154  0.737430  0.788060  \n",
       "5   0.712963  0.430168  0.536585  \n",
       "6   0.781553  0.899441  0.836364  "
      ]
     },
     "execution_count": 94,
     "metadata": {},
     "output_type": "execute_result"
    }
   ],
   "source": [
    "df_perf_metrics"
   ]
  },
  {
   "cell_type": "markdown",
   "metadata": {
    "papermill": {
     "duration": 0.157056,
     "end_time": "2021-06-10T15:09:11.105407",
     "exception": false,
     "start_time": "2021-06-10T15:09:10.948351",
     "status": "completed"
    },
    "tags": []
   },
   "source": [
    "<a id = 'b2'></a>\n",
    "### Tuning the Random Forest Classifier Model"
   ]
  },
  {
   "cell_type": "code",
   "execution_count": 95,
   "metadata": {
    "execution": {
     "iopub.execute_input": "2021-06-10T15:09:11.428608Z",
     "iopub.status.busy": "2021-06-10T15:09:11.428036Z",
     "iopub.status.idle": "2021-06-10T15:09:11.431045Z",
     "shell.execute_reply": "2021-06-10T15:09:11.430551Z",
     "shell.execute_reply.started": "2021-05-27T14:48:55.241544Z"
    },
    "papermill": {
     "duration": 0.168883,
     "end_time": "2021-06-10T15:09:11.431179",
     "exception": false,
     "start_time": "2021-06-10T15:09:11.262296",
     "status": "completed"
    },
    "tags": []
   },
   "outputs": [],
   "source": [
    "rfc = RandomForestClassifier()\n",
    "parameters = {\n",
    "    \"n_estimators\":[5,10,50,100,250],\n",
    "    \"max_depth\":[2,4,8,16,32,None]}"
   ]
  },
  {
   "cell_type": "markdown",
   "metadata": {},
   "source": [
    "**Using Grid search Cross Validation for tuning the model**"
   ]
  },
  {
   "cell_type": "code",
   "execution_count": 96,
   "metadata": {
    "execution": {
     "iopub.execute_input": "2021-06-10T15:09:11.753393Z",
     "iopub.status.busy": "2021-06-10T15:09:11.752609Z",
     "iopub.status.idle": "2021-06-10T15:09:45.579054Z",
     "shell.execute_reply": "2021-06-10T15:09:45.579547Z",
     "shell.execute_reply.started": "2021-05-27T14:48:55.255867Z"
    },
    "papermill": {
     "duration": 33.992385,
     "end_time": "2021-06-10T15:09:45.579734",
     "exception": false,
     "start_time": "2021-06-10T15:09:11.587349",
     "status": "completed"
    },
    "tags": []
   },
   "outputs": [
    {
     "data": {
      "text/plain": [
       "GridSearchCV(cv=5, estimator=RandomForestClassifier(),\n",
       "             param_grid={'max_depth': [2, 4, 8, 16, 32, None],\n",
       "                         'n_estimators': [5, 10, 50, 100, 250]})"
      ]
     },
     "execution_count": 96,
     "metadata": {},
     "output_type": "execute_result"
    }
   ],
   "source": [
    "from sklearn.model_selection import GridSearchCV\n",
    "cv = GridSearchCV(rfc,parameters,cv=5)\n",
    "cv.fit(X_train,y_train.values.ravel())"
   ]
  },
  {
   "cell_type": "code",
   "execution_count": 97,
   "metadata": {
    "execution": {
     "iopub.execute_input": "2021-06-10T15:09:45.903893Z",
     "iopub.status.busy": "2021-06-10T15:09:45.903168Z",
     "iopub.status.idle": "2021-06-10T15:09:45.905868Z",
     "shell.execute_reply": "2021-06-10T15:09:45.905359Z",
     "shell.execute_reply.started": "2021-05-27T14:49:29.352409Z"
    },
    "papermill": {
     "duration": 0.166844,
     "end_time": "2021-06-10T15:09:45.906000",
     "exception": false,
     "start_time": "2021-06-10T15:09:45.739156",
     "status": "completed"
    },
    "tags": []
   },
   "outputs": [],
   "source": [
    "def display(results):\n",
    "    print(f'Best parameters are: {results.best_params_}')\n",
    "    print(\"\\n\")\n",
    "    mean_score = results.cv_results_['mean_test_score']\n",
    "    std_score = results.cv_results_['std_test_score']\n",
    "    params = results.cv_results_['params']\n",
    "    for mean,std,params in zip(mean_score,std_score,params):\n",
    "        print(f'{round(mean,3)} + or -{round(std,3)} for the {params}')"
   ]
  },
  {
   "cell_type": "code",
   "execution_count": 98,
   "metadata": {
    "execution": {
     "iopub.execute_input": "2021-06-10T15:09:46.227062Z",
     "iopub.status.busy": "2021-06-10T15:09:46.226422Z",
     "iopub.status.idle": "2021-06-10T15:09:46.232798Z",
     "shell.execute_reply": "2021-06-10T15:09:46.232287Z",
     "shell.execute_reply.started": "2021-05-27T14:49:29.360321Z"
    },
    "papermill": {
     "duration": 0.16914,
     "end_time": "2021-06-10T15:09:46.232934",
     "exception": false,
     "start_time": "2021-06-10T15:09:46.063794",
     "status": "completed"
    },
    "tags": []
   },
   "outputs": [
    {
     "name": "stdout",
     "output_type": "stream",
     "text": [
      "Best parameters are: {'max_depth': 32, 'n_estimators': 250}\n",
      "\n",
      "\n",
      "0.689 + or -0.052 for the {'max_depth': 2, 'n_estimators': 5}\n",
      "0.701 + or -0.038 for the {'max_depth': 2, 'n_estimators': 10}\n",
      "0.705 + or -0.052 for the {'max_depth': 2, 'n_estimators': 50}\n",
      "0.704 + or -0.047 for the {'max_depth': 2, 'n_estimators': 100}\n",
      "0.707 + or -0.024 for the {'max_depth': 2, 'n_estimators': 250}\n",
      "0.76 + or -0.021 for the {'max_depth': 4, 'n_estimators': 5}\n",
      "0.764 + or -0.028 for the {'max_depth': 4, 'n_estimators': 10}\n",
      "0.762 + or -0.036 for the {'max_depth': 4, 'n_estimators': 50}\n",
      "0.764 + or -0.025 for the {'max_depth': 4, 'n_estimators': 100}\n",
      "0.766 + or -0.029 for the {'max_depth': 4, 'n_estimators': 250}\n",
      "0.806 + or -0.021 for the {'max_depth': 8, 'n_estimators': 5}\n",
      "0.814 + or -0.024 for the {'max_depth': 8, 'n_estimators': 10}\n",
      "0.825 + or -0.019 for the {'max_depth': 8, 'n_estimators': 50}\n",
      "0.824 + or -0.011 for the {'max_depth': 8, 'n_estimators': 100}\n",
      "0.816 + or -0.021 for the {'max_depth': 8, 'n_estimators': 250}\n",
      "0.839 + or -0.012 for the {'max_depth': 16, 'n_estimators': 5}\n",
      "0.853 + or -0.029 for the {'max_depth': 16, 'n_estimators': 10}\n",
      "0.864 + or -0.021 for the {'max_depth': 16, 'n_estimators': 50}\n",
      "0.871 + or -0.013 for the {'max_depth': 16, 'n_estimators': 100}\n",
      "0.866 + or -0.018 for the {'max_depth': 16, 'n_estimators': 250}\n",
      "0.837 + or -0.012 for the {'max_depth': 32, 'n_estimators': 5}\n",
      "0.847 + or -0.017 for the {'max_depth': 32, 'n_estimators': 10}\n",
      "0.874 + or -0.018 for the {'max_depth': 32, 'n_estimators': 50}\n",
      "0.869 + or -0.012 for the {'max_depth': 32, 'n_estimators': 100}\n",
      "0.878 + or -0.014 for the {'max_depth': 32, 'n_estimators': 250}\n",
      "0.836 + or -0.009 for the {'max_depth': None, 'n_estimators': 5}\n",
      "0.85 + or -0.011 for the {'max_depth': None, 'n_estimators': 10}\n",
      "0.864 + or -0.021 for the {'max_depth': None, 'n_estimators': 50}\n",
      "0.87 + or -0.011 for the {'max_depth': None, 'n_estimators': 100}\n",
      "0.874 + or -0.015 for the {'max_depth': None, 'n_estimators': 250}\n"
     ]
    }
   ],
   "source": [
    "display(cv)"
   ]
  },
  {
   "cell_type": "code",
   "execution_count": 99,
   "metadata": {
    "execution": {
     "iopub.execute_input": "2021-06-10T15:09:46.557968Z",
     "iopub.status.busy": "2021-06-10T15:09:46.557318Z",
     "iopub.status.idle": "2021-06-10T15:09:46.608276Z",
     "shell.execute_reply": "2021-06-10T15:09:46.607629Z",
     "shell.execute_reply.started": "2021-05-27T14:49:29.37705Z"
    },
    "papermill": {
     "duration": 0.216074,
     "end_time": "2021-06-10T15:09:46.608410",
     "exception": false,
     "start_time": "2021-06-10T15:09:46.392336",
     "status": "completed"
    },
    "tags": []
   },
   "outputs": [
    {
     "name": "stdout",
     "output_type": "stream",
     "text": [
      "Accuracy:  0.86\n",
      "Precision:  0.8735632183908046\n",
      "Recall:  0.8491620111731844\n",
      "f1-score:  0.8611898016997167\n"
     ]
    }
   ],
   "source": [
    "model = cv.best_estimator_\n",
    "y_pred = model.predict(X_test)\n",
    "print('Accuracy: ', accuracy_score(y_test, y_pred))\n",
    "print('Precision: ', precision_score(y_test, y_pred))\n",
    "print('Recall: ', recall_score(y_test, y_pred))\n",
    "print('f1-score: ', f1_score(y_test, y_pred))"
   ]
  },
  {
   "cell_type": "markdown",
   "metadata": {},
   "source": [
    "**Accuracy updated for Random forest classifier model**"
   ]
  },
  {
   "cell_type": "code",
   "execution_count": 100,
   "metadata": {
    "execution": {
     "iopub.execute_input": "2021-06-10T15:09:46.935203Z",
     "iopub.status.busy": "2021-06-10T15:09:46.934541Z",
     "iopub.status.idle": "2021-06-10T15:09:47.870610Z",
     "shell.execute_reply": "2021-06-10T15:09:47.870087Z",
     "shell.execute_reply.started": "2021-05-27T14:49:29.438961Z"
    },
    "papermill": {
     "duration": 1.104437,
     "end_time": "2021-06-10T15:09:47.870743",
     "exception": false,
     "start_time": "2021-06-10T15:09:46.766306",
     "status": "completed"
    },
    "tags": []
   },
   "outputs": [
    {
     "name": "stdout",
     "output_type": "stream",
     "text": [
      "Training RandomForestClassifier()\n",
      "Completed RandomForestClassifier()\n",
      "Completed RandomForestClassifier() model's performance assessment.\n"
     ]
    }
   ],
   "source": [
    "df1_perf_metrics = pd.DataFrame(columns=[\n",
    "    'Model', 'Accuracy_Training_Set', 'Accuracy_Test_Set', 'Precision',\n",
    "    'Recall', 'f1_score'\n",
    "])\n",
    "\n",
    "def get_perf_metrics_t(model):\n",
    "    model = cv.best_estimator_\n",
    "    model_name =RandomForestClassifier()\n",
    "    \n",
    "    print('Training RandomForestClassifier()')\n",
    "    model.fit(X_train, y_train)\n",
    "    print('Completed RandomForestClassifier()')\n",
    "    y_pred = model.predict(X_test)\n",
    "    \n",
    "    df1_perf_metrics.loc[0] = [\n",
    "        model_name,\n",
    "        model.score(X_train, y_train),\n",
    "        model.score(X_test, y_test),\n",
    "        precision_score(y_test, y_pred),\n",
    "        recall_score(y_test, y_pred),\n",
    "        f1_score(y_test, y_pred),\n",
    "    ]\n",
    "    \n",
    "    print(\"Completed RandomForestClassifier() model's performance assessment.\")\n",
    "\n",
    "get_perf_metrics_t(model)"
   ]
  },
  {
   "cell_type": "code",
   "execution_count": 101,
   "metadata": {
    "execution": {
     "iopub.execute_input": "2021-06-10T15:09:48.195083Z",
     "iopub.status.busy": "2021-06-10T15:09:48.194249Z",
     "iopub.status.idle": "2021-06-10T15:09:48.197529Z",
     "shell.execute_reply": "2021-06-10T15:09:48.197980Z",
     "shell.execute_reply.started": "2021-05-27T14:49:30.409348Z"
    },
    "papermill": {
     "duration": 0.172196,
     "end_time": "2021-06-10T15:09:48.198158",
     "exception": false,
     "start_time": "2021-06-10T15:09:48.025962",
     "status": "completed"
    },
    "tags": []
   },
   "outputs": [
    {
     "data": {
      "text/html": [
       "<div>\n",
       "<style scoped>\n",
       "    .dataframe tbody tr th:only-of-type {\n",
       "        vertical-align: middle;\n",
       "    }\n",
       "\n",
       "    .dataframe tbody tr th {\n",
       "        vertical-align: top;\n",
       "    }\n",
       "\n",
       "    .dataframe thead th {\n",
       "        text-align: right;\n",
       "    }\n",
       "</style>\n",
       "<table border=\"1\" class=\"dataframe\">\n",
       "  <thead>\n",
       "    <tr style=\"text-align: right;\">\n",
       "      <th></th>\n",
       "      <th>Model</th>\n",
       "      <th>Accuracy_Training_Set</th>\n",
       "      <th>Accuracy_Test_Set</th>\n",
       "      <th>Precision</th>\n",
       "      <th>Recall</th>\n",
       "      <th>f1_score</th>\n",
       "    </tr>\n",
       "  </thead>\n",
       "  <tbody>\n",
       "    <tr>\n",
       "      <th>0</th>\n",
       "      <td>RandomForestClassifier()</td>\n",
       "      <td>0.998571</td>\n",
       "      <td>0.854286</td>\n",
       "      <td>0.867816</td>\n",
       "      <td>0.843575</td>\n",
       "      <td>0.855524</td>\n",
       "    </tr>\n",
       "  </tbody>\n",
       "</table>\n",
       "</div>"
      ],
      "text/plain": [
       "                      Model  Accuracy_Training_Set  Accuracy_Test_Set  \\\n",
       "0  RandomForestClassifier()               0.998571           0.854286   \n",
       "\n",
       "   Precision    Recall  f1_score  \n",
       "0   0.867816  0.843575  0.855524  "
      ]
     },
     "execution_count": 101,
     "metadata": {},
     "output_type": "execute_result"
    }
   ],
   "source": [
    "df1_perf_metrics"
   ]
  },
  {
   "cell_type": "markdown",
   "metadata": {},
   "source": [
    "****************"
   ]
  },
  {
   "cell_type": "markdown",
   "metadata": {},
   "source": [
    "<a id=\"conclusion\"></a>\n",
    "### Comparative analysis among the algorithms for this project\n",
    "\n",
    "We have deployed seven machine learning algorithms and every algorithm is deployed successfully without any hesitation. We have checked the F-measure accuracy of the models based on the accuracy score of each of the models. Now let's take a look at the scores of each models.\n",
    "\n",
    "|Name of the Model|Accuracy Score|\n",
    "|:---:|:---:|\n",
    "|Logistic Regression|0.66|\n",
    "|Decision Tree Classifier|0.79|\n",
    "|Random Forest Classifier|0.84|\n",
    "|Gausian NB Algorithm|0.54|\n",
    "|KNN Algorithm|0.79|\n",
    "|Support Vector Machine Algorithm|0.65|\n",
    "|Linear Discriminant Analysis (LDA)|0.83|\n",
    "|Tuned Random Forest Classifier|0.86|\n",
    "\n",
    "### Conclusion\n",
    "\n",
    "**Comparing all those scores scored by the machine learning algorithms, it is clear that Random Forest Classifier is having the upper hand in case of this dataset and after this, we can use Linear Discriminant Analysis algorithm, which is also having good score as compared to the other deployed algorithms**\n",
    "\n",
    "Best Fitted Models ranking - \n",
    "1. Tuned Random Forest Classifier\n",
    "2. Linear Discriminant Analysis\n",
    "3. Decision tree classifier\n",
    "4. KNN algorithms\n",
    "5. Logistic Regression\n",
    "6. SVM\n",
    "7. Gaussian Naive Bayes classifier\n",
    "\n",
    "Hooray!! The models are deployed successfully!\n",
    "\n",
    "## Hope this project will help you! Thank you!"
   ]
  }
 ],
 "metadata": {
  "kernelspec": {
   "display_name": "Python 3",
   "language": "python",
   "name": "python3"
  },
  "language_info": {
   "codemirror_mode": {
    "name": "ipython",
    "version": 3
   },
   "file_extension": ".py",
   "mimetype": "text/x-python",
   "name": "python",
   "nbconvert_exporter": "python",
   "pygments_lexer": "ipython3",
   "version": "3.7.6"
  },
  "papermill": {
   "default_parameters": {},
   "duration": 108.040373,
   "end_time": "2021-06-10T15:09:49.265728",
   "environment_variables": {},
   "exception": null,
   "input_path": "__notebook__.ipynb",
   "output_path": "__notebook__.ipynb",
   "parameters": {},
   "start_time": "2021-06-10T15:08:01.225355",
   "version": "2.3.3"
  }
 },
 "nbformat": 4,
 "nbformat_minor": 5
}

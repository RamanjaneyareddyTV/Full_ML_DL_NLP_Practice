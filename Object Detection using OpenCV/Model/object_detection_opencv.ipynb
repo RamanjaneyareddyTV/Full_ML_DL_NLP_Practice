{
 "cells": [
  {
   "cell_type": "markdown",
   "source": [
    "## OBJECT DETECTION USING OPENCV"
   ],
   "metadata": {}
  },
  {
   "cell_type": "code",
   "execution_count": null,
   "source": [
    "import cv2 "
   ],
   "outputs": [],
   "metadata": {}
  },
  {
   "cell_type": "markdown",
   "source": [
    "### Capturing video input stream and setting height and \r\n",
    "### width of stream"
   ],
   "metadata": {}
  },
  {
   "cell_type": "code",
   "execution_count": null,
   "source": [
    "cap=cv2.VideoCapture(0)\r\n",
    "cap.set(3,640)\r\n",
    "cap.set(4,480)"
   ],
   "outputs": [],
   "metadata": {}
  },
  {
   "cell_type": "markdown",
   "source": [
    "*  Open the file and read the contents in a list named 'classNames'.\r\n",
    "*  Remove whitespaces to the right using rstrip.\r\n",
    "*  Create a list by splitting the contents on occurence of new line."
   ],
   "metadata": {}
  },
  {
   "cell_type": "code",
   "execution_count": null,
   "source": [
    "classNames=[]\r\n",
    "classFile='coco.names'\r\n",
    "with open(classFile,'rt') as f:\r\n",
    "    classNames=f.read().rstrip('\\n').split('\\n')"
   ],
   "outputs": [],
   "metadata": {}
  },
  {
   "cell_type": "markdown",
   "source": [
    "### Initialize the network configuration and pretrained weights "
   ],
   "metadata": {}
  },
  {
   "cell_type": "code",
   "execution_count": null,
   "source": [
    "configPath='ssd_mobilenet_v3_large_coco_2020_01_14.pbtxt'\r\n",
    "weightsPath='frozen_inference_graph.pb'"
   ],
   "outputs": [],
   "metadata": {}
  },
  {
   "cell_type": "markdown",
   "source": [
    "### Create a Deep Neura Network Model using the Configuration and Pretrained Weights."
   ],
   "metadata": {}
  },
  {
   "cell_type": "code",
   "execution_count": null,
   "source": [
    "net=cv2.dnn_DetectionModel(weightsPath,configPath)\r\n",
    "net.setInputSize(320,320)\r\n",
    "net.setInputScale(1.0/127.5)\r\n",
    "net.setInputMean((127.5,127.5,127.5))\r\n",
    "net.setInputSwapRB(True)"
   ],
   "outputs": [],
   "metadata": {}
  },
  {
   "cell_type": "markdown",
   "source": [
    "*  Start capturing the images through video stream.\r\n",
    "*  Detect classIDs ,confidence, bounding box by setting a confidence threshold of 0.5\r\n",
    "*  Draw a Bounding rectangle for every detection and label the object detected with a text\r\n",
    "*  Display the object detected and stop video input stream"
   ],
   "metadata": {}
  },
  {
   "cell_type": "code",
   "execution_count": null,
   "source": [
    "while True:\r\n",
    "    sucess,img=cap.read()\r\n",
    "\r\n",
    "    classIds, confs, bbox=net.detect(img,confThreshold=0.5)\r\n",
    "    print(classIds,bbox)\r\n",
    "\r\n",
    "    for classId, confidence, box in zip(classIds.flatten(),confs.flatten(),bbox):\r\n",
    "        cv2.rectangle(img,box,color=(0,255,0),thickness=2)\r\n",
    "        cv2.putText(img,classNames[classId-1].upper(),(box[0]+10,box[1]+30),cv2.FONT_HERSHEY_COMPLEX,1,(0,255,0),2)\r\n",
    "\r\n",
    "    cv2.imshow(\"Output\",img)\r\n",
    "    if cv2.waitKey(1) & 0xFF==ord('q'):\r\n",
    "        break"
   ],
   "outputs": [],
   "metadata": {}
  },
  {
   "cell_type": "markdown",
   "source": [
    "## Thank You!"
   ],
   "metadata": {}
  },
  {
   "cell_type": "markdown",
   "source": [],
   "metadata": {}
  }
 ],
 "metadata": {
  "orig_nbformat": 4,
  "language_info": {
   "name": "python"
  }
 },
 "nbformat": 4,
 "nbformat_minor": 2
}
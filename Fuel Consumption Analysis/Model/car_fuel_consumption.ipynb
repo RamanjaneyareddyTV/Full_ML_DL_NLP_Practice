{
  "nbformat": 4,
  "nbformat_minor": 0,
  "metadata": {
    "colab": {
      "name": "Untitled9.ipynb",
      "provenance": [],
      "collapsed_sections": []
    },
    "kernelspec": {
      "name": "python3",
      "display_name": "Python 3"
    },
    "language_info": {
      "name": "python"
    }
  },
  "cells": [
    {
      "cell_type": "code",
      "metadata": {
        "id": "FQ3yfYY7-gW_"
      },
      "source": [
        "import pandas as pd\n",
        "import matplotlib.pyplot as plt\n",
        "import numpy as np\n",
        "import seaborn as sns"
      ],
      "execution_count": null,
      "outputs": []
    },
    {
      "cell_type": "code",
      "metadata": {
        "colab": {
          "base_uri": "https://localhost:8080/",
          "height": 204
        },
        "id": "Nnk2AdMM_Yge",
        "outputId": "fc229048-ecf8-44fb-f493-7818f7627ed0"
      },
      "source": [
        "df = pd.read_csv('/content/measurements.csv')\n",
        "df.head()"
      ],
      "execution_count": null,
      "outputs": [
        {
          "output_type": "execute_result",
          "data": {
            "text/html": [
              "<div>\n",
              "<style scoped>\n",
              "    .dataframe tbody tr th:only-of-type {\n",
              "        vertical-align: middle;\n",
              "    }\n",
              "\n",
              "    .dataframe tbody tr th {\n",
              "        vertical-align: top;\n",
              "    }\n",
              "\n",
              "    .dataframe thead th {\n",
              "        text-align: right;\n",
              "    }\n",
              "</style>\n",
              "<table border=\"1\" class=\"dataframe\">\n",
              "  <thead>\n",
              "    <tr style=\"text-align: right;\">\n",
              "      <th></th>\n",
              "      <th>distance</th>\n",
              "      <th>consume</th>\n",
              "      <th>speed</th>\n",
              "      <th>temp_inside</th>\n",
              "      <th>temp_outside</th>\n",
              "      <th>specials</th>\n",
              "      <th>gas_type</th>\n",
              "      <th>AC</th>\n",
              "      <th>rain</th>\n",
              "      <th>sun</th>\n",
              "      <th>refill liters</th>\n",
              "      <th>refill gas</th>\n",
              "    </tr>\n",
              "  </thead>\n",
              "  <tbody>\n",
              "    <tr>\n",
              "      <th>0</th>\n",
              "      <td>28</td>\n",
              "      <td>5</td>\n",
              "      <td>26</td>\n",
              "      <td>21,5</td>\n",
              "      <td>12</td>\n",
              "      <td>NaN</td>\n",
              "      <td>E10</td>\n",
              "      <td>0</td>\n",
              "      <td>0</td>\n",
              "      <td>0</td>\n",
              "      <td>45</td>\n",
              "      <td>E10</td>\n",
              "    </tr>\n",
              "    <tr>\n",
              "      <th>1</th>\n",
              "      <td>12</td>\n",
              "      <td>4,2</td>\n",
              "      <td>30</td>\n",
              "      <td>21,5</td>\n",
              "      <td>13</td>\n",
              "      <td>NaN</td>\n",
              "      <td>E10</td>\n",
              "      <td>0</td>\n",
              "      <td>0</td>\n",
              "      <td>0</td>\n",
              "      <td>NaN</td>\n",
              "      <td>NaN</td>\n",
              "    </tr>\n",
              "    <tr>\n",
              "      <th>2</th>\n",
              "      <td>11,2</td>\n",
              "      <td>5,5</td>\n",
              "      <td>38</td>\n",
              "      <td>21,5</td>\n",
              "      <td>15</td>\n",
              "      <td>NaN</td>\n",
              "      <td>E10</td>\n",
              "      <td>0</td>\n",
              "      <td>0</td>\n",
              "      <td>0</td>\n",
              "      <td>NaN</td>\n",
              "      <td>NaN</td>\n",
              "    </tr>\n",
              "    <tr>\n",
              "      <th>3</th>\n",
              "      <td>12,9</td>\n",
              "      <td>3,9</td>\n",
              "      <td>36</td>\n",
              "      <td>21,5</td>\n",
              "      <td>14</td>\n",
              "      <td>NaN</td>\n",
              "      <td>E10</td>\n",
              "      <td>0</td>\n",
              "      <td>0</td>\n",
              "      <td>0</td>\n",
              "      <td>NaN</td>\n",
              "      <td>NaN</td>\n",
              "    </tr>\n",
              "    <tr>\n",
              "      <th>4</th>\n",
              "      <td>18,5</td>\n",
              "      <td>4,5</td>\n",
              "      <td>46</td>\n",
              "      <td>21,5</td>\n",
              "      <td>15</td>\n",
              "      <td>NaN</td>\n",
              "      <td>E10</td>\n",
              "      <td>0</td>\n",
              "      <td>0</td>\n",
              "      <td>0</td>\n",
              "      <td>NaN</td>\n",
              "      <td>NaN</td>\n",
              "    </tr>\n",
              "  </tbody>\n",
              "</table>\n",
              "</div>"
            ],
            "text/plain": [
              "  distance consume  speed temp_inside  ...  rain sun refill liters  refill gas\n",
              "0       28       5     26        21,5  ...     0   0            45         E10\n",
              "1       12     4,2     30        21,5  ...     0   0           NaN         NaN\n",
              "2     11,2     5,5     38        21,5  ...     0   0           NaN         NaN\n",
              "3     12,9     3,9     36        21,5  ...     0   0           NaN         NaN\n",
              "4     18,5     4,5     46        21,5  ...     0   0           NaN         NaN\n",
              "\n",
              "[5 rows x 12 columns]"
            ]
          },
          "metadata": {
            "tags": []
          },
          "execution_count": 3
        }
      ]
    },
    {
      "cell_type": "code",
      "metadata": {
        "colab": {
          "base_uri": "https://localhost:8080/"
        },
        "id": "9rWwtrC9_pQj",
        "outputId": "dcbd220c-0f9e-4357-f94e-57c76f812f72"
      },
      "source": [
        "df.info()"
      ],
      "execution_count": null,
      "outputs": [
        {
          "output_type": "stream",
          "text": [
            "<class 'pandas.core.frame.DataFrame'>\n",
            "RangeIndex: 388 entries, 0 to 387\n",
            "Data columns (total 12 columns):\n",
            " #   Column         Non-Null Count  Dtype \n",
            "---  ------         --------------  ----- \n",
            " 0   distance       388 non-null    object\n",
            " 1   consume        388 non-null    object\n",
            " 2   speed          388 non-null    int64 \n",
            " 3   temp_inside    376 non-null    object\n",
            " 4   temp_outside   388 non-null    int64 \n",
            " 5   specials       93 non-null     object\n",
            " 6   gas_type       388 non-null    object\n",
            " 7   AC             388 non-null    int64 \n",
            " 8   rain           388 non-null    int64 \n",
            " 9   sun            388 non-null    int64 \n",
            " 10  refill liters  13 non-null     object\n",
            " 11  refill gas     13 non-null     object\n",
            "dtypes: int64(5), object(7)\n",
            "memory usage: 36.5+ KB\n"
          ],
          "name": "stdout"
        }
      ]
    },
    {
      "cell_type": "markdown",
      "metadata": {
        "id": "YUlyIIxL_yST"
      },
      "source": [
        "We need to change dtype of object into float64 or int64."
      ]
    },
    {
      "cell_type": "code",
      "metadata": {
        "colab": {
          "base_uri": "https://localhost:8080/"
        },
        "id": "kwJDfFDwAkER",
        "outputId": "4db01ed9-d750-43dd-fd45-f4a8074fa9ca"
      },
      "source": [
        "# Changing dtype of distance, consume, temp_inside\n",
        "df['distance']=df['distance'].astype(float)\n",
        "df['consume']=df['consume'].astype(float)\n",
        "df['temp_inside']=df['temp_inside'].astype(float)\n",
        "df.info()"
      ],
      "execution_count": null,
      "outputs": [
        {
          "output_type": "stream",
          "text": [
            "<class 'pandas.core.frame.DataFrame'>\n",
            "RangeIndex: 388 entries, 0 to 387\n",
            "Data columns (total 12 columns):\n",
            " #   Column         Non-Null Count  Dtype  \n",
            "---  ------         --------------  -----  \n",
            " 0   distance       388 non-null    float64\n",
            " 1   consume        388 non-null    float64\n",
            " 2   speed          388 non-null    int64  \n",
            " 3   temp_inside    376 non-null    float64\n",
            " 4   temp_outside   388 non-null    int64  \n",
            " 5   specials       93 non-null     object \n",
            " 6   gas_type       388 non-null    object \n",
            " 7   AC             388 non-null    int64  \n",
            " 8   rain           388 non-null    int64  \n",
            " 9   sun            388 non-null    int64  \n",
            " 10  refill liters  13 non-null     object \n",
            " 11  refill gas     13 non-null     object \n",
            "dtypes: float64(3), int64(5), object(4)\n",
            "memory usage: 36.5+ KB\n"
          ],
          "name": "stdout"
        }
      ]
    },
    {
      "cell_type": "code",
      "metadata": {
        "colab": {
          "base_uri": "https://localhost:8080/",
          "height": 344
        },
        "id": "c8dxkzdU_xUU",
        "outputId": "94a5768b-ac0a-40f0-d124-7794a0aeae13"
      },
      "source": [
        "sns.heatmap(data=df.isnull())"
      ],
      "execution_count": null,
      "outputs": [
        {
          "output_type": "execute_result",
          "data": {
            "text/plain": [
              "<matplotlib.axes._subplots.AxesSubplot at 0x7febddebab10>"
            ]
          },
          "metadata": {
            "tags": []
          },
          "execution_count": 5
        },
        {
          "output_type": "display_data",
          "data": {
            "image/png": "[encoded data removed]",
            "text/plain": [
              "<Figure size 432x288 with 2 Axes>"
            ]
          },
          "metadata": {
            "tags": [],
            "needs_background": "light"
          }
        }
      ]
    },
    {
      "cell_type": "markdown",
      "metadata": {
        "id": "bfsZ_KU0AKLd"
      },
      "source": [
        "We can see the missing values in following features:\n",
        "\n",
        "1. specials\n",
        "\n",
        "2. refill liters\n",
        "\n",
        "3. refill gas"
      ]
    },
    {
      "cell_type": "code",
      "metadata": {
        "colab": {
          "base_uri": "https://localhost:8080/",
          "height": 419
        },
        "id": "aoD_g4rhAfC8",
        "outputId": "9bb658aa-eec5-42d5-d773-4e6fa773b2f7"
      },
      "source": [
        "#dropping some of the features \n",
        "df=df.drop(['specials','refill liters','refill gas'],axis=1)\n",
        "df"
      ],
      "execution_count": null,
      "outputs": [
        {
          "output_type": "execute_result",
          "data": {
            "text/html": [
              "<div>\n",
              "<style scoped>\n",
              "    .dataframe tbody tr th:only-of-type {\n",
              "        vertical-align: middle;\n",
              "    }\n",
              "\n",
              "    .dataframe tbody tr th {\n",
              "        vertical-align: top;\n",
              "    }\n",
              "\n",
              "    .dataframe thead th {\n",
              "        text-align: right;\n",
              "    }\n",
              "</style>\n",
              "<table border=\"1\" class=\"dataframe\">\n",
              "  <thead>\n",
              "    <tr style=\"text-align: right;\">\n",
              "      <th></th>\n",
              "      <th>distance</th>\n",
              "      <th>consume</th>\n",
              "      <th>speed</th>\n",
              "      <th>temp_inside</th>\n",
              "      <th>temp_outside</th>\n",
              "      <th>gas_type</th>\n",
              "      <th>AC</th>\n",
              "      <th>rain</th>\n",
              "      <th>sun</th>\n",
              "    </tr>\n",
              "  </thead>\n",
              "  <tbody>\n",
              "    <tr>\n",
              "      <th>0</th>\n",
              "      <td>28.0</td>\n",
              "      <td>5.0</td>\n",
              "      <td>26</td>\n",
              "      <td>21.5</td>\n",
              "      <td>12</td>\n",
              "      <td>E10</td>\n",
              "      <td>0</td>\n",
              "      <td>0</td>\n",
              "      <td>0</td>\n",
              "    </tr>\n",
              "    <tr>\n",
              "      <th>1</th>\n",
              "      <td>12.0</td>\n",
              "      <td>4.2</td>\n",
              "      <td>30</td>\n",
              "      <td>21.5</td>\n",
              "      <td>13</td>\n",
              "      <td>E10</td>\n",
              "      <td>0</td>\n",
              "      <td>0</td>\n",
              "      <td>0</td>\n",
              "    </tr>\n",
              "    <tr>\n",
              "      <th>2</th>\n",
              "      <td>11.2</td>\n",
              "      <td>5.5</td>\n",
              "      <td>38</td>\n",
              "      <td>21.5</td>\n",
              "      <td>15</td>\n",
              "      <td>E10</td>\n",
              "      <td>0</td>\n",
              "      <td>0</td>\n",
              "      <td>0</td>\n",
              "    </tr>\n",
              "    <tr>\n",
              "      <th>3</th>\n",
              "      <td>12.9</td>\n",
              "      <td>3.9</td>\n",
              "      <td>36</td>\n",
              "      <td>21.5</td>\n",
              "      <td>14</td>\n",
              "      <td>E10</td>\n",
              "      <td>0</td>\n",
              "      <td>0</td>\n",
              "      <td>0</td>\n",
              "    </tr>\n",
              "    <tr>\n",
              "      <th>4</th>\n",
              "      <td>18.5</td>\n",
              "      <td>4.5</td>\n",
              "      <td>46</td>\n",
              "      <td>21.5</td>\n",
              "      <td>15</td>\n",
              "      <td>E10</td>\n",
              "      <td>0</td>\n",
              "      <td>0</td>\n",
              "      <td>0</td>\n",
              "    </tr>\n",
              "    <tr>\n",
              "      <th>...</th>\n",
              "      <td>...</td>\n",
              "      <td>...</td>\n",
              "      <td>...</td>\n",
              "      <td>...</td>\n",
              "      <td>...</td>\n",
              "      <td>...</td>\n",
              "      <td>...</td>\n",
              "      <td>...</td>\n",
              "      <td>...</td>\n",
              "    </tr>\n",
              "    <tr>\n",
              "      <th>383</th>\n",
              "      <td>16.0</td>\n",
              "      <td>3.7</td>\n",
              "      <td>39</td>\n",
              "      <td>24.5</td>\n",
              "      <td>18</td>\n",
              "      <td>SP98</td>\n",
              "      <td>0</td>\n",
              "      <td>0</td>\n",
              "      <td>0</td>\n",
              "    </tr>\n",
              "    <tr>\n",
              "      <th>384</th>\n",
              "      <td>16.1</td>\n",
              "      <td>4.3</td>\n",
              "      <td>38</td>\n",
              "      <td>25.0</td>\n",
              "      <td>31</td>\n",
              "      <td>SP98</td>\n",
              "      <td>1</td>\n",
              "      <td>0</td>\n",
              "      <td>0</td>\n",
              "    </tr>\n",
              "    <tr>\n",
              "      <th>385</th>\n",
              "      <td>16.0</td>\n",
              "      <td>3.8</td>\n",
              "      <td>45</td>\n",
              "      <td>25.0</td>\n",
              "      <td>19</td>\n",
              "      <td>SP98</td>\n",
              "      <td>0</td>\n",
              "      <td>0</td>\n",
              "      <td>0</td>\n",
              "    </tr>\n",
              "    <tr>\n",
              "      <th>386</th>\n",
              "      <td>15.4</td>\n",
              "      <td>4.6</td>\n",
              "      <td>42</td>\n",
              "      <td>25.0</td>\n",
              "      <td>31</td>\n",
              "      <td>SP98</td>\n",
              "      <td>1</td>\n",
              "      <td>0</td>\n",
              "      <td>0</td>\n",
              "    </tr>\n",
              "    <tr>\n",
              "      <th>387</th>\n",
              "      <td>14.7</td>\n",
              "      <td>5.0</td>\n",
              "      <td>25</td>\n",
              "      <td>25.0</td>\n",
              "      <td>30</td>\n",
              "      <td>SP98</td>\n",
              "      <td>1</td>\n",
              "      <td>0</td>\n",
              "      <td>0</td>\n",
              "    </tr>\n",
              "  </tbody>\n",
              "</table>\n",
              "<p>388 rows × 9 columns</p>\n",
              "</div>"
            ],
            "text/plain": [
              "     distance  consume  speed  temp_inside  ...  gas_type AC  rain  sun\n",
              "0        28.0      5.0     26         21.5  ...       E10  0     0    0\n",
              "1        12.0      4.2     30         21.5  ...       E10  0     0    0\n",
              "2        11.2      5.5     38         21.5  ...       E10  0     0    0\n",
              "3        12.9      3.9     36         21.5  ...       E10  0     0    0\n",
              "4        18.5      4.5     46         21.5  ...       E10  0     0    0\n",
              "..        ...      ...    ...          ...  ...       ... ..   ...  ...\n",
              "383      16.0      3.7     39         24.5  ...      SP98  0     0    0\n",
              "384      16.1      4.3     38         25.0  ...      SP98  1     0    0\n",
              "385      16.0      3.8     45         25.0  ...      SP98  0     0    0\n",
              "386      15.4      4.6     42         25.0  ...      SP98  1     0    0\n",
              "387      14.7      5.0     25         25.0  ...      SP98  1     0    0\n",
              "\n",
              "[388 rows x 9 columns]"
            ]
          },
          "metadata": {
            "tags": []
          },
          "execution_count": 10
        }
      ]
    },
    {
      "cell_type": "code",
      "metadata": {
        "colab": {
          "base_uri": "https://localhost:8080/",
          "height": 344
        },
        "id": "Slf_-4e8Bl-H",
        "outputId": "6c77b5fa-20bd-4630-f9ad-f568a03a87da"
      },
      "source": [
        "sns.heatmap(data=df.isnull())"
      ],
      "execution_count": null,
      "outputs": [
        {
          "output_type": "execute_result",
          "data": {
            "text/plain": [
              "<matplotlib.axes._subplots.AxesSubplot at 0x7febddda8890>"
            ]
          },
          "metadata": {
            "tags": []
          },
          "execution_count": 11
        },
        {
          "output_type": "display_data",
          "data": {
            "image/png": "[encoded data removed]",
            "text/plain": [
              "<Figure size 432x288 with 2 Axes>"
            ]
          },
          "metadata": {
            "tags": [],
            "needs_background": "light"
          }
        }
      ]
    },
    {
      "cell_type": "code",
      "metadata": {
        "id": "EG8vl7CfBtFl",
        "colab": {
          "base_uri": "https://localhost:8080/"
        },
        "outputId": "f2ea75ad-0e1a-4569-a837-32d364afd611"
      },
      "source": [
        "df['temp_inside'].describe()"
      ],
      "execution_count": 12,
      "outputs": [
        {
          "output_type": "execute_result",
          "data": {
            "text/plain": [
              "count    376.000000\n",
              "mean      21.929521\n",
              "std        1.010455\n",
              "min       19.000000\n",
              "25%       21.500000\n",
              "50%       22.000000\n",
              "75%       22.500000\n",
              "max       25.500000\n",
              "Name: temp_inside, dtype: float64"
            ]
          },
          "metadata": {
            "tags": []
          },
          "execution_count": 12
        }
      ]
    },
    {
      "cell_type": "code",
      "metadata": {
        "id": "coa8_1rqCGZh"
      },
      "source": [
        "df['temp_inside']=df['temp_inside'].fillna(21.92)"
      ],
      "execution_count": 14,
      "outputs": []
    },
    {
      "cell_type": "code",
      "metadata": {
        "colab": {
          "base_uri": "https://localhost:8080/"
        },
        "id": "T2HgR3R2DjRH",
        "outputId": "a849bae7-5452-4fe4-dc11-1016730a1fd5"
      },
      "source": [
        "data=df.isnull().sum()\n",
        "data"
      ],
      "execution_count": 16,
      "outputs": [
        {
          "output_type": "execute_result",
          "data": {
            "text/plain": [
              "distance        0\n",
              "consume         0\n",
              "speed           0\n",
              "temp_inside     0\n",
              "temp_outside    0\n",
              "gas_type        0\n",
              "AC              0\n",
              "rain            0\n",
              "sun             0\n",
              "dtype: int64"
            ]
          },
          "metadata": {
            "tags": []
          },
          "execution_count": 16
        }
      ]
    },
    {
      "cell_type": "markdown",
      "metadata": {
        "id": "9UBAKbhKDrGj"
      },
      "source": [
        "No missing values"
      ]
    },
    {
      "cell_type": "code",
      "metadata": {
        "colab": {
          "base_uri": "https://localhost:8080/",
          "height": 716
        },
        "id": "BqangkP0DqD9",
        "outputId": "dd4e9374-c7a4-405e-ab66-c1d14a819fdd"
      },
      "source": [
        "df.hist(figsize=(8,12))\n",
        "plt.show()"
      ],
      "execution_count": 20,
      "outputs": [
        {
          "output_type": "display_data",
          "data": {
            "image/png": "[encoded data removed]",
            "text/plain": [
              "<Figure size 576x864 with 9 Axes>"
            ]
          },
          "metadata": {
            "tags": [],
            "needs_background": "light"
          }
        }
      ]
    },
    {
      "cell_type": "code",
      "metadata": {
        "colab": {
          "base_uri": "https://localhost:8080/"
        },
        "id": "rLIDoSJsIl2a",
        "outputId": "b12863af-c26a-495d-ba98-af7d9699a619"
      },
      "source": [
        "df['distance'].describe()"
      ],
      "execution_count": 27,
      "outputs": [
        {
          "output_type": "execute_result",
          "data": {
            "text/plain": [
              "count    388.000000\n",
              "mean      19.652835\n",
              "std       22.667837\n",
              "min        1.300000\n",
              "25%       11.800000\n",
              "50%       14.600000\n",
              "75%       19.000000\n",
              "max      216.100000\n",
              "Name: distance, dtype: float64"
            ]
          },
          "metadata": {
            "tags": []
          },
          "execution_count": 27
        }
      ]
    },
    {
      "cell_type": "code",
      "metadata": {
        "colab": {
          "base_uri": "https://localhost:8080/",
          "height": 80
        },
        "id": "-KRRdVJRFQgE",
        "outputId": "32f419a5-f42d-4768-a46d-095fd49e8667"
      },
      "source": [
        "#MIN. AND MAX. FUEL CONSUMPTION OF TRAVELLED DISTANCE :-\n",
        "consmin=df.query('distance==1.300000')\n",
        "consmin"
      ],
      "execution_count": 22,
      "outputs": [
        {
          "output_type": "execute_result",
          "data": {
            "text/html": [
              "<div>\n",
              "<style scoped>\n",
              "    .dataframe tbody tr th:only-of-type {\n",
              "        vertical-align: middle;\n",
              "    }\n",
              "\n",
              "    .dataframe tbody tr th {\n",
              "        vertical-align: top;\n",
              "    }\n",
              "\n",
              "    .dataframe thead th {\n",
              "        text-align: right;\n",
              "    }\n",
              "</style>\n",
              "<table border=\"1\" class=\"dataframe\">\n",
              "  <thead>\n",
              "    <tr style=\"text-align: right;\">\n",
              "      <th></th>\n",
              "      <th>distance</th>\n",
              "      <th>consume</th>\n",
              "      <th>speed</th>\n",
              "      <th>temp_inside</th>\n",
              "      <th>temp_outside</th>\n",
              "      <th>gas_type</th>\n",
              "      <th>AC</th>\n",
              "      <th>rain</th>\n",
              "      <th>sun</th>\n",
              "    </tr>\n",
              "  </thead>\n",
              "  <tbody>\n",
              "    <tr>\n",
              "      <th>210</th>\n",
              "      <td>1.3</td>\n",
              "      <td>11.5</td>\n",
              "      <td>21</td>\n",
              "      <td>20.0</td>\n",
              "      <td>10</td>\n",
              "      <td>SP98</td>\n",
              "      <td>0</td>\n",
              "      <td>0</td>\n",
              "      <td>0</td>\n",
              "    </tr>\n",
              "  </tbody>\n",
              "</table>\n",
              "</div>"
            ],
            "text/plain": [
              "     distance  consume  speed  temp_inside  ...  gas_type AC  rain  sun\n",
              "210       1.3     11.5     21         20.0  ...      SP98  0     0    0\n",
              "\n",
              "[1 rows x 9 columns]"
            ]
          },
          "metadata": {
            "tags": []
          },
          "execution_count": 22
        }
      ]
    },
    {
      "cell_type": "code",
      "metadata": {
        "colab": {
          "base_uri": "https://localhost:8080/",
          "height": 437
        },
        "id": "7svoHuPmFOjP",
        "outputId": "e692d987-685f-45c2-cab9-29bd12ae0b22"
      },
      "source": [
        "sns.lmplot('distance','consume',consmin)\n",
        "plt.show()"
      ],
      "execution_count": 23,
      "outputs": [
        {
          "output_type": "stream",
          "text": [
            "/usr/local/lib/python3.7/dist-packages/seaborn/_decorators.py:43: FutureWarning: Pass the following variables as keyword args: x, y, data. From version 0.12, the only valid positional argument will be `data`, and passing other arguments without an explicit keyword will result in an error or misinterpretation.\n",
            "  FutureWarning\n"
          ],
          "name": "stderr"
        },
        {
          "output_type": "display_data",
          "data": {
            "image/png": "[encoded data removed]",
            "text/plain": [
              "<Figure size 360x360 with 1 Axes>"
            ]
          },
          "metadata": {
            "tags": [],
            "needs_background": "light"
          }
        }
      ]
    },
    {
      "cell_type": "code",
      "metadata": {
        "colab": {
          "base_uri": "https://localhost:8080/",
          "height": 80
        },
        "id": "TJedAgoLIRTH",
        "outputId": "757c99c2-f08b-482d-cc8f-48aa26280201"
      },
      "source": [
        "consmax=df.query('distance==216.100000')\n",
        "consmax "
      ],
      "execution_count": 25,
      "outputs": [
        {
          "output_type": "execute_result",
          "data": {
            "text/html": [
              "<div>\n",
              "<style scoped>\n",
              "    .dataframe tbody tr th:only-of-type {\n",
              "        vertical-align: middle;\n",
              "    }\n",
              "\n",
              "    .dataframe tbody tr th {\n",
              "        vertical-align: top;\n",
              "    }\n",
              "\n",
              "    .dataframe thead th {\n",
              "        text-align: right;\n",
              "    }\n",
              "</style>\n",
              "<table border=\"1\" class=\"dataframe\">\n",
              "  <thead>\n",
              "    <tr style=\"text-align: right;\">\n",
              "      <th></th>\n",
              "      <th>distance</th>\n",
              "      <th>consume</th>\n",
              "      <th>speed</th>\n",
              "      <th>temp_inside</th>\n",
              "      <th>temp_outside</th>\n",
              "      <th>gas_type</th>\n",
              "      <th>AC</th>\n",
              "      <th>rain</th>\n",
              "      <th>sun</th>\n",
              "    </tr>\n",
              "  </thead>\n",
              "  <tbody>\n",
              "    <tr>\n",
              "      <th>319</th>\n",
              "      <td>216.1</td>\n",
              "      <td>5.3</td>\n",
              "      <td>90</td>\n",
              "      <td>22.0</td>\n",
              "      <td>21</td>\n",
              "      <td>SP98</td>\n",
              "      <td>0</td>\n",
              "      <td>0</td>\n",
              "      <td>1</td>\n",
              "    </tr>\n",
              "  </tbody>\n",
              "</table>\n",
              "</div>"
            ],
            "text/plain": [
              "     distance  consume  speed  temp_inside  ...  gas_type AC  rain  sun\n",
              "319     216.1      5.3     90         22.0  ...      SP98  0     0    1\n",
              "\n",
              "[1 rows x 9 columns]"
            ]
          },
          "metadata": {
            "tags": []
          },
          "execution_count": 25
        }
      ]
    },
    {
      "cell_type": "code",
      "metadata": {
        "colab": {
          "base_uri": "https://localhost:8080/",
          "height": 437
        },
        "id": "IhgSLwptISG2",
        "outputId": "a37ca736-eb43-492d-d014-101968246269"
      },
      "source": [
        "sns.lmplot('distance','consume',consmax)\n",
        "plt.show()"
      ],
      "execution_count": 26,
      "outputs": [
        {
          "output_type": "stream",
          "text": [
            "/usr/local/lib/python3.7/dist-packages/seaborn/_decorators.py:43: FutureWarning: Pass the following variables as keyword args: x, y, data. From version 0.12, the only valid positional argument will be `data`, and passing other arguments without an explicit keyword will result in an error or misinterpretation.\n",
            "  FutureWarning\n"
          ],
          "name": "stderr"
        },
        {
          "output_type": "display_data",
          "data": {
            "image/png": "[encoded data removed]",
            "text/plain": [
              "<Figure size 360x360 with 1 Axes>"
            ]
          },
          "metadata": {
            "tags": [],
            "needs_background": "light"
          }
        }
      ]
    },
    {
      "cell_type": "code",
      "metadata": {
        "colab": {
          "base_uri": "https://localhost:8080/"
        },
        "id": "n3o3wsxqIgxm",
        "outputId": "23677cc7-355e-4b93-b6f6-ad65ecabe561"
      },
      "source": [
        "df['speed'].describe()"
      ],
      "execution_count": 28,
      "outputs": [
        {
          "output_type": "execute_result",
          "data": {
            "text/plain": [
              "count    388.000000\n",
              "mean      41.927835\n",
              "std       13.598524\n",
              "min       14.000000\n",
              "25%       32.750000\n",
              "50%       40.500000\n",
              "75%       50.000000\n",
              "max       90.000000\n",
              "Name: speed, dtype: float64"
            ]
          },
          "metadata": {
            "tags": []
          },
          "execution_count": 28
        }
      ]
    },
    {
      "cell_type": "code",
      "metadata": {
        "colab": {
          "base_uri": "https://localhost:8080/",
          "height": 80
        },
        "id": "KmTBKX72JEtN",
        "outputId": "446fa92a-2027-4d18-a465-e84a9b460561"
      },
      "source": [
        "consmin=df.query('speed==14.000000')\n",
        "consmin "
      ],
      "execution_count": 31,
      "outputs": [
        {
          "output_type": "execute_result",
          "data": {
            "text/html": [
              "<div>\n",
              "<style scoped>\n",
              "    .dataframe tbody tr th:only-of-type {\n",
              "        vertical-align: middle;\n",
              "    }\n",
              "\n",
              "    .dataframe tbody tr th {\n",
              "        vertical-align: top;\n",
              "    }\n",
              "\n",
              "    .dataframe thead th {\n",
              "        text-align: right;\n",
              "    }\n",
              "</style>\n",
              "<table border=\"1\" class=\"dataframe\">\n",
              "  <thead>\n",
              "    <tr style=\"text-align: right;\">\n",
              "      <th></th>\n",
              "      <th>distance</th>\n",
              "      <th>consume</th>\n",
              "      <th>speed</th>\n",
              "      <th>temp_inside</th>\n",
              "      <th>temp_outside</th>\n",
              "      <th>gas_type</th>\n",
              "      <th>AC</th>\n",
              "      <th>rain</th>\n",
              "      <th>sun</th>\n",
              "    </tr>\n",
              "  </thead>\n",
              "  <tbody>\n",
              "    <tr>\n",
              "      <th>147</th>\n",
              "      <td>1.7</td>\n",
              "      <td>10.8</td>\n",
              "      <td>14</td>\n",
              "      <td>21.5</td>\n",
              "      <td>10</td>\n",
              "      <td>E10</td>\n",
              "      <td>0</td>\n",
              "      <td>1</td>\n",
              "      <td>0</td>\n",
              "    </tr>\n",
              "  </tbody>\n",
              "</table>\n",
              "</div>"
            ],
            "text/plain": [
              "     distance  consume  speed  temp_inside  ...  gas_type AC  rain  sun\n",
              "147       1.7     10.8     14         21.5  ...       E10  0     1    0\n",
              "\n",
              "[1 rows x 9 columns]"
            ]
          },
          "metadata": {
            "tags": []
          },
          "execution_count": 31
        }
      ]
    },
    {
      "cell_type": "code",
      "metadata": {
        "colab": {
          "base_uri": "https://localhost:8080/",
          "height": 80
        },
        "id": "CQOEySgpJY5v",
        "outputId": "6d751608-7436-42d0-c6b0-992b452a4ce5"
      },
      "source": [
        "consmax=df.query('speed==90.000000')\n",
        "consmax "
      ],
      "execution_count": 32,
      "outputs": [
        {
          "output_type": "execute_result",
          "data": {
            "text/html": [
              "<div>\n",
              "<style scoped>\n",
              "    .dataframe tbody tr th:only-of-type {\n",
              "        vertical-align: middle;\n",
              "    }\n",
              "\n",
              "    .dataframe tbody tr th {\n",
              "        vertical-align: top;\n",
              "    }\n",
              "\n",
              "    .dataframe thead th {\n",
              "        text-align: right;\n",
              "    }\n",
              "</style>\n",
              "<table border=\"1\" class=\"dataframe\">\n",
              "  <thead>\n",
              "    <tr style=\"text-align: right;\">\n",
              "      <th></th>\n",
              "      <th>distance</th>\n",
              "      <th>consume</th>\n",
              "      <th>speed</th>\n",
              "      <th>temp_inside</th>\n",
              "      <th>temp_outside</th>\n",
              "      <th>gas_type</th>\n",
              "      <th>AC</th>\n",
              "      <th>rain</th>\n",
              "      <th>sun</th>\n",
              "    </tr>\n",
              "  </thead>\n",
              "  <tbody>\n",
              "    <tr>\n",
              "      <th>319</th>\n",
              "      <td>216.1</td>\n",
              "      <td>5.3</td>\n",
              "      <td>90</td>\n",
              "      <td>22.0</td>\n",
              "      <td>21</td>\n",
              "      <td>SP98</td>\n",
              "      <td>0</td>\n",
              "      <td>0</td>\n",
              "      <td>1</td>\n",
              "    </tr>\n",
              "  </tbody>\n",
              "</table>\n",
              "</div>"
            ],
            "text/plain": [
              "     distance  consume  speed  temp_inside  ...  gas_type AC  rain  sun\n",
              "319     216.1      5.3     90         22.0  ...      SP98  0     0    1\n",
              "\n",
              "[1 rows x 9 columns]"
            ]
          },
          "metadata": {
            "tags": []
          },
          "execution_count": 32
        }
      ]
    },
    {
      "cell_type": "code",
      "metadata": {
        "colab": {
          "base_uri": "https://localhost:8080/",
          "height": 437
        },
        "id": "4DeyYHivJsaf",
        "outputId": "4906d1fb-353e-48f4-ec93-1d471cf5e4b6"
      },
      "source": [
        "minrn=df.query('rain==0.000000')\n",
        "minrn\n",
        "\n",
        "sns.lmplot('distance','consume',data=minrn)\n",
        "plt.show()"
      ],
      "execution_count": 34,
      "outputs": [
        {
          "output_type": "stream",
          "text": [
            "/usr/local/lib/python3.7/dist-packages/seaborn/_decorators.py:43: FutureWarning: Pass the following variables as keyword args: x, y. From version 0.12, the only valid positional argument will be `data`, and passing other arguments without an explicit keyword will result in an error or misinterpretation.\n",
            "  FutureWarning\n"
          ],
          "name": "stderr"
        },
        {
          "output_type": "display_data",
          "data": {
            "image/png": "[encoded data removed]",
            "text/plain": [
              "<Figure size 360x360 with 1 Axes>"
            ]
          },
          "metadata": {
            "tags": [],
            "needs_background": "light"
          }
        }
      ]
    },
    {
      "cell_type": "code",
      "metadata": {
        "colab": {
          "base_uri": "https://localhost:8080/",
          "height": 437
        },
        "id": "07M2dcCHJ6Kl",
        "outputId": "5bb6cd64-887d-4bad-8a11-297c44a4f44e"
      },
      "source": [
        "maxrn=df.query('rain==1.000000')\n",
        "maxrn\n",
        "\n",
        "sns.lmplot('distance','consume',data=maxrn)\n",
        "plt.show()"
      ],
      "execution_count": 35,
      "outputs": [
        {
          "output_type": "stream",
          "text": [
            "/usr/local/lib/python3.7/dist-packages/seaborn/_decorators.py:43: FutureWarning: Pass the following variables as keyword args: x, y. From version 0.12, the only valid positional argument will be `data`, and passing other arguments without an explicit keyword will result in an error or misinterpretation.\n",
            "  FutureWarning\n"
          ],
          "name": "stderr"
        },
        {
          "output_type": "display_data",
          "data": {
            "image/png": "[encoded data removed]",
            "text/plain": [
              "<Figure size 360x360 with 1 Axes>"
            ]
          },
          "metadata": {
            "tags": [],
            "needs_background": "light"
          }
        }
      ]
    },
    {
      "cell_type": "markdown",
      "metadata": {
        "id": "3f0eSy3HKJGc"
      },
      "source": [
        "THE DIFFERENT GAS TYPE USED BY USER:-"
      ]
    },
    {
      "cell_type": "code",
      "metadata": {
        "colab": {
          "base_uri": "https://localhost:8080/",
          "height": 334
        },
        "id": "-gtV_iy9J-d1",
        "outputId": "91efe52a-64db-405c-e49e-6f5f76dd915a"
      },
      "source": [
        "sns.countplot(df['gas_type'])\n",
        "plt.show()"
      ],
      "execution_count": 36,
      "outputs": [
        {
          "output_type": "stream",
          "text": [
            "/usr/local/lib/python3.7/dist-packages/seaborn/_decorators.py:43: FutureWarning: Pass the following variable as a keyword arg: x. From version 0.12, the only valid positional argument will be `data`, and passing other arguments without an explicit keyword will result in an error or misinterpretation.\n",
            "  FutureWarning\n"
          ],
          "name": "stderr"
        },
        {
          "output_type": "display_data",
          "data": {
            "image/png": "[encoded data removed]",
            "text/plain": [
              "<Figure size 432x288 with 1 Axes>"
            ]
          },
          "metadata": {
            "tags": [],
            "needs_background": "light"
          }
        }
      ]
    },
    {
      "cell_type": "markdown",
      "metadata": {
        "id": "tLvo8W2UK5x0"
      },
      "source": [
        "Changing dtype of gas_type from object to int using LabelEncoder"
      ]
    },
    {
      "cell_type": "code",
      "metadata": {
        "id": "M53GJSGNKOUu"
      },
      "source": [
        "from sklearn.preprocessing import LabelEncoder\n",
        "le=LabelEncoder()\n",
        "df['gas_type']=le.fit_transform(df['gas_type'])"
      ],
      "execution_count": 38,
      "outputs": []
    },
    {
      "cell_type": "code",
      "metadata": {
        "colab": {
          "base_uri": "https://localhost:8080/",
          "height": 419
        },
        "id": "-3s7lNnmQhl9",
        "outputId": "33757528-4b1c-4c1f-b3fb-fd439b5365dc"
      },
      "source": [
        "df['distance']=df['distance'].astype(int)\n",
        "df['consume']=df['consume'].astype(int)\n",
        "df['temp_inside']=df['temp_inside'].astype(int)\n",
        "df"
      ],
      "execution_count": 53,
      "outputs": [
        {
          "output_type": "execute_result",
          "data": {
            "text/html": [
              "<div>\n",
              "<style scoped>\n",
              "    .dataframe tbody tr th:only-of-type {\n",
              "        vertical-align: middle;\n",
              "    }\n",
              "\n",
              "    .dataframe tbody tr th {\n",
              "        vertical-align: top;\n",
              "    }\n",
              "\n",
              "    .dataframe thead th {\n",
              "        text-align: right;\n",
              "    }\n",
              "</style>\n",
              "<table border=\"1\" class=\"dataframe\">\n",
              "  <thead>\n",
              "    <tr style=\"text-align: right;\">\n",
              "      <th></th>\n",
              "      <th>distance</th>\n",
              "      <th>consume</th>\n",
              "      <th>speed</th>\n",
              "      <th>temp_inside</th>\n",
              "      <th>temp_outside</th>\n",
              "      <th>gas_type</th>\n",
              "      <th>AC</th>\n",
              "      <th>rain</th>\n",
              "      <th>sun</th>\n",
              "    </tr>\n",
              "  </thead>\n",
              "  <tbody>\n",
              "    <tr>\n",
              "      <th>0</th>\n",
              "      <td>28</td>\n",
              "      <td>5</td>\n",
              "      <td>26</td>\n",
              "      <td>21</td>\n",
              "      <td>12</td>\n",
              "      <td>0</td>\n",
              "      <td>0</td>\n",
              "      <td>0</td>\n",
              "      <td>0</td>\n",
              "    </tr>\n",
              "    <tr>\n",
              "      <th>1</th>\n",
              "      <td>12</td>\n",
              "      <td>4</td>\n",
              "      <td>30</td>\n",
              "      <td>21</td>\n",
              "      <td>13</td>\n",
              "      <td>0</td>\n",
              "      <td>0</td>\n",
              "      <td>0</td>\n",
              "      <td>0</td>\n",
              "    </tr>\n",
              "    <tr>\n",
              "      <th>2</th>\n",
              "      <td>11</td>\n",
              "      <td>5</td>\n",
              "      <td>38</td>\n",
              "      <td>21</td>\n",
              "      <td>15</td>\n",
              "      <td>0</td>\n",
              "      <td>0</td>\n",
              "      <td>0</td>\n",
              "      <td>0</td>\n",
              "    </tr>\n",
              "    <tr>\n",
              "      <th>3</th>\n",
              "      <td>12</td>\n",
              "      <td>3</td>\n",
              "      <td>36</td>\n",
              "      <td>21</td>\n",
              "      <td>14</td>\n",
              "      <td>0</td>\n",
              "      <td>0</td>\n",
              "      <td>0</td>\n",
              "      <td>0</td>\n",
              "    </tr>\n",
              "    <tr>\n",
              "      <th>4</th>\n",
              "      <td>18</td>\n",
              "      <td>4</td>\n",
              "      <td>46</td>\n",
              "      <td>21</td>\n",
              "      <td>15</td>\n",
              "      <td>0</td>\n",
              "      <td>0</td>\n",
              "      <td>0</td>\n",
              "      <td>0</td>\n",
              "    </tr>\n",
              "    <tr>\n",
              "      <th>...</th>\n",
              "      <td>...</td>\n",
              "      <td>...</td>\n",
              "      <td>...</td>\n",
              "      <td>...</td>\n",
              "      <td>...</td>\n",
              "      <td>...</td>\n",
              "      <td>...</td>\n",
              "      <td>...</td>\n",
              "      <td>...</td>\n",
              "    </tr>\n",
              "    <tr>\n",
              "      <th>383</th>\n",
              "      <td>16</td>\n",
              "      <td>3</td>\n",
              "      <td>39</td>\n",
              "      <td>24</td>\n",
              "      <td>18</td>\n",
              "      <td>1</td>\n",
              "      <td>0</td>\n",
              "      <td>0</td>\n",
              "      <td>0</td>\n",
              "    </tr>\n",
              "    <tr>\n",
              "      <th>384</th>\n",
              "      <td>16</td>\n",
              "      <td>4</td>\n",
              "      <td>38</td>\n",
              "      <td>25</td>\n",
              "      <td>31</td>\n",
              "      <td>1</td>\n",
              "      <td>1</td>\n",
              "      <td>0</td>\n",
              "      <td>0</td>\n",
              "    </tr>\n",
              "    <tr>\n",
              "      <th>385</th>\n",
              "      <td>16</td>\n",
              "      <td>3</td>\n",
              "      <td>45</td>\n",
              "      <td>25</td>\n",
              "      <td>19</td>\n",
              "      <td>1</td>\n",
              "      <td>0</td>\n",
              "      <td>0</td>\n",
              "      <td>0</td>\n",
              "    </tr>\n",
              "    <tr>\n",
              "      <th>386</th>\n",
              "      <td>15</td>\n",
              "      <td>4</td>\n",
              "      <td>42</td>\n",
              "      <td>25</td>\n",
              "      <td>31</td>\n",
              "      <td>1</td>\n",
              "      <td>1</td>\n",
              "      <td>0</td>\n",
              "      <td>0</td>\n",
              "    </tr>\n",
              "    <tr>\n",
              "      <th>387</th>\n",
              "      <td>14</td>\n",
              "      <td>5</td>\n",
              "      <td>25</td>\n",
              "      <td>25</td>\n",
              "      <td>30</td>\n",
              "      <td>1</td>\n",
              "      <td>1</td>\n",
              "      <td>0</td>\n",
              "      <td>0</td>\n",
              "    </tr>\n",
              "  </tbody>\n",
              "</table>\n",
              "<p>388 rows × 9 columns</p>\n",
              "</div>"
            ],
            "text/plain": [
              "     distance  consume  speed  temp_inside  ...  gas_type  AC  rain  sun\n",
              "0          28        5     26           21  ...         0   0     0    0\n",
              "1          12        4     30           21  ...         0   0     0    0\n",
              "2          11        5     38           21  ...         0   0     0    0\n",
              "3          12        3     36           21  ...         0   0     0    0\n",
              "4          18        4     46           21  ...         0   0     0    0\n",
              "..        ...      ...    ...          ...  ...       ...  ..   ...  ...\n",
              "383        16        3     39           24  ...         1   0     0    0\n",
              "384        16        4     38           25  ...         1   1     0    0\n",
              "385        16        3     45           25  ...         1   0     0    0\n",
              "386        15        4     42           25  ...         1   1     0    0\n",
              "387        14        5     25           25  ...         1   1     0    0\n",
              "\n",
              "[388 rows x 9 columns]"
            ]
          },
          "metadata": {
            "tags": []
          },
          "execution_count": 53
        }
      ]
    },
    {
      "cell_type": "code",
      "metadata": {
        "colab": {
          "base_uri": "https://localhost:8080/"
        },
        "id": "xRazz7iaKk-Z",
        "outputId": "606ab29b-dc18-466f-ae86-acffdc5f735e"
      },
      "source": [
        "df.info()"
      ],
      "execution_count": 54,
      "outputs": [
        {
          "output_type": "stream",
          "text": [
            "<class 'pandas.core.frame.DataFrame'>\n",
            "RangeIndex: 388 entries, 0 to 387\n",
            "Data columns (total 9 columns):\n",
            " #   Column        Non-Null Count  Dtype\n",
            "---  ------        --------------  -----\n",
            " 0   distance      388 non-null    int64\n",
            " 1   consume       388 non-null    int64\n",
            " 2   speed         388 non-null    int64\n",
            " 3   temp_inside   388 non-null    int64\n",
            " 4   temp_outside  388 non-null    int64\n",
            " 5   gas_type      388 non-null    int64\n",
            " 6   AC            388 non-null    int64\n",
            " 7   rain          388 non-null    int64\n",
            " 8   sun           388 non-null    int64\n",
            "dtypes: int64(9)\n",
            "memory usage: 27.4 KB\n"
          ],
          "name": "stdout"
        }
      ]
    },
    {
      "cell_type": "markdown",
      "metadata": {
        "id": "hqPrEgQ1M2es"
      },
      "source": [
        "Dropping consume from x and adding to y"
      ]
    },
    {
      "cell_type": "code",
      "metadata": {
        "colab": {
          "base_uri": "https://localhost:8080/"
        },
        "id": "QD1jYBavMh1j",
        "outputId": "0d7a062b-354a-48ae-b35e-6c389e6daa26"
      },
      "source": [
        "x=df.drop('consume',axis=1)\n",
        "y=df.iloc[:,1]\n",
        "y"
      ],
      "execution_count": 55,
      "outputs": [
        {
          "output_type": "execute_result",
          "data": {
            "text/plain": [
              "0      5\n",
              "1      4\n",
              "2      5\n",
              "3      3\n",
              "4      4\n",
              "      ..\n",
              "383    3\n",
              "384    4\n",
              "385    3\n",
              "386    4\n",
              "387    5\n",
              "Name: consume, Length: 388, dtype: int64"
            ]
          },
          "metadata": {
            "tags": []
          },
          "execution_count": 55
        }
      ]
    },
    {
      "cell_type": "code",
      "metadata": {
        "id": "IS9Xn5xRM11b"
      },
      "source": [
        "from sklearn.model_selection import train_test_split\n",
        "x_train,x_test,y_train,y_test=train_test_split(x,y,test_size=.20,random_state=0)"
      ],
      "execution_count": 56,
      "outputs": []
    },
    {
      "cell_type": "code",
      "metadata": {
        "id": "QkFqd52rPQVm"
      },
      "source": [
        "from sklearn.model_selection import GridSearchCV\n",
        "from sklearn.linear_model import LinearRegression, LogisticRegression\n",
        "from sklearn.neighbors import KNeighborsClassifier\n",
        "from sklearn.tree import DecisionTreeClassifier\n",
        "from sklearn.ensemble import RandomForestClassifier\n",
        "from sklearn.naive_bayes import GaussianNB\n",
        "from sklearn.svm import SVC"
      ],
      "execution_count": 57,
      "outputs": []
    },
    {
      "cell_type": "code",
      "metadata": {
        "id": "_7W3fRA3PjQd"
      },
      "source": [
        "from sklearn.preprocessing import MinMaxScaler\n",
        "mms=MinMaxScaler()\n",
        "x_trainmn=mms.fit_transform(x_train)\n",
        "x_testmn=mms.transform(x_test)\n",
        "from sklearn.preprocessing import StandardScaler\n",
        "ss=StandardScaler()\n",
        "x_trainstd=ss.fit_transform(x_train)\n",
        "x_teststd=ss.transform(x_test)\n",
        "from sklearn.decomposition import PCA\n",
        "pc=PCA(n_components=5)\n",
        "x_trainpca=pc.fit_transform(x_train)\n",
        "x_testpca=pc.transform(x_test)"
      ],
      "execution_count": 58,
      "outputs": []
    },
    {
      "cell_type": "code",
      "metadata": {
        "colab": {
          "base_uri": "https://localhost:8080/"
        },
        "id": "JQCODwBiOm6X",
        "outputId": "1bac7e10-6680-4ecc-9b96-b84d44ec8107"
      },
      "source": [
        "models = {\n",
        "    \"Linear Regression\": LinearRegression(fit_intercept=True),\n",
        "    \"KNN\": KNeighborsClassifier(),\n",
        "    \"SVM\" :SVC(),\n",
        "    \"Naive Bayes\": GaussianNB(),\n",
        "    \"Decisiontree\": DecisionTreeClassifier(),\n",
        "    \"RandomForest\": RandomForestClassifier(max_features='sqrt', random_state=5),\n",
        "    \"LogisticRegression\": LogisticRegression()\n",
        "}\n",
        "\n",
        "for model in models.items():\n",
        "    m = model[1]\n",
        "    m.fit(x_train, y_train)\n",
        "    print(model[0])\n",
        "    print(\"Score: \", m.score(x_test,y_test))\n",
        "    print(\"\")"
      ],
      "execution_count": 59,
      "outputs": [
        {
          "output_type": "stream",
          "text": [
            "Linear Regression\n",
            "Score:  0.09988189543440207\n",
            "\n",
            "KNN\n",
            "Score:  0.5256410256410257\n",
            "\n",
            "SVM\n",
            "Score:  0.5641025641025641\n",
            "\n",
            "Naive Bayes\n",
            "Score:  0.11538461538461539\n",
            "\n",
            "Decisiontree\n",
            "Score:  0.4230769230769231\n",
            "\n",
            "RandomForest\n",
            "Score:  0.5512820512820513\n",
            "\n",
            "LogisticRegression\n",
            "Score:  0.6282051282051282\n",
            "\n"
          ],
          "name": "stdout"
        },
        {
          "output_type": "stream",
          "text": [
            "/usr/local/lib/python3.7/dist-packages/sklearn/linear_model/_logistic.py:940: ConvergenceWarning: lbfgs failed to converge (status=1):\n",
            "STOP: TOTAL NO. of ITERATIONS REACHED LIMIT.\n",
            "\n",
            "Increase the number of iterations (max_iter) or scale the data as shown in:\n",
            "    https://scikit-learn.org/stable/modules/preprocessing.html\n",
            "Please also refer to the documentation for alternative solver options:\n",
            "    https://scikit-learn.org/stable/modules/linear_model.html#logistic-regression\n",
            "  extra_warning_msg=_LOGISTIC_SOLVER_CONVERGENCE_MSG)\n"
          ],
          "name": "stderr"
        }
      ]
    },
    {
      "cell_type": "markdown",
      "metadata": {
        "id": "hJpTNHXNS-7B"
      },
      "source": [
        "Logistic Regression is giving the best accuracy out of all others algorithm"
      ]
    },
    {
      "cell_type": "code",
      "metadata": {
        "colab": {
          "base_uri": "https://localhost:8080/"
        },
        "id": "4sBlsgH1TIo1",
        "outputId": "bb971e93-525a-4908-83ae-9c98fc77c7c5"
      },
      "source": [
        "#Checking test value using Logistic Regression \n",
        "from sklearn.linear_model import LinearRegression\n",
        "from sklearn import metrics\n",
        "from sklearn.metrics import mean_squared_error\n",
        "from math import sqrt\n",
        "lnr3=LogisticRegression()\n",
        "lnr3.fit(x_trainpca,y_train)\n",
        "pd3=lnr3.predict(x_testpca)\n",
        "print('Root Mean Squared Error(RMSE):', np.sqrt(metrics.mean_squared_error(y_test, pd3)))\n",
        "print('Mean Absolute Error(MAE):', metrics.mean_absolute_error(y_test, pd3))\n",
        "print('Mean Squared Error(MSE):', metrics.mean_squared_error(y_test, pd3))"
      ],
      "execution_count": 64,
      "outputs": [
        {
          "output_type": "stream",
          "text": [
            "Root Mean Squared Error(RMSE): 1.12089707663561\n",
            "Mean Absolute Error(MAE): 0.6153846153846154\n",
            "Mean Squared Error(MSE): 1.2564102564102564\n"
          ],
          "name": "stdout"
        },
        {
          "output_type": "stream",
          "text": [
            "/usr/local/lib/python3.7/dist-packages/sklearn/linear_model/_logistic.py:940: ConvergenceWarning: lbfgs failed to converge (status=1):\n",
            "STOP: TOTAL NO. of ITERATIONS REACHED LIMIT.\n",
            "\n",
            "Increase the number of iterations (max_iter) or scale the data as shown in:\n",
            "    https://scikit-learn.org/stable/modules/preprocessing.html\n",
            "Please also refer to the documentation for alternative solver options:\n",
            "    https://scikit-learn.org/stable/modules/linear_model.html#logistic-regression\n",
            "  extra_warning_msg=_LOGISTIC_SOLVER_CONVERGENCE_MSG)\n"
          ],
          "name": "stderr"
        }
      ]
    },
    {
      "cell_type": "code",
      "metadata": {
        "colab": {
          "base_uri": "https://localhost:8080/",
          "height": 279
        },
        "id": "NeiWKNAHRQIk",
        "outputId": "0e303666-6d12-4121-c884-9a47cefe025c"
      },
      "source": [
        "plt.scatter(y_test,pd3)\n",
        "plt.xlabel('Values')\n",
        "plt.ylabel('pd3')\n",
        "plt.show()"
      ],
      "execution_count": 65,
      "outputs": [
        {
          "output_type": "display_data",
          "data": {
            "image/png": "[encoded data removed]",
            "text/plain": [
              "<Figure size 432x288 with 1 Axes>"
            ]
          },
          "metadata": {
            "tags": [],
            "needs_background": "light"
          }
        }
      ]
    },
    {
      "cell_type": "code",
      "metadata": {
        "colab": {
          "base_uri": "https://localhost:8080/",
          "height": 333
        },
        "id": "i8qT5ygQTzlL",
        "outputId": "5fdf80cb-dd0f-4e4d-81c9-8f620df4243e"
      },
      "source": [
        "sns.distplot((y_test-pd3),bins=50)\n",
        "plt.show()"
      ],
      "execution_count": 68,
      "outputs": [
        {
          "output_type": "stream",
          "text": [
            "/usr/local/lib/python3.7/dist-packages/seaborn/distributions.py:2557: FutureWarning: `distplot` is a deprecated function and will be removed in a future version. Please adapt your code to use either `displot` (a figure-level function with similar flexibility) or `histplot` (an axes-level function for histograms).\n",
            "  warnings.warn(msg, FutureWarning)\n"
          ],
          "name": "stderr"
        },
        {
          "output_type": "display_data",
          "data": {
            "image/png": "[encoded data removed]",
            "text/plain": [
              "<Figure size 432x288 with 1 Axes>"
            ]
          },
          "metadata": {
            "tags": [],
            "needs_background": "light"
          }
        }
      ]
    }
  ]
}
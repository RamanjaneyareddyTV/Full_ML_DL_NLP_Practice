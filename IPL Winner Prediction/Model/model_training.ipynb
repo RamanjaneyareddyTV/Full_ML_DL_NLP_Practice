{
 "cells": [
  {
   "cell_type": "markdown",
   "metadata": {},
   "source": [
    "# IPL Winner Prediction(Training model)"
   ]
  },
  {
   "cell_type": "code",
   "execution_count": 1,
   "metadata": {},
   "outputs": [],
   "source": [
    "import pandas as pd\n",
    "import numpy as np\n",
    "import matplotlib.pyplot as plt\n",
    "import seaborn as sns"
   ]
  },
  {
   "cell_type": "code",
   "execution_count": 2,
   "metadata": {},
   "outputs": [],
   "source": [
    "df = pd.read_excel(r'C:\\Users\\KIIT\\Documents\\LGM-Soc contributions\\IPL Winner Prediction\\Dataset/dataset.xlsx')"
   ]
  },
  {
   "cell_type": "markdown",
   "metadata": {},
   "source": [
    "### Loading dataset"
   ]
  },
  {
   "cell_type": "code",
   "execution_count": 3,
   "metadata": {},
   "outputs": [
    {
     "data": {
      "text/html": [
       "<div>\n",
       "<style scoped>\n",
       "    .dataframe tbody tr th:only-of-type {\n",
       "        vertical-align: middle;\n",
       "    }\n",
       "\n",
       "    .dataframe tbody tr th {\n",
       "        vertical-align: top;\n",
       "    }\n",
       "\n",
       "    .dataframe thead th {\n",
       "        text-align: right;\n",
       "    }\n",
       "</style>\n",
       "<table border=\"1\" class=\"dataframe\">\n",
       "  <thead>\n",
       "    <tr style=\"text-align: right;\">\n",
       "      <th></th>\n",
       "      <th>Match ID</th>\n",
       "      <th>Match Date</th>\n",
       "      <th>Neutrality</th>\n",
       "      <th>First Team</th>\n",
       "      <th>Second Team</th>\n",
       "      <th>Winner of Toss</th>\n",
       "      <th>Toss Decision</th>\n",
       "      <th>Match Winner</th>\n",
       "      <th>Win Basis</th>\n",
       "      <th>Margin of Win</th>\n",
       "      <th>Eliminator ?</th>\n",
       "      <th>Type of Elimination</th>\n",
       "    </tr>\n",
       "  </thead>\n",
       "  <tbody>\n",
       "    <tr>\n",
       "      <th>0</th>\n",
       "      <td>1201</td>\n",
       "      <td>2012-04-17</td>\n",
       "      <td>0</td>\n",
       "      <td>Royal Challengers Bangalore</td>\n",
       "      <td>Pune Warriors</td>\n",
       "      <td>Pune Warriors</td>\n",
       "      <td>bat</td>\n",
       "      <td>Royal Challengers Bangalore</td>\n",
       "      <td>wickets</td>\n",
       "      <td>6.0</td>\n",
       "      <td>N</td>\n",
       "      <td>NaN</td>\n",
       "    </tr>\n",
       "    <tr>\n",
       "      <th>1</th>\n",
       "      <td>1202</td>\n",
       "      <td>2019-04-01</td>\n",
       "      <td>0</td>\n",
       "      <td>Kings XI Punjab</td>\n",
       "      <td>Delhi Capitals</td>\n",
       "      <td>Delhi Capitals</td>\n",
       "      <td>field</td>\n",
       "      <td>Kings XI Punjab</td>\n",
       "      <td>runs</td>\n",
       "      <td>14.0</td>\n",
       "      <td>N</td>\n",
       "      <td>NaN</td>\n",
       "    </tr>\n",
       "    <tr>\n",
       "      <th>2</th>\n",
       "      <td>1203</td>\n",
       "      <td>2019-04-13</td>\n",
       "      <td>0</td>\n",
       "      <td>Mumbai Indians</td>\n",
       "      <td>Rajasthan Royals</td>\n",
       "      <td>Rajasthan Royals</td>\n",
       "      <td>field</td>\n",
       "      <td>Rajasthan Royals</td>\n",
       "      <td>wickets</td>\n",
       "      <td>4.0</td>\n",
       "      <td>N</td>\n",
       "      <td>NaN</td>\n",
       "    </tr>\n",
       "    <tr>\n",
       "      <th>3</th>\n",
       "      <td>1204</td>\n",
       "      <td>2010-04-04</td>\n",
       "      <td>0</td>\n",
       "      <td>Delhi Daredevils</td>\n",
       "      <td>Royal Challengers Bangalore</td>\n",
       "      <td>Delhi Daredevils</td>\n",
       "      <td>bat</td>\n",
       "      <td>Delhi Daredevils</td>\n",
       "      <td>runs</td>\n",
       "      <td>37.0</td>\n",
       "      <td>N</td>\n",
       "      <td>NaN</td>\n",
       "    </tr>\n",
       "    <tr>\n",
       "      <th>4</th>\n",
       "      <td>1205</td>\n",
       "      <td>2017-05-21</td>\n",
       "      <td>0</td>\n",
       "      <td>Mumbai Indians</td>\n",
       "      <td>Rising Pune Supergiant</td>\n",
       "      <td>Mumbai Indians</td>\n",
       "      <td>bat</td>\n",
       "      <td>Mumbai Indians</td>\n",
       "      <td>runs</td>\n",
       "      <td>1.0</td>\n",
       "      <td>N</td>\n",
       "      <td>NaN</td>\n",
       "    </tr>\n",
       "    <tr>\n",
       "      <th>...</th>\n",
       "      <td>...</td>\n",
       "      <td>...</td>\n",
       "      <td>...</td>\n",
       "      <td>...</td>\n",
       "      <td>...</td>\n",
       "      <td>...</td>\n",
       "      <td>...</td>\n",
       "      <td>...</td>\n",
       "      <td>...</td>\n",
       "      <td>...</td>\n",
       "      <td>...</td>\n",
       "      <td>...</td>\n",
       "    </tr>\n",
       "    <tr>\n",
       "      <th>811</th>\n",
       "      <td>2012</td>\n",
       "      <td>2012-04-15</td>\n",
       "      <td>0</td>\n",
       "      <td>Royal Challengers Bangalore</td>\n",
       "      <td>Rajasthan Royals</td>\n",
       "      <td>Rajasthan Royals</td>\n",
       "      <td>bat</td>\n",
       "      <td>Rajasthan Royals</td>\n",
       "      <td>runs</td>\n",
       "      <td>59.0</td>\n",
       "      <td>N</td>\n",
       "      <td>NaN</td>\n",
       "    </tr>\n",
       "    <tr>\n",
       "      <th>812</th>\n",
       "      <td>2013</td>\n",
       "      <td>2017-05-07</td>\n",
       "      <td>0</td>\n",
       "      <td>Royal Challengers Bangalore</td>\n",
       "      <td>Kolkata Knight Riders</td>\n",
       "      <td>Kolkata Knight Riders</td>\n",
       "      <td>field</td>\n",
       "      <td>Kolkata Knight Riders</td>\n",
       "      <td>wickets</td>\n",
       "      <td>6.0</td>\n",
       "      <td>N</td>\n",
       "      <td>NaN</td>\n",
       "    </tr>\n",
       "    <tr>\n",
       "      <th>813</th>\n",
       "      <td>2014</td>\n",
       "      <td>2015-04-17</td>\n",
       "      <td>0</td>\n",
       "      <td>Mumbai Indians</td>\n",
       "      <td>Chennai Super Kings</td>\n",
       "      <td>Mumbai Indians</td>\n",
       "      <td>bat</td>\n",
       "      <td>Chennai Super Kings</td>\n",
       "      <td>wickets</td>\n",
       "      <td>6.0</td>\n",
       "      <td>N</td>\n",
       "      <td>NaN</td>\n",
       "    </tr>\n",
       "    <tr>\n",
       "      <th>814</th>\n",
       "      <td>2015</td>\n",
       "      <td>2015-04-08</td>\n",
       "      <td>0</td>\n",
       "      <td>Kolkata Knight Riders</td>\n",
       "      <td>Mumbai Indians</td>\n",
       "      <td>Kolkata Knight Riders</td>\n",
       "      <td>field</td>\n",
       "      <td>Kolkata Knight Riders</td>\n",
       "      <td>wickets</td>\n",
       "      <td>7.0</td>\n",
       "      <td>N</td>\n",
       "      <td>NaN</td>\n",
       "    </tr>\n",
       "    <tr>\n",
       "      <th>815</th>\n",
       "      <td>2016</td>\n",
       "      <td>2010-04-11</td>\n",
       "      <td>0</td>\n",
       "      <td>Rajasthan Royals</td>\n",
       "      <td>Mumbai Indians</td>\n",
       "      <td>Rajasthan Royals</td>\n",
       "      <td>field</td>\n",
       "      <td>Mumbai Indians</td>\n",
       "      <td>runs</td>\n",
       "      <td>37.0</td>\n",
       "      <td>N</td>\n",
       "      <td>NaN</td>\n",
       "    </tr>\n",
       "  </tbody>\n",
       "</table>\n",
       "<p>816 rows × 12 columns</p>\n",
       "</div>"
      ],
      "text/plain": [
       "     Match ID  Match Date  Neutrality                   First Team  \\\n",
       "0        1201  2012-04-17           0  Royal Challengers Bangalore   \n",
       "1        1202  2019-04-01           0              Kings XI Punjab   \n",
       "2        1203  2019-04-13           0               Mumbai Indians   \n",
       "3        1204  2010-04-04           0             Delhi Daredevils   \n",
       "4        1205  2017-05-21           0               Mumbai Indians   \n",
       "..        ...         ...         ...                          ...   \n",
       "811      2012  2012-04-15           0  Royal Challengers Bangalore   \n",
       "812      2013  2017-05-07           0  Royal Challengers Bangalore   \n",
       "813      2014  2015-04-17           0               Mumbai Indians   \n",
       "814      2015  2015-04-08           0        Kolkata Knight Riders   \n",
       "815      2016  2010-04-11           0             Rajasthan Royals   \n",
       "\n",
       "                     Second Team         Winner of Toss Toss Decision  \\\n",
       "0                  Pune Warriors          Pune Warriors           bat   \n",
       "1                 Delhi Capitals         Delhi Capitals         field   \n",
       "2               Rajasthan Royals       Rajasthan Royals         field   \n",
       "3    Royal Challengers Bangalore       Delhi Daredevils           bat   \n",
       "4         Rising Pune Supergiant         Mumbai Indians           bat   \n",
       "..                           ...                    ...           ...   \n",
       "811             Rajasthan Royals       Rajasthan Royals           bat   \n",
       "812        Kolkata Knight Riders  Kolkata Knight Riders         field   \n",
       "813          Chennai Super Kings         Mumbai Indians           bat   \n",
       "814               Mumbai Indians  Kolkata Knight Riders         field   \n",
       "815               Mumbai Indians       Rajasthan Royals         field   \n",
       "\n",
       "                    Match Winner Win Basis  Margin of Win Eliminator ?  \\\n",
       "0    Royal Challengers Bangalore   wickets            6.0            N   \n",
       "1                Kings XI Punjab      runs           14.0            N   \n",
       "2               Rajasthan Royals   wickets            4.0            N   \n",
       "3               Delhi Daredevils      runs           37.0            N   \n",
       "4                 Mumbai Indians      runs            1.0            N   \n",
       "..                           ...       ...            ...          ...   \n",
       "811             Rajasthan Royals      runs           59.0            N   \n",
       "812        Kolkata Knight Riders   wickets            6.0            N   \n",
       "813          Chennai Super Kings   wickets            6.0            N   \n",
       "814        Kolkata Knight Riders   wickets            7.0            N   \n",
       "815               Mumbai Indians      runs           37.0            N   \n",
       "\n",
       "    Type of Elimination  \n",
       "0                   NaN  \n",
       "1                   NaN  \n",
       "2                   NaN  \n",
       "3                   NaN  \n",
       "4                   NaN  \n",
       "..                  ...  \n",
       "811                 NaN  \n",
       "812                 NaN  \n",
       "813                 NaN  \n",
       "814                 NaN  \n",
       "815                 NaN  \n",
       "\n",
       "[816 rows x 12 columns]"
      ]
     },
     "execution_count": 3,
     "metadata": {},
     "output_type": "execute_result"
    }
   ],
   "source": [
    "df"
   ]
  },
  {
   "cell_type": "code",
   "execution_count": 4,
   "metadata": {},
   "outputs": [
    {
     "name": "stdout",
     "output_type": "stream",
     "text": [
      "Royal Challengers Bangalore\n",
      "Kings XI Punjab\n",
      "Mumbai Indians\n",
      "Delhi Daredevils\n",
      "Chennai Super Kings\n",
      "Kolkata Knight Riders\n",
      "Sunrisers Hyderabad\n",
      "Rajasthan Royals\n",
      "Delhi Capitals\n",
      "Gujarat Lions\n",
      "Rising Pune Supergiants\n",
      "Pune Warriors\n",
      "Deccan Chargers\n",
      "Rising Pune Supergiant\n",
      "Kochi Tuskers Kerala\n"
     ]
    }
   ],
   "source": [
    "for teams in df['First Team'].unique():\n",
    "    print(teams)"
   ]
  },
  {
   "cell_type": "markdown",
   "metadata": {},
   "source": [
    "### Replacing with proper team names"
   ]
  },
  {
   "cell_type": "code",
   "execution_count": 5,
   "metadata": {},
   "outputs": [],
   "source": [
    "df.replace(\"Rising Pune Supergiant\",\"Rising Pune Supergiants\", inplace=True)\n",
    "df.replace('Deccan Chargers', 'Sunrisers Hyderabad', inplace=True)\n",
    "df.replace('Delhi Daredevils', 'Delhi Capitals', inplace=True)"
   ]
  },
  {
   "cell_type": "code",
   "execution_count": 6,
   "metadata": {},
   "outputs": [
    {
     "name": "stdout",
     "output_type": "stream",
     "text": [
      "<class 'pandas.core.frame.DataFrame'>\n",
      "RangeIndex: 816 entries, 0 to 815\n",
      "Data columns (total 12 columns):\n",
      " #   Column               Non-Null Count  Dtype  \n",
      "---  ------               --------------  -----  \n",
      " 0   Match ID             816 non-null    int64  \n",
      " 1   Match Date           816 non-null    object \n",
      " 2   Neutrality           816 non-null    int64  \n",
      " 3   First Team           816 non-null    object \n",
      " 4   Second Team          816 non-null    object \n",
      " 5   Winner of Toss       816 non-null    object \n",
      " 6   Toss Decision        816 non-null    object \n",
      " 7   Match Winner         812 non-null    object \n",
      " 8   Win Basis            812 non-null    object \n",
      " 9   Margin of Win        799 non-null    float64\n",
      " 10  Eliminator ?         812 non-null    object \n",
      " 11  Type of Elimination  19 non-null     object \n",
      "dtypes: float64(1), int64(2), object(9)\n",
      "memory usage: 76.6+ KB\n"
     ]
    }
   ],
   "source": [
    "df.info()"
   ]
  },
  {
   "cell_type": "code",
   "execution_count": 7,
   "metadata": {},
   "outputs": [
    {
     "data": {
      "text/plain": [
       "Match ID                 int64\n",
       "Match Date              object\n",
       "Neutrality               int64\n",
       "First Team              object\n",
       "Second Team             object\n",
       "Winner of Toss          object\n",
       "Toss Decision           object\n",
       "Match Winner            object\n",
       "Win Basis               object\n",
       "Margin of Win          float64\n",
       "Eliminator ?            object\n",
       "Type of Elimination     object\n",
       "dtype: object"
      ]
     },
     "execution_count": 7,
     "metadata": {},
     "output_type": "execute_result"
    }
   ],
   "source": [
    "df.dtypes"
   ]
  },
  {
   "cell_type": "markdown",
   "metadata": {},
   "source": [
    "### Renaming the Eliminator Column"
   ]
  },
  {
   "cell_type": "code",
   "execution_count": 8,
   "metadata": {},
   "outputs": [],
   "source": [
    "df = df.rename(columns = {\"Eliminator ?\":\"Eliminator\"})"
   ]
  },
  {
   "cell_type": "markdown",
   "metadata": {},
   "source": [
    "### Filling null values wirh median value"
   ]
  },
  {
   "cell_type": "code",
   "execution_count": 9,
   "metadata": {},
   "outputs": [],
   "source": [
    "df = df.fillna(df.median())"
   ]
  },
  {
   "cell_type": "code",
   "execution_count": 10,
   "metadata": {},
   "outputs": [],
   "source": [
    "df.drop(['Type of Elimination'],axis=1,inplace=True)\n",
    "df.dropna(inplace=True)"
   ]
  },
  {
   "cell_type": "code",
   "execution_count": 11,
   "metadata": {},
   "outputs": [
    {
     "data": {
      "text/plain": [
       "Match ID          0\n",
       "Match Date        0\n",
       "Neutrality        0\n",
       "First Team        0\n",
       "Second Team       0\n",
       "Winner of Toss    0\n",
       "Toss Decision     0\n",
       "Match Winner      0\n",
       "Win Basis         0\n",
       "Margin of Win     0\n",
       "Eliminator        0\n",
       "dtype: int64"
      ]
     },
     "execution_count": 11,
     "metadata": {},
     "output_type": "execute_result"
    }
   ],
   "source": [
    "df.isnull().sum()"
   ]
  },
  {
   "cell_type": "code",
   "execution_count": 12,
   "metadata": {},
   "outputs": [
    {
     "data": {
      "text/html": [
       "<div>\n",
       "<style scoped>\n",
       "    .dataframe tbody tr th:only-of-type {\n",
       "        vertical-align: middle;\n",
       "    }\n",
       "\n",
       "    .dataframe tbody tr th {\n",
       "        vertical-align: top;\n",
       "    }\n",
       "\n",
       "    .dataframe thead th {\n",
       "        text-align: right;\n",
       "    }\n",
       "</style>\n",
       "<table border=\"1\" class=\"dataframe\">\n",
       "  <thead>\n",
       "    <tr style=\"text-align: right;\">\n",
       "      <th></th>\n",
       "      <th>Match ID</th>\n",
       "      <th>Match Date</th>\n",
       "      <th>Neutrality</th>\n",
       "      <th>First Team</th>\n",
       "      <th>Second Team</th>\n",
       "      <th>Winner of Toss</th>\n",
       "      <th>Toss Decision</th>\n",
       "      <th>Match Winner</th>\n",
       "      <th>Win Basis</th>\n",
       "      <th>Margin of Win</th>\n",
       "      <th>Eliminator</th>\n",
       "    </tr>\n",
       "  </thead>\n",
       "  <tbody>\n",
       "    <tr>\n",
       "      <th>0</th>\n",
       "      <td>1201</td>\n",
       "      <td>2012-04-17</td>\n",
       "      <td>0</td>\n",
       "      <td>Royal Challengers Bangalore</td>\n",
       "      <td>Pune Warriors</td>\n",
       "      <td>Pune Warriors</td>\n",
       "      <td>bat</td>\n",
       "      <td>Royal Challengers Bangalore</td>\n",
       "      <td>wickets</td>\n",
       "      <td>6.0</td>\n",
       "      <td>N</td>\n",
       "    </tr>\n",
       "    <tr>\n",
       "      <th>1</th>\n",
       "      <td>1202</td>\n",
       "      <td>2019-04-01</td>\n",
       "      <td>0</td>\n",
       "      <td>Kings XI Punjab</td>\n",
       "      <td>Delhi Capitals</td>\n",
       "      <td>Delhi Capitals</td>\n",
       "      <td>field</td>\n",
       "      <td>Kings XI Punjab</td>\n",
       "      <td>runs</td>\n",
       "      <td>14.0</td>\n",
       "      <td>N</td>\n",
       "    </tr>\n",
       "    <tr>\n",
       "      <th>2</th>\n",
       "      <td>1203</td>\n",
       "      <td>2019-04-13</td>\n",
       "      <td>0</td>\n",
       "      <td>Mumbai Indians</td>\n",
       "      <td>Rajasthan Royals</td>\n",
       "      <td>Rajasthan Royals</td>\n",
       "      <td>field</td>\n",
       "      <td>Rajasthan Royals</td>\n",
       "      <td>wickets</td>\n",
       "      <td>4.0</td>\n",
       "      <td>N</td>\n",
       "    </tr>\n",
       "    <tr>\n",
       "      <th>3</th>\n",
       "      <td>1204</td>\n",
       "      <td>2010-04-04</td>\n",
       "      <td>0</td>\n",
       "      <td>Delhi Capitals</td>\n",
       "      <td>Royal Challengers Bangalore</td>\n",
       "      <td>Delhi Capitals</td>\n",
       "      <td>bat</td>\n",
       "      <td>Delhi Capitals</td>\n",
       "      <td>runs</td>\n",
       "      <td>37.0</td>\n",
       "      <td>N</td>\n",
       "    </tr>\n",
       "    <tr>\n",
       "      <th>4</th>\n",
       "      <td>1205</td>\n",
       "      <td>2017-05-21</td>\n",
       "      <td>0</td>\n",
       "      <td>Mumbai Indians</td>\n",
       "      <td>Rising Pune Supergiants</td>\n",
       "      <td>Mumbai Indians</td>\n",
       "      <td>bat</td>\n",
       "      <td>Mumbai Indians</td>\n",
       "      <td>runs</td>\n",
       "      <td>1.0</td>\n",
       "      <td>N</td>\n",
       "    </tr>\n",
       "  </tbody>\n",
       "</table>\n",
       "</div>"
      ],
      "text/plain": [
       "   Match ID  Match Date  Neutrality                   First Team  \\\n",
       "0      1201  2012-04-17           0  Royal Challengers Bangalore   \n",
       "1      1202  2019-04-01           0              Kings XI Punjab   \n",
       "2      1203  2019-04-13           0               Mumbai Indians   \n",
       "3      1204  2010-04-04           0               Delhi Capitals   \n",
       "4      1205  2017-05-21           0               Mumbai Indians   \n",
       "\n",
       "                   Second Team    Winner of Toss Toss Decision  \\\n",
       "0                Pune Warriors     Pune Warriors           bat   \n",
       "1               Delhi Capitals    Delhi Capitals         field   \n",
       "2             Rajasthan Royals  Rajasthan Royals         field   \n",
       "3  Royal Challengers Bangalore    Delhi Capitals           bat   \n",
       "4      Rising Pune Supergiants    Mumbai Indians           bat   \n",
       "\n",
       "                  Match Winner Win Basis  Margin of Win Eliminator  \n",
       "0  Royal Challengers Bangalore   wickets            6.0          N  \n",
       "1              Kings XI Punjab      runs           14.0          N  \n",
       "2             Rajasthan Royals   wickets            4.0          N  \n",
       "3               Delhi Capitals      runs           37.0          N  \n",
       "4               Mumbai Indians      runs            1.0          N  "
      ]
     },
     "execution_count": 12,
     "metadata": {},
     "output_type": "execute_result"
    }
   ],
   "source": [
    "df.head()"
   ]
  },
  {
   "cell_type": "markdown",
   "metadata": {},
   "source": [
    "### Changing into Datetime format"
   ]
  },
  {
   "cell_type": "code",
   "execution_count": 13,
   "metadata": {},
   "outputs": [],
   "source": [
    "def change_into_datetime(col):\n",
    "    df[col] = pd.to_datetime(df[col])"
   ]
  },
  {
   "cell_type": "code",
   "execution_count": 14,
   "metadata": {},
   "outputs": [],
   "source": [
    "for i in ['Match Date']:\n",
    "    change_into_datetime(i)"
   ]
  },
  {
   "cell_type": "code",
   "execution_count": 15,
   "metadata": {},
   "outputs": [],
   "source": [
    "df['Match_date'] = df['Match Date'].dt.day\n",
    "df['Match_month'] = df['Match Date'].dt.month\n",
    "df['Match_season'] = df['Match Date'].dt.year"
   ]
  },
  {
   "cell_type": "code",
   "execution_count": 16,
   "metadata": {},
   "outputs": [
    {
     "data": {
      "text/html": [
       "<div>\n",
       "<style scoped>\n",
       "    .dataframe tbody tr th:only-of-type {\n",
       "        vertical-align: middle;\n",
       "    }\n",
       "\n",
       "    .dataframe tbody tr th {\n",
       "        vertical-align: top;\n",
       "    }\n",
       "\n",
       "    .dataframe thead th {\n",
       "        text-align: right;\n",
       "    }\n",
       "</style>\n",
       "<table border=\"1\" class=\"dataframe\">\n",
       "  <thead>\n",
       "    <tr style=\"text-align: right;\">\n",
       "      <th></th>\n",
       "      <th>Match ID</th>\n",
       "      <th>Match Date</th>\n",
       "      <th>Neutrality</th>\n",
       "      <th>First Team</th>\n",
       "      <th>Second Team</th>\n",
       "      <th>Winner of Toss</th>\n",
       "      <th>Toss Decision</th>\n",
       "      <th>Match Winner</th>\n",
       "      <th>Win Basis</th>\n",
       "      <th>Margin of Win</th>\n",
       "      <th>Eliminator</th>\n",
       "      <th>Match_date</th>\n",
       "      <th>Match_month</th>\n",
       "      <th>Match_season</th>\n",
       "    </tr>\n",
       "  </thead>\n",
       "  <tbody>\n",
       "    <tr>\n",
       "      <th>0</th>\n",
       "      <td>1201</td>\n",
       "      <td>2012-04-17</td>\n",
       "      <td>0</td>\n",
       "      <td>Royal Challengers Bangalore</td>\n",
       "      <td>Pune Warriors</td>\n",
       "      <td>Pune Warriors</td>\n",
       "      <td>bat</td>\n",
       "      <td>Royal Challengers Bangalore</td>\n",
       "      <td>wickets</td>\n",
       "      <td>6.0</td>\n",
       "      <td>N</td>\n",
       "      <td>17</td>\n",
       "      <td>4</td>\n",
       "      <td>2012</td>\n",
       "    </tr>\n",
       "    <tr>\n",
       "      <th>1</th>\n",
       "      <td>1202</td>\n",
       "      <td>2019-04-01</td>\n",
       "      <td>0</td>\n",
       "      <td>Kings XI Punjab</td>\n",
       "      <td>Delhi Capitals</td>\n",
       "      <td>Delhi Capitals</td>\n",
       "      <td>field</td>\n",
       "      <td>Kings XI Punjab</td>\n",
       "      <td>runs</td>\n",
       "      <td>14.0</td>\n",
       "      <td>N</td>\n",
       "      <td>1</td>\n",
       "      <td>4</td>\n",
       "      <td>2019</td>\n",
       "    </tr>\n",
       "    <tr>\n",
       "      <th>2</th>\n",
       "      <td>1203</td>\n",
       "      <td>2019-04-13</td>\n",
       "      <td>0</td>\n",
       "      <td>Mumbai Indians</td>\n",
       "      <td>Rajasthan Royals</td>\n",
       "      <td>Rajasthan Royals</td>\n",
       "      <td>field</td>\n",
       "      <td>Rajasthan Royals</td>\n",
       "      <td>wickets</td>\n",
       "      <td>4.0</td>\n",
       "      <td>N</td>\n",
       "      <td>13</td>\n",
       "      <td>4</td>\n",
       "      <td>2019</td>\n",
       "    </tr>\n",
       "    <tr>\n",
       "      <th>3</th>\n",
       "      <td>1204</td>\n",
       "      <td>2010-04-04</td>\n",
       "      <td>0</td>\n",
       "      <td>Delhi Capitals</td>\n",
       "      <td>Royal Challengers Bangalore</td>\n",
       "      <td>Delhi Capitals</td>\n",
       "      <td>bat</td>\n",
       "      <td>Delhi Capitals</td>\n",
       "      <td>runs</td>\n",
       "      <td>37.0</td>\n",
       "      <td>N</td>\n",
       "      <td>4</td>\n",
       "      <td>4</td>\n",
       "      <td>2010</td>\n",
       "    </tr>\n",
       "    <tr>\n",
       "      <th>4</th>\n",
       "      <td>1205</td>\n",
       "      <td>2017-05-21</td>\n",
       "      <td>0</td>\n",
       "      <td>Mumbai Indians</td>\n",
       "      <td>Rising Pune Supergiants</td>\n",
       "      <td>Mumbai Indians</td>\n",
       "      <td>bat</td>\n",
       "      <td>Mumbai Indians</td>\n",
       "      <td>runs</td>\n",
       "      <td>1.0</td>\n",
       "      <td>N</td>\n",
       "      <td>21</td>\n",
       "      <td>5</td>\n",
       "      <td>2017</td>\n",
       "    </tr>\n",
       "    <tr>\n",
       "      <th>...</th>\n",
       "      <td>...</td>\n",
       "      <td>...</td>\n",
       "      <td>...</td>\n",
       "      <td>...</td>\n",
       "      <td>...</td>\n",
       "      <td>...</td>\n",
       "      <td>...</td>\n",
       "      <td>...</td>\n",
       "      <td>...</td>\n",
       "      <td>...</td>\n",
       "      <td>...</td>\n",
       "      <td>...</td>\n",
       "      <td>...</td>\n",
       "      <td>...</td>\n",
       "    </tr>\n",
       "    <tr>\n",
       "      <th>811</th>\n",
       "      <td>2012</td>\n",
       "      <td>2012-04-15</td>\n",
       "      <td>0</td>\n",
       "      <td>Royal Challengers Bangalore</td>\n",
       "      <td>Rajasthan Royals</td>\n",
       "      <td>Rajasthan Royals</td>\n",
       "      <td>bat</td>\n",
       "      <td>Rajasthan Royals</td>\n",
       "      <td>runs</td>\n",
       "      <td>59.0</td>\n",
       "      <td>N</td>\n",
       "      <td>15</td>\n",
       "      <td>4</td>\n",
       "      <td>2012</td>\n",
       "    </tr>\n",
       "    <tr>\n",
       "      <th>812</th>\n",
       "      <td>2013</td>\n",
       "      <td>2017-05-07</td>\n",
       "      <td>0</td>\n",
       "      <td>Royal Challengers Bangalore</td>\n",
       "      <td>Kolkata Knight Riders</td>\n",
       "      <td>Kolkata Knight Riders</td>\n",
       "      <td>field</td>\n",
       "      <td>Kolkata Knight Riders</td>\n",
       "      <td>wickets</td>\n",
       "      <td>6.0</td>\n",
       "      <td>N</td>\n",
       "      <td>7</td>\n",
       "      <td>5</td>\n",
       "      <td>2017</td>\n",
       "    </tr>\n",
       "    <tr>\n",
       "      <th>813</th>\n",
       "      <td>2014</td>\n",
       "      <td>2015-04-17</td>\n",
       "      <td>0</td>\n",
       "      <td>Mumbai Indians</td>\n",
       "      <td>Chennai Super Kings</td>\n",
       "      <td>Mumbai Indians</td>\n",
       "      <td>bat</td>\n",
       "      <td>Chennai Super Kings</td>\n",
       "      <td>wickets</td>\n",
       "      <td>6.0</td>\n",
       "      <td>N</td>\n",
       "      <td>17</td>\n",
       "      <td>4</td>\n",
       "      <td>2015</td>\n",
       "    </tr>\n",
       "    <tr>\n",
       "      <th>814</th>\n",
       "      <td>2015</td>\n",
       "      <td>2015-04-08</td>\n",
       "      <td>0</td>\n",
       "      <td>Kolkata Knight Riders</td>\n",
       "      <td>Mumbai Indians</td>\n",
       "      <td>Kolkata Knight Riders</td>\n",
       "      <td>field</td>\n",
       "      <td>Kolkata Knight Riders</td>\n",
       "      <td>wickets</td>\n",
       "      <td>7.0</td>\n",
       "      <td>N</td>\n",
       "      <td>8</td>\n",
       "      <td>4</td>\n",
       "      <td>2015</td>\n",
       "    </tr>\n",
       "    <tr>\n",
       "      <th>815</th>\n",
       "      <td>2016</td>\n",
       "      <td>2010-04-11</td>\n",
       "      <td>0</td>\n",
       "      <td>Rajasthan Royals</td>\n",
       "      <td>Mumbai Indians</td>\n",
       "      <td>Rajasthan Royals</td>\n",
       "      <td>field</td>\n",
       "      <td>Mumbai Indians</td>\n",
       "      <td>runs</td>\n",
       "      <td>37.0</td>\n",
       "      <td>N</td>\n",
       "      <td>11</td>\n",
       "      <td>4</td>\n",
       "      <td>2010</td>\n",
       "    </tr>\n",
       "  </tbody>\n",
       "</table>\n",
       "<p>812 rows × 14 columns</p>\n",
       "</div>"
      ],
      "text/plain": [
       "     Match ID Match Date  Neutrality                   First Team  \\\n",
       "0        1201 2012-04-17           0  Royal Challengers Bangalore   \n",
       "1        1202 2019-04-01           0              Kings XI Punjab   \n",
       "2        1203 2019-04-13           0               Mumbai Indians   \n",
       "3        1204 2010-04-04           0               Delhi Capitals   \n",
       "4        1205 2017-05-21           0               Mumbai Indians   \n",
       "..        ...        ...         ...                          ...   \n",
       "811      2012 2012-04-15           0  Royal Challengers Bangalore   \n",
       "812      2013 2017-05-07           0  Royal Challengers Bangalore   \n",
       "813      2014 2015-04-17           0               Mumbai Indians   \n",
       "814      2015 2015-04-08           0        Kolkata Knight Riders   \n",
       "815      2016 2010-04-11           0             Rajasthan Royals   \n",
       "\n",
       "                     Second Team         Winner of Toss Toss Decision  \\\n",
       "0                  Pune Warriors          Pune Warriors           bat   \n",
       "1                 Delhi Capitals         Delhi Capitals         field   \n",
       "2               Rajasthan Royals       Rajasthan Royals         field   \n",
       "3    Royal Challengers Bangalore         Delhi Capitals           bat   \n",
       "4        Rising Pune Supergiants         Mumbai Indians           bat   \n",
       "..                           ...                    ...           ...   \n",
       "811             Rajasthan Royals       Rajasthan Royals           bat   \n",
       "812        Kolkata Knight Riders  Kolkata Knight Riders         field   \n",
       "813          Chennai Super Kings         Mumbai Indians           bat   \n",
       "814               Mumbai Indians  Kolkata Knight Riders         field   \n",
       "815               Mumbai Indians       Rajasthan Royals         field   \n",
       "\n",
       "                    Match Winner Win Basis  Margin of Win Eliminator  \\\n",
       "0    Royal Challengers Bangalore   wickets            6.0          N   \n",
       "1                Kings XI Punjab      runs           14.0          N   \n",
       "2               Rajasthan Royals   wickets            4.0          N   \n",
       "3                 Delhi Capitals      runs           37.0          N   \n",
       "4                 Mumbai Indians      runs            1.0          N   \n",
       "..                           ...       ...            ...        ...   \n",
       "811             Rajasthan Royals      runs           59.0          N   \n",
       "812        Kolkata Knight Riders   wickets            6.0          N   \n",
       "813          Chennai Super Kings   wickets            6.0          N   \n",
       "814        Kolkata Knight Riders   wickets            7.0          N   \n",
       "815               Mumbai Indians      runs           37.0          N   \n",
       "\n",
       "     Match_date  Match_month  Match_season  \n",
       "0            17            4          2012  \n",
       "1             1            4          2019  \n",
       "2            13            4          2019  \n",
       "3             4            4          2010  \n",
       "4            21            5          2017  \n",
       "..          ...          ...           ...  \n",
       "811          15            4          2012  \n",
       "812           7            5          2017  \n",
       "813          17            4          2015  \n",
       "814           8            4          2015  \n",
       "815          11            4          2010  \n",
       "\n",
       "[812 rows x 14 columns]"
      ]
     },
     "execution_count": 16,
     "metadata": {},
     "output_type": "execute_result"
    }
   ],
   "source": [
    "df"
   ]
  },
  {
   "cell_type": "markdown",
   "metadata": {},
   "source": [
    "### Replacing team names with codes"
   ]
  },
  {
   "cell_type": "code",
   "execution_count": 17,
   "metadata": {},
   "outputs": [
    {
     "data": {
      "text/html": [
       "<div>\n",
       "<style scoped>\n",
       "    .dataframe tbody tr th:only-of-type {\n",
       "        vertical-align: middle;\n",
       "    }\n",
       "\n",
       "    .dataframe tbody tr th {\n",
       "        vertical-align: top;\n",
       "    }\n",
       "\n",
       "    .dataframe thead th {\n",
       "        text-align: right;\n",
       "    }\n",
       "</style>\n",
       "<table border=\"1\" class=\"dataframe\">\n",
       "  <thead>\n",
       "    <tr style=\"text-align: right;\">\n",
       "      <th></th>\n",
       "      <th>Match ID</th>\n",
       "      <th>Match Date</th>\n",
       "      <th>Neutrality</th>\n",
       "      <th>First Team</th>\n",
       "      <th>Second Team</th>\n",
       "      <th>Winner of Toss</th>\n",
       "      <th>Toss Decision</th>\n",
       "      <th>Match Winner</th>\n",
       "      <th>Win Basis</th>\n",
       "      <th>Margin of Win</th>\n",
       "      <th>Eliminator</th>\n",
       "      <th>Match_date</th>\n",
       "      <th>Match_month</th>\n",
       "      <th>Match_season</th>\n",
       "    </tr>\n",
       "  </thead>\n",
       "  <tbody>\n",
       "    <tr>\n",
       "      <th>0</th>\n",
       "      <td>1201</td>\n",
       "      <td>2012-04-17</td>\n",
       "      <td>0</td>\n",
       "      <td>RCB</td>\n",
       "      <td>PW</td>\n",
       "      <td>PW</td>\n",
       "      <td>bat</td>\n",
       "      <td>RCB</td>\n",
       "      <td>wickets</td>\n",
       "      <td>6.0</td>\n",
       "      <td>N</td>\n",
       "      <td>17</td>\n",
       "      <td>4</td>\n",
       "      <td>2012</td>\n",
       "    </tr>\n",
       "    <tr>\n",
       "      <th>1</th>\n",
       "      <td>1202</td>\n",
       "      <td>2019-04-01</td>\n",
       "      <td>0</td>\n",
       "      <td>KXIP</td>\n",
       "      <td>DD</td>\n",
       "      <td>DD</td>\n",
       "      <td>field</td>\n",
       "      <td>KXIP</td>\n",
       "      <td>runs</td>\n",
       "      <td>14.0</td>\n",
       "      <td>N</td>\n",
       "      <td>1</td>\n",
       "      <td>4</td>\n",
       "      <td>2019</td>\n",
       "    </tr>\n",
       "    <tr>\n",
       "      <th>2</th>\n",
       "      <td>1203</td>\n",
       "      <td>2019-04-13</td>\n",
       "      <td>0</td>\n",
       "      <td>MI</td>\n",
       "      <td>RR</td>\n",
       "      <td>RR</td>\n",
       "      <td>field</td>\n",
       "      <td>RR</td>\n",
       "      <td>wickets</td>\n",
       "      <td>4.0</td>\n",
       "      <td>N</td>\n",
       "      <td>13</td>\n",
       "      <td>4</td>\n",
       "      <td>2019</td>\n",
       "    </tr>\n",
       "    <tr>\n",
       "      <th>3</th>\n",
       "      <td>1204</td>\n",
       "      <td>2010-04-04</td>\n",
       "      <td>0</td>\n",
       "      <td>DD</td>\n",
       "      <td>RCB</td>\n",
       "      <td>DD</td>\n",
       "      <td>bat</td>\n",
       "      <td>DD</td>\n",
       "      <td>runs</td>\n",
       "      <td>37.0</td>\n",
       "      <td>N</td>\n",
       "      <td>4</td>\n",
       "      <td>4</td>\n",
       "      <td>2010</td>\n",
       "    </tr>\n",
       "    <tr>\n",
       "      <th>4</th>\n",
       "      <td>1205</td>\n",
       "      <td>2017-05-21</td>\n",
       "      <td>0</td>\n",
       "      <td>MI</td>\n",
       "      <td>RPS</td>\n",
       "      <td>MI</td>\n",
       "      <td>bat</td>\n",
       "      <td>MI</td>\n",
       "      <td>runs</td>\n",
       "      <td>1.0</td>\n",
       "      <td>N</td>\n",
       "      <td>21</td>\n",
       "      <td>5</td>\n",
       "      <td>2017</td>\n",
       "    </tr>\n",
       "  </tbody>\n",
       "</table>\n",
       "</div>"
      ],
      "text/plain": [
       "   Match ID Match Date  Neutrality First Team Second Team Winner of Toss  \\\n",
       "0      1201 2012-04-17           0        RCB          PW             PW   \n",
       "1      1202 2019-04-01           0       KXIP          DD             DD   \n",
       "2      1203 2019-04-13           0         MI          RR             RR   \n",
       "3      1204 2010-04-04           0         DD         RCB             DD   \n",
       "4      1205 2017-05-21           0         MI         RPS             MI   \n",
       "\n",
       "  Toss Decision Match Winner Win Basis  Margin of Win Eliminator  Match_date  \\\n",
       "0           bat          RCB   wickets            6.0          N          17   \n",
       "1         field         KXIP      runs           14.0          N           1   \n",
       "2         field           RR   wickets            4.0          N          13   \n",
       "3           bat           DD      runs           37.0          N           4   \n",
       "4           bat           MI      runs            1.0          N          21   \n",
       "\n",
       "   Match_month  Match_season  \n",
       "0            4          2012  \n",
       "1            4          2019  \n",
       "2            4          2019  \n",
       "3            4          2010  \n",
       "4            5          2017  "
      ]
     },
     "execution_count": 17,
     "metadata": {},
     "output_type": "execute_result"
    }
   ],
   "source": [
    "df.replace(['Mumbai Indians','Kolkata Knight Riders','Royal Challengers Bangalore','Deccan Chargers','Chennai Super Kings',\n",
    "                 'Rajasthan Royals','Delhi Daredevils','Delhi Capitals','Gujarat Lions','Kings XI Punjab',\n",
    "                 'Sunrisers Hyderabad','Rising Pune Supergiants','Rising Pune Supergiant','Kochi Tuskers Kerala','Pune Warriors']\n",
    "                ,['MI','KKR','RCB','DC','CSK','RR','DD','DD','GL','KXIP','SRH','RPS','RPS','KTK','PW'],inplace=True)\n",
    "\n",
    "\n",
    "df.head(5)"
   ]
  },
  {
   "cell_type": "markdown",
   "metadata": {},
   "source": [
    "### Encoding the Teams in specific numeric codes"
   ]
  },
  {
   "cell_type": "code",
   "execution_count": 18,
   "metadata": {},
   "outputs": [
    {
     "data": {
      "text/html": [
       "<div>\n",
       "<style scoped>\n",
       "    .dataframe tbody tr th:only-of-type {\n",
       "        vertical-align: middle;\n",
       "    }\n",
       "\n",
       "    .dataframe tbody tr th {\n",
       "        vertical-align: top;\n",
       "    }\n",
       "\n",
       "    .dataframe thead th {\n",
       "        text-align: right;\n",
       "    }\n",
       "</style>\n",
       "<table border=\"1\" class=\"dataframe\">\n",
       "  <thead>\n",
       "    <tr style=\"text-align: right;\">\n",
       "      <th></th>\n",
       "      <th>Match ID</th>\n",
       "      <th>Match Date</th>\n",
       "      <th>Neutrality</th>\n",
       "      <th>First Team</th>\n",
       "      <th>Second Team</th>\n",
       "      <th>Winner of Toss</th>\n",
       "      <th>Toss Decision</th>\n",
       "      <th>Match Winner</th>\n",
       "      <th>Win Basis</th>\n",
       "      <th>Margin of Win</th>\n",
       "      <th>Eliminator</th>\n",
       "      <th>Match_date</th>\n",
       "      <th>Match_month</th>\n",
       "      <th>Match_season</th>\n",
       "    </tr>\n",
       "  </thead>\n",
       "  <tbody>\n",
       "    <tr>\n",
       "      <th>0</th>\n",
       "      <td>1201</td>\n",
       "      <td>2012-04-17</td>\n",
       "      <td>0</td>\n",
       "      <td>3</td>\n",
       "      <td>13</td>\n",
       "      <td>13</td>\n",
       "      <td>bat</td>\n",
       "      <td>3</td>\n",
       "      <td>wickets</td>\n",
       "      <td>6.0</td>\n",
       "      <td>N</td>\n",
       "      <td>17</td>\n",
       "      <td>4</td>\n",
       "      <td>2012</td>\n",
       "    </tr>\n",
       "    <tr>\n",
       "      <th>1</th>\n",
       "      <td>1202</td>\n",
       "      <td>2019-04-01</td>\n",
       "      <td>0</td>\n",
       "      <td>9</td>\n",
       "      <td>7</td>\n",
       "      <td>7</td>\n",
       "      <td>field</td>\n",
       "      <td>9</td>\n",
       "      <td>runs</td>\n",
       "      <td>14.0</td>\n",
       "      <td>N</td>\n",
       "      <td>1</td>\n",
       "      <td>4</td>\n",
       "      <td>2019</td>\n",
       "    </tr>\n",
       "    <tr>\n",
       "      <th>2</th>\n",
       "      <td>1203</td>\n",
       "      <td>2019-04-13</td>\n",
       "      <td>0</td>\n",
       "      <td>1</td>\n",
       "      <td>6</td>\n",
       "      <td>6</td>\n",
       "      <td>field</td>\n",
       "      <td>6</td>\n",
       "      <td>wickets</td>\n",
       "      <td>4.0</td>\n",
       "      <td>N</td>\n",
       "      <td>13</td>\n",
       "      <td>4</td>\n",
       "      <td>2019</td>\n",
       "    </tr>\n",
       "    <tr>\n",
       "      <th>3</th>\n",
       "      <td>1204</td>\n",
       "      <td>2010-04-04</td>\n",
       "      <td>0</td>\n",
       "      <td>7</td>\n",
       "      <td>3</td>\n",
       "      <td>7</td>\n",
       "      <td>bat</td>\n",
       "      <td>7</td>\n",
       "      <td>runs</td>\n",
       "      <td>37.0</td>\n",
       "      <td>N</td>\n",
       "      <td>4</td>\n",
       "      <td>4</td>\n",
       "      <td>2010</td>\n",
       "    </tr>\n",
       "    <tr>\n",
       "      <th>4</th>\n",
       "      <td>1205</td>\n",
       "      <td>2017-05-21</td>\n",
       "      <td>0</td>\n",
       "      <td>1</td>\n",
       "      <td>11</td>\n",
       "      <td>1</td>\n",
       "      <td>bat</td>\n",
       "      <td>1</td>\n",
       "      <td>runs</td>\n",
       "      <td>1.0</td>\n",
       "      <td>N</td>\n",
       "      <td>21</td>\n",
       "      <td>5</td>\n",
       "      <td>2017</td>\n",
       "    </tr>\n",
       "  </tbody>\n",
       "</table>\n",
       "</div>"
      ],
      "text/plain": [
       "   Match ID Match Date  Neutrality  First Team  Second Team  Winner of Toss  \\\n",
       "0      1201 2012-04-17           0           3           13              13   \n",
       "1      1202 2019-04-01           0           9            7               7   \n",
       "2      1203 2019-04-13           0           1            6               6   \n",
       "3      1204 2010-04-04           0           7            3               7   \n",
       "4      1205 2017-05-21           0           1           11               1   \n",
       "\n",
       "  Toss Decision  Match Winner Win Basis  Margin of Win Eliminator  Match_date  \\\n",
       "0           bat             3   wickets            6.0          N          17   \n",
       "1         field             9      runs           14.0          N           1   \n",
       "2         field             6   wickets            4.0          N          13   \n",
       "3           bat             7      runs           37.0          N           4   \n",
       "4           bat             1      runs            1.0          N          21   \n",
       "\n",
       "   Match_month  Match_season  \n",
       "0            4          2012  \n",
       "1            4          2019  \n",
       "2            4          2019  \n",
       "3            4          2010  \n",
       "4            5          2017  "
      ]
     },
     "execution_count": 18,
     "metadata": {},
     "output_type": "execute_result"
    }
   ],
   "source": [
    "encoding = {'First Team': {'MI':1,'KKR':2,'RCB':3,'DC':4,'CSK':5,'RR':6,'DD':7,'GL':8,'KXIP':9,'SRH':10,'RPS':11,'KTK':12,'PW':13},\n",
    "          'Second Team': {'MI':1,'KKR':2,'RCB':3,'DC':4,'CSK':5,'RR':6,'DD':7,'GL':8,'KXIP':9,'SRH':10,'RPS':11,'KTK':12,'PW':13},\n",
    "          'Winner of Toss': {'MI':1,'KKR':2,'RCB':3,'DC':4,'CSK':5,'RR':6,'DD':7,'GL':8,'KXIP':9,'SRH':10,'RPS':11,'KTK':12,'PW':13},\n",
    "          'Match Winner': {'MI':1,'KKR':2,'RCB':3,'DC':4,'CSK':5,'RR':6,'DD':7,'GL':8,'KXIP':9,'SRH':10,'RPS':11,'KTK':12,'PW':13,'Draw':14}}\n",
    "df.replace(encoding, inplace=True)\n",
    "df.head(5)"
   ]
  },
  {
   "cell_type": "markdown",
   "metadata": {},
   "source": [
    "### Label encoding the categorical columns having ordinal data"
   ]
  },
  {
   "cell_type": "code",
   "execution_count": 19,
   "metadata": {},
   "outputs": [],
   "source": [
    "from sklearn import preprocessing\n",
    "le = preprocessing.LabelEncoder()"
   ]
  },
  {
   "cell_type": "code",
   "execution_count": 20,
   "metadata": {},
   "outputs": [],
   "source": [
    "df[\"Toss Decision\"] = le.fit_transform(df[\"Toss Decision\"])\n",
    "df[\"Eliminator\"] = le.fit_transform(df[\"Eliminator\"])\n",
    "df[\"Match_season\"] = le.fit_transform(df[\"Match_season\"])"
   ]
  },
  {
   "cell_type": "code",
   "execution_count": 21,
   "metadata": {},
   "outputs": [
    {
     "data": {
      "text/plain": [
       "Match ID                   int64\n",
       "Match Date        datetime64[ns]\n",
       "Neutrality                 int64\n",
       "First Team                 int64\n",
       "Second Team                int64\n",
       "Winner of Toss             int64\n",
       "Toss Decision              int32\n",
       "Match Winner               int64\n",
       "Win Basis                 object\n",
       "Margin of Win            float64\n",
       "Eliminator                 int32\n",
       "Match_date                 int64\n",
       "Match_month                int64\n",
       "Match_season               int64\n",
       "dtype: object"
      ]
     },
     "execution_count": 21,
     "metadata": {},
     "output_type": "execute_result"
    }
   ],
   "source": [
    "df.dtypes"
   ]
  },
  {
   "cell_type": "markdown",
   "metadata": {},
   "source": [
    "### Perfroming One Hot Encoding on categorical columns having nominal data"
   ]
  },
  {
   "cell_type": "code",
   "execution_count": 22,
   "metadata": {},
   "outputs": [],
   "source": [
    "win_basis = pd.get_dummies(df['Win Basis'])"
   ]
  },
  {
   "cell_type": "code",
   "execution_count": 23,
   "metadata": {},
   "outputs": [],
   "source": [
    "win_basis['Win Basis_runs'] = win_basis['runs']\n",
    "win_basis['Win Basis_tie'] = win_basis['tie']\n",
    "win_basis['Win Basis_wickets'] = win_basis['wickets']\n",
    "\n",
    "win_basis.drop(['runs','tie','wickets'], axis=1,inplace=True)"
   ]
  },
  {
   "cell_type": "code",
   "execution_count": 24,
   "metadata": {},
   "outputs": [
    {
     "data": {
      "text/html": [
       "<div>\n",
       "<style scoped>\n",
       "    .dataframe tbody tr th:only-of-type {\n",
       "        vertical-align: middle;\n",
       "    }\n",
       "\n",
       "    .dataframe tbody tr th {\n",
       "        vertical-align: top;\n",
       "    }\n",
       "\n",
       "    .dataframe thead th {\n",
       "        text-align: right;\n",
       "    }\n",
       "</style>\n",
       "<table border=\"1\" class=\"dataframe\">\n",
       "  <thead>\n",
       "    <tr style=\"text-align: right;\">\n",
       "      <th></th>\n",
       "      <th>Win Basis_runs</th>\n",
       "      <th>Win Basis_tie</th>\n",
       "      <th>Win Basis_wickets</th>\n",
       "    </tr>\n",
       "  </thead>\n",
       "  <tbody>\n",
       "    <tr>\n",
       "      <th>0</th>\n",
       "      <td>0</td>\n",
       "      <td>0</td>\n",
       "      <td>1</td>\n",
       "    </tr>\n",
       "    <tr>\n",
       "      <th>1</th>\n",
       "      <td>1</td>\n",
       "      <td>0</td>\n",
       "      <td>0</td>\n",
       "    </tr>\n",
       "    <tr>\n",
       "      <th>2</th>\n",
       "      <td>0</td>\n",
       "      <td>0</td>\n",
       "      <td>1</td>\n",
       "    </tr>\n",
       "    <tr>\n",
       "      <th>3</th>\n",
       "      <td>1</td>\n",
       "      <td>0</td>\n",
       "      <td>0</td>\n",
       "    </tr>\n",
       "    <tr>\n",
       "      <th>4</th>\n",
       "      <td>1</td>\n",
       "      <td>0</td>\n",
       "      <td>0</td>\n",
       "    </tr>\n",
       "    <tr>\n",
       "      <th>...</th>\n",
       "      <td>...</td>\n",
       "      <td>...</td>\n",
       "      <td>...</td>\n",
       "    </tr>\n",
       "    <tr>\n",
       "      <th>811</th>\n",
       "      <td>1</td>\n",
       "      <td>0</td>\n",
       "      <td>0</td>\n",
       "    </tr>\n",
       "    <tr>\n",
       "      <th>812</th>\n",
       "      <td>0</td>\n",
       "      <td>0</td>\n",
       "      <td>1</td>\n",
       "    </tr>\n",
       "    <tr>\n",
       "      <th>813</th>\n",
       "      <td>0</td>\n",
       "      <td>0</td>\n",
       "      <td>1</td>\n",
       "    </tr>\n",
       "    <tr>\n",
       "      <th>814</th>\n",
       "      <td>0</td>\n",
       "      <td>0</td>\n",
       "      <td>1</td>\n",
       "    </tr>\n",
       "    <tr>\n",
       "      <th>815</th>\n",
       "      <td>1</td>\n",
       "      <td>0</td>\n",
       "      <td>0</td>\n",
       "    </tr>\n",
       "  </tbody>\n",
       "</table>\n",
       "<p>812 rows × 3 columns</p>\n",
       "</div>"
      ],
      "text/plain": [
       "     Win Basis_runs  Win Basis_tie  Win Basis_wickets\n",
       "0                 0              0                  1\n",
       "1                 1              0                  0\n",
       "2                 0              0                  1\n",
       "3                 1              0                  0\n",
       "4                 1              0                  0\n",
       "..              ...            ...                ...\n",
       "811               1              0                  0\n",
       "812               0              0                  1\n",
       "813               0              0                  1\n",
       "814               0              0                  1\n",
       "815               1              0                  0\n",
       "\n",
       "[812 rows x 3 columns]"
      ]
     },
     "execution_count": 24,
     "metadata": {},
     "output_type": "execute_result"
    }
   ],
   "source": [
    "win_basis"
   ]
  },
  {
   "cell_type": "markdown",
   "metadata": {},
   "source": [
    "### Concatinating the one hot encoded daatset with the training dataset"
   ]
  },
  {
   "cell_type": "code",
   "execution_count": 25,
   "metadata": {},
   "outputs": [],
   "source": [
    "df = pd.concat([df,win_basis], axis=1)"
   ]
  },
  {
   "cell_type": "code",
   "execution_count": 26,
   "metadata": {},
   "outputs": [
    {
     "data": {
      "text/html": [
       "<div>\n",
       "<style scoped>\n",
       "    .dataframe tbody tr th:only-of-type {\n",
       "        vertical-align: middle;\n",
       "    }\n",
       "\n",
       "    .dataframe tbody tr th {\n",
       "        vertical-align: top;\n",
       "    }\n",
       "\n",
       "    .dataframe thead th {\n",
       "        text-align: right;\n",
       "    }\n",
       "</style>\n",
       "<table border=\"1\" class=\"dataframe\">\n",
       "  <thead>\n",
       "    <tr style=\"text-align: right;\">\n",
       "      <th></th>\n",
       "      <th>Match ID</th>\n",
       "      <th>Match Date</th>\n",
       "      <th>Neutrality</th>\n",
       "      <th>First Team</th>\n",
       "      <th>Second Team</th>\n",
       "      <th>Winner of Toss</th>\n",
       "      <th>Toss Decision</th>\n",
       "      <th>Match Winner</th>\n",
       "      <th>Win Basis</th>\n",
       "      <th>Margin of Win</th>\n",
       "      <th>Eliminator</th>\n",
       "      <th>Match_date</th>\n",
       "      <th>Match_month</th>\n",
       "      <th>Match_season</th>\n",
       "      <th>Win Basis_runs</th>\n",
       "      <th>Win Basis_tie</th>\n",
       "      <th>Win Basis_wickets</th>\n",
       "    </tr>\n",
       "  </thead>\n",
       "  <tbody>\n",
       "    <tr>\n",
       "      <th>0</th>\n",
       "      <td>1201</td>\n",
       "      <td>2012-04-17</td>\n",
       "      <td>0</td>\n",
       "      <td>3</td>\n",
       "      <td>13</td>\n",
       "      <td>13</td>\n",
       "      <td>0</td>\n",
       "      <td>3</td>\n",
       "      <td>wickets</td>\n",
       "      <td>6.0</td>\n",
       "      <td>0</td>\n",
       "      <td>17</td>\n",
       "      <td>4</td>\n",
       "      <td>4</td>\n",
       "      <td>0</td>\n",
       "      <td>0</td>\n",
       "      <td>1</td>\n",
       "    </tr>\n",
       "    <tr>\n",
       "      <th>1</th>\n",
       "      <td>1202</td>\n",
       "      <td>2019-04-01</td>\n",
       "      <td>0</td>\n",
       "      <td>9</td>\n",
       "      <td>7</td>\n",
       "      <td>7</td>\n",
       "      <td>1</td>\n",
       "      <td>9</td>\n",
       "      <td>runs</td>\n",
       "      <td>14.0</td>\n",
       "      <td>0</td>\n",
       "      <td>1</td>\n",
       "      <td>4</td>\n",
       "      <td>11</td>\n",
       "      <td>1</td>\n",
       "      <td>0</td>\n",
       "      <td>0</td>\n",
       "    </tr>\n",
       "    <tr>\n",
       "      <th>2</th>\n",
       "      <td>1203</td>\n",
       "      <td>2019-04-13</td>\n",
       "      <td>0</td>\n",
       "      <td>1</td>\n",
       "      <td>6</td>\n",
       "      <td>6</td>\n",
       "      <td>1</td>\n",
       "      <td>6</td>\n",
       "      <td>wickets</td>\n",
       "      <td>4.0</td>\n",
       "      <td>0</td>\n",
       "      <td>13</td>\n",
       "      <td>4</td>\n",
       "      <td>11</td>\n",
       "      <td>0</td>\n",
       "      <td>0</td>\n",
       "      <td>1</td>\n",
       "    </tr>\n",
       "    <tr>\n",
       "      <th>3</th>\n",
       "      <td>1204</td>\n",
       "      <td>2010-04-04</td>\n",
       "      <td>0</td>\n",
       "      <td>7</td>\n",
       "      <td>3</td>\n",
       "      <td>7</td>\n",
       "      <td>0</td>\n",
       "      <td>7</td>\n",
       "      <td>runs</td>\n",
       "      <td>37.0</td>\n",
       "      <td>0</td>\n",
       "      <td>4</td>\n",
       "      <td>4</td>\n",
       "      <td>2</td>\n",
       "      <td>1</td>\n",
       "      <td>0</td>\n",
       "      <td>0</td>\n",
       "    </tr>\n",
       "    <tr>\n",
       "      <th>4</th>\n",
       "      <td>1205</td>\n",
       "      <td>2017-05-21</td>\n",
       "      <td>0</td>\n",
       "      <td>1</td>\n",
       "      <td>11</td>\n",
       "      <td>1</td>\n",
       "      <td>0</td>\n",
       "      <td>1</td>\n",
       "      <td>runs</td>\n",
       "      <td>1.0</td>\n",
       "      <td>0</td>\n",
       "      <td>21</td>\n",
       "      <td>5</td>\n",
       "      <td>9</td>\n",
       "      <td>1</td>\n",
       "      <td>0</td>\n",
       "      <td>0</td>\n",
       "    </tr>\n",
       "    <tr>\n",
       "      <th>...</th>\n",
       "      <td>...</td>\n",
       "      <td>...</td>\n",
       "      <td>...</td>\n",
       "      <td>...</td>\n",
       "      <td>...</td>\n",
       "      <td>...</td>\n",
       "      <td>...</td>\n",
       "      <td>...</td>\n",
       "      <td>...</td>\n",
       "      <td>...</td>\n",
       "      <td>...</td>\n",
       "      <td>...</td>\n",
       "      <td>...</td>\n",
       "      <td>...</td>\n",
       "      <td>...</td>\n",
       "      <td>...</td>\n",
       "      <td>...</td>\n",
       "    </tr>\n",
       "    <tr>\n",
       "      <th>811</th>\n",
       "      <td>2012</td>\n",
       "      <td>2012-04-15</td>\n",
       "      <td>0</td>\n",
       "      <td>3</td>\n",
       "      <td>6</td>\n",
       "      <td>6</td>\n",
       "      <td>0</td>\n",
       "      <td>6</td>\n",
       "      <td>runs</td>\n",
       "      <td>59.0</td>\n",
       "      <td>0</td>\n",
       "      <td>15</td>\n",
       "      <td>4</td>\n",
       "      <td>4</td>\n",
       "      <td>1</td>\n",
       "      <td>0</td>\n",
       "      <td>0</td>\n",
       "    </tr>\n",
       "    <tr>\n",
       "      <th>812</th>\n",
       "      <td>2013</td>\n",
       "      <td>2017-05-07</td>\n",
       "      <td>0</td>\n",
       "      <td>3</td>\n",
       "      <td>2</td>\n",
       "      <td>2</td>\n",
       "      <td>1</td>\n",
       "      <td>2</td>\n",
       "      <td>wickets</td>\n",
       "      <td>6.0</td>\n",
       "      <td>0</td>\n",
       "      <td>7</td>\n",
       "      <td>5</td>\n",
       "      <td>9</td>\n",
       "      <td>0</td>\n",
       "      <td>0</td>\n",
       "      <td>1</td>\n",
       "    </tr>\n",
       "    <tr>\n",
       "      <th>813</th>\n",
       "      <td>2014</td>\n",
       "      <td>2015-04-17</td>\n",
       "      <td>0</td>\n",
       "      <td>1</td>\n",
       "      <td>5</td>\n",
       "      <td>1</td>\n",
       "      <td>0</td>\n",
       "      <td>5</td>\n",
       "      <td>wickets</td>\n",
       "      <td>6.0</td>\n",
       "      <td>0</td>\n",
       "      <td>17</td>\n",
       "      <td>4</td>\n",
       "      <td>7</td>\n",
       "      <td>0</td>\n",
       "      <td>0</td>\n",
       "      <td>1</td>\n",
       "    </tr>\n",
       "    <tr>\n",
       "      <th>814</th>\n",
       "      <td>2015</td>\n",
       "      <td>2015-04-08</td>\n",
       "      <td>0</td>\n",
       "      <td>2</td>\n",
       "      <td>1</td>\n",
       "      <td>2</td>\n",
       "      <td>1</td>\n",
       "      <td>2</td>\n",
       "      <td>wickets</td>\n",
       "      <td>7.0</td>\n",
       "      <td>0</td>\n",
       "      <td>8</td>\n",
       "      <td>4</td>\n",
       "      <td>7</td>\n",
       "      <td>0</td>\n",
       "      <td>0</td>\n",
       "      <td>1</td>\n",
       "    </tr>\n",
       "    <tr>\n",
       "      <th>815</th>\n",
       "      <td>2016</td>\n",
       "      <td>2010-04-11</td>\n",
       "      <td>0</td>\n",
       "      <td>6</td>\n",
       "      <td>1</td>\n",
       "      <td>6</td>\n",
       "      <td>1</td>\n",
       "      <td>1</td>\n",
       "      <td>runs</td>\n",
       "      <td>37.0</td>\n",
       "      <td>0</td>\n",
       "      <td>11</td>\n",
       "      <td>4</td>\n",
       "      <td>2</td>\n",
       "      <td>1</td>\n",
       "      <td>0</td>\n",
       "      <td>0</td>\n",
       "    </tr>\n",
       "  </tbody>\n",
       "</table>\n",
       "<p>812 rows × 17 columns</p>\n",
       "</div>"
      ],
      "text/plain": [
       "     Match ID Match Date  Neutrality  First Team  Second Team  Winner of Toss  \\\n",
       "0        1201 2012-04-17           0           3           13              13   \n",
       "1        1202 2019-04-01           0           9            7               7   \n",
       "2        1203 2019-04-13           0           1            6               6   \n",
       "3        1204 2010-04-04           0           7            3               7   \n",
       "4        1205 2017-05-21           0           1           11               1   \n",
       "..        ...        ...         ...         ...          ...             ...   \n",
       "811      2012 2012-04-15           0           3            6               6   \n",
       "812      2013 2017-05-07           0           3            2               2   \n",
       "813      2014 2015-04-17           0           1            5               1   \n",
       "814      2015 2015-04-08           0           2            1               2   \n",
       "815      2016 2010-04-11           0           6            1               6   \n",
       "\n",
       "     Toss Decision  Match Winner Win Basis  Margin of Win  Eliminator  \\\n",
       "0                0             3   wickets            6.0           0   \n",
       "1                1             9      runs           14.0           0   \n",
       "2                1             6   wickets            4.0           0   \n",
       "3                0             7      runs           37.0           0   \n",
       "4                0             1      runs            1.0           0   \n",
       "..             ...           ...       ...            ...         ...   \n",
       "811              0             6      runs           59.0           0   \n",
       "812              1             2   wickets            6.0           0   \n",
       "813              0             5   wickets            6.0           0   \n",
       "814              1             2   wickets            7.0           0   \n",
       "815              1             1      runs           37.0           0   \n",
       "\n",
       "     Match_date  Match_month  Match_season  Win Basis_runs  Win Basis_tie  \\\n",
       "0            17            4             4               0              0   \n",
       "1             1            4            11               1              0   \n",
       "2            13            4            11               0              0   \n",
       "3             4            4             2               1              0   \n",
       "4            21            5             9               1              0   \n",
       "..          ...          ...           ...             ...            ...   \n",
       "811          15            4             4               1              0   \n",
       "812           7            5             9               0              0   \n",
       "813          17            4             7               0              0   \n",
       "814           8            4             7               0              0   \n",
       "815          11            4             2               1              0   \n",
       "\n",
       "     Win Basis_wickets  \n",
       "0                    1  \n",
       "1                    0  \n",
       "2                    1  \n",
       "3                    0  \n",
       "4                    0  \n",
       "..                 ...  \n",
       "811                  0  \n",
       "812                  1  \n",
       "813                  1  \n",
       "814                  1  \n",
       "815                  0  \n",
       "\n",
       "[812 rows x 17 columns]"
      ]
     },
     "execution_count": 26,
     "metadata": {},
     "output_type": "execute_result"
    }
   ],
   "source": [
    "df"
   ]
  },
  {
   "cell_type": "markdown",
   "metadata": {},
   "source": [
    "### Dropping the unnecessary columns "
   ]
  },
  {
   "cell_type": "code",
   "execution_count": 27,
   "metadata": {},
   "outputs": [],
   "source": [
    "df.drop(['Match ID','Match Date','Win Basis','Match_date','Match_month'],axis=1,inplace=True)"
   ]
  },
  {
   "cell_type": "code",
   "execution_count": 28,
   "metadata": {},
   "outputs": [
    {
     "data": {
      "text/html": [
       "<div>\n",
       "<style scoped>\n",
       "    .dataframe tbody tr th:only-of-type {\n",
       "        vertical-align: middle;\n",
       "    }\n",
       "\n",
       "    .dataframe tbody tr th {\n",
       "        vertical-align: top;\n",
       "    }\n",
       "\n",
       "    .dataframe thead th {\n",
       "        text-align: right;\n",
       "    }\n",
       "</style>\n",
       "<table border=\"1\" class=\"dataframe\">\n",
       "  <thead>\n",
       "    <tr style=\"text-align: right;\">\n",
       "      <th></th>\n",
       "      <th>Neutrality</th>\n",
       "      <th>First Team</th>\n",
       "      <th>Second Team</th>\n",
       "      <th>Winner of Toss</th>\n",
       "      <th>Toss Decision</th>\n",
       "      <th>Match Winner</th>\n",
       "      <th>Margin of Win</th>\n",
       "      <th>Eliminator</th>\n",
       "      <th>Match_season</th>\n",
       "      <th>Win Basis_runs</th>\n",
       "      <th>Win Basis_tie</th>\n",
       "      <th>Win Basis_wickets</th>\n",
       "    </tr>\n",
       "  </thead>\n",
       "  <tbody>\n",
       "    <tr>\n",
       "      <th>0</th>\n",
       "      <td>0</td>\n",
       "      <td>3</td>\n",
       "      <td>13</td>\n",
       "      <td>13</td>\n",
       "      <td>0</td>\n",
       "      <td>3</td>\n",
       "      <td>6.0</td>\n",
       "      <td>0</td>\n",
       "      <td>4</td>\n",
       "      <td>0</td>\n",
       "      <td>0</td>\n",
       "      <td>1</td>\n",
       "    </tr>\n",
       "    <tr>\n",
       "      <th>1</th>\n",
       "      <td>0</td>\n",
       "      <td>9</td>\n",
       "      <td>7</td>\n",
       "      <td>7</td>\n",
       "      <td>1</td>\n",
       "      <td>9</td>\n",
       "      <td>14.0</td>\n",
       "      <td>0</td>\n",
       "      <td>11</td>\n",
       "      <td>1</td>\n",
       "      <td>0</td>\n",
       "      <td>0</td>\n",
       "    </tr>\n",
       "    <tr>\n",
       "      <th>2</th>\n",
       "      <td>0</td>\n",
       "      <td>1</td>\n",
       "      <td>6</td>\n",
       "      <td>6</td>\n",
       "      <td>1</td>\n",
       "      <td>6</td>\n",
       "      <td>4.0</td>\n",
       "      <td>0</td>\n",
       "      <td>11</td>\n",
       "      <td>0</td>\n",
       "      <td>0</td>\n",
       "      <td>1</td>\n",
       "    </tr>\n",
       "    <tr>\n",
       "      <th>3</th>\n",
       "      <td>0</td>\n",
       "      <td>7</td>\n",
       "      <td>3</td>\n",
       "      <td>7</td>\n",
       "      <td>0</td>\n",
       "      <td>7</td>\n",
       "      <td>37.0</td>\n",
       "      <td>0</td>\n",
       "      <td>2</td>\n",
       "      <td>1</td>\n",
       "      <td>0</td>\n",
       "      <td>0</td>\n",
       "    </tr>\n",
       "    <tr>\n",
       "      <th>4</th>\n",
       "      <td>0</td>\n",
       "      <td>1</td>\n",
       "      <td>11</td>\n",
       "      <td>1</td>\n",
       "      <td>0</td>\n",
       "      <td>1</td>\n",
       "      <td>1.0</td>\n",
       "      <td>0</td>\n",
       "      <td>9</td>\n",
       "      <td>1</td>\n",
       "      <td>0</td>\n",
       "      <td>0</td>\n",
       "    </tr>\n",
       "    <tr>\n",
       "      <th>...</th>\n",
       "      <td>...</td>\n",
       "      <td>...</td>\n",
       "      <td>...</td>\n",
       "      <td>...</td>\n",
       "      <td>...</td>\n",
       "      <td>...</td>\n",
       "      <td>...</td>\n",
       "      <td>...</td>\n",
       "      <td>...</td>\n",
       "      <td>...</td>\n",
       "      <td>...</td>\n",
       "      <td>...</td>\n",
       "    </tr>\n",
       "    <tr>\n",
       "      <th>811</th>\n",
       "      <td>0</td>\n",
       "      <td>3</td>\n",
       "      <td>6</td>\n",
       "      <td>6</td>\n",
       "      <td>0</td>\n",
       "      <td>6</td>\n",
       "      <td>59.0</td>\n",
       "      <td>0</td>\n",
       "      <td>4</td>\n",
       "      <td>1</td>\n",
       "      <td>0</td>\n",
       "      <td>0</td>\n",
       "    </tr>\n",
       "    <tr>\n",
       "      <th>812</th>\n",
       "      <td>0</td>\n",
       "      <td>3</td>\n",
       "      <td>2</td>\n",
       "      <td>2</td>\n",
       "      <td>1</td>\n",
       "      <td>2</td>\n",
       "      <td>6.0</td>\n",
       "      <td>0</td>\n",
       "      <td>9</td>\n",
       "      <td>0</td>\n",
       "      <td>0</td>\n",
       "      <td>1</td>\n",
       "    </tr>\n",
       "    <tr>\n",
       "      <th>813</th>\n",
       "      <td>0</td>\n",
       "      <td>1</td>\n",
       "      <td>5</td>\n",
       "      <td>1</td>\n",
       "      <td>0</td>\n",
       "      <td>5</td>\n",
       "      <td>6.0</td>\n",
       "      <td>0</td>\n",
       "      <td>7</td>\n",
       "      <td>0</td>\n",
       "      <td>0</td>\n",
       "      <td>1</td>\n",
       "    </tr>\n",
       "    <tr>\n",
       "      <th>814</th>\n",
       "      <td>0</td>\n",
       "      <td>2</td>\n",
       "      <td>1</td>\n",
       "      <td>2</td>\n",
       "      <td>1</td>\n",
       "      <td>2</td>\n",
       "      <td>7.0</td>\n",
       "      <td>0</td>\n",
       "      <td>7</td>\n",
       "      <td>0</td>\n",
       "      <td>0</td>\n",
       "      <td>1</td>\n",
       "    </tr>\n",
       "    <tr>\n",
       "      <th>815</th>\n",
       "      <td>0</td>\n",
       "      <td>6</td>\n",
       "      <td>1</td>\n",
       "      <td>6</td>\n",
       "      <td>1</td>\n",
       "      <td>1</td>\n",
       "      <td>37.0</td>\n",
       "      <td>0</td>\n",
       "      <td>2</td>\n",
       "      <td>1</td>\n",
       "      <td>0</td>\n",
       "      <td>0</td>\n",
       "    </tr>\n",
       "  </tbody>\n",
       "</table>\n",
       "<p>812 rows × 12 columns</p>\n",
       "</div>"
      ],
      "text/plain": [
       "     Neutrality  First Team  Second Team  Winner of Toss  Toss Decision  \\\n",
       "0             0           3           13              13              0   \n",
       "1             0           9            7               7              1   \n",
       "2             0           1            6               6              1   \n",
       "3             0           7            3               7              0   \n",
       "4             0           1           11               1              0   \n",
       "..          ...         ...          ...             ...            ...   \n",
       "811           0           3            6               6              0   \n",
       "812           0           3            2               2              1   \n",
       "813           0           1            5               1              0   \n",
       "814           0           2            1               2              1   \n",
       "815           0           6            1               6              1   \n",
       "\n",
       "     Match Winner  Margin of Win  Eliminator  Match_season  Win Basis_runs  \\\n",
       "0               3            6.0           0             4               0   \n",
       "1               9           14.0           0            11               1   \n",
       "2               6            4.0           0            11               0   \n",
       "3               7           37.0           0             2               1   \n",
       "4               1            1.0           0             9               1   \n",
       "..            ...            ...         ...           ...             ...   \n",
       "811             6           59.0           0             4               1   \n",
       "812             2            6.0           0             9               0   \n",
       "813             5            6.0           0             7               0   \n",
       "814             2            7.0           0             7               0   \n",
       "815             1           37.0           0             2               1   \n",
       "\n",
       "     Win Basis_tie  Win Basis_wickets  \n",
       "0                0                  1  \n",
       "1                0                  0  \n",
       "2                0                  1  \n",
       "3                0                  0  \n",
       "4                0                  0  \n",
       "..             ...                ...  \n",
       "811              0                  0  \n",
       "812              0                  1  \n",
       "813              0                  1  \n",
       "814              0                  1  \n",
       "815              0                  0  \n",
       "\n",
       "[812 rows x 12 columns]"
      ]
     },
     "execution_count": 28,
     "metadata": {},
     "output_type": "execute_result"
    }
   ],
   "source": [
    "df"
   ]
  },
  {
   "cell_type": "code",
   "execution_count": 29,
   "metadata": {},
   "outputs": [
    {
     "data": {
      "text/plain": [
       "(812, 12)"
      ]
     },
     "execution_count": 29,
     "metadata": {},
     "output_type": "execute_result"
    }
   ],
   "source": [
    "df.shape"
   ]
  },
  {
   "cell_type": "code",
   "execution_count": 30,
   "metadata": {},
   "outputs": [
    {
     "data": {
      "text/html": [
       "<div>\n",
       "<style scoped>\n",
       "    .dataframe tbody tr th:only-of-type {\n",
       "        vertical-align: middle;\n",
       "    }\n",
       "\n",
       "    .dataframe tbody tr th {\n",
       "        vertical-align: top;\n",
       "    }\n",
       "\n",
       "    .dataframe thead th {\n",
       "        text-align: right;\n",
       "    }\n",
       "</style>\n",
       "<table border=\"1\" class=\"dataframe\">\n",
       "  <thead>\n",
       "    <tr style=\"text-align: right;\">\n",
       "      <th></th>\n",
       "      <th>Neutrality</th>\n",
       "      <th>First Team</th>\n",
       "      <th>Second Team</th>\n",
       "      <th>Winner of Toss</th>\n",
       "      <th>Toss Decision</th>\n",
       "      <th>Margin of Win</th>\n",
       "      <th>Eliminator</th>\n",
       "      <th>Match_season</th>\n",
       "      <th>Win Basis_runs</th>\n",
       "      <th>Win Basis_tie</th>\n",
       "      <th>Win Basis_wickets</th>\n",
       "    </tr>\n",
       "  </thead>\n",
       "  <tbody>\n",
       "    <tr>\n",
       "      <th>0</th>\n",
       "      <td>0</td>\n",
       "      <td>3</td>\n",
       "      <td>13</td>\n",
       "      <td>13</td>\n",
       "      <td>0</td>\n",
       "      <td>6.0</td>\n",
       "      <td>0</td>\n",
       "      <td>4</td>\n",
       "      <td>0</td>\n",
       "      <td>0</td>\n",
       "      <td>1</td>\n",
       "    </tr>\n",
       "    <tr>\n",
       "      <th>1</th>\n",
       "      <td>0</td>\n",
       "      <td>9</td>\n",
       "      <td>7</td>\n",
       "      <td>7</td>\n",
       "      <td>1</td>\n",
       "      <td>14.0</td>\n",
       "      <td>0</td>\n",
       "      <td>11</td>\n",
       "      <td>1</td>\n",
       "      <td>0</td>\n",
       "      <td>0</td>\n",
       "    </tr>\n",
       "    <tr>\n",
       "      <th>2</th>\n",
       "      <td>0</td>\n",
       "      <td>1</td>\n",
       "      <td>6</td>\n",
       "      <td>6</td>\n",
       "      <td>1</td>\n",
       "      <td>4.0</td>\n",
       "      <td>0</td>\n",
       "      <td>11</td>\n",
       "      <td>0</td>\n",
       "      <td>0</td>\n",
       "      <td>1</td>\n",
       "    </tr>\n",
       "    <tr>\n",
       "      <th>3</th>\n",
       "      <td>0</td>\n",
       "      <td>7</td>\n",
       "      <td>3</td>\n",
       "      <td>7</td>\n",
       "      <td>0</td>\n",
       "      <td>37.0</td>\n",
       "      <td>0</td>\n",
       "      <td>2</td>\n",
       "      <td>1</td>\n",
       "      <td>0</td>\n",
       "      <td>0</td>\n",
       "    </tr>\n",
       "    <tr>\n",
       "      <th>4</th>\n",
       "      <td>0</td>\n",
       "      <td>1</td>\n",
       "      <td>11</td>\n",
       "      <td>1</td>\n",
       "      <td>0</td>\n",
       "      <td>1.0</td>\n",
       "      <td>0</td>\n",
       "      <td>9</td>\n",
       "      <td>1</td>\n",
       "      <td>0</td>\n",
       "      <td>0</td>\n",
       "    </tr>\n",
       "  </tbody>\n",
       "</table>\n",
       "</div>"
      ],
      "text/plain": [
       "   Neutrality  First Team  Second Team  Winner of Toss  Toss Decision  \\\n",
       "0           0           3           13              13              0   \n",
       "1           0           9            7               7              1   \n",
       "2           0           1            6               6              1   \n",
       "3           0           7            3               7              0   \n",
       "4           0           1           11               1              0   \n",
       "\n",
       "   Margin of Win  Eliminator  Match_season  Win Basis_runs  Win Basis_tie  \\\n",
       "0            6.0           0             4               0              0   \n",
       "1           14.0           0            11               1              0   \n",
       "2            4.0           0            11               0              0   \n",
       "3           37.0           0             2               1              0   \n",
       "4            1.0           0             9               1              0   \n",
       "\n",
       "   Win Basis_wickets  \n",
       "0                  1  \n",
       "1                  0  \n",
       "2                  1  \n",
       "3                  0  \n",
       "4                  0  "
      ]
     },
     "execution_count": 30,
     "metadata": {},
     "output_type": "execute_result"
    }
   ],
   "source": [
    "X = df.drop('Match Winner', axis=1)\n",
    "X.head()"
   ]
  },
  {
   "cell_type": "markdown",
   "metadata": {},
   "source": [
    "### Performing Feature Scaling using Standard Scaler"
   ]
  },
  {
   "cell_type": "code",
   "execution_count": 31,
   "metadata": {},
   "outputs": [
    {
     "data": {
      "text/plain": [
       "array([[-0.32366944, -0.81699   ,  2.11795443, ..., -0.90138782,\n",
       "        -0.12755523,  0.93094934],\n",
       "       [-0.32366944,  0.96314206,  0.35528378, ...,  1.10940039,\n",
       "        -0.12755523, -1.07417231],\n",
       "       [-0.32366944, -1.41036736,  0.06150534, ..., -0.90138782,\n",
       "        -0.12755523,  0.93094934],\n",
       "       ...,\n",
       "       [-0.32366944, -1.41036736, -0.2322731 , ..., -0.90138782,\n",
       "        -0.12755523,  0.93094934],\n",
       "       [-0.32366944, -1.11367868, -1.40738687, ..., -0.90138782,\n",
       "        -0.12755523,  0.93094934],\n",
       "       [-0.32366944,  0.07307603, -1.40738687, ...,  1.10940039,\n",
       "        -0.12755523, -1.07417231]])"
      ]
     },
     "execution_count": 31,
     "metadata": {},
     "output_type": "execute_result"
    }
   ],
   "source": [
    "from sklearn.preprocessing import StandardScaler\n",
    "\n",
    "sc = StandardScaler()\n",
    "X = sc.fit_transform(X)\n",
    "\n",
    "X"
   ]
  },
  {
   "cell_type": "code",
   "execution_count": 32,
   "metadata": {},
   "outputs": [
    {
     "data": {
      "text/plain": [
       "(812, 11)"
      ]
     },
     "execution_count": 32,
     "metadata": {},
     "output_type": "execute_result"
    }
   ],
   "source": [
    "X.shape"
   ]
  },
  {
   "cell_type": "code",
   "execution_count": 33,
   "metadata": {},
   "outputs": [
    {
     "data": {
      "text/plain": [
       "0    3\n",
       "1    9\n",
       "2    6\n",
       "3    7\n",
       "4    1\n",
       "Name: Match Winner, dtype: int64"
      ]
     },
     "execution_count": 33,
     "metadata": {},
     "output_type": "execute_result"
    }
   ],
   "source": [
    "y = df['Match Winner']\n",
    "y.head()"
   ]
  },
  {
   "cell_type": "code",
   "execution_count": 34,
   "metadata": {},
   "outputs": [
    {
     "data": {
      "text/plain": [
       "(812,)"
      ]
     },
     "execution_count": 34,
     "metadata": {},
     "output_type": "execute_result"
    }
   ],
   "source": [
    "y.shape"
   ]
  },
  {
   "cell_type": "markdown",
   "metadata": {},
   "source": [
    "### Splitting the Data"
   ]
  },
  {
   "cell_type": "code",
   "execution_count": 35,
   "metadata": {},
   "outputs": [],
   "source": [
    "from sklearn.model_selection import train_test_split"
   ]
  },
  {
   "cell_type": "code",
   "execution_count": 36,
   "metadata": {},
   "outputs": [],
   "source": [
    "X_train,X_test,y_train,y_test = train_test_split(X,y,test_size=0.3,random_state=42)"
   ]
  },
  {
   "cell_type": "code",
   "execution_count": 37,
   "metadata": {},
   "outputs": [],
   "source": [
    "from sklearn.metrics import accuracy_score as score"
   ]
  },
  {
   "cell_type": "markdown",
   "metadata": {},
   "source": [
    "## Logistic Regression"
   ]
  },
  {
   "cell_type": "code",
   "execution_count": 38,
   "metadata": {},
   "outputs": [
    {
     "data": {
      "text/plain": [
       "LogisticRegression()"
      ]
     },
     "execution_count": 38,
     "metadata": {},
     "output_type": "execute_result"
    }
   ],
   "source": [
    "from sklearn import linear_model\n",
    "from sklearn.linear_model import LogisticRegression\n",
    "\n",
    "lg_model = LogisticRegression()\n",
    "\n",
    "lg_model.fit(X_train, y_train)"
   ]
  },
  {
   "cell_type": "code",
   "execution_count": 39,
   "metadata": {},
   "outputs": [],
   "source": [
    "preds1 = lg_model.predict(X_test)"
   ]
  },
  {
   "cell_type": "code",
   "execution_count": 40,
   "metadata": {},
   "outputs": [
    {
     "data": {
      "text/plain": [
       "array([ 2, 10,  1,  9,  7,  3,  5,  3, 10,  2, 10, 10,  1,  1,  1,  1,  7,\n",
       "        9,  5, 10, 10,  3, 10,  9,  9, 10,  1, 10,  2, 10,  1,  1,  1, 10,\n",
       "        5,  1,  7, 10,  7,  1,  3,  7,  7,  2,  1,  6,  7,  3, 10, 10, 10,\n",
       "        1,  6, 10,  5,  1, 10,  1,  3,  5,  7,  7,  7, 10, 10, 10,  1,  1,\n",
       "        1,  5, 10,  1,  1,  1,  1,  7,  3, 10,  1, 10,  1,  3,  5,  5,  3,\n",
       "        1, 10,  2,  1,  1,  1,  6, 10,  9, 10,  1,  1,  1,  1,  1,  2,  6,\n",
       "        1,  1,  5,  3,  3,  2,  1,  5,  9,  5,  9,  9, 10, 10,  6,  1, 10,\n",
       "        1, 10,  1, 10,  1,  3, 10,  1,  3, 10, 13,  3,  1,  6,  1,  2,  7,\n",
       "        1,  6,  2,  9,  7,  3,  6, 10,  9,  1,  1,  9,  5, 10,  1,  7,  5,\n",
       "        1,  5,  5,  1,  7,  5,  7,  9,  1,  1, 10,  1,  1,  5,  3,  1,  2,\n",
       "        1,  5,  1,  1,  3, 10,  1,  3,  3,  9, 10,  6,  1, 10, 10, 10, 10,\n",
       "        3,  1,  5,  1,  1,  3,  1,  6,  5,  3, 10,  1,  3, 10,  7,  1,  3,\n",
       "        6,  7,  5,  2,  1, 10, 10, 10,  1,  1,  1,  3,  1, 13, 10,  3,  2,\n",
       "       10,  7,  9,  9,  9, 10,  7, 10,  5,  9,  1,  7,  1, 10,  1,  1, 10,\n",
       "        3,  1,  1,  9, 10,  6], dtype=int64)"
      ]
     },
     "execution_count": 40,
     "metadata": {},
     "output_type": "execute_result"
    }
   ],
   "source": [
    "preds1"
   ]
  },
  {
   "cell_type": "code",
   "execution_count": 41,
   "metadata": {},
   "outputs": [
    {
     "name": "stdout",
     "output_type": "stream",
     "text": [
      "Train Accuracy: 0.29401408450704225\n",
      "Test Accuracy: 0.2581967213114754\n"
     ]
    }
   ],
   "source": [
    "print(\"Train Accuracy:\", lg_model.score(X_train, y_train))\n",
    "print(\"Test Accuracy:\" , lg_model.score(X_test, y_test))"
   ]
  },
  {
   "cell_type": "code",
   "execution_count": 42,
   "metadata": {},
   "outputs": [
    {
     "name": "stdout",
     "output_type": "stream",
     "text": [
      "              precision    recall  f1-score   support\n",
      "\n",
      "           1      0.303     0.697     0.422        33\n",
      "           2      0.167     0.067     0.095        30\n",
      "           3      0.185     0.208     0.196        24\n",
      "           5      0.318     0.194     0.241        36\n",
      "           6      0.333     0.167     0.222        24\n",
      "           7      0.095     0.074     0.083        27\n",
      "           8      0.000     0.000     0.000         7\n",
      "           9      0.222     0.138     0.170        29\n",
      "          10      0.278     0.577     0.375        26\n",
      "          11      0.000     0.000     0.000         3\n",
      "          12      0.000     0.000     0.000         3\n",
      "          13      0.500     0.500     0.500         2\n",
      "\n",
      "    accuracy                          0.258       244\n",
      "   macro avg      0.200     0.219     0.192       244\n",
      "weighted avg      0.230     0.258     0.219       244\n",
      "\n"
     ]
    },
    {
     "name": "stderr",
     "output_type": "stream",
     "text": [
      "C:\\Users\\KIIT\\anaconda3\\lib\\site-packages\\sklearn\\metrics\\_classification.py:1248: UndefinedMetricWarning: Precision and F-score are ill-defined and being set to 0.0 in labels with no predicted samples. Use `zero_division` parameter to control this behavior.\n",
      "  _warn_prf(average, modifier, msg_start, len(result))\n",
      "C:\\Users\\KIIT\\anaconda3\\lib\\site-packages\\sklearn\\metrics\\_classification.py:1248: UndefinedMetricWarning: Precision and F-score are ill-defined and being set to 0.0 in labels with no predicted samples. Use `zero_division` parameter to control this behavior.\n",
      "  _warn_prf(average, modifier, msg_start, len(result))\n",
      "C:\\Users\\KIIT\\anaconda3\\lib\\site-packages\\sklearn\\metrics\\_classification.py:1248: UndefinedMetricWarning: Precision and F-score are ill-defined and being set to 0.0 in labels with no predicted samples. Use `zero_division` parameter to control this behavior.\n",
      "  _warn_prf(average, modifier, msg_start, len(result))\n"
     ]
    }
   ],
   "source": [
    "from sklearn.metrics import classification_report\n",
    "report = classification_report(digits = 3, y_true = y_test, y_pred = preds1)\n",
    "print(report)"
   ]
  },
  {
   "cell_type": "code",
   "execution_count": 43,
   "metadata": {},
   "outputs": [
    {
     "data": {
      "image/png": "[encoded data removed]",
      "text/plain": [
       "<Figure size 432x288 with 2 Axes>"
      ]
     },
     "metadata": {
      "needs_background": "light"
     },
     "output_type": "display_data"
    }
   ],
   "source": [
    "from sklearn.metrics import confusion_matrix\n",
    "\n",
    "conf_mat = confusion_matrix(y_test, preds1)\n",
    "conf_mat_normalized = conf_mat.astype('float') / conf_mat.sum(axis=1)[:, np.newaxis]\n",
    "sns.heatmap(conf_mat_normalized)\n",
    "plt.ylabel('True label')\n",
    "plt.xlabel('Predicted label')\n",
    "plt.show()"
   ]
  },
  {
   "cell_type": "markdown",
   "metadata": {},
   "source": [
    "## Random Forest Classifier"
   ]
  },
  {
   "cell_type": "code",
   "execution_count": 44,
   "metadata": {},
   "outputs": [
    {
     "data": {
      "text/plain": [
       "RandomForestClassifier()"
      ]
     },
     "execution_count": 44,
     "metadata": {},
     "output_type": "execute_result"
    }
   ],
   "source": [
    "from sklearn.ensemble import RandomForestClassifier\n",
    "\n",
    "rf_clf = RandomForestClassifier(n_estimators=100)\n",
    "rf_clf.fit(X_train, y_train)"
   ]
  },
  {
   "cell_type": "code",
   "execution_count": 45,
   "metadata": {},
   "outputs": [],
   "source": [
    "preds2 = rf_clf.predict(X_test)"
   ]
  },
  {
   "cell_type": "code",
   "execution_count": 46,
   "metadata": {},
   "outputs": [
    {
     "data": {
      "text/plain": [
       "array([ 3,  5,  1,  6,  2,  5,  1,  7,  6,  6, 10,  7,  1,  2,  6,  1,  6,\n",
       "       13,  7,  8,  9,  9,  6,  9,  2,  7,  1,  7,  2,  7,  1,  6,  7,  9,\n",
       "        5,  1,  7,  9,  7,  1,  7,  5,  7,  1,  1,  9,  6,  2, 13, 10,  7,\n",
       "        3,  6, 10,  5,  1, 10,  5,  1,  2,  5,  6,  8, 10, 10,  9,  2,  3,\n",
       "        1,  1,  6,  3,  3,  5,  9,  5,  2, 11,  1,  2,  5,  5,  2,  1,  6,\n",
       "        5, 10,  1,  1,  5,  2,  7,  9,  5,  9,  1,  1,  5,  1,  1,  5,  6,\n",
       "        2,  1, 10,  3,  3,  2,  7,  2,  9,  1,  5,  3,  9, 10,  7,  1,  7,\n",
       "        5,  9,  1,  6,  6,  3,  5,  1,  5, 10,  9,  7,  2,  1,  2,  1,  9,\n",
       "        1,  3,  1, 10,  5,  6,  6, 10, 10,  1,  5,  2,  5, 10,  1,  5,  6,\n",
       "        6,  3,  3,  2, 10,  1,  7,  9,  1,  1,  7,  3,  5,  5,  3,  1,  1,\n",
       "        1,  5,  2,  5,  2,  9,  2, 10,  6, 10, 10,  3,  1,  9, 10, 10, 10,\n",
       "        2,  2,  2,  1,  1, 10,  1,  6,  5,  1, 10,  2,  2,  9,  1,  1,  9,\n",
       "        5,  5,  5,  1,  1,  7, 10,  9,  7,  2,  5,  7,  5, 13,  6,  1,  9,\n",
       "        9,  3,  6,  9,  5, 10, 10,  2,  7,  7,  5,  7,  1,  5,  1,  7,  9,\n",
       "        9,  1,  1,  9,  7,  6], dtype=int64)"
      ]
     },
     "execution_count": 46,
     "metadata": {},
     "output_type": "execute_result"
    }
   ],
   "source": [
    "preds2"
   ]
  },
  {
   "cell_type": "code",
   "execution_count": 47,
   "metadata": {},
   "outputs": [
    {
     "name": "stdout",
     "output_type": "stream",
     "text": [
      "Train Accuracy: 1.0\n",
      "Test Accuracy: 0.6639344262295082\n"
     ]
    }
   ],
   "source": [
    "print(\"Train Accuracy:\", rf_clf.score(X_train, y_train))\n",
    "print(\"Test Accuracy:\" , rf_clf.score(X_test, y_test))"
   ]
  },
  {
   "cell_type": "code",
   "execution_count": 48,
   "metadata": {},
   "outputs": [
    {
     "name": "stdout",
     "output_type": "stream",
     "text": [
      "              precision    recall  f1-score   support\n",
      "\n",
      "           1      0.623     1.000     0.767        33\n",
      "           2      0.786     0.733     0.759        30\n",
      "           3      0.875     0.583     0.700        24\n",
      "           5      0.676     0.694     0.685        36\n",
      "           6      0.583     0.583     0.583        24\n",
      "           7      0.593     0.593     0.593        27\n",
      "           8      0.500     0.143     0.222         7\n",
      "           9      0.556     0.517     0.536        29\n",
      "          10      0.731     0.731     0.731        26\n",
      "          11      1.000     0.333     0.500         3\n",
      "          12      0.000     0.000     0.000         3\n",
      "          13      0.667     1.000     0.800         2\n",
      "\n",
      "    accuracy                          0.664       244\n",
      "   macro avg      0.632     0.576     0.573       244\n",
      "weighted avg      0.666     0.664     0.651       244\n",
      "\n"
     ]
    },
    {
     "name": "stderr",
     "output_type": "stream",
     "text": [
      "C:\\Users\\KIIT\\anaconda3\\lib\\site-packages\\sklearn\\metrics\\_classification.py:1248: UndefinedMetricWarning: Precision and F-score are ill-defined and being set to 0.0 in labels with no predicted samples. Use `zero_division` parameter to control this behavior.\n",
      "  _warn_prf(average, modifier, msg_start, len(result))\n",
      "C:\\Users\\KIIT\\anaconda3\\lib\\site-packages\\sklearn\\metrics\\_classification.py:1248: UndefinedMetricWarning: Precision and F-score are ill-defined and being set to 0.0 in labels with no predicted samples. Use `zero_division` parameter to control this behavior.\n",
      "  _warn_prf(average, modifier, msg_start, len(result))\n",
      "C:\\Users\\KIIT\\anaconda3\\lib\\site-packages\\sklearn\\metrics\\_classification.py:1248: UndefinedMetricWarning: Precision and F-score are ill-defined and being set to 0.0 in labels with no predicted samples. Use `zero_division` parameter to control this behavior.\n",
      "  _warn_prf(average, modifier, msg_start, len(result))\n"
     ]
    }
   ],
   "source": [
    "from sklearn.metrics import classification_report\n",
    "report = classification_report(digits = 3, y_true = y_test, y_pred = preds2)\n",
    "print(report)"
   ]
  },
  {
   "cell_type": "code",
   "execution_count": 49,
   "metadata": {},
   "outputs": [
    {
     "data": {
      "image/png": "[encoded data removed]",
      "text/plain": [
       "<Figure size 432x288 with 2 Axes>"
      ]
     },
     "metadata": {
      "needs_background": "light"
     },
     "output_type": "display_data"
    }
   ],
   "source": [
    "from sklearn.metrics import confusion_matrix\n",
    "\n",
    "conf_mat = confusion_matrix(y_test, preds2)\n",
    "conf_mat_normalized = conf_mat.astype('float') / conf_mat.sum(axis=1)[:, np.newaxis]\n",
    "sns.heatmap(conf_mat_normalized)\n",
    "plt.ylabel('True label')\n",
    "plt.xlabel('Predicted label')\n",
    "plt.show()"
   ]
  },
  {
   "cell_type": "markdown",
   "metadata": {},
   "source": [
    "## Using XGBoost classifier"
   ]
  },
  {
   "cell_type": "code",
   "execution_count": 50,
   "metadata": {},
   "outputs": [],
   "source": [
    "import xgboost as xgb"
   ]
  },
  {
   "cell_type": "code",
   "execution_count": 51,
   "metadata": {},
   "outputs": [
    {
     "name": "stderr",
     "output_type": "stream",
     "text": [
      "C:\\Users\\KIIT\\anaconda3\\lib\\site-packages\\xgboost\\sklearn.py:888: UserWarning: The use of label encoder in XGBClassifier is deprecated and will be removed in a future release. To remove this warning, do the following: 1) Pass option use_label_encoder=False when constructing XGBClassifier object; and 2) Encode your labels (y) as integers starting with 0, i.e. 0, 1, 2, ..., [num_class - 1].\n",
      "  warnings.warn(label_encoder_deprecation_msg, UserWarning)\n"
     ]
    },
    {
     "name": "stdout",
     "output_type": "stream",
     "text": [
      "[12:38:13] WARNING: C:/Users/Administrator/workspace/xgboost-win64_release_1.3.0/src/learner.cc:1061: Starting in XGBoost 1.3.0, the default evaluation metric used with the objective 'multi:softprob' was changed from 'merror' to 'mlogloss'. Explicitly set eval_metric if you'd like to restore the old behavior.\n"
     ]
    },
    {
     "data": {
      "text/plain": [
       "XGBClassifier(base_score=0.5, booster='gbtree', colsample_bylevel=1,\n",
       "              colsample_bynode=1, colsample_bytree=1, gamma=0, gpu_id=-1,\n",
       "              importance_type='gain', interaction_constraints='',\n",
       "              learning_rate=0.1, max_delta_step=0, max_depth=3,\n",
       "              min_child_weight=1, missing=nan, monotone_constraints='()',\n",
       "              n_estimators=1000, n_jobs=8, num_parallel_tree=1,\n",
       "              objective='multi:softprob', random_state=0, reg_alpha=0,\n",
       "              reg_lambda=1, scale_pos_weight=None, subsample=1,\n",
       "              tree_method='exact', validate_parameters=1, verbosity=None)"
      ]
     },
     "execution_count": 51,
     "metadata": {},
     "output_type": "execute_result"
    }
   ],
   "source": [
    "xgb_clf = xgb.XGBClassifier(n_estimators=1000, learning_rate=0.1, max_depth=3)\n",
    "xgb_clf.fit(X_train, y_train)"
   ]
  },
  {
   "cell_type": "code",
   "execution_count": 52,
   "metadata": {},
   "outputs": [],
   "source": [
    "preds3 = xgb_clf.predict(X_test)"
   ]
  },
  {
   "cell_type": "code",
   "execution_count": 53,
   "metadata": {},
   "outputs": [
    {
     "data": {
      "text/plain": [
       "array([ 3, 13,  1,  6,  2,  5,  1,  8,  6,  3, 10,  6,  1,  2,  6,  1,  7,\n",
       "        2,  9,  8,  9,  8,  5, 10,  2,  7,  1,  7,  2,  7,  1,  6,  2,  9,\n",
       "        5,  1,  6,  3,  7,  1,  5,  5,  7,  8,  1,  9,  6,  9, 13, 10,  7,\n",
       "        3,  6, 10,  5,  1, 10,  5,  1,  2,  5,  7,  3, 10, 10,  9,  2,  3,\n",
       "        5,  1,  7,  3,  5,  3,  3,  5,  2, 11,  1, 13,  2,  5, 10,  1,  6,\n",
       "        6,  8,  1,  1,  5,  2,  7,  9,  5,  9,  2,  1,  5,  1,  1,  5,  6,\n",
       "        2,  1, 10, 10,  3,  2,  3,  2, 11,  1,  5,  3,  9,  6,  7,  1,  7,\n",
       "        6, 11,  1, 13,  6,  3,  9,  1,  5, 10,  9,  7,  2,  1,  2,  1,  9,\n",
       "        1,  3,  1, 10,  6,  6,  6, 10,  9,  1,  5,  2,  5, 10,  1,  7,  5,\n",
       "        1,  3,  3,  2, 10,  3,  7,  9,  1,  1,  7,  3,  6,  5,  3,  6,  9,\n",
       "        2,  5,  2,  5,  9,  9,  2, 10,  7, 10, 10,  3,  1,  9, 10, 10, 10,\n",
       "        2,  2, 11,  1,  1,  3,  1,  6,  5,  1, 10,  2,  7,  9,  9,  1,  3,\n",
       "        5,  9,  5,  1,  1,  9, 10,  9,  2,  2,  2,  7,  5, 13,  6,  1,  9,\n",
       "       12,  3,  6,  9,  5,  9, 10,  2,  1,  6,  2,  9,  1,  5,  1,  2,  9,\n",
       "        9,  1,  1,  9,  7,  6], dtype=int64)"
      ]
     },
     "execution_count": 53,
     "metadata": {},
     "output_type": "execute_result"
    }
   ],
   "source": [
    "preds3"
   ]
  },
  {
   "cell_type": "code",
   "execution_count": 54,
   "metadata": {},
   "outputs": [
    {
     "name": "stdout",
     "output_type": "stream",
     "text": [
      "Train Accuracy: 1.0\n",
      "Test Accuracy: 0.6270491803278688\n"
     ]
    }
   ],
   "source": [
    "print(\"Train Accuracy:\", xgb_clf.score(X_train, y_train))\n",
    "print(\"Test Accuracy:\" , xgb_clf.score(X_test, y_test))"
   ]
  },
  {
   "cell_type": "code",
   "execution_count": 55,
   "metadata": {},
   "outputs": [
    {
     "name": "stdout",
     "output_type": "stream",
     "text": [
      "              precision    recall  f1-score   support\n",
      "\n",
      "           1      0.596     0.848     0.700        33\n",
      "           2      0.548     0.567     0.557        30\n",
      "           3      0.565     0.542     0.553        24\n",
      "           5      0.733     0.611     0.667        36\n",
      "           6      0.542     0.542     0.542        24\n",
      "           7      0.700     0.519     0.596        27\n",
      "           8      0.800     0.571     0.667         7\n",
      "           9      0.667     0.690     0.678        29\n",
      "          10      0.708     0.654     0.680        26\n",
      "          11      0.500     0.667     0.571         3\n",
      "          12      1.000     0.333     0.500         3\n",
      "          13      0.400     1.000     0.571         2\n",
      "\n",
      "    accuracy                          0.627       244\n",
      "   macro avg      0.647     0.629     0.607       244\n",
      "weighted avg      0.642     0.627     0.625       244\n",
      "\n"
     ]
    }
   ],
   "source": [
    "from sklearn.metrics import classification_report\n",
    "report = classification_report(digits = 3, y_true = y_test, y_pred = preds3)\n",
    "print(report)"
   ]
  },
  {
   "cell_type": "code",
   "execution_count": 56,
   "metadata": {},
   "outputs": [
    {
     "data": {
      "image/png": "[encoded data removed]",
      "text/plain": [
       "<Figure size 432x288 with 2 Axes>"
      ]
     },
     "metadata": {
      "needs_background": "light"
     },
     "output_type": "display_data"
    }
   ],
   "source": [
    "from sklearn.metrics import confusion_matrix\n",
    "\n",
    "conf_mat = confusion_matrix(y_test, preds3)\n",
    "conf_mat_normalized = conf_mat.astype('float') / conf_mat.sum(axis=1)[:, np.newaxis]\n",
    "sns.heatmap(conf_mat_normalized)\n",
    "plt.ylabel('True label')\n",
    "plt.xlabel('Predicted label')\n",
    "plt.show()"
   ]
  },
  {
   "cell_type": "markdown",
   "metadata": {},
   "source": [
    "## Using GaussianNB"
   ]
  },
  {
   "cell_type": "code",
   "execution_count": 57,
   "metadata": {},
   "outputs": [
    {
     "data": {
      "text/plain": [
       "GaussianNB()"
      ]
     },
     "execution_count": 57,
     "metadata": {},
     "output_type": "execute_result"
    }
   ],
   "source": [
    "from sklearn.naive_bayes import GaussianNB\n",
    "\n",
    "nb_model = GaussianNB()\n",
    "\n",
    "nb_model.fit(X_train, y_train)"
   ]
  },
  {
   "cell_type": "code",
   "execution_count": 58,
   "metadata": {},
   "outputs": [],
   "source": [
    "preds4 = nb_model.predict(X_test)"
   ]
  },
  {
   "cell_type": "code",
   "execution_count": 59,
   "metadata": {},
   "outputs": [
    {
     "data": {
      "text/plain": [
       "array([ 8, 13,  5, 10, 10, 13, 13, 11, 13, 13,  8, 10,  5, 11,  5, 13,  8,\n",
       "       13,  5,  8, 13, 11, 13,  5, 11, 10, 13, 11, 11, 10, 13,  8,  5,  8,\n",
       "        5, 13,  7, 11,  8, 11, 13, 13,  8,  8,  5, 13, 13, 11, 13, 10,  8,\n",
       "        5,  5, 11, 13, 11,  8, 13, 10, 13,  7, 13,  8, 13, 10,  8, 13, 11,\n",
       "       13, 13, 13, 11, 13,  5, 11,  5, 11, 11, 13, 13,  5,  5, 10, 13,  5,\n",
       "        5,  8, 13, 11,  5,  5,  5, 13, 11, 13,  5,  5,  5, 13,  5,  8, 13,\n",
       "        5, 11, 10, 11,  5, 11, 10, 10, 11,  5,  5,  5, 10, 10, 13, 13, 11,\n",
       "       13,  8,  5, 13,  5,  5, 10, 13, 13, 11, 13,  5, 11, 13,  5, 11, 13,\n",
       "       13,  8, 11, 13, 10,  5, 13, 11, 11,  5, 13, 13,  5, 10, 13, 13,  5,\n",
       "       11, 13,  5, 11,  7,  5,  5, 10, 13, 13, 13, 13, 13, 13, 13, 13, 13,\n",
       "        5, 13,  5,  5, 13, 11,  5, 13,  5,  5,  8, 10,  5, 10,  8, 10,  8,\n",
       "        7, 11, 11, 11, 11, 13,  5, 13,  5, 11, 10, 11,  5,  8,  5, 11, 11,\n",
       "       10,  5, 11, 11, 11,  8, 13, 13,  5,  5, 11, 13, 13, 13, 10, 11, 11,\n",
       "       12, 13,  5, 13,  5, 11, 13, 13,  5, 13, 13,  5, 13, 10, 13, 13,  8,\n",
       "        5,  5,  5, 10, 13, 13], dtype=int64)"
      ]
     },
     "execution_count": 59,
     "metadata": {},
     "output_type": "execute_result"
    }
   ],
   "source": [
    "preds4"
   ]
  },
  {
   "cell_type": "code",
   "execution_count": 60,
   "metadata": {},
   "outputs": [
    {
     "name": "stdout",
     "output_type": "stream",
     "text": [
      "Train Accuracy: 0.13204225352112675\n",
      "Test Accuracy: 0.10245901639344263\n"
     ]
    }
   ],
   "source": [
    "print(\"Train Accuracy:\", nb_model.score(X_train, y_train))\n",
    "print(\"Test Accuracy:\" , nb_model.score(X_test, y_test))"
   ]
  },
  {
   "cell_type": "code",
   "execution_count": 61,
   "metadata": {},
   "outputs": [
    {
     "name": "stdout",
     "output_type": "stream",
     "text": [
      "              precision    recall  f1-score   support\n",
      "\n",
      "           1      0.000     0.000     0.000        33\n",
      "           2      0.000     0.000     0.000        30\n",
      "           3      0.000     0.000     0.000        24\n",
      "           5      0.197     0.333     0.247        36\n",
      "           6      0.000     0.000     0.000        24\n",
      "           7      0.000     0.000     0.000        27\n",
      "           8      0.130     0.429     0.200         7\n",
      "           9      0.000     0.000     0.000        29\n",
      "          10      0.192     0.192     0.192        26\n",
      "          11      0.043     0.667     0.080         3\n",
      "          12      1.000     0.333     0.500         3\n",
      "          13      0.024     1.000     0.048         2\n",
      "\n",
      "    accuracy                          0.102       244\n",
      "   macro avg      0.132     0.246     0.106       244\n",
      "weighted avg      0.066     0.102     0.070       244\n",
      "\n"
     ]
    },
    {
     "name": "stderr",
     "output_type": "stream",
     "text": [
      "C:\\Users\\KIIT\\anaconda3\\lib\\site-packages\\sklearn\\metrics\\_classification.py:1248: UndefinedMetricWarning: Precision and F-score are ill-defined and being set to 0.0 in labels with no predicted samples. Use `zero_division` parameter to control this behavior.\n",
      "  _warn_prf(average, modifier, msg_start, len(result))\n",
      "C:\\Users\\KIIT\\anaconda3\\lib\\site-packages\\sklearn\\metrics\\_classification.py:1248: UndefinedMetricWarning: Precision and F-score are ill-defined and being set to 0.0 in labels with no predicted samples. Use `zero_division` parameter to control this behavior.\n",
      "  _warn_prf(average, modifier, msg_start, len(result))\n",
      "C:\\Users\\KIIT\\anaconda3\\lib\\site-packages\\sklearn\\metrics\\_classification.py:1248: UndefinedMetricWarning: Precision and F-score are ill-defined and being set to 0.0 in labels with no predicted samples. Use `zero_division` parameter to control this behavior.\n",
      "  _warn_prf(average, modifier, msg_start, len(result))\n"
     ]
    }
   ],
   "source": [
    "from sklearn.metrics import classification_report\n",
    "report = classification_report(digits = 3, y_true = y_test, y_pred = preds4)\n",
    "print(report)"
   ]
  },
  {
   "cell_type": "code",
   "execution_count": 62,
   "metadata": {},
   "outputs": [
    {
     "data": {
      "image/png": "[encoded data removed]",
      "text/plain": [
       "<Figure size 432x288 with 2 Axes>"
      ]
     },
     "metadata": {
      "needs_background": "light"
     },
     "output_type": "display_data"
    }
   ],
   "source": [
    "from sklearn.metrics import confusion_matrix\n",
    "\n",
    "conf_mat = confusion_matrix(y_test, preds4)\n",
    "conf_mat_normalized = conf_mat.astype('float') / conf_mat.sum(axis=1)[:, np.newaxis]\n",
    "sns.heatmap(conf_mat_normalized)\n",
    "plt.ylabel('True label')\n",
    "plt.xlabel('Predicted label')\n",
    "plt.show()"
   ]
  },
  {
   "cell_type": "markdown",
   "metadata": {},
   "source": [
    "## Using KNNs"
   ]
  },
  {
   "cell_type": "code",
   "execution_count": 63,
   "metadata": {},
   "outputs": [],
   "source": [
    "from sklearn.neighbors import KNeighborsClassifier"
   ]
  },
  {
   "cell_type": "code",
   "execution_count": 65,
   "metadata": {},
   "outputs": [
    {
     "data": {
      "text/plain": [
       "KNeighborsClassifier(n_neighbors=3)"
      ]
     },
     "execution_count": 65,
     "metadata": {},
     "output_type": "execute_result"
    }
   ],
   "source": [
    "knn_model = KNeighborsClassifier(n_neighbors=3)\n",
    "\n",
    "knn_model.fit(X_train, y_train)"
   ]
  },
  {
   "cell_type": "code",
   "execution_count": 66,
   "metadata": {},
   "outputs": [],
   "source": [
    "preds5 = knn_model.predict(X_test)"
   ]
  },
  {
   "cell_type": "code",
   "execution_count": 67,
   "metadata": {},
   "outputs": [
    {
     "data": {
      "text/plain": [
       "array([ 3,  3,  1,  3,  3,  5,  2,  7, 10,  5, 10,  5,  2,  2,  1,  3,  6,\n",
       "       13, 10,  7,  9,  7,  1,  9,  9,  5,  3,  6,  1,  7,  3,  6,  6, 10,\n",
       "        3,  3,  2,  2,  7,  1,  6,  6,  7,  8,  1,  9,  7,  1, 10,  9,  6,\n",
       "        1,  7,  3,  5,  2, 11,  5,  1,  2,  2,  6, 10,  5,  7,  8,  1,  1,\n",
       "        6, 10,  3,  1,  1,  5,  2,  5,  2, 11,  2,  1,  6,  3,  2,  9,  3,\n",
       "        5,  7,  2,  6,  5,  1,  7,  5,  5,  9,  2,  1,  3,  1,  1,  5,  5,\n",
       "        1,  1,  9,  2,  3,  1,  6,  6,  9,  1,  3,  5,  9,  7,  6,  1,  6,\n",
       "        1,  6,  3, 13,  1,  3,  3,  5,  3, 10,  6,  7,  2,  1,  1,  1,  7,\n",
       "        3,  2,  5,  9,  5,  6,  6,  9, 10,  1,  6, 10,  7,  5,  1,  6,  6,\n",
       "        6,  1,  3,  1,  1,  1,  2,  7,  6,  1, 10,  3,  1,  5,  3,  2, 10,\n",
       "        5,  5,  1,  5,  2,  9,  1,  9,  6,  9, 11,  3,  2,  2, 10,  5,  7,\n",
       "        3,  2,  1,  1,  6,  9,  1,  6,  5,  7,  5,  2,  3,  9,  5,  1,  7,\n",
       "        3,  7,  5,  2,  1,  7,  7,  9,  1,  1,  6,  5,  1,  7,  5,  3,  9,\n",
       "        9,  2,  1,  9,  3,  9, 10,  1,  7,  7,  1,  3,  1,  5,  1,  5,  7,\n",
       "        7,  1,  1,  7, 10,  5], dtype=int64)"
      ]
     },
     "execution_count": 67,
     "metadata": {},
     "output_type": "execute_result"
    }
   ],
   "source": [
    "preds5"
   ]
  },
  {
   "cell_type": "code",
   "execution_count": 68,
   "metadata": {},
   "outputs": [
    {
     "name": "stdout",
     "output_type": "stream",
     "text": [
      "Train Accuracy: 0.6584507042253521\n",
      "Test Accuracy: 0.3319672131147541\n"
     ]
    }
   ],
   "source": [
    "print(\"Train Accuracy:\", knn_model.score(X_train, y_train))\n",
    "print(\"Test Accuracy:\" , knn_model.score(X_test, y_test))"
   ]
  },
  {
   "cell_type": "code",
   "execution_count": 69,
   "metadata": {},
   "outputs": [
    {
     "name": "stdout",
     "output_type": "stream",
     "text": [
      "              precision    recall  f1-score   support\n",
      "\n",
      "           1      0.377     0.606     0.465        33\n",
      "           2      0.346     0.300     0.321        30\n",
      "           3      0.290     0.375     0.327        24\n",
      "           5      0.412     0.389     0.400        36\n",
      "           6      0.250     0.292     0.269        24\n",
      "           7      0.179     0.185     0.182        27\n",
      "           8      0.500     0.143     0.222         7\n",
      "           9      0.409     0.310     0.353        29\n",
      "          10      0.400     0.231     0.293        26\n",
      "          11      0.333     0.333     0.333         3\n",
      "          12      0.000     0.000     0.000         3\n",
      "          13      0.000     0.000     0.000         2\n",
      "\n",
      "    accuracy                          0.332       244\n",
      "   macro avg      0.291     0.264     0.264       244\n",
      "weighted avg      0.337     0.332     0.324       244\n",
      "\n"
     ]
    },
    {
     "name": "stderr",
     "output_type": "stream",
     "text": [
      "C:\\Users\\KIIT\\anaconda3\\lib\\site-packages\\sklearn\\metrics\\_classification.py:1248: UndefinedMetricWarning: Precision and F-score are ill-defined and being set to 0.0 in labels with no predicted samples. Use `zero_division` parameter to control this behavior.\n",
      "  _warn_prf(average, modifier, msg_start, len(result))\n",
      "C:\\Users\\KIIT\\anaconda3\\lib\\site-packages\\sklearn\\metrics\\_classification.py:1248: UndefinedMetricWarning: Precision and F-score are ill-defined and being set to 0.0 in labels with no predicted samples. Use `zero_division` parameter to control this behavior.\n",
      "  _warn_prf(average, modifier, msg_start, len(result))\n",
      "C:\\Users\\KIIT\\anaconda3\\lib\\site-packages\\sklearn\\metrics\\_classification.py:1248: UndefinedMetricWarning: Precision and F-score are ill-defined and being set to 0.0 in labels with no predicted samples. Use `zero_division` parameter to control this behavior.\n",
      "  _warn_prf(average, modifier, msg_start, len(result))\n"
     ]
    }
   ],
   "source": [
    "from sklearn.metrics import classification_report\n",
    "report = classification_report(digits = 3, y_true = y_test, y_pred = preds5)\n",
    "print(report)"
   ]
  },
  {
   "cell_type": "code",
   "execution_count": 70,
   "metadata": {},
   "outputs": [
    {
     "data": {
      "image/png": "[encoded data removed]",
      "text/plain": [
       "<Figure size 432x288 with 2 Axes>"
      ]
     },
     "metadata": {
      "needs_background": "light"
     },
     "output_type": "display_data"
    }
   ],
   "source": [
    "from sklearn.metrics import confusion_matrix\n",
    "\n",
    "conf_mat = confusion_matrix(y_test, preds5)\n",
    "conf_mat_normalized = conf_mat.astype('float') / conf_mat.sum(axis=1)[:, np.newaxis]\n",
    "sns.heatmap(conf_mat_normalized)\n",
    "plt.ylabel('True label')\n",
    "plt.xlabel('Predicted label')\n",
    "plt.show()"
   ]
  },
  {
   "cell_type": "markdown",
   "metadata": {},
   "source": [
    "## Using SVMs"
   ]
  },
  {
   "cell_type": "code",
   "execution_count": 71,
   "metadata": {},
   "outputs": [],
   "source": [
    "from sklearn import svm"
   ]
  },
  {
   "cell_type": "code",
   "execution_count": 72,
   "metadata": {},
   "outputs": [
    {
     "data": {
      "text/plain": [
       "SVC(C=1, gamma=1)"
      ]
     },
     "execution_count": 72,
     "metadata": {},
     "output_type": "execute_result"
    }
   ],
   "source": [
    "svm_model = svm.SVC(kernel='rbf', C=1, gamma=1) \n",
    "svm_model.fit(X_train, y_train)"
   ]
  },
  {
   "cell_type": "code",
   "execution_count": 73,
   "metadata": {},
   "outputs": [],
   "source": [
    "preds6 = svm_model.predict(X_test)"
   ]
  },
  {
   "cell_type": "code",
   "execution_count": 74,
   "metadata": {},
   "outputs": [
    {
     "name": "stdout",
     "output_type": "stream",
     "text": [
      "Train Accuracy: 0.8697183098591549\n",
      "Test Accuracy: 0.4385245901639344\n"
     ]
    }
   ],
   "source": [
    "print(\"Train Accuracy:\", svm_model.score(X_train, y_train))\n",
    "print(\"Test Accuracy:\" , svm_model.score(X_test, y_test))"
   ]
  },
  {
   "cell_type": "code",
   "execution_count": 75,
   "metadata": {},
   "outputs": [
    {
     "name": "stdout",
     "output_type": "stream",
     "text": [
      "              precision    recall  f1-score   support\n",
      "\n",
      "           1      0.408     0.879     0.558        33\n",
      "           2      0.500     0.267     0.348        30\n",
      "           3      0.467     0.292     0.359        24\n",
      "           5      0.579     0.611     0.595        36\n",
      "           6      0.273     0.250     0.261        24\n",
      "           7      0.458     0.407     0.431        27\n",
      "           8      0.000     0.000     0.000         7\n",
      "           9      0.367     0.379     0.373        29\n",
      "          10      0.464     0.500     0.481        26\n",
      "          11      0.000     0.000     0.000         3\n",
      "          12      0.000     0.000     0.000         3\n",
      "          13      0.000     0.000     0.000         2\n",
      "\n",
      "    accuracy                          0.439       244\n",
      "   macro avg      0.293     0.299     0.284       244\n",
      "weighted avg      0.419     0.439     0.410       244\n",
      "\n"
     ]
    },
    {
     "name": "stderr",
     "output_type": "stream",
     "text": [
      "C:\\Users\\KIIT\\anaconda3\\lib\\site-packages\\sklearn\\metrics\\_classification.py:1248: UndefinedMetricWarning: Precision and F-score are ill-defined and being set to 0.0 in labels with no predicted samples. Use `zero_division` parameter to control this behavior.\n",
      "  _warn_prf(average, modifier, msg_start, len(result))\n",
      "C:\\Users\\KIIT\\anaconda3\\lib\\site-packages\\sklearn\\metrics\\_classification.py:1248: UndefinedMetricWarning: Precision and F-score are ill-defined and being set to 0.0 in labels with no predicted samples. Use `zero_division` parameter to control this behavior.\n",
      "  _warn_prf(average, modifier, msg_start, len(result))\n",
      "C:\\Users\\KIIT\\anaconda3\\lib\\site-packages\\sklearn\\metrics\\_classification.py:1248: UndefinedMetricWarning: Precision and F-score are ill-defined and being set to 0.0 in labels with no predicted samples. Use `zero_division` parameter to control this behavior.\n",
      "  _warn_prf(average, modifier, msg_start, len(result))\n"
     ]
    }
   ],
   "source": [
    "from sklearn.metrics import classification_report\n",
    "report = classification_report(digits = 3, y_true = y_test, y_pred = preds6)\n",
    "print(report)"
   ]
  },
  {
   "cell_type": "code",
   "execution_count": 76,
   "metadata": {},
   "outputs": [
    {
     "data": {
      "image/png": "[encoded data removed]",
      "text/plain": [
       "<Figure size 432x288 with 2 Axes>"
      ]
     },
     "metadata": {
      "needs_background": "light"
     },
     "output_type": "display_data"
    }
   ],
   "source": [
    "from sklearn.metrics import confusion_matrix\n",
    "\n",
    "conf_mat = confusion_matrix(y_test, preds6)\n",
    "conf_mat_normalized = conf_mat.astype('float') / conf_mat.sum(axis=1)[:, np.newaxis]\n",
    "sns.heatmap(conf_mat_normalized)\n",
    "plt.ylabel('True label')\n",
    "plt.xlabel('Predicted label')\n",
    "plt.show()"
   ]
  },
  {
   "cell_type": "markdown",
   "metadata": {},
   "source": [
    "## Using Decision Tree"
   ]
  },
  {
   "cell_type": "code",
   "execution_count": 77,
   "metadata": {},
   "outputs": [],
   "source": [
    "from sklearn import tree"
   ]
  },
  {
   "cell_type": "code",
   "execution_count": 78,
   "metadata": {},
   "outputs": [
    {
     "data": {
      "text/plain": [
       "DecisionTreeClassifier()"
      ]
     },
     "execution_count": 78,
     "metadata": {},
     "output_type": "execute_result"
    }
   ],
   "source": [
    "dt_model = tree.DecisionTreeClassifier(criterion='gini')\n",
    "dt_model.fit(X_train, y_train)"
   ]
  },
  {
   "cell_type": "code",
   "execution_count": 79,
   "metadata": {},
   "outputs": [],
   "source": [
    "preds7 = dt_model.predict(X_test)"
   ]
  },
  {
   "cell_type": "code",
   "execution_count": 80,
   "metadata": {},
   "outputs": [
    {
     "name": "stdout",
     "output_type": "stream",
     "text": [
      "Train Accuracy: 1.0\n",
      "Test Accuracy: 0.5286885245901639\n"
     ]
    }
   ],
   "source": [
    "print(\"Train Accuracy:\", dt_model.score(X_train, y_train))\n",
    "print(\"Test Accuracy:\" , dt_model.score(X_test, y_test))"
   ]
  },
  {
   "cell_type": "code",
   "execution_count": 81,
   "metadata": {},
   "outputs": [
    {
     "name": "stdout",
     "output_type": "stream",
     "text": [
      "              precision    recall  f1-score   support\n",
      "\n",
      "           1      0.634     0.788     0.703        33\n",
      "           2      0.593     0.533     0.561        30\n",
      "           3      0.435     0.417     0.426        24\n",
      "           5      0.595     0.611     0.603        36\n",
      "           6      0.455     0.625     0.526        24\n",
      "           7      0.444     0.296     0.356        27\n",
      "           8      0.333     0.143     0.200         7\n",
      "           9      0.586     0.586     0.586        29\n",
      "          10      0.500     0.500     0.500        26\n",
      "          11      0.000     0.000     0.000         3\n",
      "          12      1.000     0.333     0.500         3\n",
      "          13      0.000     0.000     0.000         2\n",
      "\n",
      "    accuracy                          0.529       244\n",
      "   macro avg      0.465     0.403     0.413       244\n",
      "weighted avg      0.528     0.529     0.521       244\n",
      "\n"
     ]
    },
    {
     "name": "stderr",
     "output_type": "stream",
     "text": [
      "C:\\Users\\KIIT\\anaconda3\\lib\\site-packages\\sklearn\\metrics\\_classification.py:1248: UndefinedMetricWarning: Precision and F-score are ill-defined and being set to 0.0 in labels with no predicted samples. Use `zero_division` parameter to control this behavior.\n",
      "  _warn_prf(average, modifier, msg_start, len(result))\n",
      "C:\\Users\\KIIT\\anaconda3\\lib\\site-packages\\sklearn\\metrics\\_classification.py:1248: UndefinedMetricWarning: Precision and F-score are ill-defined and being set to 0.0 in labels with no predicted samples. Use `zero_division` parameter to control this behavior.\n",
      "  _warn_prf(average, modifier, msg_start, len(result))\n",
      "C:\\Users\\KIIT\\anaconda3\\lib\\site-packages\\sklearn\\metrics\\_classification.py:1248: UndefinedMetricWarning: Precision and F-score are ill-defined and being set to 0.0 in labels with no predicted samples. Use `zero_division` parameter to control this behavior.\n",
      "  _warn_prf(average, modifier, msg_start, len(result))\n"
     ]
    }
   ],
   "source": [
    "from sklearn.metrics import classification_report\n",
    "report = classification_report(digits = 3, y_true = y_test, y_pred = preds7)\n",
    "print(report)"
   ]
  },
  {
   "cell_type": "code",
   "execution_count": 82,
   "metadata": {},
   "outputs": [
    {
     "data": {
      "image/png": "[encoded data removed]",
      "text/plain": [
       "<Figure size 432x288 with 2 Axes>"
      ]
     },
     "metadata": {
      "needs_background": "light"
     },
     "output_type": "display_data"
    }
   ],
   "source": [
    "from sklearn.metrics import confusion_matrix\n",
    "\n",
    "conf_mat = confusion_matrix(y_test, preds7)\n",
    "conf_mat_normalized = conf_mat.astype('float') / conf_mat.sum(axis=1)[:, np.newaxis]\n",
    "sns.heatmap(conf_mat_normalized)\n",
    "plt.ylabel('True label')\n",
    "plt.xlabel('Predicted label')\n",
    "plt.show()"
   ]
  },
  {
   "cell_type": "markdown",
   "metadata": {},
   "source": [
    "## Hyperparameter Tuning of Random Forest Classifier using RandomisedSearchCV"
   ]
  },
  {
   "cell_type": "code",
   "execution_count": 83,
   "metadata": {},
   "outputs": [],
   "source": [
    "from sklearn.model_selection import RandomizedSearchCV"
   ]
  },
  {
   "cell_type": "code",
   "execution_count": 84,
   "metadata": {},
   "outputs": [],
   "source": [
    "param_random = {\n",
    "\n",
    "'bootstrap': [True],\n",
    "\n",
    "'max_depth': [10, 20, 30, 40, 50, 60, 70, 80, 90, 100, None],\n",
    "\n",
    "'max_features': ['auto', 'sqrt'],\n",
    "\n",
    "'min_samples_leaf': [1, 2, 4],\n",
    "\n",
    "'min_samples_split': [2, 5, 10],\n",
    "\n",
    "'n_estimators': [200, 400, 600, 800, 1000, 1200, 1400, 1600, 1800, 2000]\n",
    "\n",
    "}"
   ]
  },
  {
   "cell_type": "code",
   "execution_count": 85,
   "metadata": {},
   "outputs": [
    {
     "data": {
      "text/plain": [
       "{'bootstrap': [True],\n",
       " 'max_depth': [10, 20, 30, 40, 50, 60, 70, 80, 90, 100, None],\n",
       " 'max_features': ['auto', 'sqrt'],\n",
       " 'min_samples_leaf': [1, 2, 4],\n",
       " 'min_samples_split': [2, 5, 10],\n",
       " 'n_estimators': [200, 400, 600, 800, 1000, 1200, 1400, 1600, 1800, 2000]}"
      ]
     },
     "execution_count": 85,
     "metadata": {},
     "output_type": "execute_result"
    }
   ],
   "source": [
    "param_random"
   ]
  },
  {
   "cell_type": "code",
   "execution_count": 86,
   "metadata": {},
   "outputs": [],
   "source": [
    "rf = RandomForestClassifier()"
   ]
  },
  {
   "cell_type": "code",
   "execution_count": 87,
   "metadata": {},
   "outputs": [],
   "source": [
    "rf_random = RandomizedSearchCV(estimator = rf, param_distributions = param_random, n_iter = 100, cv = 5, verbose=2, random_state=42, n_jobs = -1)"
   ]
  },
  {
   "cell_type": "code",
   "execution_count": 88,
   "metadata": {},
   "outputs": [
    {
     "name": "stdout",
     "output_type": "stream",
     "text": [
      "Fitting 5 folds for each of 100 candidates, totalling 500 fits\n"
     ]
    },
    {
     "name": "stderr",
     "output_type": "stream",
     "text": [
      "C:\\Users\\KIIT\\anaconda3\\lib\\site-packages\\sklearn\\model_selection\\_split.py:668: UserWarning: The least populated class in y has only 3 members, which is less than n_splits=5.\n",
      "  % (min_groups, self.n_splits)), UserWarning)\n"
     ]
    },
    {
     "data": {
      "text/plain": [
       "RandomizedSearchCV(cv=5, estimator=RandomForestClassifier(), n_iter=100,\n",
       "                   n_jobs=-1,\n",
       "                   param_distributions={'bootstrap': [True],\n",
       "                                        'max_depth': [10, 20, 30, 40, 50, 60,\n",
       "                                                      70, 80, 90, 100, None],\n",
       "                                        'max_features': ['auto', 'sqrt'],\n",
       "                                        'min_samples_leaf': [1, 2, 4],\n",
       "                                        'min_samples_split': [2, 5, 10],\n",
       "                                        'n_estimators': [200, 400, 600, 800,\n",
       "                                                         1000, 1200, 1400, 1600,\n",
       "                                                         1800, 2000]},\n",
       "                   random_state=42, verbose=2)"
      ]
     },
     "execution_count": 88,
     "metadata": {},
     "output_type": "execute_result"
    }
   ],
   "source": [
    "rf_random.fit(X_train,y_train)"
   ]
  },
  {
   "cell_type": "code",
   "execution_count": 89,
   "metadata": {},
   "outputs": [
    {
     "data": {
      "text/plain": [
       "{'n_estimators': 200,\n",
       " 'min_samples_split': 2,\n",
       " 'min_samples_leaf': 2,\n",
       " 'max_features': 'auto',\n",
       " 'max_depth': None,\n",
       " 'bootstrap': True}"
      ]
     },
     "execution_count": 89,
     "metadata": {},
     "output_type": "execute_result"
    }
   ],
   "source": [
    "rf_random.best_params_"
   ]
  },
  {
   "cell_type": "code",
   "execution_count": 90,
   "metadata": {},
   "outputs": [],
   "source": [
    "predictions_random = rf_random.predict(X_test)"
   ]
  },
  {
   "cell_type": "code",
   "execution_count": 91,
   "metadata": {},
   "outputs": [
    {
     "data": {
      "text/plain": [
       "array([ 3,  5,  1,  6,  2,  5,  1,  2,  6,  6, 10,  6,  1,  2,  6,  1,  6,\n",
       "        2,  7,  8,  9,  9, 13,  9,  2,  7,  1,  7,  2,  7,  1,  1,  7,  9,\n",
       "        5,  1,  6,  9,  7,  1,  7,  5,  7,  1,  1,  9,  6,  2, 10, 10,  7,\n",
       "        3,  6, 10,  5,  1, 10,  5,  1,  2,  5,  6,  3, 10, 10,  9,  2,  3,\n",
       "        1,  1, 13,  3,  3,  5,  3,  5,  2, 11,  1, 10,  5,  5, 10,  1,  6,\n",
       "        1, 10,  1,  1,  5,  2,  7,  9,  5,  9,  1,  1,  5,  1,  1,  5,  6,\n",
       "        2,  1, 10,  3,  3,  2,  7,  2,  9,  1,  5,  3,  9, 10,  7,  1,  7,\n",
       "        6,  9,  1, 13,  6,  3,  5,  1,  5, 10,  9,  7,  2,  1,  2,  1,  9,\n",
       "        1, 10,  1, 10,  7,  6,  6, 10, 10,  1,  5, 10,  5, 10,  1,  5,  5,\n",
       "        6,  3,  3,  2, 10,  1,  7,  9,  1,  1,  7,  3,  5,  5,  3,  1,  1,\n",
       "        1,  5,  5,  5,  2,  9,  2,  1,  6, 10, 10,  3,  1,  9, 10, 10, 10,\n",
       "        2,  2,  2,  1,  1, 10,  1,  6,  5,  1, 10,  2,  2,  9,  1,  1,  7,\n",
       "        7,  5,  5,  1,  1,  7, 10,  9,  2,  2,  5,  7,  5,  7,  6,  1,  1,\n",
       "        9,  3,  6,  9,  5,  9, 10,  2,  7,  6,  2,  3,  1,  5,  1,  2,  9,\n",
       "        9,  1,  1,  9, 10,  6], dtype=int64)"
      ]
     },
     "execution_count": 91,
     "metadata": {},
     "output_type": "execute_result"
    }
   ],
   "source": [
    "predictions_random"
   ]
  },
  {
   "cell_type": "code",
   "execution_count": 92,
   "metadata": {},
   "outputs": [
    {
     "name": "stdout",
     "output_type": "stream",
     "text": [
      "Train Accuracy: 0.9665492957746479\n",
      "Test Accuracy: 0.6311475409836066\n"
     ]
    }
   ],
   "source": [
    "print(\"Train Accuracy:\", rf_random.score(X_train, y_train))\n",
    "print(\"Test Accuracy:\" , rf_random.score(X_test, y_test))"
   ]
  },
  {
   "cell_type": "code",
   "execution_count": 93,
   "metadata": {},
   "outputs": [
    {
     "name": "stdout",
     "output_type": "stream",
     "text": [
      "              precision    recall  f1-score   support\n",
      "\n",
      "           1      0.579     1.000     0.733        33\n",
      "           2      0.724     0.700     0.712        30\n",
      "           3      0.722     0.542     0.619        24\n",
      "           5      0.735     0.694     0.714        36\n",
      "           6      0.609     0.583     0.596        24\n",
      "           7      0.652     0.556     0.600        27\n",
      "           8      1.000     0.143     0.250         7\n",
      "           9      0.560     0.483     0.519        29\n",
      "          10      0.567     0.654     0.607        26\n",
      "          11      1.000     0.333     0.500         3\n",
      "          12      0.000     0.000     0.000         3\n",
      "          13      0.000     0.000     0.000         2\n",
      "\n",
      "    accuracy                          0.631       244\n",
      "   macro avg      0.596     0.474     0.487       244\n",
      "weighted avg      0.647     0.631     0.618       244\n",
      "\n"
     ]
    },
    {
     "name": "stderr",
     "output_type": "stream",
     "text": [
      "C:\\Users\\KIIT\\anaconda3\\lib\\site-packages\\sklearn\\metrics\\_classification.py:1248: UndefinedMetricWarning: Precision and F-score are ill-defined and being set to 0.0 in labels with no predicted samples. Use `zero_division` parameter to control this behavior.\n",
      "  _warn_prf(average, modifier, msg_start, len(result))\n",
      "C:\\Users\\KIIT\\anaconda3\\lib\\site-packages\\sklearn\\metrics\\_classification.py:1248: UndefinedMetricWarning: Precision and F-score are ill-defined and being set to 0.0 in labels with no predicted samples. Use `zero_division` parameter to control this behavior.\n",
      "  _warn_prf(average, modifier, msg_start, len(result))\n",
      "C:\\Users\\KIIT\\anaconda3\\lib\\site-packages\\sklearn\\metrics\\_classification.py:1248: UndefinedMetricWarning: Precision and F-score are ill-defined and being set to 0.0 in labels with no predicted samples. Use `zero_division` parameter to control this behavior.\n",
      "  _warn_prf(average, modifier, msg_start, len(result))\n"
     ]
    }
   ],
   "source": [
    "from sklearn.metrics import classification_report\n",
    "report = classification_report(digits = 3, y_true = y_test, y_pred = predictions_random)\n",
    "print(report)"
   ]
  },
  {
   "cell_type": "code",
   "execution_count": 94,
   "metadata": {},
   "outputs": [
    {
     "data": {
      "image/png": "[encoded data removed]",
      "text/plain": [
       "<Figure size 432x288 with 2 Axes>"
      ]
     },
     "metadata": {
      "needs_background": "light"
     },
     "output_type": "display_data"
    }
   ],
   "source": [
    "from sklearn.metrics import confusion_matrix\n",
    "\n",
    "conf_mat = confusion_matrix(y_test, predictions_random)\n",
    "conf_mat_normalized = conf_mat.astype('float') / conf_mat.sum(axis=1)[:, np.newaxis]\n",
    "sns.heatmap(conf_mat_normalized)\n",
    "plt.ylabel('True label')\n",
    "plt.xlabel('Predicted label')\n",
    "plt.show()"
   ]
  },
  {
   "cell_type": "markdown",
   "metadata": {},
   "source": [
    "## Hyperparameter Tuning of Random Forest Classifier using GridSearchCV"
   ]
  },
  {
   "cell_type": "code",
   "execution_count": 95,
   "metadata": {},
   "outputs": [],
   "source": [
    "from sklearn.model_selection import GridSearchCV"
   ]
  },
  {
   "cell_type": "code",
   "execution_count": 96,
   "metadata": {},
   "outputs": [],
   "source": [
    "param_grid = {\n",
    "\n",
    "    'n_estimators': [100, 300, 500, 800, 1200],\n",
    "    'max_depth': [5, 8, 15, 25, 30],\n",
    "    'min_samples_split': [2, 5, 10, 15, 100],\n",
    "    'min_samples_leaf': [1, 2, 5, 10] \n",
    "}"
   ]
  },
  {
   "cell_type": "code",
   "execution_count": 97,
   "metadata": {},
   "outputs": [
    {
     "data": {
      "text/plain": [
       "{'n_estimators': [100, 300, 500, 800, 1200],\n",
       " 'max_depth': [5, 8, 15, 25, 30],\n",
       " 'min_samples_split': [2, 5, 10, 15, 100],\n",
       " 'min_samples_leaf': [1, 2, 5, 10]}"
      ]
     },
     "execution_count": 97,
     "metadata": {},
     "output_type": "execute_result"
    }
   ],
   "source": [
    "param_grid"
   ]
  },
  {
   "cell_type": "code",
   "execution_count": 98,
   "metadata": {},
   "outputs": [],
   "source": [
    "rf = RandomForestClassifier()"
   ]
  },
  {
   "cell_type": "code",
   "execution_count": 99,
   "metadata": {},
   "outputs": [],
   "source": [
    "rf_grid = GridSearchCV(estimator = rf, param_grid = param_grid, \n",
    "\n",
    "                          cv = 5, n_jobs = -1, verbose = 2)"
   ]
  },
  {
   "cell_type": "code",
   "execution_count": 100,
   "metadata": {},
   "outputs": [
    {
     "name": "stdout",
     "output_type": "stream",
     "text": [
      "Fitting 5 folds for each of 500 candidates, totalling 2500 fits\n"
     ]
    },
    {
     "name": "stderr",
     "output_type": "stream",
     "text": [
      "C:\\Users\\KIIT\\anaconda3\\lib\\site-packages\\sklearn\\model_selection\\_split.py:668: UserWarning: The least populated class in y has only 3 members, which is less than n_splits=5.\n",
      "  % (min_groups, self.n_splits)), UserWarning)\n"
     ]
    },
    {
     "data": {
      "text/plain": [
       "GridSearchCV(cv=5, estimator=RandomForestClassifier(), n_jobs=-1,\n",
       "             param_grid={'max_depth': [5, 8, 15, 25, 30],\n",
       "                         'min_samples_leaf': [1, 2, 5, 10],\n",
       "                         'min_samples_split': [2, 5, 10, 15, 100],\n",
       "                         'n_estimators': [100, 300, 500, 800, 1200]},\n",
       "             verbose=2)"
      ]
     },
     "execution_count": 100,
     "metadata": {},
     "output_type": "execute_result"
    }
   ],
   "source": [
    "rf_grid.fit(X_train,y_train)"
   ]
  },
  {
   "cell_type": "code",
   "execution_count": 101,
   "metadata": {},
   "outputs": [
    {
     "data": {
      "text/plain": [
       "{'max_depth': 30,\n",
       " 'min_samples_leaf': 1,\n",
       " 'min_samples_split': 2,\n",
       " 'n_estimators': 1200}"
      ]
     },
     "execution_count": 101,
     "metadata": {},
     "output_type": "execute_result"
    }
   ],
   "source": [
    "rf_grid.best_params_"
   ]
  },
  {
   "cell_type": "code",
   "execution_count": 102,
   "metadata": {},
   "outputs": [],
   "source": [
    "predictions_grid = rf_grid.predict(X_test)"
   ]
  },
  {
   "cell_type": "code",
   "execution_count": 103,
   "metadata": {},
   "outputs": [
    {
     "data": {
      "text/plain": [
       "array([ 3,  5,  1,  6,  2,  5,  1,  7,  6,  6, 10,  7,  1,  2,  6,  1,  6,\n",
       "       13,  7,  8,  9,  7,  6,  9,  2,  7,  1,  7,  2,  7,  1,  6,  7,  9,\n",
       "        5,  1,  7,  9,  7,  1,  7,  5,  7,  1,  1,  9,  6,  2, 10, 10,  7,\n",
       "        3,  6, 10,  5,  1, 10,  5,  1,  2,  5,  6,  3, 10, 10,  9,  2,  3,\n",
       "        1,  1,  6,  3,  3,  5,  9,  5,  2, 11,  1,  2,  5,  5,  2,  1,  6,\n",
       "        1, 10,  1,  1,  5,  2,  7,  9,  5,  9,  1,  1,  5,  1,  1,  5,  6,\n",
       "        2,  1, 10,  3,  3,  2,  7,  2,  9,  1,  5,  3,  9, 10,  7,  1,  7,\n",
       "        5,  9,  1,  6,  6,  3,  6,  1,  5, 10,  9,  7,  2,  1,  2,  1,  9,\n",
       "        1,  2,  1, 10,  5,  6,  6, 10,  9,  1,  5, 10,  5, 10,  1,  5,  6,\n",
       "        6,  3,  3,  2, 10,  1,  7,  9,  1,  1,  7,  3,  5,  5,  3,  1,  1,\n",
       "        1,  5,  2,  5,  2,  9,  2, 10,  6, 10, 10,  3,  1,  5, 10, 10, 10,\n",
       "        2,  2,  2,  1,  1, 10,  1,  6,  5,  1, 10,  2,  2,  9,  1,  1,  7,\n",
       "        7,  5,  5,  1,  1,  7, 10,  9,  7,  2,  5,  7,  5,  7,  6,  1,  1,\n",
       "       12,  3,  6,  9,  5, 10, 10,  2,  5,  7,  5,  3,  1,  5,  1,  2,  9,\n",
       "        9,  1,  1,  9,  7,  6], dtype=int64)"
      ]
     },
     "execution_count": 103,
     "metadata": {},
     "output_type": "execute_result"
    }
   ],
   "source": [
    "predictions_grid"
   ]
  },
  {
   "cell_type": "code",
   "execution_count": 104,
   "metadata": {},
   "outputs": [
    {
     "name": "stdout",
     "output_type": "stream",
     "text": [
      "Train Accuracy: 1.0\n",
      "Test Accuracy: 0.6557377049180327\n"
     ]
    }
   ],
   "source": [
    "print(\"Train Accuracy:\", rf_grid.score(X_train, y_train))\n",
    "print(\"Test Accuracy:\" , rf_grid.score(X_test, y_test))"
   ]
  },
  {
   "cell_type": "code",
   "execution_count": 105,
   "metadata": {},
   "outputs": [
    {
     "name": "stdout",
     "output_type": "stream",
     "text": [
      "              precision    recall  f1-score   support\n",
      "\n",
      "           1      0.600     1.000     0.750        33\n",
      "           2      0.759     0.733     0.746        30\n",
      "           3      0.765     0.542     0.634        24\n",
      "           5      0.694     0.694     0.694        36\n",
      "           6      0.560     0.583     0.571        24\n",
      "           7      0.571     0.593     0.582        27\n",
      "           8      1.000     0.143     0.250         7\n",
      "           9      0.652     0.517     0.577        29\n",
      "          10      0.704     0.731     0.717        26\n",
      "          11      1.000     0.333     0.500         3\n",
      "          12      1.000     0.333     0.500         3\n",
      "          13      0.000     0.000     0.000         2\n",
      "\n",
      "    accuracy                          0.656       244\n",
      "   macro avg      0.692     0.517     0.543       244\n",
      "weighted avg      0.676     0.656     0.643       244\n",
      "\n"
     ]
    }
   ],
   "source": [
    "from sklearn.metrics import classification_report\n",
    "report = classification_report(digits = 3, y_true = y_test, y_pred = predictions_grid)\n",
    "print(report)"
   ]
  },
  {
   "cell_type": "code",
   "execution_count": 106,
   "metadata": {},
   "outputs": [
    {
     "data": {
      "image/png": "[encoded data removed]",
      "text/plain": [
       "<Figure size 432x288 with 2 Axes>"
      ]
     },
     "metadata": {
      "needs_background": "light"
     },
     "output_type": "display_data"
    }
   ],
   "source": [
    "from sklearn.metrics import confusion_matrix\n",
    "\n",
    "conf_mat = confusion_matrix(y_test, predictions_grid)\n",
    "conf_mat_normalized = conf_mat.astype('float') / conf_mat.sum(axis=1)[:, np.newaxis]\n",
    "sns.heatmap(conf_mat_normalized)\n",
    "plt.ylabel('True label')\n",
    "plt.xlabel('Predicted label')\n",
    "plt.show()\n"
   ]
  },
  {
   "cell_type": "code",
   "execution_count": 117,
   "metadata": {},
   "outputs": [],
   "source": [
    "import pickle\n",
    "\n",
    "file = open(r'C:\\Users\\KIIT\\Documents\\LGM-Soc contributions\\IPL Winner Prediction\\Model/grid_rf_model.pkl','wb')"
   ]
  },
  {
   "cell_type": "code",
   "execution_count": 118,
   "metadata": {},
   "outputs": [],
   "source": [
    "pickle.dump(rf_grid, file)"
   ]
  },
  {
   "cell_type": "markdown",
   "metadata": {},
   "source": [
    "## Saving the predictions of the the hypertuned Random Forest Classifier in CSV file"
   ]
  },
  {
   "cell_type": "code",
   "execution_count": 147,
   "metadata": {},
   "outputs": [
    {
     "data": {
      "text/html": [
       "<div>\n",
       "<style scoped>\n",
       "    .dataframe tbody tr th:only-of-type {\n",
       "        vertical-align: middle;\n",
       "    }\n",
       "\n",
       "    .dataframe tbody tr th {\n",
       "        vertical-align: top;\n",
       "    }\n",
       "\n",
       "    .dataframe thead th {\n",
       "        text-align: right;\n",
       "    }\n",
       "</style>\n",
       "<table border=\"1\" class=\"dataframe\">\n",
       "  <thead>\n",
       "    <tr style=\"text-align: right;\">\n",
       "      <th></th>\n",
       "      <th>Predicted Winner</th>\n",
       "    </tr>\n",
       "  </thead>\n",
       "  <tbody>\n",
       "    <tr>\n",
       "      <th>0</th>\n",
       "      <td>3</td>\n",
       "    </tr>\n",
       "    <tr>\n",
       "      <th>1</th>\n",
       "      <td>5</td>\n",
       "    </tr>\n",
       "    <tr>\n",
       "      <th>2</th>\n",
       "      <td>1</td>\n",
       "    </tr>\n",
       "    <tr>\n",
       "      <th>3</th>\n",
       "      <td>6</td>\n",
       "    </tr>\n",
       "    <tr>\n",
       "      <th>4</th>\n",
       "      <td>2</td>\n",
       "    </tr>\n",
       "    <tr>\n",
       "      <th>...</th>\n",
       "      <td>...</td>\n",
       "    </tr>\n",
       "    <tr>\n",
       "      <th>239</th>\n",
       "      <td>1</td>\n",
       "    </tr>\n",
       "    <tr>\n",
       "      <th>240</th>\n",
       "      <td>1</td>\n",
       "    </tr>\n",
       "    <tr>\n",
       "      <th>241</th>\n",
       "      <td>9</td>\n",
       "    </tr>\n",
       "    <tr>\n",
       "      <th>242</th>\n",
       "      <td>7</td>\n",
       "    </tr>\n",
       "    <tr>\n",
       "      <th>243</th>\n",
       "      <td>6</td>\n",
       "    </tr>\n",
       "  </tbody>\n",
       "</table>\n",
       "<p>244 rows × 1 columns</p>\n",
       "</div>"
      ],
      "text/plain": [
       "     Predicted Winner\n",
       "0                   3\n",
       "1                   5\n",
       "2                   1\n",
       "3                   6\n",
       "4                   2\n",
       "..                ...\n",
       "239                 1\n",
       "240                 1\n",
       "241                 9\n",
       "242                 7\n",
       "243                 6\n",
       "\n",
       "[244 rows x 1 columns]"
      ]
     },
     "execution_count": 147,
     "metadata": {},
     "output_type": "execute_result"
    }
   ],
   "source": [
    "rf_grid_predictions = pd.DataFrame()\n",
    "rf_grid_predictions['Predicted Winner'] = predictions_grid\n",
    "rf_grid_predictions"
   ]
  },
  {
   "cell_type": "code",
   "execution_count": 149,
   "metadata": {},
   "outputs": [],
   "source": [
    "rf_grid_predictions['Predicted Winner(Encoded)']  = rf_grid_predictions['Predicted Winner'].apply(str)"
   ]
  },
  {
   "cell_type": "code",
   "execution_count": 150,
   "metadata": {},
   "outputs": [
    {
     "data": {
      "text/html": [
       "<div>\n",
       "<style scoped>\n",
       "    .dataframe tbody tr th:only-of-type {\n",
       "        vertical-align: middle;\n",
       "    }\n",
       "\n",
       "    .dataframe tbody tr th {\n",
       "        vertical-align: top;\n",
       "    }\n",
       "\n",
       "    .dataframe thead th {\n",
       "        text-align: right;\n",
       "    }\n",
       "</style>\n",
       "<table border=\"1\" class=\"dataframe\">\n",
       "  <thead>\n",
       "    <tr style=\"text-align: right;\">\n",
       "      <th></th>\n",
       "      <th>Predicted Winner</th>\n",
       "      <th>Predicted Winner(Encoded)</th>\n",
       "    </tr>\n",
       "  </thead>\n",
       "  <tbody>\n",
       "    <tr>\n",
       "      <th>0</th>\n",
       "      <td>3</td>\n",
       "      <td>RCB</td>\n",
       "    </tr>\n",
       "    <tr>\n",
       "      <th>1</th>\n",
       "      <td>5</td>\n",
       "      <td>CSK</td>\n",
       "    </tr>\n",
       "    <tr>\n",
       "      <th>2</th>\n",
       "      <td>1</td>\n",
       "      <td>MI</td>\n",
       "    </tr>\n",
       "    <tr>\n",
       "      <th>3</th>\n",
       "      <td>6</td>\n",
       "      <td>RR</td>\n",
       "    </tr>\n",
       "    <tr>\n",
       "      <th>4</th>\n",
       "      <td>2</td>\n",
       "      <td>KKR</td>\n",
       "    </tr>\n",
       "  </tbody>\n",
       "</table>\n",
       "</div>"
      ],
      "text/plain": [
       "   Predicted Winner Predicted Winner(Encoded)\n",
       "0                 3                       RCB\n",
       "1                 5                       CSK\n",
       "2                 1                        MI\n",
       "3                 6                        RR\n",
       "4                 2                       KKR"
      ]
     },
     "execution_count": 150,
     "metadata": {},
     "output_type": "execute_result"
    }
   ],
   "source": [
    "rf_grid_predictions.replace(['1','2','3','4','5','6','7','8','9','10','11','12','13','14']\n",
    "                ,['MI','KKR','RCB','DC','CSK','RR','DD','GL','KXIP','SRH','RPS','KTK','PW','Draw'],inplace=True)\n",
    "\n",
    "\n",
    "rf_grid_predictions.head(5)"
   ]
  },
  {
   "cell_type": "code",
   "execution_count": 151,
   "metadata": {},
   "outputs": [],
   "source": [
    "rf_grid_predictions.to_csv(r'C:\\Users\\KIIT\\Documents\\LGM-Soc contributions\\IPL Winner Prediction\\Dataset/HT_grid Random Forest predictions.csv',header=True,index=False)"
   ]
  },
  {
   "cell_type": "markdown",
   "metadata": {},
   "source": [
    "## Hyperparameter Tuning of XGBoost Classifier using GridSearchCV"
   ]
  },
  {
   "cell_type": "code",
   "execution_count": 109,
   "metadata": {},
   "outputs": [],
   "source": [
    "from xgboost import XGBClassifier"
   ]
  },
  {
   "cell_type": "code",
   "execution_count": 110,
   "metadata": {},
   "outputs": [],
   "source": [
    "def hyperParameterTuning(X_train, y_train):\n",
    "    param_tuning = {\n",
    "        'learning_rate': [0.01, 0.1],\n",
    "        'max_depth': [3, 5, 7, 10],\n",
    "        'min_child_weight': [1, 3, 5],\n",
    "        'subsample': [0.5, 0.7],\n",
    "        'colsample_bytree': [0.5, 0.7],\n",
    "        'n_estimators' : [100, 200, 500],\n",
    "        'objective': ['reg:squarederror']\n",
    "    }\n",
    "    XGB = XGBClassifier()\n",
    "    \n",
    "    gridsearch = GridSearchCV(estimator = XGB,\n",
    "                           param_grid = param_tuning,                        \n",
    "                           cv = 5,\n",
    "                           n_jobs = -1,\n",
    "                           verbose = 1)\n",
    "\n",
    "    gridsearch.fit(X_train,y_train)\n",
    "\n",
    "    return gridsearch.best_params"
   ]
  },
  {
   "cell_type": "code",
   "execution_count": 111,
   "metadata": {},
   "outputs": [
    {
     "name": "stderr",
     "output_type": "stream",
     "text": [
      "C:\\Users\\KIIT\\anaconda3\\lib\\site-packages\\xgboost\\sklearn.py:888: UserWarning: The use of label encoder in XGBClassifier is deprecated and will be removed in a future release. To remove this warning, do the following: 1) Pass option use_label_encoder=False when constructing XGBClassifier object; and 2) Encode your labels (y) as integers starting with 0, i.e. 0, 1, 2, ..., [num_class - 1].\n",
      "  warnings.warn(label_encoder_deprecation_msg, UserWarning)\n"
     ]
    },
    {
     "name": "stdout",
     "output_type": "stream",
     "text": [
      "[12:59:30] WARNING: C:/Users/Administrator/workspace/xgboost-win64_release_1.3.0/src/learner.cc:1061: Starting in XGBoost 1.3.0, the default evaluation metric used with the objective 'multi:softprob' was changed from 'merror' to 'mlogloss'. Explicitly set eval_metric if you'd like to restore the old behavior.\n"
     ]
    },
    {
     "data": {
      "text/plain": [
       "XGBClassifier(base_score=0.5, booster='gbtree', colsample_bylevel=1,\n",
       "              colsample_bynode=1, colsample_bytree=0.5, gamma=0, gpu_id=-1,\n",
       "              importance_type='gain', interaction_constraints='',\n",
       "              learning_rate=0.05, max_delta_step=0, max_depth=6,\n",
       "              min_child_weight=1, missing=nan, monotone_constraints='()',\n",
       "              n_estimators=1000, n_jobs=8, num_parallel_tree=1,\n",
       "              objective='multi:softprob', random_state=0, reg_alpha=0,\n",
       "              reg_lambda=1, scale_pos_weight=None, subsample=0.7,\n",
       "              tree_method='exact', validate_parameters=1, verbosity=None)"
      ]
     },
     "execution_count": 111,
     "metadata": {},
     "output_type": "execute_result"
    }
   ],
   "source": [
    "XGB_grid = XGBClassifier(\n",
    "        objective = 'reg:squarederror',\n",
    "        colsample_bytree = 0.5,\n",
    "        learning_rate = 0.05,\n",
    "        max_depth = 6,\n",
    "        min_child_weight = 1,\n",
    "        n_estimators = 1000,\n",
    "        subsample = 0.7)\n",
    "\n",
    "XGB_grid.fit(X_train, y_train, early_stopping_rounds=5, eval_set=[(X_test, y_test)], verbose=False)"
   ]
  },
  {
   "cell_type": "code",
   "execution_count": 112,
   "metadata": {},
   "outputs": [],
   "source": [
    "predictions_xgb_grid = XGB_grid.predict(X_test)"
   ]
  },
  {
   "cell_type": "code",
   "execution_count": 113,
   "metadata": {},
   "outputs": [
    {
     "data": {
      "text/plain": [
       "array([ 3,  5,  1,  6,  2,  5,  1,  2,  6,  6, 10,  6,  1,  2,  6,  1,  6,\n",
       "        2,  7,  8,  9,  2,  5, 10,  2,  7,  1,  7,  2,  7,  1,  6,  7,  9,\n",
       "        5,  1,  9,  3,  7,  1,  7,  5,  7,  8,  1,  9,  6,  2,  7, 10,  7,\n",
       "        3,  6, 10,  5,  1, 10,  5,  1,  2,  5,  6,  3, 13, 10,  9,  2,  7,\n",
       "        1, 10,  7,  3,  5,  3,  3,  5,  2, 11,  1,  2,  5,  5, 10,  1,  6,\n",
       "        6,  9,  1,  1,  5,  2,  7,  9,  5,  9,  1,  1,  5,  1,  1,  5,  6,\n",
       "        2,  1, 10,  3,  3,  2,  7,  9, 11,  1,  5,  3,  9, 10,  7,  1,  7,\n",
       "        6, 11,  1, 13,  6,  3,  5,  1,  5, 10,  9,  7,  2,  1,  3,  1,  9,\n",
       "        1, 10,  1, 10,  6,  6,  6, 10,  9,  1,  5,  2,  5, 10,  1,  7,  5,\n",
       "        6,  3,  3,  2, 10,  3,  7,  9,  1,  1,  7,  3,  6,  5,  3,  6,  1,\n",
       "        1,  5,  5,  5,  2,  9,  2, 10,  1, 10, 10,  3,  1,  9, 10, 10,  7,\n",
       "        2,  2, 11,  1,  1,  3,  1,  6,  5,  8, 10,  2,  2,  9,  9,  1,  3,\n",
       "        5,  5,  5,  1,  1,  7, 10,  9,  2,  2,  5,  7,  5,  9,  6,  9,  9,\n",
       "       12,  3,  6,  9,  5,  9, 10,  2,  1,  6,  6,  3,  1,  5,  1,  2,  9,\n",
       "        9,  1,  1,  9,  7,  6], dtype=int64)"
      ]
     },
     "execution_count": 113,
     "metadata": {},
     "output_type": "execute_result"
    }
   ],
   "source": [
    "predictions_xgb_grid"
   ]
  },
  {
   "cell_type": "code",
   "execution_count": 114,
   "metadata": {},
   "outputs": [
    {
     "name": "stdout",
     "output_type": "stream",
     "text": [
      "Train Accuracy: 0.9964788732394366\n",
      "Test Accuracy: 0.6639344262295082\n"
     ]
    }
   ],
   "source": [
    "print(\"Train Accuracy:\", XGB_grid.score(X_train, y_train))\n",
    "print(\"Test Accuracy:\" , XGB_grid.score(X_test, y_test))"
   ]
  },
  {
   "cell_type": "code",
   "execution_count": 115,
   "metadata": {},
   "outputs": [
    {
     "name": "stdout",
     "output_type": "stream",
     "text": [
      "              precision    recall  f1-score   support\n",
      "\n",
      "           1      0.604     0.879     0.716        33\n",
      "           2      0.679     0.633     0.655        30\n",
      "           3      0.545     0.500     0.522        24\n",
      "           5      0.765     0.722     0.743        36\n",
      "           6      0.630     0.708     0.667        24\n",
      "           7      0.708     0.630     0.667        27\n",
      "           8      1.000     0.429     0.600         7\n",
      "           9      0.667     0.621     0.643        29\n",
      "          10      0.750     0.692     0.720        26\n",
      "          11      0.500     0.667     0.571         3\n",
      "          12      1.000     0.333     0.500         3\n",
      "          13      0.000     0.000     0.000         2\n",
      "\n",
      "    accuracy                          0.664       244\n",
      "   macro avg      0.654     0.568     0.584       244\n",
      "weighted avg      0.678     0.664     0.661       244\n",
      "\n"
     ]
    }
   ],
   "source": [
    "from sklearn.metrics import classification_report\n",
    "report = classification_report(digits = 3, y_true = y_test, y_pred = predictions_xgb_grid)\n",
    "print(report)"
   ]
  },
  {
   "cell_type": "code",
   "execution_count": 116,
   "metadata": {},
   "outputs": [
    {
     "data": {
      "image/png": "[encoded data removed]",
      "text/plain": [
       "<Figure size 432x288 with 2 Axes>"
      ]
     },
     "metadata": {
      "needs_background": "light"
     },
     "output_type": "display_data"
    }
   ],
   "source": [
    "from sklearn.metrics import confusion_matrix\n",
    "\n",
    "conf_mat = confusion_matrix(y_test,predictions_xgb_grid)\n",
    "conf_mat_normalized = conf_mat.astype('float') / conf_mat.sum(axis=1)[:, np.newaxis]\n",
    "sns.heatmap(conf_mat_normalized)\n",
    "plt.ylabel('True label')\n",
    "plt.xlabel('Predicted label')\n",
    "plt.show()\n"
   ]
  },
  {
   "cell_type": "code",
   "execution_count": 121,
   "metadata": {},
   "outputs": [],
   "source": [
    "import pickle\n",
    "\n",
    "file = open(r'C:\\Users\\KIIT\\Documents\\LGM-Soc contributions\\IPL Winner Prediction\\Model/grid_xgb_model.pkl','wb')"
   ]
  },
  {
   "cell_type": "code",
   "execution_count": 122,
   "metadata": {},
   "outputs": [],
   "source": [
    "pickle.dump(XGB_grid, file)"
   ]
  },
  {
   "cell_type": "markdown",
   "metadata": {},
   "source": [
    "## Saving the predictions of the the hypertuned XGBoost Classifier in CSV file"
   ]
  },
  {
   "cell_type": "code",
   "execution_count": 143,
   "metadata": {},
   "outputs": [
    {
     "data": {
      "text/html": [
       "<div>\n",
       "<style scoped>\n",
       "    .dataframe tbody tr th:only-of-type {\n",
       "        vertical-align: middle;\n",
       "    }\n",
       "\n",
       "    .dataframe tbody tr th {\n",
       "        vertical-align: top;\n",
       "    }\n",
       "\n",
       "    .dataframe thead th {\n",
       "        text-align: right;\n",
       "    }\n",
       "</style>\n",
       "<table border=\"1\" class=\"dataframe\">\n",
       "  <thead>\n",
       "    <tr style=\"text-align: right;\">\n",
       "      <th></th>\n",
       "      <th>Predicted Winner</th>\n",
       "    </tr>\n",
       "  </thead>\n",
       "  <tbody>\n",
       "    <tr>\n",
       "      <th>0</th>\n",
       "      <td>3</td>\n",
       "    </tr>\n",
       "    <tr>\n",
       "      <th>1</th>\n",
       "      <td>5</td>\n",
       "    </tr>\n",
       "    <tr>\n",
       "      <th>2</th>\n",
       "      <td>1</td>\n",
       "    </tr>\n",
       "    <tr>\n",
       "      <th>3</th>\n",
       "      <td>6</td>\n",
       "    </tr>\n",
       "    <tr>\n",
       "      <th>4</th>\n",
       "      <td>2</td>\n",
       "    </tr>\n",
       "    <tr>\n",
       "      <th>...</th>\n",
       "      <td>...</td>\n",
       "    </tr>\n",
       "    <tr>\n",
       "      <th>239</th>\n",
       "      <td>1</td>\n",
       "    </tr>\n",
       "    <tr>\n",
       "      <th>240</th>\n",
       "      <td>1</td>\n",
       "    </tr>\n",
       "    <tr>\n",
       "      <th>241</th>\n",
       "      <td>9</td>\n",
       "    </tr>\n",
       "    <tr>\n",
       "      <th>242</th>\n",
       "      <td>7</td>\n",
       "    </tr>\n",
       "    <tr>\n",
       "      <th>243</th>\n",
       "      <td>6</td>\n",
       "    </tr>\n",
       "  </tbody>\n",
       "</table>\n",
       "<p>244 rows × 1 columns</p>\n",
       "</div>"
      ],
      "text/plain": [
       "     Predicted Winner\n",
       "0                   3\n",
       "1                   5\n",
       "2                   1\n",
       "3                   6\n",
       "4                   2\n",
       "..                ...\n",
       "239                 1\n",
       "240                 1\n",
       "241                 9\n",
       "242                 7\n",
       "243                 6\n",
       "\n",
       "[244 rows x 1 columns]"
      ]
     },
     "execution_count": 143,
     "metadata": {},
     "output_type": "execute_result"
    }
   ],
   "source": [
    "xgb_predictions = pd.DataFrame()\n",
    "xgb_predictions['Predicted Winner'] = predictions_xgb_grid\n",
    "xgb_predictions"
   ]
  },
  {
   "cell_type": "code",
   "execution_count": 144,
   "metadata": {},
   "outputs": [],
   "source": [
    "xgb_predictions['Predicted Winner(Encoded)']  = xgb_predictions['Predicted Winner'].apply(str)"
   ]
  },
  {
   "cell_type": "code",
   "execution_count": 145,
   "metadata": {},
   "outputs": [
    {
     "data": {
      "text/html": [
       "<div>\n",
       "<style scoped>\n",
       "    .dataframe tbody tr th:only-of-type {\n",
       "        vertical-align: middle;\n",
       "    }\n",
       "\n",
       "    .dataframe tbody tr th {\n",
       "        vertical-align: top;\n",
       "    }\n",
       "\n",
       "    .dataframe thead th {\n",
       "        text-align: right;\n",
       "    }\n",
       "</style>\n",
       "<table border=\"1\" class=\"dataframe\">\n",
       "  <thead>\n",
       "    <tr style=\"text-align: right;\">\n",
       "      <th></th>\n",
       "      <th>Predicted Winner</th>\n",
       "      <th>Predicted Winner(Encoded)</th>\n",
       "    </tr>\n",
       "  </thead>\n",
       "  <tbody>\n",
       "    <tr>\n",
       "      <th>0</th>\n",
       "      <td>3</td>\n",
       "      <td>RCB</td>\n",
       "    </tr>\n",
       "    <tr>\n",
       "      <th>1</th>\n",
       "      <td>5</td>\n",
       "      <td>CSK</td>\n",
       "    </tr>\n",
       "    <tr>\n",
       "      <th>2</th>\n",
       "      <td>1</td>\n",
       "      <td>MI</td>\n",
       "    </tr>\n",
       "    <tr>\n",
       "      <th>3</th>\n",
       "      <td>6</td>\n",
       "      <td>RR</td>\n",
       "    </tr>\n",
       "    <tr>\n",
       "      <th>4</th>\n",
       "      <td>2</td>\n",
       "      <td>KKR</td>\n",
       "    </tr>\n",
       "  </tbody>\n",
       "</table>\n",
       "</div>"
      ],
      "text/plain": [
       "   Predicted Winner Predicted Winner(Encoded)\n",
       "0                 3                       RCB\n",
       "1                 5                       CSK\n",
       "2                 1                        MI\n",
       "3                 6                        RR\n",
       "4                 2                       KKR"
      ]
     },
     "execution_count": 145,
     "metadata": {},
     "output_type": "execute_result"
    }
   ],
   "source": [
    "xgb_predictions.replace(['1','2','3','4','5','6','7','8','9','10','11','12','13','14']\n",
    "                ,['MI','KKR','RCB','DC','CSK','RR','DD','GL','KXIP','SRH','RPS','KTK','PW','Draw'],inplace=True)\n",
    "\n",
    "\n",
    "xgb_predictions.head(5)"
   ]
  },
  {
   "cell_type": "code",
   "execution_count": 146,
   "metadata": {},
   "outputs": [],
   "source": [
    "xgb_predictions.to_csv(r'C:\\Users\\KIIT\\Documents\\LGM-Soc contributions\\IPL Winner Prediction\\Dataset/HT_XGBoost predictions.csv',header=True,index=False)"
   ]
  },
  {
   "cell_type": "markdown",
   "metadata": {},
   "source": [
    "### Visualization of the predicted winners"
   ]
  },
  {
   "cell_type": "code",
   "execution_count": 154,
   "metadata": {},
   "outputs": [
    {
     "data": {
      "text/plain": [
       "Text(0.5, 1.0, 'Prediction of the IPL match winner')"
      ]
     },
     "execution_count": 154,
     "metadata": {},
     "output_type": "execute_result"
    },
    {
     "data": {
      "image/png": "[encoded data removed]",
      "text/plain": [
       "<Figure size 792x648 with 1 Axes>"
      ]
     },
     "metadata": {
      "needs_background": "light"
     },
     "output_type": "display_data"
    }
   ],
   "source": [
    "plt.figure(figsize = (11,9))\n",
    "sns.countplot(y = 'Predicted Winner(Encoded)',\n",
    "              data = xgb_predictions,\n",
    "              order= xgb_predictions['Predicted Winner(Encoded)'].value_counts().index,\n",
    "              palette = 'rainbow' )\n",
    "plt.xlabel('Predicted Winnings',fontsize=12)\n",
    "plt.ylabel('Team',fontsize=12)\n",
    "plt.title('Prediction of the IPL match winner',fontsize=16)"
   ]
  },
  {
   "cell_type": "code",
   "execution_count": null,
   "metadata": {},
   "outputs": [],
   "source": []
  }
 ],
 "metadata": {
  "kernelspec": {
   "display_name": "Python 3",
   "language": "python",
   "name": "python3"
  },
  "language_info": {
   "codemirror_mode": {
    "name": "ipython",
    "version": 3
   },
   "file_extension": ".py",
   "mimetype": "text/x-python",
   "name": "python",
   "nbconvert_exporter": "python",
   "pygments_lexer": "ipython3",
   "version": "3.7.9"
  }
 },
 "nbformat": 4,
 "nbformat_minor": 4
}
